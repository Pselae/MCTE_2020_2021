{
  "nbformat": 4,
  "nbformat_minor": 0,
  "metadata": {
    "kernelspec": {
      "display_name": "Python 3",
      "language": "python",
      "name": "python3"
    },
    "language_info": {
      "codemirror_mode": {
        "name": "ipython",
        "version": 3
      },
      "file_extension": ".py",
      "mimetype": "text/x-python",
      "name": "python",
      "nbconvert_exporter": "python",
      "pygments_lexer": "ipython3",
      "version": "3.7.6"
    },
    "colab": {
      "name": "Barrage_ebb_FSM_SensitivityAnalysis.ipynb",
      "provenance": [],
      "include_colab_link": true
    }
  },
  "cells": [
    {
      "cell_type": "markdown",
      "metadata": {
        "id": "view-in-github",
        "colab_type": "text"
      },
      "source": [
        "<a href=\"https://colab.research.google.com/github/joaochenriques/MCTE_2020_2021/blob/main/BarrageExamples/Barrage_ebb_FSM2_SensitivityAnalysis.ipynb\" target=\"_parent\"><img src=\"https://colab.research.google.com/assets/colab-badge.svg\" alt=\"Open In Colab\"/></a>"
      ]
    },
    {
      "cell_type": "code",
      "metadata": {
        "id": "y0PSNQCFH9QU"
      },
      "source": [
        "import matplotlib.pyplot as mpl\n",
        "import numpy as np"
      ],
      "execution_count": 1,
      "outputs": []
    },
    {
      "cell_type": "code",
      "metadata": {
        "id": "Vwc2EpKvzDwk"
      },
      "source": [
        "%config InlineBackend.figure_formats = ['svg']\n",
        "mpl.rcParams[\"figure.figsize\"] = (12, 3)\n",
        "#np.warnings.filterwarnings('error', category=np.VisibleDeprecationWarning) "
      ],
      "execution_count": 2,
      "outputs": []
    },
    {
      "cell_type": "markdown",
      "metadata": {
        "id": "6nPHWWjmqNWx"
      },
      "source": [
        "## Turbine hill map and turbine operating curve\n",
        "\n",
        "Turbine dimensionless numbers\n",
        "\n",
        "* Rotational speed $$n_{11}=\\dfrac{\\Omega D}{\\sqrt{gh}}$$\n",
        "\n",
        "* Flow rate $$Q_{11} = \\dfrac{Q}{D^2\\sqrt{gh}}$$\n",
        "\n",
        "* Efficiency $$\\eta_\\mathrm{turb} = \\dfrac{P_\\mathrm{turb}}{P_\\mathrm{hydro}}$$\n",
        "\n",
        "  where $P_\\mathrm{hydro} = \\rho g h Q$\n",
        "\n",
        "<img src=\"https://raw.githubusercontent.com/joaochenriques/MCTE_2020_2021/main/Barrages_Turbine_Generator_Maps/TurbineHill_Plot.svg\" width=\"500px\" style=\"display:inline\">\n",
        "\n",
        "The in sluicing mode the \"turbine\" is modelled as \n",
        "\n",
        "$$Q_\\mathrm{turb}^\\mathrm{sluice} = C_\\mathrm{d} A_\\mathrm{turb} \\sqrt{ 2 g h }$$\n",
        "\n",
        "where $A_\\mathrm{turb}$ is the area corresponding to the turbine rotor diameter"
      ]
    },
    {
      "cell_type": "code",
      "metadata": {
        "id": "AShbPG_eqPVq"
      },
      "source": [
        "class TurbineModel:\n",
        "\n",
        "  def __init__( self, D_turb, Omega ):\n",
        "    # red line of the map\n",
        "    self.poly_CQ1 = np.poly1d( np.array([0.16928201, 0.08989368]) )\n",
        "    # green line of the map\n",
        "    self.poly_CQ2 = np.poly1d( np.array([-3.63920467e-04,  9.37677378e-03, \n",
        "                                         -9.25873626e-02,  1.75687197e+00]) )\n",
        "\n",
        "    # red line of the map\n",
        "    self.poly_CE1 = np.poly1d( np.array([-0.02076456, 0.20238444, 0.48984553]) )\n",
        "    # green line of the map\n",
        "    self.poly_CE2 = np.poly1d( np.array([-2.75685709e-04,  2.04822984e-03,  \n",
        "                                         6.86081825e-04,  7.93083108e-01]) )\n",
        "\n",
        "    # n11 interpolation domain\n",
        "    self.n11_min = 4.38\n",
        "    self.n11_max = 17.17\n",
        "\n",
        "    # other data\n",
        "    self.ga = 9.8         # gravity aceleration\n",
        "    self.ρw = 1025.0      # water density\n",
        "    self.CD_sluice = 1.0  # discharge coefficient in sluice mode\n",
        "\n",
        "    self.Omega = Omega    # we are assuming constant rotational speed model\n",
        "    self.D_turb = D_turb  # turbine rotor diameter\n",
        "    self.A_turb = np.pi*(D_turb/2.0)**2 \n",
        "\n",
        "    # constants used in for computing n11 and QT\n",
        "    self.CT0 = Omega * D_turb / np.sqrt( self.ga )\n",
        "    self.CT1 = D_turb**2 * np.sqrt( self.ga )\n",
        "\n",
        "  def n11_range( self ):\n",
        "    return self.n11_min, self.n11_max\n",
        "\n",
        "  # dimensionless velocity\n",
        "  def n11( self, h ):\n",
        "    # avoid division by zero on h=0.0\n",
        "    return self.CT0 / np.sqrt( max( h, 1E-3 ) ) \n",
        "\n",
        "  # dimensionless flow rate\n",
        "  def Q11( self, n11 ):\n",
        "    assert( n11 >= self.n11_min ), \"n11 small than admissable minimum\"\n",
        "    assert( n11 <= self.n11_max ), \"n11 greater than admissable maximum\"\n",
        "    if n11 < 7.92193025936073:\n",
        "      return self.poly_CQ1( n11 ) \n",
        "    else:\n",
        "      return self.poly_CQ2( n11 )\n",
        "\n",
        "  # efficiency\n",
        "  def eta( self, n11 ):\n",
        "    assert( n11 >= self.n11_min ), \"n11 small than admissable minimum\"\n",
        "    assert( n11 <= self.n11_max ), \"n11 greater than admissable maximum\"\n",
        "    if n11 < 7.92193025936073:\n",
        "      return self.poly_CE1( n11 ) * 0.912\n",
        "    else:\n",
        "      return self.poly_CE2( n11 ) * 0.912\n",
        "\n",
        "  # computing operational data\n",
        "  def operating_point( self, h ):\n",
        "    n11 = self.n11( h )\n",
        "    QT = self.CT1 * self.Q11( n11 ) * np.sqrt( h )\n",
        "    PH = self.ρw * self.ga * h * QT\n",
        "    ηT = self.eta( n11 )\n",
        "    return QT, PH, ηT  \n",
        "  \n",
        "  # turbine flow rate in sluice mode\n",
        "  def sluicing( self, h ):\n",
        "    QS = -self.CD_sluice * self.A_turb * np.sqrt( 2.0 * self.ga * max( -h, 0.0 ) )\n",
        "    return QS"
      ],
      "execution_count": 3,
      "outputs": []
    },
    {
      "cell_type": "markdown",
      "metadata": {
        "id": "Ua-NyvCooaRt"
      },
      "source": [
        "## Generator efficiency curve\n",
        "\n",
        "The generator efficiency is computed as a function of the load\n",
        "\n",
        "$$\\Lambda = \\dfrac{P_\\mathrm{turb}}{P_\\mathrm{gen}^\\mathrm{rated}}$$\n",
        "\n",
        "\n",
        "<img src=\"https://raw.githubusercontent.com/joaochenriques/MCTE_2020_2021/main/Barrages_Turbine_Generator_Maps/GeneratorEff_plot.svg\" width=\"400px\" style=\"display:inline\">\n"
      ]
    },
    {
      "cell_type": "code",
      "metadata": {
        "id": "4eesXVcLBZfw"
      },
      "source": [
        "class GeneratorModel:\n",
        "\n",
        "  def __init__( self, Pgen_rated ):\n",
        "    self.Pgen_rated = Pgen_rated\n",
        "\n",
        "    # red part of the curve\n",
        "    self.poly_C1 = np.poly1d( np.array([-6.71448631e+03,  2.59159775e+03, \n",
        "                                        -3.80834059e+02,  2.70423225e+01, \n",
        "                                        3.29394948e-03]) )\n",
        "    # green part of the curve\n",
        "    self.poly_C2 = np.poly1d( np.array([-1.16856952,  3.31172525, -3.44296217,  \n",
        "                                        1.5416029 ,  0.71040716]) )\n",
        "      \n",
        "  # efficiency as a function of the load\n",
        "  def eta( self, shaft_power ):\n",
        "    load = shaft_power / self.Pgen_rated\n",
        "    assert( load >= 0.0 ), \"turbine power lower than zero\"\n",
        "    assert( load <= 1.0 ), \"generator rated power to low\"\n",
        "    if load < 0.125423729:\n",
        "      return self.poly_C1( load ) \n",
        "    else:\n",
        "      return self.poly_C2( load )"
      ],
      "execution_count": 4,
      "outputs": []
    },
    {
      "cell_type": "markdown",
      "metadata": {
        "id": "7Qkcw2dT9WCa"
      },
      "source": [
        "## Sluice gates\n",
        "\n",
        "The sluice gates are modelled as a turbulent pressure drop\n",
        "\n",
        "$$Q_\\mathrm{sluice} = C_\\mathrm{d} A \\sqrt{ 2 g h }$$\n",
        "\n",
        "typical discharge coefficients for barrage sluice gates are within the range $0.8 \\le C_\\mathrm{d} \\le 1.2$. Here we use $C_\\mathrm{d}=1.0$. "
      ]
    },
    {
      "cell_type": "code",
      "metadata": {
        "id": "U5xkPKiOXGU_"
      },
      "source": [
        "class GateModel:\n",
        "\n",
        "  def __init__( self, Area ):\n",
        "    self.ga = 9.8\n",
        "    self.Area = Area\n",
        "    self.CD_sluice = 1.0\n",
        "\n",
        "  # flow rate as a function of h\n",
        "  def sluicing( self, h ):\n",
        "    QS = -self.CD_sluice * self.Area * np.sqrt( 2.0 * self.ga * max( -h, 0.0 ) )\n",
        "    return QS"
      ],
      "execution_count": 5,
      "outputs": []
    },
    {
      "cell_type": "markdown",
      "metadata": {
        "id": "tj7lqtYL_NC1"
      },
      "source": [
        "## Basin modelling\n",
        "\n",
        "The basin is modelled as a \"shoe box\". The out flow is denoted as positive.\n",
        "\n",
        "The instantaneous basin volume is computed from\n",
        "\n",
        "$$\\dfrac{\\mathrm{d}V}{\\mathrm{d}t}=-Q.$$\n",
        "\n",
        "The integrating with the Euler method we get\n",
        "\n",
        "$$V(t+\\Delta t)=V(t)-\\Delta t\\,Q.$$\n",
        "\n",
        "The instantaneous basin level is given by\n",
        "\n",
        "$$h = \\dfrac{V}{A_\\mathrm{basin}},$$\n",
        "\n",
        "where $A_\\mathrm{basin}$ is the basin area.\n",
        "\n",
        "<img src=\"https://raw.githubusercontent.com/joaochenriques/MCTE_2020_2021/main/BarrageExamples/Figures/BasinShoeBox.svg\" width=\"300px\" style=\"display:inline\">\n",
        "\n"
      ]
    },
    {
      "cell_type": "code",
      "metadata": {
        "id": "i9r0kiD4D2KP"
      },
      "source": [
        "class BasinModel:\n",
        "\n",
        "  def __init__( self, A_basin, h0 ):\n",
        "    self.A_basin = A_basin\n",
        "    self.V0 = A_basin * h0\n",
        "    self.V = None\n",
        "\n",
        "  # set initial condition\n",
        "  def start( self ):\n",
        "    self.V = self.V0\n",
        "    return self.level()\n",
        "\n",
        "  # compute volume \n",
        "  def integrate( self, delta_t, Q ):\n",
        "    self.V = self.V - delta_t * Q\n",
        "    return self.level()\n",
        "\n",
        "  # water level in the base \n",
        "  def level( self ):\n",
        "      return self.V / self.A_basin"
      ],
      "execution_count": 6,
      "outputs": []
    },
    {
      "cell_type": "markdown",
      "metadata": {
        "id": "hp-B8fMfG80s"
      },
      "source": [
        "## Tide modelling\n",
        "\n",
        "The tide level is assumed to be a trignometric series\n",
        "\n",
        "$$z(t) = \\sum_i^n \\zeta_i \\cos\\left( \\omega_i t + \\phi_i \\right).$$\n",
        "\n",
        "Since the available head to the turbine is a function of the tide level,\n",
        "the minimum head required to start the turbine is also implemented in this class.  "
      ]
    },
    {
      "cell_type": "code",
      "metadata": {
        "id": "N3tqN9T5x5O_"
      },
      "source": [
        "class TideModel:\n",
        " \n",
        "  #  ζ_tide, period and φ_tide are vector to allow simulate \n",
        "  # multi-component tides\n",
        "  def __init__( self, ζ_tide, τ_tide, φ_tide ):\n",
        "      self.ζ_tide = ζ_tide # tide amplitude\n",
        "      self.τ_tide = τ_tide # tide period\n",
        "      self.ω_tide = 2.0 * np.pi / τ_tide \n",
        "      self.φ_tide = φ_tide\n",
        "\n",
        "  # tide level as a function t\n",
        "  def level( self, t ):    \n",
        "      return self.ζ_tide * np.cos( self.ω_tide * t + self.φ_tide )\n",
        "\n",
        "  # minimum head to start the turbine as a function t\n",
        "  def minimum_turbine_head( self, t ):\n",
        "    return 8.0"
      ],
      "execution_count": 7,
      "outputs": []
    },
    {
      "cell_type": "markdown",
      "metadata": {
        "id": "NivnLxwb0lNb"
      },
      "source": [
        "## Power plant operation model \n",
        "\n",
        "The power plant modelling and control is based in the following finite state machine\n",
        " \n",
        "<img src=\"https://raw.githubusercontent.com/joaochenriques/MCTE_2020_2021/main/BarrageExamples/Figures/EbbOperation.svg\" width=\"700px\" style=\"display:inline\">"
      ]
    },
    {
      "cell_type": "code",
      "metadata": {
        "id": "ijXuuVpj6eOR"
      },
      "source": [
        "class EbbOperations_FSM:\n",
        "\n",
        "  #===================================================\n",
        "  def __init__( self ):\n",
        "    self.transitions = [ self.__transition_0_1, \n",
        "                         self.__transition_1_2,\n",
        "                         self.__transition_2_3,\n",
        "                         self.__transition_3_4,\n",
        "                         self.__transition_4_1 ]\n",
        "\n",
        "    self.states = [ self.__run_state_hold,\n",
        "                    self.__run_state_generate,\n",
        "                    self.__run_state_hold,\n",
        "                    self.__run_state_fill,\n",
        "                    self.__run_state_hold ]         \n",
        "\n",
        "    self.cur_state = 0\n",
        "\n",
        "  #== TRANSITIONS ====================================\n",
        "  def __transition_0_1( self, h, h_min, n11, n11_max ):\n",
        "    if ( h - h_min ) > 0.0:\n",
        "      self.cur_state = 1\n",
        "\n",
        "  def __transition_1_2( self, h, h_min, n11, n11_max ):\n",
        "    if ( n11 - n11_max ) >  0.0:\n",
        "      self.cur_state = 2\n",
        "\n",
        "  def __transition_2_3( self, h, h_min, n11, n11_max ):\n",
        "    if h < 0.0:\n",
        "      self.cur_state = 3\n",
        "\n",
        "  def __transition_3_4( self, h, h_min, n11, n11_max ):\n",
        "    if h > 0.0:\n",
        "      self.cur_state = 4\n",
        "\n",
        "  def __transition_4_1( self, h, h_min, n11, n11_max ):\n",
        "    if ( h - h_min ) > 0.0:\n",
        "      self.cur_state = 1\n",
        "\n",
        "  #== STATES =========================================\n",
        "  def __run_state_hold( self, h, _ ):\n",
        "    QS = QT = PH = ηT = ηG = 0\n",
        "    return QS, QT, PH, ηT, ηG\n",
        "\n",
        "  def __run_state_generate( self, h, models ):\n",
        "    QS = 0.0\n",
        "    QT, PH, ηT = models.turbine.operating_point( h )\n",
        "    ηG = models.generator.eta( ηT * PH )\n",
        "    return QS, QT, PH, ηT, ηG\n",
        "\n",
        "  def __run_state_fill( self, h, models ):\n",
        "    QS = models.gate.sluicing( h )\n",
        "    QT = models.turbine.sluicing( h )\n",
        "    PH = ηT = ηG = 0.0\n",
        "    return QS, QT, PH, ηT, ηG\n",
        "\n",
        "  #== RUN FSM ========================================\n",
        "  def transition( self, h, h_min, n11, n11_max ):\n",
        "    self.transitions[ self.cur_state ]( h, h_min, n11, n11_max )\n",
        "    return self.cur_state\n",
        "\n",
        "  def run_state( self, h, models ):\n",
        "    return self.states[ self.cur_state ]( h, models )\n",
        "\n",
        "  #== RUN POWER PLANT MODEL ==========================\n",
        "  def run_model( self, delta_t, t_final, models ):\n",
        "\n",
        "\n",
        "    #==============================================\n",
        "    t = delta_t                    # time step\n",
        "    n = int( t_final / delta_t )   # number of time steps\n",
        "\n",
        "    #==============================================\n",
        "    # store computed time series\n",
        "    time_vec = np.zeros( n )  # time \n",
        "    tide_vec = np.zeros( n )  # tide level\n",
        "\n",
        "    s_vec  = np.zeros( n )    # control stages\n",
        "    h_vec  = np.zeros( n )    # water height level\n",
        "    z_vec  = np.zeros( n )    # basin level\n",
        "    QS_vec = np.zeros( n )    # sluice gates + turbine flow rate on sluicing\n",
        "    QT_vec = np.zeros( n )    # turbine flow rate\n",
        "    PH_vec = np.zeros( n )    # hydraulic power\n",
        "    ηT_vec = np.zeros( n )    # turbine efficiency\n",
        "    ηG_vec = np.zeros( n )    # generator efficiency\n",
        "\n",
        "    #==============================================\n",
        "    n11_min, n11_max = models.turbine.n11_range()\n",
        "    z = models.basin.start()\n",
        "    ζ = models.tide.level( 0.0 )\n",
        "    h = z - ζ\n",
        "    \n",
        "    #==============================================\n",
        "    tide_vec[0] = ζ\n",
        "    h_vec[0] = h\n",
        "    z_vec[0] = z\n",
        "\n",
        "    #==============================================\n",
        "    for i in range( 1, n ):\n",
        "\n",
        "      t = i * delta_t\n",
        "\n",
        "      # select state\n",
        "      h_min = models.tide.minimum_turbine_head( t )\n",
        "      n11 = models.turbine.n11( h )\n",
        "      state = self.transition( h, h_min, n11, n11_max )\n",
        "\n",
        "      # compute state\n",
        "      QS, QT, PH, ηT, ηG = self.run_state( h, models )\n",
        "\n",
        "      # new basin condition as a function of flow rate (turbines+sluice gates) \n",
        "      z = models.basin.integrate( delta_t, models.n_turbs*QT + models.n_gates*QS )\n",
        "      ζ = models.tide.level( t )\n",
        "      h = z - ζ\n",
        "\n",
        "      #==========================================\n",
        "      # store data for post-processing\n",
        "      time_vec[i] = t\n",
        "      tide_vec[i] = ζ\n",
        "\n",
        "      s_vec[i]  = state\n",
        "      h_vec[i]  = h\n",
        "      z_vec[i]  = z\n",
        "      QS_vec[i] = QS\n",
        "      QT_vec[i] = QT\n",
        "      PH_vec[i] = PH\n",
        "      ηT_vec[i] = ηT\n",
        "      ηG_vec[i] = ηG\n",
        "  \n",
        "    return time_vec, tide_vec, s_vec, h_vec, z_vec, QS_vec, \\\n",
        "            QT_vec, PH_vec, ηT_vec, ηG_vec"
      ],
      "execution_count": 8,
      "outputs": []
    },
    {
      "cell_type": "code",
      "metadata": {
        "id": "18snnDcZH9Qb"
      },
      "source": [
        "class Models:\n",
        "\n",
        "    def __init__( self, n_turbs, Dturb, Pgen_rated,\n",
        "                        n_gates, Agates ):\n",
        "\n",
        "      self.n_turbs = n_turbs # number of turbines\n",
        "      self.n_gates = n_gates  # number of sluice gates\n",
        "\n",
        "      self.turbine = TurbineModel( D_turb = Dturb, Omega = 93.75*np.pi/30.0 )\n",
        "      self.generator = GeneratorModel( Pgen_rated = Pgen_rated )\n",
        "      \n",
        "      self.gate = GateModel( Area = Agates )\n",
        "\n",
        "      # The tide amplitude, ζ_tide, tide period, τ_tide, and tide phase, φ_tide, are\n",
        "      # vectors. Add vector entries to model more than one tide component   \n",
        "      self.tide_period = 12.0*3600.0 + 25.2*60.0\n",
        "\n",
        "      self.tide = TideModel( ζ_tide = np.array( [ 6.75 ] ), \n",
        "                        τ_tide = np.array( [ self.tide_period ] ),\n",
        "                        φ_tide = np.array( [ 0.0 ] ) )\n",
        "      \n",
        "      # h0 is the initial basin level\n",
        "      self.basin = BasinModel( A_basin = 22E6, h0 = 8 )\n",
        "\n",
        "def SensitivityAnalysis_Dturb( Dturb_lst ):\n",
        "\n",
        "    simulator = EbbOperations_FSM()\n",
        "\n",
        "    n = len( Dturb_lst )\n",
        "    PG_max_array = np.zeros( n )\n",
        "    PG_avg_array = np.zeros( n )\n",
        "    C_fac_array = np.zeros( n )\n",
        "\n",
        "    for i in range( n ):\n",
        "\n",
        "        models = Models( n_turbs = 24, Dturb = Dturb_lst[i], \n",
        "                         Pgen_rated = 65E6,\n",
        "                         n_gates = 6, Agates = 10.0*15.0)\n",
        "\n",
        "        simul_time = 5*models.tide.τ_tide[0]\n",
        "\n",
        "        time_vec, tide_vec, s_vec, h_vec, z_vec, QS_vec, QT_vec, PH_vec, \\\n",
        "          ηT_vec, ηG_vec = simulator.run_model( 100.0, simul_time, models )\n",
        "\n",
        "        PH_vec /= 1E6 # convert to MW\n",
        "        PG_vec = PH_vec * ηT_vec * ηG_vec\n",
        "\n",
        "        PG_max_array[i] = np.max( PG_vec )\n",
        "        PG_avg_array[i] = np.mean( PG_vec )\n",
        "        C_fac_array[i] = PG_avg_array[i] / models.generator.Pgen_rated\n",
        "\n",
        "        del models\n",
        "\n",
        "    return PG_max_array, PG_avg_array, C_fac_array"
      ],
      "execution_count": 13,
      "outputs": []
    },
    {
      "cell_type": "code",
      "metadata": {
        "id": "VmlbEm_JF7Q5"
      },
      "source": [
        "Dturb_lst = np.arange( 5.0, 10, 0.2 )\n",
        "PG_max_array, PG_avg_array, C_fac_array = SensitivityAnalysis_Dturb( Dturb_lst )"
      ],
      "execution_count": 25,
      "outputs": []
    },
    {
      "cell_type": "code",
      "metadata": {
        "id": "I4Fzw0p-02U-",
        "colab": {
          "base_uri": "https://localhost:8080/",
          "height": 279
        },
        "outputId": "8dca3887-a031-4a0b-a1d8-7322fd81c7c3"
      },
      "source": [
        "mpl.plot( Dturb_lst, PG_avg_array, 'o-' );"
      ],
      "execution_count": 26,
      "outputs": [
        {
          "output_type": "display_data",
          "data": {
            "text/plain": [
              "<Figure size 864x216 with 1 Axes>"
            ],
            "image/svg+xml": "<?xml version=\"1.0\" encoding=\"utf-8\" standalone=\"no\"?>\n<!DOCTYPE svg PUBLIC \"-//W3C//DTD SVG 1.1//EN\"\n  \"http://www.w3.org/Graphics/SVG/1.1/DTD/svg11.dtd\">\n<!-- Created with matplotlib (https://matplotlib.org/) -->\n<svg height=\"194.158125pt\" version=\"1.1\" viewBox=\"0 0 708.192898 194.158125\" width=\"708.192898pt\" xmlns=\"http://www.w3.org/2000/svg\" xmlns:xlink=\"http://www.w3.org/1999/xlink\">\n <defs>\n  <style type=\"text/css\">\n*{stroke-linecap:butt;stroke-linejoin:round;}\n  </style>\n </defs>\n <g id=\"figure_1\">\n  <g id=\"patch_1\">\n   <path d=\"M 0 194.158125 \nL 708.192898 194.158125 \nL 708.192898 0 \nL 0 0 \nz\n\" style=\"fill:none;\"/>\n  </g>\n  <g id=\"axes_1\">\n   <g id=\"patch_2\">\n    <path d=\"M 30.103125 170.28 \nL 699.703125 170.28 \nL 699.703125 7.2 \nL 30.103125 7.2 \nz\n\" style=\"fill:#ffffff;\"/>\n   </g>\n   <g id=\"matplotlib.axis_1\">\n    <g id=\"xtick_1\">\n     <g id=\"line2d_1\">\n      <defs>\n       <path d=\"M 0 0 \nL 0 3.5 \n\" id=\"m5fe2f257a0\" style=\"stroke:#000000;stroke-width:0.8;\"/>\n      </defs>\n      <g>\n       <use style=\"stroke:#000000;stroke-width:0.8;\" x=\"60.539489\" xlink:href=\"#m5fe2f257a0\" y=\"170.28\"/>\n      </g>\n     </g>\n     <g id=\"text_1\">\n      <!-- 5 -->\n      <defs>\n       <path d=\"M 10.796875 72.90625 \nL 49.515625 72.90625 \nL 49.515625 64.59375 \nL 19.828125 64.59375 \nL 19.828125 46.734375 \nQ 21.96875 47.46875 24.109375 47.828125 \nQ 26.265625 48.1875 28.421875 48.1875 \nQ 40.625 48.1875 47.75 41.5 \nQ 54.890625 34.8125 54.890625 23.390625 \nQ 54.890625 11.625 47.5625 5.09375 \nQ 40.234375 -1.421875 26.90625 -1.421875 \nQ 22.3125 -1.421875 17.546875 -0.640625 \nQ 12.796875 0.140625 7.71875 1.703125 \nL 7.71875 11.625 \nQ 12.109375 9.234375 16.796875 8.0625 \nQ 21.484375 6.890625 26.703125 6.890625 \nQ 35.15625 6.890625 40.078125 11.328125 \nQ 45.015625 15.765625 45.015625 23.390625 \nQ 45.015625 31 40.078125 35.4375 \nQ 35.15625 39.890625 26.703125 39.890625 \nQ 22.75 39.890625 18.8125 39.015625 \nQ 14.890625 38.140625 10.796875 36.28125 \nz\n\" id=\"DejaVuSans-53\"/>\n      </defs>\n      <g transform=\"translate(57.358239 184.878438)scale(0.1 -0.1)\">\n       <use xlink:href=\"#DejaVuSans-53\"/>\n      </g>\n     </g>\n    </g>\n    <g id=\"xtick_2\">\n     <g id=\"line2d_2\">\n      <g>\n       <use style=\"stroke:#000000;stroke-width:0.8;\" x=\"187.35767\" xlink:href=\"#m5fe2f257a0\" y=\"170.28\"/>\n      </g>\n     </g>\n     <g id=\"text_2\">\n      <!-- 6 -->\n      <defs>\n       <path d=\"M 33.015625 40.375 \nQ 26.375 40.375 22.484375 35.828125 \nQ 18.609375 31.296875 18.609375 23.390625 \nQ 18.609375 15.53125 22.484375 10.953125 \nQ 26.375 6.390625 33.015625 6.390625 \nQ 39.65625 6.390625 43.53125 10.953125 \nQ 47.40625 15.53125 47.40625 23.390625 \nQ 47.40625 31.296875 43.53125 35.828125 \nQ 39.65625 40.375 33.015625 40.375 \nz\nM 52.59375 71.296875 \nL 52.59375 62.3125 \nQ 48.875 64.0625 45.09375 64.984375 \nQ 41.3125 65.921875 37.59375 65.921875 \nQ 27.828125 65.921875 22.671875 59.328125 \nQ 17.53125 52.734375 16.796875 39.40625 \nQ 19.671875 43.65625 24.015625 45.921875 \nQ 28.375 48.1875 33.59375 48.1875 \nQ 44.578125 48.1875 50.953125 41.515625 \nQ 57.328125 34.859375 57.328125 23.390625 \nQ 57.328125 12.15625 50.6875 5.359375 \nQ 44.046875 -1.421875 33.015625 -1.421875 \nQ 20.359375 -1.421875 13.671875 8.265625 \nQ 6.984375 17.96875 6.984375 36.375 \nQ 6.984375 53.65625 15.1875 63.9375 \nQ 23.390625 74.21875 37.203125 74.21875 \nQ 40.921875 74.21875 44.703125 73.484375 \nQ 48.484375 72.75 52.59375 71.296875 \nz\n\" id=\"DejaVuSans-54\"/>\n      </defs>\n      <g transform=\"translate(184.17642 184.878438)scale(0.1 -0.1)\">\n       <use xlink:href=\"#DejaVuSans-54\"/>\n      </g>\n     </g>\n    </g>\n    <g id=\"xtick_3\">\n     <g id=\"line2d_3\">\n      <g>\n       <use style=\"stroke:#000000;stroke-width:0.8;\" x=\"314.175852\" xlink:href=\"#m5fe2f257a0\" y=\"170.28\"/>\n      </g>\n     </g>\n     <g id=\"text_3\">\n      <!-- 7 -->\n      <defs>\n       <path d=\"M 8.203125 72.90625 \nL 55.078125 72.90625 \nL 55.078125 68.703125 \nL 28.609375 0 \nL 18.3125 0 \nL 43.21875 64.59375 \nL 8.203125 64.59375 \nz\n\" id=\"DejaVuSans-55\"/>\n      </defs>\n      <g transform=\"translate(310.994602 184.878438)scale(0.1 -0.1)\">\n       <use xlink:href=\"#DejaVuSans-55\"/>\n      </g>\n     </g>\n    </g>\n    <g id=\"xtick_4\">\n     <g id=\"line2d_4\">\n      <g>\n       <use style=\"stroke:#000000;stroke-width:0.8;\" x=\"440.994034\" xlink:href=\"#m5fe2f257a0\" y=\"170.28\"/>\n      </g>\n     </g>\n     <g id=\"text_4\">\n      <!-- 8 -->\n      <defs>\n       <path d=\"M 31.78125 34.625 \nQ 24.75 34.625 20.71875 30.859375 \nQ 16.703125 27.09375 16.703125 20.515625 \nQ 16.703125 13.921875 20.71875 10.15625 \nQ 24.75 6.390625 31.78125 6.390625 \nQ 38.8125 6.390625 42.859375 10.171875 \nQ 46.921875 13.96875 46.921875 20.515625 \nQ 46.921875 27.09375 42.890625 30.859375 \nQ 38.875 34.625 31.78125 34.625 \nz\nM 21.921875 38.8125 \nQ 15.578125 40.375 12.03125 44.71875 \nQ 8.5 49.078125 8.5 55.328125 \nQ 8.5 64.0625 14.71875 69.140625 \nQ 20.953125 74.21875 31.78125 74.21875 \nQ 42.671875 74.21875 48.875 69.140625 \nQ 55.078125 64.0625 55.078125 55.328125 \nQ 55.078125 49.078125 51.53125 44.71875 \nQ 48 40.375 41.703125 38.8125 \nQ 48.828125 37.15625 52.796875 32.3125 \nQ 56.78125 27.484375 56.78125 20.515625 \nQ 56.78125 9.90625 50.3125 4.234375 \nQ 43.84375 -1.421875 31.78125 -1.421875 \nQ 19.734375 -1.421875 13.25 4.234375 \nQ 6.78125 9.90625 6.78125 20.515625 \nQ 6.78125 27.484375 10.78125 32.3125 \nQ 14.796875 37.15625 21.921875 38.8125 \nz\nM 18.3125 54.390625 \nQ 18.3125 48.734375 21.84375 45.5625 \nQ 25.390625 42.390625 31.78125 42.390625 \nQ 38.140625 42.390625 41.71875 45.5625 \nQ 45.3125 48.734375 45.3125 54.390625 \nQ 45.3125 60.0625 41.71875 63.234375 \nQ 38.140625 66.40625 31.78125 66.40625 \nQ 25.390625 66.40625 21.84375 63.234375 \nQ 18.3125 60.0625 18.3125 54.390625 \nz\n\" id=\"DejaVuSans-56\"/>\n      </defs>\n      <g transform=\"translate(437.812784 184.878438)scale(0.1 -0.1)\">\n       <use xlink:href=\"#DejaVuSans-56\"/>\n      </g>\n     </g>\n    </g>\n    <g id=\"xtick_5\">\n     <g id=\"line2d_5\">\n      <g>\n       <use style=\"stroke:#000000;stroke-width:0.8;\" x=\"567.812216\" xlink:href=\"#m5fe2f257a0\" y=\"170.28\"/>\n      </g>\n     </g>\n     <g id=\"text_5\">\n      <!-- 9 -->\n      <defs>\n       <path d=\"M 10.984375 1.515625 \nL 10.984375 10.5 \nQ 14.703125 8.734375 18.5 7.8125 \nQ 22.3125 6.890625 25.984375 6.890625 \nQ 35.75 6.890625 40.890625 13.453125 \nQ 46.046875 20.015625 46.78125 33.40625 \nQ 43.953125 29.203125 39.59375 26.953125 \nQ 35.25 24.703125 29.984375 24.703125 \nQ 19.046875 24.703125 12.671875 31.3125 \nQ 6.296875 37.9375 6.296875 49.421875 \nQ 6.296875 60.640625 12.9375 67.421875 \nQ 19.578125 74.21875 30.609375 74.21875 \nQ 43.265625 74.21875 49.921875 64.515625 \nQ 56.59375 54.828125 56.59375 36.375 \nQ 56.59375 19.140625 48.40625 8.859375 \nQ 40.234375 -1.421875 26.421875 -1.421875 \nQ 22.703125 -1.421875 18.890625 -0.6875 \nQ 15.09375 0.046875 10.984375 1.515625 \nz\nM 30.609375 32.421875 \nQ 37.25 32.421875 41.125 36.953125 \nQ 45.015625 41.5 45.015625 49.421875 \nQ 45.015625 57.28125 41.125 61.84375 \nQ 37.25 66.40625 30.609375 66.40625 \nQ 23.96875 66.40625 20.09375 61.84375 \nQ 16.21875 57.28125 16.21875 49.421875 \nQ 16.21875 41.5 20.09375 36.953125 \nQ 23.96875 32.421875 30.609375 32.421875 \nz\n\" id=\"DejaVuSans-57\"/>\n      </defs>\n      <g transform=\"translate(564.630966 184.878438)scale(0.1 -0.1)\">\n       <use xlink:href=\"#DejaVuSans-57\"/>\n      </g>\n     </g>\n    </g>\n    <g id=\"xtick_6\">\n     <g id=\"line2d_6\">\n      <g>\n       <use style=\"stroke:#000000;stroke-width:0.8;\" x=\"694.630398\" xlink:href=\"#m5fe2f257a0\" y=\"170.28\"/>\n      </g>\n     </g>\n     <g id=\"text_6\">\n      <!-- 10 -->\n      <defs>\n       <path d=\"M 12.40625 8.296875 \nL 28.515625 8.296875 \nL 28.515625 63.921875 \nL 10.984375 60.40625 \nL 10.984375 69.390625 \nL 28.421875 72.90625 \nL 38.28125 72.90625 \nL 38.28125 8.296875 \nL 54.390625 8.296875 \nL 54.390625 0 \nL 12.40625 0 \nz\n\" id=\"DejaVuSans-49\"/>\n       <path d=\"M 31.78125 66.40625 \nQ 24.171875 66.40625 20.328125 58.90625 \nQ 16.5 51.421875 16.5 36.375 \nQ 16.5 21.390625 20.328125 13.890625 \nQ 24.171875 6.390625 31.78125 6.390625 \nQ 39.453125 6.390625 43.28125 13.890625 \nQ 47.125 21.390625 47.125 36.375 \nQ 47.125 51.421875 43.28125 58.90625 \nQ 39.453125 66.40625 31.78125 66.40625 \nz\nM 31.78125 74.21875 \nQ 44.046875 74.21875 50.515625 64.515625 \nQ 56.984375 54.828125 56.984375 36.375 \nQ 56.984375 17.96875 50.515625 8.265625 \nQ 44.046875 -1.421875 31.78125 -1.421875 \nQ 19.53125 -1.421875 13.0625 8.265625 \nQ 6.59375 17.96875 6.59375 36.375 \nQ 6.59375 54.828125 13.0625 64.515625 \nQ 19.53125 74.21875 31.78125 74.21875 \nz\n\" id=\"DejaVuSans-48\"/>\n      </defs>\n      <g transform=\"translate(688.267898 184.878438)scale(0.1 -0.1)\">\n       <use xlink:href=\"#DejaVuSans-49\"/>\n       <use x=\"63.623047\" xlink:href=\"#DejaVuSans-48\"/>\n      </g>\n     </g>\n    </g>\n   </g>\n   <g id=\"matplotlib.axis_2\">\n    <g id=\"ytick_1\">\n     <g id=\"line2d_7\">\n      <defs>\n       <path d=\"M 0 0 \nL -3.5 0 \n\" id=\"mf71388e77c\" style=\"stroke:#000000;stroke-width:0.8;\"/>\n      </defs>\n      <g>\n       <use style=\"stroke:#000000;stroke-width:0.8;\" x=\"30.103125\" xlink:href=\"#mf71388e77c\" y=\"147.468413\"/>\n      </g>\n     </g>\n     <g id=\"text_7\">\n      <!-- 7.0 -->\n      <defs>\n       <path d=\"M 10.6875 12.40625 \nL 21 12.40625 \nL 21 0 \nL 10.6875 0 \nz\n\" id=\"DejaVuSans-46\"/>\n      </defs>\n      <g transform=\"translate(7.2 151.267632)scale(0.1 -0.1)\">\n       <use xlink:href=\"#DejaVuSans-55\"/>\n       <use x=\"63.623047\" xlink:href=\"#DejaVuSans-46\"/>\n       <use x=\"95.410156\" xlink:href=\"#DejaVuSans-48\"/>\n      </g>\n     </g>\n    </g>\n    <g id=\"ytick_2\">\n     <g id=\"line2d_8\">\n      <g>\n       <use style=\"stroke:#000000;stroke-width:0.8;\" x=\"30.103125\" xlink:href=\"#mf71388e77c\" y=\"122.907868\"/>\n      </g>\n     </g>\n     <g id=\"text_8\">\n      <!-- 7.5 -->\n      <g transform=\"translate(7.2 126.707086)scale(0.1 -0.1)\">\n       <use xlink:href=\"#DejaVuSans-55\"/>\n       <use x=\"63.623047\" xlink:href=\"#DejaVuSans-46\"/>\n       <use x=\"95.410156\" xlink:href=\"#DejaVuSans-53\"/>\n      </g>\n     </g>\n    </g>\n    <g id=\"ytick_3\">\n     <g id=\"line2d_9\">\n      <g>\n       <use style=\"stroke:#000000;stroke-width:0.8;\" x=\"30.103125\" xlink:href=\"#mf71388e77c\" y=\"98.347322\"/>\n      </g>\n     </g>\n     <g id=\"text_9\">\n      <!-- 8.0 -->\n      <g transform=\"translate(7.2 102.146541)scale(0.1 -0.1)\">\n       <use xlink:href=\"#DejaVuSans-56\"/>\n       <use x=\"63.623047\" xlink:href=\"#DejaVuSans-46\"/>\n       <use x=\"95.410156\" xlink:href=\"#DejaVuSans-48\"/>\n      </g>\n     </g>\n    </g>\n    <g id=\"ytick_4\">\n     <g id=\"line2d_10\">\n      <g>\n       <use style=\"stroke:#000000;stroke-width:0.8;\" x=\"30.103125\" xlink:href=\"#mf71388e77c\" y=\"73.786777\"/>\n      </g>\n     </g>\n     <g id=\"text_10\">\n      <!-- 8.5 -->\n      <g transform=\"translate(7.2 77.585995)scale(0.1 -0.1)\">\n       <use xlink:href=\"#DejaVuSans-56\"/>\n       <use x=\"63.623047\" xlink:href=\"#DejaVuSans-46\"/>\n       <use x=\"95.410156\" xlink:href=\"#DejaVuSans-53\"/>\n      </g>\n     </g>\n    </g>\n    <g id=\"ytick_5\">\n     <g id=\"line2d_11\">\n      <g>\n       <use style=\"stroke:#000000;stroke-width:0.8;\" x=\"30.103125\" xlink:href=\"#mf71388e77c\" y=\"49.226231\"/>\n      </g>\n     </g>\n     <g id=\"text_11\">\n      <!-- 9.0 -->\n      <g transform=\"translate(7.2 53.02545)scale(0.1 -0.1)\">\n       <use xlink:href=\"#DejaVuSans-57\"/>\n       <use x=\"63.623047\" xlink:href=\"#DejaVuSans-46\"/>\n       <use x=\"95.410156\" xlink:href=\"#DejaVuSans-48\"/>\n      </g>\n     </g>\n    </g>\n    <g id=\"ytick_6\">\n     <g id=\"line2d_12\">\n      <g>\n       <use style=\"stroke:#000000;stroke-width:0.8;\" x=\"30.103125\" xlink:href=\"#mf71388e77c\" y=\"24.665686\"/>\n      </g>\n     </g>\n     <g id=\"text_12\">\n      <!-- 9.5 -->\n      <g transform=\"translate(7.2 28.464905)scale(0.1 -0.1)\">\n       <use xlink:href=\"#DejaVuSans-57\"/>\n       <use x=\"63.623047\" xlink:href=\"#DejaVuSans-46\"/>\n       <use x=\"95.410156\" xlink:href=\"#DejaVuSans-53\"/>\n      </g>\n     </g>\n    </g>\n   </g>\n   <g id=\"line2d_13\">\n    <path clip-path=\"url(#p93f8e921f4)\" d=\"M 60.539489 134.997813 \nL 85.903125 108.37837 \nL 111.266761 84.164022 \nL 136.630398 62.824051 \nL 161.994034 44.834364 \nL 187.35767 30.623625 \nL 212.721307 21.015268 \nL 238.084943 15.395141 \nL 263.44858 14.612727 \nL 288.812216 17.931748 \nL 314.175852 26.017758 \nL 339.539489 35.48857 \nL 364.903125 40.549924 \nL 390.266761 41.933325 \nL 415.630398 46.506832 \nL 440.994034 51.298978 \nL 466.35767 58.865984 \nL 491.721307 66.725278 \nL 517.084943 77.465557 \nL 542.44858 87.661783 \nL 567.812216 101.307912 \nL 593.175852 114.918845 \nL 618.539489 128.707912 \nL 643.903125 146.121645 \nL 669.266761 162.867273 \n\" style=\"fill:none;stroke:#1f77b4;stroke-linecap:square;stroke-width:1.5;\"/>\n    <defs>\n     <path d=\"M 0 3 \nC 0.795609 3 1.55874 2.683901 2.12132 2.12132 \nC 2.683901 1.55874 3 0.795609 3 0 \nC 3 -0.795609 2.683901 -1.55874 2.12132 -2.12132 \nC 1.55874 -2.683901 0.795609 -3 0 -3 \nC -0.795609 -3 -1.55874 -2.683901 -2.12132 -2.12132 \nC -2.683901 -1.55874 -3 -0.795609 -3 0 \nC -3 0.795609 -2.683901 1.55874 -2.12132 2.12132 \nC -1.55874 2.683901 -0.795609 3 0 3 \nz\n\" id=\"mb033df3f86\" style=\"stroke:#1f77b4;\"/>\n    </defs>\n    <g clip-path=\"url(#p93f8e921f4)\">\n     <use style=\"fill:#1f77b4;stroke:#1f77b4;\" x=\"60.539489\" xlink:href=\"#mb033df3f86\" y=\"134.997813\"/>\n     <use style=\"fill:#1f77b4;stroke:#1f77b4;\" x=\"85.903125\" xlink:href=\"#mb033df3f86\" y=\"108.37837\"/>\n     <use style=\"fill:#1f77b4;stroke:#1f77b4;\" x=\"111.266761\" xlink:href=\"#mb033df3f86\" y=\"84.164022\"/>\n     <use style=\"fill:#1f77b4;stroke:#1f77b4;\" x=\"136.630398\" xlink:href=\"#mb033df3f86\" y=\"62.824051\"/>\n     <use style=\"fill:#1f77b4;stroke:#1f77b4;\" x=\"161.994034\" xlink:href=\"#mb033df3f86\" y=\"44.834364\"/>\n     <use style=\"fill:#1f77b4;stroke:#1f77b4;\" x=\"187.35767\" xlink:href=\"#mb033df3f86\" y=\"30.623625\"/>\n     <use style=\"fill:#1f77b4;stroke:#1f77b4;\" x=\"212.721307\" xlink:href=\"#mb033df3f86\" y=\"21.015268\"/>\n     <use style=\"fill:#1f77b4;stroke:#1f77b4;\" x=\"238.084943\" xlink:href=\"#mb033df3f86\" y=\"15.395141\"/>\n     <use style=\"fill:#1f77b4;stroke:#1f77b4;\" x=\"263.44858\" xlink:href=\"#mb033df3f86\" y=\"14.612727\"/>\n     <use style=\"fill:#1f77b4;stroke:#1f77b4;\" x=\"288.812216\" xlink:href=\"#mb033df3f86\" y=\"17.931748\"/>\n     <use style=\"fill:#1f77b4;stroke:#1f77b4;\" x=\"314.175852\" xlink:href=\"#mb033df3f86\" y=\"26.017758\"/>\n     <use style=\"fill:#1f77b4;stroke:#1f77b4;\" x=\"339.539489\" xlink:href=\"#mb033df3f86\" y=\"35.48857\"/>\n     <use style=\"fill:#1f77b4;stroke:#1f77b4;\" x=\"364.903125\" xlink:href=\"#mb033df3f86\" y=\"40.549924\"/>\n     <use style=\"fill:#1f77b4;stroke:#1f77b4;\" x=\"390.266761\" xlink:href=\"#mb033df3f86\" y=\"41.933325\"/>\n     <use style=\"fill:#1f77b4;stroke:#1f77b4;\" x=\"415.630398\" xlink:href=\"#mb033df3f86\" y=\"46.506832\"/>\n     <use style=\"fill:#1f77b4;stroke:#1f77b4;\" x=\"440.994034\" xlink:href=\"#mb033df3f86\" y=\"51.298978\"/>\n     <use style=\"fill:#1f77b4;stroke:#1f77b4;\" x=\"466.35767\" xlink:href=\"#mb033df3f86\" y=\"58.865984\"/>\n     <use style=\"fill:#1f77b4;stroke:#1f77b4;\" x=\"491.721307\" xlink:href=\"#mb033df3f86\" y=\"66.725278\"/>\n     <use style=\"fill:#1f77b4;stroke:#1f77b4;\" x=\"517.084943\" xlink:href=\"#mb033df3f86\" y=\"77.465557\"/>\n     <use style=\"fill:#1f77b4;stroke:#1f77b4;\" x=\"542.44858\" xlink:href=\"#mb033df3f86\" y=\"87.661783\"/>\n     <use style=\"fill:#1f77b4;stroke:#1f77b4;\" x=\"567.812216\" xlink:href=\"#mb033df3f86\" y=\"101.307912\"/>\n     <use style=\"fill:#1f77b4;stroke:#1f77b4;\" x=\"593.175852\" xlink:href=\"#mb033df3f86\" y=\"114.918845\"/>\n     <use style=\"fill:#1f77b4;stroke:#1f77b4;\" x=\"618.539489\" xlink:href=\"#mb033df3f86\" y=\"128.707912\"/>\n     <use style=\"fill:#1f77b4;stroke:#1f77b4;\" x=\"643.903125\" xlink:href=\"#mb033df3f86\" y=\"146.121645\"/>\n     <use style=\"fill:#1f77b4;stroke:#1f77b4;\" x=\"669.266761\" xlink:href=\"#mb033df3f86\" y=\"162.867273\"/>\n    </g>\n   </g>\n   <g id=\"patch_3\">\n    <path d=\"M 30.103125 170.28 \nL 30.103125 7.2 \n\" style=\"fill:none;stroke:#000000;stroke-linecap:square;stroke-linejoin:miter;stroke-width:0.8;\"/>\n   </g>\n   <g id=\"patch_4\">\n    <path d=\"M 699.703125 170.28 \nL 699.703125 7.2 \n\" style=\"fill:none;stroke:#000000;stroke-linecap:square;stroke-linejoin:miter;stroke-width:0.8;\"/>\n   </g>\n   <g id=\"patch_5\">\n    <path d=\"M 30.103125 170.28 \nL 699.703125 170.28 \n\" style=\"fill:none;stroke:#000000;stroke-linecap:square;stroke-linejoin:miter;stroke-width:0.8;\"/>\n   </g>\n   <g id=\"patch_6\">\n    <path d=\"M 30.103125 7.2 \nL 699.703125 7.2 \n\" style=\"fill:none;stroke:#000000;stroke-linecap:square;stroke-linejoin:miter;stroke-width:0.8;\"/>\n   </g>\n  </g>\n </g>\n <defs>\n  <clipPath id=\"p93f8e921f4\">\n   <rect height=\"163.08\" width=\"669.6\" x=\"30.103125\" y=\"7.2\"/>\n  </clipPath>\n </defs>\n</svg>\n"
          },
          "metadata": {
            "tags": [],
            "needs_background": "light"
          }
        }
      ]
    },
    {
      "cell_type": "code",
      "metadata": {
        "colab": {
          "base_uri": "https://localhost:8080/",
          "height": 279
        },
        "id": "oHoQss3vPXLp",
        "outputId": "c43b16f7-f757-44a1-fd22-72ca710a682b"
      },
      "source": [
        "mpl.plot( Dturb_lst, PG_max_array, 'o-' );"
      ],
      "execution_count": 27,
      "outputs": [
        {
          "output_type": "display_data",
          "data": {
            "text/plain": [
              "<Figure size 864x216 with 1 Axes>"
            ],
            "image/svg+xml": "<?xml version=\"1.0\" encoding=\"utf-8\" standalone=\"no\"?>\n<!DOCTYPE svg PUBLIC \"-//W3C//DTD SVG 1.1//EN\"\n  \"http://www.w3.org/Graphics/SVG/1.1/DTD/svg11.dtd\">\n<!-- Created with matplotlib (https://matplotlib.org/) -->\n<svg height=\"194.158125pt\" version=\"1.1\" viewBox=\"0 0 705.014773 194.158125\" width=\"705.014773pt\" xmlns=\"http://www.w3.org/2000/svg\" xmlns:xlink=\"http://www.w3.org/1999/xlink\">\n <defs>\n  <style type=\"text/css\">\n*{stroke-linecap:butt;stroke-linejoin:round;}\n  </style>\n </defs>\n <g id=\"figure_1\">\n  <g id=\"patch_1\">\n   <path d=\"M 0 194.158125 \nL 705.014773 194.158125 \nL 705.014773 0 \nL 0 0 \nz\n\" style=\"fill:none;\"/>\n  </g>\n  <g id=\"axes_1\">\n   <g id=\"patch_2\">\n    <path d=\"M 26.925 170.28 \nL 696.525 170.28 \nL 696.525 7.2 \nL 26.925 7.2 \nz\n\" style=\"fill:#ffffff;\"/>\n   </g>\n   <g id=\"matplotlib.axis_1\">\n    <g id=\"xtick_1\">\n     <g id=\"line2d_1\">\n      <defs>\n       <path d=\"M 0 0 \nL 0 3.5 \n\" id=\"m252d92e95c\" style=\"stroke:#000000;stroke-width:0.8;\"/>\n      </defs>\n      <g>\n       <use style=\"stroke:#000000;stroke-width:0.8;\" x=\"57.361364\" xlink:href=\"#m252d92e95c\" y=\"170.28\"/>\n      </g>\n     </g>\n     <g id=\"text_1\">\n      <!-- 5 -->\n      <defs>\n       <path d=\"M 10.796875 72.90625 \nL 49.515625 72.90625 \nL 49.515625 64.59375 \nL 19.828125 64.59375 \nL 19.828125 46.734375 \nQ 21.96875 47.46875 24.109375 47.828125 \nQ 26.265625 48.1875 28.421875 48.1875 \nQ 40.625 48.1875 47.75 41.5 \nQ 54.890625 34.8125 54.890625 23.390625 \nQ 54.890625 11.625 47.5625 5.09375 \nQ 40.234375 -1.421875 26.90625 -1.421875 \nQ 22.3125 -1.421875 17.546875 -0.640625 \nQ 12.796875 0.140625 7.71875 1.703125 \nL 7.71875 11.625 \nQ 12.109375 9.234375 16.796875 8.0625 \nQ 21.484375 6.890625 26.703125 6.890625 \nQ 35.15625 6.890625 40.078125 11.328125 \nQ 45.015625 15.765625 45.015625 23.390625 \nQ 45.015625 31 40.078125 35.4375 \nQ 35.15625 39.890625 26.703125 39.890625 \nQ 22.75 39.890625 18.8125 39.015625 \nQ 14.890625 38.140625 10.796875 36.28125 \nz\n\" id=\"DejaVuSans-53\"/>\n      </defs>\n      <g transform=\"translate(54.180114 184.878438)scale(0.1 -0.1)\">\n       <use xlink:href=\"#DejaVuSans-53\"/>\n      </g>\n     </g>\n    </g>\n    <g id=\"xtick_2\">\n     <g id=\"line2d_2\">\n      <g>\n       <use style=\"stroke:#000000;stroke-width:0.8;\" x=\"184.179545\" xlink:href=\"#m252d92e95c\" y=\"170.28\"/>\n      </g>\n     </g>\n     <g id=\"text_2\">\n      <!-- 6 -->\n      <defs>\n       <path d=\"M 33.015625 40.375 \nQ 26.375 40.375 22.484375 35.828125 \nQ 18.609375 31.296875 18.609375 23.390625 \nQ 18.609375 15.53125 22.484375 10.953125 \nQ 26.375 6.390625 33.015625 6.390625 \nQ 39.65625 6.390625 43.53125 10.953125 \nQ 47.40625 15.53125 47.40625 23.390625 \nQ 47.40625 31.296875 43.53125 35.828125 \nQ 39.65625 40.375 33.015625 40.375 \nz\nM 52.59375 71.296875 \nL 52.59375 62.3125 \nQ 48.875 64.0625 45.09375 64.984375 \nQ 41.3125 65.921875 37.59375 65.921875 \nQ 27.828125 65.921875 22.671875 59.328125 \nQ 17.53125 52.734375 16.796875 39.40625 \nQ 19.671875 43.65625 24.015625 45.921875 \nQ 28.375 48.1875 33.59375 48.1875 \nQ 44.578125 48.1875 50.953125 41.515625 \nQ 57.328125 34.859375 57.328125 23.390625 \nQ 57.328125 12.15625 50.6875 5.359375 \nQ 44.046875 -1.421875 33.015625 -1.421875 \nQ 20.359375 -1.421875 13.671875 8.265625 \nQ 6.984375 17.96875 6.984375 36.375 \nQ 6.984375 53.65625 15.1875 63.9375 \nQ 23.390625 74.21875 37.203125 74.21875 \nQ 40.921875 74.21875 44.703125 73.484375 \nQ 48.484375 72.75 52.59375 71.296875 \nz\n\" id=\"DejaVuSans-54\"/>\n      </defs>\n      <g transform=\"translate(180.998295 184.878438)scale(0.1 -0.1)\">\n       <use xlink:href=\"#DejaVuSans-54\"/>\n      </g>\n     </g>\n    </g>\n    <g id=\"xtick_3\">\n     <g id=\"line2d_3\">\n      <g>\n       <use style=\"stroke:#000000;stroke-width:0.8;\" x=\"310.997727\" xlink:href=\"#m252d92e95c\" y=\"170.28\"/>\n      </g>\n     </g>\n     <g id=\"text_3\">\n      <!-- 7 -->\n      <defs>\n       <path d=\"M 8.203125 72.90625 \nL 55.078125 72.90625 \nL 55.078125 68.703125 \nL 28.609375 0 \nL 18.3125 0 \nL 43.21875 64.59375 \nL 8.203125 64.59375 \nz\n\" id=\"DejaVuSans-55\"/>\n      </defs>\n      <g transform=\"translate(307.816477 184.878438)scale(0.1 -0.1)\">\n       <use xlink:href=\"#DejaVuSans-55\"/>\n      </g>\n     </g>\n    </g>\n    <g id=\"xtick_4\">\n     <g id=\"line2d_4\">\n      <g>\n       <use style=\"stroke:#000000;stroke-width:0.8;\" x=\"437.815909\" xlink:href=\"#m252d92e95c\" y=\"170.28\"/>\n      </g>\n     </g>\n     <g id=\"text_4\">\n      <!-- 8 -->\n      <defs>\n       <path d=\"M 31.78125 34.625 \nQ 24.75 34.625 20.71875 30.859375 \nQ 16.703125 27.09375 16.703125 20.515625 \nQ 16.703125 13.921875 20.71875 10.15625 \nQ 24.75 6.390625 31.78125 6.390625 \nQ 38.8125 6.390625 42.859375 10.171875 \nQ 46.921875 13.96875 46.921875 20.515625 \nQ 46.921875 27.09375 42.890625 30.859375 \nQ 38.875 34.625 31.78125 34.625 \nz\nM 21.921875 38.8125 \nQ 15.578125 40.375 12.03125 44.71875 \nQ 8.5 49.078125 8.5 55.328125 \nQ 8.5 64.0625 14.71875 69.140625 \nQ 20.953125 74.21875 31.78125 74.21875 \nQ 42.671875 74.21875 48.875 69.140625 \nQ 55.078125 64.0625 55.078125 55.328125 \nQ 55.078125 49.078125 51.53125 44.71875 \nQ 48 40.375 41.703125 38.8125 \nQ 48.828125 37.15625 52.796875 32.3125 \nQ 56.78125 27.484375 56.78125 20.515625 \nQ 56.78125 9.90625 50.3125 4.234375 \nQ 43.84375 -1.421875 31.78125 -1.421875 \nQ 19.734375 -1.421875 13.25 4.234375 \nQ 6.78125 9.90625 6.78125 20.515625 \nQ 6.78125 27.484375 10.78125 32.3125 \nQ 14.796875 37.15625 21.921875 38.8125 \nz\nM 18.3125 54.390625 \nQ 18.3125 48.734375 21.84375 45.5625 \nQ 25.390625 42.390625 31.78125 42.390625 \nQ 38.140625 42.390625 41.71875 45.5625 \nQ 45.3125 48.734375 45.3125 54.390625 \nQ 45.3125 60.0625 41.71875 63.234375 \nQ 38.140625 66.40625 31.78125 66.40625 \nQ 25.390625 66.40625 21.84375 63.234375 \nQ 18.3125 60.0625 18.3125 54.390625 \nz\n\" id=\"DejaVuSans-56\"/>\n      </defs>\n      <g transform=\"translate(434.634659 184.878438)scale(0.1 -0.1)\">\n       <use xlink:href=\"#DejaVuSans-56\"/>\n      </g>\n     </g>\n    </g>\n    <g id=\"xtick_5\">\n     <g id=\"line2d_5\">\n      <g>\n       <use style=\"stroke:#000000;stroke-width:0.8;\" x=\"564.634091\" xlink:href=\"#m252d92e95c\" y=\"170.28\"/>\n      </g>\n     </g>\n     <g id=\"text_5\">\n      <!-- 9 -->\n      <defs>\n       <path d=\"M 10.984375 1.515625 \nL 10.984375 10.5 \nQ 14.703125 8.734375 18.5 7.8125 \nQ 22.3125 6.890625 25.984375 6.890625 \nQ 35.75 6.890625 40.890625 13.453125 \nQ 46.046875 20.015625 46.78125 33.40625 \nQ 43.953125 29.203125 39.59375 26.953125 \nQ 35.25 24.703125 29.984375 24.703125 \nQ 19.046875 24.703125 12.671875 31.3125 \nQ 6.296875 37.9375 6.296875 49.421875 \nQ 6.296875 60.640625 12.9375 67.421875 \nQ 19.578125 74.21875 30.609375 74.21875 \nQ 43.265625 74.21875 49.921875 64.515625 \nQ 56.59375 54.828125 56.59375 36.375 \nQ 56.59375 19.140625 48.40625 8.859375 \nQ 40.234375 -1.421875 26.421875 -1.421875 \nQ 22.703125 -1.421875 18.890625 -0.6875 \nQ 15.09375 0.046875 10.984375 1.515625 \nz\nM 30.609375 32.421875 \nQ 37.25 32.421875 41.125 36.953125 \nQ 45.015625 41.5 45.015625 49.421875 \nQ 45.015625 57.28125 41.125 61.84375 \nQ 37.25 66.40625 30.609375 66.40625 \nQ 23.96875 66.40625 20.09375 61.84375 \nQ 16.21875 57.28125 16.21875 49.421875 \nQ 16.21875 41.5 20.09375 36.953125 \nQ 23.96875 32.421875 30.609375 32.421875 \nz\n\" id=\"DejaVuSans-57\"/>\n      </defs>\n      <g transform=\"translate(561.452841 184.878438)scale(0.1 -0.1)\">\n       <use xlink:href=\"#DejaVuSans-57\"/>\n      </g>\n     </g>\n    </g>\n    <g id=\"xtick_6\">\n     <g id=\"line2d_6\">\n      <g>\n       <use style=\"stroke:#000000;stroke-width:0.8;\" x=\"691.452273\" xlink:href=\"#m252d92e95c\" y=\"170.28\"/>\n      </g>\n     </g>\n     <g id=\"text_6\">\n      <!-- 10 -->\n      <defs>\n       <path d=\"M 12.40625 8.296875 \nL 28.515625 8.296875 \nL 28.515625 63.921875 \nL 10.984375 60.40625 \nL 10.984375 69.390625 \nL 28.421875 72.90625 \nL 38.28125 72.90625 \nL 38.28125 8.296875 \nL 54.390625 8.296875 \nL 54.390625 0 \nL 12.40625 0 \nz\n\" id=\"DejaVuSans-49\"/>\n       <path d=\"M 31.78125 66.40625 \nQ 24.171875 66.40625 20.328125 58.90625 \nQ 16.5 51.421875 16.5 36.375 \nQ 16.5 21.390625 20.328125 13.890625 \nQ 24.171875 6.390625 31.78125 6.390625 \nQ 39.453125 6.390625 43.28125 13.890625 \nQ 47.125 21.390625 47.125 36.375 \nQ 47.125 51.421875 43.28125 58.90625 \nQ 39.453125 66.40625 31.78125 66.40625 \nz\nM 31.78125 74.21875 \nQ 44.046875 74.21875 50.515625 64.515625 \nQ 56.984375 54.828125 56.984375 36.375 \nQ 56.984375 17.96875 50.515625 8.265625 \nQ 44.046875 -1.421875 31.78125 -1.421875 \nQ 19.53125 -1.421875 13.0625 8.265625 \nQ 6.59375 17.96875 6.59375 36.375 \nQ 6.59375 54.828125 13.0625 64.515625 \nQ 19.53125 74.21875 31.78125 74.21875 \nz\n\" id=\"DejaVuSans-48\"/>\n      </defs>\n      <g transform=\"translate(685.089773 184.878438)scale(0.1 -0.1)\">\n       <use xlink:href=\"#DejaVuSans-49\"/>\n       <use x=\"63.623047\" xlink:href=\"#DejaVuSans-48\"/>\n      </g>\n     </g>\n    </g>\n   </g>\n   <g id=\"matplotlib.axis_2\">\n    <g id=\"ytick_1\">\n     <g id=\"line2d_7\">\n      <defs>\n       <path d=\"M 0 0 \nL -3.5 0 \n\" id=\"m725567196b\" style=\"stroke:#000000;stroke-width:0.8;\"/>\n      </defs>\n      <g>\n       <use style=\"stroke:#000000;stroke-width:0.8;\" x=\"26.925\" xlink:href=\"#m725567196b\" y=\"159.868207\"/>\n      </g>\n     </g>\n     <g id=\"text_7\">\n      <!-- 25 -->\n      <defs>\n       <path d=\"M 19.1875 8.296875 \nL 53.609375 8.296875 \nL 53.609375 0 \nL 7.328125 0 \nL 7.328125 8.296875 \nQ 12.9375 14.109375 22.625 23.890625 \nQ 32.328125 33.6875 34.8125 36.53125 \nQ 39.546875 41.84375 41.421875 45.53125 \nQ 43.3125 49.21875 43.3125 52.78125 \nQ 43.3125 58.59375 39.234375 62.25 \nQ 35.15625 65.921875 28.609375 65.921875 \nQ 23.96875 65.921875 18.8125 64.3125 \nQ 13.671875 62.703125 7.8125 59.421875 \nL 7.8125 69.390625 \nQ 13.765625 71.78125 18.9375 73 \nQ 24.125 74.21875 28.421875 74.21875 \nQ 39.75 74.21875 46.484375 68.546875 \nQ 53.21875 62.890625 53.21875 53.421875 \nQ 53.21875 48.921875 51.53125 44.890625 \nQ 49.859375 40.875 45.40625 35.40625 \nQ 44.1875 33.984375 37.640625 27.21875 \nQ 31.109375 20.453125 19.1875 8.296875 \nz\n\" id=\"DejaVuSans-50\"/>\n      </defs>\n      <g transform=\"translate(7.2 163.667426)scale(0.1 -0.1)\">\n       <use xlink:href=\"#DejaVuSans-50\"/>\n       <use x=\"63.623047\" xlink:href=\"#DejaVuSans-53\"/>\n      </g>\n     </g>\n    </g>\n    <g id=\"ytick_2\">\n     <g id=\"line2d_8\">\n      <g>\n       <use style=\"stroke:#000000;stroke-width:0.8;\" x=\"26.925\" xlink:href=\"#m725567196b\" y=\"137.692383\"/>\n      </g>\n     </g>\n     <g id=\"text_8\">\n      <!-- 30 -->\n      <defs>\n       <path d=\"M 40.578125 39.3125 \nQ 47.65625 37.796875 51.625 33 \nQ 55.609375 28.21875 55.609375 21.1875 \nQ 55.609375 10.40625 48.1875 4.484375 \nQ 40.765625 -1.421875 27.09375 -1.421875 \nQ 22.515625 -1.421875 17.65625 -0.515625 \nQ 12.796875 0.390625 7.625 2.203125 \nL 7.625 11.71875 \nQ 11.71875 9.328125 16.59375 8.109375 \nQ 21.484375 6.890625 26.8125 6.890625 \nQ 36.078125 6.890625 40.9375 10.546875 \nQ 45.796875 14.203125 45.796875 21.1875 \nQ 45.796875 27.640625 41.28125 31.265625 \nQ 36.765625 34.90625 28.71875 34.90625 \nL 20.21875 34.90625 \nL 20.21875 43.015625 \nL 29.109375 43.015625 \nQ 36.375 43.015625 40.234375 45.921875 \nQ 44.09375 48.828125 44.09375 54.296875 \nQ 44.09375 59.90625 40.109375 62.90625 \nQ 36.140625 65.921875 28.71875 65.921875 \nQ 24.65625 65.921875 20.015625 65.03125 \nQ 15.375 64.15625 9.8125 62.3125 \nL 9.8125 71.09375 \nQ 15.4375 72.65625 20.34375 73.4375 \nQ 25.25 74.21875 29.59375 74.21875 \nQ 40.828125 74.21875 47.359375 69.109375 \nQ 53.90625 64.015625 53.90625 55.328125 \nQ 53.90625 49.265625 50.4375 45.09375 \nQ 46.96875 40.921875 40.578125 39.3125 \nz\n\" id=\"DejaVuSans-51\"/>\n      </defs>\n      <g transform=\"translate(7.2 141.491601)scale(0.1 -0.1)\">\n       <use xlink:href=\"#DejaVuSans-51\"/>\n       <use x=\"63.623047\" xlink:href=\"#DejaVuSans-48\"/>\n      </g>\n     </g>\n    </g>\n    <g id=\"ytick_3\">\n     <g id=\"line2d_9\">\n      <g>\n       <use style=\"stroke:#000000;stroke-width:0.8;\" x=\"26.925\" xlink:href=\"#m725567196b\" y=\"115.516559\"/>\n      </g>\n     </g>\n     <g id=\"text_9\">\n      <!-- 35 -->\n      <g transform=\"translate(7.2 119.315777)scale(0.1 -0.1)\">\n       <use xlink:href=\"#DejaVuSans-51\"/>\n       <use x=\"63.623047\" xlink:href=\"#DejaVuSans-53\"/>\n      </g>\n     </g>\n    </g>\n    <g id=\"ytick_4\">\n     <g id=\"line2d_10\">\n      <g>\n       <use style=\"stroke:#000000;stroke-width:0.8;\" x=\"26.925\" xlink:href=\"#m725567196b\" y=\"93.340735\"/>\n      </g>\n     </g>\n     <g id=\"text_10\">\n      <!-- 40 -->\n      <defs>\n       <path d=\"M 37.796875 64.3125 \nL 12.890625 25.390625 \nL 37.796875 25.390625 \nz\nM 35.203125 72.90625 \nL 47.609375 72.90625 \nL 47.609375 25.390625 \nL 58.015625 25.390625 \nL 58.015625 17.1875 \nL 47.609375 17.1875 \nL 47.609375 0 \nL 37.796875 0 \nL 37.796875 17.1875 \nL 4.890625 17.1875 \nL 4.890625 26.703125 \nz\n\" id=\"DejaVuSans-52\"/>\n      </defs>\n      <g transform=\"translate(7.2 97.139953)scale(0.1 -0.1)\">\n       <use xlink:href=\"#DejaVuSans-52\"/>\n       <use x=\"63.623047\" xlink:href=\"#DejaVuSans-48\"/>\n      </g>\n     </g>\n    </g>\n    <g id=\"ytick_5\">\n     <g id=\"line2d_11\">\n      <g>\n       <use style=\"stroke:#000000;stroke-width:0.8;\" x=\"26.925\" xlink:href=\"#m725567196b\" y=\"71.16491\"/>\n      </g>\n     </g>\n     <g id=\"text_11\">\n      <!-- 45 -->\n      <g transform=\"translate(7.2 74.964129)scale(0.1 -0.1)\">\n       <use xlink:href=\"#DejaVuSans-52\"/>\n       <use x=\"63.623047\" xlink:href=\"#DejaVuSans-53\"/>\n      </g>\n     </g>\n    </g>\n    <g id=\"ytick_6\">\n     <g id=\"line2d_12\">\n      <g>\n       <use style=\"stroke:#000000;stroke-width:0.8;\" x=\"26.925\" xlink:href=\"#m725567196b\" y=\"48.989086\"/>\n      </g>\n     </g>\n     <g id=\"text_12\">\n      <!-- 50 -->\n      <g transform=\"translate(7.2 52.788305)scale(0.1 -0.1)\">\n       <use xlink:href=\"#DejaVuSans-53\"/>\n       <use x=\"63.623047\" xlink:href=\"#DejaVuSans-48\"/>\n      </g>\n     </g>\n    </g>\n    <g id=\"ytick_7\">\n     <g id=\"line2d_13\">\n      <g>\n       <use style=\"stroke:#000000;stroke-width:0.8;\" x=\"26.925\" xlink:href=\"#m725567196b\" y=\"26.813262\"/>\n      </g>\n     </g>\n     <g id=\"text_13\">\n      <!-- 55 -->\n      <g transform=\"translate(7.2 30.612481)scale(0.1 -0.1)\">\n       <use xlink:href=\"#DejaVuSans-53\"/>\n       <use x=\"63.623047\" xlink:href=\"#DejaVuSans-53\"/>\n      </g>\n     </g>\n    </g>\n   </g>\n   <g id=\"line2d_14\">\n    <path clip-path=\"url(#pbea77d26d9)\" d=\"M 57.361364 162.867273 \nL 82.725 152.132751 \nL 108.088636 141.571441 \nL 133.452273 131.345214 \nL 158.815909 121.62607 \nL 184.179545 112.594246 \nL 209.543182 104.448219 \nL 234.906818 97.393537 \nL 260.270455 91.642774 \nL 285.634091 87.392772 \nL 310.997727 84.790217 \nL 336.361364 83.86682 \nL 361.725 82.869975 \nL 387.088636 79.669361 \nL 412.452273 76.42083 \nL 437.815909 72.914815 \nL 463.179545 68.711169 \nL 488.543182 59.553169 \nL 513.906818 54.00991 \nL 539.270455 44.696516 \nL 564.634091 37.40547 \nL 589.997727 32.03979 \nL 615.361364 23.795306 \nL 640.725 18.031599 \nL 666.088636 14.612727 \n\" style=\"fill:none;stroke:#1f77b4;stroke-linecap:square;stroke-width:1.5;\"/>\n    <defs>\n     <path d=\"M 0 3 \nC 0.795609 3 1.55874 2.683901 2.12132 2.12132 \nC 2.683901 1.55874 3 0.795609 3 0 \nC 3 -0.795609 2.683901 -1.55874 2.12132 -2.12132 \nC 1.55874 -2.683901 0.795609 -3 0 -3 \nC -0.795609 -3 -1.55874 -2.683901 -2.12132 -2.12132 \nC -2.683901 -1.55874 -3 -0.795609 -3 0 \nC -3 0.795609 -2.683901 1.55874 -2.12132 2.12132 \nC -1.55874 2.683901 -0.795609 3 0 3 \nz\n\" id=\"m4fda30f173\" style=\"stroke:#1f77b4;\"/>\n    </defs>\n    <g clip-path=\"url(#pbea77d26d9)\">\n     <use style=\"fill:#1f77b4;stroke:#1f77b4;\" x=\"57.361364\" xlink:href=\"#m4fda30f173\" y=\"162.867273\"/>\n     <use style=\"fill:#1f77b4;stroke:#1f77b4;\" x=\"82.725\" xlink:href=\"#m4fda30f173\" y=\"152.132751\"/>\n     <use style=\"fill:#1f77b4;stroke:#1f77b4;\" x=\"108.088636\" xlink:href=\"#m4fda30f173\" y=\"141.571441\"/>\n     <use style=\"fill:#1f77b4;stroke:#1f77b4;\" x=\"133.452273\" xlink:href=\"#m4fda30f173\" y=\"131.345214\"/>\n     <use style=\"fill:#1f77b4;stroke:#1f77b4;\" x=\"158.815909\" xlink:href=\"#m4fda30f173\" y=\"121.62607\"/>\n     <use style=\"fill:#1f77b4;stroke:#1f77b4;\" x=\"184.179545\" xlink:href=\"#m4fda30f173\" y=\"112.594246\"/>\n     <use style=\"fill:#1f77b4;stroke:#1f77b4;\" x=\"209.543182\" xlink:href=\"#m4fda30f173\" y=\"104.448219\"/>\n     <use style=\"fill:#1f77b4;stroke:#1f77b4;\" x=\"234.906818\" xlink:href=\"#m4fda30f173\" y=\"97.393537\"/>\n     <use style=\"fill:#1f77b4;stroke:#1f77b4;\" x=\"260.270455\" xlink:href=\"#m4fda30f173\" y=\"91.642774\"/>\n     <use style=\"fill:#1f77b4;stroke:#1f77b4;\" x=\"285.634091\" xlink:href=\"#m4fda30f173\" y=\"87.392772\"/>\n     <use style=\"fill:#1f77b4;stroke:#1f77b4;\" x=\"310.997727\" xlink:href=\"#m4fda30f173\" y=\"84.790217\"/>\n     <use style=\"fill:#1f77b4;stroke:#1f77b4;\" x=\"336.361364\" xlink:href=\"#m4fda30f173\" y=\"83.86682\"/>\n     <use style=\"fill:#1f77b4;stroke:#1f77b4;\" x=\"361.725\" xlink:href=\"#m4fda30f173\" y=\"82.869975\"/>\n     <use style=\"fill:#1f77b4;stroke:#1f77b4;\" x=\"387.088636\" xlink:href=\"#m4fda30f173\" y=\"79.669361\"/>\n     <use style=\"fill:#1f77b4;stroke:#1f77b4;\" x=\"412.452273\" xlink:href=\"#m4fda30f173\" y=\"76.42083\"/>\n     <use style=\"fill:#1f77b4;stroke:#1f77b4;\" x=\"437.815909\" xlink:href=\"#m4fda30f173\" y=\"72.914815\"/>\n     <use style=\"fill:#1f77b4;stroke:#1f77b4;\" x=\"463.179545\" xlink:href=\"#m4fda30f173\" y=\"68.711169\"/>\n     <use style=\"fill:#1f77b4;stroke:#1f77b4;\" x=\"488.543182\" xlink:href=\"#m4fda30f173\" y=\"59.553169\"/>\n     <use style=\"fill:#1f77b4;stroke:#1f77b4;\" x=\"513.906818\" xlink:href=\"#m4fda30f173\" y=\"54.00991\"/>\n     <use style=\"fill:#1f77b4;stroke:#1f77b4;\" x=\"539.270455\" xlink:href=\"#m4fda30f173\" y=\"44.696516\"/>\n     <use style=\"fill:#1f77b4;stroke:#1f77b4;\" x=\"564.634091\" xlink:href=\"#m4fda30f173\" y=\"37.40547\"/>\n     <use style=\"fill:#1f77b4;stroke:#1f77b4;\" x=\"589.997727\" xlink:href=\"#m4fda30f173\" y=\"32.03979\"/>\n     <use style=\"fill:#1f77b4;stroke:#1f77b4;\" x=\"615.361364\" xlink:href=\"#m4fda30f173\" y=\"23.795306\"/>\n     <use style=\"fill:#1f77b4;stroke:#1f77b4;\" x=\"640.725\" xlink:href=\"#m4fda30f173\" y=\"18.031599\"/>\n     <use style=\"fill:#1f77b4;stroke:#1f77b4;\" x=\"666.088636\" xlink:href=\"#m4fda30f173\" y=\"14.612727\"/>\n    </g>\n   </g>\n   <g id=\"patch_3\">\n    <path d=\"M 26.925 170.28 \nL 26.925 7.2 \n\" style=\"fill:none;stroke:#000000;stroke-linecap:square;stroke-linejoin:miter;stroke-width:0.8;\"/>\n   </g>\n   <g id=\"patch_4\">\n    <path d=\"M 696.525 170.28 \nL 696.525 7.2 \n\" style=\"fill:none;stroke:#000000;stroke-linecap:square;stroke-linejoin:miter;stroke-width:0.8;\"/>\n   </g>\n   <g id=\"patch_5\">\n    <path d=\"M 26.925 170.28 \nL 696.525 170.28 \n\" style=\"fill:none;stroke:#000000;stroke-linecap:square;stroke-linejoin:miter;stroke-width:0.8;\"/>\n   </g>\n   <g id=\"patch_6\">\n    <path d=\"M 26.925 7.2 \nL 696.525 7.2 \n\" style=\"fill:none;stroke:#000000;stroke-linecap:square;stroke-linejoin:miter;stroke-width:0.8;\"/>\n   </g>\n  </g>\n </g>\n <defs>\n  <clipPath id=\"pbea77d26d9\">\n   <rect height=\"163.08\" width=\"669.6\" x=\"26.925\" y=\"7.2\"/>\n  </clipPath>\n </defs>\n</svg>\n"
          },
          "metadata": {
            "tags": [],
            "needs_background": "light"
          }
        }
      ]
    },
    {
      "cell_type": "code",
      "metadata": {
        "id": "0p5gooGzPp9S"
      },
      "source": [
        ""
      ],
      "execution_count": 12,
      "outputs": []
    }
  ]
}