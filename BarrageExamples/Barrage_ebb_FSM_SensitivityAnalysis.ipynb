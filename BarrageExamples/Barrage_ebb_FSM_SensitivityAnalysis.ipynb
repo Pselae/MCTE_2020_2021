{
  "nbformat": 4,
  "nbformat_minor": 0,
  "metadata": {
    "kernelspec": {
      "display_name": "Python 3",
      "language": "python",
      "name": "python3"
    },
    "language_info": {
      "codemirror_mode": {
        "name": "ipython",
        "version": 3
      },
      "file_extension": ".py",
      "mimetype": "text/x-python",
      "name": "python",
      "nbconvert_exporter": "python",
      "pygments_lexer": "ipython3",
      "version": "3.7.6"
    },
    "colab": {
      "name": "Barrage_ebb_FSM_SensitivityAnalysis.ipynb",
      "provenance": [],
      "include_colab_link": true
    }
  },
  "cells": [
    {
      "cell_type": "markdown",
      "metadata": {
        "id": "view-in-github",
        "colab_type": "text"
      },
      "source": [
        "<a href=\"https://colab.research.google.com/github/joaochenriques/MCTE_2020_2021/blob/main/BarrageExamples/Barrage_ebb_FSM_SensitivityAnalysis.ipynb\" target=\"_parent\"><img src=\"https://colab.research.google.com/assets/colab-badge.svg\" alt=\"Open In Colab\"/></a>"
      ]
    },
    {
      "cell_type": "code",
      "metadata": {
        "id": "y0PSNQCFH9QU"
      },
      "source": [
        "import matplotlib.pyplot as mpl\n",
        "import numpy as np"
      ],
      "execution_count": 1,
      "outputs": []
    },
    {
      "cell_type": "code",
      "metadata": {
        "id": "Vwc2EpKvzDwk"
      },
      "source": [
        "%config InlineBackend.figure_formats = ['svg']\n",
        "mpl.rcParams[\"figure.figsize\"] = (12, 3)\n",
        "#np.warnings.filterwarnings('error', category=np.VisibleDeprecationWarning) "
      ],
      "execution_count": 2,
      "outputs": []
    },
    {
      "cell_type": "markdown",
      "metadata": {
        "id": "6nPHWWjmqNWx"
      },
      "source": [
        "## Turbine hill map and turbine operating curve\n",
        "\n",
        "Turbine dimensionless numbers\n",
        "\n",
        "* Rotational speed $$n_{11}=\\dfrac{\\Omega D}{\\sqrt{gh}}$$\n",
        "\n",
        "* Flow rate $$Q_{11} = \\dfrac{Q}{D^2\\sqrt{gh}}$$\n",
        "\n",
        "* Efficiency $$\\eta_\\mathrm{turb} = \\dfrac{P_\\mathrm{turb}}{P_\\mathrm{hydro}}$$\n",
        "\n",
        "  where $P_\\mathrm{hydro} = \\rho g h Q$\n",
        "\n",
        "<img src=\"https://raw.githubusercontent.com/joaochenriques/MCTE_2020_2021/main/Barrages_Turbine_Generator_Maps/TurbineHill_Plot.svg\" width=\"500px\" style=\"display:inline\">\n",
        "\n",
        "The in sluicing mode the \"turbine\" is modelled as \n",
        "\n",
        "$$Q_\\mathrm{turb}^\\mathrm{sluice} = C_\\mathrm{d} A_\\mathrm{turb} \\sqrt{ 2 g h }$$\n",
        "\n",
        "where $A_\\mathrm{turb}$ is the area corresponding to the turbine rotor diameter"
      ]
    },
    {
      "cell_type": "code",
      "metadata": {
        "id": "AShbPG_eqPVq"
      },
      "source": [
        "class TurbineModel:\n",
        "\n",
        "  def __init__( self, D_turb, Omega ):\n",
        "    # red line of the map\n",
        "    self.poly_CQ1 = np.poly1d( np.array([0.16928201, 0.08989368]) )\n",
        "    # green line of the map\n",
        "    self.poly_CQ2 = np.poly1d( np.array([-3.63920467e-04,  9.37677378e-03, \n",
        "                                         -9.25873626e-02,  1.75687197e+00]) )\n",
        "\n",
        "    # red line of the map\n",
        "    self.poly_CE1 = np.poly1d( np.array([-0.02076456, 0.20238444, 0.48984553]) )\n",
        "    # green line of the map\n",
        "    self.poly_CE2 = np.poly1d( np.array([-2.75685709e-04,  2.04822984e-03,  \n",
        "                                         6.86081825e-04,  7.93083108e-01]) )\n",
        "\n",
        "    # n11 interpolation domain\n",
        "    self.n11_min = 4.38\n",
        "    self.n11_max = 17.17\n",
        "\n",
        "    # other data\n",
        "    self.ga = 9.8         # gravity aceleration\n",
        "    self.ρw = 1025.0      # water density\n",
        "    self.CD_sluice = 1.0  # discharge coefficient in sluice mode\n",
        "\n",
        "    self.Omega = Omega    # we are assuming constant rotational speed model\n",
        "    self.D_turb = D_turb  # turbine rotor diameter\n",
        "    self.A_turb = np.pi*(D_turb/2.0)**2 \n",
        "\n",
        "    # constants used in for computing n11 and QT\n",
        "    self.CT0 = Omega * D_turb / np.sqrt( self.ga )\n",
        "    self.CT1 = D_turb**2 * np.sqrt( self.ga )\n",
        "\n",
        "  def n11_range( self ):\n",
        "    return self.n11_min, self.n11_max\n",
        "\n",
        "  # dimensionless velocity\n",
        "  def n11( self, h ):\n",
        "    # avoid division by zero on h=0.0\n",
        "    return self.CT0 / np.sqrt( max( h, 1E-3 ) ) \n",
        "\n",
        "  # dimensionless flow rate\n",
        "  def Q11( self, n11 ):\n",
        "    assert( n11 >= self.n11_min )\n",
        "    assert( n11 <= self.n11_max )\n",
        "    if n11 < 7.92193025936073:\n",
        "      return self.poly_CQ1( n11 ) \n",
        "    else:\n",
        "      return self.poly_CQ2( n11 )\n",
        "\n",
        "  # efficiency\n",
        "  def eta( self, n11 ):\n",
        "    assert( n11 >= self.n11_min )\n",
        "    assert( n11 <= self.n11_max )\n",
        "    if n11 < 7.92193025936073:\n",
        "      return self.poly_CE1( n11 ) * 0.912\n",
        "    else:\n",
        "      return self.poly_CE2( n11 ) * 0.912\n",
        "\n",
        "  # computing operational data\n",
        "  def operating_point( self, h ):\n",
        "    n11 = self.n11( h )\n",
        "    QT = self.CT1 * self.Q11( n11 ) * np.sqrt( h )\n",
        "    PH = self.ρw * self.ga * h * QT\n",
        "    ηT = self.eta( n11 )\n",
        "    return QT, PH, ηT  \n",
        "  \n",
        "  # turbine flow rate in sluice mode\n",
        "  def sluicing( self, h ):\n",
        "    QS = -self.CD_sluice * self.A_turb * np.sqrt( 2.0 * self.ga * max( -h, 0.0 ) )\n",
        "    return QS"
      ],
      "execution_count": 3,
      "outputs": []
    },
    {
      "cell_type": "markdown",
      "metadata": {
        "id": "Ua-NyvCooaRt"
      },
      "source": [
        "## Generator efficiency curve\n",
        "\n",
        "The generator efficiency is computed as a function of the load\n",
        "\n",
        "$$\\Lambda = \\dfrac{P_\\mathrm{turb}}{P_\\mathrm{gen}^\\mathrm{rated}}$$\n",
        "\n",
        "\n",
        "<img src=\"https://raw.githubusercontent.com/joaochenriques/MCTE_2020_2021/main/Barrages_Turbine_Generator_Maps/GeneratorEff_plot.svg\" width=\"400px\" style=\"display:inline\">\n"
      ]
    },
    {
      "cell_type": "code",
      "metadata": {
        "id": "4eesXVcLBZfw"
      },
      "source": [
        "class GeneratorModel:\n",
        "\n",
        "  def __init__( self, Pgen_rated ):\n",
        "    self.Pgen_rated = Pgen_rated\n",
        "\n",
        "    # red part of the curve\n",
        "    self.poly_C1 = np.poly1d( np.array([-6.71448631e+03,  2.59159775e+03, \n",
        "                                        -3.80834059e+02,  2.70423225e+01, \n",
        "                                        3.29394948e-03]) )\n",
        "    # green part of the curve\n",
        "    self.poly_C2 = np.poly1d( np.array([-1.16856952,  3.31172525, -3.44296217,  \n",
        "                                        1.5416029 ,  0.71040716]) )\n",
        "      \n",
        "  # efficiency as a function of the load\n",
        "  def eta( self, shaft_power ):\n",
        "    load = shaft_power / self.Pgen_rated\n",
        "    assert( load >= 0 and load <= 1.0 )\n",
        "    if load < 0.125423729:\n",
        "      return self.poly_C1( load ) \n",
        "    else:\n",
        "      return self.poly_C2( load )"
      ],
      "execution_count": 4,
      "outputs": []
    },
    {
      "cell_type": "markdown",
      "metadata": {
        "id": "7Qkcw2dT9WCa"
      },
      "source": [
        "## Sluice gates\n",
        "\n",
        "The sluice gates are modelled as a turbulent pressure drop\n",
        "\n",
        "$$Q_\\mathrm{sluice} = C_\\mathrm{d} A \\sqrt{ 2 g h }$$\n",
        "\n",
        "typical discharge coefficients for barrage sluice gates are within the range $0.8 \\le C_\\mathrm{d} \\le 1.2$. Here we use $C_\\mathrm{d}=1.0$. "
      ]
    },
    {
      "cell_type": "code",
      "metadata": {
        "id": "U5xkPKiOXGU_"
      },
      "source": [
        "class GateModel:\n",
        "\n",
        "  def __init__( self, Area ):\n",
        "    self.ga = 9.8\n",
        "    self.Area = Area\n",
        "    self.CD_sluice = 1.0\n",
        "\n",
        "  # flow rate as a function of h\n",
        "  def sluicing( self, h ):\n",
        "    QS = -self.CD_sluice * self.Area * np.sqrt( 2.0 * self.ga * max( -h, 0.0 ) )\n",
        "    return QS"
      ],
      "execution_count": 5,
      "outputs": []
    },
    {
      "cell_type": "markdown",
      "metadata": {
        "id": "tj7lqtYL_NC1"
      },
      "source": [
        "## Basin modelling\n",
        "\n",
        "The basin is modelled as a \"shoe box\". The out flow is denoted as positive.\n",
        "\n",
        "The instantaneous basin volume is computed from\n",
        "\n",
        "$$\\dfrac{\\mathrm{d}V}{\\mathrm{d}t}=-Q.$$\n",
        "\n",
        "The integrating with the Euler method we get\n",
        "\n",
        "$$V(t+\\Delta t)=V(t)-\\Delta t\\,Q.$$\n",
        "\n",
        "The instantaneous basin level is given by\n",
        "\n",
        "$$h = \\dfrac{V}{A_\\mathrm{basin}},$$\n",
        "\n",
        "where $A_\\mathrm{basin}$ is the basin area.\n",
        "\n",
        "<img src=\"https://raw.githubusercontent.com/joaochenriques/MCTE_2020_2021/main/BarrageExamples/Figures/BasinShoeBox.svg\" width=\"300px\" style=\"display:inline\">\n",
        "\n"
      ]
    },
    {
      "cell_type": "code",
      "metadata": {
        "id": "i9r0kiD4D2KP"
      },
      "source": [
        "class BasinModel:\n",
        "\n",
        "  def __init__( self, A_basin, h0 ):\n",
        "    self.A_basin = A_basin\n",
        "    self.V0 = A_basin * h0\n",
        "    self.V = None\n",
        "\n",
        "  # set initial condition\n",
        "  def start( self ):\n",
        "    self.V = self.V0\n",
        "    return self.level()\n",
        "\n",
        "  # compute volume \n",
        "  def integrate( self, delta_t, Q ):\n",
        "    self.V = self.V - delta_t * Q\n",
        "    return self.level()\n",
        "\n",
        "  # water level in the base \n",
        "  def level( self ):\n",
        "      return self.V / self.A_basin"
      ],
      "execution_count": 6,
      "outputs": []
    },
    {
      "cell_type": "markdown",
      "metadata": {
        "id": "hp-B8fMfG80s"
      },
      "source": [
        "## Tide modelling\n",
        "\n",
        "The tide level is assumed to be a trignometric series\n",
        "\n",
        "$$z(t) = \\sum_i^n \\zeta_i \\cos\\left( \\omega_i t + \\phi_i \\right).$$\n",
        "\n",
        "Since the available head to the turbine is a function of the tide level,\n",
        "the minimum head required to start the turbine is also implemented in this class.  "
      ]
    },
    {
      "cell_type": "code",
      "metadata": {
        "id": "N3tqN9T5x5O_"
      },
      "source": [
        "class TideModel:\n",
        " \n",
        "  #  ζ_tide, period and φ_tide are vector to allow simulate \n",
        "  # multi-component tides\n",
        "  def __init__( self, ζ_tide, τ_tide, φ_tide ):\n",
        "      self.ζ_tide = ζ_tide # tide amplitude\n",
        "      self.τ_tide = τ_tide # tide period\n",
        "      self.ω_tide = 2.0 * np.pi / τ_tide \n",
        "      self.φ_tide = φ_tide\n",
        "\n",
        "  # tide level as a function t\n",
        "  def level( self, t ):    \n",
        "      return self.ζ_tide * np.cos( self.ω_tide * t + self.φ_tide )\n",
        "\n",
        "  # minimum head to start the turbine as a function t\n",
        "  def minimum_turbine_head( self, t ):\n",
        "    return 8.0"
      ],
      "execution_count": 7,
      "outputs": []
    },
    {
      "cell_type": "markdown",
      "metadata": {
        "id": "NivnLxwb0lNb"
      },
      "source": [
        "## Power plant operation model \n",
        "\n",
        "The power plant modelling and control is based in the following finite state machine\n",
        " \n",
        "<img src=\"https://raw.githubusercontent.com/joaochenriques/MCTE_2020_2021/main/BarrageExamples/Figures/EbbOperation.svg\" width=\"700px\" style=\"display:inline\">"
      ]
    },
    {
      "cell_type": "code",
      "metadata": {
        "id": "ijXuuVpj6eOR"
      },
      "source": [
        "class EbbOperations_FSM:\n",
        "\n",
        "  #===================================================\n",
        "  def __init__( self ):\n",
        "    self.transitions = [ self.__transition_0_1, \n",
        "                         self.__transition_1_2,\n",
        "                         self.__transition_2_3,\n",
        "                         self.__transition_3_4,\n",
        "                         self.__transition_4_1 ]\n",
        "\n",
        "    self.states = [ self.__run_state_hold,\n",
        "                    self.__run_state_generate,\n",
        "                    self.__run_state_hold,\n",
        "                    self.__run_state_fill,\n",
        "                    self.__run_state_hold ]         \n",
        "\n",
        "    self.cur_state = 0\n",
        "\n",
        "  #== TRANSITIONS ====================================\n",
        "  def __transition_0_1( self, h, h_min, n11, n11_max ):\n",
        "    if ( h - h_min ) > 0.0:\n",
        "      self.cur_state = 1\n",
        "\n",
        "  def __transition_1_2( self, h, h_min, n11, n11_max ):\n",
        "    if ( n11 - n11_max ) >  0.0:\n",
        "      self.cur_state = 2\n",
        "\n",
        "  def __transition_2_3( self, h, h_min, n11, n11_max ):\n",
        "    if h < 0.0:\n",
        "      self.cur_state = 3\n",
        "\n",
        "  def __transition_3_4( self, h, h_min, n11, n11_max ):\n",
        "    if h > 0.0:\n",
        "      self.cur_state = 4\n",
        "\n",
        "  def __transition_4_1( self, h, h_min, n11, n11_max ):\n",
        "    if ( h - h_min ) > 0.0:\n",
        "      self.cur_state = 1\n",
        "\n",
        "  #== STATES =========================================\n",
        "  def __run_state_hold( self, h ):\n",
        "    QS = QT = PH = ηT = ηG = 0\n",
        "    return QS, QT, PH, ηT, ηG\n",
        "\n",
        "  def __run_state_generate( self, h ):\n",
        "    QS = 0.0\n",
        "    QT, PH, ηT = turbine.operating_point( h )\n",
        "    ηG = generator.eta( ηT * PH )\n",
        "    return QS, QT, PH, ηT, ηG\n",
        "\n",
        "  def __run_state_fill( self, h ):\n",
        "    QS = gate.sluicing( h )\n",
        "    QT = turbine.sluicing( h )\n",
        "    PH = ηT = ηG = 0.0\n",
        "    return QS, QT, PH, ηT, ηG\n",
        "\n",
        "  #== RUN FSM ========================================\n",
        "  def transition( self, h, h_min, n11, n11_max ):\n",
        "    self.transitions[ self.cur_state ]( h, h_min, n11, n11_max )\n",
        "    return self.cur_state\n",
        "\n",
        "  def run_state( self, h ):\n",
        "    return self.states[ self.cur_state ]( h )\n",
        "\n",
        "  #== RUN POWER PLANT MODEL ==========================\n",
        "  def run_model( self, delta_t, t_final, basin, tide, turbines, generators, sluicing, n_turbs, n_gates ):\n",
        "\n",
        "    #==============================================\n",
        "    t = delta_t                    # time step\n",
        "    n = int( t_final / delta_t )   # number of time steps\n",
        "\n",
        "    #==============================================\n",
        "    # store computed time series\n",
        "    time_vec = np.zeros( n )  # time \n",
        "    tide_vec = np.zeros( n )  # tide level\n",
        "\n",
        "    s_vec  = np.zeros( n )    # control stages\n",
        "    h_vec  = np.zeros( n )    # water height level\n",
        "    z_vec  = np.zeros( n )    # basin level\n",
        "    QS_vec = np.zeros( n )    # sluice gates + turbine flow rate on sluicing\n",
        "    QT_vec = np.zeros( n )    # turbine flow rate\n",
        "    PH_vec = np.zeros( n )    # hydraulic power\n",
        "    ηT_vec = np.zeros( n )    # turbine efficiency\n",
        "    ηG_vec = np.zeros( n )    # generator efficiency\n",
        "\n",
        "    #==============================================\n",
        "    n11_min, n11_max = turbines.n11_range()\n",
        "    z = basin.start()\n",
        "    ζ = tide.level( 0.0 )\n",
        "    h = z - ζ\n",
        "    \n",
        "    #==============================================\n",
        "    tide_vec[0] = ζ\n",
        "    h_vec[0] = h\n",
        "    z_vec[0] = z\n",
        "\n",
        "    #==============================================\n",
        "    for i in range( 1, n ):\n",
        "\n",
        "      t = i * delta_t\n",
        "\n",
        "      # select state\n",
        "      h_min = tide.minimum_turbine_head( t )\n",
        "      n11 = turbines.n11( h )\n",
        "      state = self.transition( h, h_min, n11, n11_max )\n",
        "\n",
        "      # compute state\n",
        "      QS, QT, PH, ηT, ηG = self.run_state( h )\n",
        "\n",
        "      # new basin condition as a function of flow rate (turbines+sluice gates) \n",
        "      z = basin.integrate( delta_t, n_turbs*QT + n_gates*QS )\n",
        "      ζ = tide.level( t )\n",
        "      h = z - ζ\n",
        "\n",
        "      #==========================================\n",
        "      # store data for post-processing\n",
        "      time_vec[i] = t\n",
        "      tide_vec[i] = ζ\n",
        "\n",
        "      s_vec[i]  = state\n",
        "      h_vec[i]  = h\n",
        "      z_vec[i]  = z\n",
        "      QS_vec[i] = QS\n",
        "      QT_vec[i] = QT\n",
        "      PH_vec[i] = PH\n",
        "      ηT_vec[i] = ηT\n",
        "      ηG_vec[i] = ηG\n",
        "  \n",
        "    return time_vec, tide_vec, s_vec, h_vec, z_vec, QS_vec, \\\n",
        "            QT_vec, PH_vec, ηT_vec, ηG_vec"
      ],
      "execution_count": 11,
      "outputs": []
    },
    {
      "cell_type": "code",
      "metadata": {
        "id": "18snnDcZH9Qb"
      },
      "source": [
        "def SensitivityAnalysis_Dturb( Dturb_lst ):\n",
        "    n_turbs = 24 # number of turbines\n",
        "    n_gates = 6  # number of sluice gates\n",
        "\n",
        "    tide_period = 12.0*3600.0 + 25.2*60.0\n",
        "\n",
        "    Pgen_rated = 60E6\n",
        "    generator = GeneratorModel( Pgen_rated = Pgen_rated )\n",
        "    gate = GateModel( Area = 10*15 )\n",
        "\n",
        "    # The tide amplitude, ζ_tide, tide period, τ_tide, and tide phase, φ_tide, are\n",
        "    # vectors. Add vector entries to model more than one tide component   \n",
        "    tide = TideModel( ζ_tide = np.array( [ 6.75 ] ), \n",
        "                      τ_tide = np.array( [ tide_period ] ),\n",
        "                      φ_tide = np.array( [ 0.0 ] ) )\n",
        "    basin = BasinModel( A_basin = 22E6, h0 = 8 )\n",
        "\n",
        "    simulator = EbbOperations_FSM()\n",
        "\n",
        "    n = len( Dturb_lst )\n",
        "    PG_avg_array = np.zeros( n )\n",
        "    C_fac_array = np.zeros( n )\n",
        "\n",
        "    for i in range( n ):\n",
        "\n",
        "        turbine = TurbineModel( D_turb = Dturb_lst[i], Omega = 93.75*np.pi/30.0 )\n",
        "        time_vec, tide_vec, s_vec, h_vec, z_vec, QS_vec, QT_vec, PH_vec, ηT_vec, ηG_vec = \\\n",
        "          simulator.run_model( 100.0, 5*tide_period, basin, tide, turbine, generator, gate, \n",
        "                                n_turbs, n_gates )\n",
        "\n",
        "        PH_vec /= 1E6 # convert to MW\n",
        "        PG_vec = PH_vec * ηT_vec * ηG_vec\n",
        "\n",
        "        PG_avg_array[i] = np.mean( PG_vec )\n",
        "        C_fac_array[i] = PG_avg_array[i] / Pgen_rated\n",
        "\n",
        "    return PG_avg_array, C_fac_array"
      ],
      "execution_count": 12,
      "outputs": []
    },
    {
      "cell_type": "code",
      "metadata": {
        "id": "VmlbEm_JF7Q5",
        "outputId": "51d6fb07-9ce1-462c-ce27-754ec410728c",
        "colab": {
          "base_uri": "https://localhost:8080/",
          "height": 358
        }
      },
      "source": [
        "Dturb_lst = np.arange( 5.2, 10, 0.1 )\n",
        "PG_avg_array, C_fac_array = SensitivityAnalysis_Dturb( Dturb_lst )\n",
        "mpl.plot( Dturb_lst, PG_avg_array )\n",
        "PG_avg_array"
      ],
      "execution_count": 13,
      "outputs": [
        {
          "output_type": "error",
          "ename": "NameError",
          "evalue": "ignored",
          "traceback": [
            "\u001b[0;31m---------------------------------------------------------------------------\u001b[0m",
            "\u001b[0;31mNameError\u001b[0m                                 Traceback (most recent call last)",
            "\u001b[0;32m<ipython-input-13-50be1acd1921>\u001b[0m in \u001b[0;36m<module>\u001b[0;34m()\u001b[0m\n\u001b[1;32m      1\u001b[0m \u001b[0mDturb_lst\u001b[0m \u001b[0;34m=\u001b[0m \u001b[0mnp\u001b[0m\u001b[0;34m.\u001b[0m\u001b[0marange\u001b[0m\u001b[0;34m(\u001b[0m \u001b[0;36m5.2\u001b[0m\u001b[0;34m,\u001b[0m \u001b[0;36m10\u001b[0m\u001b[0;34m,\u001b[0m \u001b[0;36m0.1\u001b[0m \u001b[0;34m)\u001b[0m\u001b[0;34m\u001b[0m\u001b[0;34m\u001b[0m\u001b[0m\n\u001b[0;32m----> 2\u001b[0;31m \u001b[0mPG_avg_array\u001b[0m\u001b[0;34m,\u001b[0m \u001b[0mC_fac_array\u001b[0m \u001b[0;34m=\u001b[0m \u001b[0mSensitivityAnalysis_Dturb\u001b[0m\u001b[0;34m(\u001b[0m \u001b[0mDturb_lst\u001b[0m \u001b[0;34m)\u001b[0m\u001b[0;34m\u001b[0m\u001b[0;34m\u001b[0m\u001b[0m\n\u001b[0m\u001b[1;32m      3\u001b[0m \u001b[0mmpl\u001b[0m\u001b[0;34m.\u001b[0m\u001b[0mplot\u001b[0m\u001b[0;34m(\u001b[0m \u001b[0mDturb_lst\u001b[0m\u001b[0;34m,\u001b[0m \u001b[0mPG_avg_array\u001b[0m \u001b[0;34m)\u001b[0m\u001b[0;34m\u001b[0m\u001b[0;34m\u001b[0m\u001b[0m\n\u001b[1;32m      4\u001b[0m \u001b[0mPG_avg_array\u001b[0m\u001b[0;34m\u001b[0m\u001b[0;34m\u001b[0m\u001b[0m\n",
            "\u001b[0;32m<ipython-input-12-0a1fdbf485bb>\u001b[0m in \u001b[0;36mSensitivityAnalysis_Dturb\u001b[0;34m(Dturb_lst)\u001b[0m\n\u001b[1;32m     26\u001b[0m         \u001b[0mturbine\u001b[0m \u001b[0;34m=\u001b[0m \u001b[0mTurbineModel\u001b[0m\u001b[0;34m(\u001b[0m \u001b[0mD_turb\u001b[0m \u001b[0;34m=\u001b[0m \u001b[0mDturb_lst\u001b[0m\u001b[0;34m[\u001b[0m\u001b[0mi\u001b[0m\u001b[0;34m]\u001b[0m\u001b[0;34m,\u001b[0m \u001b[0mOmega\u001b[0m \u001b[0;34m=\u001b[0m \u001b[0;36m93.75\u001b[0m\u001b[0;34m*\u001b[0m\u001b[0mnp\u001b[0m\u001b[0;34m.\u001b[0m\u001b[0mpi\u001b[0m\u001b[0;34m/\u001b[0m\u001b[0;36m30.0\u001b[0m \u001b[0;34m)\u001b[0m\u001b[0;34m\u001b[0m\u001b[0;34m\u001b[0m\u001b[0m\n\u001b[1;32m     27\u001b[0m         time_vec, tide_vec, s_vec, h_vec, z_vec, QS_vec, QT_vec, PH_vec, ηT_vec, ηG_vec =           simulator.run_model( 100.0, 5*tide_period, basin, tide, turbine, generator, gate, \n\u001b[0;32m---> 28\u001b[0;31m                                 n_turbs, n_gates )\n\u001b[0m\u001b[1;32m     29\u001b[0m \u001b[0;34m\u001b[0m\u001b[0m\n\u001b[1;32m     30\u001b[0m         \u001b[0mPH_vec\u001b[0m \u001b[0;34m/=\u001b[0m \u001b[0;36m1E6\u001b[0m \u001b[0;31m# convert to MW\u001b[0m\u001b[0;34m\u001b[0m\u001b[0;34m\u001b[0m\u001b[0m\n",
            "\u001b[0;32m<ipython-input-11-dd680594f09a>\u001b[0m in \u001b[0;36mrun_model\u001b[0;34m(self, delta_t, t_final, basin, tide, turbines, generators, sluicing, n_turbs, n_gates)\u001b[0m\n\u001b[1;32m    106\u001b[0m \u001b[0;34m\u001b[0m\u001b[0m\n\u001b[1;32m    107\u001b[0m       \u001b[0;31m# compute state\u001b[0m\u001b[0;34m\u001b[0m\u001b[0;34m\u001b[0m\u001b[0;34m\u001b[0m\u001b[0m\n\u001b[0;32m--> 108\u001b[0;31m       \u001b[0mQS\u001b[0m\u001b[0;34m,\u001b[0m \u001b[0mQT\u001b[0m\u001b[0;34m,\u001b[0m \u001b[0mPH\u001b[0m\u001b[0;34m,\u001b[0m \u001b[0mηT\u001b[0m\u001b[0;34m,\u001b[0m \u001b[0mηG\u001b[0m \u001b[0;34m=\u001b[0m \u001b[0mself\u001b[0m\u001b[0;34m.\u001b[0m\u001b[0mrun_state\u001b[0m\u001b[0;34m(\u001b[0m \u001b[0mh\u001b[0m \u001b[0;34m)\u001b[0m\u001b[0;34m\u001b[0m\u001b[0;34m\u001b[0m\u001b[0m\n\u001b[0m\u001b[1;32m    109\u001b[0m \u001b[0;34m\u001b[0m\u001b[0m\n\u001b[1;32m    110\u001b[0m       \u001b[0;31m# new basin condition as a function of flow rate (turbines+sluice gates)\u001b[0m\u001b[0;34m\u001b[0m\u001b[0;34m\u001b[0m\u001b[0;34m\u001b[0m\u001b[0m\n",
            "\u001b[0;32m<ipython-input-11-dd680594f09a>\u001b[0m in \u001b[0;36mrun_state\u001b[0;34m(self, h)\u001b[0m\n\u001b[1;32m     61\u001b[0m \u001b[0;34m\u001b[0m\u001b[0m\n\u001b[1;32m     62\u001b[0m   \u001b[0;32mdef\u001b[0m \u001b[0mrun_state\u001b[0m\u001b[0;34m(\u001b[0m \u001b[0mself\u001b[0m\u001b[0;34m,\u001b[0m \u001b[0mh\u001b[0m \u001b[0;34m)\u001b[0m\u001b[0;34m:\u001b[0m\u001b[0;34m\u001b[0m\u001b[0;34m\u001b[0m\u001b[0m\n\u001b[0;32m---> 63\u001b[0;31m     \u001b[0;32mreturn\u001b[0m \u001b[0mself\u001b[0m\u001b[0;34m.\u001b[0m\u001b[0mstates\u001b[0m\u001b[0;34m[\u001b[0m \u001b[0mself\u001b[0m\u001b[0;34m.\u001b[0m\u001b[0mcur_state\u001b[0m \u001b[0;34m]\u001b[0m\u001b[0;34m(\u001b[0m \u001b[0mh\u001b[0m \u001b[0;34m)\u001b[0m\u001b[0;34m\u001b[0m\u001b[0;34m\u001b[0m\u001b[0m\n\u001b[0m\u001b[1;32m     64\u001b[0m \u001b[0;34m\u001b[0m\u001b[0m\n\u001b[1;32m     65\u001b[0m   \u001b[0;31m#== RUN POWER PLANT MODEL ==========================\u001b[0m\u001b[0;34m\u001b[0m\u001b[0;34m\u001b[0m\u001b[0;34m\u001b[0m\u001b[0m\n",
            "\u001b[0;32m<ipython-input-11-dd680594f09a>\u001b[0m in \u001b[0;36m__run_state_generate\u001b[0;34m(self, h)\u001b[0m\n\u001b[1;32m     45\u001b[0m   \u001b[0;32mdef\u001b[0m \u001b[0m__run_state_generate\u001b[0m\u001b[0;34m(\u001b[0m \u001b[0mself\u001b[0m\u001b[0;34m,\u001b[0m \u001b[0mh\u001b[0m \u001b[0;34m)\u001b[0m\u001b[0;34m:\u001b[0m\u001b[0;34m\u001b[0m\u001b[0;34m\u001b[0m\u001b[0m\n\u001b[1;32m     46\u001b[0m     \u001b[0mQS\u001b[0m \u001b[0;34m=\u001b[0m \u001b[0;36m0.0\u001b[0m\u001b[0;34m\u001b[0m\u001b[0;34m\u001b[0m\u001b[0m\n\u001b[0;32m---> 47\u001b[0;31m     \u001b[0mQT\u001b[0m\u001b[0;34m,\u001b[0m \u001b[0mPH\u001b[0m\u001b[0;34m,\u001b[0m \u001b[0mηT\u001b[0m \u001b[0;34m=\u001b[0m \u001b[0mturbine\u001b[0m\u001b[0;34m.\u001b[0m\u001b[0moperating_point\u001b[0m\u001b[0;34m(\u001b[0m \u001b[0mh\u001b[0m \u001b[0;34m)\u001b[0m\u001b[0;34m\u001b[0m\u001b[0;34m\u001b[0m\u001b[0m\n\u001b[0m\u001b[1;32m     48\u001b[0m     \u001b[0mηG\u001b[0m \u001b[0;34m=\u001b[0m \u001b[0mgenerator\u001b[0m\u001b[0;34m.\u001b[0m\u001b[0meta\u001b[0m\u001b[0;34m(\u001b[0m \u001b[0mηT\u001b[0m \u001b[0;34m*\u001b[0m \u001b[0mPH\u001b[0m \u001b[0;34m)\u001b[0m\u001b[0;34m\u001b[0m\u001b[0;34m\u001b[0m\u001b[0m\n\u001b[1;32m     49\u001b[0m     \u001b[0;32mreturn\u001b[0m \u001b[0mQS\u001b[0m\u001b[0;34m,\u001b[0m \u001b[0mQT\u001b[0m\u001b[0;34m,\u001b[0m \u001b[0mPH\u001b[0m\u001b[0;34m,\u001b[0m \u001b[0mηT\u001b[0m\u001b[0;34m,\u001b[0m \u001b[0mηG\u001b[0m\u001b[0;34m\u001b[0m\u001b[0;34m\u001b[0m\u001b[0m\n",
            "\u001b[0;31mNameError\u001b[0m: name 'turbine' is not defined"
          ]
        }
      ]
    },
    {
      "cell_type": "code",
      "metadata": {
        "id": "I4Fzw0p-02U-"
      },
      "source": [
        ""
      ],
      "execution_count": null,
      "outputs": []
    }
  ]
}