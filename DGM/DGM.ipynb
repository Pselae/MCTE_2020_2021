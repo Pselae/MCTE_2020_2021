{
  "nbformat": 4,
  "nbformat_minor": 0,
  "metadata": {
    "colab": {
      "name": "DGM.ipynb",
      "provenance": [],
      "authorship_tag": "ABX9TyN3etTZ7v0JbLi+Ol2aPo+T",
      "include_colab_link": true
    },
    "kernelspec": {
      "name": "python3",
      "display_name": "Python 3"
    },
    "language_info": {
      "name": "python"
    }
  },
  "cells": [
    {
      "cell_type": "markdown",
      "metadata": {
        "id": "view-in-github",
        "colab_type": "text"
      },
      "source": [
        "<a href=\"https://colab.research.google.com/github/joaochenriques/MCTE_2020_2021/blob/main/DGM/DGM.ipynb\" target=\"_parent\"><img src=\"https://colab.research.google.com/assets/colab-badge.svg\" alt=\"Open In Colab\"/></a>"
      ]
    },
    {
      "cell_type": "code",
      "metadata": {
        "id": "C8_b3DGFw0EI"
      },
      "source": [
        "import sympy as sp"
      ],
      "execution_count": 3,
      "outputs": []
    },
    {
      "cell_type": "code",
      "metadata": {
        "colab": {
          "base_uri": "https://localhost:8080/",
          "height": 82
        },
        "id": "UFLz2nnnw2sV",
        "outputId": "4054e794-baab-4367-9218-11b478cdee55"
      },
      "source": [
        "ξ = sp.Symbol('xi')\n",
        "n = 2\n",
        "\n",
        "polys = sp.Matrix( [ sp.legendre(i, ξ) for i in range(n+1) ] )\n",
        "polys"
      ],
      "execution_count": 4,
      "outputs": [
        {
          "output_type": "execute_result",
          "data": {
            "text/latex": "$\\displaystyle \\left[\\begin{matrix}1\\\\\\xi\\\\\\frac{3 \\xi^{2}}{2} - \\frac{1}{2}\\end{matrix}\\right]$",
            "text/plain": [
              "Matrix([\n",
              "[              1],\n",
              "[             xi],\n",
              "[3*xi**2/2 - 1/2]])"
            ]
          },
          "metadata": {
            "tags": []
          },
          "execution_count": 4
        }
      ]
    },
    {
      "cell_type": "code",
      "metadata": {
        "colab": {
          "base_uri": "https://localhost:8080/",
          "height": 78
        },
        "id": "niGR2rY4zgGf",
        "outputId": "e2cecf08-7a6b-4f90-927e-f673a2acb1cc"
      },
      "source": [
        "sp.diff( polys, ξ )"
      ],
      "execution_count": 5,
      "outputs": [
        {
          "output_type": "execute_result",
          "data": {
            "text/latex": "$\\displaystyle \\left[\\begin{matrix}0\\\\1\\\\3 \\xi\\end{matrix}\\right]$",
            "text/plain": [
              "Matrix([\n",
              "[   0],\n",
              "[   1],\n",
              "[3*xi]])"
            ]
          },
          "metadata": {
            "tags": []
          },
          "execution_count": 5
        }
      ]
    },
    {
      "cell_type": "code",
      "metadata": {
        "colab": {
          "base_uri": "https://localhost:8080/",
          "height": 78
        },
        "id": "lxg7RTjEw44y",
        "outputId": "0bc68470-2524-4d37-9d23-51072194217f"
      },
      "source": [
        "M = sp.integrate( polys * polys.transpose(), (ξ,-1,1) )\n",
        "M"
      ],
      "execution_count": 6,
      "outputs": [
        {
          "output_type": "execute_result",
          "data": {
            "text/latex": "$\\displaystyle \\left[\\begin{matrix}2 & 0 & 0\\\\0 & \\frac{2}{3} & 0\\\\0 & 0 & \\frac{2}{5}\\end{matrix}\\right]$",
            "text/plain": [
              "Matrix([\n",
              "[2,   0,   0],\n",
              "[0, 2/3,   0],\n",
              "[0,   0, 2/5]])"
            ]
          },
          "metadata": {
            "tags": []
          },
          "execution_count": 6
        }
      ]
    },
    {
      "cell_type": "code",
      "metadata": {
        "colab": {
          "base_uri": "https://localhost:8080/",
          "height": 78
        },
        "id": "wpvW-Y3IxTk-",
        "outputId": "7c86cfdc-66a7-4f14-e127-1042e60ab8c9"
      },
      "source": [
        "a = sp.Matrix( [ sp.Symbol( \"a_{%2i}\" %i ) for i in range(n+1) ] )\n",
        "a"
      ],
      "execution_count": 7,
      "outputs": [
        {
          "output_type": "execute_result",
          "data": {
            "text/latex": "$\\displaystyle \\left[\\begin{matrix}a_{ 0}\\\\a_{ 1}\\\\a_{ 2}\\end{matrix}\\right]$",
            "text/plain": [
              "Matrix([\n",
              "[a_{ 0}],\n",
              "[a_{ 1}],\n",
              "[a_{ 2}]])"
            ]
          },
          "metadata": {
            "tags": []
          },
          "execution_count": 7
        }
      ]
    },
    {
      "cell_type": "code",
      "metadata": {
        "colab": {
          "base_uri": "https://localhost:8080/",
          "height": 78
        },
        "id": "83OcL89Q1q86",
        "outputId": "f5547ea2-7050-40ec-d33b-c920111939a3"
      },
      "source": [
        "bf = sp.Matrix( [ sp.Symbol( \"f_{%2i}\" %i ) for i in range(n+1) ] )\n",
        "bf"
      ],
      "execution_count": 8,
      "outputs": [
        {
          "output_type": "execute_result",
          "data": {
            "text/latex": "$\\displaystyle \\left[\\begin{matrix}f_{ 0}\\\\f_{ 1}\\\\f_{ 2}\\end{matrix}\\right]$",
            "text/plain": [
              "Matrix([\n",
              "[f_{ 0}],\n",
              "[f_{ 1}],\n",
              "[f_{ 2}]])"
            ]
          },
          "metadata": {
            "tags": []
          },
          "execution_count": 8
        }
      ]
    },
    {
      "cell_type": "code",
      "metadata": {
        "colab": {
          "base_uri": "https://localhost:8080/",
          "height": 78
        },
        "id": "vvMgPUVp1TMa",
        "outputId": "d534faef-ee43-4a26-94d4-41a64ad44584"
      },
      "source": [
        "Af = sp.Matrix( [ [polys.transpose().subs(ξ,-1)],\n",
        "                  [polys.transpose().subs(ξ, 0)],\n",
        "                  [polys.transpose().subs(ξ,+1)] ] )  \n",
        "Af"
      ],
      "execution_count": 9,
      "outputs": [
        {
          "output_type": "execute_result",
          "data": {
            "text/latex": "$\\displaystyle \\left[\\begin{matrix}1 & -1 & 1\\\\1 & 0 & - \\frac{1}{2}\\\\1 & 1 & 1\\end{matrix}\\right]$",
            "text/plain": [
              "Matrix([\n",
              "[1, -1,    1],\n",
              "[1,  0, -1/2],\n",
              "[1,  1,    1]])"
            ]
          },
          "metadata": {
            "tags": []
          },
          "execution_count": 9
        }
      ]
    },
    {
      "cell_type": "code",
      "metadata": {
        "colab": {
          "base_uri": "https://localhost:8080/",
          "height": 78
        },
        "id": "hyApYhcj1eBF",
        "outputId": "d01a97f1-1879-4ab9-f42d-fd15d36f4dc9"
      },
      "source": [
        "bf = sp.Matrix( [ sp.Symbol( \"f_{%2i}\" %i ) for i in range(n+1) ] )\n",
        "bf"
      ],
      "execution_count": 10,
      "outputs": [
        {
          "output_type": "execute_result",
          "data": {
            "text/latex": "$\\displaystyle \\left[\\begin{matrix}f_{ 0}\\\\f_{ 1}\\\\f_{ 2}\\end{matrix}\\right]$",
            "text/plain": [
              "Matrix([\n",
              "[f_{ 0}],\n",
              "[f_{ 1}],\n",
              "[f_{ 2}]])"
            ]
          },
          "metadata": {
            "tags": []
          },
          "execution_count": 10
        }
      ]
    },
    {
      "cell_type": "code",
      "metadata": {
        "colab": {
          "base_uri": "https://localhost:8080/",
          "height": 82
        },
        "id": "823FlhEu3K9c",
        "outputId": "ad303637-418d-4127-faa3-1a8e2d9fc35e"
      },
      "source": [
        "sp.Inverse( Af )*bf"
      ],
      "execution_count": 11,
      "outputs": [
        {
          "output_type": "execute_result",
          "data": {
            "text/latex": "$\\displaystyle \\left[\\begin{matrix}\\frac{f_{ 0}}{6} + \\frac{2 f_{ 1}}{3} + \\frac{f_{ 2}}{6}\\\\- \\frac{f_{ 0}}{2} + \\frac{f_{ 2}}{2}\\\\\\frac{f_{ 0}}{3} - \\frac{2 f_{ 1}}{3} + \\frac{f_{ 2}}{3}\\end{matrix}\\right]$",
            "text/plain": [
              "Matrix([\n",
              "[f_{ 0}/6 + 2*f_{ 1}/3 + f_{ 2}/6],\n",
              "[            -f_{ 0}/2 + f_{ 2}/2],\n",
              "[f_{ 0}/3 - 2*f_{ 1}/3 + f_{ 2}/3]])"
            ]
          },
          "metadata": {
            "tags": []
          },
          "execution_count": 11
        }
      ]
    },
    {
      "cell_type": "code",
      "metadata": {
        "colab": {
          "base_uri": "https://localhost:8080/"
        },
        "id": "K1-FQ0Ab3xDr",
        "outputId": "a50d0d29-8406-40ad-acb9-1855df924eee"
      },
      "source": [
        "def Chebyshev_nodes(N):\n",
        "  return [ float( sp.cos( (2*i+1)/(2*N) * sp.pi ) ) for i in range(N) ]\n",
        "\n",
        "Chebyshev_nodes(4)"
      ],
      "execution_count": 36,
      "outputs": [
        {
          "output_type": "execute_result",
          "data": {
            "text/plain": [
              "[0.9238795325112867,\n",
              " 0.3826834323650898,\n",
              " -0.3826834323650898,\n",
              " -0.9238795325112867]"
            ]
          },
          "metadata": {
            "tags": []
          },
          "execution_count": 36
        }
      ]
    },
    {
      "cell_type": "code",
      "metadata": {
        "colab": {
          "base_uri": "https://localhost:8080/"
        },
        "id": "SOCxL6IgZPIr",
        "outputId": "6a775a12-be57-444c-87db-78bbee7f4714"
      },
      "source": [
        "\n",
        "def Chebyshev_nodes(a, b, N):\n",
        "    from math import cos, pi\n",
        "    return [ 0.5*(a+b) + 0.5*(b-a)*cos( (2*i-1)/(2.0*N) *pi ) for i in range(1, N+1)]\n",
        "Chebyshev_nodes( -1, 1, 3 )  "
      ],
      "execution_count": 18,
      "outputs": [
        {
          "output_type": "execute_result",
          "data": {
            "text/plain": [
              "[0.8660254037844387, 6.123233995736766e-17, -0.8660254037844387]"
            ]
          },
          "metadata": {
            "tags": []
          },
          "execution_count": 18
        }
      ]
    },
    {
      "cell_type": "code",
      "metadata": {
        "id": "z6V-3j4VZ5Ty"
      },
      "source": [
        ""
      ],
      "execution_count": null,
      "outputs": []
    }
  ]
}