{
  "nbformat": 4,
  "nbformat_minor": 0,
  "metadata": {
    "colab": {
      "name": "DGM.ipynb",
      "provenance": [],
      "authorship_tag": "ABX9TyPo+pMKzZGiVla1wCjNA7hA",
      "include_colab_link": true
    },
    "kernelspec": {
      "name": "python3",
      "display_name": "Python 3"
    },
    "language_info": {
      "name": "python"
    }
  },
  "cells": [
    {
      "cell_type": "markdown",
      "metadata": {
        "id": "view-in-github",
        "colab_type": "text"
      },
      "source": [
        "<a href=\"https://colab.research.google.com/github/joaochenriques/MCTE_2020_2021/blob/main/DGM/DGM.ipynb\" target=\"_parent\"><img src=\"https://colab.research.google.com/assets/colab-badge.svg\" alt=\"Open In Colab\"/></a>"
      ]
    },
    {
      "cell_type": "code",
      "metadata": {
        "id": "C8_b3DGFw0EI"
      },
      "source": [
        "import sympy as sp"
      ],
      "execution_count": 13,
      "outputs": []
    },
    {
      "cell_type": "code",
      "metadata": {
        "colab": {
          "base_uri": "https://localhost:8080/",
          "height": 82
        },
        "id": "UFLz2nnnw2sV",
        "outputId": "ecb08601-66c4-4751-a910-0fa1824adae6"
      },
      "source": [
        "ξ = sp.Symbol('xi')\n",
        "n = 2\n",
        "\n",
        "polys = sp.Matrix( [ sp.legendre(i, ξ) for i in range(n+1) ] )\n",
        "polys"
      ],
      "execution_count": 25,
      "outputs": [
        {
          "output_type": "execute_result",
          "data": {
            "text/latex": "$\\displaystyle \\left[\\begin{matrix}1\\\\\\xi\\\\\\frac{3 \\xi^{2}}{2} - \\frac{1}{2}\\end{matrix}\\right]$",
            "text/plain": [
              "Matrix([\n",
              "[              1],\n",
              "[             xi],\n",
              "[3*xi**2/2 - 1/2]])"
            ]
          },
          "metadata": {
            "tags": []
          },
          "execution_count": 25
        }
      ]
    },
    {
      "cell_type": "code",
      "metadata": {
        "colab": {
          "base_uri": "https://localhost:8080/",
          "height": 78
        },
        "id": "niGR2rY4zgGf",
        "outputId": "f6a4e976-645a-4a95-b5cb-73c8b080f499"
      },
      "source": [
        "sp.diff( polys, ξ )"
      ],
      "execution_count": 28,
      "outputs": [
        {
          "output_type": "execute_result",
          "data": {
            "text/latex": "$\\displaystyle \\left[\\begin{matrix}0\\\\1\\\\3 \\xi\\end{matrix}\\right]$",
            "text/plain": [
              "Matrix([\n",
              "[   0],\n",
              "[   1],\n",
              "[3*xi]])"
            ]
          },
          "metadata": {
            "tags": []
          },
          "execution_count": 28
        }
      ]
    },
    {
      "cell_type": "code",
      "metadata": {
        "colab": {
          "base_uri": "https://localhost:8080/",
          "height": 78
        },
        "id": "lxg7RTjEw44y",
        "outputId": "61edba6b-8179-4143-85cf-4858eba01bca"
      },
      "source": [
        "M = sp.integrate( polys * polys.transpose(), (ξ,-1,1) )\n",
        "M"
      ],
      "execution_count": 26,
      "outputs": [
        {
          "output_type": "execute_result",
          "data": {
            "text/latex": "$\\displaystyle \\left[\\begin{matrix}2 & 0 & 0\\\\0 & \\frac{2}{3} & 0\\\\0 & 0 & \\frac{2}{5}\\end{matrix}\\right]$",
            "text/plain": [
              "Matrix([\n",
              "[2,   0,   0],\n",
              "[0, 2/3,   0],\n",
              "[0,   0, 2/5]])"
            ]
          },
          "metadata": {
            "tags": []
          },
          "execution_count": 26
        }
      ]
    },
    {
      "cell_type": "code",
      "metadata": {
        "colab": {
          "base_uri": "https://localhost:8080/",
          "height": 78
        },
        "id": "wpvW-Y3IxTk-",
        "outputId": "11d6d65d-d6f9-4985-d0d6-c6841be0a87e"
      },
      "source": [
        "a = sp.Matrix( [ sp.Symbol( \"a_{%2i}\" %i ) for i in range(n+1) ] )\n",
        "a"
      ],
      "execution_count": 36,
      "outputs": [
        {
          "output_type": "execute_result",
          "data": {
            "text/latex": "$\\displaystyle \\left[\\begin{matrix}a_{ 0}\\\\a_{ 1}\\\\a_{ 2}\\end{matrix}\\right]$",
            "text/plain": [
              "Matrix([\n",
              "[a_{ 0}],\n",
              "[a_{ 1}],\n",
              "[a_{ 2}]])"
            ]
          },
          "metadata": {
            "tags": []
          },
          "execution_count": 36
        }
      ]
    },
    {
      "cell_type": "code",
      "metadata": {
        "colab": {
          "base_uri": "https://localhost:8080/",
          "height": 78
        },
        "id": "83OcL89Q1q86",
        "outputId": "e271f90b-0a04-4173-f636-a5230176b53c"
      },
      "source": [
        "bf = sp.Matrix( [ sp.Symbol( \"f_{%2i}\" %i ) for i in range(n+1) ] )\n",
        "bf"
      ],
      "execution_count": 37,
      "outputs": [
        {
          "output_type": "execute_result",
          "data": {
            "text/latex": "$\\displaystyle \\left[\\begin{matrix}f_{ 0}\\\\f_{ 1}\\\\f_{ 2}\\end{matrix}\\right]$",
            "text/plain": [
              "Matrix([\n",
              "[f_{ 0}],\n",
              "[f_{ 1}],\n",
              "[f_{ 2}]])"
            ]
          },
          "metadata": {
            "tags": []
          },
          "execution_count": 37
        }
      ]
    },
    {
      "cell_type": "code",
      "metadata": {
        "colab": {
          "base_uri": "https://localhost:8080/",
          "height": 78
        },
        "id": "vvMgPUVp1TMa",
        "outputId": "38169306-198a-4173-85a8-7eb0d5b0e711"
      },
      "source": [
        "Af = sp.Matrix( [ [polys.transpose().subs(ξ,-1)],\n",
        "                  [polys.transpose().subs(ξ, 0)],\n",
        "                  [polys.transpose().subs(ξ,+1)] ] )  \n",
        "Af"
      ],
      "execution_count": 47,
      "outputs": [
        {
          "output_type": "execute_result",
          "data": {
            "text/latex": "$\\displaystyle \\left[\\begin{matrix}1 & -1 & 1\\\\1 & 0 & - \\frac{1}{2}\\\\1 & 1 & 1\\end{matrix}\\right]$",
            "text/plain": [
              "Matrix([\n",
              "[1, -1,    1],\n",
              "[1,  0, -1/2],\n",
              "[1,  1,    1]])"
            ]
          },
          "metadata": {
            "tags": []
          },
          "execution_count": 47
        }
      ]
    },
    {
      "cell_type": "code",
      "metadata": {
        "colab": {
          "base_uri": "https://localhost:8080/",
          "height": 78
        },
        "id": "hyApYhcj1eBF",
        "outputId": "ee1d1308-65bf-4d09-eeeb-68feff6230c1"
      },
      "source": [
        "bf = sp.Matrix( [ sp.Symbol( \"f_{%2i}\" %i ) for i in range(n+1) ] )\n",
        "bf"
      ],
      "execution_count": 46,
      "outputs": [
        {
          "output_type": "execute_result",
          "data": {
            "text/latex": "$\\displaystyle \\left[\\begin{matrix}f_{ 0}\\\\f_{ 1}\\\\f_{ 2}\\end{matrix}\\right]$",
            "text/plain": [
              "Matrix([\n",
              "[f_{ 0}],\n",
              "[f_{ 1}],\n",
              "[f_{ 2}]])"
            ]
          },
          "metadata": {
            "tags": []
          },
          "execution_count": 46
        }
      ]
    },
    {
      "cell_type": "code",
      "metadata": {
        "colab": {
          "base_uri": "https://localhost:8080/",
          "height": 82
        },
        "id": "823FlhEu3K9c",
        "outputId": "fb35a834-25d7-45b4-fbe0-327747a5a9a4"
      },
      "source": [
        "sp.Inverse( Af )*bf"
      ],
      "execution_count": 49,
      "outputs": [
        {
          "output_type": "execute_result",
          "data": {
            "text/latex": "$\\displaystyle \\left[\\begin{matrix}\\frac{f_{ 0}}{6} + \\frac{2 f_{ 1}}{3} + \\frac{f_{ 2}}{6}\\\\- \\frac{f_{ 0}}{2} + \\frac{f_{ 2}}{2}\\\\\\frac{f_{ 0}}{3} - \\frac{2 f_{ 1}}{3} + \\frac{f_{ 2}}{3}\\end{matrix}\\right]$",
            "text/plain": [
              "Matrix([\n",
              "[f_{ 0}/6 + 2*f_{ 1}/3 + f_{ 2}/6],\n",
              "[            -f_{ 0}/2 + f_{ 2}/2],\n",
              "[f_{ 0}/3 - 2*f_{ 1}/3 + f_{ 2}/3]])"
            ]
          },
          "metadata": {
            "tags": []
          },
          "execution_count": 49
        }
      ]
    },
    {
      "cell_type": "code",
      "metadata": {
        "id": "K1-FQ0Ab3xDr"
      },
      "source": [
        ""
      ],
      "execution_count": null,
      "outputs": []
    }
  ]
}