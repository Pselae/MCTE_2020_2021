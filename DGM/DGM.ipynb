{
  "nbformat": 4,
  "nbformat_minor": 0,
  "metadata": {
    "colab": {
      "name": "DGM.ipynb",
      "provenance": [],
      "authorship_tag": "ABX9TyPi7mp1nqNnutSnVZ0pL53i",
      "include_colab_link": true
    },
    "kernelspec": {
      "name": "python3",
      "display_name": "Python 3"
    },
    "language_info": {
      "name": "python"
    }
  },
  "cells": [
    {
      "cell_type": "markdown",
      "metadata": {
        "id": "view-in-github",
        "colab_type": "text"
      },
      "source": [
        "<a href=\"https://colab.research.google.com/github/joaochenriques/MCTE_2020_2021/blob/main/DGM/DGM.ipynb\" target=\"_parent\"><img src=\"https://colab.research.google.com/assets/colab-badge.svg\" alt=\"Open In Colab\"/></a>"
      ]
    },
    {
      "cell_type": "code",
      "metadata": {
        "id": "C8_b3DGFw0EI"
      },
      "source": [
        "import sympy as sp"
      ],
      "execution_count": 2,
      "outputs": []
    },
    {
      "cell_type": "code",
      "metadata": {
        "colab": {
          "base_uri": "https://localhost:8080/",
          "height": 82
        },
        "id": "UFLz2nnnw2sV",
        "outputId": "b03d6b8f-2463-4b03-f77b-be2a17677981"
      },
      "source": [
        "ξ = sp.Symbol('xi')\n",
        "n = 2\n",
        "\n",
        "polys = sp.Matrix( [ sp.legendre(i, ξ) for i in range(n+1) ] )\n",
        "polys"
      ],
      "execution_count": 3,
      "outputs": [
        {
          "output_type": "execute_result",
          "data": {
            "text/latex": "$\\displaystyle \\left[\\begin{matrix}1\\\\\\xi\\\\\\frac{3 \\xi^{2}}{2} - \\frac{1}{2}\\end{matrix}\\right]$",
            "text/plain": [
              "Matrix([\n",
              "[              1],\n",
              "[             xi],\n",
              "[3*xi**2/2 - 1/2]])"
            ]
          },
          "metadata": {
            "tags": []
          },
          "execution_count": 3
        }
      ]
    },
    {
      "cell_type": "code",
      "metadata": {
        "colab": {
          "base_uri": "https://localhost:8080/",
          "height": 78
        },
        "id": "niGR2rY4zgGf",
        "outputId": "42d940e7-146e-41d8-a04b-9d07838866b8"
      },
      "source": [
        "sp.diff( polys, ξ )"
      ],
      "execution_count": 4,
      "outputs": [
        {
          "output_type": "execute_result",
          "data": {
            "text/latex": "$\\displaystyle \\left[\\begin{matrix}0\\\\1\\\\3 \\xi\\end{matrix}\\right]$",
            "text/plain": [
              "Matrix([\n",
              "[   0],\n",
              "[   1],\n",
              "[3*xi]])"
            ]
          },
          "metadata": {
            "tags": []
          },
          "execution_count": 4
        }
      ]
    },
    {
      "cell_type": "code",
      "metadata": {
        "colab": {
          "base_uri": "https://localhost:8080/",
          "height": 78
        },
        "id": "lxg7RTjEw44y",
        "outputId": "b7307017-6aa5-4e2e-9366-9b1ece6145d7"
      },
      "source": [
        "M = sp.integrate( polys * polys.transpose(), (ξ,-1,1) )\n",
        "M"
      ],
      "execution_count": 5,
      "outputs": [
        {
          "output_type": "execute_result",
          "data": {
            "text/latex": "$\\displaystyle \\left[\\begin{matrix}2 & 0 & 0\\\\0 & \\frac{2}{3} & 0\\\\0 & 0 & \\frac{2}{5}\\end{matrix}\\right]$",
            "text/plain": [
              "Matrix([\n",
              "[2,   0,   0],\n",
              "[0, 2/3,   0],\n",
              "[0,   0, 2/5]])"
            ]
          },
          "metadata": {
            "tags": []
          },
          "execution_count": 5
        }
      ]
    },
    {
      "cell_type": "code",
      "metadata": {
        "colab": {
          "base_uri": "https://localhost:8080/",
          "height": 78
        },
        "id": "83OcL89Q1q86",
        "outputId": "ef5995e9-a7b4-4be6-ea08-9c327724ca55"
      },
      "source": [
        "bf = sp.Matrix( [ sp.Symbol( \"f_{%2i}^\\mathrm{Cheb}\" %i ) for i in range(n+1) ] )\n",
        "bf"
      ],
      "execution_count": 51,
      "outputs": [
        {
          "output_type": "execute_result",
          "data": {
            "text/latex": "$\\displaystyle \\left[\\begin{matrix}f_{ 0}^\\mathrm{Cheb}\\\\f_{ 1}^\\mathrm{Cheb}\\\\f_{ 2}^\\mathrm{Cheb}\\end{matrix}\\right]$",
            "text/plain": [
              "Matrix([\n",
              "[f_{ 0}^\\mathrm{Cheb}],\n",
              "[f_{ 1}^\\mathrm{Cheb}],\n",
              "[f_{ 2}^\\mathrm{Cheb}]])"
            ]
          },
          "metadata": {
            "tags": []
          },
          "execution_count": 51
        }
      ]
    },
    {
      "cell_type": "code",
      "metadata": {
        "colab": {
          "base_uri": "https://localhost:8080/",
          "height": 88
        },
        "id": "BeKxwrB07F1Q",
        "outputId": "5921d80e-08f1-4980-b7b0-bf75332e80e1"
      },
      "source": [
        "def Chebyshev_nodes(N):\n",
        "  return sp.Matrix( [ sp.cos( (2*i+1) * sp.pi /(2*N) ) for i in range(N) ] )\n",
        "\n",
        "CB_nodes = Chebyshev_nodes(n+1)\n",
        "CB_nodes"
      ],
      "execution_count": 52,
      "outputs": [
        {
          "output_type": "execute_result",
          "data": {
            "text/latex": "$\\displaystyle \\left[\\begin{matrix}\\frac{\\sqrt{3}}{2}\\\\0\\\\- \\frac{\\sqrt{3}}{2}\\end{matrix}\\right]$",
            "text/plain": [
              "Matrix([\n",
              "[ sqrt(3)/2],\n",
              "[         0],\n",
              "[-sqrt(3)/2]])"
            ]
          },
          "metadata": {
            "tags": []
          },
          "execution_count": 52
        }
      ]
    },
    {
      "cell_type": "code",
      "metadata": {
        "colab": {
          "base_uri": "https://localhost:8080/",
          "height": 88
        },
        "id": "IOkfr6ci7PJr",
        "outputId": "87e45062-aa9d-46c7-b98a-e6f61f7ccfe2"
      },
      "source": [
        "Af = sp.Matrix( [ [ polys.transpose().subs(ξ,CB_nodes[i]) ] for i in range(n+1) ] )\n",
        "Af"
      ],
      "execution_count": 53,
      "outputs": [
        {
          "output_type": "execute_result",
          "data": {
            "text/latex": "$\\displaystyle \\left[\\begin{matrix}1 & \\frac{\\sqrt{3}}{2} & \\frac{5}{8}\\\\1 & 0 & - \\frac{1}{2}\\\\1 & - \\frac{\\sqrt{3}}{2} & \\frac{5}{8}\\end{matrix}\\right]$",
            "text/plain": [
              "Matrix([\n",
              "[1,  sqrt(3)/2,  5/8],\n",
              "[1,          0, -1/2],\n",
              "[1, -sqrt(3)/2,  5/8]])"
            ]
          },
          "metadata": {
            "tags": []
          },
          "execution_count": 53
        }
      ]
    },
    {
      "cell_type": "code",
      "metadata": {
        "colab": {
          "base_uri": "https://localhost:8080/",
          "height": 94
        },
        "id": "823FlhEu3K9c",
        "outputId": "9fad9746-19f7-47c5-a3ce-e10b44ca9cd3"
      },
      "source": [
        "coeffs = sp.Inverse( Af )*bf\n",
        "coeffs"
      ],
      "execution_count": 54,
      "outputs": [
        {
          "output_type": "execute_result",
          "data": {
            "text/latex": "$\\displaystyle \\left[\\begin{matrix}\\frac{2 f_{ 0}^\\mathrm{Cheb}}{9} + \\frac{5 f_{ 1}^\\mathrm{Cheb}}{9} + \\frac{2 f_{ 2}^\\mathrm{Cheb}}{9}\\\\\\frac{\\sqrt{3} f_{ 0}^\\mathrm{Cheb}}{3} - \\frac{\\sqrt{3} f_{ 2}^\\mathrm{Cheb}}{3}\\\\\\frac{4 f_{ 0}^\\mathrm{Cheb}}{9} - \\frac{8 f_{ 1}^\\mathrm{Cheb}}{9} + \\frac{4 f_{ 2}^\\mathrm{Cheb}}{9}\\end{matrix}\\right]$",
            "text/plain": [
              "Matrix([\n",
              "[2*f_{ 0}^\\mathrm{Cheb}/9 + 5*f_{ 1}^\\mathrm{Cheb}/9 + 2*f_{ 2}^\\mathrm{Cheb}/9],\n",
              "[               sqrt(3)*f_{ 0}^\\mathrm{Cheb}/3 - sqrt(3)*f_{ 2}^\\mathrm{Cheb}/3],\n",
              "[4*f_{ 0}^\\mathrm{Cheb}/9 - 8*f_{ 1}^\\mathrm{Cheb}/9 + 4*f_{ 2}^\\mathrm{Cheb}/9]])"
            ]
          },
          "metadata": {
            "tags": []
          },
          "execution_count": 54
        }
      ]
    },
    {
      "cell_type": "code",
      "metadata": {
        "id": "zXH0HTh-60p8"
      },
      "source": [
        ""
      ],
      "execution_count": 11,
      "outputs": []
    }
  ]
}