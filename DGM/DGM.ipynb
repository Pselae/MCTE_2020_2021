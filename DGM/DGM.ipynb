{
  "nbformat": 4,
  "nbformat_minor": 0,
  "metadata": {
    "colab": {
      "name": "Untitled4.ipynb",
      "provenance": [],
      "authorship_tag": "ABX9TyPZ57YrWMeXy0K8uNFBjGFF",
      "include_colab_link": true
    },
    "kernelspec": {
      "name": "python3",
      "display_name": "Python 3"
    },
    "language_info": {
      "name": "python"
    }
  },
  "cells": [
    {
      "cell_type": "markdown",
      "metadata": {
        "id": "view-in-github",
        "colab_type": "text"
      },
      "source": [
        "<a href=\"https://colab.research.google.com/github/joaochenriques/MCTE_2020_2021/blob/main/DGM/DGM.ipynb\" target=\"_parent\"><img src=\"https://colab.research.google.com/assets/colab-badge.svg\" alt=\"Open In Colab\"/></a>"
      ]
    },
    {
      "cell_type": "code",
      "metadata": {
        "id": "C8_b3DGFw0EI"
      },
      "source": [
        "import sympy as sp"
      ],
      "execution_count": 13,
      "outputs": []
    },
    {
      "cell_type": "code",
      "metadata": {
        "colab": {
          "base_uri": "https://localhost:8080/",
          "height": 78
        },
        "id": "UFLz2nnnw2sV",
        "outputId": "e7df6983-7898-41d4-d047-19bf1cc63630"
      },
      "source": [
        "x = sp.Symbol('x')\n",
        "n = 2\n",
        "\n",
        "polys = sp.Matrix( [ sp.legendre(i, x) for i in range(n+1) ] )\n",
        "M = sp.integrate( polys * polys.transpose(), (x,-1,1) )\n",
        "M"
      ],
      "execution_count": 20,
      "outputs": [
        {
          "output_type": "execute_result",
          "data": {
            "text/latex": "$\\displaystyle \\left[\\begin{matrix}2 & 0 & 0\\\\0 & \\frac{2}{3} & 0\\\\0 & 0 & \\frac{2}{5}\\end{matrix}\\right]$",
            "text/plain": [
              "Matrix([\n",
              "[2,   0,   0],\n",
              "[0, 2/3,   0],\n",
              "[0,   0, 2/5]])"
            ]
          },
          "metadata": {
            "tags": []
          },
          "execution_count": 20
        }
      ]
    },
    {
      "cell_type": "code",
      "metadata": {
        "colab": {
          "base_uri": "https://localhost:8080/",
          "height": 51
        },
        "id": "lxg7RTjEw44y",
        "outputId": "d3251750-5290-4c68-bb89-9daf81ed3dc1"
      },
      "source": [
        "sp.integrate( lp2*lp2, (x, -1, 1) )"
      ],
      "execution_count": 22,
      "outputs": [
        {
          "output_type": "execute_result",
          "data": {
            "text/latex": "$\\displaystyle \\frac{2}{5}$",
            "text/plain": [
              "2/5"
            ]
          },
          "metadata": {
            "tags": []
          },
          "execution_count": 22
        }
      ]
    },
    {
      "cell_type": "code",
      "metadata": {
        "id": "wpvW-Y3IxTk-"
      },
      "source": [
        ""
      ],
      "execution_count": null,
      "outputs": []
    }
  ]
}