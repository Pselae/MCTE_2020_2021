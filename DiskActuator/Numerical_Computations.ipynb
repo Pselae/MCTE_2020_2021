{
  "nbformat": 4,
  "nbformat_minor": 0,
  "metadata": {
    "colab": {
      "name": "Numerical_Computations.ipynb",
      "provenance": [],
      "authorship_tag": "ABX9TyPyTV0zvHQLjWyQ7CB2lZBd",
      "include_colab_link": true
    },
    "kernelspec": {
      "name": "python3",
      "display_name": "Python 3"
    },
    "language_info": {
      "name": "python"
    }
  },
  "cells": [
    {
      "cell_type": "markdown",
      "metadata": {
        "id": "view-in-github",
        "colab_type": "text"
      },
      "source": [
        "<a href=\"https://colab.research.google.com/github/joaochenriques/MCTE_2020_2021/blob/main/DiskActuator/Numerical_Computations.ipynb\" target=\"_parent\"><img src=\"https://colab.research.google.com/assets/colab-badge.svg\" alt=\"Open In Colab\"/></a>"
      ]
    },
    {
      "cell_type": "code",
      "metadata": {
        "id": "ngYrhzaf411H"
      },
      "source": [
        "from sympy import *\n",
        "init_printing()"
      ],
      "execution_count": 1,
      "outputs": []
    },
    {
      "cell_type": "code",
      "metadata": {
        "id": "YIOlbupnaX1y"
      },
      "source": [
        "Eq.__getitem__ = lambda self, i: self.args[i]\n",
        "# To allow equation.subs( [Eq(x,y)] )"
      ],
      "execution_count": 2,
      "outputs": []
    },
    {
      "cell_type": "markdown",
      "metadata": {
        "id": "BLEhN2HIcIGl"
      },
      "source": [
        "# Define the variables of the problem"
      ]
    },
    {
      "cell_type": "code",
      "metadata": {
        "id": "u_i1_X0z43-S"
      },
      "source": [
        "ζ1, ζ4, ζ4t, ζ4b, ζ5 = symbols( r\"\\zeta_1, \\zeta_4, \\zeta_{4b}, \\zeta_{4t}, \\zeta_5\" )"
      ],
      "execution_count": 3,
      "outputs": []
    },
    {
      "cell_type": "code",
      "metadata": {
        "id": "l9cFNTch5M3x"
      },
      "source": [
        "Fr1, Fr4, Fr4t, Fr4b, Fr5 = symbols( r\"\\mathrm{Fr}_1, \\mathrm{Fr}_4, \\mathrm{Fr}_{4t}, \\mathrm{Fr}_{4b}, \\mathrm{Fr}_5\" )"
      ],
      "execution_count": 4,
      "outputs": []
    },
    {
      "cell_type": "code",
      "metadata": {
        "id": "Agy3LvBn5U3H"
      },
      "source": [
        "B = symbols( \"B\")\n",
        "nt = symbols( \"n_t\")"
      ],
      "execution_count": 5,
      "outputs": []
    },
    {
      "cell_type": "markdown",
      "metadata": {
        "id": "wcyxTaTpi-UE"
      },
      "source": [
        "# Data of the problem"
      ]
    },
    {
      "cell_type": "code",
      "metadata": {
        "colab": {
          "base_uri": "https://localhost:8080/",
          "height": 38
        },
        "id": "MypfMhM6i9eV",
        "outputId": "ccf1689a-2ea8-4f57-9fa9-0f56f9519e70"
      },
      "source": [
        "data = { B: 0.2, ζ1: 1, Fr1: 0.2, Fr4b: 0.3 }\n",
        "data"
      ],
      "execution_count": 6,
      "outputs": [
        {
          "output_type": "execute_result",
          "data": {
            "image/png": "[encoded data removed]",
            "text/latex": "$\\displaystyle \\left\\{ B : 0.2, \\  \\mathrm{Fr}_1 : 0.2, \\  \\mathrm{Fr}_{4b} : 0.3, \\  \\zeta_{1} : 1\\right\\}$",
            "text/plain": [
              "{B: 0.2, \\mathrm{Fr}₁: 0.2, \\mathrm{Fr}_{4b}: 0.3, \\zeta₁: 1}"
            ]
          },
          "metadata": {
            "tags": []
          },
          "execution_count": 6
        }
      ]
    },
    {
      "cell_type": "markdown",
      "metadata": {
        "id": "GaegaKvwcM6W"
      },
      "source": [
        "# Define the equations required to compute the conditions at (4)"
      ]
    },
    {
      "cell_type": "code",
      "metadata": {
        "colab": {
          "base_uri": "https://localhost:8080/",
          "height": 55
        },
        "id": "He0Abd6p5tdX",
        "outputId": "c4cdcfe9-da1c-4f65-dcb8-4b2043168313"
      },
      "source": [
        "EqA1 = Eq( ζ4, ζ1 + Fr1**2/2 - Fr4b**2/2 )\n",
        "EqA1"
      ],
      "execution_count": 7,
      "outputs": [
        {
          "output_type": "execute_result",
          "data": {
            "image/png": "[encoded data removed]",
            "text/latex": "$\\displaystyle \\zeta_{4} = \\frac{\\mathrm{Fr}_1^{2}}{2} - \\frac{\\mathrm{Fr}_{4b}^{2}}{2} + \\zeta_{1}$",
            "text/plain": [
              "                     2                   2         \n",
              "         \\mathrm{Fr}₁    \\mathrm{Fr}_{4b}          \n",
              "\\zeta₄ = ───────────── - ───────────────── + \\zeta₁\n",
              "               2                 2                 "
            ]
          },
          "metadata": {
            "tags": []
          },
          "execution_count": 7
        }
      ]
    },
    {
      "cell_type": "code",
      "metadata": {
        "colab": {
          "base_uri": "https://localhost:8080/",
          "height": 38
        },
        "id": "5G3pGvnt52Ci",
        "outputId": "94ee0300-ad5f-4b0a-a9d2-37789bfdfe49"
      },
      "source": [
        "EqA2 = Eq( Fr4t * ζ4t + Fr4b * ζ4b, Fr1 * ζ1 )\n",
        "EqA2"
      ],
      "execution_count": 8,
      "outputs": [
        {
          "output_type": "execute_result",
          "data": {
            "image/png": "[encoded data removed]",
            "text/latex": "$\\displaystyle \\mathrm{Fr}_{4b} \\zeta_{4t} + \\mathrm{Fr}_{4t} \\zeta_{4b} = \\mathrm{Fr}_1 \\zeta_{1}$",
            "text/plain": [
              "\\mathrm{Fr}_{4b}⋅\\zeta_{4t} + \\mathrm{Fr}_{4t}⋅\\zeta_{4b} = \\mathrm{Fr}₁⋅\\zeta\n",
              "₁"
            ]
          },
          "metadata": {
            "tags": []
          },
          "execution_count": 8
        }
      ]
    },
    {
      "cell_type": "code",
      "metadata": {
        "colab": {
          "base_uri": "https://localhost:8080/",
          "height": 38
        },
        "id": "ichr8GK56CVB",
        "outputId": "4252e248-d09d-41ba-dd9c-e11ef33e891b"
      },
      "source": [
        "EqA3 = Eq( ζ4, ζ4t + ζ4b )\n",
        "EqA3"
      ],
      "execution_count": 9,
      "outputs": [
        {
          "output_type": "execute_result",
          "data": {
            "image/png": "[encoded data removed]",
            "text/latex": "$\\displaystyle \\zeta_{4} = \\zeta_{4b} + \\zeta_{4t}$",
            "text/plain": [
              "\\zeta₄ = \\zeta_{4b} + \\zeta_{4t}"
            ]
          },
          "metadata": {
            "tags": []
          },
          "execution_count": 9
        }
      ]
    },
    {
      "cell_type": "code",
      "metadata": {
        "colab": {
          "base_uri": "https://localhost:8080/",
          "height": 56
        },
        "id": "mp-vbSH96P8K",
        "outputId": "b9f0f101-691d-4ad5-a27b-07fef9f8bec6"
      },
      "source": [
        "EqA4 = Eq( Fr4t**2 * ζ4t + Fr4b**2 * ζ4b - Fr1**2 * ζ1, -( ζ4**2 - ζ1**2 )/2 - B/2*(Fr4b**2 - Fr4t**2) )\n",
        "EqA4"
      ],
      "execution_count": 10,
      "outputs": [
        {
          "output_type": "execute_result",
          "data": {
            "image/png": "[encoded data removed]",
            "text/latex": "$\\displaystyle - \\mathrm{Fr}_1^{2} \\zeta_{1} + \\mathrm{Fr}_{4b}^{2} \\zeta_{4t} + \\mathrm{Fr}_{4t}^{2} \\zeta_{4b} = - \\frac{B \\left(\\mathrm{Fr}_{4b}^{2} - \\mathrm{Fr}_{4t}^{2}\\right)}{2} + \\frac{\\zeta_{1}^{2}}{2} - \\frac{\\zeta_{4}^{2}}{2}$",
            "text/plain": [
              "                                                                              \n",
              "              2                          2                              2     \n",
              "- \\mathrm{Fr}₁ ⋅\\zeta₁ + \\mathrm{Fr}_{4b} ⋅\\zeta_{4t} + \\mathrm{Fr}_{4t} ⋅\\zet\n",
              "                                                                              \n",
              "\n",
              "             ⎛                2                   2⎞         2         2\n",
              "           B⋅⎝\\mathrm{Fr}_{4b}  - \\mathrm{Fr}_{4t} ⎠   \\zeta₁    \\zeta₄ \n",
              "a_{4b} = - ───────────────────────────────────────── + ─────── - ───────\n",
              "                               2                          2         2   "
            ]
          },
          "metadata": {
            "tags": []
          },
          "execution_count": 10
        }
      ]
    },
    {
      "cell_type": "code",
      "metadata": {
        "colab": {
          "base_uri": "https://localhost:8080/",
          "height": 58
        },
        "id": "MKj7PsXq6jn8",
        "outputId": "ea152c88-b547-4a5a-b049-81465bd0a351"
      },
      "source": [
        "sys1 = [ EqA1.subs(data), EqA2.subs(data), EqA3.subs(data), EqA4.subs(data) ]\n",
        "sys1"
      ],
      "execution_count": 11,
      "outputs": [
        {
          "output_type": "execute_result",
          "data": {
            "image/png": "[encoded data removed]",
            "text/latex": "$\\displaystyle \\left[ \\zeta_{4} = 0.975, \\  \\mathrm{Fr}_{4t} \\zeta_{4b} + 0.3 \\zeta_{4t} = 0.2, \\  \\zeta_{4} = \\zeta_{4b} + \\zeta_{4t}, \\  \\mathrm{Fr}_{4t}^{2} \\zeta_{4b} + 0.09 \\zeta_{4t} - 0.04 = 0.1 \\mathrm{Fr}_{4t}^{2} - \\frac{\\zeta_{4}^{2}}{2} + 0.491\\right]$",
            "text/plain": [
              "⎡                                                                             \n",
              "⎢                                                                             \n",
              "⎢\\zeta₄ = 0.975, \\mathrm{Fr}_{4t}⋅\\zeta_{4b} + 0.3⋅\\zeta_{4t} = 0.2, \\zeta₄ = \n",
              "⎣                                                                             \n",
              "\n",
              "                                                                              \n",
              "                                         2                                    \n",
              "\\zeta_{4b} + \\zeta_{4t}, \\mathrm{Fr}_{4t} ⋅\\zeta_{4b} + 0.09⋅\\zeta_{4t} - 0.04\n",
              "                                                                              \n",
              "\n",
              "                                 2        ⎤\n",
              "                       2   \\zeta₄         ⎥\n",
              " = 0.1⋅\\mathrm{Fr}_{4t}  - ─────── + 0.491⎥\n",
              "                              2           ⎦"
            ]
          },
          "metadata": {
            "tags": []
          },
          "execution_count": 11
        }
      ]
    },
    {
      "cell_type": "code",
      "metadata": {
        "id": "x07TpcTr6zjg",
        "outputId": "26d2ac92-7370-406c-8620-f13c3b316708",
        "colab": {
          "base_uri": "https://localhost:8080/",
          "height": 58
        }
      },
      "source": [
        "sol1 = solve( sys1, [ ζ4b, ζ4t, ζ4, Fr4t ], dict=True )\n",
        "sol1"
      ],
      "execution_count": 12,
      "outputs": [
        {
          "output_type": "execute_result",
          "data": {
            "image/png": "[encoded data removed]",
            "text/latex": "$\\displaystyle \\left[ \\left\\{ \\mathrm{Fr}_{4t} : -0.969482494766831, \\  \\zeta_{4} : 0.975, \\  \\zeta_{4b} : 0.0728643367524258, \\  \\zeta_{4t} : 0.902135663247574\\right\\}, \\  \\left\\{ \\mathrm{Fr}_{4t} : 0.0444824947668312, \\  \\zeta_{4} : 0.975, \\  \\zeta_{4b} : 0.36201042239979, \\  \\zeta_{4t} : 0.61298957760021\\right\\}\\right]$",
            "text/plain": [
              "[{\\mathrm{Fr}_{4t}: -0.969482494766831, \\zeta₄: 0.975, \\zeta_{4b}: 0.072864336\n",
              "7524258, \\zeta_{4t}: 0.902135663247574}, {\\mathrm{Fr}_{4t}: 0.0444824947668312\n",
              ", \\zeta₄: 0.975, \\zeta_{4b}: 0.36201042239979, \\zeta_{4t}: 0.61298957760021}]"
            ]
          },
          "metadata": {
            "tags": []
          },
          "execution_count": 12
        }
      ]
    },
    {
      "cell_type": "code",
      "metadata": {
        "colab": {
          "base_uri": "https://localhost:8080/"
        },
        "id": "QvQvGjgSgoxK",
        "outputId": "5c510723-5122-4af1-90ae-157fa5db6012"
      },
      "source": [
        "print( \"Number of sets of solutions: \", len( sol1 ) )"
      ],
      "execution_count": 13,
      "outputs": [
        {
          "output_type": "stream",
          "text": [
            "Number of sets of solutions:  2\n"
          ],
          "name": "stdout"
        }
      ]
    },
    {
      "cell_type": "code",
      "metadata": {
        "colab": {
          "base_uri": "https://localhost:8080/",
          "height": 55
        },
        "id": "tnshDJtO8WaN",
        "outputId": "654f5a91-f12d-44c6-9bc0-d6a90c6d998c"
      },
      "source": [
        "print( \"Invalid volution\" )\n",
        "sol1[0]"
      ],
      "execution_count": 14,
      "outputs": [
        {
          "output_type": "stream",
          "text": [
            "Invalid volution\n"
          ],
          "name": "stdout"
        },
        {
          "output_type": "execute_result",
          "data": {
            "image/png": "[encoded data removed]",
            "text/latex": "$\\displaystyle \\left\\{ \\mathrm{Fr}_{4t} : -0.969482494766831, \\  \\zeta_{4} : 0.975, \\  \\zeta_{4b} : 0.0728643367524258, \\  \\zeta_{4t} : 0.902135663247574\\right\\}$",
            "text/plain": [
              "{\\mathrm{Fr}_{4t}: -0.969482494766831, \\zeta₄: 0.975, \\zeta_{4b}: 0.0728643367\n",
              "524258, \\zeta_{4t}: 0.902135663247574}"
            ]
          },
          "metadata": {
            "tags": []
          },
          "execution_count": 14
        }
      ]
    },
    {
      "cell_type": "code",
      "metadata": {
        "colab": {
          "base_uri": "https://localhost:8080/",
          "height": 55
        },
        "id": "El4TiPUa9_K-",
        "outputId": "50136bf2-fd20-4d04-96df-95fc936ced26"
      },
      "source": [
        "print( \"Valid volution\" )\n",
        "sol1[1]"
      ],
      "execution_count": 15,
      "outputs": [
        {
          "output_type": "stream",
          "text": [
            "Valid volution\n"
          ],
          "name": "stdout"
        },
        {
          "output_type": "execute_result",
          "data": {
            "image/png": "[encoded data removed]",
            "text/latex": "$\\displaystyle \\left\\{ \\mathrm{Fr}_{4t} : 0.0444824947668312, \\  \\zeta_{4} : 0.975, \\  \\zeta_{4b} : 0.36201042239979, \\  \\zeta_{4t} : 0.61298957760021\\right\\}$",
            "text/plain": [
              "{\\mathrm{Fr}_{4t}: 0.0444824947668312, \\zeta₄: 0.975, \\zeta_{4b}: 0.3620104223\n",
              "9979, \\zeta_{4t}: 0.61298957760021}"
            ]
          },
          "metadata": {
            "tags": []
          },
          "execution_count": 15
        }
      ]
    },
    {
      "cell_type": "code",
      "metadata": {
        "id": "dEiikcxV0l2e",
        "outputId": "f56c89a0-2a15-498b-b801-c73fcc932f54",
        "colab": {
          "base_uri": "https://localhost:8080/",
          "height": 38
        }
      },
      "source": [
        "M1 = symbols( \"M_{1}\" )\n",
        "M1_value = Eq( M1, Fr1**2 * ζ1 ).subs( data ).subs( (sol1[1]) )\n",
        "M1_value"
      ],
      "execution_count": 16,
      "outputs": [
        {
          "output_type": "execute_result",
          "data": {
            "image/png": "[encoded data removed]",
            "text/latex": "$\\displaystyle M_{1} = 0.04$",
            "text/plain": [
              "M_{1} = 0.04"
            ]
          },
          "metadata": {
            "tags": []
          },
          "execution_count": 16
        }
      ]
    },
    {
      "cell_type": "code",
      "metadata": {
        "id": "1072lBAy0QXp",
        "outputId": "2e0837db-44aa-4f9d-bf72-49fb94d3f89f",
        "colab": {
          "base_uri": "https://localhost:8080/",
          "height": 38
        }
      },
      "source": [
        "M4 = symbols( \"M_{4}\" )\n",
        "M4_value = Eq( M4, Fr4t**2 * ζ4t + Fr4b**2 * ζ4b ).subs( data ).subs( (sol1[1]) )\n",
        "M4_value"
      ],
      "execution_count": 17,
      "outputs": [
        {
          "output_type": "execute_result",
          "data": {
            "image/png": "[encoded data removed]",
            "text/latex": "$\\displaystyle M_{4} = 0.0558853692340681$",
            "text/plain": [
              "M_{4} = 0.0558853692340681"
            ]
          },
          "metadata": {
            "tags": []
          },
          "execution_count": 17
        }
      ]
    },
    {
      "cell_type": "markdown",
      "metadata": {
        "id": "X7m3cmz7jSJQ"
      },
      "source": [
        "# Compute coefficients"
      ]
    },
    {
      "cell_type": "code",
      "metadata": {
        "id": "Y1wh9VO3-EAR"
      },
      "source": [
        "C_T, C_P = symbols( \"C_\\mathrm{T}, C_\\mathrm{P}\")\n",
        "Fr2t = symbols( \"\\mathrm{Fr}_{2t}\")"
      ],
      "execution_count": 18,
      "outputs": []
    },
    {
      "cell_type": "code",
      "metadata": {
        "id": "BH-9E6OP-118"
      },
      "source": [
        "EqCT = Eq( C_T, ( Fr4b**2-Fr4t**2 )/Fr1**2 ) \n",
        "EqCP = Eq( C_P, C_T * Fr2t / Fr1 )\n",
        "EqFr2t = Eq( Fr2t, Fr4t * ζ4t / B )"
      ],
      "execution_count": 19,
      "outputs": []
    },
    {
      "cell_type": "code",
      "metadata": {
        "colab": {
          "base_uri": "https://localhost:8080/",
          "height": 38
        },
        "id": "vk5Q8vI8-_13",
        "outputId": "f87bfcb9-94c1-4c55-cc5e-b8805692d8f1"
      },
      "source": [
        "EqCT.subs( sol1[1] ).subs( data )"
      ],
      "execution_count": 20,
      "outputs": [
        {
          "output_type": "execute_result",
          "data": {
            "image/png": "[encoded data removed]",
            "text/latex": "$\\displaystyle C_\\mathrm{T} = 2.20053269148297$",
            "text/plain": [
              "C_\\mathrm{T} = 2.20053269148297"
            ]
          },
          "metadata": {
            "tags": []
          },
          "execution_count": 20
        }
      ]
    },
    {
      "cell_type": "code",
      "metadata": {
        "colab": {
          "base_uri": "https://localhost:8080/",
          "height": 37
        },
        "id": "tLTTIhPMAbYW",
        "outputId": "d67399ff-2c83-410a-8854-2157cbc3e726"
      },
      "source": [
        "EqFr2t.subs( data ).subs( sol1[1] )"
      ],
      "execution_count": 21,
      "outputs": [
        {
          "output_type": "execute_result",
          "data": {
            "image/png": "[encoded data removed]",
            "text/latex": "$\\displaystyle \\mathrm{Fr}_{2t} = 0.080515633599685$",
            "text/plain": [
              "\\mathrm{Fr}_{2t} = 0.080515633599685"
            ]
          },
          "metadata": {
            "tags": []
          },
          "execution_count": 21
        }
      ]
    },
    {
      "cell_type": "code",
      "metadata": {
        "colab": {
          "base_uri": "https://localhost:8080/",
          "height": 38
        },
        "id": "3KHOWAkJAnNc",
        "outputId": "c03d9d7e-7bfd-461c-fffd-3ca21bf5dd4b"
      },
      "source": [
        "EqCP.subs( [EqFr2t] ).subs( [EqCT] ).subs( data ).subs( sol1[1] )"
      ],
      "execution_count": 22,
      "outputs": [
        {
          "output_type": "execute_result",
          "data": {
            "image/png": "[encoded data removed]",
            "text/latex": "$\\displaystyle C_\\mathrm{P} = 0.885886419557858$",
            "text/plain": [
              "C_\\mathrm{P} = 0.885886419557858"
            ]
          },
          "metadata": {
            "tags": []
          },
          "execution_count": 22
        }
      ]
    },
    {
      "cell_type": "markdown",
      "metadata": {
        "id": "muCCXgPxFChb"
      },
      "source": [
        "# Compute conditions at section (5)"
      ]
    },
    {
      "cell_type": "markdown",
      "metadata": {
        "id": "n0tji70gFNW5"
      },
      "source": [
        "Mass balance"
      ]
    },
    {
      "cell_type": "code",
      "metadata": {
        "id": "BTag4dqeWfaE",
        "colab": {
          "base_uri": "https://localhost:8080/",
          "height": 38
        },
        "outputId": "d51317a1-10aa-4f3d-999f-b953a36d4b8f"
      },
      "source": [
        "eqB1 = Eq( Fr1 * ζ1, Fr5 * ζ5 )\n",
        "eqB1"
      ],
      "execution_count": 23,
      "outputs": [
        {
          "output_type": "execute_result",
          "data": {
            "image/png": "[encoded data removed]",
            "text/latex": "$\\displaystyle \\mathrm{Fr}_1 \\zeta_{1} = \\mathrm{Fr}_5 \\zeta_{5}$",
            "text/plain": [
              "\\mathrm{Fr}₁⋅\\zeta₁ = \\mathrm{Fr}₅⋅\\zeta₅"
            ]
          },
          "metadata": {
            "tags": []
          },
          "execution_count": 23
        }
      ]
    },
    {
      "cell_type": "markdown",
      "metadata": {
        "id": "_v3qUX3QFczY"
      },
      "source": [
        "Momentum balance"
      ]
    },
    {
      "cell_type": "code",
      "metadata": {
        "colab": {
          "base_uri": "https://localhost:8080/",
          "height": 53
        },
        "id": "MpV9RnYmFYRb",
        "outputId": "d2e5abd6-8258-4e69-a197-10475f33686c"
      },
      "source": [
        "eqB2 = Eq( Fr5**2 * ζ5 - ( Fr4b**2 * ζ4b + Fr4t**2 * ζ4t ), -( ζ5**2 - ζ4**2 )/2 )\n",
        "eqB2"
      ],
      "execution_count": 24,
      "outputs": [
        {
          "output_type": "execute_result",
          "data": {
            "image/png": "[encoded data removed]",
            "text/latex": "$\\displaystyle \\mathrm{Fr}_5^{2} \\zeta_{5} - \\mathrm{Fr}_{4b}^{2} \\zeta_{4t} - \\mathrm{Fr}_{4t}^{2} \\zeta_{4b} = \\frac{\\zeta_{4}^{2}}{2} - \\frac{\\zeta_{5}^{2}}{2}$",
            "text/plain": [
              "                                                                              \n",
              "            2                          2                              2       \n",
              "\\mathrm{Fr}₅ ⋅\\zeta₅ - \\mathrm{Fr}_{4b} ⋅\\zeta_{4t} - \\mathrm{Fr}_{4t} ⋅\\zeta_\n",
              "                                                                              \n",
              "\n",
              "             2         2\n",
              "       \\zeta₄    \\zeta₅ \n",
              "{4b} = ─────── - ───────\n",
              "          2         2   "
            ]
          },
          "metadata": {
            "tags": []
          },
          "execution_count": 24
        }
      ]
    },
    {
      "cell_type": "code",
      "metadata": {
        "colab": {
          "base_uri": "https://localhost:8080/",
          "height": 58
        },
        "id": "1cTst5H0GEYL",
        "outputId": "51706432-41ba-4178-ae83-9ff77bbd05b5"
      },
      "source": [
        "sys2 = [ eqB1.subs(data).subs( (sol1[1]) ), eqB2.subs(data).subs( (sol1[1]) ) ]\n",
        "sys2"
      ],
      "execution_count": 25,
      "outputs": [
        {
          "output_type": "execute_result",
          "data": {
            "image/png": "[encoded data removed]",
            "text/latex": "$\\displaystyle \\left[ 0.2 = \\mathrm{Fr}_5 \\zeta_{5}, \\  \\mathrm{Fr}_5^{2} \\zeta_{5} - 0.0558853692340681 = 0.4753125 - \\frac{\\zeta_{5}^{2}}{2}\\right]$",
            "text/plain": [
              "⎡                                                                             \n",
              "⎢                                       2                                     \n",
              "⎢0.2 = \\mathrm{Fr}₅⋅\\zeta₅, \\mathrm{Fr}₅ ⋅\\zeta₅ - 0.0558853692340681 = 0.4753\n",
              "⎣                                                                             \n",
              "\n",
              "            2⎤\n",
              "      \\zeta₅ ⎥\n",
              "125 - ───────⎥\n",
              "         2   ⎦"
            ]
          },
          "metadata": {
            "tags": []
          },
          "execution_count": 25
        }
      ]
    },
    {
      "cell_type": "code",
      "metadata": {
        "id": "cXseFScaGNQw"
      },
      "source": [
        "sol2 = solve( sys2, [ ζ5, Fr5 ], dict=True )"
      ],
      "execution_count": 26,
      "outputs": []
    },
    {
      "cell_type": "code",
      "metadata": {
        "colab": {
          "base_uri": "https://localhost:8080/"
        },
        "id": "S3vqXsa9h-04",
        "outputId": "51819647-2ff8-491a-a67f-656d8ea3c79c"
      },
      "source": [
        "print( \"Number of sets of solutions: \", len( sol2 ) )"
      ],
      "execution_count": 27,
      "outputs": [
        {
          "output_type": "stream",
          "text": [
            "Number of sets of solutions:  3\n"
          ],
          "name": "stdout"
        }
      ]
    },
    {
      "cell_type": "code",
      "metadata": {
        "colab": {
          "base_uri": "https://localhost:8080/",
          "height": 38
        },
        "id": "P5Odo-8vGcsj",
        "outputId": "55b61bda-c790-4004-dc28-bb0aadb9cf09"
      },
      "source": [
        "sol2[0] "
      ],
      "execution_count": 28,
      "outputs": [
        {
          "output_type": "execute_result",
          "data": {
            "image/png": "[encoded data removed]",
            "text/latex": "$\\displaystyle \\left\\{ \\mathrm{Fr}_5 : -0.187530481849815 + 3.0 \\cdot 10^{-23} i, \\  \\zeta_{5} : -1.06649328699625 - 5.44363275493285 \\cdot 10^{-25} i\\right\\}$",
            "text/plain": [
              "{\\mathrm{Fr}₅: -0.187530481849815 + 0.e-23⋅ⅈ, \\zeta₅: -1.06649328699625 - 5.44\n",
              "363275493285e-25⋅ⅈ}"
            ]
          },
          "metadata": {
            "tags": []
          },
          "execution_count": 28
        }
      ]
    },
    {
      "cell_type": "code",
      "metadata": {
        "colab": {
          "base_uri": "https://localhost:8080/",
          "height": 38
        },
        "id": "5aLZ-jKZGfxB",
        "outputId": "0cc8196c-07cb-4df6-af09-8d7219e87808"
      },
      "source": [
        "sol2[1]"
      ],
      "execution_count": 29,
      "outputs": [
        {
          "output_type": "execute_result",
          "data": {
            "image/png": "[encoded data removed]",
            "text/latex": "$\\displaystyle \\left\\{ \\mathrm{Fr}_5 : 0.201860487996679 - 5.0 \\cdot 10^{-23} i, \\  \\zeta_{5} : 0.990783297835336 + 1.30061497902087 \\cdot 10^{-22} i\\right\\}$",
            "text/plain": [
              "{\\mathrm{Fr}₅: 0.201860487996679 - 0.e-22⋅ⅈ, \\zeta₅: 0.990783297835336 + 1.300\n",
              "61497902087e-22⋅ⅈ}"
            ]
          },
          "metadata": {
            "tags": []
          },
          "execution_count": 29
        }
      ]
    },
    {
      "cell_type": "code",
      "metadata": {
        "colab": {
          "base_uri": "https://localhost:8080/",
          "height": 38
        },
        "id": "diDkQy-rUxzS",
        "outputId": "000f15ab-5cf0-4209-d3da-df79ec664ceb"
      },
      "source": [
        "sol2[2]"
      ],
      "execution_count": 30,
      "outputs": [
        {
          "output_type": "execute_result",
          "data": {
            "image/png": "[encoded data removed]",
            "text/latex": "$\\displaystyle \\left\\{ \\mathrm{Fr}_5 : 2.64165934002348 - 8.0 \\cdot 10^{-22} i, \\  \\zeta_{5} : 0.0757099891609122 - 2.38221021857946 \\cdot 10^{-25} i\\right\\}$",
            "text/plain": [
              "{\\mathrm{Fr}₅: 2.64165934002348 - 0.e-21⋅ⅈ, \\zeta₅: 0.0757099891609122 - 2.382\n",
              "21021857946e-25⋅ⅈ}"
            ]
          },
          "metadata": {
            "tags": []
          },
          "execution_count": 30
        }
      ]
    },
    {
      "cell_type": "code",
      "metadata": {
        "colab": {
          "base_uri": "https://localhost:8080/",
          "height": 38
        },
        "id": "o24Cv51WGiiv",
        "outputId": "daddbc82-0cd6-484a-b803-42aa8bd7f738"
      },
      "source": [
        "Δζ15 = symbols( r\"\\Delta\\zeta_{15}\" )\n",
        "eqC1 = Eq( Δζ15, ζ1 - sol2[1][ζ5] ).subs( data )\n",
        "eqC1"
      ],
      "execution_count": 31,
      "outputs": [
        {
          "output_type": "execute_result",
          "data": {
            "image/png": "[encoded data removed]",
            "text/latex": "$\\displaystyle \\Delta\\zeta_{15} = 0.00921670216466375 - 1.30061497902087 \\cdot 10^{-22} i$",
            "text/plain": [
              "\\Delta\\zeta_{15} = 0.00921670216466375 - 1.30061497902087e-22⋅ⅈ"
            ]
          },
          "metadata": {
            "tags": []
          },
          "execution_count": 31
        }
      ]
    },
    {
      "cell_type": "code",
      "metadata": {
        "colab": {
          "base_uri": "https://localhost:8080/",
          "height": 38
        },
        "id": "W7KgqRZfV_5_",
        "outputId": "ff1c6d32-19f3-4c37-c109-7b069d373ecc"
      },
      "source": [
        "Δζ45 = symbols( r\"\\Delta\\zeta_{45}\" )\n",
        "eqD1 = Eq( Δζ45, round( sol1[1][ζ4] - re( sol2[1][ζ5] ), 4 ) )\n",
        "eqD1"
      ],
      "execution_count": 32,
      "outputs": [
        {
          "output_type": "execute_result",
          "data": {
            "image/png": "[encoded data removed]",
            "text/latex": "$\\displaystyle \\Delta\\zeta_{45} = -0.0158$",
            "text/plain": [
              "\\Delta\\zeta_{45} = -0.0158"
            ]
          },
          "metadata": {
            "tags": []
          },
          "execution_count": 32
        }
      ]
    },
    {
      "cell_type": "code",
      "metadata": {
        "id": "8MPVISG8nlyU",
        "outputId": "5ca0aa57-014a-41cc-f3b1-b1d907cabb11",
        "colab": {
          "base_uri": "https://localhost:8080/",
          "height": 38
        }
      },
      "source": [
        "M5 = symbols( \"M_5\" )\n",
        "M5_value = simplify( Eq( M5, Fr5**2 * ζ5 ).subs( sol2[1] ) )\n",
        "M5_value "
      ],
      "execution_count": 33,
      "outputs": [
        {
          "output_type": "execute_result",
          "data": {
            "image/png": "[encoded data removed]",
            "text/latex": "$\\displaystyle M_{5} = 0.0403720975993358 - 1.58761224261073 \\cdot 10^{-23} i$",
            "text/plain": [
              "M₅ = 0.0403720975993358 - 1.58761224261073e-23⋅ⅈ"
            ]
          },
          "metadata": {
            "tags": []
          },
          "execution_count": 33
        }
      ]
    },
    {
      "cell_type": "code",
      "metadata": {
        "id": "7vCod39U4Utz"
      },
      "source": [
        ""
      ],
      "execution_count": 33,
      "outputs": []
    }
  ]
}