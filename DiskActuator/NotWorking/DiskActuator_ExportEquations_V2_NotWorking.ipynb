{
  "nbformat": 4,
  "nbformat_minor": 0,
  "metadata": {
    "colab": {
      "name": "DiskActuator_ExportEquations.ipynb",
      "provenance": [],
      "include_colab_link": true
    },
    "kernelspec": {
      "name": "python3",
      "display_name": "Python 3"
    },
    "language_info": {
      "name": "python"
    }
  },
  "cells": [
    {
      "cell_type": "markdown",
      "metadata": {
        "id": "view-in-github",
        "colab_type": "text"
      },
      "source": [
        "<a href=\"https://colab.research.google.com/github/joaochenriques/MCTE_2020_2021/blob/main/DiskActuator/DiskActuator_ExportEquations_V2_NotWorking.ipynb\" target=\"_parent\"><img src=\"https://colab.research.google.com/assets/colab-badge.svg\" alt=\"Open In Colab\"/></a>"
      ]
    },
    {
      "cell_type": "code",
      "metadata": {
        "id": "BmAkVzVmeipL"
      },
      "source": [
        "from sympy import *\n",
        "from sympy.printing.lambdarepr import lambdarepr"
      ],
      "execution_count": 1,
      "outputs": []
    },
    {
      "cell_type": "code",
      "metadata": {
        "id": "XKLQk-_egk-f"
      },
      "source": [
        "h1, h2t, h3t, h4, h4t, h4b = symbols( r\"h1, h2t, h3t, h4, h4t, h4b\" )"
      ],
      "execution_count": 2,
      "outputs": []
    },
    {
      "cell_type": "code",
      "metadata": {
        "id": "DwHmqFqWhihr"
      },
      "source": [
        "u1, u2t, u3t, u4b, u4t = symbols( r\"u1, u2t, u3t, u4b, u4t\" )"
      ],
      "execution_count": 3,
      "outputs": []
    },
    {
      "cell_type": "markdown",
      "metadata": {
        "id": "tZUEU50ahL-r"
      },
      "source": [
        "The dimensionless depth $\\zeta_i$ is defined has\n",
        "\n",
        "$$\\zeta_i=\\dfrac{h_i}{h_1}.$$"
      ]
    },
    {
      "cell_type": "code",
      "metadata": {
        "id": "q-PTIecNnqxa"
      },
      "source": [
        "ζ1, ζ2t, ζ3t, ζ4, ζ4t, ζ4b = symbols( r\"ζ1, ζ2t, ζ3t, ζ4, ζ4t, ζ4b\")"
      ],
      "execution_count": 4,
      "outputs": []
    },
    {
      "cell_type": "markdown",
      "metadata": {
        "id": "4QSX6BHrgeAh"
      },
      "source": [
        "Froude numbers are based on the depth of the undisturbed flow $h_1$, i.e.,\n",
        "\n",
        "$$\\mathrm{Fr}_{u_i}=\\dfrac{u_i}{\\sqrt{gh_1}}.$$"
      ]
    },
    {
      "cell_type": "code",
      "metadata": {
        "id": "5uO0Dv8cmlUN"
      },
      "source": [
        "Fr1 = symbols( r\"Fr1\")\n",
        "Fr2t, Fr3t = symbols( r\"Fr2t, Fr3t\")\n",
        "Fr4b, Fr4t = symbols( r\"Fr4b, Fr4t\")"
      ],
      "execution_count": 5,
      "outputs": []
    },
    {
      "cell_type": "code",
      "metadata": {
        "id": "9Xfv1EsAvVLg"
      },
      "source": [
        "ρ, g, T, At, C_T, C_P = symbols( r\"ρ, g, T, At, C_T, C_P\" )"
      ],
      "execution_count": 6,
      "outputs": []
    },
    {
      "cell_type": "markdown",
      "metadata": {
        "id": "VnMCLPv_o-OP"
      },
      "source": [
        "Generic definitions used in substitutions"
      ]
    },
    {
      "cell_type": "code",
      "metadata": {
        "id": "frtwFIbzlfIz"
      },
      "source": [
        "zetas = { h2t/h1: ζ2t, h3t/h1: ζ3t, h4/h1: ζ4, h4t/h1: ζ4t, h4b/h1: ζ4b }\n",
        "\n",
        "Froudes = { ( u1  / sqrt(g*h1) ): Fr1,\n",
        "            ( u4t / sqrt(g*h1) ): Fr4t, \n",
        "            ( u4b / sqrt(g*h1) ): Fr4b }\n",
        "\n",
        "Sqr_Froudes = { ( u1 **2 / (g*h1) ): Fr1 **2, \n",
        "                ( u2t**2 / (g*h1) ): Fr2t**2,\n",
        "                ( u3t**2 / (g*h1) ): Fr3t**2,\n",
        "                ( u4b**2 / (g*h1) ): Fr4b**2,\n",
        "                ( u4t**2 / (g*h1) ): Fr4t**2 }"
      ],
      "execution_count": 7,
      "outputs": []
    },
    {
      "cell_type": "markdown",
      "metadata": {
        "id": "PbcO62IIoPFs"
      },
      "source": [
        "# Bernoulli equations \n",
        "\n",
        "<img src=\"https://raw.githubusercontent.com/joaochenriques/MCTE_2020_2021/main/DiskActuator/figs/domain_V2.svg\" width=\"500px\" style=\"display:inline\">"
      ]
    },
    {
      "cell_type": "code",
      "metadata": {
        "id": "eVIEUqJbkjrn",
        "colab": {
          "base_uri": "https://localhost:8080/",
          "height": 57
        },
        "outputId": "9f362ec8-0f84-4f89-eb1f-08d8ad734f80"
      },
      "source": [
        "eqA1 = Eq( h1 + u1**2/(2*g), h4 + u4b**2/(2*g) )\n",
        "eqA1"
      ],
      "execution_count": 8,
      "outputs": [
        {
          "output_type": "execute_result",
          "data": {
            "text/latex": "$\\displaystyle h_{1} + \\frac{u_{1}^{2}}{2 g} = h_{4} + \\frac{u4b^{2}}{2 g}$",
            "text/plain": [
              "Eq(h1 + u1**2/(2*g), h4 + u4b**2/(2*g))"
            ]
          },
          "metadata": {
            "tags": []
          },
          "execution_count": 8
        }
      ]
    },
    {
      "cell_type": "code",
      "metadata": {
        "colab": {
          "base_uri": "https://localhost:8080/",
          "height": 54
        },
        "id": "nw_aIxVBhz4C",
        "outputId": "bb036897-eb46-4651-a4f0-50afebdaee83"
      },
      "source": [
        "eqA2 = expand(Eq( eqA1.lhs / h1, eqA1.rhs / h1  ) )\\\n",
        "          .subs( zetas )\\\n",
        "          .subs( Sqr_Froudes )\n",
        "eqA2"
      ],
      "execution_count": 9,
      "outputs": [
        {
          "output_type": "execute_result",
          "data": {
            "text/latex": "$\\displaystyle \\frac{Fr_{1}^{2}}{2} + 1 = \\frac{Fr4b^{2}}{2} + ζ4$",
            "text/plain": [
              "Eq(Fr1**2/2 + 1, Fr4b**2/2 + ζ4)"
            ]
          },
          "metadata": {
            "tags": []
          },
          "execution_count": 9
        }
      ]
    },
    {
      "cell_type": "code",
      "metadata": {
        "id": "CtOFm53Kkw62",
        "colab": {
          "base_uri": "https://localhost:8080/",
          "height": 57
        },
        "outputId": "4acee7a6-5fbe-455d-b7e9-14922bc3d595"
      },
      "source": [
        "eqB1 = Eq( h1 + u1**2/(2*g), h2t + u2t**2/(2*g) )\n",
        "eqB1"
      ],
      "execution_count": 10,
      "outputs": [
        {
          "output_type": "execute_result",
          "data": {
            "text/latex": "$\\displaystyle h_{1} + \\frac{u_{1}^{2}}{2 g} = h2t + \\frac{u2t^{2}}{2 g}$",
            "text/plain": [
              "Eq(h1 + u1**2/(2*g), h2t + u2t**2/(2*g))"
            ]
          },
          "metadata": {
            "tags": []
          },
          "execution_count": 10
        }
      ]
    },
    {
      "cell_type": "code",
      "metadata": {
        "id": "BLZhgtwklESG",
        "colab": {
          "base_uri": "https://localhost:8080/",
          "height": 54
        },
        "outputId": "1260c455-40b0-42a3-9864-1013eb4e6774"
      },
      "source": [
        "eqB2 = expand(Eq( eqB1.lhs / h1, eqB1.rhs / h1  ) )\\\n",
        "          .subs( zetas )\\\n",
        "          .subs( Sqr_Froudes )\n",
        "eqB2"
      ],
      "execution_count": 11,
      "outputs": [
        {
          "output_type": "execute_result",
          "data": {
            "text/latex": "$\\displaystyle \\frac{Fr_{1}^{2}}{2} + 1 = \\frac{Fr2t^{2}}{2} + ζ2t$",
            "text/plain": [
              "Eq(Fr1**2/2 + 1, Fr2t**2/2 + ζ2t)"
            ]
          },
          "metadata": {
            "tags": []
          },
          "execution_count": 11
        }
      ]
    },
    {
      "cell_type": "code",
      "metadata": {
        "id": "nCgu5IFZk26N",
        "colab": {
          "base_uri": "https://localhost:8080/",
          "height": 57
        },
        "outputId": "a5687453-c0af-4bec-ccdf-ff0d9c4cba2d"
      },
      "source": [
        "eqC1 = Eq( h3t + u3t**2/(2*g), h4 + u4t**2/(2*g) )\n",
        "eqC1"
      ],
      "execution_count": 12,
      "outputs": [
        {
          "output_type": "execute_result",
          "data": {
            "text/latex": "$\\displaystyle h3t + \\frac{u3t^{2}}{2 g} = h_{4} + \\frac{u4t^{2}}{2 g}$",
            "text/plain": [
              "Eq(h3t + u3t**2/(2*g), h4 + u4t**2/(2*g))"
            ]
          },
          "metadata": {
            "tags": []
          },
          "execution_count": 12
        }
      ]
    },
    {
      "cell_type": "code",
      "metadata": {
        "colab": {
          "base_uri": "https://localhost:8080/",
          "height": 54
        },
        "id": "KFAswnKO6bno",
        "outputId": "0238476e-2d53-4799-ac56-033c6bc9819b"
      },
      "source": [
        "eqC2 = expand(Eq( eqC1.lhs / h1, eqC1.rhs / h1  ) )\\\n",
        "          .subs( zetas )\\\n",
        "          .subs( Sqr_Froudes )\n",
        "eqC2"
      ],
      "execution_count": 13,
      "outputs": [
        {
          "output_type": "execute_result",
          "data": {
            "text/latex": "$\\displaystyle \\frac{Fr3t^{2}}{2} + ζ3t = \\frac{Fr4t^{2}}{2} + ζ4$",
            "text/plain": [
              "Eq(Fr3t**2/2 + ζ3t, Fr4t**2/2 + ζ4)"
            ]
          },
          "metadata": {
            "tags": []
          },
          "execution_count": 13
        }
      ]
    },
    {
      "cell_type": "markdown",
      "metadata": {
        "id": "xQEdKu1Owra8"
      },
      "source": [
        "# Force on the turbine\n",
        "\n",
        "<img src=\"https://raw.githubusercontent.com/joaochenriques/MCTE_2020_2021/main/DiskActuator/figs/Turbine.svg\" width=\"200px\" style=\"display:inline\">"
      ]
    },
    {
      "cell_type": "code",
      "metadata": {
        "id": "oYkbo3Udk8dd",
        "colab": {
          "base_uri": "https://localhost:8080/",
          "height": 38
        },
        "outputId": "d87bfc59-33a3-40b9-ae8e-9369da9a7fe9"
      },
      "source": [
        "eqD1 = Eq( T, ρ*g*(h2t-h3t)*At )\n",
        "eqD1"
      ],
      "execution_count": 14,
      "outputs": [
        {
          "output_type": "execute_result",
          "data": {
            "text/latex": "$\\displaystyle T = At g ρ \\left(h2t - h3t\\right)$",
            "text/plain": [
              "Eq(T, At*g*ρ*(h2t - h3t))"
            ]
          },
          "metadata": {
            "tags": []
          },
          "execution_count": 14
        }
      ]
    },
    {
      "cell_type": "code",
      "metadata": {
        "id": "06vuDtdilvXm",
        "colab": {
          "base_uri": "https://localhost:8080/",
          "height": 54
        },
        "outputId": "194d28ac-d7b3-435c-ed68-58b779887e27"
      },
      "source": [
        "eqD2 = expand( Eq( eqD1.lhs / ( ρ*g*At*h1 ), eqD1.rhs / ( ρ*g*At*h1 ) ) ).subs( zetas )\n",
        "eqD3 = eqD2.subs( T, ρ*u1**2*At/2 * C_T )\n",
        "eqD4 = eqD3.subs( Sqr_Froudes )\n",
        "eqD4"
      ],
      "execution_count": 15,
      "outputs": [
        {
          "output_type": "execute_result",
          "data": {
            "text/latex": "$\\displaystyle \\frac{C_{T} Fr_{1}^{2}}{2} = ζ2t - ζ3t$",
            "text/plain": [
              "Eq(C_T*Fr1**2/2, ζ2t - ζ3t)"
            ]
          },
          "metadata": {
            "tags": []
          },
          "execution_count": 15
        }
      ]
    },
    {
      "cell_type": "code",
      "metadata": {
        "colab": {
          "base_uri": "https://localhost:8080/",
          "height": 54
        },
        "id": "hPtYNYJUNNA2",
        "outputId": "8b0c4bd3-b420-4e5b-b5d1-c9facc8a56a8"
      },
      "source": [
        "eqE1 = Eq( C_P, C_T * u2t / u1 ).subs( u2t/u1, Fr2t/Fr1 )\n",
        "eqE1"
      ],
      "execution_count": 16,
      "outputs": [
        {
          "output_type": "execute_result",
          "data": {
            "text/latex": "$\\displaystyle C_{P} = \\frac{C_{T} Fr2t}{Fr_{1}}$",
            "text/plain": [
              "Eq(C_P, C_T*Fr2t/Fr1)"
            ]
          },
          "metadata": {
            "tags": []
          },
          "execution_count": 16
        }
      ]
    },
    {
      "cell_type": "markdown",
      "metadata": {
        "id": "CqGZfXE-aZK0"
      },
      "source": [
        "Since $u_\\mathrm{2t}=u_\\mathrm{3t}$ the\n",
        "\n",
        "$$\\mathrm{Fr}_\\mathrm{2t}=\\mathrm{Fr}_\\mathrm{3t}$$"
      ]
    },
    {
      "cell_type": "code",
      "metadata": {
        "colab": {
          "base_uri": "https://localhost:8080/",
          "height": 54
        },
        "id": "fXR-jNqDNtfI",
        "outputId": "2df9d3a4-5fdb-4897-dc4e-d140357537a5"
      },
      "source": [
        "eqF1 = Eq( eqA2.rhs - eqC2.rhs, eqB2.rhs - eqC2.lhs ).subs( Fr2t, Fr3t )\n",
        "eqF1 "
      ],
      "execution_count": 17,
      "outputs": [
        {
          "output_type": "execute_result",
          "data": {
            "text/latex": "$\\displaystyle \\frac{Fr4b^{2}}{2} - \\frac{Fr4t^{2}}{2} = ζ2t - ζ3t$",
            "text/plain": [
              "Eq(Fr4b**2/2 - Fr4t**2/2, ζ2t - ζ3t)"
            ]
          },
          "metadata": {
            "tags": []
          },
          "execution_count": 17
        }
      ]
    },
    {
      "cell_type": "code",
      "metadata": {
        "colab": {
          "base_uri": "https://localhost:8080/",
          "height": 38
        },
        "id": "7mzwlbgNbP1R",
        "outputId": "a8d1157f-8c12-4a45-b98a-52d47fef68e5"
      },
      "source": [
        "eqG1 = Eq( eqD4.lhs * 2, eqF1.lhs * 2 )\n",
        "eqG1"
      ],
      "execution_count": 18,
      "outputs": [
        {
          "output_type": "execute_result",
          "data": {
            "text/latex": "$\\displaystyle C_{T} Fr_{1}^{2} = Fr4b^{2} - Fr4t^{2}$",
            "text/plain": [
              "Eq(C_T*Fr1**2, Fr4b**2 - Fr4t**2)"
            ]
          },
          "metadata": {
            "tags": []
          },
          "execution_count": 18
        }
      ]
    },
    {
      "cell_type": "markdown",
      "metadata": {
        "id": "ED6VuDFkwibl"
      },
      "source": [
        "# Mass balance"
      ]
    },
    {
      "cell_type": "code",
      "metadata": {
        "colab": {
          "base_uri": "https://localhost:8080/",
          "height": 38
        },
        "id": "YeLktTPENkkH",
        "outputId": "4dec49e9-b0fa-4973-b4af-ccff015ec03a"
      },
      "source": [
        "eqH1 = Eq( u4b * h4b + u4t * h4t, u1*h1 )\n",
        "eqH1"
      ],
      "execution_count": 19,
      "outputs": [
        {
          "output_type": "execute_result",
          "data": {
            "text/latex": "$\\displaystyle h4b u4b + h4t u4t = h_{1} u_{1}$",
            "text/plain": [
              "Eq(h4b*u4b + h4t*u4t, h1*u1)"
            ]
          },
          "metadata": {
            "tags": []
          },
          "execution_count": 19
        }
      ]
    },
    {
      "cell_type": "code",
      "metadata": {
        "colab": {
          "base_uri": "https://localhost:8080/",
          "height": 38
        },
        "id": "Rv82tY9wcodd",
        "outputId": "64e687ef-1f9e-4d50-ae4b-2966c13fb07e"
      },
      "source": [
        "eqH2 = expand( Eq( eqH1.lhs / ( h1*sqrt(g*h1) ), eqH1.rhs / ( h1*sqrt(g*h1) ) ) )\\\n",
        "          .subs( zetas )\\\n",
        "          .subs( Froudes )\n",
        "eqH2"
      ],
      "execution_count": 20,
      "outputs": [
        {
          "output_type": "execute_result",
          "data": {
            "text/latex": "$\\displaystyle Fr4b ζ4b + Fr4t ζ4t = Fr_{1}$",
            "text/plain": [
              "Eq(Fr4b*ζ4b + Fr4t*ζ4t, Fr1)"
            ]
          },
          "metadata": {
            "tags": []
          },
          "execution_count": 20
        }
      ]
    },
    {
      "cell_type": "markdown",
      "metadata": {
        "id": "dh2m4JXLoqxx"
      },
      "source": [
        "# Momentum balance"
      ]
    },
    {
      "cell_type": "code",
      "metadata": {
        "id": "Lb1Giyebo6Af"
      },
      "source": [
        "b, B = symbols( \"b, B\" )\n",
        "M4t, M4b, M1, Fp4, Fp1 = symbols( \"M4t, M4b, M1, Fp4, Fp1\")"
      ],
      "execution_count": 21,
      "outputs": []
    },
    {
      "cell_type": "code",
      "metadata": {
        "colab": {
          "base_uri": "https://localhost:8080/",
          "height": 38
        },
        "id": "RKX8dqxHNvp3",
        "outputId": "c6613b74-e646-485d-f47a-690de4eaed50"
      },
      "source": [
        "eqI1 = Eq( M4b + M4t - M1, -(Fp4-Fp1) - T )\n",
        "eqI1"
      ],
      "execution_count": 22,
      "outputs": [
        {
          "output_type": "execute_result",
          "data": {
            "text/latex": "$\\displaystyle - M_{1} + M4b + M4t = Fp_{1} - Fp_{4} - T$",
            "text/plain": [
              "Eq(-M1 + M4b + M4t, Fp1 - Fp4 - T)"
            ]
          },
          "metadata": {
            "tags": []
          },
          "execution_count": 22
        }
      ]
    },
    {
      "cell_type": "code",
      "metadata": {
        "colab": {
          "base_uri": "https://localhost:8080/",
          "height": 54
        },
        "id": "mf90DKLa69wd",
        "outputId": "ac3acb06-eeea-468b-e64a-9514b632ac50"
      },
      "source": [
        "eqI2 = eqI1.subs( M4b, ρ*u4b**2*h4b*b).subs( M4t, ρ*u4t**2*h4t*b)\\\n",
        "          .subs( M1, ρ*u1**2*h1*b ).subs( Fp1, ρ*g*b*h1**2/2 )\\\n",
        "          .subs( Fp4, ρ*g*b*h4**2/2 ).subs( T, C_T*ρ*u1**2*At/2)\n",
        "eqI2"
      ],
      "execution_count": 23,
      "outputs": [
        {
          "output_type": "execute_result",
          "data": {
            "text/latex": "$\\displaystyle - b h_{1} u_{1}^{2} ρ + b h4b u4b^{2} ρ + b h4t u4t^{2} ρ = - \\frac{At C_{T} u_{1}^{2} ρ}{2} + \\frac{b g h_{1}^{2} ρ}{2} - \\frac{b g h_{4}^{2} ρ}{2}$",
            "text/plain": [
              "Eq(-b*h1*u1**2*ρ + b*h4b*u4b**2*ρ + b*h4t*u4t**2*ρ, -At*C_T*u1**2*ρ/2 + b*g*h1**2*ρ/2 - b*g*h4**2*ρ/2)"
            ]
          },
          "metadata": {
            "tags": []
          },
          "execution_count": 23
        }
      ]
    },
    {
      "cell_type": "markdown",
      "metadata": {
        "id": "MNMSI3AqoQSQ"
      },
      "source": [
        "Knowing that Blockage factor  $A_\\mathrm{t}=B\\,bh_1$"
      ]
    },
    {
      "cell_type": "code",
      "metadata": {
        "colab": {
          "base_uri": "https://localhost:8080/",
          "height": 54
        },
        "id": "bYrt4jHH9Tpg",
        "outputId": "fa190b26-46f2-4257-ee1b-ce7854be3ebe"
      },
      "source": [
        "eqI3 = expand( Eq( eqI2.lhs / ( ρ*g*h1**2*b ), eqI2.rhs / ( ρ*g*h1**2*b ) ) )\n",
        "eqI4 = eqI3.subs( zetas ).subs( Sqr_Froudes ).subs( b*h1, At/B)\n",
        "eqI4"
      ],
      "execution_count": 24,
      "outputs": [
        {
          "output_type": "execute_result",
          "data": {
            "text/latex": "$\\displaystyle - Fr_{1}^{2} + Fr4b^{2} ζ4b + Fr4t^{2} ζ4t = - \\frac{B C_{T} Fr_{1}^{2}}{2} - \\frac{ζ4^{2}}{2} + \\frac{1}{2}$",
            "text/plain": [
              "Eq(-Fr1**2 + Fr4b**2*ζ4b + Fr4t**2*ζ4t, -B*C_T*Fr1**2/2 - ζ4**2/2 + 1/2)"
            ]
          },
          "metadata": {
            "tags": []
          },
          "execution_count": 24
        }
      ]
    },
    {
      "cell_type": "code",
      "metadata": {
        "colab": {
          "base_uri": "https://localhost:8080/",
          "height": 55
        },
        "id": "AExf6ouj_L1n",
        "outputId": "64cf97ac-2e4a-407a-939b-b0efbe46b2fc"
      },
      "source": [
        "eqI5 = eqI4.subs( eqG1.lhs, eqG1.rhs )\n",
        "eqI5"
      ],
      "execution_count": 25,
      "outputs": [
        {
          "output_type": "execute_result",
          "data": {
            "text/latex": "$\\displaystyle - Fr_{1}^{2} + Fr4b^{2} ζ4b + Fr4t^{2} ζ4t = - \\frac{B \\left(Fr4b^{2} - Fr4t^{2}\\right)}{2} - \\frac{ζ4^{2}}{2} + \\frac{1}{2}$",
            "text/plain": [
              "Eq(-Fr1**2 + Fr4b**2*ζ4b + Fr4t**2*ζ4t, -B*(Fr4b**2 - Fr4t**2)/2 - ζ4**2/2 + 1/2)"
            ]
          },
          "metadata": {
            "tags": []
          },
          "execution_count": 25
        }
      ]
    },
    {
      "cell_type": "markdown",
      "metadata": {
        "id": "Qf5ZZ9xcDZvC"
      },
      "source": [
        "Specifying:\n",
        "\n",
        "* Blockage factor $0 \\le B \\lt 1$\n",
        "* Upstream Froude number $\\mathrm{Fr}_1$\n",
        "* Bypass Froude number $\\mathrm{Fr}_\\mathrm{4b}$"
      ]
    },
    {
      "cell_type": "code",
      "metadata": {
        "colab": {
          "base_uri": "https://localhost:8080/",
          "height": 54
        },
        "id": "BG-to7QfCGo1",
        "outputId": "bd48c068-139d-433a-d1fa-b638d01fa5ac"
      },
      "source": [
        "solζ4 = solve( eqA2, ζ4 )\n",
        "solζ4[0]"
      ],
      "execution_count": 26,
      "outputs": [
        {
          "output_type": "execute_result",
          "data": {
            "text/latex": "$\\displaystyle \\frac{Fr_{1}^{2}}{2} - \\frac{Fr4b^{2}}{2} + 1$",
            "text/plain": [
              "Fr1**2/2 - Fr4b**2/2 + 1"
            ]
          },
          "metadata": {
            "tags": []
          },
          "execution_count": 26
        }
      ]
    },
    {
      "cell_type": "code",
      "metadata": {
        "colab": {
          "base_uri": "https://localhost:8080/",
          "height": 38
        },
        "id": "pB_qL7WLGydk",
        "outputId": "82cd6079-1c7d-4733-fa93-2d30b4fed4e9"
      },
      "source": [
        "eqJ1 = Eq( ζ4, ζ4b+ζ4t )\n",
        "eqJ1"
      ],
      "execution_count": 27,
      "outputs": [
        {
          "output_type": "execute_result",
          "data": {
            "text/latex": "$\\displaystyle ζ4 = ζ4b + ζ4t$",
            "text/plain": [
              "Eq(ζ4, ζ4b + ζ4t)"
            ]
          },
          "metadata": {
            "tags": []
          },
          "execution_count": 27
        }
      ]
    },
    {
      "cell_type": "markdown",
      "metadata": {
        "id": "G6oOt6aKOG5W"
      },
      "source": [
        "# Summary of the system of equations to solve"
      ]
    },
    {
      "cell_type": "code",
      "metadata": {
        "colab": {
          "base_uri": "https://localhost:8080/",
          "height": 55
        },
        "id": "qjRGEZGEEBzp",
        "outputId": "60c6f15e-b89f-4151-fbda-dd8ed6e29b7f"
      },
      "source": [
        "eqI5"
      ],
      "execution_count": 28,
      "outputs": [
        {
          "output_type": "execute_result",
          "data": {
            "text/latex": "$\\displaystyle - Fr_{1}^{2} + Fr4b^{2} ζ4b + Fr4t^{2} ζ4t = - \\frac{B \\left(Fr4b^{2} - Fr4t^{2}\\right)}{2} - \\frac{ζ4^{2}}{2} + \\frac{1}{2}$",
            "text/plain": [
              "Eq(-Fr1**2 + Fr4b**2*ζ4b + Fr4t**2*ζ4t, -B*(Fr4b**2 - Fr4t**2)/2 - ζ4**2/2 + 1/2)"
            ]
          },
          "metadata": {
            "tags": []
          },
          "execution_count": 28
        }
      ]
    },
    {
      "cell_type": "code",
      "metadata": {
        "colab": {
          "base_uri": "https://localhost:8080/",
          "height": 38
        },
        "id": "3MqlS8ZKHRsJ",
        "outputId": "6000a463-203c-4689-e823-c5ecb241da32"
      },
      "source": [
        "eqH2"
      ],
      "execution_count": 29,
      "outputs": [
        {
          "output_type": "execute_result",
          "data": {
            "text/latex": "$\\displaystyle Fr4b ζ4b + Fr4t ζ4t = Fr_{1}$",
            "text/plain": [
              "Eq(Fr4b*ζ4b + Fr4t*ζ4t, Fr1)"
            ]
          },
          "metadata": {
            "tags": []
          },
          "execution_count": 29
        }
      ]
    },
    {
      "cell_type": "code",
      "metadata": {
        "colab": {
          "base_uri": "https://localhost:8080/",
          "height": 38
        },
        "id": "OlmByzuiHfgq",
        "outputId": "dd5b48d8-e6a8-4be5-e92b-a6fcf36d6c95"
      },
      "source": [
        "eqJ1"
      ],
      "execution_count": 30,
      "outputs": [
        {
          "output_type": "execute_result",
          "data": {
            "text/latex": "$\\displaystyle ζ4 = ζ4b + ζ4t$",
            "text/plain": [
              "Eq(ζ4, ζ4b + ζ4t)"
            ]
          },
          "metadata": {
            "tags": []
          },
          "execution_count": 30
        }
      ]
    },
    {
      "cell_type": "markdown",
      "metadata": {
        "id": "GOro_98AOMHR"
      },
      "source": [
        "# Solution of the system of equations for $\\mathrm{Fr}_{4t1}$"
      ]
    },
    {
      "cell_type": "code",
      "metadata": {
        "id": "Um8bFmc_HiV8"
      },
      "source": [
        "solFr4t = solve( [ eqI5, eqH2, eqJ1 ], [Fr4t,ζ4b,ζ4t])"
      ],
      "execution_count": 31,
      "outputs": []
    },
    {
      "cell_type": "code",
      "metadata": {
        "colab": {
          "base_uri": "https://localhost:8080/",
          "height": 38
        },
        "id": "PYP2inGAf-pu",
        "outputId": "bd22765c-4220-497a-c83e-6782f17d91d5"
      },
      "source": [
        "C1 = symbols(\"C_1\")\n",
        "SC1 = Fr1 - ζ4 * Fr4b\n",
        "SC1"
      ],
      "execution_count": 32,
      "outputs": [
        {
          "output_type": "execute_result",
          "data": {
            "text/latex": "$\\displaystyle Fr_{1} - Fr4b ζ4$",
            "text/plain": [
              "Fr1 - Fr4b*ζ4"
            ]
          },
          "metadata": {
            "tags": []
          },
          "execution_count": 32
        }
      ]
    },
    {
      "cell_type": "code",
      "metadata": {
        "colab": {
          "base_uri": "https://localhost:8080/",
          "height": 38
        },
        "id": "3xwoFwvWlmsy",
        "outputId": "dafce345-2c17-475e-f30c-2dda4aec902c"
      },
      "source": [
        "C2 = symbols(\"C_2\")\n",
        "SC2 = B**2 * Fr4b**2 + B*(ζ4**2+2*Fr1*(-Fr1+Fr4b)-1)+C1**2\n",
        "SC2"
      ],
      "execution_count": 33,
      "outputs": [
        {
          "output_type": "execute_result",
          "data": {
            "text/latex": "$\\displaystyle B^{2} Fr4b^{2} + B \\left(2 Fr_{1} \\left(- Fr_{1} + Fr4b\\right) + ζ4^{2} - 1\\right) + C_{1}^{2}$",
            "text/plain": [
              "B**2*Fr4b**2 + B*(2*Fr1*(-Fr1 + Fr4b) + ζ4**2 - 1) + C_1**2"
            ]
          },
          "metadata": {
            "tags": []
          },
          "execution_count": 33
        }
      ]
    },
    {
      "cell_type": "code",
      "metadata": {
        "colab": {
          "base_uri": "https://localhost:8080/",
          "height": 54
        },
        "id": "u2jMMO0aKYwZ",
        "outputId": "ce4b8b6c-fb1f-4e71-afd4-26b1fb411227"
      },
      "source": [
        "collect(collect(solFr4t[0][0],2*B*Fr1).subs(SC1,C1)\\\n",
        "          .subs(expand(SC1**2),C1**2),B).subs(SC2,C2)"
      ],
      "execution_count": 34,
      "outputs": [
        {
          "output_type": "execute_result",
          "data": {
            "text/latex": "$\\displaystyle \\frac{C_{1} - \\sqrt{C_{2}}}{B}$",
            "text/plain": [
              "(C_1 - sqrt(C_2))/B"
            ]
          },
          "metadata": {
            "tags": []
          },
          "execution_count": 34
        }
      ]
    },
    {
      "cell_type": "code",
      "metadata": {
        "colab": {
          "base_uri": "https://localhost:8080/",
          "height": 54
        },
        "id": "hweJbZDbb8Mg",
        "outputId": "6571b6d7-79fc-4ef9-e83d-ffada7ec977f"
      },
      "source": [
        "collect(collect(solFr4t[1][0],2*B*Fr1).subs(SC1,C1)\\\n",
        "          .subs(expand(SC1**2),C1**2),B).subs(SC2,C2)"
      ],
      "execution_count": 35,
      "outputs": [
        {
          "output_type": "execute_result",
          "data": {
            "text/latex": "$\\displaystyle \\frac{C_{1} + \\sqrt{C_{2}}}{B}$",
            "text/plain": [
              "(C_1 + sqrt(C_2))/B"
            ]
          },
          "metadata": {
            "tags": []
          },
          "execution_count": 35
        }
      ]
    },
    {
      "cell_type": "markdown",
      "metadata": {
        "id": "DH19jaqyORp3"
      },
      "source": [
        "# Computing $\\eta_{4b}$ and $\\eta_{4t}$\n",
        "\n",
        "After computing $\\mathrm{Fr}_{4t1}$ it is easier to compute $\\eta_{4b}$ and $\\eta_{4t}$ from ```eqH2``` and ```eqJ1``` than using the solutions above.\n"
      ]
    },
    {
      "cell_type": "code",
      "metadata": {
        "colab": {
          "base_uri": "https://localhost:8080/",
          "height": 57
        },
        "id": "u3j5c_Doe87Z",
        "outputId": "29d11955-414b-46e4-cc88-64be0a3a98d3"
      },
      "source": [
        "sol_ζ4bt = simplify(solve( [ eqH2, eqJ1 ], [ζ4b,ζ4t]))\n",
        "sol_ζ4bt"
      ],
      "execution_count": 36,
      "outputs": [
        {
          "output_type": "execute_result",
          "data": {
            "text/latex": "$\\displaystyle \\left\\{ ζ4b : \\frac{Fr_{1} - Fr4t ζ4}{Fr4b - Fr4t}, \\  ζ4t : \\frac{- Fr_{1} + Fr4b ζ4}{Fr4b - Fr4t}\\right\\}$",
            "text/plain": [
              "{ζ4b: (Fr1 - Fr4t*ζ4)/(Fr4b - Fr4t), ζ4t: (-Fr1 + Fr4b*ζ4)/(Fr4b - Fr4t)}"
            ]
          },
          "metadata": {
            "tags": []
          },
          "execution_count": 36
        }
      ]
    },
    {
      "cell_type": "markdown",
      "metadata": {
        "id": "zSPiASXUJ4fZ"
      },
      "source": [
        "# Selecting the solution with physical meaning\n",
        "\n",
        "Let us show that $C_1$ is always negative which implies that the solution \n",
        "\n",
        "$$\\mathrm{Fr}_\\mathrm{4t}=\\dfrac{C_1-\\sqrt{C_2}}{B}, \\tag{1}$$ \n",
        "\n",
        "is **always negative** (invalid).\n",
        "\n",
        "From the mass balance we get\n",
        "\n",
        "$$ u_1 h_1 = u_{4b} h_\\mathrm{4b} + u_\\mathrm{4t} h_\\mathrm{4t}.$$\n",
        "\n",
        "Since $u_\\mathrm{4t} < u_\\mathrm{4b}$ we found that\n",
        "\n",
        "$$ u_1 h_1 = u_\\mathrm{4b} h_\\mathrm{4b} + u_\\mathrm{4t} h_\\mathrm{4t} \\lt u_\\mathrm{4b} h_4.$$\n",
        "\n",
        "Divinding by $\\sqrt{gh_1} h_1$ results\n",
        "\n",
        "$$ \\dfrac{u_1}{\\sqrt{g h_1}} - \\dfrac{u_\\mathrm{4b}}{\\sqrt{g h_1}} \\dfrac{h_4}{h_1} \\lt 0,$$\n",
        "\n",
        "giving \n",
        "\n",
        "$$\\mathrm{Fr}_{1} - \\mathrm{Fr}_\\mathrm{4b} \\zeta_{4} \\lt 0,$$ \n",
        "\n",
        "or equivalently\n",
        "\n",
        "$$C_1 \\lt 0.$$ \n",
        "\n",
        "This implies that the solution given by Eq. (1) is always negative\n",
        "\n",
        "$$\\mathrm{Fr}_\\mathrm{4t} \\lt 0.$$ "
      ]
    },
    {
      "cell_type": "code",
      "metadata": {
        "id": "YLY9HjmICqTU",
        "colab": {
          "base_uri": "https://localhost:8080/",
          "height": 35
        },
        "outputId": "b6c8291b-fdae-409d-ab6d-dbc76bbed6e0"
      },
      "source": [
        "lambdarepr( solve( eqA2, ζ4 )[0] )"
      ],
      "execution_count": 37,
      "outputs": [
        {
          "output_type": "execute_result",
          "data": {
            "application/vnd.google.colaboratory.intrinsic+json": {
              "type": "string"
            },
            "text/plain": [
              "'(1/2)*Fr1**2 - 1/2*Fr4b**2 + 1'"
            ]
          },
          "metadata": {
            "tags": []
          },
          "execution_count": 37
        }
      ]
    },
    {
      "cell_type": "code",
      "metadata": {
        "id": "F2Ny-TcSQerF",
        "colab": {
          "base_uri": "https://localhost:8080/",
          "height": 56
        },
        "outputId": "feeb9161-41e0-44a9-f8bb-4ecb5beb057d"
      },
      "source": [
        "solFr4t[0][0]"
      ],
      "execution_count": 38,
      "outputs": [
        {
          "output_type": "execute_result",
          "data": {
            "text/latex": "$\\displaystyle \\frac{Fr_{1} - Fr4b ζ4 - \\sqrt{B^{2} Fr4b^{2} - 2 B Fr_{1}^{2} + 2 B Fr_{1} Fr4b + B ζ4^{2} - B + Fr_{1}^{2} - 2 Fr_{1} Fr4b ζ4 + Fr4b^{2} ζ4^{2}}}{B}$",
            "text/plain": [
              "(Fr1 - Fr4b*ζ4 - sqrt(B**2*Fr4b**2 - 2*B*Fr1**2 + 2*B*Fr1*Fr4b + B*ζ4**2 - B + Fr1**2 - 2*Fr1*Fr4b*ζ4 + Fr4b**2*ζ4**2))/B"
            ]
          },
          "metadata": {
            "tags": []
          },
          "execution_count": 38
        }
      ]
    },
    {
      "cell_type": "code",
      "metadata": {
        "id": "3QZEMvxnNKWv",
        "colab": {
          "base_uri": "https://localhost:8080/",
          "height": 35
        },
        "outputId": "37d85d27-2af6-4e42-c426-55e833366e85"
      },
      "source": [
        "lambdarepr( solFr4t[0][0] )"
      ],
      "execution_count": 39,
      "outputs": [
        {
          "output_type": "execute_result",
          "data": {
            "application/vnd.google.colaboratory.intrinsic+json": {
              "type": "string"
            },
            "text/plain": [
              "'(Fr1 - Fr4b*ζ4 - sqrt(B**2*Fr4b**2 - 2*B*Fr1**2 + 2*B*Fr1*Fr4b + B*ζ4**2 - B + Fr1**2 - 2*Fr1*Fr4b*ζ4 + Fr4b**2*ζ4**2))/B'"
            ]
          },
          "metadata": {
            "tags": []
          },
          "execution_count": 39
        }
      ]
    },
    {
      "cell_type": "code",
      "metadata": {
        "id": "X2RpwQNCCmAF",
        "colab": {
          "base_uri": "https://localhost:8080/",
          "height": 35
        },
        "outputId": "ed2970ad-8d12-4e7c-e122-6b7d4dee7289"
      },
      "source": [
        "lambdarepr( sol_ζ4bt[ζ4b] )"
      ],
      "execution_count": 40,
      "outputs": [
        {
          "output_type": "execute_result",
          "data": {
            "application/vnd.google.colaboratory.intrinsic+json": {
              "type": "string"
            },
            "text/plain": [
              "'(Fr1 - Fr4t*ζ4)/(Fr4b - Fr4t)'"
            ]
          },
          "metadata": {
            "tags": []
          },
          "execution_count": 40
        }
      ]
    },
    {
      "cell_type": "code",
      "metadata": {
        "id": "qX3N-iKRC6fe",
        "colab": {
          "base_uri": "https://localhost:8080/",
          "height": 35
        },
        "outputId": "55af3920-e3e2-4934-fc77-967958e772a5"
      },
      "source": [
        "lambdarepr( sol_ζ4bt[ζ4t] )"
      ],
      "execution_count": 41,
      "outputs": [
        {
          "output_type": "execute_result",
          "data": {
            "application/vnd.google.colaboratory.intrinsic+json": {
              "type": "string"
            },
            "text/plain": [
              "'(-Fr1 + Fr4b*ζ4)/(Fr4b - Fr4t)'"
            ]
          },
          "metadata": {
            "tags": []
          },
          "execution_count": 41
        }
      ]
    },
    {
      "cell_type": "code",
      "metadata": {
        "id": "0Ct3wnXZDCAV",
        "colab": {
          "base_uri": "https://localhost:8080/",
          "height": 35
        },
        "outputId": "dfb3960f-82e7-45e4-88e1-0237dd29144e"
      },
      "source": [
        "lambdarepr( solve( eqG1, C_T ) )"
      ],
      "execution_count": 42,
      "outputs": [
        {
          "output_type": "execute_result",
          "data": {
            "application/vnd.google.colaboratory.intrinsic+json": {
              "type": "string"
            },
            "text/plain": [
              "'[(Fr4b**2 - Fr4t**2)/Fr1**2]'"
            ]
          },
          "metadata": {
            "tags": []
          },
          "execution_count": 42
        }
      ]
    },
    {
      "cell_type": "code",
      "metadata": {
        "id": "NWJwHL_PEG0H",
        "colab": {
          "base_uri": "https://localhost:8080/",
          "height": 35
        },
        "outputId": "3aadaa5d-b4a8-489c-a23b-3557664154eb"
      },
      "source": [
        "lambdarepr( solve( eqE1, C_P ) )"
      ],
      "execution_count": 43,
      "outputs": [
        {
          "output_type": "execute_result",
          "data": {
            "application/vnd.google.colaboratory.intrinsic+json": {
              "type": "string"
            },
            "text/plain": [
              "'[C_T*Fr2t/Fr1]'"
            ]
          },
          "metadata": {
            "tags": []
          },
          "execution_count": 43
        }
      ]
    },
    {
      "cell_type": "code",
      "metadata": {
        "id": "1NIlJVpyEiEf",
        "colab": {
          "base_uri": "https://localhost:8080/",
          "height": 35
        },
        "outputId": "6c40fd0e-fc85-4850-abfb-e36ff8950701"
      },
      "source": [
        "lambdarepr( solve( Eq( Fr2t*B, Fr4t*ζ4t), Fr2t ) )"
      ],
      "execution_count": 44,
      "outputs": [
        {
          "output_type": "execute_result",
          "data": {
            "application/vnd.google.colaboratory.intrinsic+json": {
              "type": "string"
            },
            "text/plain": [
              "'[Fr4t*ζ4t/B]'"
            ]
          },
          "metadata": {
            "tags": []
          },
          "execution_count": 44
        }
      ]
    },
    {
      "cell_type": "code",
      "metadata": {
        "id": "pEeoVdTpE4dR"
      },
      "source": [
        "h5, u5, ζ5, Fr5 = symbols( r\"h5, u5, ζ5, Fr5\" )\n",
        "M5, Fp5 = symbols( \"M5, Fp5\" )\n",
        "C4, C5 = symbols(\"C_4, C_5\")\n",
        "Ptotal, C_Ptotal, η = symbols( r\"Ptotal, C_Ptotal, η\")\n",
        "\n",
        "zetas[ h5/h1 ] = ζ5\n",
        "Froudes[ ( u5  / sqrt(g*h1) ) ] = Fr5\n",
        "Sqr_Froudes[ ( u5 **2 / (g*h1) ) ] = Fr5**2"
      ],
      "execution_count": 55,
      "outputs": []
    },
    {
      "cell_type": "code",
      "metadata": {
        "id": "K-QclsnJWRXU",
        "outputId": "c0232fc8-3897-4404-87db-6b3ed11ff60f",
        "colab": {
          "base_uri": "https://localhost:8080/",
          "height": 38
        }
      },
      "source": [
        "eqK1 = Eq( M5 + Fp5, M4b + M4t + Fp4 )\n",
        "eqK1"
      ],
      "execution_count": 56,
      "outputs": [
        {
          "output_type": "execute_result",
          "data": {
            "text/latex": "$\\displaystyle Fp_{5} + M_{5} = Fp_{4} + M4b + M4t$",
            "text/plain": [
              "Eq(Fp5 + M5, Fp4 + M4b + M4t)"
            ]
          },
          "metadata": {
            "tags": []
          },
          "execution_count": 56
        }
      ]
    },
    {
      "cell_type": "code",
      "metadata": {
        "id": "ItMafePqWW5A",
        "outputId": "d1635bca-a189-412c-e4a7-39b0e3041e7c",
        "colab": {
          "base_uri": "https://localhost:8080/",
          "height": 54
        }
      },
      "source": [
        "eqK2 = eqK1.subs( M5, ρ*u5**2*h5*b)\\\n",
        "           .subs( M4b, ρ*u4b**2*h4b*b).subs( M4t, ρ*u4t**2*h4t*b)\\\n",
        "           .subs( Fp4, ρ*g*b*h4**2/2 )\\\n",
        "           .subs( Fp5, ρ*g*b*h5**2/2 )\n",
        "eqK2"
      ],
      "execution_count": 57,
      "outputs": [
        {
          "output_type": "execute_result",
          "data": {
            "text/latex": "$\\displaystyle \\frac{b g h_{5}^{2} ρ}{2} + b h_{5} u_{5}^{2} ρ = \\frac{b g h_{4}^{2} ρ}{2} + b h4b u4b^{2} ρ + b h4t u4t^{2} ρ$",
            "text/plain": [
              "Eq(b*g*h5**2*ρ/2 + b*h5*u5**2*ρ, b*g*h4**2*ρ/2 + b*h4b*u4b**2*ρ + b*h4t*u4t**2*ρ)"
            ]
          },
          "metadata": {
            "tags": []
          },
          "execution_count": 57
        }
      ]
    },
    {
      "cell_type": "code",
      "metadata": {
        "id": "p8IkT41LWjaC",
        "outputId": "ae566648-9513-4434-dcaf-9c9fd7cc5075",
        "colab": {
          "base_uri": "https://localhost:8080/",
          "height": 54
        }
      },
      "source": [
        "eqK3 = expand( Eq( eqK2.lhs / ( ρ*g*h1**2*b ), eqK2.rhs / ( ρ*g*h1**2*b ) ) )\n",
        "eqK4 = eqK3.subs( zetas ).subs( Sqr_Froudes ).subs( b*h1, At/B)\n",
        "eqK4"
      ],
      "execution_count": 58,
      "outputs": [
        {
          "output_type": "execute_result",
          "data": {
            "text/latex": "$\\displaystyle Fr_{5}^{2} ζ5 + \\frac{ζ5^{2}}{2} = Fr4b^{2} ζ4b + Fr4t^{2} ζ4t + \\frac{ζ4^{2}}{2}$",
            "text/plain": [
              "Eq(Fr5**2*ζ5 + ζ5**2/2, Fr4b**2*ζ4b + Fr4t**2*ζ4t + ζ4**2/2)"
            ]
          },
          "metadata": {
            "tags": []
          },
          "execution_count": 58
        }
      ]
    },
    {
      "cell_type": "code",
      "metadata": {
        "id": "w3BP1aCrWmG8",
        "outputId": "f7079a32-6959-467e-e4b3-92348682cd0b",
        "colab": {
          "base_uri": "https://localhost:8080/",
          "height": 54
        }
      },
      "source": [
        "eqK5 = Eq( eqK4.lhs, C4 )\n",
        "eqK5"
      ],
      "execution_count": 59,
      "outputs": [
        {
          "output_type": "execute_result",
          "data": {
            "text/latex": "$\\displaystyle Fr_{5}^{2} ζ5 + \\frac{ζ5^{2}}{2} = C_{4}$",
            "text/plain": [
              "Eq(Fr5**2*ζ5 + ζ5**2/2, C_4)"
            ]
          },
          "metadata": {
            "tags": []
          },
          "execution_count": 59
        }
      ]
    },
    {
      "cell_type": "code",
      "metadata": {
        "id": "zHRMqKrFWn3N",
        "outputId": "21c86a45-c78b-4ce3-a73d-1d42eaeba931",
        "colab": {
          "base_uri": "https://localhost:8080/",
          "height": 35
        }
      },
      "source": [
        "eqK6 = Eq( C4, eqK4.rhs )\n",
        "lambdarepr( eqK6 )"
      ],
      "execution_count": 72,
      "outputs": [
        {
          "output_type": "execute_result",
          "data": {
            "application/vnd.google.colaboratory.intrinsic+json": {
              "type": "string"
            },
            "text/plain": [
              "'(C_4 == Fr4b**2*ζ4b + Fr4t**2*ζ4t + (1/2)*ζ4**2)'"
            ]
          },
          "metadata": {
            "tags": []
          },
          "execution_count": 72
        }
      ]
    },
    {
      "cell_type": "code",
      "metadata": {
        "id": "rwVfB2K6Wp5s",
        "outputId": "c98d58a8-07a9-4dad-c509-a993536b0085",
        "colab": {
          "base_uri": "https://localhost:8080/",
          "height": 38
        }
      },
      "source": [
        "eqL1 = Eq( u5 * h5, u1*h1 )\n",
        "eqL1"
      ],
      "execution_count": 61,
      "outputs": [
        {
          "output_type": "execute_result",
          "data": {
            "text/latex": "$\\displaystyle h_{5} u_{5} = h_{1} u_{1}$",
            "text/plain": [
              "Eq(h5*u5, h1*u1)"
            ]
          },
          "metadata": {
            "tags": []
          },
          "execution_count": 61
        }
      ]
    },
    {
      "cell_type": "code",
      "metadata": {
        "id": "D8eBk5_yWrhM",
        "outputId": "21a26647-5540-4326-f42f-8cb2ed379b7a",
        "colab": {
          "base_uri": "https://localhost:8080/",
          "height": 38
        }
      },
      "source": [
        "eqL2 = expand( Eq( eqL1.lhs / ( h1*sqrt(g*h1) ), eqL1.rhs / ( h1*sqrt(g*h1) ) ) )\\\n",
        "          .subs( zetas )\\\n",
        "          .subs( Froudes )\n",
        "eqL2"
      ],
      "execution_count": 62,
      "outputs": [
        {
          "output_type": "execute_result",
          "data": {
            "text/latex": "$\\displaystyle Fr_{5} ζ5 = Fr_{1}$",
            "text/plain": [
              "Eq(Fr5*ζ5, Fr1)"
            ]
          },
          "metadata": {
            "tags": []
          },
          "execution_count": 62
        }
      ]
    },
    {
      "cell_type": "code",
      "metadata": {
        "id": "rpkuzZEPWs9L"
      },
      "source": [
        "solFr5 = solve( [ eqK5, eqL2 ], [Fr5,ζ5] )"
      ],
      "execution_count": 63,
      "outputs": []
    },
    {
      "cell_type": "code",
      "metadata": {
        "id": "kUCQXZvSXKSG",
        "outputId": "81a1165f-980b-4296-9cfd-2902de229953",
        "colab": {
          "base_uri": "https://localhost:8080/",
          "height": 35
        }
      },
      "source": [
        "eqM0 = Eq( (27*Fr1**2 + sqrt(2916*Fr1**4-864*C4**3)/2)**Rational(1,3), C5 )\n",
        "lambdarepr( eqM0 )"
      ],
      "execution_count": 76,
      "outputs": [
        {
          "output_type": "execute_result",
          "data": {
            "application/vnd.google.colaboratory.intrinsic+json": {
              "type": "string"
            },
            "text/plain": [
              "'((27*Fr1**2 + (1/2)*sqrt(-864*C_4**3 + 2916*Fr1**4))**(1/3) == C_5)'"
            ]
          },
          "metadata": {
            "tags": []
          },
          "execution_count": 76
        }
      ]
    },
    {
      "cell_type": "code",
      "metadata": {
        "id": "JtPvhM6ZYJ7w",
        "outputId": "47e79e4f-a0d6-4505-c598-4f3ffdacd6f0",
        "colab": {
          "base_uri": "https://localhost:8080/",
          "height": 35
        }
      },
      "source": [
        "lambdarepr( Eq( ζ5, solFr5[0][1].subs( eqM0.lhs, eqM0.rhs  ) ) )"
      ],
      "execution_count": 75,
      "outputs": [
        {
          "output_type": "execute_result",
          "data": {
            "application/vnd.google.colaboratory.intrinsic+json": {
              "type": "string"
            },
            "text/plain": [
              "'(ζ5 == -2*C_4/C_5 - 1/3*C_5)'"
            ]
          },
          "metadata": {
            "tags": []
          },
          "execution_count": 75
        }
      ]
    },
    {
      "cell_type": "code",
      "metadata": {
        "id": "9q9pnHsfXL--",
        "outputId": "c5928177-56be-4445-fb5f-8924eafb6f58",
        "colab": {
          "base_uri": "https://localhost:8080/",
          "height": 58
        }
      },
      "source": [
        "eqM1 = Eq( Ptotal, ρ*g*( h1 + u1**2/(2*g) - h5 - u5**2/(2*g) ) * u1*b*h1 ) \n",
        "eqM1"
      ],
      "execution_count": 65,
      "outputs": [
        {
          "output_type": "execute_result",
          "data": {
            "text/latex": "$\\displaystyle Ptotal = b g h_{1} u_{1} ρ \\left(h_{1} - h_{5} + \\frac{u_{1}^{2}}{2 g} - \\frac{u_{5}^{2}}{2 g}\\right)$",
            "text/plain": [
              "Eq(Ptotal, b*g*h1*u1*ρ*(h1 - h5 + u1**2/(2*g) - u5**2/(2*g)))"
            ]
          },
          "metadata": {
            "tags": []
          },
          "execution_count": 65
        }
      ]
    },
    {
      "cell_type": "code",
      "metadata": {
        "id": "fQqJPdl2XOPA",
        "outputId": "63e01f93-8586-4e14-ae74-d4aedcb2a095",
        "colab": {
          "base_uri": "https://localhost:8080/",
          "height": 58
        }
      },
      "source": [
        "eqM2 = Eq( eqM1.lhs / (ρ*g*b*h1**2*u1 ), expand( eqM1.rhs / (ρ*g*b*h1**2*u1 ) ) ).subs(zetas).subs( Sqr_Froudes )\n",
        "eqM2"
      ],
      "execution_count": 66,
      "outputs": [
        {
          "output_type": "execute_result",
          "data": {
            "text/latex": "$\\displaystyle \\frac{Ptotal}{b g h_{1}^{2} u_{1} ρ} = \\frac{Fr_{1}^{2}}{2} - \\frac{Fr_{5}^{2}}{2} - ζ5 + 1$",
            "text/plain": [
              "Eq(Ptotal/(b*g*h1**2*u1*ρ), Fr1**2/2 - Fr5**2/2 - ζ5 + 1)"
            ]
          },
          "metadata": {
            "tags": []
          },
          "execution_count": 66
        }
      ]
    },
    {
      "cell_type": "code",
      "metadata": {
        "id": "pEqCdx8ZXQW_",
        "outputId": "54450231-ad77-4647-eb48-9d76febd2148",
        "colab": {
          "base_uri": "https://localhost:8080/",
          "height": 58
        }
      },
      "source": [
        "eqM3 = Eq( eqM2.lhs * u1/sqrt(g*h1) * (B*b*h1/At), eqM2.rhs * u1/sqrt(g*h1) ).subs( Froudes )\n",
        "eqM3"
      ],
      "execution_count": 67,
      "outputs": [
        {
          "output_type": "execute_result",
          "data": {
            "text/latex": "$\\displaystyle \\frac{B Ptotal}{At g h_{1} ρ \\sqrt{g h_{1}}} = Fr_{1} \\left(\\frac{Fr_{1}^{2}}{2} - \\frac{Fr_{5}^{2}}{2} - ζ5 + 1\\right)$",
            "text/plain": [
              "Eq(B*Ptotal/(At*g*h1*ρ*sqrt(g*h1)), Fr1*(Fr1**2/2 - Fr5**2/2 - ζ5 + 1))"
            ]
          },
          "metadata": {
            "tags": []
          },
          "execution_count": 67
        }
      ]
    },
    {
      "cell_type": "code",
      "metadata": {
        "id": "M-RlS4WoXScT",
        "outputId": "9cdc15b9-9897-46b0-f172-2b19aeaa0d42",
        "colab": {
          "base_uri": "https://localhost:8080/",
          "height": 70
        }
      },
      "source": [
        "expM4 = eqM3.lhs * u1**3\n",
        "eqM5 = Eq( expM4.subs( Froudes ).subs( Sqr_Froudes ) * 2 / u1**3 / ( B*Fr1**3 ), eqM3.rhs * 2 / ( B*Fr1**3 ) )\n",
        "eqM5"
      ],
      "execution_count": 68,
      "outputs": [
        {
          "output_type": "execute_result",
          "data": {
            "text/latex": "$\\displaystyle \\frac{2 Ptotal}{At u_{1}^{3} ρ} = \\frac{2 \\left(\\frac{Fr_{1}^{2}}{2} - \\frac{Fr_{5}^{2}}{2} - ζ5 + 1\\right)}{B Fr_{1}^{2}}$",
            "text/plain": [
              "Eq(2*Ptotal/(At*u1**3*ρ), 2*(Fr1**2/2 - Fr5**2/2 - ζ5 + 1)/(B*Fr1**2))"
            ]
          },
          "metadata": {
            "tags": []
          },
          "execution_count": 68
        }
      ]
    },
    {
      "cell_type": "code",
      "metadata": {
        "id": "Swq3WWBdXUII",
        "outputId": "4e0b1dc7-0d48-4568-9f60-d62a6e67f5e2",
        "colab": {
          "base_uri": "https://localhost:8080/",
          "height": 35
        }
      },
      "source": [
        "eqM6 = Eq( C_Ptotal, eqM5.rhs )\n",
        "lambdarepr( eqM6 )"
      ],
      "execution_count": 77,
      "outputs": [
        {
          "output_type": "execute_result",
          "data": {
            "application/vnd.google.colaboratory.intrinsic+json": {
              "type": "string"
            },
            "text/plain": [
              "'(C_Ptotal == 2*((1/2)*Fr1**2 - 1/2*Fr5**2 - ζ5 + 1)/(B*Fr1**2))'"
            ]
          },
          "metadata": {
            "tags": []
          },
          "execution_count": 77
        }
      ]
    },
    {
      "cell_type": "code",
      "metadata": {
        "id": "66x26xPzXWMh",
        "outputId": "30e7103c-e303-4fc9-df38-d8cd76d7b57f",
        "colab": {
          "base_uri": "https://localhost:8080/",
          "height": 35
        }
      },
      "source": [
        "lambdarepr( Eq( η, C_P / C_Ptotal ) )"
      ],
      "execution_count": 78,
      "outputs": [
        {
          "output_type": "execute_result",
          "data": {
            "application/vnd.google.colaboratory.intrinsic+json": {
              "type": "string"
            },
            "text/plain": [
              "'(η == C_P/C_Ptotal)'"
            ]
          },
          "metadata": {
            "tags": []
          },
          "execution_count": 78
        }
      ]
    },
    {
      "cell_type": "code",
      "metadata": {
        "id": "HDnWhF2fXX7n"
      },
      "source": [
        ""
      ],
      "execution_count": null,
      "outputs": []
    }
  ]
}
