{
  "nbformat": 4,
  "nbformat_minor": 0,
  "metadata": {
    "colab": {
      "name": "CT_Newton_Raphson.ipynb",
      "provenance": [],
      "authorship_tag": "ABX9TyMs4y6U+gSLV4NrROOdBxgd",
      "include_colab_link": true
    },
    "kernelspec": {
      "name": "python3",
      "display_name": "Python 3"
    },
    "language_info": {
      "name": "python"
    }
  },
  "cells": [
    {
      "cell_type": "markdown",
      "metadata": {
        "id": "view-in-github",
        "colab_type": "text"
      },
      "source": [
        "<a href=\"https://colab.research.google.com/github/joaochenriques/MCTE_2020_2021/blob/main/DiskActuator/CT_Newton_Raphson.ipynb\" target=\"_parent\"><img src=\"https://colab.research.google.com/assets/colab-badge.svg\" alt=\"Open In Colab\"/></a>"
      ]
    },
    {
      "cell_type": "code",
      "metadata": {
        "id": "ngYrhzaf411H"
      },
      "source": [
        "from sympy import *\n",
        "import mpmath as mp\n",
        "init_printing()"
      ],
      "execution_count": 713,
      "outputs": []
    },
    {
      "cell_type": "code",
      "metadata": {
        "id": "YIOlbupnaX1y"
      },
      "source": [
        "Eq.__getitem__ = lambda self, i: self.args[i]\n",
        "# To allow equation.subs( [Eq(x,y)] )"
      ],
      "execution_count": 714,
      "outputs": []
    },
    {
      "cell_type": "markdown",
      "metadata": {
        "id": "BLEhN2HIcIGl"
      },
      "source": [
        "# Define the variables of the problem"
      ]
    },
    {
      "cell_type": "code",
      "metadata": {
        "id": "u_i1_X0z43-S"
      },
      "source": [
        "ζ1, ζ4, ζ4t, ζ4b, ζ5 = symbols( r\"\\zeta_1, \\zeta_4, \\zeta_{4t}, \\zeta_{4b}, \\zeta_5\" )"
      ],
      "execution_count": 715,
      "outputs": []
    },
    {
      "cell_type": "code",
      "metadata": {
        "id": "l9cFNTch5M3x"
      },
      "source": [
        "Fr1, Fr4t, Fr4b, Fr5 = symbols( r\"\\mathrm{Fr}_1, \\mathrm{Fr}_{4t}, \\mathrm{Fr}_{4b}, \\mathrm{Fr}_5\" )"
      ],
      "execution_count": 716,
      "outputs": []
    },
    {
      "cell_type": "code",
      "metadata": {
        "id": "Agy3LvBn5U3H"
      },
      "source": [
        "B = symbols( \"B\")\n",
        "nt = symbols( \"n_t\")"
      ],
      "execution_count": 717,
      "outputs": []
    },
    {
      "cell_type": "code",
      "metadata": {
        "id": "VSlfBa9Yiq7S"
      },
      "source": [
        "C_T, C_P = symbols( \"C_\\mathrm{T}, C_\\mathrm{P}\")\n",
        "Fr2t = symbols( \"\\mathrm{Fr}_{2t}\")"
      ],
      "execution_count": 718,
      "outputs": []
    },
    {
      "cell_type": "markdown",
      "metadata": {
        "id": "wcyxTaTpi-UE"
      },
      "source": [
        "# Data of the problem"
      ]
    },
    {
      "cell_type": "code",
      "metadata": {
        "colab": {
          "base_uri": "https://localhost:8080/",
          "height": 38
        },
        "id": "MypfMhM6i9eV",
        "outputId": "401a2a24-3f22-468f-867d-794ccd24bd40"
      },
      "source": [
        "data = { B: 0.9, ζ1: 1, Fr1: 0.15, C_T: 1.0 }\n",
        "data"
      ],
      "execution_count": 719,
      "outputs": [
        {
          "output_type": "execute_result",
          "data": {
            "image/png": "[encoded data removed]",
            "text/latex": "$\\displaystyle \\left\\{ B : 0.9, \\  C_\\mathrm{T} : 1.0, \\  \\mathrm{Fr}_1 : 0.15, \\  \\zeta_{1} : 1\\right\\}$",
            "text/plain": [
              "{B: 0.9, C_\\mathrm{T}: 1.0, \\mathrm{Fr}₁: 0.15, \\zeta₁: 1}"
            ]
          },
          "metadata": {
            "tags": []
          },
          "execution_count": 719
        }
      ]
    },
    {
      "cell_type": "markdown",
      "metadata": {
        "id": "GaegaKvwcM6W"
      },
      "source": [
        "# Define the equations required to compute the conditions at (4)"
      ]
    },
    {
      "cell_type": "code",
      "metadata": {
        "colab": {
          "base_uri": "https://localhost:8080/",
          "height": 55
        },
        "id": "He0Abd6p5tdX",
        "outputId": "9c50199b-9e16-4808-d80e-97c750e882db"
      },
      "source": [
        "EqA1 = Eq( ζ4, ζ1 + Fr1**2/2 - Fr4b**2/2 )\n",
        "EqA1"
      ],
      "execution_count": 720,
      "outputs": [
        {
          "output_type": "execute_result",
          "data": {
            "image/png": "[encoded data removed]",
            "text/latex": "$\\displaystyle \\zeta_{4} = \\frac{\\mathrm{Fr}_1^{2}}{2} - \\frac{\\mathrm{Fr}_{4b}^{2}}{2} + \\zeta_{1}$",
            "text/plain": [
              "                     2                   2         \n",
              "         \\mathrm{Fr}₁    \\mathrm{Fr}_{4b}          \n",
              "\\zeta₄ = ───────────── - ───────────────── + \\zeta₁\n",
              "               2                 2                 "
            ]
          },
          "metadata": {
            "tags": []
          },
          "execution_count": 720
        }
      ]
    },
    {
      "cell_type": "code",
      "metadata": {
        "colab": {
          "base_uri": "https://localhost:8080/",
          "height": 38
        },
        "id": "5G3pGvnt52Ci",
        "outputId": "b7c3ac86-c778-4d6f-a277-3a9d7e741c1a"
      },
      "source": [
        "EqA2 = Eq( Fr4t * ζ4t + Fr4b * ζ4b, Fr1 * ζ1 )\n",
        "EqA2"
      ],
      "execution_count": 721,
      "outputs": [
        {
          "output_type": "execute_result",
          "data": {
            "image/png": "[encoded data removed]",
            "text/latex": "$\\displaystyle \\mathrm{Fr}_{4b} \\zeta_{4b} + \\mathrm{Fr}_{4t} \\zeta_{4t} = \\mathrm{Fr}_1 \\zeta_{1}$",
            "text/plain": [
              "\\mathrm{Fr}_{4b}⋅\\zeta_{4b} + \\mathrm{Fr}_{4t}⋅\\zeta_{4t} = \\mathrm{Fr}₁⋅\\zeta\n",
              "₁"
            ]
          },
          "metadata": {
            "tags": []
          },
          "execution_count": 721
        }
      ]
    },
    {
      "cell_type": "code",
      "metadata": {
        "colab": {
          "base_uri": "https://localhost:8080/",
          "height": 38
        },
        "id": "ichr8GK56CVB",
        "outputId": "931b9498-7b92-4018-e01c-f383cf2a13c2"
      },
      "source": [
        "EqA3 = Eq( ζ4, ζ4t + ζ4b )\n",
        "EqA3"
      ],
      "execution_count": 722,
      "outputs": [
        {
          "output_type": "execute_result",
          "data": {
            "image/png": "[encoded data removed]",
            "text/latex": "$\\displaystyle \\zeta_{4} = \\zeta_{4b} + \\zeta_{4t}$",
            "text/plain": [
              "\\zeta₄ = \\zeta_{4b} + \\zeta_{4t}"
            ]
          },
          "metadata": {
            "tags": []
          },
          "execution_count": 722
        }
      ]
    },
    {
      "cell_type": "code",
      "metadata": {
        "colab": {
          "base_uri": "https://localhost:8080/",
          "height": 55
        },
        "id": "mp-vbSH96P8K",
        "outputId": "b820d7dd-436d-4027-e2c1-57724ba04f5c"
      },
      "source": [
        "EqA4 = Eq( Fr4t**2 * ζ4t + Fr4b**2 * ζ4b - Fr1**2 * ζ1, -( ζ4**2 - ζ1**2 )/2 - B/2*C_T*Fr1**2 )\n",
        "EqA4"
      ],
      "execution_count": 723,
      "outputs": [
        {
          "output_type": "execute_result",
          "data": {
            "image/png": "[encoded data removed]",
            "text/latex": "$\\displaystyle - \\mathrm{Fr}_1^{2} \\zeta_{1} + \\mathrm{Fr}_{4b}^{2} \\zeta_{4b} + \\mathrm{Fr}_{4t}^{2} \\zeta_{4t} = - \\frac{B C_\\mathrm{T} \\mathrm{Fr}_1^{2}}{2} + \\frac{\\zeta_{1}^{2}}{2} - \\frac{\\zeta_{4}^{2}}{2}$",
            "text/plain": [
              "                                                                              \n",
              "              2                          2                              2     \n",
              "- \\mathrm{Fr}₁ ⋅\\zeta₁ + \\mathrm{Fr}_{4b} ⋅\\zeta_{4b} + \\mathrm{Fr}_{4t} ⋅\\zet\n",
              "                                                                              \n",
              "\n",
              "                                      2         2         2\n",
              "           B⋅C_\\mathrm{T}⋅\\mathrm{Fr}₁    \\zeta₁    \\zeta₄ \n",
              "a_{4t} = - ──────────────────────────── + ─────── - ───────\n",
              "                        2                    2         2   "
            ]
          },
          "metadata": {
            "tags": []
          },
          "execution_count": 723
        }
      ]
    },
    {
      "cell_type": "code",
      "metadata": {
        "id": "aItg1e2cnsIR"
      },
      "source": [
        "EqCT = Eq( C_T, ( Fr4b**2-Fr4t**2 )/Fr1**2 ) \n",
        "EqCP = Eq( C_P, C_T * Fr2t / Fr1 )\n",
        "EqFr2t = Eq( Fr2t, Fr4t * ζ4t / B )"
      ],
      "execution_count": 724,
      "outputs": []
    },
    {
      "cell_type": "markdown",
      "metadata": {
        "id": "zlLTtSKOltd9"
      },
      "source": [
        "# Newton-Raphson Method\n",
        "\n",
        "### Compute Jacobian"
      ]
    },
    {
      "cell_type": "code",
      "metadata": {
        "colab": {
          "base_uri": "https://localhost:8080/",
          "height": 129
        },
        "id": "MKj7PsXq6jn8",
        "outputId": "6a77290a-70af-4633-d4db-656dd838ada4"
      },
      "source": [
        "sys01 = [ EqA1.subs(data).lhs-EqA1.subs(data).rhs, \n",
        "          EqA2.subs(data).lhs-EqA2.subs(data).rhs, \n",
        "          EqA3.subs(data).lhs-EqA3.subs(data).rhs, \n",
        "          EqA4.subs(data).lhs-EqA4.subs(data).rhs,\n",
        "          EqCT.subs(data).lhs-EqCT.subs(data).rhs\n",
        "        ]\n",
        "sys1 = Matrix( sys01 )\n",
        "sys1"
      ],
      "execution_count": 725,
      "outputs": [
        {
          "output_type": "execute_result",
          "data": {
            "text/latex": "$\\displaystyle \\left[\\begin{matrix}\\frac{\\mathrm{Fr}_{4b}^{2}}{2} + \\zeta_{4} - 1.01125\\\\\\mathrm{Fr}_{4b} \\zeta_{4b} + \\mathrm{Fr}_{4t} \\zeta_{4t} - 0.15\\\\\\zeta_{4} - \\zeta_{4b} - \\zeta_{4t}\\\\\\mathrm{Fr}_{4b}^{2} \\zeta_{4b} + \\mathrm{Fr}_{4t}^{2} \\zeta_{4t} + \\frac{\\zeta_{4}^{2}}{2} - 0.512375\\\\- 44.4444444444444 \\mathrm{Fr}_{4b}^{2} + 44.4444444444444 \\mathrm{Fr}_{4t}^{2} + 1.0\\end{matrix}\\right]$",
            "text/plain": [
              "⎡                                      2                                      \n",
              "⎢                      \\mathrm{Fr}_{4b}                                       \n",
              "⎢                      ───────────────── + \\zeta₄ - 1.01125                   \n",
              "⎢                              2                                              \n",
              "⎢                                                                             \n",
              "⎢        \\mathrm{Fr}_{4b}⋅\\zeta_{4b} + \\mathrm{Fr}_{4t}⋅\\zeta_{4t} - 0.15     \n",
              "⎢                                                                             \n",
              "⎢                        \\zeta₄ - \\zeta_{4b} - \\zeta_{4t}                     \n",
              "⎢                                                                             \n",
              "⎢                                                                    2        \n",
              "⎢                2                              2              \\zeta₄         \n",
              "⎢\\mathrm{Fr}_{4b} ⋅\\zeta_{4b} + \\mathrm{Fr}_{4t} ⋅\\zeta_{4t} + ─────── - 0.512\n",
              "⎢                                                                 2           \n",
              "⎢                                                                             \n",
              "⎢                                   2                                    2    \n",
              "⎣- 44.4444444444444⋅\\mathrm{Fr}_{4b}  + 44.4444444444444⋅\\mathrm{Fr}_{4t}  + 1\n",
              "\n",
              "   ⎤\n",
              "   ⎥\n",
              "   ⎥\n",
              "   ⎥\n",
              "   ⎥\n",
              "   ⎥\n",
              "   ⎥\n",
              "   ⎥\n",
              "   ⎥\n",
              "   ⎥\n",
              "   ⎥\n",
              "375⎥\n",
              "   ⎥\n",
              "   ⎥\n",
              "   ⎥\n",
              ".0 ⎦"
            ]
          },
          "metadata": {
            "tags": []
          },
          "execution_count": 725
        }
      ]
    },
    {
      "cell_type": "code",
      "metadata": {
        "id": "g3zX6C67VJCK",
        "colab": {
          "base_uri": "https://localhost:8080/",
          "height": 119
        },
        "outputId": "04f776d0-940d-40ab-b507-38c38352ff90"
      },
      "source": [
        "vars1 = Matrix( [ ζ4b, ζ4t, ζ4, Fr4t, Fr4b ] )\n",
        "J1 = sys1.jacobian( vars1 )\n",
        "J1"
      ],
      "execution_count": 726,
      "outputs": [
        {
          "output_type": "execute_result",
          "data": {
            "text/latex": "$\\displaystyle \\left[\\begin{matrix}0 & 0 & 1 & 0 & \\mathrm{Fr}_{4b}\\\\\\mathrm{Fr}_{4b} & \\mathrm{Fr}_{4t} & 0 & \\zeta_{4t} & \\zeta_{4b}\\\\-1 & -1 & 1 & 0 & 0\\\\\\mathrm{Fr}_{4b}^{2} & \\mathrm{Fr}_{4t}^{2} & \\zeta_{4} & 2 \\mathrm{Fr}_{4t} \\zeta_{4t} & 2 \\mathrm{Fr}_{4b} \\zeta_{4b}\\\\0 & 0 & 0 & 88.8888888888889 \\mathrm{Fr}_{4t} & - 88.8888888888889 \\mathrm{Fr}_{4b}\\end{matrix}\\right]$",
            "text/plain": [
              "⎡        0                  0            1                     0              \n",
              "⎢                                                                             \n",
              "⎢\\mathrm{Fr}_{4b}   \\mathrm{Fr}_{4t}     0                \\zeta_{4t}          \n",
              "⎢                                                                             \n",
              "⎢       -1                 -1            1                     0              \n",
              "⎢                                                                             \n",
              "⎢                2                  2                                         \n",
              "⎢\\mathrm{Fr}_{4b}   \\mathrm{Fr}_{4t}   \\zeta₄    2⋅\\mathrm{Fr}_{4t}⋅\\zeta_{4t}\n",
              "⎢                                                                             \n",
              "⎣        0                  0            0     88.8888888888889⋅\\mathrm{Fr}_{4\n",
              "\n",
              "             \\mathrm{Fr}_{4b}         ⎤\n",
              "                                      ⎥\n",
              "                \\zeta_{4b}            ⎥\n",
              "                                      ⎥\n",
              "                    0                 ⎥\n",
              "                                      ⎥\n",
              "                                      ⎥\n",
              "      2⋅\\mathrm{Fr}_{4b}⋅\\zeta_{4b}   ⎥\n",
              "                                      ⎥\n",
              "t}  -88.8888888888889⋅\\mathrm{Fr}_{4b}⎦"
            ]
          },
          "metadata": {
            "tags": []
          },
          "execution_count": 726
        }
      ]
    },
    {
      "cell_type": "markdown",
      "metadata": {
        "id": "q5Sw1BSJlzWK"
      },
      "source": [
        "### Compute RHS"
      ]
    },
    {
      "cell_type": "code",
      "metadata": {
        "id": "0Nm1DRrEhteU",
        "colab": {
          "base_uri": "https://localhost:8080/",
          "height": 129
        },
        "outputId": "459e7d64-6151-43b7-aecc-bcae78375455"
      },
      "source": [
        "b = -sys1\n",
        "b"
      ],
      "execution_count": 727,
      "outputs": [
        {
          "output_type": "execute_result",
          "data": {
            "text/latex": "$\\displaystyle \\left[\\begin{matrix}- \\frac{\\mathrm{Fr}_{4b}^{2}}{2} - \\zeta_{4} + 1.01125\\\\- \\mathrm{Fr}_{4b} \\zeta_{4b} - \\mathrm{Fr}_{4t} \\zeta_{4t} + 0.15\\\\- \\zeta_{4} + \\zeta_{4b} + \\zeta_{4t}\\\\- \\mathrm{Fr}_{4b}^{2} \\zeta_{4b} - \\mathrm{Fr}_{4t}^{2} \\zeta_{4t} - \\frac{\\zeta_{4}^{2}}{2} + 0.512375\\\\44.4444444444444 \\mathrm{Fr}_{4b}^{2} - 44.4444444444444 \\mathrm{Fr}_{4t}^{2} - 1.0\\end{matrix}\\right]$",
            "text/plain": [
              "⎡                                        2                                    \n",
              "⎢                        \\mathrm{Fr}_{4b}                                     \n",
              "⎢                      - ───────────────── - \\zeta₄ + 1.01125                 \n",
              "⎢                                2                                            \n",
              "⎢                                                                             \n",
              "⎢        -\\mathrm{Fr}_{4b}⋅\\zeta_{4b} - \\mathrm{Fr}_{4t}⋅\\zeta_{4t} + 0.15    \n",
              "⎢                                                                             \n",
              "⎢                        -\\zeta₄ + \\zeta_{4b} + \\zeta_{4t}                    \n",
              "⎢                                                                             \n",
              "⎢                                                                      2      \n",
              "⎢                  2                              2              \\zeta₄       \n",
              "⎢- \\mathrm{Fr}_{4b} ⋅\\zeta_{4b} - \\mathrm{Fr}_{4t} ⋅\\zeta_{4t} - ─────── + 0.5\n",
              "⎢                                                                   2         \n",
              "⎢                                                                             \n",
              "⎢                                   2                                    2    \n",
              "⎣  44.4444444444444⋅\\mathrm{Fr}_{4b}  - 44.4444444444444⋅\\mathrm{Fr}_{4t}  - 1\n",
              "\n",
              "     ⎤\n",
              "     ⎥\n",
              "     ⎥\n",
              "     ⎥\n",
              "     ⎥\n",
              "     ⎥\n",
              "     ⎥\n",
              "     ⎥\n",
              "     ⎥\n",
              "     ⎥\n",
              "     ⎥\n",
              "12375⎥\n",
              "     ⎥\n",
              "     ⎥\n",
              "     ⎥\n",
              ".0   ⎦"
            ]
          },
          "metadata": {
            "tags": []
          },
          "execution_count": 727
        }
      ]
    },
    {
      "cell_type": "markdown",
      "metadata": {
        "id": "dbv2Hyt2j7U-"
      },
      "source": [
        "### Newton-Raphson iteration\n",
        "\n",
        "Giving a initial estimate of the solution: $\\mathbf{x}_1$\n",
        "\n",
        "$i=0$\n",
        "\n",
        "Iterate\n",
        "\n",
        "$\\qquad i=i+1$\n",
        "\n",
        "$\\qquad \\mathbf{J}\\left(\\mathbf{x}_i\\right) \\boldsymbol{\\delta}_i = -\\mathbf{b}\\left(\\mathbf{x}_i\\right)$\n",
        "\n",
        "$\\qquad \\mathbf{x}_{i+1} = \\mathbf{x}_i + \\boldsymbol{\\delta}_i$ \n",
        "\n",
        "until $\\| \\boldsymbol{\\delta}_i \\| < \\epsilon$"
      ]
    },
    {
      "cell_type": "code",
      "metadata": {
        "id": "_tw062GIWXxr",
        "colab": {
          "base_uri": "https://localhost:8080/",
          "height": 37
        },
        "outputId": "99179b2a-a8d7-42e1-a05e-57f9f4216766"
      },
      "source": [
        "values1 = Matrix( [ 0.99, 0.25, 0.73, 0.13, 0.20 ] )\n",
        "\n",
        "for i in range( 40 ):\n",
        "  vv1 = dict( zip( vars1, values1 ) )\n",
        "\n",
        "  BB = b.subs( vv1 )  # RHS\n",
        "  JJ = J1.subs( vv1 ) # Jacobian\n",
        "  \n",
        "  delta = JJ.LUsolve( BB )\n",
        "  values1 += delta\n",
        "  \n",
        "  if delta.norm() < 1E-14: \n",
        "    break\n",
        "    \n",
        "delta.norm() "
      ],
      "execution_count": 728,
      "outputs": [
        {
          "output_type": "execute_result",
          "data": {
            "image/png": "[encoded data removed]",
            "text/latex": "$\\displaystyle 3.93272912676473 \\cdot 10^{-16}$",
            "text/plain": [
              "3.93272912676473e-16"
            ]
          },
          "metadata": {
            "tags": []
          },
          "execution_count": 728
        }
      ]
    },
    {
      "cell_type": "markdown",
      "metadata": {
        "id": "_CPyh0AcmK7P"
      },
      "source": [
        "### Final solution"
      ]
    },
    {
      "cell_type": "code",
      "metadata": {
        "id": "CMQPC-4BmLwc",
        "colab": {
          "base_uri": "https://localhost:8080/",
          "height": 38
        },
        "outputId": "a75dedcc-0ce6-44c0-c984-b885d2838efc"
      },
      "source": [
        "sol1 = dict( zip( vars1, values1 ) )\n",
        "sol1"
      ],
      "execution_count": 729,
      "outputs": [
        {
          "output_type": "execute_result",
          "data": {
            "image/png": "[encoded data removed]",
            "text/latex": "$\\displaystyle \\left\\{ \\mathrm{Fr}_{4b} : 0.209635555069849, \\  \\mathrm{Fr}_{4t} : 0.146448168132769, \\  \\zeta_{4} : 0.989276467025278, \\  \\zeta_{4b} : 0.0810648117541376, \\  \\zeta_{4t} : 0.90821165527114\\right\\}$",
            "text/plain": [
              "{\\mathrm{Fr}_{4b}: 0.209635555069849, \\mathrm{Fr}_{4t}: 0.146448168132769, \\ze\n",
              "ta₄: 0.989276467025278, \\zeta_{4b}: 0.0810648117541376, \\zeta_{4t}: 0.90821165\n",
              "527114}"
            ]
          },
          "metadata": {
            "tags": []
          },
          "execution_count": 729
        }
      ]
    },
    {
      "cell_type": "markdown",
      "metadata": {
        "id": "QCJT7-TOmXZX"
      },
      "source": [
        "# Additional post-processing"
      ]
    },
    {
      "cell_type": "code",
      "metadata": {
        "id": "dEiikcxV0l2e",
        "colab": {
          "base_uri": "https://localhost:8080/",
          "height": 38
        },
        "outputId": "4d140c61-7fe7-4d21-f5e3-485410ecca3f"
      },
      "source": [
        "M1 = symbols( \"M_{1}\" )\n",
        "M1_value = Eq( M1, Fr1**2 * ζ1 ).subs( data ).subs( sol1 )\n",
        "M1_value"
      ],
      "execution_count": 730,
      "outputs": [
        {
          "output_type": "execute_result",
          "data": {
            "image/png": "[encoded data removed]",
            "text/latex": "$\\displaystyle M_{1} = 0.0225$",
            "text/plain": [
              "M_{1} = 0.0225"
            ]
          },
          "metadata": {
            "tags": []
          },
          "execution_count": 730
        }
      ]
    },
    {
      "cell_type": "code",
      "metadata": {
        "id": "1072lBAy0QXp",
        "colab": {
          "base_uri": "https://localhost:8080/",
          "height": 38
        },
        "outputId": "4653870c-19ea-41a3-ca6d-280c40241ee8"
      },
      "source": [
        "M4 = symbols( \"M_{4}\" )\n",
        "M4_value = Eq( M4, Fr4t**2 * ζ4t + Fr4b**2 * ζ4b ).subs( data ).subs( sol1 )\n",
        "M4_value"
      ],
      "execution_count": 731,
      "outputs": [
        {
          "output_type": "execute_result",
          "data": {
            "image/png": "[encoded data removed]",
            "text/latex": "$\\displaystyle M_{4} = 0.023041035894992$",
            "text/plain": [
              "M_{4} = 0.023041035894992"
            ]
          },
          "metadata": {
            "tags": []
          },
          "execution_count": 731
        }
      ]
    },
    {
      "cell_type": "markdown",
      "metadata": {
        "id": "X7m3cmz7jSJQ"
      },
      "source": [
        "# Compute coefficients"
      ]
    },
    {
      "cell_type": "code",
      "metadata": {
        "colab": {
          "base_uri": "https://localhost:8080/",
          "height": 37
        },
        "id": "tLTTIhPMAbYW",
        "outputId": "250df21a-226f-4897-b894-409546395f2d"
      },
      "source": [
        "EqFr2t.subs( data ).subs( sol1 )"
      ],
      "execution_count": 732,
      "outputs": [
        {
          "output_type": "execute_result",
          "data": {
            "image/png": "[encoded data removed]",
            "text/latex": "$\\displaystyle \\mathrm{Fr}_{2t} = 0.147784370212543$",
            "text/plain": [
              "\\mathrm{Fr}_{2t} = 0.147784370212543"
            ]
          },
          "metadata": {
            "tags": []
          },
          "execution_count": 732
        }
      ]
    },
    {
      "cell_type": "code",
      "metadata": {
        "colab": {
          "base_uri": "https://localhost:8080/",
          "height": 38
        },
        "id": "3KHOWAkJAnNc",
        "outputId": "c2f21b58-1595-43c9-a87e-bb21e8fe26ae"
      },
      "source": [
        "EqCP.subs( [EqFr2t] ).subs( [EqCT] ).subs( data ).subs( sol1 )"
      ],
      "execution_count": 733,
      "outputs": [
        {
          "output_type": "execute_result",
          "data": {
            "image/png": "[encoded data removed]",
            "text/latex": "$\\displaystyle C_\\mathrm{P} = 0.985229134750285$",
            "text/plain": [
              "C_\\mathrm{P} = 0.985229134750285"
            ]
          },
          "metadata": {
            "tags": []
          },
          "execution_count": 733
        }
      ]
    },
    {
      "cell_type": "markdown",
      "metadata": {
        "id": "muCCXgPxFChb"
      },
      "source": [
        "# Compute conditions at section (5)"
      ]
    },
    {
      "cell_type": "markdown",
      "metadata": {
        "id": "n0tji70gFNW5"
      },
      "source": [
        "Mass balance"
      ]
    },
    {
      "cell_type": "code",
      "metadata": {
        "id": "BTag4dqeWfaE",
        "colab": {
          "base_uri": "https://localhost:8080/",
          "height": 38
        },
        "outputId": "5e4d9a39-82ac-4554-dac7-53f1cf7294cd"
      },
      "source": [
        "eqB1 = Eq( Fr1 * ζ1, Fr5 * ζ5 )\n",
        "eqB1"
      ],
      "execution_count": 734,
      "outputs": [
        {
          "output_type": "execute_result",
          "data": {
            "image/png": "[encoded data removed]",
            "text/latex": "$\\displaystyle \\mathrm{Fr}_1 \\zeta_{1} = \\mathrm{Fr}_5 \\zeta_{5}$",
            "text/plain": [
              "\\mathrm{Fr}₁⋅\\zeta₁ = \\mathrm{Fr}₅⋅\\zeta₅"
            ]
          },
          "metadata": {
            "tags": []
          },
          "execution_count": 734
        }
      ]
    },
    {
      "cell_type": "markdown",
      "metadata": {
        "id": "_v3qUX3QFczY"
      },
      "source": [
        "Momentum balance"
      ]
    },
    {
      "cell_type": "code",
      "metadata": {
        "colab": {
          "base_uri": "https://localhost:8080/",
          "height": 53
        },
        "id": "MpV9RnYmFYRb",
        "outputId": "afcb8507-791e-4751-e6df-4f3c9677ba76"
      },
      "source": [
        "eqB2 = Eq( Fr5**2 * ζ5 - ( Fr4b**2 * ζ4b + Fr4t**2 * ζ4t ), -( ζ5**2 - ζ4**2 )/2 )\n",
        "eqB2"
      ],
      "execution_count": 735,
      "outputs": [
        {
          "output_type": "execute_result",
          "data": {
            "image/png": "[encoded data removed]",
            "text/latex": "$\\displaystyle \\mathrm{Fr}_5^{2} \\zeta_{5} - \\mathrm{Fr}_{4b}^{2} \\zeta_{4b} - \\mathrm{Fr}_{4t}^{2} \\zeta_{4t} = \\frac{\\zeta_{4}^{2}}{2} - \\frac{\\zeta_{5}^{2}}{2}$",
            "text/plain": [
              "                                                                              \n",
              "            2                          2                              2       \n",
              "\\mathrm{Fr}₅ ⋅\\zeta₅ - \\mathrm{Fr}_{4b} ⋅\\zeta_{4b} - \\mathrm{Fr}_{4t} ⋅\\zeta_\n",
              "                                                                              \n",
              "\n",
              "             2         2\n",
              "       \\zeta₄    \\zeta₅ \n",
              "{4t} = ─────── - ───────\n",
              "          2         2   "
            ]
          },
          "metadata": {
            "tags": []
          },
          "execution_count": 735
        }
      ]
    },
    {
      "cell_type": "code",
      "metadata": {
        "colab": {
          "base_uri": "https://localhost:8080/",
          "height": 58
        },
        "id": "1cTst5H0GEYL",
        "outputId": "e3ac4afe-51f7-4b97-8cb6-fdbfb548027a"
      },
      "source": [
        "sys2 = [ eqB1.subs(data).subs( sol1 ), eqB2.subs(data).subs( sol1 ) ]\n",
        "sys2"
      ],
      "execution_count": 736,
      "outputs": [
        {
          "output_type": "execute_result",
          "data": {
            "image/png": "[encoded data removed]",
            "text/latex": "$\\displaystyle \\left[ 0.15 = \\mathrm{Fr}_5 \\zeta_{5}, \\  \\mathrm{Fr}_5^{2} \\zeta_{5} - 0.023041035894992 = 0.489333964105008 - \\frac{\\zeta_{5}^{2}}{2}\\right]$",
            "text/plain": [
              "⎡                                                                             \n",
              "⎢                                        2                                    \n",
              "⎢0.15 = \\mathrm{Fr}₅⋅\\zeta₅, \\mathrm{Fr}₅ ⋅\\zeta₅ - 0.023041035894992 = 0.4893\n",
              "⎣                                                                             \n",
              "\n",
              "                    2⎤\n",
              "              \\zeta₅ ⎥\n",
              "33964105008 - ───────⎥\n",
              "                 2   ⎦"
            ]
          },
          "metadata": {
            "tags": []
          },
          "execution_count": 736
        }
      ]
    },
    {
      "cell_type": "code",
      "metadata": {
        "id": "rGta_D7sokP_",
        "colab": {
          "base_uri": "https://localhost:8080/",
          "height": 38
        },
        "outputId": "687137ac-a2df-42cb-845f-925c78875da2"
      },
      "source": [
        "sys2[0]"
      ],
      "execution_count": 737,
      "outputs": [
        {
          "output_type": "execute_result",
          "data": {
            "image/png": "[encoded data removed]",
            "text/latex": "$\\displaystyle 0.15 = \\mathrm{Fr}_5 \\zeta_{5}$",
            "text/plain": [
              "0.15 = \\mathrm{Fr}₅⋅\\zeta₅"
            ]
          },
          "metadata": {
            "tags": []
          },
          "execution_count": 737
        }
      ]
    },
    {
      "cell_type": "code",
      "metadata": {
        "id": "K_1L3laOom6u",
        "colab": {
          "base_uri": "https://localhost:8080/",
          "height": 53
        },
        "outputId": "1dc2a514-afce-46a1-a9e7-3eafd60bdb15"
      },
      "source": [
        "Eq( expand( sys2[1].lhs*ζ5 ), expand( sys2[1].rhs*ζ5 ) ) "
      ],
      "execution_count": 738,
      "outputs": [
        {
          "output_type": "execute_result",
          "data": {
            "image/png": "[encoded data removed]",
            "text/latex": "$\\displaystyle \\mathrm{Fr}_5^{2} \\zeta_{5}^{2} - 0.023041035894992 \\zeta_{5} = - \\frac{\\zeta_{5}^{3}}{2} + 0.489333964105008 \\zeta_{5}$",
            "text/plain": [
              "                                                           3                  \n",
              "            2       2                                \\zeta₅                   \n",
              "\\mathrm{Fr}₅ ⋅\\zeta₅  - 0.023041035894992⋅\\zeta₅ = - ─────── + 0.4893339641050\n",
              "                                                        2                     \n",
              "\n",
              "         \n",
              "         \n",
              "08⋅\\zeta₅\n",
              "         "
            ]
          },
          "metadata": {
            "tags": []
          },
          "execution_count": 738
        }
      ]
    },
    {
      "cell_type": "code",
      "metadata": {
        "id": "cXseFScaGNQw"
      },
      "source": [
        "sol2 = solve( sys2, [ ζ5, Fr5 ], dict=True )"
      ],
      "execution_count": 739,
      "outputs": []
    },
    {
      "cell_type": "code",
      "metadata": {
        "colab": {
          "base_uri": "https://localhost:8080/"
        },
        "id": "S3vqXsa9h-04",
        "outputId": "849bf6ec-122a-4e0c-8280-cf78ef62c53e"
      },
      "source": [
        "print( \"Number of sets of solutions: \", len( sol2 ) )"
      ],
      "execution_count": 740,
      "outputs": [
        {
          "output_type": "stream",
          "text": [
            "Number of sets of solutions:  3\n"
          ],
          "name": "stdout"
        }
      ]
    },
    {
      "cell_type": "code",
      "metadata": {
        "colab": {
          "base_uri": "https://localhost:8080/",
          "height": 38
        },
        "id": "P5Odo-8vGcsj",
        "outputId": "35f2ba8c-c8e2-4d3b-d412-0cfe7ec54ae0"
      },
      "source": [
        "sol2[0] "
      ],
      "execution_count": 741,
      "outputs": [
        {
          "output_type": "execute_result",
          "data": {
            "image/png": "[encoded data removed]",
            "text/latex": "$\\displaystyle \\left\\{ \\mathrm{Fr}_5 : -0.145126622040824 + 5.0 \\cdot 10^{-23} i, \\  \\zeta_{5} : -1.03358017909219 + 1.23758273158879 \\cdot 10^{-23} i\\right\\}$",
            "text/plain": [
              "{\\mathrm{Fr}₅: -0.145126622040824 + 0.e-22⋅ⅈ, \\zeta₅: -1.03358017909219 + 1.23\n",
              "758273158879e-23⋅ⅈ}"
            ]
          },
          "metadata": {
            "tags": []
          },
          "execution_count": 741
        }
      ]
    },
    {
      "cell_type": "code",
      "metadata": {
        "colab": {
          "base_uri": "https://localhost:8080/",
          "height": 38
        },
        "id": "5aLZ-jKZGfxB",
        "outputId": "023aa5c1-94f8-45ad-e0d7-50748294807e"
      },
      "source": [
        "sol2[1]"
      ],
      "execution_count": 742,
      "outputs": [
        {
          "output_type": "execute_result",
          "data": {
            "image/png": "[encoded data removed]",
            "text/latex": "$\\displaystyle \\left\\{ \\mathrm{Fr}_5 : 0.1515788568702 + 1.0 \\cdot 10^{-20} i, \\  \\zeta_{5} : 0.989583924151428 - 1.09950491427586 \\cdot 10^{-23} i\\right\\}$",
            "text/plain": [
              "{\\mathrm{Fr}₅: 0.1515788568702 + 0.e-20⋅ⅈ, \\zeta₅: 0.989583924151428 - 1.09950\n",
              "491427586e-23⋅ⅈ}"
            ]
          },
          "metadata": {
            "tags": []
          },
          "execution_count": 742
        }
      ]
    },
    {
      "cell_type": "code",
      "metadata": {
        "colab": {
          "base_uri": "https://localhost:8080/",
          "height": 38
        },
        "id": "diDkQy-rUxzS",
        "outputId": "a64f4446-fbdb-47a3-9d18-82c9f940801c"
      },
      "source": [
        "sol2[2]"
      ],
      "execution_count": 743,
      "outputs": [
        {
          "output_type": "execute_result",
          "data": {
            "image/png": "[encoded data removed]",
            "text/latex": "$\\displaystyle \\left\\{ \\mathrm{Fr}_5 : 3.40938109850396 - 2.0 \\cdot 10^{-22} i, \\  \\zeta_{5} : 0.0439962549407634 - 1.53745004316713 \\cdot 10^{-25} i\\right\\}$",
            "text/plain": [
              "{\\mathrm{Fr}₅: 3.40938109850396 - 0.e-22⋅ⅈ, \\zeta₅: 0.0439962549407634 - 1.537\n",
              "45004316713e-25⋅ⅈ}"
            ]
          },
          "metadata": {
            "tags": []
          },
          "execution_count": 743
        }
      ]
    },
    {
      "cell_type": "code",
      "metadata": {
        "colab": {
          "base_uri": "https://localhost:8080/",
          "height": 38
        },
        "id": "o24Cv51WGiiv",
        "outputId": "10aa15fb-ca6d-4d28-a43d-9fd420a6185f"
      },
      "source": [
        "Δζ15 = symbols( r\"\\Delta\\zeta_{15}\" )\n",
        "eqC1 = Eq( Δζ15, ζ1 - sol2[1][ζ5] ).subs( data )\n",
        "eqC1"
      ],
      "execution_count": 744,
      "outputs": [
        {
          "output_type": "execute_result",
          "data": {
            "image/png": "[encoded data removed]",
            "text/latex": "$\\displaystyle \\Delta\\zeta_{15} = 0.0104160758485715 + 1.09950491427586 \\cdot 10^{-23} i$",
            "text/plain": [
              "\\Delta\\zeta_{15} = 0.0104160758485715 + 1.09950491427586e-23⋅ⅈ"
            ]
          },
          "metadata": {
            "tags": []
          },
          "execution_count": 744
        }
      ]
    },
    {
      "cell_type": "code",
      "metadata": {
        "colab": {
          "base_uri": "https://localhost:8080/",
          "height": 38
        },
        "id": "W7KgqRZfV_5_",
        "outputId": "e1ae86ec-6449-41ef-b4dc-b7293f5d43f4"
      },
      "source": [
        "Δζ45 = symbols( r\"\\Delta\\zeta_{45}\" )\n",
        "eqD1 = Eq( Δζ45, round( sol1[ζ4] - re( sol2[1][ζ5] ), 4 ) )\n",
        "eqD1"
      ],
      "execution_count": 745,
      "outputs": [
        {
          "output_type": "execute_result",
          "data": {
            "image/png": "[encoded data removed]",
            "text/latex": "$\\displaystyle \\Delta\\zeta_{45} = -0.0003$",
            "text/plain": [
              "\\Delta\\zeta_{45} = -0.0003"
            ]
          },
          "metadata": {
            "tags": []
          },
          "execution_count": 745
        }
      ]
    },
    {
      "cell_type": "code",
      "metadata": {
        "id": "8MPVISG8nlyU",
        "colab": {
          "base_uri": "https://localhost:8080/",
          "height": 38
        },
        "outputId": "cbfb4eac-5c5b-4670-c681-c18eafe4934d"
      },
      "source": [
        "M5 = symbols( \"M_5\" )\n",
        "M5_value = simplify( Eq( M5, Fr5**2 * ζ5 ).subs( sol2[1] ) )\n",
        "M5_value "
      ],
      "execution_count": 746,
      "outputs": [
        {
          "output_type": "execute_result",
          "data": {
            "image/png": "[encoded data removed]",
            "text/latex": "$\\displaystyle M_{5} = 0.02273682853053 + 4.06550552292393 \\cdot 10^{-21} i$",
            "text/plain": [
              "M₅ = 0.02273682853053 + 4.06550552292393e-21⋅ⅈ"
            ]
          },
          "metadata": {
            "tags": []
          },
          "execution_count": 746
        }
      ]
    },
    {
      "cell_type": "code",
      "metadata": {
        "id": "7vCod39U4Utz",
        "outputId": "539836ea-b224-4c92-992f-432585e055fa",
        "colab": {
          "base_uri": "https://localhost:8080/",
          "height": 57
        }
      },
      "source": [
        "list( re( Matrix( (ζ1, ζ4, ζ4t, ζ4b, ζ5,EqFr2t.rhs,Fr4t, Fr4b, Fr5,M1_value.rhs, M4_value.rhs, re(M5_value.rhs)) )).subs(data).subs( sol1 ).subs( sol2[1] ) )"
      ],
      "execution_count": 749,
      "outputs": [
        {
          "output_type": "execute_result",
          "data": {
            "image/png": "[encoded data removed]",
            "text/latex": "$\\displaystyle \\left[ 1, \\  0.989276467025278, \\  0.90821165527114, \\  0.0810648117541376, \\  0.989583924151428, \\  0.147784370212543, \\  0.146448168132769, \\  0.209635555069849, \\  0.1515788568702, \\  0.0225, \\  0.023041035894992, \\  0.02273682853053\\right]$",
            "text/plain": [
              "[1, 0.989276467025278, 0.90821165527114, 0.0810648117541376, 0.989583924151428\n",
              ", 0.147784370212543, 0.146448168132769, 0.209635555069849, 0.1515788568702, 0.\n",
              "0225, 0.023041035894992, 0.02273682853053]"
            ]
          },
          "metadata": {
            "tags": []
          },
          "execution_count": 749
        }
      ]
    }
  ]
}