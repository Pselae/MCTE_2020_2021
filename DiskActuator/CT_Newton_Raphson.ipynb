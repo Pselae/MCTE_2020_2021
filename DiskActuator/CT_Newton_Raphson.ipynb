{
  "nbformat": 4,
  "nbformat_minor": 0,
  "metadata": {
    "colab": {
      "name": "CT_Newton_Raphson.ipynb",
      "provenance": [],
      "authorship_tag": "ABX9TyMZVM2Ci2IYwMsuaZ00UqJT",
      "include_colab_link": true
    },
    "kernelspec": {
      "name": "python3",
      "display_name": "Python 3"
    },
    "language_info": {
      "name": "python"
    }
  },
  "cells": [
    {
      "cell_type": "markdown",
      "metadata": {
        "id": "view-in-github",
        "colab_type": "text"
      },
      "source": [
        "<a href=\"https://colab.research.google.com/github/joaochenriques/MCTE_2020_2021/blob/main/DiskActuator/CT_Newton_Raphson.ipynb\" target=\"_parent\"><img src=\"https://colab.research.google.com/assets/colab-badge.svg\" alt=\"Open In Colab\"/></a>"
      ]
    },
    {
      "cell_type": "code",
      "metadata": {
        "id": "ngYrhzaf411H"
      },
      "source": [
        "from sympy import *\n",
        "import mpmath as mp\n",
        "init_printing()"
      ],
      "execution_count": 1,
      "outputs": []
    },
    {
      "cell_type": "code",
      "metadata": {
        "id": "YIOlbupnaX1y"
      },
      "source": [
        "Eq.__getitem__ = lambda self, i: self.args[i]\n",
        "# To allow equation.subs( [Eq(x,y)] )"
      ],
      "execution_count": 2,
      "outputs": []
    },
    {
      "cell_type": "markdown",
      "metadata": {
        "id": "BLEhN2HIcIGl"
      },
      "source": [
        "# Define the variables of the problem"
      ]
    },
    {
      "cell_type": "code",
      "metadata": {
        "id": "u_i1_X0z43-S"
      },
      "source": [
        "ζ1, ζ4, ζ4t, ζ4b, ζ5 = symbols( r\"\\zeta_1, \\zeta_4, \\zeta_{4t}, \\zeta_{4b}, \\zeta_5\" )"
      ],
      "execution_count": 3,
      "outputs": []
    },
    {
      "cell_type": "code",
      "metadata": {
        "id": "l9cFNTch5M3x"
      },
      "source": [
        "Fr1, Fr4, Fr4t, Fr4b, Fr5 = symbols( r\"\\mathrm{Fr}_1, \\mathrm{Fr}_4, \\mathrm{Fr}_{4t}, \\mathrm{Fr}_{4b}, \\mathrm{Fr}_5\" )"
      ],
      "execution_count": 4,
      "outputs": []
    },
    {
      "cell_type": "code",
      "metadata": {
        "id": "Agy3LvBn5U3H"
      },
      "source": [
        "B = symbols( \"B\")\n",
        "nt = symbols( \"n_t\")"
      ],
      "execution_count": 5,
      "outputs": []
    },
    {
      "cell_type": "code",
      "metadata": {
        "id": "VSlfBa9Yiq7S"
      },
      "source": [
        "C_T, C_P = symbols( \"C_\\mathrm{T}, C_\\mathrm{P}\")\n",
        "Fr2t = symbols( \"\\mathrm{Fr}_{2t}\")"
      ],
      "execution_count": 6,
      "outputs": []
    },
    {
      "cell_type": "markdown",
      "metadata": {
        "id": "wcyxTaTpi-UE"
      },
      "source": [
        "# Data of the problem"
      ]
    },
    {
      "cell_type": "code",
      "metadata": {
        "colab": {
          "base_uri": "https://localhost:8080/",
          "height": 38
        },
        "id": "MypfMhM6i9eV",
        "outputId": "acd36f14-e2d6-4740-eedb-4e39ea28df7b"
      },
      "source": [
        "data = { B: 0.1, ζ1: 1, Fr1: 0.15, C_T: 1.0 }\n",
        "data"
      ],
      "execution_count": 7,
      "outputs": [
        {
          "output_type": "execute_result",
          "data": {
            "image/png": "[encoded data removed]",
            "text/latex": "$\\displaystyle \\left\\{ B : 0.1, \\  C_\\mathrm{T} : 1.0, \\  \\mathrm{Fr}_1 : 0.15, \\  \\zeta_{1} : 1\\right\\}$",
            "text/plain": [
              "{B: 0.1, C_\\mathrm{T}: 1.0, \\mathrm{Fr}₁: 0.15, \\zeta₁: 1}"
            ]
          },
          "metadata": {
            "tags": []
          },
          "execution_count": 7
        }
      ]
    },
    {
      "cell_type": "markdown",
      "metadata": {
        "id": "GaegaKvwcM6W"
      },
      "source": [
        "# Define the equations required to compute the conditions at (4)"
      ]
    },
    {
      "cell_type": "code",
      "metadata": {
        "colab": {
          "base_uri": "https://localhost:8080/",
          "height": 55
        },
        "id": "He0Abd6p5tdX",
        "outputId": "4c9a4f61-9104-4c37-88ed-9c44d9622146"
      },
      "source": [
        "EqA1 = Eq( ζ4, ζ1 + Fr1**2/2 - Fr4b**2/2 )\n",
        "EqA1"
      ],
      "execution_count": 8,
      "outputs": [
        {
          "output_type": "execute_result",
          "data": {
            "image/png": "[encoded data removed]",
            "text/latex": "$\\displaystyle \\zeta_{4} = \\frac{\\mathrm{Fr}_1^{2}}{2} - \\frac{\\mathrm{Fr}_{4b}^{2}}{2} + \\zeta_{1}$",
            "text/plain": [
              "                     2                   2         \n",
              "         \\mathrm{Fr}₁    \\mathrm{Fr}_{4b}          \n",
              "\\zeta₄ = ───────────── - ───────────────── + \\zeta₁\n",
              "               2                 2                 "
            ]
          },
          "metadata": {
            "tags": []
          },
          "execution_count": 8
        }
      ]
    },
    {
      "cell_type": "code",
      "metadata": {
        "colab": {
          "base_uri": "https://localhost:8080/",
          "height": 38
        },
        "id": "5G3pGvnt52Ci",
        "outputId": "51acaba3-8b6d-46cd-dcbd-744ab939a45a"
      },
      "source": [
        "EqA2 = Eq( Fr4t * ζ4t + Fr4b * ζ4b, Fr1 * ζ1 )\n",
        "EqA2"
      ],
      "execution_count": 9,
      "outputs": [
        {
          "output_type": "execute_result",
          "data": {
            "image/png": "[encoded data removed]",
            "text/latex": "$\\displaystyle \\mathrm{Fr}_{4b} \\zeta_{4b} + \\mathrm{Fr}_{4t} \\zeta_{4t} = \\mathrm{Fr}_1 \\zeta_{1}$",
            "text/plain": [
              "\\mathrm{Fr}_{4b}⋅\\zeta_{4b} + \\mathrm{Fr}_{4t}⋅\\zeta_{4t} = \\mathrm{Fr}₁⋅\\zeta\n",
              "₁"
            ]
          },
          "metadata": {
            "tags": []
          },
          "execution_count": 9
        }
      ]
    },
    {
      "cell_type": "code",
      "metadata": {
        "colab": {
          "base_uri": "https://localhost:8080/",
          "height": 38
        },
        "id": "ichr8GK56CVB",
        "outputId": "b8487c9c-e75c-4e1a-8a9f-f914591a1773"
      },
      "source": [
        "EqA3 = Eq( ζ4, ζ4t + ζ4b )\n",
        "EqA3"
      ],
      "execution_count": 10,
      "outputs": [
        {
          "output_type": "execute_result",
          "data": {
            "image/png": "[encoded data removed]",
            "text/latex": "$\\displaystyle \\zeta_{4} = \\zeta_{4b} + \\zeta_{4t}$",
            "text/plain": [
              "\\zeta₄ = \\zeta_{4b} + \\zeta_{4t}"
            ]
          },
          "metadata": {
            "tags": []
          },
          "execution_count": 10
        }
      ]
    },
    {
      "cell_type": "code",
      "metadata": {
        "colab": {
          "base_uri": "https://localhost:8080/",
          "height": 55
        },
        "id": "mp-vbSH96P8K",
        "outputId": "ade241be-2316-4dd9-ac29-8dbb22a86398"
      },
      "source": [
        "EqA4 = Eq( Fr4t**2 * ζ4t + Fr4b**2 * ζ4b - Fr1**2 * ζ1, -( ζ4**2 - ζ1**2 )/2 - B/2*C_T*Fr1**2 )\n",
        "EqA4"
      ],
      "execution_count": 11,
      "outputs": [
        {
          "output_type": "execute_result",
          "data": {
            "image/png": "[encoded data removed]",
            "text/latex": "$\\displaystyle - \\mathrm{Fr}_1^{2} \\zeta_{1} + \\mathrm{Fr}_{4b}^{2} \\zeta_{4b} + \\mathrm{Fr}_{4t}^{2} \\zeta_{4t} = - \\frac{B C_\\mathrm{T} \\mathrm{Fr}_1^{2}}{2} + \\frac{\\zeta_{1}^{2}}{2} - \\frac{\\zeta_{4}^{2}}{2}$",
            "text/plain": [
              "                                                                              \n",
              "              2                          2                              2     \n",
              "- \\mathrm{Fr}₁ ⋅\\zeta₁ + \\mathrm{Fr}_{4b} ⋅\\zeta_{4b} + \\mathrm{Fr}_{4t} ⋅\\zet\n",
              "                                                                              \n",
              "\n",
              "                                      2         2         2\n",
              "           B⋅C_\\mathrm{T}⋅\\mathrm{Fr}₁    \\zeta₁    \\zeta₄ \n",
              "a_{4t} = - ──────────────────────────── + ─────── - ───────\n",
              "                        2                    2         2   "
            ]
          },
          "metadata": {
            "tags": []
          },
          "execution_count": 11
        }
      ]
    },
    {
      "cell_type": "code",
      "metadata": {
        "id": "aItg1e2cnsIR"
      },
      "source": [
        "EqCT = Eq( C_T, ( Fr4b**2-Fr4t**2 )/Fr1**2 ) \n",
        "EqCP = Eq( C_P, C_T * Fr2t / Fr1 )\n",
        "EqFr2t = Eq( Fr2t, Fr4t * ζ4t / B )"
      ],
      "execution_count": 12,
      "outputs": []
    },
    {
      "cell_type": "markdown",
      "metadata": {
        "id": "zlLTtSKOltd9"
      },
      "source": [
        "# Newton-Raphson Method\n",
        "\n",
        "### Compute Jacobian"
      ]
    },
    {
      "cell_type": "code",
      "metadata": {
        "colab": {
          "base_uri": "https://localhost:8080/",
          "height": 129
        },
        "id": "MKj7PsXq6jn8",
        "outputId": "fb26c7c5-2e4e-4e40-ee4e-1d1990f18a68"
      },
      "source": [
        "sys01 = [ EqA1.subs(data).lhs-EqA1.subs(data).rhs, \n",
        "          EqA2.subs(data).lhs-EqA2.subs(data).rhs, \n",
        "          EqA3.subs(data).lhs-EqA3.subs(data).rhs, \n",
        "          EqA4.subs(data).lhs-EqA4.subs(data).rhs,\n",
        "          EqCT.subs(data).lhs-EqCT.subs(data).rhs\n",
        "        ]\n",
        "sys1 = Matrix( sys01 )\n",
        "sys1"
      ],
      "execution_count": 13,
      "outputs": [
        {
          "output_type": "execute_result",
          "data": {
            "text/latex": "$\\displaystyle \\left[\\begin{matrix}\\frac{\\mathrm{Fr}_{4b}^{2}}{2} + \\zeta_{4} - 1.01125\\\\\\mathrm{Fr}_{4b} \\zeta_{4b} + \\mathrm{Fr}_{4t} \\zeta_{4t} - 0.15\\\\\\zeta_{4} - \\zeta_{4b} - \\zeta_{4t}\\\\\\mathrm{Fr}_{4b}^{2} \\zeta_{4b} + \\mathrm{Fr}_{4t}^{2} \\zeta_{4t} + \\frac{\\zeta_{4}^{2}}{2} - 0.521375\\\\- 44.4444444444444 \\mathrm{Fr}_{4b}^{2} + 44.4444444444444 \\mathrm{Fr}_{4t}^{2} + 1.0\\end{matrix}\\right]$",
            "text/plain": [
              "⎡                                      2                                      \n",
              "⎢                      \\mathrm{Fr}_{4b}                                       \n",
              "⎢                      ───────────────── + \\zeta₄ - 1.01125                   \n",
              "⎢                              2                                              \n",
              "⎢                                                                             \n",
              "⎢        \\mathrm{Fr}_{4b}⋅\\zeta_{4b} + \\mathrm{Fr}_{4t}⋅\\zeta_{4t} - 0.15     \n",
              "⎢                                                                             \n",
              "⎢                        \\zeta₄ - \\zeta_{4b} - \\zeta_{4t}                     \n",
              "⎢                                                                             \n",
              "⎢                                                                    2        \n",
              "⎢                2                              2              \\zeta₄         \n",
              "⎢\\mathrm{Fr}_{4b} ⋅\\zeta_{4b} + \\mathrm{Fr}_{4t} ⋅\\zeta_{4t} + ─────── - 0.521\n",
              "⎢                                                                 2           \n",
              "⎢                                                                             \n",
              "⎢                                   2                                    2    \n",
              "⎣- 44.4444444444444⋅\\mathrm{Fr}_{4b}  + 44.4444444444444⋅\\mathrm{Fr}_{4t}  + 1\n",
              "\n",
              "   ⎤\n",
              "   ⎥\n",
              "   ⎥\n",
              "   ⎥\n",
              "   ⎥\n",
              "   ⎥\n",
              "   ⎥\n",
              "   ⎥\n",
              "   ⎥\n",
              "   ⎥\n",
              "   ⎥\n",
              "375⎥\n",
              "   ⎥\n",
              "   ⎥\n",
              "   ⎥\n",
              ".0 ⎦"
            ]
          },
          "metadata": {
            "tags": []
          },
          "execution_count": 13
        }
      ]
    },
    {
      "cell_type": "code",
      "metadata": {
        "id": "g3zX6C67VJCK",
        "colab": {
          "base_uri": "https://localhost:8080/",
          "height": 119
        },
        "outputId": "e5891a5d-70b1-43c4-bc82-8bdfa3cc6bf9"
      },
      "source": [
        "vars1 = Matrix( [ ζ4b, ζ4t, ζ4, Fr4t, Fr4b ] )\n",
        "J1 = sys1.jacobian( vars1 )\n",
        "J1"
      ],
      "execution_count": 14,
      "outputs": [
        {
          "output_type": "execute_result",
          "data": {
            "text/latex": "$\\displaystyle \\left[\\begin{matrix}0 & 0 & 1 & 0 & \\mathrm{Fr}_{4b}\\\\\\mathrm{Fr}_{4b} & \\mathrm{Fr}_{4t} & 0 & \\zeta_{4t} & \\zeta_{4b}\\\\-1 & -1 & 1 & 0 & 0\\\\\\mathrm{Fr}_{4b}^{2} & \\mathrm{Fr}_{4t}^{2} & \\zeta_{4} & 2 \\mathrm{Fr}_{4t} \\zeta_{4t} & 2 \\mathrm{Fr}_{4b} \\zeta_{4b}\\\\0 & 0 & 0 & 88.8888888888889 \\mathrm{Fr}_{4t} & - 88.8888888888889 \\mathrm{Fr}_{4b}\\end{matrix}\\right]$",
            "text/plain": [
              "⎡        0                  0            1                     0              \n",
              "⎢                                                                             \n",
              "⎢\\mathrm{Fr}_{4b}   \\mathrm{Fr}_{4t}     0                \\zeta_{4t}          \n",
              "⎢                                                                             \n",
              "⎢       -1                 -1            1                     0              \n",
              "⎢                                                                             \n",
              "⎢                2                  2                                         \n",
              "⎢\\mathrm{Fr}_{4b}   \\mathrm{Fr}_{4t}   \\zeta₄    2⋅\\mathrm{Fr}_{4t}⋅\\zeta_{4t}\n",
              "⎢                                                                             \n",
              "⎣        0                  0            0     88.8888888888889⋅\\mathrm{Fr}_{4\n",
              "\n",
              "             \\mathrm{Fr}_{4b}         ⎤\n",
              "                                      ⎥\n",
              "                \\zeta_{4b}            ⎥\n",
              "                                      ⎥\n",
              "                    0                 ⎥\n",
              "                                      ⎥\n",
              "                                      ⎥\n",
              "      2⋅\\mathrm{Fr}_{4b}⋅\\zeta_{4b}   ⎥\n",
              "                                      ⎥\n",
              "t}  -88.8888888888889⋅\\mathrm{Fr}_{4b}⎦"
            ]
          },
          "metadata": {
            "tags": []
          },
          "execution_count": 14
        }
      ]
    },
    {
      "cell_type": "markdown",
      "metadata": {
        "id": "q5Sw1BSJlzWK"
      },
      "source": [
        "### Compute RHS"
      ]
    },
    {
      "cell_type": "code",
      "metadata": {
        "id": "0Nm1DRrEhteU",
        "colab": {
          "base_uri": "https://localhost:8080/",
          "height": 129
        },
        "outputId": "87613dec-1e2d-4230-c244-bd5c83269f04"
      },
      "source": [
        "b = -sys1\n",
        "b"
      ],
      "execution_count": 15,
      "outputs": [
        {
          "output_type": "execute_result",
          "data": {
            "text/latex": "$\\displaystyle \\left[\\begin{matrix}- \\frac{\\mathrm{Fr}_{4b}^{2}}{2} - \\zeta_{4} + 1.01125\\\\- \\mathrm{Fr}_{4b} \\zeta_{4b} - \\mathrm{Fr}_{4t} \\zeta_{4t} + 0.15\\\\- \\zeta_{4} + \\zeta_{4b} + \\zeta_{4t}\\\\- \\mathrm{Fr}_{4b}^{2} \\zeta_{4b} - \\mathrm{Fr}_{4t}^{2} \\zeta_{4t} - \\frac{\\zeta_{4}^{2}}{2} + 0.521375\\\\44.4444444444444 \\mathrm{Fr}_{4b}^{2} - 44.4444444444444 \\mathrm{Fr}_{4t}^{2} - 1.0\\end{matrix}\\right]$",
            "text/plain": [
              "⎡                                        2                                    \n",
              "⎢                        \\mathrm{Fr}_{4b}                                     \n",
              "⎢                      - ───────────────── - \\zeta₄ + 1.01125                 \n",
              "⎢                                2                                            \n",
              "⎢                                                                             \n",
              "⎢        -\\mathrm{Fr}_{4b}⋅\\zeta_{4b} - \\mathrm{Fr}_{4t}⋅\\zeta_{4t} + 0.15    \n",
              "⎢                                                                             \n",
              "⎢                        -\\zeta₄ + \\zeta_{4b} + \\zeta_{4t}                    \n",
              "⎢                                                                             \n",
              "⎢                                                                      2      \n",
              "⎢                  2                              2              \\zeta₄       \n",
              "⎢- \\mathrm{Fr}_{4b} ⋅\\zeta_{4b} - \\mathrm{Fr}_{4t} ⋅\\zeta_{4t} - ─────── + 0.5\n",
              "⎢                                                                   2         \n",
              "⎢                                                                             \n",
              "⎢                                   2                                    2    \n",
              "⎣  44.4444444444444⋅\\mathrm{Fr}_{4b}  - 44.4444444444444⋅\\mathrm{Fr}_{4t}  - 1\n",
              "\n",
              "     ⎤\n",
              "     ⎥\n",
              "     ⎥\n",
              "     ⎥\n",
              "     ⎥\n",
              "     ⎥\n",
              "     ⎥\n",
              "     ⎥\n",
              "     ⎥\n",
              "     ⎥\n",
              "     ⎥\n",
              "21375⎥\n",
              "     ⎥\n",
              "     ⎥\n",
              "     ⎥\n",
              ".0   ⎦"
            ]
          },
          "metadata": {
            "tags": []
          },
          "execution_count": 15
        }
      ]
    },
    {
      "cell_type": "markdown",
      "metadata": {
        "id": "dbv2Hyt2j7U-"
      },
      "source": [
        "### Newton-Raphson iteration\n",
        "\n",
        "Giving a initial estimate of the solution: $\\mathbf{x}_1$\n",
        "\n",
        "$i=0$\n",
        "\n",
        "Iterate\n",
        "\n",
        "$\\qquad i=i+1$\n",
        "\n",
        "$\\qquad \\mathbf{J}\\left(\\mathbf{x}_i\\right) \\boldsymbol{\\delta}_i = -\\mathbf{b}\\left(\\mathbf{x}_i\\right)$\n",
        "\n",
        "$\\qquad \\mathbf{x}_{i+1} = \\mathbf{x}_i + \\boldsymbol{\\delta}_i$ \n",
        "\n",
        "until $\\| \\boldsymbol{\\delta}_i \\| < \\epsilon$"
      ]
    },
    {
      "cell_type": "code",
      "metadata": {
        "id": "_tw062GIWXxr",
        "colab": {
          "base_uri": "https://localhost:8080/",
          "height": 37
        },
        "outputId": "94b599c2-843f-4074-a017-c5bcee52a7ce"
      },
      "source": [
        "values1 = Matrix( [ 0.99, 0.25, 0.73, 0.13, 0.20 ] )\n",
        "\n",
        "for i in range( 20 ):\n",
        "  vv1 = dict( zip( vars1, values1 ) )\n",
        "\n",
        "  BB = b.subs( vv1 )  # RHS\n",
        "  JJ = J1.subs( vv1 ) # Jacobian\n",
        "  \n",
        "  delta = JJ.LUsolve( BB )\n",
        "  values1 += delta\n",
        "  \n",
        "  if delta.norm() < 1E-14: \n",
        "    break\n",
        "    \n",
        "delta.norm() "
      ],
      "execution_count": 16,
      "outputs": [
        {
          "output_type": "execute_result",
          "data": {
            "image/png": "[encoded data removed]",
            "text/latex": "$\\displaystyle 3.15199005886651 \\cdot 10^{-15}$",
            "text/plain": [
              "3.15199005886651e-15"
            ]
          },
          "metadata": {
            "tags": []
          },
          "execution_count": 16
        }
      ]
    },
    {
      "cell_type": "markdown",
      "metadata": {
        "id": "_CPyh0AcmK7P"
      },
      "source": [
        "### Final solution"
      ]
    },
    {
      "cell_type": "code",
      "metadata": {
        "id": "CMQPC-4BmLwc",
        "outputId": "a60d2ae9-20c1-43c6-b236-2cda7d5b702f",
        "colab": {
          "base_uri": "https://localhost:8080/",
          "height": 38
        }
      },
      "source": [
        "sol1 = dict( zip( vars1, values1 ) )\n",
        "sol1"
      ],
      "execution_count": 17,
      "outputs": [
        {
          "output_type": "execute_result",
          "data": {
            "image/png": "[encoded data removed]",
            "text/latex": "$\\displaystyle \\left\\{ \\mathrm{Fr}_{4b} : 0.16509439294238, \\  \\mathrm{Fr}_{4t} : 0.0689649083303448, \\  \\zeta_{4} : 0.997621920709494, \\  \\zeta_{4b} : 0.844684604496065, \\  \\zeta_{4t} : 0.152937316213429\\right\\}$",
            "text/plain": [
              "{\\mathrm{Fr}_{4b}: 0.16509439294238, \\mathrm{Fr}_{4t}: 0.0689649083303448, \\ze\n",
              "ta₄: 0.997621920709494, \\zeta_{4b}: 0.844684604496065, \\zeta_{4t}: 0.152937316\n",
              "213429}"
            ]
          },
          "metadata": {
            "tags": []
          },
          "execution_count": 17
        }
      ]
    },
    {
      "cell_type": "markdown",
      "metadata": {
        "id": "QCJT7-TOmXZX"
      },
      "source": [
        "# Additional post-processing"
      ]
    },
    {
      "cell_type": "code",
      "metadata": {
        "id": "dEiikcxV0l2e",
        "colab": {
          "base_uri": "https://localhost:8080/",
          "height": 38
        },
        "outputId": "31f329cf-cea4-416a-ed27-ce7942d0e42c"
      },
      "source": [
        "M1 = symbols( \"M_{1}\" )\n",
        "M1_value = Eq( M1, Fr1**2 * ζ1 ).subs( data ).subs( sol1 )\n",
        "M1_value"
      ],
      "execution_count": 18,
      "outputs": [
        {
          "output_type": "execute_result",
          "data": {
            "image/png": "[encoded data removed]",
            "text/latex": "$\\displaystyle M_{1} = 0.0225$",
            "text/plain": [
              "M_{1} = 0.0225"
            ]
          },
          "metadata": {
            "tags": []
          },
          "execution_count": 18
        }
      ]
    },
    {
      "cell_type": "code",
      "metadata": {
        "id": "1072lBAy0QXp",
        "colab": {
          "base_uri": "https://localhost:8080/",
          "height": 38
        },
        "outputId": "75e7df10-e2ed-4db2-bcef-b4d94c0c7e96"
      },
      "source": [
        "M4 = symbols( \"M_{4}\" )\n",
        "M4_value = Eq( M4, Fr4t**2 * ζ4t + Fr4b**2 * ζ4b ).subs( data ).subs( sol1 )\n",
        "M4_value"
      ],
      "execution_count": 19,
      "outputs": [
        {
          "output_type": "execute_result",
          "data": {
            "image/png": "[encoded data removed]",
            "text/latex": "$\\displaystyle M_{4} = 0.0237502516599505$",
            "text/plain": [
              "M_{4} = 0.0237502516599505"
            ]
          },
          "metadata": {
            "tags": []
          },
          "execution_count": 19
        }
      ]
    },
    {
      "cell_type": "markdown",
      "metadata": {
        "id": "X7m3cmz7jSJQ"
      },
      "source": [
        "# Compute coefficients"
      ]
    },
    {
      "cell_type": "code",
      "metadata": {
        "colab": {
          "base_uri": "https://localhost:8080/",
          "height": 37
        },
        "id": "tLTTIhPMAbYW",
        "outputId": "9c00299b-b3e2-4b9f-933a-9cbe8fb665ea"
      },
      "source": [
        "EqFr2t.subs( data ).subs( sol1 )"
      ],
      "execution_count": 20,
      "outputs": [
        {
          "output_type": "execute_result",
          "data": {
            "image/png": "[encoded data removed]",
            "text/latex": "$\\displaystyle \\mathrm{Fr}_{2t} = 0.105473079929481$",
            "text/plain": [
              "\\mathrm{Fr}_{2t} = 0.105473079929481"
            ]
          },
          "metadata": {
            "tags": []
          },
          "execution_count": 20
        }
      ]
    },
    {
      "cell_type": "code",
      "metadata": {
        "colab": {
          "base_uri": "https://localhost:8080/",
          "height": 38
        },
        "id": "3KHOWAkJAnNc",
        "outputId": "6d8aa682-153a-49b2-c53b-8cd02f7493ce"
      },
      "source": [
        "EqCP.subs( [EqFr2t] ).subs( [EqCT] ).subs( data ).subs( sol1 )"
      ],
      "execution_count": 21,
      "outputs": [
        {
          "output_type": "execute_result",
          "data": {
            "image/png": "[encoded data removed]",
            "text/latex": "$\\displaystyle C_\\mathrm{P} = 0.703153866196538$",
            "text/plain": [
              "C_\\mathrm{P} = 0.703153866196538"
            ]
          },
          "metadata": {
            "tags": []
          },
          "execution_count": 21
        }
      ]
    },
    {
      "cell_type": "markdown",
      "metadata": {
        "id": "muCCXgPxFChb"
      },
      "source": [
        "# Compute conditions at section (5)"
      ]
    },
    {
      "cell_type": "markdown",
      "metadata": {
        "id": "n0tji70gFNW5"
      },
      "source": [
        "Mass balance"
      ]
    },
    {
      "cell_type": "code",
      "metadata": {
        "id": "BTag4dqeWfaE",
        "colab": {
          "base_uri": "https://localhost:8080/",
          "height": 38
        },
        "outputId": "3a58e731-5180-494b-e529-3d57554ac938"
      },
      "source": [
        "eqB1 = Eq( Fr1 * ζ1, Fr5 * ζ5 )\n",
        "eqB1"
      ],
      "execution_count": 22,
      "outputs": [
        {
          "output_type": "execute_result",
          "data": {
            "image/png": "[encoded data removed]",
            "text/latex": "$\\displaystyle \\mathrm{Fr}_1 \\zeta_{1} = \\mathrm{Fr}_5 \\zeta_{5}$",
            "text/plain": [
              "\\mathrm{Fr}₁⋅\\zeta₁ = \\mathrm{Fr}₅⋅\\zeta₅"
            ]
          },
          "metadata": {
            "tags": []
          },
          "execution_count": 22
        }
      ]
    },
    {
      "cell_type": "markdown",
      "metadata": {
        "id": "_v3qUX3QFczY"
      },
      "source": [
        "Momentum balance"
      ]
    },
    {
      "cell_type": "code",
      "metadata": {
        "colab": {
          "base_uri": "https://localhost:8080/",
          "height": 53
        },
        "id": "MpV9RnYmFYRb",
        "outputId": "509f4ad6-26e1-4e42-8fed-0736be0ab8c9"
      },
      "source": [
        "eqB2 = Eq( Fr5**2 * ζ5 - ( Fr4b**2 * ζ4b + Fr4t**2 * ζ4t ), -( ζ5**2 - ζ4**2 )/2 )\n",
        "eqB2"
      ],
      "execution_count": 23,
      "outputs": [
        {
          "output_type": "execute_result",
          "data": {
            "image/png": "[encoded data removed]",
            "text/latex": "$\\displaystyle \\mathrm{Fr}_5^{2} \\zeta_{5} - \\mathrm{Fr}_{4b}^{2} \\zeta_{4b} - \\mathrm{Fr}_{4t}^{2} \\zeta_{4t} = \\frac{\\zeta_{4}^{2}}{2} - \\frac{\\zeta_{5}^{2}}{2}$",
            "text/plain": [
              "                                                                              \n",
              "            2                          2                              2       \n",
              "\\mathrm{Fr}₅ ⋅\\zeta₅ - \\mathrm{Fr}_{4b} ⋅\\zeta_{4b} - \\mathrm{Fr}_{4t} ⋅\\zeta_\n",
              "                                                                              \n",
              "\n",
              "             2         2\n",
              "       \\zeta₄    \\zeta₅ \n",
              "{4t} = ─────── - ───────\n",
              "          2         2   "
            ]
          },
          "metadata": {
            "tags": []
          },
          "execution_count": 23
        }
      ]
    },
    {
      "cell_type": "code",
      "metadata": {
        "colab": {
          "base_uri": "https://localhost:8080/",
          "height": 58
        },
        "id": "1cTst5H0GEYL",
        "outputId": "74660acb-d605-4313-f2cf-5f00dc7a349e"
      },
      "source": [
        "sys2 = [ eqB1.subs(data).subs( sol1 ), eqB2.subs(data).subs( sol1 ) ]\n",
        "sys2"
      ],
      "execution_count": 24,
      "outputs": [
        {
          "output_type": "execute_result",
          "data": {
            "image/png": "[encoded data removed]",
            "text/latex": "$\\displaystyle \\left[ 0.15 = \\mathrm{Fr}_5 \\zeta_{5}, \\  \\mathrm{Fr}_5^{2} \\zeta_{5} - 0.0237502516599505 = 0.49762474834005 - \\frac{\\zeta_{5}^{2}}{2}\\right]$",
            "text/plain": [
              "⎡                                                                             \n",
              "⎢                                        2                                    \n",
              "⎢0.15 = \\mathrm{Fr}₅⋅\\zeta₅, \\mathrm{Fr}₅ ⋅\\zeta₅ - 0.0237502516599505 = 0.497\n",
              "⎣                                                                             \n",
              "\n",
              "                    2⎤\n",
              "              \\zeta₅ ⎥\n",
              "62474834005 - ───────⎥\n",
              "                 2   ⎦"
            ]
          },
          "metadata": {
            "tags": []
          },
          "execution_count": 24
        }
      ]
    },
    {
      "cell_type": "code",
      "metadata": {
        "id": "rGta_D7sokP_",
        "colab": {
          "base_uri": "https://localhost:8080/",
          "height": 38
        },
        "outputId": "745fe9d9-a656-45b1-db62-e6e26c1ad814"
      },
      "source": [
        "sys2[0]"
      ],
      "execution_count": 25,
      "outputs": [
        {
          "output_type": "execute_result",
          "data": {
            "image/png": "[encoded data removed]",
            "text/latex": "$\\displaystyle 0.15 = \\mathrm{Fr}_5 \\zeta_{5}$",
            "text/plain": [
              "0.15 = \\mathrm{Fr}₅⋅\\zeta₅"
            ]
          },
          "metadata": {
            "tags": []
          },
          "execution_count": 25
        }
      ]
    },
    {
      "cell_type": "code",
      "metadata": {
        "id": "K_1L3laOom6u",
        "colab": {
          "base_uri": "https://localhost:8080/",
          "height": 53
        },
        "outputId": "539a69b4-ba28-45bf-c25c-e972bd8585ab"
      },
      "source": [
        "Eq( expand( sys2[1].lhs*ζ5 ), expand( sys2[1].rhs*ζ5 ) ) "
      ],
      "execution_count": 26,
      "outputs": [
        {
          "output_type": "execute_result",
          "data": {
            "image/png": "[encoded data removed]",
            "text/latex": "$\\displaystyle \\mathrm{Fr}_5^{2} \\zeta_{5}^{2} - 0.0237502516599505 \\zeta_{5} = - \\frac{\\zeta_{5}^{3}}{2} + 0.49762474834005 \\zeta_{5}$",
            "text/plain": [
              "                                                            3                 \n",
              "            2       2                                 \\zeta₅                  \n",
              "\\mathrm{Fr}₅ ⋅\\zeta₅  - 0.0237502516599505⋅\\zeta₅ = - ─────── + 0.497624748340\n",
              "                                                         2                    \n",
              "\n",
              "         \n",
              "         \n",
              "05⋅\\zeta₅\n",
              "         "
            ]
          },
          "metadata": {
            "tags": []
          },
          "execution_count": 26
        }
      ]
    },
    {
      "cell_type": "code",
      "metadata": {
        "id": "cXseFScaGNQw"
      },
      "source": [
        "sol2 = solve( sys2, [ ζ5, Fr5 ], dict=True )"
      ],
      "execution_count": 27,
      "outputs": []
    },
    {
      "cell_type": "code",
      "metadata": {
        "colab": {
          "base_uri": "https://localhost:8080/"
        },
        "id": "S3vqXsa9h-04",
        "outputId": "09447558-4787-4806-b8ce-376b120eab5c"
      },
      "source": [
        "print( \"Number of sets of solutions: \", len( sol2 ) )"
      ],
      "execution_count": 28,
      "outputs": [
        {
          "output_type": "stream",
          "text": [
            "Number of sets of solutions:  3\n"
          ],
          "name": "stdout"
        }
      ]
    },
    {
      "cell_type": "code",
      "metadata": {
        "colab": {
          "base_uri": "https://localhost:8080/",
          "height": 38
        },
        "id": "P5Odo-8vGcsj",
        "outputId": "c64af111-6fe7-4ffe-8226-537ad225c930"
      },
      "source": [
        "sol2[0] "
      ],
      "execution_count": 29,
      "outputs": [
        {
          "output_type": "execute_result",
          "data": {
            "image/png": "[encoded data removed]",
            "text/latex": "$\\displaystyle \\left\\{ \\mathrm{Fr}_5 : -0.143942744486284 - 3.0 \\cdot 10^{-23} i, \\  \\zeta_{5} : -1.04208100613431 + 1.55296143309122 \\cdot 10^{-24} i\\right\\}$",
            "text/plain": [
              "{\\mathrm{Fr}₅: -0.143942744486284 - 0.e-23⋅ⅈ, \\zeta₅: -1.04208100613431 + 1.55\n",
              "296143309122e-24⋅ⅈ}"
            ]
          },
          "metadata": {
            "tags": []
          },
          "execution_count": 29
        }
      ]
    },
    {
      "cell_type": "code",
      "metadata": {
        "colab": {
          "base_uri": "https://localhost:8080/",
          "height": 38
        },
        "id": "5aLZ-jKZGfxB",
        "outputId": "ddca0a03-a55a-4c9a-d85e-6b731fd83e3f"
      },
      "source": [
        "sol2[1]"
      ],
      "execution_count": 30,
      "outputs": [
        {
          "output_type": "execute_result",
          "data": {
            "image/png": "[encoded data removed]",
            "text/latex": "$\\displaystyle \\left\\{ \\mathrm{Fr}_5 : 0.150172939767296 + 1.0 \\cdot 10^{-20} i, \\  \\zeta_{5} : 0.998848395938949 - 1.31718613037096 \\cdot 10^{-24} i\\right\\}$",
            "text/plain": [
              "{\\mathrm{Fr}₅: 0.150172939767296 + 0.e-20⋅ⅈ, \\zeta₅: 0.998848395938949 - 1.317\n",
              "18613037096e-24⋅ⅈ}"
            ]
          },
          "metadata": {
            "tags": []
          },
          "execution_count": 30
        }
      ]
    },
    {
      "cell_type": "code",
      "metadata": {
        "colab": {
          "base_uri": "https://localhost:8080/",
          "height": 38
        },
        "id": "diDkQy-rUxzS",
        "outputId": "6c6da9d3-d92b-48d6-f564-2fa7c0d1a280"
      },
      "source": [
        "sol2[2]"
      ],
      "execution_count": 31,
      "outputs": [
        {
          "output_type": "execute_result",
          "data": {
            "image/png": "[encoded data removed]",
            "text/latex": "$\\displaystyle \\left\\{ \\mathrm{Fr}_5 : 3.46960313805232 - 8.0 \\cdot 10^{-22} i, \\  \\zeta_{5} : 0.043232610195356 - 2.02761911978128 \\cdot 10^{-25} i\\right\\}$",
            "text/plain": [
              "{\\mathrm{Fr}₅: 3.46960313805232 - 0.e-21⋅ⅈ, \\zeta₅: 0.043232610195356 - 2.0276\n",
              "1911978128e-25⋅ⅈ}"
            ]
          },
          "metadata": {
            "tags": []
          },
          "execution_count": 31
        }
      ]
    },
    {
      "cell_type": "code",
      "metadata": {
        "colab": {
          "base_uri": "https://localhost:8080/",
          "height": 38
        },
        "id": "o24Cv51WGiiv",
        "outputId": "ac7a853f-50b1-4407-834e-c8cdd903b8be"
      },
      "source": [
        "Δζ15 = symbols( r\"\\Delta\\zeta_{15}\" )\n",
        "eqC1 = Eq( Δζ15, ζ1 - sol2[1][ζ5] ).subs( data )\n",
        "eqC1"
      ],
      "execution_count": 32,
      "outputs": [
        {
          "output_type": "execute_result",
          "data": {
            "image/png": "[encoded data removed]",
            "text/latex": "$\\displaystyle \\Delta\\zeta_{15} = 0.00115160406105064 + 1.31718613037096 \\cdot 10^{-24} i$",
            "text/plain": [
              "\\Delta\\zeta_{15} = 0.00115160406105064 + 1.31718613037096e-24⋅ⅈ"
            ]
          },
          "metadata": {
            "tags": []
          },
          "execution_count": 32
        }
      ]
    },
    {
      "cell_type": "code",
      "metadata": {
        "colab": {
          "base_uri": "https://localhost:8080/",
          "height": 38
        },
        "id": "W7KgqRZfV_5_",
        "outputId": "a67ad003-8f51-4e62-e1b3-3bf439641128"
      },
      "source": [
        "Δζ45 = symbols( r\"\\Delta\\zeta_{45}\" )\n",
        "eqD1 = Eq( Δζ45, round( sol1[ζ4] - re( sol2[1][ζ5] ), 4 ) )\n",
        "eqD1"
      ],
      "execution_count": 33,
      "outputs": [
        {
          "output_type": "execute_result",
          "data": {
            "image/png": "[encoded data removed]",
            "text/latex": "$\\displaystyle \\Delta\\zeta_{45} = -0.0012$",
            "text/plain": [
              "\\Delta\\zeta_{45} = -0.0012"
            ]
          },
          "metadata": {
            "tags": []
          },
          "execution_count": 33
        }
      ]
    },
    {
      "cell_type": "code",
      "metadata": {
        "id": "8MPVISG8nlyU",
        "colab": {
          "base_uri": "https://localhost:8080/",
          "height": 38
        },
        "outputId": "8a733659-920a-4f2a-fc53-986ff166089b"
      },
      "source": [
        "M5 = symbols( \"M_5\" )\n",
        "M5_value = simplify( Eq( M5, Fr5**2 * ζ5 ).subs( sol2[1] ) )\n",
        "M5_value "
      ],
      "execution_count": 34,
      "outputs": [
        {
          "output_type": "execute_result",
          "data": {
            "image/png": "[encoded data removed]",
            "text/latex": "$\\displaystyle M_{5} = 0.0225259409650944 + 4.06572844175515 \\cdot 10^{-21} i$",
            "text/plain": [
              "M₅ = 0.0225259409650944 + 4.06572844175515e-21⋅ⅈ"
            ]
          },
          "metadata": {
            "tags": []
          },
          "execution_count": 34
        }
      ]
    },
    {
      "cell_type": "code",
      "metadata": {
        "id": "7vCod39U4Utz"
      },
      "source": [
        ""
      ],
      "execution_count": 34,
      "outputs": []
    }
  ]
}