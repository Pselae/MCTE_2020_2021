{
  "nbformat": 4,
  "nbformat_minor": 0,
  "metadata": {
    "colab": {
      "name": "Numerical_Computations.ipynb",
      "provenance": [],
      "authorship_tag": "ABX9TyMPgSpWXgJ1zg5aPoafDJfR",
      "include_colab_link": true
    },
    "kernelspec": {
      "name": "python3",
      "display_name": "Python 3"
    },
    "language_info": {
      "name": "python"
    }
  },
  "cells": [
    {
      "cell_type": "markdown",
      "metadata": {
        "id": "view-in-github",
        "colab_type": "text"
      },
      "source": [
        "<a href=\"https://colab.research.google.com/github/joaochenriques/MCTE_2020_2021/blob/main/DiskActuator/CT_Newton_Raphson.ipynb\" target=\"_parent\"><img src=\"https://colab.research.google.com/assets/colab-badge.svg\" alt=\"Open In Colab\"/></a>"
      ]
    },
    {
      "cell_type": "code",
      "metadata": {
        "id": "ngYrhzaf411H"
      },
      "source": [
        "from sympy import *\n",
        "import mpmath as mp\n",
        "init_printing()"
      ],
      "execution_count": 84,
      "outputs": []
    },
    {
      "cell_type": "code",
      "metadata": {
        "id": "YIOlbupnaX1y"
      },
      "source": [
        "Eq.__getitem__ = lambda self, i: self.args[i]\n",
        "# To allow equation.subs( [Eq(x,y)] )"
      ],
      "execution_count": 32,
      "outputs": []
    },
    {
      "cell_type": "markdown",
      "metadata": {
        "id": "BLEhN2HIcIGl"
      },
      "source": [
        "# Define the variables of the problem"
      ]
    },
    {
      "cell_type": "code",
      "metadata": {
        "id": "u_i1_X0z43-S"
      },
      "source": [
        "ζ1, ζ4, ζ4t, ζ4b, ζ5 = symbols( r\"\\zeta_1, \\zeta_4, \\zeta_{4t}, \\zeta_{4b}, \\zeta_5\" )"
      ],
      "execution_count": 33,
      "outputs": []
    },
    {
      "cell_type": "code",
      "metadata": {
        "id": "l9cFNTch5M3x"
      },
      "source": [
        "Fr1, Fr4, Fr4t, Fr4b, Fr5 = symbols( r\"\\mathrm{Fr}_1, \\mathrm{Fr}_4, \\mathrm{Fr}_{4t}, \\mathrm{Fr}_{4b}, \\mathrm{Fr}_5\" )"
      ],
      "execution_count": 34,
      "outputs": []
    },
    {
      "cell_type": "code",
      "metadata": {
        "id": "Agy3LvBn5U3H"
      },
      "source": [
        "B = symbols( \"B\")\n",
        "nt = symbols( \"n_t\")"
      ],
      "execution_count": 35,
      "outputs": []
    },
    {
      "cell_type": "code",
      "metadata": {
        "id": "VSlfBa9Yiq7S"
      },
      "source": [
        "C_T, C_P = symbols( \"C_\\mathrm{T}, C_\\mathrm{P}\")\n",
        "Fr2t = symbols( \"\\mathrm{Fr}_{2t}\")"
      ],
      "execution_count": null,
      "outputs": []
    },
    {
      "cell_type": "markdown",
      "metadata": {
        "id": "wcyxTaTpi-UE"
      },
      "source": [
        "# Data of the problem"
      ]
    },
    {
      "cell_type": "code",
      "metadata": {
        "colab": {
          "base_uri": "https://localhost:8080/",
          "height": 38
        },
        "id": "MypfMhM6i9eV",
        "outputId": "2fdfbe4d-d6f5-4c31-8e45-784cb5468f82"
      },
      "source": [
        "data = { B: 0.3, ζ1: 1, Fr1: 0.15, C_T: 1.0 }\n",
        "data"
      ],
      "execution_count": 160,
      "outputs": [
        {
          "output_type": "execute_result",
          "data": {
            "image/png": "[encoded data removed]",
            "text/latex": "$\\displaystyle \\left\\{ B : 0.3, \\  C_\\mathrm{T} : 1.0, \\  \\mathrm{Fr}_1 : 0.15, \\  \\zeta_{1} : 1\\right\\}$",
            "text/plain": [
              "{B: 0.3, C_\\mathrm{T}: 1.0, \\mathrm{Fr}₁: 0.15, \\zeta₁: 1}"
            ]
          },
          "metadata": {
            "tags": []
          },
          "execution_count": 160
        }
      ]
    },
    {
      "cell_type": "markdown",
      "metadata": {
        "id": "GaegaKvwcM6W"
      },
      "source": [
        "# Define the equations required to compute the conditions at (4)"
      ]
    },
    {
      "cell_type": "code",
      "metadata": {
        "colab": {
          "base_uri": "https://localhost:8080/",
          "height": 55
        },
        "id": "He0Abd6p5tdX",
        "outputId": "d889dbb7-3b72-4631-eccf-48a70bf92df0"
      },
      "source": [
        "EqA1 = Eq( ζ4, ζ1 + Fr1**2/2 - Fr4b**2/2 )\n",
        "EqA1"
      ],
      "execution_count": 161,
      "outputs": [
        {
          "output_type": "execute_result",
          "data": {
            "image/png": "[encoded data removed]",
            "text/latex": "$\\displaystyle \\zeta_{4} = \\frac{\\mathrm{Fr}_1^{2}}{2} - \\frac{\\mathrm{Fr}_{4b}^{2}}{2} + \\zeta_{1}$",
            "text/plain": [
              "                     2                   2         \n",
              "         \\mathrm{Fr}₁    \\mathrm{Fr}_{4b}          \n",
              "\\zeta₄ = ───────────── - ───────────────── + \\zeta₁\n",
              "               2                 2                 "
            ]
          },
          "metadata": {
            "tags": []
          },
          "execution_count": 161
        }
      ]
    },
    {
      "cell_type": "code",
      "metadata": {
        "colab": {
          "base_uri": "https://localhost:8080/",
          "height": 38
        },
        "id": "5G3pGvnt52Ci",
        "outputId": "391eec2e-bb31-4f32-de26-f09b2199f3b9"
      },
      "source": [
        "EqA2 = Eq( Fr4t * ζ4t + Fr4b * ζ4b, Fr1 * ζ1 )\n",
        "EqA2"
      ],
      "execution_count": 162,
      "outputs": [
        {
          "output_type": "execute_result",
          "data": {
            "image/png": "[encoded data removed]",
            "text/latex": "$\\displaystyle \\mathrm{Fr}_{4b} \\zeta_{4b} + \\mathrm{Fr}_{4t} \\zeta_{4t} = \\mathrm{Fr}_1 \\zeta_{1}$",
            "text/plain": [
              "\\mathrm{Fr}_{4b}⋅\\zeta_{4b} + \\mathrm{Fr}_{4t}⋅\\zeta_{4t} = \\mathrm{Fr}₁⋅\\zeta\n",
              "₁"
            ]
          },
          "metadata": {
            "tags": []
          },
          "execution_count": 162
        }
      ]
    },
    {
      "cell_type": "code",
      "metadata": {
        "colab": {
          "base_uri": "https://localhost:8080/",
          "height": 38
        },
        "id": "ichr8GK56CVB",
        "outputId": "0a6880af-76e7-4b4c-83d3-8ac398601ac2"
      },
      "source": [
        "EqA3 = Eq( ζ4, ζ4t + ζ4b )\n",
        "EqA3"
      ],
      "execution_count": 163,
      "outputs": [
        {
          "output_type": "execute_result",
          "data": {
            "image/png": "[encoded data removed]",
            "text/latex": "$\\displaystyle \\zeta_{4} = \\zeta_{4b} + \\zeta_{4t}$",
            "text/plain": [
              "\\zeta₄ = \\zeta_{4b} + \\zeta_{4t}"
            ]
          },
          "metadata": {
            "tags": []
          },
          "execution_count": 163
        }
      ]
    },
    {
      "cell_type": "code",
      "metadata": {
        "colab": {
          "base_uri": "https://localhost:8080/",
          "height": 55
        },
        "id": "mp-vbSH96P8K",
        "outputId": "90de2290-1e13-4b5b-86a7-b1026d451fff"
      },
      "source": [
        "EqA4 = Eq( Fr4t**2 * ζ4t + Fr4b**2 * ζ4b - Fr1**2 * ζ1, -( ζ4**2 - ζ1**2 )/2 - B/2*C_T*Fr1**2 )\n",
        "EqA4"
      ],
      "execution_count": 164,
      "outputs": [
        {
          "output_type": "execute_result",
          "data": {
            "image/png": "[encoded data removed]",
            "text/latex": "$\\displaystyle - \\mathrm{Fr}_1^{2} \\zeta_{1} + \\mathrm{Fr}_{4b}^{2} \\zeta_{4b} + \\mathrm{Fr}_{4t}^{2} \\zeta_{4t} = - \\frac{B C_\\mathrm{T} \\mathrm{Fr}_1^{2}}{2} + \\frac{\\zeta_{1}^{2}}{2} - \\frac{\\zeta_{4}^{2}}{2}$",
            "text/plain": [
              "                                                                              \n",
              "              2                          2                              2     \n",
              "- \\mathrm{Fr}₁ ⋅\\zeta₁ + \\mathrm{Fr}_{4b} ⋅\\zeta_{4b} + \\mathrm{Fr}_{4t} ⋅\\zet\n",
              "                                                                              \n",
              "\n",
              "                                      2         2         2\n",
              "           B⋅C_\\mathrm{T}⋅\\mathrm{Fr}₁    \\zeta₁    \\zeta₄ \n",
              "a_{4t} = - ──────────────────────────── + ─────── - ───────\n",
              "                        2                    2         2   "
            ]
          },
          "metadata": {
            "tags": []
          },
          "execution_count": 164
        }
      ]
    },
    {
      "cell_type": "code",
      "metadata": {
        "colab": {
          "base_uri": "https://localhost:8080/",
          "height": 129
        },
        "id": "MKj7PsXq6jn8",
        "outputId": "1e5d80c2-1abf-4501-fcd8-834de2052180"
      },
      "source": [
        "sys01 = [ EqA1.subs(data).lhs-EqA1.subs(data).rhs, \n",
        "          EqA2.subs(data).lhs-EqA2.subs(data).rhs, \n",
        "          EqA3.subs(data).lhs-EqA3.subs(data).rhs, \n",
        "          EqA4.subs(data).lhs-EqA4.subs(data).rhs,\n",
        "          EqCT.subs(data).lhs-EqCT.subs(data).rhs\n",
        "        ]\n",
        "sys1 = Matrix( sys01 )\n",
        "sys1"
      ],
      "execution_count": 165,
      "outputs": [
        {
          "output_type": "execute_result",
          "data": {
            "text/latex": "$\\displaystyle \\left[\\begin{matrix}\\frac{\\mathrm{Fr}_{4b}^{2}}{2} + \\zeta_{4} - 1.01125\\\\\\mathrm{Fr}_{4b} \\zeta_{4b} + \\mathrm{Fr}_{4t} \\zeta_{4t} - 0.15\\\\\\zeta_{4} - \\zeta_{4b} - \\zeta_{4t}\\\\\\mathrm{Fr}_{4b}^{2} \\zeta_{4b} + \\mathrm{Fr}_{4t}^{2} \\zeta_{4t} + \\frac{\\zeta_{4}^{2}}{2} - 0.519125\\\\- 44.4444444444444 \\mathrm{Fr}_{4b}^{2} + 44.4444444444444 \\mathrm{Fr}_{4t}^{2} + 1.0\\end{matrix}\\right]$",
            "text/plain": [
              "⎡                                      2                                      \n",
              "⎢                      \\mathrm{Fr}_{4b}                                       \n",
              "⎢                      ───────────────── + \\zeta₄ - 1.01125                   \n",
              "⎢                              2                                              \n",
              "⎢                                                                             \n",
              "⎢        \\mathrm{Fr}_{4b}⋅\\zeta_{4b} + \\mathrm{Fr}_{4t}⋅\\zeta_{4t} - 0.15     \n",
              "⎢                                                                             \n",
              "⎢                        \\zeta₄ - \\zeta_{4b} - \\zeta_{4t}                     \n",
              "⎢                                                                             \n",
              "⎢                                                                    2        \n",
              "⎢                2                              2              \\zeta₄         \n",
              "⎢\\mathrm{Fr}_{4b} ⋅\\zeta_{4b} + \\mathrm{Fr}_{4t} ⋅\\zeta_{4t} + ─────── - 0.519\n",
              "⎢                                                                 2           \n",
              "⎢                                                                             \n",
              "⎢                                   2                                    2    \n",
              "⎣- 44.4444444444444⋅\\mathrm{Fr}_{4b}  + 44.4444444444444⋅\\mathrm{Fr}_{4t}  + 1\n",
              "\n",
              "   ⎤\n",
              "   ⎥\n",
              "   ⎥\n",
              "   ⎥\n",
              "   ⎥\n",
              "   ⎥\n",
              "   ⎥\n",
              "   ⎥\n",
              "   ⎥\n",
              "   ⎥\n",
              "   ⎥\n",
              "125⎥\n",
              "   ⎥\n",
              "   ⎥\n",
              "   ⎥\n",
              ".0 ⎦"
            ]
          },
          "metadata": {
            "tags": []
          },
          "execution_count": 165
        }
      ]
    },
    {
      "cell_type": "code",
      "metadata": {
        "id": "g3zX6C67VJCK",
        "outputId": "8d16dc2e-bb74-4844-d2df-6511acbec77e",
        "colab": {
          "base_uri": "https://localhost:8080/",
          "height": 119
        }
      },
      "source": [
        "vars1 = Matrix( [ ζ4b, ζ4t, ζ4, Fr4t, Fr4b ] )\n",
        "J1 = sys1.jacobian( vars1 )\n",
        "J1"
      ],
      "execution_count": 166,
      "outputs": [
        {
          "output_type": "execute_result",
          "data": {
            "text/latex": "$\\displaystyle \\left[\\begin{matrix}0 & 0 & 1 & 0 & \\mathrm{Fr}_{4b}\\\\\\mathrm{Fr}_{4b} & \\mathrm{Fr}_{4t} & 0 & \\zeta_{4t} & \\zeta_{4b}\\\\-1 & -1 & 1 & 0 & 0\\\\\\mathrm{Fr}_{4b}^{2} & \\mathrm{Fr}_{4t}^{2} & \\zeta_{4} & 2 \\mathrm{Fr}_{4t} \\zeta_{4t} & 2 \\mathrm{Fr}_{4b} \\zeta_{4b}\\\\0 & 0 & 0 & 88.8888888888889 \\mathrm{Fr}_{4t} & - 88.8888888888889 \\mathrm{Fr}_{4b}\\end{matrix}\\right]$",
            "text/plain": [
              "⎡        0                  0            1                     0              \n",
              "⎢                                                                             \n",
              "⎢\\mathrm{Fr}_{4b}   \\mathrm{Fr}_{4t}     0                \\zeta_{4t}          \n",
              "⎢                                                                             \n",
              "⎢       -1                 -1            1                     0              \n",
              "⎢                                                                             \n",
              "⎢                2                  2                                         \n",
              "⎢\\mathrm{Fr}_{4b}   \\mathrm{Fr}_{4t}   \\zeta₄    2⋅\\mathrm{Fr}_{4t}⋅\\zeta_{4t}\n",
              "⎢                                                                             \n",
              "⎣        0                  0            0     88.8888888888889⋅\\mathrm{Fr}_{4\n",
              "\n",
              "             \\mathrm{Fr}_{4b}         ⎤\n",
              "                                      ⎥\n",
              "                \\zeta_{4b}            ⎥\n",
              "                                      ⎥\n",
              "                    0                 ⎥\n",
              "                                      ⎥\n",
              "                                      ⎥\n",
              "      2⋅\\mathrm{Fr}_{4b}⋅\\zeta_{4b}   ⎥\n",
              "                                      ⎥\n",
              "t}  -88.8888888888889⋅\\mathrm{Fr}_{4b}⎦"
            ]
          },
          "metadata": {
            "tags": []
          },
          "execution_count": 166
        }
      ]
    },
    {
      "cell_type": "code",
      "metadata": {
        "id": "0Nm1DRrEhteU",
        "outputId": "0ced0c69-9402-4452-ee3d-c6892f91b0c5",
        "colab": {
          "base_uri": "https://localhost:8080/",
          "height": 129
        }
      },
      "source": [
        "b = -sys1\n",
        "b"
      ],
      "execution_count": 167,
      "outputs": [
        {
          "output_type": "execute_result",
          "data": {
            "text/latex": "$\\displaystyle \\left[\\begin{matrix}- \\frac{\\mathrm{Fr}_{4b}^{2}}{2} - \\zeta_{4} + 1.01125\\\\- \\mathrm{Fr}_{4b} \\zeta_{4b} - \\mathrm{Fr}_{4t} \\zeta_{4t} + 0.15\\\\- \\zeta_{4} + \\zeta_{4b} + \\zeta_{4t}\\\\- \\mathrm{Fr}_{4b}^{2} \\zeta_{4b} - \\mathrm{Fr}_{4t}^{2} \\zeta_{4t} - \\frac{\\zeta_{4}^{2}}{2} + 0.519125\\\\44.4444444444444 \\mathrm{Fr}_{4b}^{2} - 44.4444444444444 \\mathrm{Fr}_{4t}^{2} - 1.0\\end{matrix}\\right]$",
            "text/plain": [
              "⎡                                        2                                    \n",
              "⎢                        \\mathrm{Fr}_{4b}                                     \n",
              "⎢                      - ───────────────── - \\zeta₄ + 1.01125                 \n",
              "⎢                                2                                            \n",
              "⎢                                                                             \n",
              "⎢        -\\mathrm{Fr}_{4b}⋅\\zeta_{4b} - \\mathrm{Fr}_{4t}⋅\\zeta_{4t} + 0.15    \n",
              "⎢                                                                             \n",
              "⎢                        -\\zeta₄ + \\zeta_{4b} + \\zeta_{4t}                    \n",
              "⎢                                                                             \n",
              "⎢                                                                      2      \n",
              "⎢                  2                              2              \\zeta₄       \n",
              "⎢- \\mathrm{Fr}_{4b} ⋅\\zeta_{4b} - \\mathrm{Fr}_{4t} ⋅\\zeta_{4t} - ─────── + 0.5\n",
              "⎢                                                                   2         \n",
              "⎢                                                                             \n",
              "⎢                                   2                                    2    \n",
              "⎣  44.4444444444444⋅\\mathrm{Fr}_{4b}  - 44.4444444444444⋅\\mathrm{Fr}_{4t}  - 1\n",
              "\n",
              "     ⎤\n",
              "     ⎥\n",
              "     ⎥\n",
              "     ⎥\n",
              "     ⎥\n",
              "     ⎥\n",
              "     ⎥\n",
              "     ⎥\n",
              "     ⎥\n",
              "     ⎥\n",
              "     ⎥\n",
              "19125⎥\n",
              "     ⎥\n",
              "     ⎥\n",
              "     ⎥\n",
              ".0   ⎦"
            ]
          },
          "metadata": {
            "tags": []
          },
          "execution_count": 167
        }
      ]
    },
    {
      "cell_type": "code",
      "metadata": {
        "id": "_tw062GIWXxr",
        "outputId": "a09c084c-1676-44da-e29e-286d1d6d2dbf",
        "colab": {
          "base_uri": "https://localhost:8080/",
          "height": 37
        }
      },
      "source": [
        "values1 = Matrix( [ 0.99, 0.25, 0.73, 0.13, 0.20 ] )\n",
        "\n",
        "for i in range( 20 ):\n",
        "  vv1 = dict( zip( vars1, values1 ) )\n",
        "  BB = b.subs( vv1 )\n",
        "  JJ = J1.subs( vv1 )\n",
        "  delta = JJ.LUsolve( BB )\n",
        "  values1 += delta\n",
        "  if delta.norm() < 1E-14: \n",
        "    break\n",
        "    \n",
        "delta.norm() "
      ],
      "execution_count": 172,
      "outputs": [
        {
          "output_type": "execute_result",
          "data": {
            "image/png": "[encoded data removed]",
            "text/latex": "$\\displaystyle 7.02085168921265 \\cdot 10^{-15}$",
            "text/plain": [
              "7.02085168921265e-15"
            ]
          },
          "metadata": {
            "tags": []
          },
          "execution_count": 172
        }
      ]
    },
    {
      "cell_type": "code",
      "metadata": {
        "id": "dEiikcxV0l2e",
        "colab": {
          "base_uri": "https://localhost:8080/",
          "height": 38
        },
        "outputId": "585b3391-a05f-4fdb-cd8e-410a3e1f9c0c"
      },
      "source": [
        "M1 = symbols( \"M_{1}\" )\n",
        "M1_value = Eq( M1, Fr1**2 * ζ1 ).subs( data ).subs( sol1 )\n",
        "M1_value"
      ],
      "execution_count": 177,
      "outputs": [
        {
          "output_type": "execute_result",
          "data": {
            "image/png": "[encoded data removed]",
            "text/latex": "$\\displaystyle M_{1} = 0.0225$",
            "text/plain": [
              "M_{1} = 0.0225"
            ]
          },
          "metadata": {
            "tags": []
          },
          "execution_count": 177
        }
      ]
    },
    {
      "cell_type": "code",
      "metadata": {
        "id": "1072lBAy0QXp",
        "colab": {
          "base_uri": "https://localhost:8080/",
          "height": 38
        },
        "outputId": "6443bcc7-9e0b-4f94-d190-0535f20a71f7"
      },
      "source": [
        "M4 = symbols( \"M_{4}\" )\n",
        "M4_value = Eq( M4, Fr4t**2 * ζ4t + Fr4b**2 * ζ4b ).subs( data ).subs( sol1 )\n",
        "M4_value"
      ],
      "execution_count": 178,
      "outputs": [
        {
          "output_type": "execute_result",
          "data": {
            "image/png": "[encoded data removed]",
            "text/latex": "$\\displaystyle M_{4} = 0.0241039762497522$",
            "text/plain": [
              "M_{4} = 0.0241039762497522"
            ]
          },
          "metadata": {
            "tags": []
          },
          "execution_count": 178
        }
      ]
    },
    {
      "cell_type": "markdown",
      "metadata": {
        "id": "X7m3cmz7jSJQ"
      },
      "source": [
        "# Compute coefficients"
      ]
    },
    {
      "cell_type": "code",
      "metadata": {
        "colab": {
          "base_uri": "https://localhost:8080/",
          "height": 37
        },
        "id": "tLTTIhPMAbYW",
        "outputId": "90f08a4b-8d21-4393-bee7-874ae586e02b"
      },
      "source": [
        "EqFr2t.subs( data ).subs( sol1 )"
      ],
      "execution_count": 180,
      "outputs": [
        {
          "output_type": "execute_result",
          "data": {
            "image/png": "[encoded data removed]",
            "text/latex": "$\\displaystyle \\mathrm{Fr}_{2t} = 0.121625372603293$",
            "text/plain": [
              "\\mathrm{Fr}_{2t} = 0.121625372603293"
            ]
          },
          "metadata": {
            "tags": []
          },
          "execution_count": 180
        }
      ]
    },
    {
      "cell_type": "code",
      "metadata": {
        "colab": {
          "base_uri": "https://localhost:8080/",
          "height": 38
        },
        "id": "3KHOWAkJAnNc",
        "outputId": "886c1233-406c-4dd5-e36d-47c7767b528e"
      },
      "source": [
        "EqCP.subs( [EqFr2t] ).subs( [EqCT] ).subs( data ).subs( sol1 )"
      ],
      "execution_count": 181,
      "outputs": [
        {
          "output_type": "execute_result",
          "data": {
            "image/png": "[encoded data removed]",
            "text/latex": "$\\displaystyle C_\\mathrm{P} = 0.810835817355286$",
            "text/plain": [
              "C_\\mathrm{P} = 0.810835817355286"
            ]
          },
          "metadata": {
            "tags": []
          },
          "execution_count": 181
        }
      ]
    },
    {
      "cell_type": "markdown",
      "metadata": {
        "id": "muCCXgPxFChb"
      },
      "source": [
        "# Compute conditions at section (5)"
      ]
    },
    {
      "cell_type": "markdown",
      "metadata": {
        "id": "n0tji70gFNW5"
      },
      "source": [
        "Mass balance"
      ]
    },
    {
      "cell_type": "code",
      "metadata": {
        "id": "BTag4dqeWfaE",
        "colab": {
          "base_uri": "https://localhost:8080/",
          "height": 38
        },
        "outputId": "065b0dd1-b981-4ad7-b9ab-2a5dc5b1dbe8"
      },
      "source": [
        "eqB1 = Eq( Fr1 * ζ1, Fr5 * ζ5 )\n",
        "eqB1"
      ],
      "execution_count": 182,
      "outputs": [
        {
          "output_type": "execute_result",
          "data": {
            "image/png": "[encoded data removed]",
            "text/latex": "$\\displaystyle \\mathrm{Fr}_1 \\zeta_{1} = \\mathrm{Fr}_5 \\zeta_{5}$",
            "text/plain": [
              "\\mathrm{Fr}₁⋅\\zeta₁ = \\mathrm{Fr}₅⋅\\zeta₅"
            ]
          },
          "metadata": {
            "tags": []
          },
          "execution_count": 182
        }
      ]
    },
    {
      "cell_type": "markdown",
      "metadata": {
        "id": "_v3qUX3QFczY"
      },
      "source": [
        "Momentum balance"
      ]
    },
    {
      "cell_type": "code",
      "metadata": {
        "colab": {
          "base_uri": "https://localhost:8080/",
          "height": 53
        },
        "id": "MpV9RnYmFYRb",
        "outputId": "7131cf0b-f163-42ec-9a0e-cf8f672ec422"
      },
      "source": [
        "eqB2 = Eq( Fr5**2 * ζ5 - ( Fr4b**2 * ζ4b + Fr4t**2 * ζ4t ), -( ζ5**2 - ζ4**2 )/2 )\n",
        "eqB2"
      ],
      "execution_count": 183,
      "outputs": [
        {
          "output_type": "execute_result",
          "data": {
            "image/png": "[encoded data removed]",
            "text/latex": "$\\displaystyle \\mathrm{Fr}_5^{2} \\zeta_{5} - \\mathrm{Fr}_{4b}^{2} \\zeta_{4b} - \\mathrm{Fr}_{4t}^{2} \\zeta_{4t} = \\frac{\\zeta_{4}^{2}}{2} - \\frac{\\zeta_{5}^{2}}{2}$",
            "text/plain": [
              "                                                                              \n",
              "            2                          2                              2       \n",
              "\\mathrm{Fr}₅ ⋅\\zeta₅ - \\mathrm{Fr}_{4b} ⋅\\zeta_{4b} - \\mathrm{Fr}_{4t} ⋅\\zeta_\n",
              "                                                                              \n",
              "\n",
              "             2         2\n",
              "       \\zeta₄    \\zeta₅ \n",
              "{4t} = ─────── - ───────\n",
              "          2         2   "
            ]
          },
          "metadata": {
            "tags": []
          },
          "execution_count": 183
        }
      ]
    },
    {
      "cell_type": "code",
      "metadata": {
        "colab": {
          "base_uri": "https://localhost:8080/",
          "height": 58
        },
        "id": "1cTst5H0GEYL",
        "outputId": "4a2768f7-2ec9-48e1-d05e-fc253889cd32"
      },
      "source": [
        "sys2 = [ eqB1.subs(data).subs( sol1 ), eqB2.subs(data).subs( sol1 ) ]\n",
        "sys2"
      ],
      "execution_count": 185,
      "outputs": [
        {
          "output_type": "execute_result",
          "data": {
            "image/png": "[encoded data removed]",
            "text/latex": "$\\displaystyle \\left[ 0.15 = \\mathrm{Fr}_5 \\zeta_{5}, \\  \\mathrm{Fr}_5^{2} \\zeta_{5} - 0.0241039762497522 = 0.495021023750248 - \\frac{\\zeta_{5}^{2}}{2}\\right]$",
            "text/plain": [
              "⎡                                                                             \n",
              "⎢                                        2                                    \n",
              "⎢0.15 = \\mathrm{Fr}₅⋅\\zeta₅, \\mathrm{Fr}₅ ⋅\\zeta₅ - 0.0241039762497522 = 0.495\n",
              "⎣                                                                             \n",
              "\n",
              "                     2⎤\n",
              "               \\zeta₅ ⎥\n",
              "021023750248 - ───────⎥\n",
              "                  2   ⎦"
            ]
          },
          "metadata": {
            "tags": []
          },
          "execution_count": 185
        }
      ]
    },
    {
      "cell_type": "code",
      "metadata": {
        "id": "rGta_D7sokP_",
        "colab": {
          "base_uri": "https://localhost:8080/",
          "height": 38
        },
        "outputId": "f71c174e-4f78-4b18-bc12-8bec35bd5632"
      },
      "source": [
        "sys2[0]"
      ],
      "execution_count": 186,
      "outputs": [
        {
          "output_type": "execute_result",
          "data": {
            "image/png": "[encoded data removed]",
            "text/latex": "$\\displaystyle 0.15 = \\mathrm{Fr}_5 \\zeta_{5}$",
            "text/plain": [
              "0.15 = \\mathrm{Fr}₅⋅\\zeta₅"
            ]
          },
          "metadata": {
            "tags": []
          },
          "execution_count": 186
        }
      ]
    },
    {
      "cell_type": "code",
      "metadata": {
        "id": "K_1L3laOom6u",
        "colab": {
          "base_uri": "https://localhost:8080/",
          "height": 53
        },
        "outputId": "ee61243a-2f14-49cd-dca8-3dc8c9a93cdb"
      },
      "source": [
        "Eq( expand( sys2[1].lhs*ζ5 ), expand( sys2[1].rhs*ζ5 ) ) "
      ],
      "execution_count": 187,
      "outputs": [
        {
          "output_type": "execute_result",
          "data": {
            "image/png": "[encoded data removed]",
            "text/latex": "$\\displaystyle \\mathrm{Fr}_5^{2} \\zeta_{5}^{2} - 0.0241039762497522 \\zeta_{5} = - \\frac{\\zeta_{5}^{3}}{2} + 0.495021023750248 \\zeta_{5}$",
            "text/plain": [
              "                                                            3                 \n",
              "            2       2                                 \\zeta₅                  \n",
              "\\mathrm{Fr}₅ ⋅\\zeta₅  - 0.0241039762497522⋅\\zeta₅ = - ─────── + 0.495021023750\n",
              "                                                         2                    \n",
              "\n",
              "          \n",
              "          \n",
              "248⋅\\zeta₅\n",
              "          "
            ]
          },
          "metadata": {
            "tags": []
          },
          "execution_count": 187
        }
      ]
    },
    {
      "cell_type": "code",
      "metadata": {
        "id": "cXseFScaGNQw"
      },
      "source": [
        "sol2 = solve( sys2, [ ζ5, Fr5 ], dict=True )"
      ],
      "execution_count": 188,
      "outputs": []
    },
    {
      "cell_type": "code",
      "metadata": {
        "colab": {
          "base_uri": "https://localhost:8080/"
        },
        "id": "S3vqXsa9h-04",
        "outputId": "39bd0775-7361-4477-bfde-6f7cb955d1e9"
      },
      "source": [
        "print( \"Number of sets of solutions: \", len( sol2 ) )"
      ],
      "execution_count": 189,
      "outputs": [
        {
          "output_type": "stream",
          "text": [
            "Number of sets of solutions:  3\n"
          ],
          "name": "stdout"
        }
      ]
    },
    {
      "cell_type": "code",
      "metadata": {
        "colab": {
          "base_uri": "https://localhost:8080/",
          "height": 38
        },
        "id": "P5Odo-8vGcsj",
        "outputId": "9d20b3a3-0d84-4052-83e1-704fc2f86854"
      },
      "source": [
        "sol2[0] "
      ],
      "execution_count": 190,
      "outputs": [
        {
          "output_type": "execute_result",
          "data": {
            "image/png": "[encoded data removed]",
            "text/latex": "$\\displaystyle \\left\\{ \\mathrm{Fr}_5 : -0.144236049175427 + 5.0 \\cdot 10^{-23} i, \\  \\zeta_{5} : -1.03996192947272 - 1.53579851295002 \\cdot 10^{-24} i\\right\\}$",
            "text/plain": [
              "{\\mathrm{Fr}₅: -0.144236049175427 + 0.e-22⋅ⅈ, \\zeta₅: -1.03996192947272 - 1.53\n",
              "579851295002e-24⋅ⅈ}"
            ]
          },
          "metadata": {
            "tags": []
          },
          "execution_count": 190
        }
      ]
    },
    {
      "cell_type": "code",
      "metadata": {
        "colab": {
          "base_uri": "https://localhost:8080/",
          "height": 38
        },
        "id": "5aLZ-jKZGfxB",
        "outputId": "75c856e8-3bbb-4bd7-91e8-da70bbb8dec1"
      },
      "source": [
        "sol2[1]"
      ],
      "execution_count": 191,
      "outputs": [
        {
          "output_type": "execute_result",
          "data": {
            "image/png": "[encoded data removed]",
            "text/latex": "$\\displaystyle \\left\\{ \\mathrm{Fr}_5 : 0.150520663335984 + 1.0 \\cdot 10^{-20} i, \\  \\zeta_{5} : 0.996540917875029 + 1.3223854671516 \\cdot 10^{-24} i\\right\\}$",
            "text/plain": [
              "{\\mathrm{Fr}₅: 0.150520663335984 + 0.e-20⋅ⅈ, \\zeta₅: 0.996540917875029 + 1.322\n",
              "3854671516e-24⋅ⅈ}"
            ]
          },
          "metadata": {
            "tags": []
          },
          "execution_count": 191
        }
      ]
    },
    {
      "cell_type": "code",
      "metadata": {
        "colab": {
          "base_uri": "https://localhost:8080/",
          "height": 38
        },
        "id": "diDkQy-rUxzS",
        "outputId": "630dd002-1ce6-461d-e686-6fb5ffa32ce2"
      },
      "source": [
        "sol2[2]"
      ],
      "execution_count": 192,
      "outputs": [
        {
          "output_type": "execute_result",
          "data": {
            "image/png": "[encoded data removed]",
            "text/latex": "$\\displaystyle \\left\\{ \\mathrm{Fr}_5 : 3.45454871917278 - 4.0 \\cdot 10^{-22} i, \\  \\zeta_{5} : 0.043421011597694 - 1.72021417280771 \\cdot 10^{-23} i\\right\\}$",
            "text/plain": [
              "{\\mathrm{Fr}₅: 3.45454871917278 - 0.e-22⋅ⅈ, \\zeta₅: 0.043421011597694 - 1.7202\n",
              "1417280771e-23⋅ⅈ}"
            ]
          },
          "metadata": {
            "tags": []
          },
          "execution_count": 192
        }
      ]
    },
    {
      "cell_type": "code",
      "metadata": {
        "colab": {
          "base_uri": "https://localhost:8080/",
          "height": 38
        },
        "id": "o24Cv51WGiiv",
        "outputId": "aed1c722-f0b0-40a2-932a-98b5a247656e"
      },
      "source": [
        "Δζ15 = symbols( r\"\\Delta\\zeta_{15}\" )\n",
        "eqC1 = Eq( Δζ15, ζ1 - sol2[1][ζ5] ).subs( data )\n",
        "eqC1"
      ],
      "execution_count": 193,
      "outputs": [
        {
          "output_type": "execute_result",
          "data": {
            "image/png": "[encoded data removed]",
            "text/latex": "$\\displaystyle \\Delta\\zeta_{15} = 0.00345908212497115 - 1.3223854671516 \\cdot 10^{-24} i$",
            "text/plain": [
              "\\Delta\\zeta_{15} = 0.00345908212497115 - 1.3223854671516e-24⋅ⅈ"
            ]
          },
          "metadata": {
            "tags": []
          },
          "execution_count": 193
        }
      ]
    },
    {
      "cell_type": "code",
      "metadata": {
        "colab": {
          "base_uri": "https://localhost:8080/",
          "height": 38
        },
        "id": "W7KgqRZfV_5_",
        "outputId": "0c8b0bd4-031d-47d6-8d4f-031b6f0eb3d5"
      },
      "source": [
        "Δζ45 = symbols( r\"\\Delta\\zeta_{45}\" )\n",
        "eqD1 = Eq( Δζ45, round( sol1[ζ4] - re( sol2[1][ζ5] ), 4 ) )\n",
        "eqD1"
      ],
      "execution_count": 195,
      "outputs": [
        {
          "output_type": "execute_result",
          "data": {
            "image/png": "[encoded data removed]",
            "text/latex": "$\\displaystyle \\Delta\\zeta_{45} = -0.0015$",
            "text/plain": [
              "\\Delta\\zeta_{45} = -0.0015"
            ]
          },
          "metadata": {
            "tags": []
          },
          "execution_count": 195
        }
      ]
    },
    {
      "cell_type": "code",
      "metadata": {
        "id": "8MPVISG8nlyU",
        "colab": {
          "base_uri": "https://localhost:8080/",
          "height": 38
        },
        "outputId": "49f43dec-e1aa-415e-bb5d-50be9e1a9c9d"
      },
      "source": [
        "M5 = symbols( \"M_5\" )\n",
        "M5_value = simplify( Eq( M5, Fr5**2 * ζ5 ).subs( sol2[1] ) )\n",
        "M5_value "
      ],
      "execution_count": 196,
      "outputs": [
        {
          "output_type": "execute_result",
          "data": {
            "image/png": "[encoded data removed]",
            "text/latex": "$\\displaystyle M_{5} = 0.0225780995003976 + 4.06578810740743 \\cdot 10^{-21} i$",
            "text/plain": [
              "M₅ = 0.0225780995003976 + 4.06578810740743e-21⋅ⅈ"
            ]
          },
          "metadata": {
            "tags": []
          },
          "execution_count": 196
        }
      ]
    },
    {
      "cell_type": "code",
      "metadata": {
        "id": "7vCod39U4Utz"
      },
      "source": [
        ""
      ],
      "execution_count": 65,
      "outputs": []
    }
  ]
}