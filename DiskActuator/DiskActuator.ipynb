{
  "nbformat": 4,
  "nbformat_minor": 0,
  "metadata": {
    "colab": {
      "name": "DiskActuator.ipynb",
      "provenance": [],
      "include_colab_link": true
    },
    "kernelspec": {
      "name": "python3",
      "display_name": "Python 3"
    },
    "language_info": {
      "name": "python"
    }
  },
  "cells": [
    {
      "cell_type": "markdown",
      "metadata": {
        "id": "view-in-github",
        "colab_type": "text"
      },
      "source": [
        "<a href=\"https://colab.research.google.com/github/joaochenriques/MCTE_2020_2021/blob/main/DiskActuator/DiskActuator.ipynb\" target=\"_parent\"><img src=\"https://colab.research.google.com/assets/colab-badge.svg\" alt=\"Open In Colab\"/></a>"
      ]
    },
    {
      "cell_type": "code",
      "metadata": {
        "id": "BmAkVzVmeipL"
      },
      "source": [
        "from sympy import *"
      ],
      "execution_count": 1,
      "outputs": []
    },
    {
      "cell_type": "code",
      "metadata": {
        "id": "XKLQk-_egk-f"
      },
      "source": [
        "h1,h2t,h3t,h4=symbols(\"h_1,h_{2t},h_{3t},h_4\")\n",
        "Fr1,Fr2t,Fr3t,Fr4=symbols(\"\\mathrm{Fr}_{11},\\mathrm{Fr}_{2t1},\\mathrm{Fr}_{3t1},\\mathrm{Fr}_4\")\n",
        "η1,η2t,η3t,η4=symbols(\"\\eta_1,\\eta_{2t},\\eta_{3t},\\eta_4\")\n",
        "u1,u2t,u3t=symbols(\"u_1,u_{2t},u_{3t}\")\n",
        "u4b,u4t=symbols(\"u_{4b},u_{4t}\")\n",
        "Fr2t1,Fr3t1=symbols(\"\\mathrm{Fr}_{2t1},\\mathrm{Fr}_{3t1}\")\n",
        "g = symbols(\"g\")\n",
        "Fr4b1,Fr4t1=symbols(\"\\mathrm{Fr}_{4b1},\\mathrm{Fr}_{4t1}\")"
      ],
      "execution_count": 18,
      "outputs": []
    },
    {
      "cell_type": "code",
      "metadata": {
        "colab": {
          "base_uri": "https://localhost:8080/",
          "height": 51
        },
        "id": "nw_aIxVBhz4C",
        "outputId": "f7910fae-38b1-46ee-8603-4b9747c33dd1"
      },
      "source": [
        "eq11 = Eq( h1 + u1**2/(2*g), h4 + u4b**2/(2*g) )\n",
        "eq12 = expand(Eq( eq11.lhs / h1, eq11.rhs / h1  ) ).subs( h4/h1, η4).subs( u4b**2/(g*h1), Fr4b1).subs( u1**2/(g*h1), Fr1)\n",
        "eq12"
      ],
      "execution_count": 19,
      "outputs": [
        {
          "output_type": "execute_result",
          "data": {
            "text/latex": "$\\displaystyle \\frac{\\mathrm{Fr}_{11}}{2} + 1 = \\eta_{4} + \\frac{\\mathrm{Fr}_{4b1}}{2}$",
            "text/plain": [
              "Eq(\\mathrm{Fr}_{11}/2 + 1, \\eta_4 + \\mathrm{Fr}_{4b1}/2)"
            ]
          },
          "metadata": {
            "tags": []
          },
          "execution_count": 19
        }
      ]
    },
    {
      "cell_type": "code",
      "metadata": {
        "id": "BLZhgtwklESG",
        "outputId": "24f8bf26-c959-4e48-c06b-4421cf072a5f",
        "colab": {
          "base_uri": "https://localhost:8080/",
          "height": 51
        }
      },
      "source": [
        "eq21 = Eq( h1 + u1**2/(2*g), h2t + u2t**2/(2*g) )\n",
        "eq22 = expand(Eq( eq21.lhs / h1, eq21.rhs / h1  ) ).subs( h2t/h1, η2t).subs( u2t**2/(g*h1), Fr2t1).subs( u1**2/(g*h1), Fr1)\n",
        "eq22"
      ],
      "execution_count": 20,
      "outputs": [
        {
          "output_type": "execute_result",
          "data": {
            "text/latex": "$\\displaystyle \\frac{\\mathrm{Fr}_{11}}{2} + 1 = \\eta_{2t} + \\frac{\\mathrm{Fr}_{2t1}}{2}$",
            "text/plain": [
              "Eq(\\mathrm{Fr}_{11}/2 + 1, \\eta_{2t} + \\mathrm{Fr}_{2t1}/2)"
            ]
          },
          "metadata": {
            "tags": []
          },
          "execution_count": 20
        }
      ]
    },
    {
      "cell_type": "code",
      "metadata": {
        "id": "KFAswnKO6bno"
      },
      "source": [
        "eq31 = Eq( h1 + u1**2/(2*g), h2t + u2t**2/(2*g) )\n",
        "eq32 = expand(Eq( eq21.lhs / h1, eq21.rhs / h1  ) ).subs( h2t/h1, η2t).subs( u2t**2/(g*h1), Fr2t1).subs( u1**2/(g*h1), Fr1)\n",
        "eq32"
      ],
      "execution_count": null,
      "outputs": []
    }
  ]
}