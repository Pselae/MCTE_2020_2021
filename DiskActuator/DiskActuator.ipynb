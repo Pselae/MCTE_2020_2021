{
  "nbformat": 4,
  "nbformat_minor": 0,
  "metadata": {
    "colab": {
      "name": "DiskActuator.ipynb",
      "provenance": [],
      "include_colab_link": true
    },
    "kernelspec": {
      "name": "python3",
      "display_name": "Python 3"
    },
    "language_info": {
      "name": "python"
    }
  },
  "cells": [
    {
      "cell_type": "markdown",
      "metadata": {
        "id": "view-in-github",
        "colab_type": "text"
      },
      "source": [
        "<a href=\"https://colab.research.google.com/github/joaochenriques/MCTE_2020_2021/blob/main/DiskActuator/DiskActuator.ipynb\" target=\"_parent\"><img src=\"https://colab.research.google.com/assets/colab-badge.svg\" alt=\"Open In Colab\"/></a>"
      ]
    },
    {
      "cell_type": "code",
      "metadata": {
        "id": "BmAkVzVmeipL"
      },
      "source": [
        "from sympy import *"
      ],
      "execution_count": 1,
      "outputs": []
    },
    {
      "cell_type": "code",
      "metadata": {
        "id": "XKLQk-_egk-f"
      },
      "source": [
        "h1,h2t,h3t,h4=symbols(r\"h_1,h_{2t},h_{3t},h_4\")\n",
        "Fr1,Fr2t,Fr3t,Fr4=symbols(r\"\\mathrm{Fr}_{11},\\mathrm{Fr}_{2t1},\\mathrm{Fr}_{3t1},\\mathrm{Fr}_4\")\n",
        "η1,η2t,η3t,η4=symbols(r\"\\eta_1,\\eta_{2t},\\eta_{3t},\\eta_4\")\n",
        "u1,u2t,u3t=symbols(r\"u_1,u_{2t},u_{3t}\")\n",
        "u4b,u4t=symbols(r\"u_{4b},u_{4t}\")\n",
        "Fr2t1,Fr3t1=symbols(r\"\\mathrm{Fr}_{2t1},\\mathrm{Fr}_{3t1}\")\n",
        "T, C_T, C_P, g, ρ, At = symbols(r\"T,C_T,C_P,g,\\rho,A_t\")\n",
        "Fr4b1,Fr4t1=symbols(r\"\\mathrm{Fr}_{4b1},\\mathrm{Fr}_{4t1}\")"
      ],
      "execution_count": 67,
      "outputs": []
    },
    {
      "cell_type": "code",
      "metadata": {
        "colab": {
          "base_uri": "https://localhost:8080/",
          "height": 51
        },
        "id": "nw_aIxVBhz4C",
        "outputId": "81bd1b3e-46ff-4fac-cdc8-9cd60b13a3d2"
      },
      "source": [
        "eqA1 = Eq( h1 + u1**2/(2*g), h4 + u4b**2/(2*g) )\n",
        "eqA2 = expand(Eq( eqA1.lhs / h1, eqA1.rhs / h1  ) ).subs( h4/h1, η4).subs( u4b**2/(g*h1), Fr4b1).subs( u1**2/(g*h1), Fr1)\n",
        "eqA2"
      ],
      "execution_count": 68,
      "outputs": [
        {
          "output_type": "execute_result",
          "data": {
            "text/latex": "$\\displaystyle \\frac{\\mathrm{Fr}_{11}}{2} + 1 = \\eta_{4} + \\frac{\\mathrm{Fr}_{4b1}}{2}$",
            "text/plain": [
              "Eq(\\mathrm{Fr}_{11}/2 + 1, \\eta_4 + \\mathrm{Fr}_{4b1}/2)"
            ]
          },
          "metadata": {
            "tags": []
          },
          "execution_count": 68
        }
      ]
    },
    {
      "cell_type": "code",
      "metadata": {
        "id": "BLZhgtwklESG",
        "colab": {
          "base_uri": "https://localhost:8080/",
          "height": 51
        },
        "outputId": "aff16d4c-ceee-461b-b7ae-ff3d41ae0f5e"
      },
      "source": [
        "eqB1 = Eq( h1 + u1**2/(2*g), h2t + u2t**2/(2*g) )\n",
        "eqB2 = expand(Eq( eqB1.lhs / h1, eqB1.rhs / h1  ) ).subs( h2t/h1, η2t).subs( u2t**2/(g*h1), Fr2t1).subs( u1**2/(g*h1), Fr1)\n",
        "eqB2"
      ],
      "execution_count": 23,
      "outputs": [
        {
          "output_type": "execute_result",
          "data": {
            "text/latex": "$\\displaystyle \\frac{\\mathrm{Fr}_{11}}{2} + 1 = \\eta_{2t} + \\frac{\\mathrm{Fr}_{2t1}}{2}$",
            "text/plain": [
              "Eq(\\mathrm{Fr}_{11}/2 + 1, \\eta_{2t} + \\mathrm{Fr}_{2t1}/2)"
            ]
          },
          "metadata": {
            "tags": []
          },
          "execution_count": 23
        }
      ]
    },
    {
      "cell_type": "code",
      "metadata": {
        "colab": {
          "base_uri": "https://localhost:8080/",
          "height": 51
        },
        "id": "KFAswnKO6bno",
        "outputId": "368d2065-90ec-454b-e21d-4939ac042ebf"
      },
      "source": [
        "eqC1 = Eq( h3t + u3t**2/(2*g), h4+ u4t**2/(2*g) )\n",
        "eqC2 = expand(Eq( eqC1.lhs / h1, eqC1.rhs / h1  ) ).subs( h3t/h1, η3t).subs( u3t**2/(g*h1), Fr3t1).subs( h4/h1, η4).subs( u4t**2/(g*h1), Fr4t1)\n",
        "eqC2"
      ],
      "execution_count": 24,
      "outputs": [
        {
          "output_type": "execute_result",
          "data": {
            "text/latex": "$\\displaystyle \\eta_{3t} + \\frac{\\mathrm{Fr}_{3t1}}{2} = \\eta_{4} + \\frac{\\mathrm{Fr}_{4t1}}{2}$",
            "text/plain": [
              "Eq(\\eta_{3t} + \\mathrm{Fr}_{3t1}/2, \\eta_4 + \\mathrm{Fr}_{4t1}/2)"
            ]
          },
          "metadata": {
            "tags": []
          },
          "execution_count": 24
        }
      ]
    },
    {
      "cell_type": "code",
      "metadata": {
        "id": "B0nuzHU3Llei",
        "outputId": "1d0fed22-1848-4f69-861e-c5578d16ff9f",
        "colab": {
          "base_uri": "https://localhost:8080/",
          "height": 55
        }
      },
      "source": [
        "eqD1 = Eq( T/(ρ*g*At), (h2t-h3t) )\n",
        "eqD2 = expand( Eq( eqD1.lhs * 2 / h1, eqD1.rhs * 2 / h1  ) ).subs( 1/(g*h1), Fr1**2/u1**2).subs( h2t/h1, η2t).subs( h3t/h1, η3t).subs( 2*T/(ρ*u1**2*At), C_T )\n",
        "eqD3 = expand( Eq( eqD2.lhs / 2, eqD2.rhs / 2 ) )\n",
        "eqD3"
      ],
      "execution_count": 81,
      "outputs": [
        {
          "output_type": "execute_result",
          "data": {
            "text/latex": "$\\displaystyle \\frac{C_{T} \\mathrm{Fr}_{11}^{2}}{2} = \\eta_{2t} - \\eta_{3t}$",
            "text/plain": [
              "Eq(C_T*\\mathrm{Fr}_{11}**2/2, \\eta_{2t} - \\eta_{3t})"
            ]
          },
          "metadata": {
            "tags": []
          },
          "execution_count": 81
        }
      ]
    },
    {
      "cell_type": "code",
      "metadata": {
        "id": "hPtYNYJUNNA2",
        "outputId": "7a598ea1-a0ce-4314-fce1-b87aa3bc61e6",
        "colab": {
          "base_uri": "https://localhost:8080/",
          "height": 54
        }
      },
      "source": [
        "eqE1 = Eq( C_P, C_T * u2t / u1 ).subs( u2t, Fr2t*sqrt(g *h1) ).subs( u1, Fr1*sqrt(g *h1) )\n",
        "eqE1"
      ],
      "execution_count": 72,
      "outputs": [
        {
          "output_type": "execute_result",
          "data": {
            "text/latex": "$\\displaystyle C_{P} = \\frac{C_{T} \\mathrm{Fr}_{2t1}}{\\mathrm{Fr}_{11}}$",
            "text/plain": [
              "Eq(C_P, C_T*\\mathrm{Fr}_{2t1}/\\mathrm{Fr}_{11})"
            ]
          },
          "metadata": {
            "tags": []
          },
          "execution_count": 72
        }
      ]
    },
    {
      "cell_type": "markdown",
      "metadata": {
        "id": "CqGZfXE-aZK0"
      },
      "source": [
        "Since $u_{2t}=u_{3t}$ the\n",
        "\n",
        "$$\\mathrm{Fr}_{2t1}=\\mathrm{Fr}_{3t1}$$"
      ]
    },
    {
      "cell_type": "code",
      "metadata": {
        "id": "fXR-jNqDNtfI",
        "outputId": "a026dfbb-8ccb-49e8-e780-dada51307370",
        "colab": {
          "base_uri": "https://localhost:8080/",
          "height": 51
        }
      },
      "source": [
        "eqF1 = Eq( eqA2.rhs-eqC2.rhs, eqB2.rhs-eqC2.lhs ).subs( Fr2t1, Fr3t1 )\n",
        "eqF1 "
      ],
      "execution_count": 82,
      "outputs": [
        {
          "output_type": "execute_result",
          "data": {
            "text/latex": "$\\displaystyle \\frac{\\mathrm{Fr}_{4b1}}{2} - \\frac{\\mathrm{Fr}_{4t1}}{2} = \\eta_{2t} - \\eta_{3t}$",
            "text/plain": [
              "Eq(\\mathrm{Fr}_{4b1}/2 - \\mathrm{Fr}_{4t1}/2, \\eta_{2t} - \\eta_{3t})"
            ]
          },
          "metadata": {
            "tags": []
          },
          "execution_count": 82
        }
      ]
    },
    {
      "cell_type": "code",
      "metadata": {
        "id": "7mzwlbgNbP1R",
        "outputId": "bab8d5e4-ffc5-4020-d488-2639c4c059c8",
        "colab": {
          "base_uri": "https://localhost:8080/",
          "height": 38
        }
      },
      "source": [
        "eqG1 = Eq( eqD3.lhs * 2, eqF1.lhs * 2 )\n",
        "eqG1"
      ],
      "execution_count": 86,
      "outputs": [
        {
          "output_type": "execute_result",
          "data": {
            "text/latex": "$\\displaystyle C_{T} \\mathrm{Fr}_{11}^{2} = \\mathrm{Fr}_{4b1} - \\mathrm{Fr}_{4t1}$",
            "text/plain": [
              "Eq(C_T*\\mathrm{Fr}_{11}**2, \\mathrm{Fr}_{4b1} - \\mathrm{Fr}_{4t1})"
            ]
          },
          "metadata": {
            "tags": []
          },
          "execution_count": 86
        }
      ]
    },
    {
      "cell_type": "code",
      "metadata": {
        "id": "Rv82tY9wcodd"
      },
      "source": [
        ""
      ],
      "execution_count": null,
      "outputs": []
    }
  ]
}