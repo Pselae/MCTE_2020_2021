{
  "nbformat": 4,
  "nbformat_minor": 0,
  "metadata": {
    "colab": {
      "name": "DiskActuator.ipynb",
      "provenance": [],
      "include_colab_link": true
    },
    "kernelspec": {
      "name": "python3",
      "display_name": "Python 3"
    },
    "language_info": {
      "name": "python"
    }
  },
  "cells": [
    {
      "cell_type": "markdown",
      "metadata": {
        "id": "view-in-github",
        "colab_type": "text"
      },
      "source": [
        "<a href=\"https://colab.research.google.com/github/joaochenriques/MCTE_2020_2021/blob/main/DiskActuator/DiskActuator.ipynb\" target=\"_parent\"><img src=\"https://colab.research.google.com/assets/colab-badge.svg\" alt=\"Open In Colab\"/></a>"
      ]
    },
    {
      "cell_type": "code",
      "metadata": {
        "id": "BmAkVzVmeipL"
      },
      "source": [
        "from sympy import *"
      ],
      "execution_count": 1,
      "outputs": []
    },
    {
      "cell_type": "code",
      "metadata": {
        "id": "XKLQk-_egk-f"
      },
      "source": [
        "h1, h2t, h3t, h4, h4t, h4b = symbols( r\"h_1, h_\\mathrm{2t}, h_\\mathrm{3t}, h_4, h_\\mathrm{4t}, h_\\mathrm{4b}\" )"
      ],
      "execution_count": 2,
      "outputs": []
    },
    {
      "cell_type": "code",
      "metadata": {
        "id": "DwHmqFqWhihr"
      },
      "source": [
        "u1, u2t, u3t, u4b, u4t = symbols( r\"u_1, u_\\mathrm{2t}, u_\\mathrm{3t}, u_\\mathrm{4b}, u_\\mathrm{4t}\" )"
      ],
      "execution_count": 3,
      "outputs": []
    },
    {
      "cell_type": "markdown",
      "metadata": {
        "id": "tZUEU50ahL-r"
      },
      "source": [
        "The dimensionless depth $\\zeta_i$ is defined has\n",
        "\n",
        "$$\\zeta_i=\\dfrac{h_i}{h_1}.$$"
      ]
    },
    {
      "cell_type": "code",
      "metadata": {
        "id": "q-PTIecNnqxa"
      },
      "source": [
        "ζ1, ζ2t, ζ3t, ζ4, ζ4t, ζ4b = symbols( r\"\\zeta_1, \\zeta_\\mathrm{2t}, \\zeta_\\mathrm{3t}, \\zeta_4, \\zeta_\\mathrm{4t}, \\zeta_\\mathrm{4b}\")"
      ],
      "execution_count": 4,
      "outputs": []
    },
    {
      "cell_type": "markdown",
      "metadata": {
        "id": "4QSX6BHrgeAh"
      },
      "source": [
        "Froude numbers are based on the depth of the undisturbed flow $h_1$, i.e.,\n",
        "\n",
        "$$\\mathrm{Fr}_{u_i}=\\dfrac{u_i}{\\sqrt{gh_1}}.$$"
      ]
    },
    {
      "cell_type": "code",
      "metadata": {
        "id": "5uO0Dv8cmlUN"
      },
      "source": [
        "Fr1 = symbols( r\"\\mathrm{Fr}_{1}\")\n",
        "Fr2t, Fr3t = symbols( r\"\\mathrm{Fr}_\\mathrm{2t}, \\mathrm{Fr}_\\mathrm{3t}\")\n",
        "Fr4b, Fr4t = symbols( r\"\\mathrm{Fr}_\\mathrm{4b}, \\mathrm{Fr}_\\mathrm{4t}\")"
      ],
      "execution_count": 5,
      "outputs": []
    },
    {
      "cell_type": "code",
      "metadata": {
        "id": "9Xfv1EsAvVLg"
      },
      "source": [
        "ρ, g, T, At, C_T, C_P = symbols( r\"\\rho, g, T, A_\\mathrm{t}, C_\\mathrm{T}, C_\\mathrm{P}\" )"
      ],
      "execution_count": 6,
      "outputs": []
    },
    {
      "cell_type": "markdown",
      "metadata": {
        "id": "VnMCLPv_o-OP"
      },
      "source": [
        "Generic definitions used in substitutions"
      ]
    },
    {
      "cell_type": "code",
      "metadata": {
        "id": "frtwFIbzlfIz"
      },
      "source": [
        "zetas = { h2t/h1: ζ2t, h3t/h1: ζ3t, h4/h1: ζ4, h4t/h1: ζ4t, h4b/h1: ζ4b }\n",
        "\n",
        "Froudes = { ( u1  / sqrt(g*h1) ): Fr1,\n",
        "            ( u4t / sqrt(g*h1) ): Fr4t, \n",
        "            ( u4b / sqrt(g*h1) ): Fr4b }\n",
        "\n",
        "Sqr_Froudes = { ( u1 **2 / (g*h1) ): Fr1 **2, \n",
        "                ( u2t**2 / (g*h1) ): Fr2t**2,\n",
        "                ( u3t**2 / (g*h1) ): Fr3t**2,\n",
        "                ( u4b**2 / (g*h1) ): Fr4b**2,\n",
        "                ( u4t**2 / (g*h1) ): Fr4t**2 }"
      ],
      "execution_count": 7,
      "outputs": []
    },
    {
      "cell_type": "markdown",
      "metadata": {
        "id": "PbcO62IIoPFs"
      },
      "source": [
        "# Bernoulli equations "
      ]
    },
    {
      "cell_type": "code",
      "metadata": {
        "colab": {
          "base_uri": "https://localhost:8080/",
          "height": 55
        },
        "id": "nw_aIxVBhz4C",
        "outputId": "694e15d9-ab68-4f4f-8ac0-f76993daf51c"
      },
      "source": [
        "eqA1 = Eq( h1 + u1**2/(2*g), h4 + u4b**2/(2*g) )\n",
        "eqA2 = expand(Eq( eqA1.lhs / h1, eqA1.rhs / h1  ) )\\\n",
        "          .subs( zetas )\\\n",
        "          .subs( Sqr_Froudes )\n",
        "eqA2"
      ],
      "execution_count": 8,
      "outputs": [
        {
          "output_type": "execute_result",
          "data": {
            "text/latex": "$\\displaystyle \\frac{\\mathrm{Fr}_{1}^{2}}{2} + 1 = \\frac{\\mathrm{Fr}_\\mathrm{4b}^{2}}{2} + \\zeta_{4}$",
            "text/plain": [
              "Eq(\\mathrm{Fr}_{1}**2/2 + 1, \\mathrm{Fr}_\\mathrm{4b}**2/2 + \\zeta_4)"
            ]
          },
          "metadata": {
            "tags": []
          },
          "execution_count": 8
        }
      ]
    },
    {
      "cell_type": "code",
      "metadata": {
        "id": "BLZhgtwklESG",
        "colab": {
          "base_uri": "https://localhost:8080/",
          "height": 55
        },
        "outputId": "62459032-804e-455c-d6da-58074b751321"
      },
      "source": [
        "eqB1 = Eq( h1 + u1**2/(2*g), h2t + u2t**2/(2*g) )\n",
        "eqB2 = expand(Eq( eqB1.lhs / h1, eqB1.rhs / h1  ) )\\\n",
        "          .subs( zetas )\\\n",
        "          .subs( Sqr_Froudes )\n",
        "eqB2"
      ],
      "execution_count": 9,
      "outputs": [
        {
          "output_type": "execute_result",
          "data": {
            "text/latex": "$\\displaystyle \\frac{\\mathrm{Fr}_{1}^{2}}{2} + 1 = \\frac{\\mathrm{Fr}_\\mathrm{2t}^{2}}{2} + \\zeta_\\mathrm{2t}$",
            "text/plain": [
              "Eq(\\mathrm{Fr}_{1}**2/2 + 1, \\mathrm{Fr}_\\mathrm{2t}**2/2 + \\zeta_\\mathrm{2t})"
            ]
          },
          "metadata": {
            "tags": []
          },
          "execution_count": 9
        }
      ]
    },
    {
      "cell_type": "code",
      "metadata": {
        "colab": {
          "base_uri": "https://localhost:8080/",
          "height": 55
        },
        "id": "KFAswnKO6bno",
        "outputId": "3d2049c6-06c5-4c26-f1c8-6e5780abc013"
      },
      "source": [
        "eqC1 = Eq( h3t + u3t**2/(2*g), h4 + u4t**2/(2*g) )\n",
        "eqC2 = expand(Eq( eqC1.lhs / h1, eqC1.rhs / h1  ) )\\\n",
        "          .subs( zetas )\\\n",
        "          .subs( Sqr_Froudes )\n",
        "eqC2"
      ],
      "execution_count": 10,
      "outputs": [
        {
          "output_type": "execute_result",
          "data": {
            "text/latex": "$\\displaystyle \\frac{\\mathrm{Fr}_\\mathrm{3t}^{2}}{2} + \\zeta_\\mathrm{3t} = \\frac{\\mathrm{Fr}_\\mathrm{4t}^{2}}{2} + \\zeta_{4}$",
            "text/plain": [
              "Eq(\\mathrm{Fr}_\\mathrm{3t}**2/2 + \\zeta_\\mathrm{3t}, \\mathrm{Fr}_\\mathrm{4t}**2/2 + \\zeta_4)"
            ]
          },
          "metadata": {
            "tags": []
          },
          "execution_count": 10
        }
      ]
    },
    {
      "cell_type": "markdown",
      "metadata": {
        "id": "xQEdKu1Owra8"
      },
      "source": [
        "# Force on the turbine"
      ]
    },
    {
      "cell_type": "code",
      "metadata": {
        "id": "dJL45SPMjGc4",
        "colab": {
          "base_uri": "https://localhost:8080/",
          "height": 55
        },
        "outputId": "d0eed03d-4bcd-4355-8393-0326b848c8b4"
      },
      "source": [
        "eqD1 = Eq( T / (ρ*g*At), (h2t-h3t) )\n",
        "eqD2 = expand( Eq( eqD1.lhs * 2 / ( h1*u1**2 ), eqD1.rhs * 2 / ( h1*u1**2 )  ) )\n",
        "eqD3 = eqD2.subs( 2*T / ( ρ*u1**2*At ), C_T )\\\n",
        "          .subs( zetas )\n",
        "eqD4 = Eq( eqD3.lhs * u1**2/2, simplify( eqD3.rhs * u1**2/2 ) )\\\n",
        "          .subs( Sqr_Froudes )\n",
        "eqD4"
      ],
      "execution_count": 11,
      "outputs": [
        {
          "output_type": "execute_result",
          "data": {
            "text/latex": "$\\displaystyle \\frac{C_\\mathrm{T} \\mathrm{Fr}_{1}^{2}}{2} = \\zeta_\\mathrm{2t} - \\zeta_\\mathrm{3t}$",
            "text/plain": [
              "Eq(C_\\mathrm{T}*\\mathrm{Fr}_{1}**2/2, \\zeta_\\mathrm{2t} - \\zeta_\\mathrm{3t})"
            ]
          },
          "metadata": {
            "tags": []
          },
          "execution_count": 11
        }
      ]
    },
    {
      "cell_type": "code",
      "metadata": {
        "colab": {
          "base_uri": "https://localhost:8080/",
          "height": 54
        },
        "id": "hPtYNYJUNNA2",
        "outputId": "65a3c76b-ef93-4c52-a5ff-6b51391694e5"
      },
      "source": [
        "eqE1 = Eq( C_P, C_T * u2t / u1 ).subs( u2t/u1, Fr2t/Fr1 )\n",
        "eqE1"
      ],
      "execution_count": 12,
      "outputs": [
        {
          "output_type": "execute_result",
          "data": {
            "text/latex": "$\\displaystyle C_\\mathrm{P} = \\frac{C_\\mathrm{T} \\mathrm{Fr}_\\mathrm{2t}}{\\mathrm{Fr}_{1}}$",
            "text/plain": [
              "Eq(C_\\mathrm{P}, C_\\mathrm{T}*\\mathrm{Fr}_\\mathrm{2t}/\\mathrm{Fr}_{1})"
            ]
          },
          "metadata": {
            "tags": []
          },
          "execution_count": 12
        }
      ]
    },
    {
      "cell_type": "markdown",
      "metadata": {
        "id": "CqGZfXE-aZK0"
      },
      "source": [
        "Since $u_\\mathrm{2t}=u_\\mathrm{3t}$ the\n",
        "\n",
        "$$\\mathrm{Fr}_\\mathrm{2t}=\\mathrm{Fr}_\\mathrm{3t}$$"
      ]
    },
    {
      "cell_type": "code",
      "metadata": {
        "colab": {
          "base_uri": "https://localhost:8080/",
          "height": 55
        },
        "id": "fXR-jNqDNtfI",
        "outputId": "e2736223-7b55-4a10-b25e-dfe2257ac817"
      },
      "source": [
        "eqF1 = Eq( eqA2.rhs - eqC2.rhs, eqB2.rhs - eqC2.lhs ).subs( Fr2t, Fr3t )\n",
        "eqF1 "
      ],
      "execution_count": 13,
      "outputs": [
        {
          "output_type": "execute_result",
          "data": {
            "text/latex": "$\\displaystyle \\frac{\\mathrm{Fr}_\\mathrm{4b}^{2}}{2} - \\frac{\\mathrm{Fr}_\\mathrm{4t}^{2}}{2} = \\zeta_\\mathrm{2t} - \\zeta_\\mathrm{3t}$",
            "text/plain": [
              "Eq(\\mathrm{Fr}_\\mathrm{4b}**2/2 - \\mathrm{Fr}_\\mathrm{4t}**2/2, \\zeta_\\mathrm{2t} - \\zeta_\\mathrm{3t})"
            ]
          },
          "metadata": {
            "tags": []
          },
          "execution_count": 13
        }
      ]
    },
    {
      "cell_type": "code",
      "metadata": {
        "colab": {
          "base_uri": "https://localhost:8080/",
          "height": 38
        },
        "id": "7mzwlbgNbP1R",
        "outputId": "23e3da79-b8e6-40c1-f1b8-d7477a5b6f1f"
      },
      "source": [
        "eqG1 = Eq( eqD4.lhs * 2, eqF1.lhs * 2 )\n",
        "eqG1"
      ],
      "execution_count": 14,
      "outputs": [
        {
          "output_type": "execute_result",
          "data": {
            "text/latex": "$\\displaystyle C_\\mathrm{T} \\mathrm{Fr}_{1}^{2} = \\mathrm{Fr}_\\mathrm{4b}^{2} - \\mathrm{Fr}_\\mathrm{4t}^{2}$",
            "text/plain": [
              "Eq(C_\\mathrm{T}*\\mathrm{Fr}_{1}**2, \\mathrm{Fr}_\\mathrm{4b}**2 - \\mathrm{Fr}_\\mathrm{4t}**2)"
            ]
          },
          "metadata": {
            "tags": []
          },
          "execution_count": 14
        }
      ]
    },
    {
      "cell_type": "markdown",
      "metadata": {
        "id": "ED6VuDFkwibl"
      },
      "source": [
        "# Mass balance"
      ]
    },
    {
      "cell_type": "code",
      "metadata": {
        "colab": {
          "base_uri": "https://localhost:8080/",
          "height": 38
        },
        "id": "YeLktTPENkkH",
        "outputId": "b11002af-b5aa-4e84-cbbf-9b2cac5b5d13"
      },
      "source": [
        "eqH1 = Eq( u4b * h4b + u4t * h4t, u1*h1 )\n",
        "eqH1"
      ],
      "execution_count": 15,
      "outputs": [
        {
          "output_type": "execute_result",
          "data": {
            "text/latex": "$\\displaystyle h_\\mathrm{4b} u_\\mathrm{4b} + h_\\mathrm{4t} u_\\mathrm{4t} = h_{1} u_{1}$",
            "text/plain": [
              "Eq(h_\\mathrm{4b}*u_\\mathrm{4b} + h_\\mathrm{4t}*u_\\mathrm{4t}, h_1*u_1)"
            ]
          },
          "metadata": {
            "tags": []
          },
          "execution_count": 15
        }
      ]
    },
    {
      "cell_type": "code",
      "metadata": {
        "colab": {
          "base_uri": "https://localhost:8080/",
          "height": 38
        },
        "id": "Rv82tY9wcodd",
        "outputId": "5abba381-3f00-4d76-fa13-98873f190dfc"
      },
      "source": [
        "eqH2 = expand( Eq( eqH1.lhs / ( h1*sqrt(g*h1) ), eqH1.rhs / ( h1*sqrt(g*h1) ) ) )\\\n",
        "          .subs( zetas )\\\n",
        "          .subs( Froudes )\n",
        "eqH2"
      ],
      "execution_count": 16,
      "outputs": [
        {
          "output_type": "execute_result",
          "data": {
            "text/latex": "$\\displaystyle \\mathrm{Fr}_\\mathrm{4b} \\zeta_\\mathrm{4b} + \\mathrm{Fr}_\\mathrm{4t} \\zeta_\\mathrm{4t} = \\mathrm{Fr}_{1}$",
            "text/plain": [
              "Eq(\\mathrm{Fr}_\\mathrm{4b}*\\zeta_\\mathrm{4b} + \\mathrm{Fr}_\\mathrm{4t}*\\zeta_\\mathrm{4t}, \\mathrm{Fr}_{1})"
            ]
          },
          "metadata": {
            "tags": []
          },
          "execution_count": 16
        }
      ]
    },
    {
      "cell_type": "markdown",
      "metadata": {
        "id": "dh2m4JXLoqxx"
      },
      "source": [
        "# Momentum balance"
      ]
    },
    {
      "cell_type": "code",
      "metadata": {
        "id": "Lb1Giyebo6Af"
      },
      "source": [
        "b, B = symbols( \"b, B\" )\n",
        "M4t, M4b, M1, Fp4, Fp1 = symbols( \"M_\\mathrm{4t}, M_\\mathrm{4b}, M_{1}, F_\\mathrm{p4}, F_\\mathrm{p1}\")"
      ],
      "execution_count": 17,
      "outputs": []
    },
    {
      "cell_type": "code",
      "metadata": {
        "colab": {
          "base_uri": "https://localhost:8080/",
          "height": 38
        },
        "id": "RKX8dqxHNvp3",
        "outputId": "294c9b64-0431-4066-a5bf-0ea8fa9cbaa4"
      },
      "source": [
        "eqI1 = Eq( M4b + M4t - M1, -(Fp4-Fp1) - T )\n",
        "eqI1"
      ],
      "execution_count": 18,
      "outputs": [
        {
          "output_type": "execute_result",
          "data": {
            "text/latex": "$\\displaystyle M_\\mathrm{4b} + M_\\mathrm{4t} - M_{1} = F_\\mathrm{p1} - F_\\mathrm{p4} - T$",
            "text/plain": [
              "Eq(M_\\mathrm{4b} + M_\\mathrm{4t} - M_{1}, F_\\mathrm{p1} - F_\\mathrm{p4} - T)"
            ]
          },
          "metadata": {
            "tags": []
          },
          "execution_count": 18
        }
      ]
    },
    {
      "cell_type": "code",
      "metadata": {
        "colab": {
          "base_uri": "https://localhost:8080/",
          "height": 53
        },
        "id": "mf90DKLa69wd",
        "outputId": "7c1d5c38-092b-4031-d346-10d25e5b1132"
      },
      "source": [
        "eqI2 = eqI1.subs( M4b, ρ*u4b**2*h4b*b).subs( M4t, ρ*u4t**2*h4t*b)\\\n",
        "          .subs( M1, ρ*u1**2*h1*b ).subs( Fp1, ρ*g*b*h1**2/2 )\\\n",
        "          .subs( Fp4, ρ*g*b*h4**2/2 ).subs( T, C_T*ρ*u1**2*At/2)\n",
        "eqI2"
      ],
      "execution_count": 19,
      "outputs": [
        {
          "output_type": "execute_result",
          "data": {
            "text/latex": "$\\displaystyle - \\rho b h_{1} u_{1}^{2} + \\rho b h_\\mathrm{4b} u_\\mathrm{4b}^{2} + \\rho b h_\\mathrm{4t} u_\\mathrm{4t}^{2} = - \\frac{A_\\mathrm{t} C_\\mathrm{T} \\rho u_{1}^{2}}{2} + \\frac{\\rho b g h_{1}^{2}}{2} - \\frac{\\rho b g h_{4}^{2}}{2}$",
            "text/plain": [
              "Eq(-\\rho*b*h_1*u_1**2 + \\rho*b*h_\\mathrm{4b}*u_\\mathrm{4b}**2 + \\rho*b*h_\\mathrm{4t}*u_\\mathrm{4t}**2, -A_\\mathrm{t}*C_\\mathrm{T}*\\rho*u_1**2/2 + \\rho*b*g*h_1**2/2 - \\rho*b*g*h_4**2/2)"
            ]
          },
          "metadata": {
            "tags": []
          },
          "execution_count": 19
        }
      ]
    },
    {
      "cell_type": "markdown",
      "metadata": {
        "id": "MNMSI3AqoQSQ"
      },
      "source": [
        "Knowing that Blockage factor  $B=\\dfrac{A_\\mathrm{t}}{bh_1}\\ \\Rightarrow\\ \\dfrac{A_\\mathrm{t}}{B} = b h_1$"
      ]
    },
    {
      "cell_type": "code",
      "metadata": {
        "colab": {
          "base_uri": "https://localhost:8080/",
          "height": 55
        },
        "id": "bYrt4jHH9Tpg",
        "outputId": "dffde4f5-e7da-4cc5-b8cf-cf7519a3fd28"
      },
      "source": [
        "eqI3 = expand( Eq( eqI2.lhs / ( ρ*g*h1**2*b ), eqI2.rhs / ( ρ*g*h1**2*b ) ) )\n",
        "eqI4 = eqI3.subs( zetas ).subs( Sqr_Froudes ).subs( b*h1, At/B)\n",
        "eqI4"
      ],
      "execution_count": 20,
      "outputs": [
        {
          "output_type": "execute_result",
          "data": {
            "text/latex": "$\\displaystyle \\mathrm{Fr}_\\mathrm{4b}^{2} \\zeta_\\mathrm{4b} + \\mathrm{Fr}_\\mathrm{4t}^{2} \\zeta_\\mathrm{4t} - \\mathrm{Fr}_{1}^{2} = - \\frac{B C_\\mathrm{T} \\mathrm{Fr}_{1}^{2}}{2} - \\frac{\\zeta_{4}^{2}}{2} + \\frac{1}{2}$",
            "text/plain": [
              "Eq(\\mathrm{Fr}_\\mathrm{4b}**2*\\zeta_\\mathrm{4b} + \\mathrm{Fr}_\\mathrm{4t}**2*\\zeta_\\mathrm{4t} - \\mathrm{Fr}_{1}**2, -B*C_\\mathrm{T}*\\mathrm{Fr}_{1}**2/2 - \\zeta_4**2/2 + 1/2)"
            ]
          },
          "metadata": {
            "tags": []
          },
          "execution_count": 20
        }
      ]
    },
    {
      "cell_type": "code",
      "metadata": {
        "colab": {
          "base_uri": "https://localhost:8080/",
          "height": 56
        },
        "id": "AExf6ouj_L1n",
        "outputId": "8cb67469-6ef9-4e50-924e-5247d8d2d468"
      },
      "source": [
        "eqI5 = eqI4.subs( eqG1.lhs, eqG1.rhs )\n",
        "eqI5"
      ],
      "execution_count": 21,
      "outputs": [
        {
          "output_type": "execute_result",
          "data": {
            "text/latex": "$\\displaystyle \\mathrm{Fr}_\\mathrm{4b}^{2} \\zeta_\\mathrm{4b} + \\mathrm{Fr}_\\mathrm{4t}^{2} \\zeta_\\mathrm{4t} - \\mathrm{Fr}_{1}^{2} = - \\frac{B \\left(\\mathrm{Fr}_\\mathrm{4b}^{2} - \\mathrm{Fr}_\\mathrm{4t}^{2}\\right)}{2} - \\frac{\\zeta_{4}^{2}}{2} + \\frac{1}{2}$",
            "text/plain": [
              "Eq(\\mathrm{Fr}_\\mathrm{4b}**2*\\zeta_\\mathrm{4b} + \\mathrm{Fr}_\\mathrm{4t}**2*\\zeta_\\mathrm{4t} - \\mathrm{Fr}_{1}**2, -B*(\\mathrm{Fr}_\\mathrm{4b}**2 - \\mathrm{Fr}_\\mathrm{4t}**2)/2 - \\zeta_4**2/2 + 1/2)"
            ]
          },
          "metadata": {
            "tags": []
          },
          "execution_count": 21
        }
      ]
    },
    {
      "cell_type": "markdown",
      "metadata": {
        "id": "Qf5ZZ9xcDZvC"
      },
      "source": [
        "Specifying:\n",
        "\n",
        "* Blockage factor $0 \\le B \\lt 1$\n",
        "* Upstream Froude number $\\mathrm{Fr}_1$\n",
        "* Bypass Froude number $\\mathrm{Fr}_\\mathrm{4b}$"
      ]
    },
    {
      "cell_type": "code",
      "metadata": {
        "colab": {
          "base_uri": "https://localhost:8080/",
          "height": 55
        },
        "id": "BG-to7QfCGo1",
        "outputId": "b21b7826-e362-499a-86f9-b022783eaf85"
      },
      "source": [
        "solζ4 = solve( eqA2, ζ4 )\n",
        "solζ4[0]"
      ],
      "execution_count": 22,
      "outputs": [
        {
          "output_type": "execute_result",
          "data": {
            "text/latex": "$\\displaystyle - \\frac{\\mathrm{Fr}_\\mathrm{4b}^{2}}{2} + \\frac{\\mathrm{Fr}_{1}^{2}}{2} + 1$",
            "text/plain": [
              "-\\mathrm{Fr}_\\mathrm{4b}**2/2 + \\mathrm{Fr}_{1}**2/2 + 1"
            ]
          },
          "metadata": {
            "tags": []
          },
          "execution_count": 22
        }
      ]
    },
    {
      "cell_type": "code",
      "metadata": {
        "colab": {
          "base_uri": "https://localhost:8080/",
          "height": 38
        },
        "id": "pB_qL7WLGydk",
        "outputId": "193c22ee-d996-4249-dfd6-2fac5a23ccd2"
      },
      "source": [
        "eqJ1 = Eq( ζ4, ζ4b+ζ4t )\n",
        "eqJ1"
      ],
      "execution_count": 23,
      "outputs": [
        {
          "output_type": "execute_result",
          "data": {
            "text/latex": "$\\displaystyle \\zeta_{4} = \\zeta_\\mathrm{4b} + \\zeta_\\mathrm{4t}$",
            "text/plain": [
              "Eq(\\zeta_4, \\zeta_\\mathrm{4b} + \\zeta_\\mathrm{4t})"
            ]
          },
          "metadata": {
            "tags": []
          },
          "execution_count": 23
        }
      ]
    },
    {
      "cell_type": "markdown",
      "metadata": {
        "id": "G6oOt6aKOG5W"
      },
      "source": [
        "# Summary of the system of equations to solve"
      ]
    },
    {
      "cell_type": "code",
      "metadata": {
        "colab": {
          "base_uri": "https://localhost:8080/",
          "height": 56
        },
        "id": "qjRGEZGEEBzp",
        "outputId": "4b7056e4-0787-4779-eeb9-9ebe14b9fb04"
      },
      "source": [
        "eqI5"
      ],
      "execution_count": 24,
      "outputs": [
        {
          "output_type": "execute_result",
          "data": {
            "text/latex": "$\\displaystyle \\mathrm{Fr}_\\mathrm{4b}^{2} \\zeta_\\mathrm{4b} + \\mathrm{Fr}_\\mathrm{4t}^{2} \\zeta_\\mathrm{4t} - \\mathrm{Fr}_{1}^{2} = - \\frac{B \\left(\\mathrm{Fr}_\\mathrm{4b}^{2} - \\mathrm{Fr}_\\mathrm{4t}^{2}\\right)}{2} - \\frac{\\zeta_{4}^{2}}{2} + \\frac{1}{2}$",
            "text/plain": [
              "Eq(\\mathrm{Fr}_\\mathrm{4b}**2*\\zeta_\\mathrm{4b} + \\mathrm{Fr}_\\mathrm{4t}**2*\\zeta_\\mathrm{4t} - \\mathrm{Fr}_{1}**2, -B*(\\mathrm{Fr}_\\mathrm{4b}**2 - \\mathrm{Fr}_\\mathrm{4t}**2)/2 - \\zeta_4**2/2 + 1/2)"
            ]
          },
          "metadata": {
            "tags": []
          },
          "execution_count": 24
        }
      ]
    },
    {
      "cell_type": "code",
      "metadata": {
        "colab": {
          "base_uri": "https://localhost:8080/",
          "height": 38
        },
        "id": "3MqlS8ZKHRsJ",
        "outputId": "830455f0-c22c-4bef-aa6b-117af11d957e"
      },
      "source": [
        "eqH2"
      ],
      "execution_count": 25,
      "outputs": [
        {
          "output_type": "execute_result",
          "data": {
            "text/latex": "$\\displaystyle \\mathrm{Fr}_\\mathrm{4b} \\zeta_\\mathrm{4b} + \\mathrm{Fr}_\\mathrm{4t} \\zeta_\\mathrm{4t} = \\mathrm{Fr}_{1}$",
            "text/plain": [
              "Eq(\\mathrm{Fr}_\\mathrm{4b}*\\zeta_\\mathrm{4b} + \\mathrm{Fr}_\\mathrm{4t}*\\zeta_\\mathrm{4t}, \\mathrm{Fr}_{1})"
            ]
          },
          "metadata": {
            "tags": []
          },
          "execution_count": 25
        }
      ]
    },
    {
      "cell_type": "code",
      "metadata": {
        "colab": {
          "base_uri": "https://localhost:8080/",
          "height": 38
        },
        "id": "OlmByzuiHfgq",
        "outputId": "6beb4fde-ace3-44b5-fb2d-aec58dd2234e"
      },
      "source": [
        "eqJ1"
      ],
      "execution_count": 26,
      "outputs": [
        {
          "output_type": "execute_result",
          "data": {
            "text/latex": "$\\displaystyle \\zeta_{4} = \\zeta_\\mathrm{4b} + \\zeta_\\mathrm{4t}$",
            "text/plain": [
              "Eq(\\zeta_4, \\zeta_\\mathrm{4b} + \\zeta_\\mathrm{4t})"
            ]
          },
          "metadata": {
            "tags": []
          },
          "execution_count": 26
        }
      ]
    },
    {
      "cell_type": "markdown",
      "metadata": {
        "id": "GOro_98AOMHR"
      },
      "source": [
        "# Solution of the system of equations for $\\mathrm{Fr}_{4t1}$"
      ]
    },
    {
      "cell_type": "code",
      "metadata": {
        "id": "Um8bFmc_HiV8"
      },
      "source": [
        "solFr4t = solve( [ eqI5, eqH2, eqJ1 ], [Fr4t,ζ4b,ζ4t])"
      ],
      "execution_count": 27,
      "outputs": []
    },
    {
      "cell_type": "code",
      "metadata": {
        "colab": {
          "base_uri": "https://localhost:8080/",
          "height": 38
        },
        "id": "PYP2inGAf-pu",
        "outputId": "b50e207e-fd3b-4934-f0bd-0991e64633e2"
      },
      "source": [
        "C1 = symbols(\"C_1\")\n",
        "SC1 = Fr1 - ζ4 * Fr4b\n",
        "SC1"
      ],
      "execution_count": 28,
      "outputs": [
        {
          "output_type": "execute_result",
          "data": {
            "text/latex": "$\\displaystyle - \\mathrm{Fr}_\\mathrm{4b} \\zeta_{4} + \\mathrm{Fr}_{1}$",
            "text/plain": [
              "-\\mathrm{Fr}_\\mathrm{4b}*\\zeta_4 + \\mathrm{Fr}_{1}"
            ]
          },
          "metadata": {
            "tags": []
          },
          "execution_count": 28
        }
      ]
    },
    {
      "cell_type": "code",
      "metadata": {
        "colab": {
          "base_uri": "https://localhost:8080/",
          "height": 38
        },
        "id": "3xwoFwvWlmsy",
        "outputId": "087c7e09-c15c-442e-ea74-346d6b8d4e8b"
      },
      "source": [
        "C2 = symbols(\"C_2\")\n",
        "SC2 = B**2 * Fr4b**2 + B*(ζ4**2+2*Fr1*(-Fr1+Fr4b)-1)+C1**2\n",
        "SC2"
      ],
      "execution_count": 29,
      "outputs": [
        {
          "output_type": "execute_result",
          "data": {
            "text/latex": "$\\displaystyle B^{2} \\mathrm{Fr}_\\mathrm{4b}^{2} + B \\left(2 \\mathrm{Fr}_{1} \\left(\\mathrm{Fr}_\\mathrm{4b} - \\mathrm{Fr}_{1}\\right) + \\zeta_{4}^{2} - 1\\right) + C_{1}^{2}$",
            "text/plain": [
              "B**2*\\mathrm{Fr}_\\mathrm{4b}**2 + B*(2*\\mathrm{Fr}_{1}*(\\mathrm{Fr}_\\mathrm{4b} - \\mathrm{Fr}_{1}) + \\zeta_4**2 - 1) + C_1**2"
            ]
          },
          "metadata": {
            "tags": []
          },
          "execution_count": 29
        }
      ]
    },
    {
      "cell_type": "code",
      "metadata": {
        "colab": {
          "base_uri": "https://localhost:8080/",
          "height": 54
        },
        "id": "u2jMMO0aKYwZ",
        "outputId": "6348da19-c86e-4e01-e82b-c746aebdf79d"
      },
      "source": [
        "collect(collect(solFr4t[0][0],2*B*Fr1).subs(SC1,C1)\\\n",
        "          .subs(expand(SC1**2),C1**2),B).subs(SC2,C2)"
      ],
      "execution_count": 30,
      "outputs": [
        {
          "output_type": "execute_result",
          "data": {
            "text/latex": "$\\displaystyle \\frac{C_{1} - \\sqrt{C_{2}}}{B}$",
            "text/plain": [
              "(C_1 - sqrt(C_2))/B"
            ]
          },
          "metadata": {
            "tags": []
          },
          "execution_count": 30
        }
      ]
    },
    {
      "cell_type": "code",
      "metadata": {
        "colab": {
          "base_uri": "https://localhost:8080/",
          "height": 54
        },
        "id": "hweJbZDbb8Mg",
        "outputId": "436f5740-49c9-4367-b573-fc25171af1fe"
      },
      "source": [
        "collect(collect(solFr4t[1][0],2*B*Fr1).subs(SC1,C1)\\\n",
        "          .subs(expand(SC1**2),C1**2),B).subs(SC2,C2)"
      ],
      "execution_count": 31,
      "outputs": [
        {
          "output_type": "execute_result",
          "data": {
            "text/latex": "$\\displaystyle \\frac{C_{1} + \\sqrt{C_{2}}}{B}$",
            "text/plain": [
              "(C_1 + sqrt(C_2))/B"
            ]
          },
          "metadata": {
            "tags": []
          },
          "execution_count": 31
        }
      ]
    },
    {
      "cell_type": "markdown",
      "metadata": {
        "id": "DH19jaqyORp3"
      },
      "source": [
        "# Computing $\\eta_{4b}$ and $\\eta_{4t}$\n",
        "\n",
        "After computing $\\mathrm{Fr}_{4t1}$ it is easier to compute $\\eta_{4b}$ and $\\eta_{4t}$ from ```eqH2``` and ```eqJ1``` than using the solutions above.\n"
      ]
    },
    {
      "cell_type": "code",
      "metadata": {
        "colab": {
          "base_uri": "https://localhost:8080/",
          "height": 57
        },
        "id": "u3j5c_Doe87Z",
        "outputId": "3bd09898-0dc8-47b0-8f3d-57fe8990a453"
      },
      "source": [
        "simplify(solve( [ eqH2, eqJ1 ], [ζ4b,ζ4t]))"
      ],
      "execution_count": 32,
      "outputs": [
        {
          "output_type": "execute_result",
          "data": {
            "text/latex": "$\\displaystyle \\left\\{ \\zeta_\\mathrm{4b} : \\frac{- \\mathrm{Fr}_\\mathrm{4t} \\zeta_{4} + \\mathrm{Fr}_{1}}{\\mathrm{Fr}_\\mathrm{4b} - \\mathrm{Fr}_\\mathrm{4t}}, \\  \\zeta_\\mathrm{4t} : \\frac{\\mathrm{Fr}_\\mathrm{4b} \\zeta_{4} - \\mathrm{Fr}_{1}}{\\mathrm{Fr}_\\mathrm{4b} - \\mathrm{Fr}_\\mathrm{4t}}\\right\\}$",
            "text/plain": [
              "{\\zeta_\\mathrm{4b}: (-\\mathrm{Fr}_\\mathrm{4t}*\\zeta_4 + \\mathrm{Fr}_{1})/(\\mathrm{Fr}_\\mathrm{4b} - \\mathrm{Fr}_\\mathrm{4t}), \\zeta_\\mathrm{4t}: (\\mathrm{Fr}_\\mathrm{4b}*\\zeta_4 - \\mathrm{Fr}_{1})/(\\mathrm{Fr}_\\mathrm{4b} - \\mathrm{Fr}_\\mathrm{4t})}"
            ]
          },
          "metadata": {
            "tags": []
          },
          "execution_count": 32
        }
      ]
    },
    {
      "cell_type": "markdown",
      "metadata": {
        "id": "zSPiASXUJ4fZ"
      },
      "source": [
        "# Selecting the solution with physical meaning\n",
        "\n",
        "Let us show that $C_1$ is always negative which implies that the solution \n",
        "\n",
        "$$\\mathrm{Fr}_\\mathrm{4t}=\\dfrac{C_1-\\sqrt{C_2}}{B}, \\tag{1}$$ \n",
        "\n",
        "is **always negative** (invalid).\n",
        "\n",
        "From the mass balance we get\n",
        "\n",
        "$$ u_1 h_1 = u_{4b} h_\\mathrm{4b} + u_\\mathrm{4t} h_\\mathrm{4t}.$$\n",
        "\n",
        "Since $u_\\mathrm{4t} < u_\\mathrm{4b}$ we found that\n",
        "\n",
        "$$ u_1 h_1 = u_\\mathrm{4b} h_\\mathrm{4b} + u_\\mathrm{4t} h_\\mathrm{4t} \\lt u_\\mathrm{4b} h_4.$$\n",
        "\n",
        "Divinding by $\\sqrt{gh_1} h_1$ results\n",
        "\n",
        "$$ \\dfrac{u_1}{\\sqrt{g h_1}} - \\dfrac{u_\\mathrm{4b}}{\\sqrt{g h_1}} \\dfrac{h_4}{h_1} \\lt 0,$$\n",
        "\n",
        "giving \n",
        "\n",
        "$$\\mathrm{Fr}_{1} - \\mathrm{Fr}_\\mathrm{4b} \\zeta_{4} \\lt 0,$$ \n",
        "\n",
        "or equivalently\n",
        "\n",
        "$$C_1 \\lt 0.$$ \n",
        "\n",
        "This implies that the solution given by Eq. (1) is always negative\n",
        "\n",
        "$$\\mathrm{Fr}_\\mathrm{4t} \\lt 0.$$ "
      ]
    },
    {
      "cell_type": "code",
      "metadata": {
        "id": "F2Ny-TcSQerF"
      },
      "source": [
        ""
      ],
      "execution_count": 32,
      "outputs": []
    }
  ]
}