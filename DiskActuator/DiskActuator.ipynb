{
  "nbformat": 4,
  "nbformat_minor": 0,
  "metadata": {
    "colab": {
      "name": "DiskActuator.ipynb",
      "provenance": [],
      "include_colab_link": true
    },
    "kernelspec": {
      "name": "python3",
      "display_name": "Python 3"
    },
    "language_info": {
      "name": "python"
    }
  },
  "cells": [
    {
      "cell_type": "markdown",
      "metadata": {
        "id": "view-in-github",
        "colab_type": "text"
      },
      "source": [
        "<a href=\"https://colab.research.google.com/github/joaochenriques/MCTE_2020_2021/blob/main/DiskActuator/DiskActuator.ipynb\" target=\"_parent\"><img src=\"https://colab.research.google.com/assets/colab-badge.svg\" alt=\"Open In Colab\"/></a>"
      ]
    },
    {
      "cell_type": "code",
      "metadata": {
        "id": "BmAkVzVmeipL"
      },
      "source": [
        "from sympy import *"
      ],
      "execution_count": 1,
      "outputs": []
    },
    {
      "cell_type": "code",
      "metadata": {
        "id": "XKLQk-_egk-f"
      },
      "source": [
        "h1, h2t, h3t, h4, h4t, h4b = symbols( r\"h_1, h_{2t}, h_{3t}, h_4, h_{4t}, h_{4b}\" )"
      ],
      "execution_count": 2,
      "outputs": []
    },
    {
      "cell_type": "code",
      "metadata": {
        "id": "q-PTIecNnqxa"
      },
      "source": [
        "η1, η2t, η3t, η4, η4t, η4b = symbols( r\"\\eta_1, \\eta_{2t}, \\eta_{3t}, \\eta_4, \\eta_{4t}, \\eta_{4b}\")"
      ],
      "execution_count": 3,
      "outputs": []
    },
    {
      "cell_type": "code",
      "metadata": {
        "id": "DdHxUdzVm24n"
      },
      "source": [
        "u1, u2t, u3t = symbols( r\"u_1, u_{2t}, u_{3t}\" )\n",
        "u4b, u4t = symbols( r\"u_{4b}, u_{4t}\" )"
      ],
      "execution_count": 4,
      "outputs": []
    },
    {
      "cell_type": "code",
      "metadata": {
        "id": "5uO0Dv8cmlUN"
      },
      "source": [
        "Fr11 = symbols( r\"\\mathrm{Fr}_{11}\")\n",
        "Fr2t1, Fr3t1 = symbols( r\"\\mathrm{Fr}_{2t1}, \\mathrm{Fr}_{3t1}\")\n",
        "Fr4b1, Fr4t1 = symbols( r\"\\mathrm{Fr}_{4b1}, \\mathrm{Fr}_{4t1}\")"
      ],
      "execution_count": 5,
      "outputs": []
    },
    {
      "cell_type": "markdown",
      "metadata": {
        "id": "PbcO62IIoPFs"
      },
      "source": [
        "# Bernoulli equations "
      ]
    },
    {
      "cell_type": "code",
      "metadata": {
        "colab": {
          "base_uri": "https://localhost:8080/",
          "height": 55
        },
        "id": "nw_aIxVBhz4C",
        "outputId": "13061942-4399-4ed9-8e9f-8efd3da79b8c"
      },
      "source": [
        "eqA1 = Eq( h1 + u1**2/(2*g), h4 + u4b**2/(2*g) )\n",
        "eqA2 = expand(Eq( eqA1.lhs / h1, eqA1.rhs / h1  ) ).subs( h4/h1, η4).subs( u4b**2/(g*h1), Fr4b1**2).subs( u1**2/(g*h1), Fr11**2)\n",
        "eqA2"
      ],
      "execution_count": 11,
      "outputs": [
        {
          "output_type": "execute_result",
          "data": {
            "text/latex": "$\\displaystyle \\frac{\\mathrm{Fr}_{11}^{2}}{2} + 1 = \\eta_{4} + \\frac{\\mathrm{Fr}_{4b1}^{2}}{2}$",
            "text/plain": [
              "Eq(\\mathrm{Fr}_{11}**2/2 + 1, \\eta_4 + \\mathrm{Fr}_{4b1}**2/2)"
            ]
          },
          "metadata": {
            "tags": []
          },
          "execution_count": 11
        }
      ]
    },
    {
      "cell_type": "code",
      "metadata": {
        "id": "BLZhgtwklESG",
        "colab": {
          "base_uri": "https://localhost:8080/",
          "height": 55
        },
        "outputId": "73311465-259e-47f3-cc37-1bfb412d8251"
      },
      "source": [
        "eqB1 = Eq( h1 + u1**2/(2*g), h2t + u2t**2/(2*g) )\n",
        "eqB2 = expand(Eq( eqB1.lhs / h1, eqB1.rhs / h1  ) ).subs( h2t/h1, η2t).subs( u2t**2/(g*h1), Fr2t1**2).subs( u1**2/(g*h1), Fr11**2)\n",
        "eqB2"
      ],
      "execution_count": 12,
      "outputs": [
        {
          "output_type": "execute_result",
          "data": {
            "text/latex": "$\\displaystyle \\frac{\\mathrm{Fr}_{11}^{2}}{2} + 1 = \\eta_{2t} + \\frac{\\mathrm{Fr}_{2t1}^{2}}{2}$",
            "text/plain": [
              "Eq(\\mathrm{Fr}_{11}**2/2 + 1, \\eta_{2t} + \\mathrm{Fr}_{2t1}**2/2)"
            ]
          },
          "metadata": {
            "tags": []
          },
          "execution_count": 12
        }
      ]
    },
    {
      "cell_type": "code",
      "metadata": {
        "colab": {
          "base_uri": "https://localhost:8080/",
          "height": 55
        },
        "id": "KFAswnKO6bno",
        "outputId": "4c129df1-67d7-49ac-d156-64b648e383be"
      },
      "source": [
        "eqC1 = Eq( h3t + u3t**2/(2*g), h4+ u4t**2/(2*g) )\n",
        "eqC2 = expand(Eq( eqC1.lhs / h1, eqC1.rhs / h1  ) ).subs( h3t/h1, η3t).subs( u3t**2/(g*h1), Fr3t1**2).subs( h4/h1, η4).subs( u4t**2/(g*h1), Fr4t1**2)\n",
        "eqC2"
      ],
      "execution_count": 13,
      "outputs": [
        {
          "output_type": "execute_result",
          "data": {
            "text/latex": "$\\displaystyle \\eta_{3t} + \\frac{\\mathrm{Fr}_{3t1}^{2}}{2} = \\eta_{4} + \\frac{\\mathrm{Fr}_{4t1}^{2}}{2}$",
            "text/plain": [
              "Eq(\\eta_{3t} + \\mathrm{Fr}_{3t1}**2/2, \\eta_4 + \\mathrm{Fr}_{4t1}**2/2)"
            ]
          },
          "metadata": {
            "tags": []
          },
          "execution_count": 13
        }
      ]
    },
    {
      "cell_type": "code",
      "metadata": {
        "colab": {
          "base_uri": "https://localhost:8080/",
          "height": 55
        },
        "id": "B0nuzHU3Llei",
        "outputId": "90287ad3-fc87-41cd-99ed-1fa7f3208959"
      },
      "source": [
        "eqD1 = Eq( T/(ρ*g*At), (h2t-h3t) )\n",
        "eqD2 = expand( Eq( eqD1.lhs * 2 / h1, eqD1.rhs * 2 / h1  ) ).subs( 1/(g*h1), Fr11**2/u1**2).subs( h2t/h1, η2t).subs( h3t/h1, η3t).subs( 2*T/(ρ*u1**2*At), C_T )\n",
        "eqD3 = expand( Eq( eqD2.lhs / 2, eqD2.rhs / 2 ) )\n",
        "eqD3"
      ],
      "execution_count": 14,
      "outputs": [
        {
          "output_type": "execute_result",
          "data": {
            "text/latex": "$\\displaystyle \\frac{C_{T} \\mathrm{Fr}_{11}^{2}}{2} = \\eta_{2t} - \\eta_{3t}$",
            "text/plain": [
              "Eq(C_T*\\mathrm{Fr}_{11}**2/2, \\eta_{2t} - \\eta_{3t})"
            ]
          },
          "metadata": {
            "tags": []
          },
          "execution_count": 14
        }
      ]
    },
    {
      "cell_type": "code",
      "metadata": {
        "colab": {
          "base_uri": "https://localhost:8080/",
          "height": 54
        },
        "id": "hPtYNYJUNNA2",
        "outputId": "6c9fb06c-cb24-48d0-e489-f5e87a3f9282"
      },
      "source": [
        "eqE1 = Eq( C_P, C_T * u2t / u1 ).subs( u2t, Fr2t1*sqrt(g *h1) ).subs( u1, Fr11*sqrt(g *h1) )\n",
        "eqE1"
      ],
      "execution_count": 15,
      "outputs": [
        {
          "output_type": "execute_result",
          "data": {
            "text/latex": "$\\displaystyle C_{P} = \\frac{C_{T} \\mathrm{Fr}_{2t1}}{\\mathrm{Fr}_{11}}$",
            "text/plain": [
              "Eq(C_P, C_T*\\mathrm{Fr}_{2t1}/\\mathrm{Fr}_{11})"
            ]
          },
          "metadata": {
            "tags": []
          },
          "execution_count": 15
        }
      ]
    },
    {
      "cell_type": "markdown",
      "metadata": {
        "id": "CqGZfXE-aZK0"
      },
      "source": [
        "Since $u_{2t}=u_{3t}$ the\n",
        "\n",
        "$$\\mathrm{Fr}_{2t1}=\\mathrm{Fr}_{3t1}$$"
      ]
    },
    {
      "cell_type": "code",
      "metadata": {
        "colab": {
          "base_uri": "https://localhost:8080/",
          "height": 55
        },
        "id": "fXR-jNqDNtfI",
        "outputId": "100dafb0-be60-4894-9f68-84b22409a8f1"
      },
      "source": [
        "eqF1 = Eq( eqA2.rhs-eqC2.rhs, eqB2.rhs-eqC2.lhs ).subs( Fr2t1, Fr3t1 )\n",
        "eqF1 "
      ],
      "execution_count": 19,
      "outputs": [
        {
          "output_type": "execute_result",
          "data": {
            "text/latex": "$\\displaystyle \\frac{\\mathrm{Fr}_{4b1}^{2}}{2} - \\frac{\\mathrm{Fr}_{4t1}^{2}}{2} = \\eta_{2t} - \\eta_{3t}$",
            "text/plain": [
              "Eq(\\mathrm{Fr}_{4b1}**2/2 - \\mathrm{Fr}_{4t1}**2/2, \\eta_{2t} - \\eta_{3t})"
            ]
          },
          "metadata": {
            "tags": []
          },
          "execution_count": 19
        }
      ]
    },
    {
      "cell_type": "code",
      "metadata": {
        "colab": {
          "base_uri": "https://localhost:8080/",
          "height": 38
        },
        "id": "7mzwlbgNbP1R",
        "outputId": "6283f73e-8a6b-4e8c-d7a0-e42f2d05d620"
      },
      "source": [
        "eqG1 = Eq( eqD3.lhs * 2, eqF1.lhs * 2 )\n",
        "eqG1"
      ],
      "execution_count": 21,
      "outputs": [
        {
          "output_type": "execute_result",
          "data": {
            "text/latex": "$\\displaystyle C_{T} \\mathrm{Fr}_{11}^{2} = \\mathrm{Fr}_{4b1}^{2} - \\mathrm{Fr}_{4t1}^{2}$",
            "text/plain": [
              "Eq(C_T*\\mathrm{Fr}_{11}**2, \\mathrm{Fr}_{4b1}**2 - \\mathrm{Fr}_{4t1}**2)"
            ]
          },
          "metadata": {
            "tags": []
          },
          "execution_count": 21
        }
      ]
    },
    {
      "cell_type": "code",
      "metadata": {
        "colab": {
          "base_uri": "https://localhost:8080/",
          "height": 38
        },
        "id": "Rv82tY9wcodd",
        "outputId": "a8350558-c001-4d14-bc1e-3b87542c4a7d"
      },
      "source": [
        "eqH1 = Eq( u4b * h4b + u4t * h4t, u1*h1 )\n",
        "eqH2 = expand( Eq( eqH1.lhs / (h1*sqrt(g*h1)), eqH1.rhs / (h1*sqrt(g*h1)) ) ).subs( h4t/h1, η4t).subs( h4b/h1, η4b).subs( u4t/sqrt(g*h1), Fr4t1).subs( u4b/sqrt(g*h1), Fr4b1).subs( u1/sqrt(g*h1), Fr11)\n",
        "eqH2"
      ],
      "execution_count": 22,
      "outputs": [
        {
          "output_type": "execute_result",
          "data": {
            "text/latex": "$\\displaystyle \\eta_{4b} \\mathrm{Fr}_{4b1} + \\eta_{4t} \\mathrm{Fr}_{4t1} = \\mathrm{Fr}_{11}$",
            "text/plain": [
              "Eq(\\eta_{4b}*\\mathrm{Fr}_{4b1} + \\eta_{4t}*\\mathrm{Fr}_{4t1}, \\mathrm{Fr}_{11})"
            ]
          },
          "metadata": {
            "tags": []
          },
          "execution_count": 22
        }
      ]
    },
    {
      "cell_type": "markdown",
      "metadata": {
        "id": "dh2m4JXLoqxx"
      },
      "source": [
        "# Momentum balance"
      ]
    },
    {
      "cell_type": "markdown",
      "metadata": {
        "id": "wL0iknFMo1u3"
      },
      "source": [
        "Blockage factor  $B=\\dfrac{A_t}{bh_1}\\ \\Rightarrow\\ \\dfrac{A_t}{B} = b h_1$"
      ]
    },
    {
      "cell_type": "code",
      "metadata": {
        "id": "Lb1Giyebo6Af"
      },
      "source": [
        "b, B = symbols( \"b, B\" )"
      ],
      "execution_count": 23,
      "outputs": []
    },
    {
      "cell_type": "code",
      "metadata": {
        "id": "L_k8_Vztoxha"
      },
      "source": [
        "T, C_T, C_P, g, ρ, At = symbols( r\"T, C_T, C_P, g, \\rho, A_t\")"
      ],
      "execution_count": 24,
      "outputs": []
    },
    {
      "cell_type": "code",
      "metadata": {
        "id": "mf90DKLa69wd",
        "outputId": "d390bbe7-a11c-445b-bdd8-b82c2119e205",
        "colab": {
          "base_uri": "https://localhost:8080/",
          "height": 53
        }
      },
      "source": [
        "M4t, M4b, M1, Fp4, Fp1 = symbols( \"M_{4t}, M_{4b}, M_{1}, F_{p4}, F_{p1}\")\n",
        "\n",
        "eqI1 = Eq( M4b + M4t - M1, -(Fp4-Fp1) - T )\n",
        "eqI2 = eqI1.subs( M4b, ρ*u4b**2*h4b*b).subs( M4t, ρ*u4t**2*h4t*b).subs( M1, ρ*u1**2*h1*b ).subs( Fp1, ρ*g*b*h1**2/2 ).subs( Fp4, ρ*g*b*h4**2/2 ).subs( T, C_T*ρ*u1**2*At/2)\n",
        "eqI2"
      ],
      "execution_count": 25,
      "outputs": [
        {
          "output_type": "execute_result",
          "data": {
            "text/latex": "$\\displaystyle - \\rho b h_{1} u_{1}^{2} + \\rho b h_{4b} u_{4b}^{2} + \\rho b h_{4t} u_{4t}^{2} = - \\frac{A_{t} C_{T} \\rho u_{1}^{2}}{2} + \\frac{\\rho b g h_{1}^{2}}{2} - \\frac{\\rho b g h_{4}^{2}}{2}$",
            "text/plain": [
              "Eq(-\\rho*b*h_1*u_1**2 + \\rho*b*h_{4b}*u_{4b}**2 + \\rho*b*h_{4t}*u_{4t}**2, -A_t*C_T*\\rho*u_1**2/2 + \\rho*b*g*h_1**2/2 - \\rho*b*g*h_4**2/2)"
            ]
          },
          "metadata": {
            "tags": []
          },
          "execution_count": 25
        }
      ]
    },
    {
      "cell_type": "markdown",
      "metadata": {
        "id": "EV-DvcqlAzxw"
      },
      "source": [
        ""
      ]
    },
    {
      "cell_type": "code",
      "metadata": {
        "id": "bYrt4jHH9Tpg",
        "outputId": "c4040c58-3eb0-444a-b979-d2471a86a7c2",
        "colab": {
          "base_uri": "https://localhost:8080/",
          "height": 55
        }
      },
      "source": [
        "eqI3 = expand( Eq( eqI2.lhs / ( ρ*g*h1**2*b ), eqI2.rhs / ( ρ*g*h1**2*b ) ) )\n",
        "eqI4 = eqI3.subs( u4t**2/(g*h1), Fr4t1**2).subs( u4b**2/(g*h1), Fr4b1**2).subs( u1**2/(g*h1), Fr11**2).subs( h4t/h1, η4t).subs( h4b/h1, η4b).subs( h4/h1, η4).subs( b*h1, At/B)\n",
        "eqI4"
      ],
      "execution_count": 27,
      "outputs": [
        {
          "output_type": "execute_result",
          "data": {
            "text/latex": "$\\displaystyle \\eta_{4b} \\mathrm{Fr}_{4b1}^{2} + \\eta_{4t} \\mathrm{Fr}_{4t1}^{2} - \\mathrm{Fr}_{11}^{2} = - \\frac{B C_{T} \\mathrm{Fr}_{11}^{2}}{2} - \\frac{\\eta_{4}^{2}}{2} + \\frac{1}{2}$",
            "text/plain": [
              "Eq(\\eta_{4b}*\\mathrm{Fr}_{4b1}**2 + \\eta_{4t}*\\mathrm{Fr}_{4t1}**2 - \\mathrm{Fr}_{11}**2, -B*C_T*\\mathrm{Fr}_{11}**2/2 - \\eta_4**2/2 + 1/2)"
            ]
          },
          "metadata": {
            "tags": []
          },
          "execution_count": 27
        }
      ]
    },
    {
      "cell_type": "code",
      "metadata": {
        "id": "AExf6ouj_L1n",
        "outputId": "028ef039-9601-47c6-b2e8-6b77b91f48c6",
        "colab": {
          "base_uri": "https://localhost:8080/",
          "height": 56
        }
      },
      "source": [
        "eqI5 = eqI4.subs( C_T*Fr11**2, Fr4b1**2-Fr4t1**2)\n",
        "eqI5"
      ],
      "execution_count": 28,
      "outputs": [
        {
          "output_type": "execute_result",
          "data": {
            "text/latex": "$\\displaystyle \\eta_{4b} \\mathrm{Fr}_{4b1}^{2} + \\eta_{4t} \\mathrm{Fr}_{4t1}^{2} - \\mathrm{Fr}_{11}^{2} = - \\frac{B \\left(\\mathrm{Fr}_{4b1}^{2} - \\mathrm{Fr}_{4t1}^{2}\\right)}{2} - \\frac{\\eta_{4}^{2}}{2} + \\frac{1}{2}$",
            "text/plain": [
              "Eq(\\eta_{4b}*\\mathrm{Fr}_{4b1}**2 + \\eta_{4t}*\\mathrm{Fr}_{4t1}**2 - \\mathrm{Fr}_{11}**2, -B*(\\mathrm{Fr}_{4b1}**2 - \\mathrm{Fr}_{4t1}**2)/2 - \\eta_4**2/2 + 1/2)"
            ]
          },
          "metadata": {
            "tags": []
          },
          "execution_count": 28
        }
      ]
    },
    {
      "cell_type": "markdown",
      "metadata": {
        "id": "Qf5ZZ9xcDZvC"
      },
      "source": [
        "Specifying:\n",
        "\n",
        "* Blockage factor $0 \\le B \\lt 1$\n",
        "* Upstream Froude number $\\mathrm{Fr}_1$\n",
        "* Bypass Froude number $\\mathrm{Fr}_{4b}$"
      ]
    },
    {
      "cell_type": "code",
      "metadata": {
        "id": "BG-to7QfCGo1",
        "outputId": "a6a60297-5fc7-4b0a-c83d-541e8f1521ae",
        "colab": {
          "base_uri": "https://localhost:8080/",
          "height": 59
        }
      },
      "source": [
        "sol1 = solveset( eqA2, η4 )\n",
        "sol1"
      ],
      "execution_count": 29,
      "outputs": [
        {
          "output_type": "execute_result",
          "data": {
            "text/latex": "$\\displaystyle \\left\\{\\frac{\\mathrm{Fr}_{11}^{2}}{2} - \\frac{\\mathrm{Fr}_{4b1}^{2}}{2} + 1\\right\\}$",
            "text/plain": [
              "FiniteSet(\\mathrm{Fr}_{11}**2/2 - \\mathrm{Fr}_{4b1}**2/2 + 1)"
            ]
          },
          "metadata": {
            "tags": []
          },
          "execution_count": 29
        }
      ]
    },
    {
      "cell_type": "code",
      "metadata": {
        "id": "pB_qL7WLGydk",
        "outputId": "fe6d2034-28ab-47e4-bd1d-8c2ccbb710f3",
        "colab": {
          "base_uri": "https://localhost:8080/",
          "height": 38
        }
      },
      "source": [
        "eqJ1 = Eq( η4, η4b+η4t )\n",
        "eqJ1"
      ],
      "execution_count": 30,
      "outputs": [
        {
          "output_type": "execute_result",
          "data": {
            "text/latex": "$\\displaystyle \\eta_{4} = \\eta_{4b} + \\eta_{4t}$",
            "text/plain": [
              "Eq(\\eta_4, \\eta_{4b} + \\eta_{4t})"
            ]
          },
          "metadata": {
            "tags": []
          },
          "execution_count": 30
        }
      ]
    },
    {
      "cell_type": "code",
      "metadata": {
        "id": "qjRGEZGEEBzp",
        "outputId": "f3428c50-c85b-42cc-c4ad-923218c1152b",
        "colab": {
          "base_uri": "https://localhost:8080/",
          "height": 56
        }
      },
      "source": [
        "eqI5"
      ],
      "execution_count": 31,
      "outputs": [
        {
          "output_type": "execute_result",
          "data": {
            "text/latex": "$\\displaystyle \\eta_{4b} \\mathrm{Fr}_{4b1}^{2} + \\eta_{4t} \\mathrm{Fr}_{4t1}^{2} - \\mathrm{Fr}_{11}^{2} = - \\frac{B \\left(\\mathrm{Fr}_{4b1}^{2} - \\mathrm{Fr}_{4t1}^{2}\\right)}{2} - \\frac{\\eta_{4}^{2}}{2} + \\frac{1}{2}$",
            "text/plain": [
              "Eq(\\eta_{4b}*\\mathrm{Fr}_{4b1}**2 + \\eta_{4t}*\\mathrm{Fr}_{4t1}**2 - \\mathrm{Fr}_{11}**2, -B*(\\mathrm{Fr}_{4b1}**2 - \\mathrm{Fr}_{4t1}**2)/2 - \\eta_4**2/2 + 1/2)"
            ]
          },
          "metadata": {
            "tags": []
          },
          "execution_count": 31
        }
      ]
    },
    {
      "cell_type": "code",
      "metadata": {
        "id": "3MqlS8ZKHRsJ",
        "outputId": "6c13414a-aef8-4a52-898b-44c72da24306",
        "colab": {
          "base_uri": "https://localhost:8080/",
          "height": 38
        }
      },
      "source": [
        "eqH2"
      ],
      "execution_count": 32,
      "outputs": [
        {
          "output_type": "execute_result",
          "data": {
            "text/latex": "$\\displaystyle \\eta_{4b} \\mathrm{Fr}_{4b1} + \\eta_{4t} \\mathrm{Fr}_{4t1} = \\mathrm{Fr}_{11}$",
            "text/plain": [
              "Eq(\\eta_{4b}*\\mathrm{Fr}_{4b1} + \\eta_{4t}*\\mathrm{Fr}_{4t1}, \\mathrm{Fr}_{11})"
            ]
          },
          "metadata": {
            "tags": []
          },
          "execution_count": 32
        }
      ]
    },
    {
      "cell_type": "code",
      "metadata": {
        "id": "OlmByzuiHfgq",
        "outputId": "ed1f446d-d77e-4383-c491-cc8e1ad5d364",
        "colab": {
          "base_uri": "https://localhost:8080/",
          "height": 38
        }
      },
      "source": [
        "eqJ1"
      ],
      "execution_count": 33,
      "outputs": [
        {
          "output_type": "execute_result",
          "data": {
            "text/latex": "$\\displaystyle \\eta_{4} = \\eta_{4b} + \\eta_{4t}$",
            "text/plain": [
              "Eq(\\eta_4, \\eta_{4b} + \\eta_{4t})"
            ]
          },
          "metadata": {
            "tags": []
          },
          "execution_count": 33
        }
      ]
    },
    {
      "cell_type": "code",
      "metadata": {
        "id": "Um8bFmc_HiV8"
      },
      "source": [
        "solFr4t1 = solve( [ eqI5, eqH2, eqJ1 ], [Fr4t1,η4b,η4t])"
      ],
      "execution_count": 36,
      "outputs": []
    },
    {
      "cell_type": "code",
      "metadata": {
        "id": "PYP2inGAf-pu",
        "outputId": "c47d4806-bd69-45d1-c809-07b5cc97a60a",
        "colab": {
          "base_uri": "https://localhost:8080/",
          "height": 38
        }
      },
      "source": [
        "C1 = symbols(\"C_1\")\n",
        "SC1 = Fr11 - η4 * Fr4b1\n",
        "SC1"
      ],
      "execution_count": 38,
      "outputs": [
        {
          "output_type": "execute_result",
          "data": {
            "text/latex": "$\\displaystyle - \\eta_{4} \\mathrm{Fr}_{4b1} + \\mathrm{Fr}_{11}$",
            "text/plain": [
              "-\\eta_4*\\mathrm{Fr}_{4b1} + \\mathrm{Fr}_{11}"
            ]
          },
          "metadata": {
            "tags": []
          },
          "execution_count": 38
        }
      ]
    },
    {
      "cell_type": "code",
      "metadata": {
        "id": "3xwoFwvWlmsy",
        "outputId": "58547e01-e031-40ec-a474-9122866cfd5c",
        "colab": {
          "base_uri": "https://localhost:8080/",
          "height": 38
        }
      },
      "source": [
        "C2 = symbols(\"C_2\")\n",
        "SC2 = B**2 * Fr4b1**2 + B*(η4**2+2*Fr11*(-Fr11+Fr4b1)-1)+C1**2\n",
        "SC2"
      ],
      "execution_count": 39,
      "outputs": [
        {
          "output_type": "execute_result",
          "data": {
            "text/latex": "$\\displaystyle B^{2} \\mathrm{Fr}_{4b1}^{2} + B \\left(\\eta_{4}^{2} + 2 \\mathrm{Fr}_{11} \\left(- \\mathrm{Fr}_{11} + \\mathrm{Fr}_{4b1}\\right) - 1\\right) + C_{1}^{2}$",
            "text/plain": [
              "B**2*\\mathrm{Fr}_{4b1}**2 + B*(\\eta_4**2 + 2*\\mathrm{Fr}_{11}*(-\\mathrm{Fr}_{11} + \\mathrm{Fr}_{4b1}) - 1) + C_1**2"
            ]
          },
          "metadata": {
            "tags": []
          },
          "execution_count": 39
        }
      ]
    },
    {
      "cell_type": "code",
      "metadata": {
        "id": "u2jMMO0aKYwZ",
        "outputId": "9eec29d4-8ae5-4e45-9ffb-a3bcb5cceb8e",
        "colab": {
          "base_uri": "https://localhost:8080/",
          "height": 54
        }
      },
      "source": [
        "collect(collect(solFr4t1[0][0],2*B*Fr11).subs(SC1,C1).subs(expand(SC1**2),C1**2),B).subs(SC2,C2)"
      ],
      "execution_count": 41,
      "outputs": [
        {
          "output_type": "execute_result",
          "data": {
            "text/latex": "$\\displaystyle \\frac{C_{1} - \\sqrt{C_{2}}}{B}$",
            "text/plain": [
              "(C_1 - sqrt(C_2))/B"
            ]
          },
          "metadata": {
            "tags": []
          },
          "execution_count": 41
        }
      ]
    },
    {
      "cell_type": "code",
      "metadata": {
        "id": "hweJbZDbb8Mg",
        "outputId": "689e1af9-ae1d-470a-88ed-72c62ad8ce8a",
        "colab": {
          "base_uri": "https://localhost:8080/",
          "height": 54
        }
      },
      "source": [
        "collect(collect(solFr4t1[1][0],2*B*Fr11).subs(SC1,C1).subs(expand(SC1**2),C1**2),B).subs(SC2,C2)"
      ],
      "execution_count": 42,
      "outputs": [
        {
          "output_type": "execute_result",
          "data": {
            "text/latex": "$\\displaystyle \\frac{C_{1} + \\sqrt{C_{2}}}{B}$",
            "text/plain": [
              "(C_1 + sqrt(C_2))/B"
            ]
          },
          "metadata": {
            "tags": []
          },
          "execution_count": 42
        }
      ]
    },
    {
      "cell_type": "code",
      "metadata": {
        "id": "u3j5c_Doe87Z",
        "outputId": "774fff59-15ff-42ac-c600-9e9cb32f8882",
        "colab": {
          "base_uri": "https://localhost:8080/",
          "height": 57
        }
      },
      "source": [
        "simplify(solve( [ eqH2, eqJ1 ], [η4b,η4t]))"
      ],
      "execution_count": 43,
      "outputs": [
        {
          "output_type": "execute_result",
          "data": {
            "text/latex": "$\\displaystyle \\left\\{ \\eta_{4b} : \\frac{- \\eta_{4} \\mathrm{Fr}_{4t1} + \\mathrm{Fr}_{11}}{\\mathrm{Fr}_{4b1} - \\mathrm{Fr}_{4t1}}, \\  \\eta_{4t} : \\frac{\\eta_{4} \\mathrm{Fr}_{4b1} - \\mathrm{Fr}_{11}}{\\mathrm{Fr}_{4b1} - \\mathrm{Fr}_{4t1}}\\right\\}$",
            "text/plain": [
              "{\\eta_{4b}: (-\\eta_4*\\mathrm{Fr}_{4t1} + \\mathrm{Fr}_{11})/(\\mathrm{Fr}_{4b1} - \\mathrm{Fr}_{4t1}), \\eta_{4t}: (\\eta_4*\\mathrm{Fr}_{4b1} - \\mathrm{Fr}_{11})/(\\mathrm{Fr}_{4b1} - \\mathrm{Fr}_{4t1})}"
            ]
          },
          "metadata": {
            "tags": []
          },
          "execution_count": 43
        }
      ]
    },
    {
      "cell_type": "code",
      "metadata": {
        "id": "nWa2YNLWnpdT"
      },
      "source": [
        ""
      ],
      "execution_count": null,
      "outputs": []
    }
  ]
}