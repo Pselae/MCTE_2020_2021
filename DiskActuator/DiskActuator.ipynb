{
  "nbformat": 4,
  "nbformat_minor": 0,
  "metadata": {
    "colab": {
      "name": "DiskActuator.ipynb",
      "provenance": [],
      "include_colab_link": true
    },
    "kernelspec": {
      "name": "python3",
      "display_name": "Python 3"
    },
    "language_info": {
      "name": "python"
    }
  },
  "cells": [
    {
      "cell_type": "markdown",
      "metadata": {
        "id": "view-in-github",
        "colab_type": "text"
      },
      "source": [
        "<a href=\"https://colab.research.google.com/github/joaochenriques/MCTE_2020_2021/blob/main/DiskActuator/DiskActuator.ipynb\" target=\"_parent\"><img src=\"https://colab.research.google.com/assets/colab-badge.svg\" alt=\"Open In Colab\"/></a>"
      ]
    },
    {
      "cell_type": "code",
      "metadata": {
        "id": "BmAkVzVmeipL"
      },
      "source": [
        "from sympy import *"
      ],
      "execution_count": 1,
      "outputs": []
    },
    {
      "cell_type": "code",
      "metadata": {
        "id": "XKLQk-_egk-f"
      },
      "source": [
        "h1, h2t, h3t, h4, h4t, h4b = symbols( r\"h_1, h_{2t}, h_{3t}, h_4, h_{4t}, h_{4b}\" )"
      ],
      "execution_count": 2,
      "outputs": []
    },
    {
      "cell_type": "code",
      "metadata": {
        "id": "DwHmqFqWhihr"
      },
      "source": [
        "u1, u2t, u3t, u4b, u4t = symbols( r\"u_1, u_{2t}, u_{3t}, u_{4b}, u_{4t}\" )"
      ],
      "execution_count": 3,
      "outputs": []
    },
    {
      "cell_type": "markdown",
      "metadata": {
        "id": "tZUEU50ahL-r"
      },
      "source": [
        "The dimensionless depth $\\zeta_i$ is defined has\n",
        "\n",
        "$$\\zeta_i=\\dfrac{h_i}{h_1}.$$"
      ]
    },
    {
      "cell_type": "code",
      "metadata": {
        "id": "q-PTIecNnqxa"
      },
      "source": [
        "ζ1, ζ2t, ζ3t, ζ4, ζ4t, ζ4b = symbols( r\"\\zeta_1, \\zeta_{2t}, \\zeta_{3t}, \\zeta_4, \\zeta_{4t}, \\zeta_{4b}\")"
      ],
      "execution_count": 4,
      "outputs": []
    },
    {
      "cell_type": "markdown",
      "metadata": {
        "id": "4QSX6BHrgeAh"
      },
      "source": [
        "Froude numbers are based on the depth of the undisturbed flow $h_1$, i.e.,\n",
        "\n",
        "$$\\mathrm{Fr}_{u_i}=\\dfrac{u_i}{\\sqrt{gh_1}}.$$"
      ]
    },
    {
      "cell_type": "code",
      "metadata": {
        "id": "5uO0Dv8cmlUN"
      },
      "source": [
        "Fr1 = symbols( r\"\\mathrm{Fr}_{1}\")\n",
        "Fr2t, Fr3t = symbols( r\"\\mathrm{Fr}_{2t}, \\mathrm{Fr}_{3t}\")\n",
        "Fr4b, Fr4t = symbols( r\"\\mathrm{Fr}_{4b}, \\mathrm{Fr}_{4t}\")"
      ],
      "execution_count": 5,
      "outputs": []
    },
    {
      "cell_type": "code",
      "metadata": {
        "id": "9Xfv1EsAvVLg"
      },
      "source": [
        "ρ, g, T, At, C_T, C_P = symbols( r\"\\rho, g, T, A_t, C_T, C_P\" )"
      ],
      "execution_count": 6,
      "outputs": []
    },
    {
      "cell_type": "markdown",
      "metadata": {
        "id": "PbcO62IIoPFs"
      },
      "source": [
        "# Bernoulli equations "
      ]
    },
    {
      "cell_type": "code",
      "metadata": {
        "colab": {
          "base_uri": "https://localhost:8080/",
          "height": 55
        },
        "id": "nw_aIxVBhz4C",
        "outputId": "71c14b3b-bc74-4e1f-a1fb-5bba5f55a799"
      },
      "source": [
        "eqA1 = Eq( h1 + u1**2/(2*g), h4 + u4b**2/(2*g) )\n",
        "eqA2 = expand(Eq( eqA1.lhs / h1, eqA1.rhs / h1  ) ).subs( h4/h1, ζ4)\\\n",
        "            .subs( u4b**2/(g*h1), Fr4b**2).subs( u1**2/(g*h1), Fr1**2)\n",
        "eqA2"
      ],
      "execution_count": 7,
      "outputs": [
        {
          "output_type": "execute_result",
          "data": {
            "text/latex": "$\\displaystyle \\frac{\\mathrm{Fr}_{1}^{2}}{2} + 1 = \\frac{\\mathrm{Fr}_{4b}^{2}}{2} + \\zeta_{4}$",
            "text/plain": [
              "Eq(\\mathrm{Fr}_{1}**2/2 + 1, \\mathrm{Fr}_{4b}**2/2 + \\zeta_4)"
            ]
          },
          "metadata": {
            "tags": []
          },
          "execution_count": 7
        }
      ]
    },
    {
      "cell_type": "code",
      "metadata": {
        "id": "BLZhgtwklESG",
        "colab": {
          "base_uri": "https://localhost:8080/",
          "height": 55
        },
        "outputId": "1e58907a-dd36-4147-a6a1-903c52376860"
      },
      "source": [
        "eqB1 = Eq( h1 + u1**2/(2*g), h2t + u2t**2/(2*g) )\n",
        "eqB2 = expand(Eq( eqB1.lhs / h1, eqB1.rhs / h1  ) ).subs( h2t/h1, ζ2t)\\\n",
        "            .subs( u2t**2/(g*h1), Fr2t**2).subs( u1**2/(g*h1), Fr1**2)\n",
        "eqB2"
      ],
      "execution_count": 8,
      "outputs": [
        {
          "output_type": "execute_result",
          "data": {
            "text/latex": "$\\displaystyle \\frac{\\mathrm{Fr}_{1}^{2}}{2} + 1 = \\frac{\\mathrm{Fr}_{2t}^{2}}{2} + \\zeta_{2t}$",
            "text/plain": [
              "Eq(\\mathrm{Fr}_{1}**2/2 + 1, \\mathrm{Fr}_{2t}**2/2 + \\zeta_{2t})"
            ]
          },
          "metadata": {
            "tags": []
          },
          "execution_count": 8
        }
      ]
    },
    {
      "cell_type": "code",
      "metadata": {
        "colab": {
          "base_uri": "https://localhost:8080/",
          "height": 55
        },
        "id": "KFAswnKO6bno",
        "outputId": "43c0eba1-7045-4ef0-86f5-19437c73fe85"
      },
      "source": [
        "eqC1 = Eq( h3t + u3t**2/(2*g), h4+ u4t**2/(2*g) )\n",
        "eqC2 = expand(Eq( eqC1.lhs / h1, eqC1.rhs / h1  ) ).subs( h3t/h1, ζ3t)\\\n",
        "            .subs( u3t**2/(g*h1), Fr3t**2).subs( h4/h1, ζ4)\\\n",
        "            .subs( u4t**2/(g*h1), Fr4t**2)\n",
        "eqC2"
      ],
      "execution_count": 9,
      "outputs": [
        {
          "output_type": "execute_result",
          "data": {
            "text/latex": "$\\displaystyle \\frac{\\mathrm{Fr}_{3t}^{2}}{2} + \\zeta_{3t} = \\frac{\\mathrm{Fr}_{4t}^{2}}{2} + \\zeta_{4}$",
            "text/plain": [
              "Eq(\\mathrm{Fr}_{3t}**2/2 + \\zeta_{3t}, \\mathrm{Fr}_{4t}**2/2 + \\zeta_4)"
            ]
          },
          "metadata": {
            "tags": []
          },
          "execution_count": 9
        }
      ]
    },
    {
      "cell_type": "markdown",
      "metadata": {
        "id": "xQEdKu1Owra8"
      },
      "source": [
        "# Force on the turbine"
      ]
    },
    {
      "cell_type": "code",
      "metadata": {
        "id": "dJL45SPMjGc4",
        "colab": {
          "base_uri": "https://localhost:8080/",
          "height": 55
        },
        "outputId": "bed74aec-61c8-4bd0-f5d6-471dce1631ee"
      },
      "source": [
        "eqD1 = Eq( T/(ρ*g*At), (h2t-h3t) )\n",
        "eqD2 = expand( Eq( eqD1.lhs * 2 / ( h1*u1**2), eqD1.rhs * 2 / ( h1*u1**2)  ) )\n",
        "eqD3 = eqD2.subs( 2*T/(ρ*u1**2*At), C_T ).subs( h2t/h1, ζ2t).subs( h3t/h1, ζ3t)\n",
        "eqD4 = Eq( eqD3.lhs*u1**2/2, simplify(eqD3.rhs*u1**2/2) ).subs( u1**2/(g*h1), Fr1**2)\n",
        "eqD4"
      ],
      "execution_count": 10,
      "outputs": [
        {
          "output_type": "execute_result",
          "data": {
            "text/latex": "$\\displaystyle \\frac{C_{T} \\mathrm{Fr}_{1}^{2}}{2} = \\zeta_{2t} - \\zeta_{3t}$",
            "text/plain": [
              "Eq(C_T*\\mathrm{Fr}_{1}**2/2, \\zeta_{2t} - \\zeta_{3t})"
            ]
          },
          "metadata": {
            "tags": []
          },
          "execution_count": 10
        }
      ]
    },
    {
      "cell_type": "code",
      "metadata": {
        "colab": {
          "base_uri": "https://localhost:8080/",
          "height": 54
        },
        "id": "hPtYNYJUNNA2",
        "outputId": "5b6108a1-5e83-4046-da24-1829d9030ae3"
      },
      "source": [
        "eqE1 = Eq( C_P, C_T * u2t / u1 ).subs( u2t/u1, Fr2t/Fr1 )\n",
        "eqE1"
      ],
      "execution_count": 11,
      "outputs": [
        {
          "output_type": "execute_result",
          "data": {
            "text/latex": "$\\displaystyle C_{P} = \\frac{C_{T} \\mathrm{Fr}_{2t}}{\\mathrm{Fr}_{1}}$",
            "text/plain": [
              "Eq(C_P, C_T*\\mathrm{Fr}_{2t}/\\mathrm{Fr}_{1})"
            ]
          },
          "metadata": {
            "tags": []
          },
          "execution_count": 11
        }
      ]
    },
    {
      "cell_type": "markdown",
      "metadata": {
        "id": "CqGZfXE-aZK0"
      },
      "source": [
        "Since $u_{2t}=u_{3t}$ the\n",
        "\n",
        "$$\\mathrm{Fr}_{2t}=\\mathrm{Fr}_{3t}$$"
      ]
    },
    {
      "cell_type": "code",
      "metadata": {
        "colab": {
          "base_uri": "https://localhost:8080/",
          "height": 55
        },
        "id": "fXR-jNqDNtfI",
        "outputId": "8b08a745-68c2-47ee-e2f6-6dda4b6bccd8"
      },
      "source": [
        "eqF1 = Eq( eqA2.rhs-eqC2.rhs, eqB2.rhs-eqC2.lhs ).subs( Fr2t, Fr3t )\n",
        "eqF1 "
      ],
      "execution_count": 12,
      "outputs": [
        {
          "output_type": "execute_result",
          "data": {
            "text/latex": "$\\displaystyle \\frac{\\mathrm{Fr}_{4b}^{2}}{2} - \\frac{\\mathrm{Fr}_{4t}^{2}}{2} = \\zeta_{2t} - \\zeta_{3t}$",
            "text/plain": [
              "Eq(\\mathrm{Fr}_{4b}**2/2 - \\mathrm{Fr}_{4t}**2/2, \\zeta_{2t} - \\zeta_{3t})"
            ]
          },
          "metadata": {
            "tags": []
          },
          "execution_count": 12
        }
      ]
    },
    {
      "cell_type": "code",
      "metadata": {
        "colab": {
          "base_uri": "https://localhost:8080/",
          "height": 38
        },
        "id": "7mzwlbgNbP1R",
        "outputId": "f89ff890-1202-476e-cdab-21d8e504ee8b"
      },
      "source": [
        "eqG1 = Eq( eqD4.lhs * 2, eqF1.lhs * 2 )\n",
        "eqG1"
      ],
      "execution_count": 13,
      "outputs": [
        {
          "output_type": "execute_result",
          "data": {
            "text/latex": "$\\displaystyle C_{T} \\mathrm{Fr}_{1}^{2} = \\mathrm{Fr}_{4b}^{2} - \\mathrm{Fr}_{4t}^{2}$",
            "text/plain": [
              "Eq(C_T*\\mathrm{Fr}_{1}**2, \\mathrm{Fr}_{4b}**2 - \\mathrm{Fr}_{4t}**2)"
            ]
          },
          "metadata": {
            "tags": []
          },
          "execution_count": 13
        }
      ]
    },
    {
      "cell_type": "markdown",
      "metadata": {
        "id": "ED6VuDFkwibl"
      },
      "source": [
        "# Mass balance"
      ]
    },
    {
      "cell_type": "code",
      "metadata": {
        "colab": {
          "base_uri": "https://localhost:8080/",
          "height": 38
        },
        "id": "YeLktTPENkkH",
        "outputId": "d14838aa-7e1c-4bbd-d603-c3a19ad8e9cf"
      },
      "source": [
        "eqH1 = Eq( u4b * h4b + u4t * h4t, u1*h1 )\n",
        "eqH1"
      ],
      "execution_count": 14,
      "outputs": [
        {
          "output_type": "execute_result",
          "data": {
            "text/latex": "$\\displaystyle h_{4b} u_{4b} + h_{4t} u_{4t} = h_{1} u_{1}$",
            "text/plain": [
              "Eq(h_{4b}*u_{4b} + h_{4t}*u_{4t}, h_1*u_1)"
            ]
          },
          "metadata": {
            "tags": []
          },
          "execution_count": 14
        }
      ]
    },
    {
      "cell_type": "code",
      "metadata": {
        "colab": {
          "base_uri": "https://localhost:8080/",
          "height": 38
        },
        "id": "Rv82tY9wcodd",
        "outputId": "63c25efc-1321-4f8a-c9a1-962cbb21f862"
      },
      "source": [
        "eqH2 = expand( Eq( eqH1.lhs / (h1*sqrt(g*h1)), eqH1.rhs / (h1*sqrt(g*h1)) ) )\\\n",
        "          .subs( h4t/h1, ζ4t).subs( h4b/h1, ζ4b).subs( u4t/sqrt(g*h1), Fr4t)\\\n",
        "          .subs( u4b/sqrt(g*h1), Fr4b).subs( u1/sqrt(g*h1), Fr1)\n",
        "eqH2"
      ],
      "execution_count": 15,
      "outputs": [
        {
          "output_type": "execute_result",
          "data": {
            "text/latex": "$\\displaystyle \\mathrm{Fr}_{4b} \\zeta_{4b} + \\mathrm{Fr}_{4t} \\zeta_{4t} = \\mathrm{Fr}_{1}$",
            "text/plain": [
              "Eq(\\mathrm{Fr}_{4b}*\\zeta_{4b} + \\mathrm{Fr}_{4t}*\\zeta_{4t}, \\mathrm{Fr}_{1})"
            ]
          },
          "metadata": {
            "tags": []
          },
          "execution_count": 15
        }
      ]
    },
    {
      "cell_type": "markdown",
      "metadata": {
        "id": "dh2m4JXLoqxx"
      },
      "source": [
        "# Momentum balance"
      ]
    },
    {
      "cell_type": "markdown",
      "metadata": {
        "id": "wL0iknFMo1u3"
      },
      "source": [
        "Blockage factor  $B=\\dfrac{A_t}{bh_1}\\ \\Rightarrow\\ \\dfrac{A_t}{B} = b h_1$"
      ]
    },
    {
      "cell_type": "code",
      "metadata": {
        "id": "Lb1Giyebo6Af"
      },
      "source": [
        "b, B = symbols( \"b, B\" )\n",
        "M4t, M4b, M1, Fp4, Fp1 = symbols( \"M_{4t}, M_{4b}, M_{1}, F_{p4}, F_{p1}\")"
      ],
      "execution_count": 16,
      "outputs": []
    },
    {
      "cell_type": "code",
      "metadata": {
        "colab": {
          "base_uri": "https://localhost:8080/",
          "height": 38
        },
        "id": "RKX8dqxHNvp3",
        "outputId": "aa1d10f0-254d-4b22-fae6-f251f08fc931"
      },
      "source": [
        "eqI1 = Eq( M4b + M4t - M1, -(Fp4-Fp1) - T )\n",
        "eqI1"
      ],
      "execution_count": 17,
      "outputs": [
        {
          "output_type": "execute_result",
          "data": {
            "text/latex": "$\\displaystyle - M_{1} + M_{4b} + M_{4t} = F_{p1} - F_{p4} - T$",
            "text/plain": [
              "Eq(-M_{1} + M_{4b} + M_{4t}, F_{p1} - F_{p4} - T)"
            ]
          },
          "metadata": {
            "tags": []
          },
          "execution_count": 17
        }
      ]
    },
    {
      "cell_type": "code",
      "metadata": {
        "colab": {
          "base_uri": "https://localhost:8080/",
          "height": 53
        },
        "id": "mf90DKLa69wd",
        "outputId": "f459a1ed-650d-4b53-8722-d1e73c05f687"
      },
      "source": [
        "eqI2 = eqI1.subs( M4b, ρ*u4b**2*h4b*b).subs( M4t, ρ*u4t**2*h4t*b)\\\n",
        "            .subs( M1, ρ*u1**2*h1*b ).subs( Fp1, ρ*g*b*h1**2/2 )\\\n",
        "            .subs( Fp4, ρ*g*b*h4**2/2 ).subs( T, C_T*ρ*u1**2*At/2)\n",
        "eqI2"
      ],
      "execution_count": 18,
      "outputs": [
        {
          "output_type": "execute_result",
          "data": {
            "text/latex": "$\\displaystyle - \\rho b h_{1} u_{1}^{2} + \\rho b h_{4b} u_{4b}^{2} + \\rho b h_{4t} u_{4t}^{2} = - \\frac{A_{t} C_{T} \\rho u_{1}^{2}}{2} + \\frac{\\rho b g h_{1}^{2}}{2} - \\frac{\\rho b g h_{4}^{2}}{2}$",
            "text/plain": [
              "Eq(-\\rho*b*h_1*u_1**2 + \\rho*b*h_{4b}*u_{4b}**2 + \\rho*b*h_{4t}*u_{4t}**2, -A_t*C_T*\\rho*u_1**2/2 + \\rho*b*g*h_1**2/2 - \\rho*b*g*h_4**2/2)"
            ]
          },
          "metadata": {
            "tags": []
          },
          "execution_count": 18
        }
      ]
    },
    {
      "cell_type": "code",
      "metadata": {
        "colab": {
          "base_uri": "https://localhost:8080/",
          "height": 55
        },
        "id": "bYrt4jHH9Tpg",
        "outputId": "fc485909-fb3f-4a4f-cc88-e37f27e0ab19"
      },
      "source": [
        "eqI3 = expand( Eq( eqI2.lhs / ( ρ*g*h1**2*b ), eqI2.rhs / ( ρ*g*h1**2*b ) ) )\n",
        "eqI4 = eqI3.subs( u4t**2/(g*h1), Fr4t**2).subs( u4b**2/(g*h1), Fr4b**2)\\\n",
        "          .subs( u1**2/(g*h1), Fr1**2).subs( h4t/h1, ζ4t)\\\n",
        "          .subs( h4b/h1, ζ4b).subs( h4/h1, ζ4).subs( b*h1, At/B)\n",
        "eqI4"
      ],
      "execution_count": 19,
      "outputs": [
        {
          "output_type": "execute_result",
          "data": {
            "text/latex": "$\\displaystyle - \\mathrm{Fr}_{1}^{2} + \\mathrm{Fr}_{4b}^{2} \\zeta_{4b} + \\mathrm{Fr}_{4t}^{2} \\zeta_{4t} = - \\frac{B C_{T} \\mathrm{Fr}_{1}^{2}}{2} - \\frac{\\zeta_{4}^{2}}{2} + \\frac{1}{2}$",
            "text/plain": [
              "Eq(-\\mathrm{Fr}_{1}**2 + \\mathrm{Fr}_{4b}**2*\\zeta_{4b} + \\mathrm{Fr}_{4t}**2*\\zeta_{4t}, -B*C_T*\\mathrm{Fr}_{1}**2/2 - \\zeta_4**2/2 + 1/2)"
            ]
          },
          "metadata": {
            "tags": []
          },
          "execution_count": 19
        }
      ]
    },
    {
      "cell_type": "code",
      "metadata": {
        "colab": {
          "base_uri": "https://localhost:8080/",
          "height": 56
        },
        "id": "AExf6ouj_L1n",
        "outputId": "2327e308-bbe5-4a47-b6b5-c17706adb4fc"
      },
      "source": [
        "eqI5 = eqI4.subs( C_T*Fr1**2, Fr4b**2-Fr4t**2)\n",
        "eqI5"
      ],
      "execution_count": 20,
      "outputs": [
        {
          "output_type": "execute_result",
          "data": {
            "text/latex": "$\\displaystyle - \\mathrm{Fr}_{1}^{2} + \\mathrm{Fr}_{4b}^{2} \\zeta_{4b} + \\mathrm{Fr}_{4t}^{2} \\zeta_{4t} = - \\frac{B \\left(\\mathrm{Fr}_{4b}^{2} - \\mathrm{Fr}_{4t}^{2}\\right)}{2} - \\frac{\\zeta_{4}^{2}}{2} + \\frac{1}{2}$",
            "text/plain": [
              "Eq(-\\mathrm{Fr}_{1}**2 + \\mathrm{Fr}_{4b}**2*\\zeta_{4b} + \\mathrm{Fr}_{4t}**2*\\zeta_{4t}, -B*(\\mathrm{Fr}_{4b}**2 - \\mathrm{Fr}_{4t}**2)/2 - \\zeta_4**2/2 + 1/2)"
            ]
          },
          "metadata": {
            "tags": []
          },
          "execution_count": 20
        }
      ]
    },
    {
      "cell_type": "markdown",
      "metadata": {
        "id": "Qf5ZZ9xcDZvC"
      },
      "source": [
        "Specifying:\n",
        "\n",
        "* Blockage factor $0 \\le B \\lt 1$\n",
        "* Upstream Froude number $\\mathrm{Fr}_1$\n",
        "* Bypass Froude number $\\mathrm{Fr}_{4b}$"
      ]
    },
    {
      "cell_type": "code",
      "metadata": {
        "colab": {
          "base_uri": "https://localhost:8080/",
          "height": 55
        },
        "id": "BG-to7QfCGo1",
        "outputId": "3f399b44-d235-4834-b64c-daea4c77a99b"
      },
      "source": [
        "solζ4 = solve( eqA2, ζ4 )\n",
        "solζ4[0]"
      ],
      "execution_count": 21,
      "outputs": [
        {
          "output_type": "execute_result",
          "data": {
            "text/latex": "$\\displaystyle \\frac{\\mathrm{Fr}_{1}^{2}}{2} - \\frac{\\mathrm{Fr}_{4b}^{2}}{2} + 1$",
            "text/plain": [
              "\\mathrm{Fr}_{1}**2/2 - \\mathrm{Fr}_{4b}**2/2 + 1"
            ]
          },
          "metadata": {
            "tags": []
          },
          "execution_count": 21
        }
      ]
    },
    {
      "cell_type": "code",
      "metadata": {
        "colab": {
          "base_uri": "https://localhost:8080/",
          "height": 38
        },
        "id": "pB_qL7WLGydk",
        "outputId": "8ff3bf1e-36cf-487e-ab0b-d404d1ba0510"
      },
      "source": [
        "eqJ1 = Eq( ζ4, ζ4b+ζ4t )\n",
        "eqJ1"
      ],
      "execution_count": 22,
      "outputs": [
        {
          "output_type": "execute_result",
          "data": {
            "text/latex": "$\\displaystyle \\zeta_{4} = \\zeta_{4b} + \\zeta_{4t}$",
            "text/plain": [
              "Eq(\\zeta_4, \\zeta_{4b} + \\zeta_{4t})"
            ]
          },
          "metadata": {
            "tags": []
          },
          "execution_count": 22
        }
      ]
    },
    {
      "cell_type": "markdown",
      "metadata": {
        "id": "G6oOt6aKOG5W"
      },
      "source": [
        "# Summary of the system of equations to solve"
      ]
    },
    {
      "cell_type": "code",
      "metadata": {
        "colab": {
          "base_uri": "https://localhost:8080/",
          "height": 56
        },
        "id": "qjRGEZGEEBzp",
        "outputId": "29dd6b55-f063-4eb2-f613-3b1981c60ca8"
      },
      "source": [
        "eqI5"
      ],
      "execution_count": 23,
      "outputs": [
        {
          "output_type": "execute_result",
          "data": {
            "text/latex": "$\\displaystyle - \\mathrm{Fr}_{1}^{2} + \\mathrm{Fr}_{4b}^{2} \\zeta_{4b} + \\mathrm{Fr}_{4t}^{2} \\zeta_{4t} = - \\frac{B \\left(\\mathrm{Fr}_{4b}^{2} - \\mathrm{Fr}_{4t}^{2}\\right)}{2} - \\frac{\\zeta_{4}^{2}}{2} + \\frac{1}{2}$",
            "text/plain": [
              "Eq(-\\mathrm{Fr}_{1}**2 + \\mathrm{Fr}_{4b}**2*\\zeta_{4b} + \\mathrm{Fr}_{4t}**2*\\zeta_{4t}, -B*(\\mathrm{Fr}_{4b}**2 - \\mathrm{Fr}_{4t}**2)/2 - \\zeta_4**2/2 + 1/2)"
            ]
          },
          "metadata": {
            "tags": []
          },
          "execution_count": 23
        }
      ]
    },
    {
      "cell_type": "code",
      "metadata": {
        "colab": {
          "base_uri": "https://localhost:8080/",
          "height": 38
        },
        "id": "3MqlS8ZKHRsJ",
        "outputId": "fbecf1a0-c46f-42d6-c073-50f366bcde77"
      },
      "source": [
        "eqH2"
      ],
      "execution_count": 24,
      "outputs": [
        {
          "output_type": "execute_result",
          "data": {
            "text/latex": "$\\displaystyle \\mathrm{Fr}_{4b} \\zeta_{4b} + \\mathrm{Fr}_{4t} \\zeta_{4t} = \\mathrm{Fr}_{1}$",
            "text/plain": [
              "Eq(\\mathrm{Fr}_{4b}*\\zeta_{4b} + \\mathrm{Fr}_{4t}*\\zeta_{4t}, \\mathrm{Fr}_{1})"
            ]
          },
          "metadata": {
            "tags": []
          },
          "execution_count": 24
        }
      ]
    },
    {
      "cell_type": "code",
      "metadata": {
        "colab": {
          "base_uri": "https://localhost:8080/",
          "height": 38
        },
        "id": "OlmByzuiHfgq",
        "outputId": "3b5dd62b-59d0-4471-f8ce-4b047aa54925"
      },
      "source": [
        "eqJ1"
      ],
      "execution_count": 25,
      "outputs": [
        {
          "output_type": "execute_result",
          "data": {
            "text/latex": "$\\displaystyle \\zeta_{4} = \\zeta_{4b} + \\zeta_{4t}$",
            "text/plain": [
              "Eq(\\zeta_4, \\zeta_{4b} + \\zeta_{4t})"
            ]
          },
          "metadata": {
            "tags": []
          },
          "execution_count": 25
        }
      ]
    },
    {
      "cell_type": "markdown",
      "metadata": {
        "id": "GOro_98AOMHR"
      },
      "source": [
        "# Solution of the system of equations for $\\mathrm{Fr}_{4t1}$"
      ]
    },
    {
      "cell_type": "code",
      "metadata": {
        "id": "Um8bFmc_HiV8"
      },
      "source": [
        "solFr4t = solve( [ eqI5, eqH2, eqJ1 ], [Fr4t,ζ4b,ζ4t])"
      ],
      "execution_count": 26,
      "outputs": []
    },
    {
      "cell_type": "code",
      "metadata": {
        "colab": {
          "base_uri": "https://localhost:8080/",
          "height": 38
        },
        "id": "PYP2inGAf-pu",
        "outputId": "10092dad-4779-42fd-e832-6085fe6e5df1"
      },
      "source": [
        "C1 = symbols(\"C_1\")\n",
        "SC1 = Fr1 - ζ4 * Fr4b\n",
        "SC1"
      ],
      "execution_count": 27,
      "outputs": [
        {
          "output_type": "execute_result",
          "data": {
            "text/latex": "$\\displaystyle \\mathrm{Fr}_{1} - \\mathrm{Fr}_{4b} \\zeta_{4}$",
            "text/plain": [
              "\\mathrm{Fr}_{1} - \\mathrm{Fr}_{4b}*\\zeta_4"
            ]
          },
          "metadata": {
            "tags": []
          },
          "execution_count": 27
        }
      ]
    },
    {
      "cell_type": "code",
      "metadata": {
        "colab": {
          "base_uri": "https://localhost:8080/",
          "height": 38
        },
        "id": "3xwoFwvWlmsy",
        "outputId": "a5b287c5-b7db-42ac-9e7a-f1728a1abf05"
      },
      "source": [
        "C2 = symbols(\"C_2\")\n",
        "SC2 = B**2 * Fr4b**2 + B*(ζ4**2+2*Fr1*(-Fr1+Fr4b)-1)+C1**2\n",
        "SC2"
      ],
      "execution_count": 28,
      "outputs": [
        {
          "output_type": "execute_result",
          "data": {
            "text/latex": "$\\displaystyle B^{2} \\mathrm{Fr}_{4b}^{2} + B \\left(2 \\mathrm{Fr}_{1} \\left(- \\mathrm{Fr}_{1} + \\mathrm{Fr}_{4b}\\right) + \\zeta_{4}^{2} - 1\\right) + C_{1}^{2}$",
            "text/plain": [
              "B**2*\\mathrm{Fr}_{4b}**2 + B*(2*\\mathrm{Fr}_{1}*(-\\mathrm{Fr}_{1} + \\mathrm{Fr}_{4b}) + \\zeta_4**2 - 1) + C_1**2"
            ]
          },
          "metadata": {
            "tags": []
          },
          "execution_count": 28
        }
      ]
    },
    {
      "cell_type": "code",
      "metadata": {
        "colab": {
          "base_uri": "https://localhost:8080/",
          "height": 54
        },
        "id": "u2jMMO0aKYwZ",
        "outputId": "8345deb5-dcc3-4b37-99c7-7bdfd9f8b28b"
      },
      "source": [
        "collect(collect(solFr4t[0][0],2*B*Fr1).subs(SC1,C1)\\\n",
        "          .subs(expand(SC1**2),C1**2),B).subs(SC2,C2)"
      ],
      "execution_count": 29,
      "outputs": [
        {
          "output_type": "execute_result",
          "data": {
            "text/latex": "$\\displaystyle \\frac{C_{1} - \\sqrt{C_{2}}}{B}$",
            "text/plain": [
              "(C_1 - sqrt(C_2))/B"
            ]
          },
          "metadata": {
            "tags": []
          },
          "execution_count": 29
        }
      ]
    },
    {
      "cell_type": "code",
      "metadata": {
        "colab": {
          "base_uri": "https://localhost:8080/",
          "height": 54
        },
        "id": "hweJbZDbb8Mg",
        "outputId": "c593c56e-d51d-4e32-aa57-cd1e02593471"
      },
      "source": [
        "collect(collect(solFr4t[1][0],2*B*Fr1).subs(SC1,C1)\\\n",
        "          .subs(expand(SC1**2),C1**2),B).subs(SC2,C2)"
      ],
      "execution_count": 30,
      "outputs": [
        {
          "output_type": "execute_result",
          "data": {
            "text/latex": "$\\displaystyle \\frac{C_{1} + \\sqrt{C_{2}}}{B}$",
            "text/plain": [
              "(C_1 + sqrt(C_2))/B"
            ]
          },
          "metadata": {
            "tags": []
          },
          "execution_count": 30
        }
      ]
    },
    {
      "cell_type": "markdown",
      "metadata": {
        "id": "DH19jaqyORp3"
      },
      "source": [
        "# Computing $\\eta_{4b}$ and $\\eta_{4t}$\n",
        "\n",
        "After computing $\\mathrm{Fr}_{4t1}$ it is easier to compute $\\eta_{4b}$ and $\\eta_{4t}$ from ```eqH2``` and ```eqJ1``` than using the solutions above.\n"
      ]
    },
    {
      "cell_type": "code",
      "metadata": {
        "colab": {
          "base_uri": "https://localhost:8080/",
          "height": 57
        },
        "id": "u3j5c_Doe87Z",
        "outputId": "ef546f48-5796-4576-8aaf-81dab48ea92b"
      },
      "source": [
        "simplify(solve( [ eqH2, eqJ1 ], [ζ4b,ζ4t]))"
      ],
      "execution_count": 31,
      "outputs": [
        {
          "output_type": "execute_result",
          "data": {
            "text/latex": "$\\displaystyle \\left\\{ \\zeta_{4b} : \\frac{\\mathrm{Fr}_{1} - \\mathrm{Fr}_{4t} \\zeta_{4}}{\\mathrm{Fr}_{4b} - \\mathrm{Fr}_{4t}}, \\  \\zeta_{4t} : \\frac{- \\mathrm{Fr}_{1} + \\mathrm{Fr}_{4b} \\zeta_{4}}{\\mathrm{Fr}_{4b} - \\mathrm{Fr}_{4t}}\\right\\}$",
            "text/plain": [
              "{\\zeta_{4b}: (\\mathrm{Fr}_{1} - \\mathrm{Fr}_{4t}*\\zeta_4)/(\\mathrm{Fr}_{4b} - \\mathrm{Fr}_{4t}), \\zeta_{4t}: (-\\mathrm{Fr}_{1} + \\mathrm{Fr}_{4b}*\\zeta_4)/(\\mathrm{Fr}_{4b} - \\mathrm{Fr}_{4t})}"
            ]
          },
          "metadata": {
            "tags": []
          },
          "execution_count": 31
        }
      ]
    },
    {
      "cell_type": "markdown",
      "metadata": {
        "id": "zSPiASXUJ4fZ"
      },
      "source": [
        "# Selecting the solution with physical meaning\n",
        "\n",
        "Let us show that $C_1$ is always negative which implies that the solution \n",
        "\n",
        "$$\\mathrm{Fr}_{4t}=\\dfrac{C_1-\\sqrt{C_2}}{B}, \\tag{1}$$ \n",
        "\n",
        "is **always negative** (invalid).\n",
        "\n",
        "From the mass balance we get\n",
        "\n",
        "$$ u_1 h_1 = u_{4b} h_{4b} + u_{4t} h_{4t}.$$\n",
        "\n",
        "Since $u_{4t} < u_{4b}$ we found that\n",
        "\n",
        "$$ u_1 h_1 = u_{4b} h_{4b} + u_{4t} h_{4t} \\lt u_{4b} h_4.$$\n",
        "\n",
        "Divinding by $\\sqrt{gh_1} h_1$ results\n",
        "\n",
        "$$ \\dfrac{u_1}{\\sqrt{g h_1}} - \\dfrac{u_{4b}}{\\sqrt{g h_1}} \\dfrac{h_4}{h_1} \\lt 0,$$\n",
        "\n",
        "giving \n",
        "\n",
        "$$\\mathrm{Fr}_{11} - \\mathrm{Fr}_{4b1} \\zeta_{4} \\lt 0,$$ \n",
        "\n",
        "or equivalently\n",
        "\n",
        "$$C_1 \\lt 0.$$ \n",
        "\n",
        "This implies that the solution given by Eq. (1) is always negative\n",
        "\n",
        "$$\\mathrm{Fr}_{4t} \\lt 0.$$ "
      ]
    },
    {
      "cell_type": "code",
      "metadata": {
        "id": "F2Ny-TcSQerF"
      },
      "source": [
        ""
      ],
      "execution_count": 31,
      "outputs": []
    }
  ]
}