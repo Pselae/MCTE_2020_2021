{
  "nbformat": 4,
  "nbformat_minor": 0,
  "metadata": {
    "colab": {
      "name": "DiskActuator.ipynb",
      "provenance": [],
      "include_colab_link": true
    },
    "kernelspec": {
      "name": "python3",
      "display_name": "Python 3"
    },
    "language_info": {
      "name": "python"
    }
  },
  "cells": [
    {
      "cell_type": "markdown",
      "metadata": {
        "id": "view-in-github",
        "colab_type": "text"
      },
      "source": [
        "<a href=\"https://colab.research.google.com/github/joaochenriques/MCTE_2020_2021/blob/main/DiskActuator/DiskActuator.ipynb\" target=\"_parent\"><img src=\"https://colab.research.google.com/assets/colab-badge.svg\" alt=\"Open In Colab\"/></a>"
      ]
    },
    {
      "cell_type": "code",
      "metadata": {
        "id": "BmAkVzVmeipL"
      },
      "source": [
        "from sympy import *"
      ],
      "execution_count": null,
      "outputs": []
    },
    {
      "cell_type": "code",
      "metadata": {
        "id": "XKLQk-_egk-f"
      },
      "source": [
        "h1, h2t, h3t, h4, h4t, h4b = symbols( r\"h_1, h_{2t}, h_{3t}, h_4, h_{4t}, h_{4b}\" )"
      ],
      "execution_count": null,
      "outputs": []
    },
    {
      "cell_type": "code",
      "metadata": {
        "id": "q-PTIecNnqxa"
      },
      "source": [
        "η1, η2t, η3t, η4, η4t, η4b = symbols( r\"\\eta_1, \\eta_{2t}, \\eta_{3t}, \\eta_4, \\eta_{4t}, \\eta_{4b}\")"
      ],
      "execution_count": null,
      "outputs": []
    },
    {
      "cell_type": "code",
      "metadata": {
        "id": "DdHxUdzVm24n"
      },
      "source": [
        "u1, u2t, u3t = symbols( r\"u_1, u_{2t}, u_{3t}\" )\n",
        "u4b, u4t = symbols( r\"u_{4b}, u_{4t}\" )"
      ],
      "execution_count": null,
      "outputs": []
    },
    {
      "cell_type": "code",
      "metadata": {
        "id": "5uO0Dv8cmlUN"
      },
      "source": [
        "Fr11 = symbols( r\"\\mathrm{Fr}_{11}\")\n",
        "Fr2t1, Fr3t1 = symbols( r\"\\mathrm{Fr}_{2t1}, \\mathrm{Fr}_{3t1}\")\n",
        "Fr4b1, Fr4t1 = symbols( r\"\\mathrm{Fr}_{4b1}, \\mathrm{Fr}_{4t1}\")"
      ],
      "execution_count": null,
      "outputs": []
    },
    {
      "cell_type": "code",
      "metadata": {
        "id": "9Xfv1EsAvVLg"
      },
      "source": [
        "ρ, g, T, At, C_T, C_P = symbols( r\"\\rho, g, T, A_t, C_T, C_P\" )"
      ],
      "execution_count": null,
      "outputs": []
    },
    {
      "cell_type": "markdown",
      "metadata": {
        "id": "PbcO62IIoPFs"
      },
      "source": [
        "# Bernoulli equations "
      ]
    },
    {
      "cell_type": "code",
      "metadata": {
        "colab": {
          "base_uri": "https://localhost:8080/",
          "height": 55
        },
        "id": "nw_aIxVBhz4C",
        "outputId": "c61cc2ab-428c-4347-a664-b3ba87656dee"
      },
      "source": [
        "eqA1 = Eq( h1 + u1**2/(2*g), h4 + u4b**2/(2*g) )\n",
        "eqA2 = expand(Eq( eqA1.lhs / h1, eqA1.rhs / h1  ) ).subs( h4/h1, η4)\\\n",
        "            .subs( u4b**2/(g*h1), Fr4b1**2).subs( u1**2/(g*h1), Fr11**2)\n",
        "eqA2"
      ],
      "execution_count": null,
      "outputs": [
        {
          "output_type": "execute_result",
          "data": {
            "text/latex": "$\\displaystyle \\frac{\\mathrm{Fr}_{11}^{2}}{2} + 1 = \\eta_{4} + \\frac{\\mathrm{Fr}_{4b1}^{2}}{2}$",
            "text/plain": [
              "Eq(\\mathrm{Fr}_{11}**2/2 + 1, \\eta_4 + \\mathrm{Fr}_{4b1}**2/2)"
            ]
          },
          "metadata": {
            "tags": []
          },
          "execution_count": 7
        }
      ]
    },
    {
      "cell_type": "code",
      "metadata": {
        "id": "BLZhgtwklESG",
        "colab": {
          "base_uri": "https://localhost:8080/",
          "height": 55
        },
        "outputId": "92915ebb-2168-46ea-d615-f938a925c8e0"
      },
      "source": [
        "\n",
        "eqB1 = Eq( h1 + u1**2/(2*g), h2t + u2t**2/(2*g) )\n",
        "eqB2 = expand(Eq( eqB1.lhs / h1, eqB1.rhs / h1  ) ).subs( h2t/h1, η2t)\\\n",
        "            .subs( u2t**2/(g*h1), Fr2t1**2).subs( u1**2/(g*h1), Fr11**2)\n",
        "eqB2"
      ],
      "execution_count": null,
      "outputs": [
        {
          "output_type": "execute_result",
          "data": {
            "text/latex": "$\\displaystyle \\frac{\\mathrm{Fr}_{11}^{2}}{2} + 1 = \\eta_{2t} + \\frac{\\mathrm{Fr}_{2t1}^{2}}{2}$",
            "text/plain": [
              "Eq(\\mathrm{Fr}_{11}**2/2 + 1, \\eta_{2t} + \\mathrm{Fr}_{2t1}**2/2)"
            ]
          },
          "metadata": {
            "tags": []
          },
          "execution_count": 8
        }
      ]
    },
    {
      "cell_type": "code",
      "metadata": {
        "colab": {
          "base_uri": "https://localhost:8080/",
          "height": 55
        },
        "id": "KFAswnKO6bno",
        "outputId": "3601a44c-78cc-4710-c385-7ba492c98018"
      },
      "source": [
        "eqC1 = Eq( h3t + u3t**2/(2*g), h4+ u4t**2/(2*g) )\n",
        "eqC2 = expand(Eq( eqC1.lhs / h1, eqC1.rhs / h1  ) ).subs( h3t/h1, η3t)\\\n",
        "            .subs( u3t**2/(g*h1), Fr3t1**2).subs( h4/h1, η4)\\\n",
        "            .subs( u4t**2/(g*h1), Fr4t1**2)\n",
        "eqC2"
      ],
      "execution_count": null,
      "outputs": [
        {
          "output_type": "execute_result",
          "data": {
            "text/latex": "$\\displaystyle \\eta_{3t} + \\frac{\\mathrm{Fr}_{3t1}^{2}}{2} = \\eta_{4} + \\frac{\\mathrm{Fr}_{4t1}^{2}}{2}$",
            "text/plain": [
              "Eq(\\eta_{3t} + \\mathrm{Fr}_{3t1}**2/2, \\eta_4 + \\mathrm{Fr}_{4t1}**2/2)"
            ]
          },
          "metadata": {
            "tags": []
          },
          "execution_count": 9
        }
      ]
    },
    {
      "cell_type": "markdown",
      "metadata": {
        "id": "xQEdKu1Owra8"
      },
      "source": [
        "# Force on the turbine"
      ]
    },
    {
      "cell_type": "code",
      "metadata": {
        "colab": {
          "base_uri": "https://localhost:8080/",
          "height": 55
        },
        "id": "B0nuzHU3Llei",
        "outputId": "f9a24902-fe69-4caf-c1e6-e1c0546b9021"
      },
      "source": [
        "eqD1 = Eq( T/(ρ*g*At), (h2t-h3t) )\n",
        "eqD2 = expand( Eq( eqD1.lhs * 2 / h1, eqD1.rhs * 2 / h1  ) )\\\n",
        "              .subs( 1/(g*h1), Fr11**2/u1**2).subs( h2t/h1, η2t)\\\n",
        "              .subs( h3t/h1, η3t).subs( 2*T/(ρ*u1**2*At), C_T )\n",
        "eqD3 = expand( Eq( eqD2.lhs / 2, eqD2.rhs / 2 ) )\n",
        "eqD3"
      ],
      "execution_count": null,
      "outputs": [
        {
          "output_type": "execute_result",
          "data": {
            "text/latex": "$\\displaystyle \\frac{C_{T} \\mathrm{Fr}_{11}^{2}}{2} = \\eta_{2t} - \\eta_{3t}$",
            "text/plain": [
              "Eq(C_T*\\mathrm{Fr}_{11}**2/2, \\eta_{2t} - \\eta_{3t})"
            ]
          },
          "metadata": {
            "tags": []
          },
          "execution_count": 10
        }
      ]
    },
    {
      "cell_type": "code",
      "metadata": {
        "colab": {
          "base_uri": "https://localhost:8080/",
          "height": 54
        },
        "id": "hPtYNYJUNNA2",
        "outputId": "41edf2fa-79bb-40c3-ac21-c37c0b15415c"
      },
      "source": [
        "eqE1 = Eq( C_P, C_T * u2t / u1 ).subs( u2t, Fr2t1*sqrt(g *h1) )\\\n",
        "            .subs( u1, Fr11*sqrt(g *h1) )\n",
        "eqE1"
      ],
      "execution_count": null,
      "outputs": [
        {
          "output_type": "execute_result",
          "data": {
            "text/latex": "$\\displaystyle C_{P} = \\frac{C_{T} \\mathrm{Fr}_{2t1}}{\\mathrm{Fr}_{11}}$",
            "text/plain": [
              "Eq(C_P, C_T*\\mathrm{Fr}_{2t1}/\\mathrm{Fr}_{11})"
            ]
          },
          "metadata": {
            "tags": []
          },
          "execution_count": 11
        }
      ]
    },
    {
      "cell_type": "markdown",
      "metadata": {
        "id": "CqGZfXE-aZK0"
      },
      "source": [
        "Since $u_{2t}=u_{3t}$ the\n",
        "\n",
        "$$\\mathrm{Fr}_{2t1}=\\mathrm{Fr}_{3t1}$$"
      ]
    },
    {
      "cell_type": "code",
      "metadata": {
        "colab": {
          "base_uri": "https://localhost:8080/",
          "height": 55
        },
        "id": "fXR-jNqDNtfI",
        "outputId": "08d67ff5-874c-48f0-dd4e-577b39d80d7a"
      },
      "source": [
        "eqF1 = Eq( eqA2.rhs-eqC2.rhs, eqB2.rhs-eqC2.lhs ).subs( Fr2t1, Fr3t1 )\n",
        "eqF1 "
      ],
      "execution_count": null,
      "outputs": [
        {
          "output_type": "execute_result",
          "data": {
            "text/latex": "$\\displaystyle \\frac{\\mathrm{Fr}_{4b1}^{2}}{2} - \\frac{\\mathrm{Fr}_{4t1}^{2}}{2} = \\eta_{2t} - \\eta_{3t}$",
            "text/plain": [
              "Eq(\\mathrm{Fr}_{4b1}**2/2 - \\mathrm{Fr}_{4t1}**2/2, \\eta_{2t} - \\eta_{3t})"
            ]
          },
          "metadata": {
            "tags": []
          },
          "execution_count": 12
        }
      ]
    },
    {
      "cell_type": "code",
      "metadata": {
        "colab": {
          "base_uri": "https://localhost:8080/",
          "height": 38
        },
        "id": "7mzwlbgNbP1R",
        "outputId": "43e80ffa-8211-4ddf-fe41-8cded8e67aeb"
      },
      "source": [
        "eqG1 = Eq( eqD3.lhs * 2, eqF1.lhs * 2 )\n",
        "eqG1"
      ],
      "execution_count": null,
      "outputs": [
        {
          "output_type": "execute_result",
          "data": {
            "text/latex": "$\\displaystyle C_{T} \\mathrm{Fr}_{11}^{2} = \\mathrm{Fr}_{4b1}^{2} - \\mathrm{Fr}_{4t1}^{2}$",
            "text/plain": [
              "Eq(C_T*\\mathrm{Fr}_{11}**2, \\mathrm{Fr}_{4b1}**2 - \\mathrm{Fr}_{4t1}**2)"
            ]
          },
          "metadata": {
            "tags": []
          },
          "execution_count": 13
        }
      ]
    },
    {
      "cell_type": "markdown",
      "metadata": {
        "id": "ED6VuDFkwibl"
      },
      "source": [
        "# Mass balance"
      ]
    },
    {
      "cell_type": "code",
      "metadata": {
        "colab": {
          "base_uri": "https://localhost:8080/",
          "height": 38
        },
        "id": "Rv82tY9wcodd",
        "outputId": "7e601cad-b54b-4839-fa3d-c5200339af92"
      },
      "source": [
        "eqH1 = Eq( u4b * h4b + u4t * h4t, u1*h1 )\n",
        "eqH2 = expand( Eq( eqH1.lhs / (h1*sqrt(g*h1)), eqH1.rhs / (h1*sqrt(g*h1)) ) )\\\n",
        "          .subs( h4t/h1, η4t).subs( h4b/h1, η4b).subs( u4t/sqrt(g*h1), Fr4t1)\\\n",
        "          .subs( u4b/sqrt(g*h1), Fr4b1).subs( u1/sqrt(g*h1), Fr11)\n",
        "eqH2"
      ],
      "execution_count": null,
      "outputs": [
        {
          "output_type": "execute_result",
          "data": {
            "text/latex": "$\\displaystyle \\eta_{4b} \\mathrm{Fr}_{4b1} + \\eta_{4t} \\mathrm{Fr}_{4t1} = \\mathrm{Fr}_{11}$",
            "text/plain": [
              "Eq(\\eta_{4b}*\\mathrm{Fr}_{4b1} + \\eta_{4t}*\\mathrm{Fr}_{4t1}, \\mathrm{Fr}_{11})"
            ]
          },
          "metadata": {
            "tags": []
          },
          "execution_count": 14
        }
      ]
    },
    {
      "cell_type": "markdown",
      "metadata": {
        "id": "dh2m4JXLoqxx"
      },
      "source": [
        "# Momentum balance"
      ]
    },
    {
      "cell_type": "markdown",
      "metadata": {
        "id": "wL0iknFMo1u3"
      },
      "source": [
        "Blockage factor  $B=\\dfrac{A_t}{bh_1}\\ \\Rightarrow\\ \\dfrac{A_t}{B} = b h_1$"
      ]
    },
    {
      "cell_type": "code",
      "metadata": {
        "id": "Lb1Giyebo6Af"
      },
      "source": [
        "b, B = symbols( \"b, B\" )"
      ],
      "execution_count": null,
      "outputs": []
    },
    {
      "cell_type": "code",
      "metadata": {
        "colab": {
          "base_uri": "https://localhost:8080/",
          "height": 53
        },
        "id": "mf90DKLa69wd",
        "outputId": "4ce2a806-a9fc-4d08-b97e-5c537bccc351"
      },
      "source": [
        "M4t, M4b, M1, Fp4, Fp1 = symbols( \"M_{4t}, M_{4b}, M_{1}, F_{p4}, F_{p1}\")\n",
        "\n",
        "eqI1 = Eq( M4b + M4t - M1, -(Fp4-Fp1) - T )\n",
        "eqI2 = eqI1.subs( M4b, ρ*u4b**2*h4b*b).subs( M4t, ρ*u4t**2*h4t*b)\\\n",
        "            .subs( M1, ρ*u1**2*h1*b ).subs( Fp1, ρ*g*b*h1**2/2 )\\\n",
        "            .subs( Fp4, ρ*g*b*h4**2/2 ).subs( T, C_T*ρ*u1**2*At/2)\n",
        "eqI2"
      ],
      "execution_count": null,
      "outputs": [
        {
          "output_type": "execute_result",
          "data": {
            "text/latex": "$\\displaystyle - \\rho b h_{1} u_{1}^{2} + \\rho b h_{4b} u_{4b}^{2} + \\rho b h_{4t} u_{4t}^{2} = - \\frac{A_{t} C_{T} \\rho u_{1}^{2}}{2} + \\frac{\\rho b g h_{1}^{2}}{2} - \\frac{\\rho b g h_{4}^{2}}{2}$",
            "text/plain": [
              "Eq(-\\rho*b*h_1*u_1**2 + \\rho*b*h_{4b}*u_{4b}**2 + \\rho*b*h_{4t}*u_{4t}**2, -A_t*C_T*\\rho*u_1**2/2 + \\rho*b*g*h_1**2/2 - \\rho*b*g*h_4**2/2)"
            ]
          },
          "metadata": {
            "tags": []
          },
          "execution_count": 16
        }
      ]
    },
    {
      "cell_type": "code",
      "metadata": {
        "colab": {
          "base_uri": "https://localhost:8080/",
          "height": 55
        },
        "id": "bYrt4jHH9Tpg",
        "outputId": "4702dae1-2a46-4cbd-b716-c8190a497bcd"
      },
      "source": [
        "eqI3 = expand( Eq( eqI2.lhs / ( ρ*g*h1**2*b ), eqI2.rhs / ( ρ*g*h1**2*b ) ) )\n",
        "eqI4 = eqI3.subs( u4t**2/(g*h1), Fr4t1**2).subs( u4b**2/(g*h1), Fr4b1**2)\\\n",
        "          .subs( u1**2/(g*h1), Fr11**2).subs( h4t/h1, η4t)\\\n",
        "          .subs( h4b/h1, η4b).subs( h4/h1, η4).subs( b*h1, At/B)\n",
        "eqI4"
      ],
      "execution_count": null,
      "outputs": [
        {
          "output_type": "execute_result",
          "data": {
            "text/latex": "$\\displaystyle \\eta_{4b} \\mathrm{Fr}_{4b1}^{2} + \\eta_{4t} \\mathrm{Fr}_{4t1}^{2} - \\mathrm{Fr}_{11}^{2} = - \\frac{B C_{T} \\mathrm{Fr}_{11}^{2}}{2} - \\frac{\\eta_{4}^{2}}{2} + \\frac{1}{2}$",
            "text/plain": [
              "Eq(\\eta_{4b}*\\mathrm{Fr}_{4b1}**2 + \\eta_{4t}*\\mathrm{Fr}_{4t1}**2 - \\mathrm{Fr}_{11}**2, -B*C_T*\\mathrm{Fr}_{11}**2/2 - \\eta_4**2/2 + 1/2)"
            ]
          },
          "metadata": {
            "tags": []
          },
          "execution_count": 17
        }
      ]
    },
    {
      "cell_type": "code",
      "metadata": {
        "colab": {
          "base_uri": "https://localhost:8080/",
          "height": 56
        },
        "id": "AExf6ouj_L1n",
        "outputId": "75920a34-fbf3-4c19-c91f-fadb9406a582"
      },
      "source": [
        "eqI5 = eqI4.subs( C_T*Fr11**2, Fr4b1**2-Fr4t1**2)\n",
        "eqI5"
      ],
      "execution_count": null,
      "outputs": [
        {
          "output_type": "execute_result",
          "data": {
            "text/latex": "$\\displaystyle \\eta_{4b} \\mathrm{Fr}_{4b1}^{2} + \\eta_{4t} \\mathrm{Fr}_{4t1}^{2} - \\mathrm{Fr}_{11}^{2} = - \\frac{B \\left(\\mathrm{Fr}_{4b1}^{2} - \\mathrm{Fr}_{4t1}^{2}\\right)}{2} - \\frac{\\eta_{4}^{2}}{2} + \\frac{1}{2}$",
            "text/plain": [
              "Eq(\\eta_{4b}*\\mathrm{Fr}_{4b1}**2 + \\eta_{4t}*\\mathrm{Fr}_{4t1}**2 - \\mathrm{Fr}_{11}**2, -B*(\\mathrm{Fr}_{4b1}**2 - \\mathrm{Fr}_{4t1}**2)/2 - \\eta_4**2/2 + 1/2)"
            ]
          },
          "metadata": {
            "tags": []
          },
          "execution_count": 18
        }
      ]
    },
    {
      "cell_type": "markdown",
      "metadata": {
        "id": "Qf5ZZ9xcDZvC"
      },
      "source": [
        "Specifying:\n",
        "\n",
        "* Blockage factor $0 \\le B \\lt 1$\n",
        "* Upstream Froude number $\\mathrm{Fr}_1$\n",
        "* Bypass Froude number $\\mathrm{Fr}_{4b}$"
      ]
    },
    {
      "cell_type": "code",
      "metadata": {
        "colab": {
          "base_uri": "https://localhost:8080/",
          "height": 55
        },
        "id": "BG-to7QfCGo1",
        "outputId": "f8580627-ac3a-488e-b50b-073633e31edf"
      },
      "source": [
        "solη4 = solve( eqA2, η4 )\n",
        "solη4[0]"
      ],
      "execution_count": null,
      "outputs": [
        {
          "output_type": "execute_result",
          "data": {
            "text/latex": "$\\displaystyle \\frac{\\mathrm{Fr}_{11}^{2}}{2} - \\frac{\\mathrm{Fr}_{4b1}^{2}}{2} + 1$",
            "text/plain": [
              "\\mathrm{Fr}_{11}**2/2 - \\mathrm{Fr}_{4b1}**2/2 + 1"
            ]
          },
          "metadata": {
            "tags": []
          },
          "execution_count": 19
        }
      ]
    },
    {
      "cell_type": "code",
      "metadata": {
        "colab": {
          "base_uri": "https://localhost:8080/",
          "height": 38
        },
        "id": "pB_qL7WLGydk",
        "outputId": "38099723-d952-4fb4-d168-474d05d9db61"
      },
      "source": [
        "eqJ1 = Eq( η4, η4b+η4t )\n",
        "eqJ1"
      ],
      "execution_count": null,
      "outputs": [
        {
          "output_type": "execute_result",
          "data": {
            "text/latex": "$\\displaystyle \\eta_{4} = \\eta_{4b} + \\eta_{4t}$",
            "text/plain": [
              "Eq(\\eta_4, \\eta_{4b} + \\eta_{4t})"
            ]
          },
          "metadata": {
            "tags": []
          },
          "execution_count": 20
        }
      ]
    },
    {
      "cell_type": "code",
      "metadata": {
        "colab": {
          "base_uri": "https://localhost:8080/",
          "height": 56
        },
        "id": "qjRGEZGEEBzp",
        "outputId": "15b346db-9b4d-4531-eb3d-afad2a4c15d1"
      },
      "source": [
        "eqI5"
      ],
      "execution_count": null,
      "outputs": [
        {
          "output_type": "execute_result",
          "data": {
            "text/latex": "$\\displaystyle \\eta_{4b} \\mathrm{Fr}_{4b1}^{2} + \\eta_{4t} \\mathrm{Fr}_{4t1}^{2} - \\mathrm{Fr}_{11}^{2} = - \\frac{B \\left(\\mathrm{Fr}_{4b1}^{2} - \\mathrm{Fr}_{4t1}^{2}\\right)}{2} - \\frac{\\eta_{4}^{2}}{2} + \\frac{1}{2}$",
            "text/plain": [
              "Eq(\\eta_{4b}*\\mathrm{Fr}_{4b1}**2 + \\eta_{4t}*\\mathrm{Fr}_{4t1}**2 - \\mathrm{Fr}_{11}**2, -B*(\\mathrm{Fr}_{4b1}**2 - \\mathrm{Fr}_{4t1}**2)/2 - \\eta_4**2/2 + 1/2)"
            ]
          },
          "metadata": {
            "tags": []
          },
          "execution_count": 21
        }
      ]
    },
    {
      "cell_type": "code",
      "metadata": {
        "colab": {
          "base_uri": "https://localhost:8080/",
          "height": 38
        },
        "id": "3MqlS8ZKHRsJ",
        "outputId": "25ea42d5-6872-4146-8b71-bcaaf4752303"
      },
      "source": [
        "eqH2"
      ],
      "execution_count": null,
      "outputs": [
        {
          "output_type": "execute_result",
          "data": {
            "text/latex": "$\\displaystyle \\eta_{4b} \\mathrm{Fr}_{4b1} + \\eta_{4t} \\mathrm{Fr}_{4t1} = \\mathrm{Fr}_{11}$",
            "text/plain": [
              "Eq(\\eta_{4b}*\\mathrm{Fr}_{4b1} + \\eta_{4t}*\\mathrm{Fr}_{4t1}, \\mathrm{Fr}_{11})"
            ]
          },
          "metadata": {
            "tags": []
          },
          "execution_count": 22
        }
      ]
    },
    {
      "cell_type": "code",
      "metadata": {
        "colab": {
          "base_uri": "https://localhost:8080/",
          "height": 38
        },
        "id": "OlmByzuiHfgq",
        "outputId": "61bebb00-98d4-4c54-a882-05bc33b30858"
      },
      "source": [
        "eqJ1"
      ],
      "execution_count": null,
      "outputs": [
        {
          "output_type": "execute_result",
          "data": {
            "text/latex": "$\\displaystyle \\eta_{4} = \\eta_{4b} + \\eta_{4t}$",
            "text/plain": [
              "Eq(\\eta_4, \\eta_{4b} + \\eta_{4t})"
            ]
          },
          "metadata": {
            "tags": []
          },
          "execution_count": 23
        }
      ]
    },
    {
      "cell_type": "code",
      "metadata": {
        "id": "Um8bFmc_HiV8"
      },
      "source": [
        "solFr4t1 = solve( [ eqI5, eqH2, eqJ1 ], [Fr4t1,η4b,η4t])"
      ],
      "execution_count": null,
      "outputs": []
    },
    {
      "cell_type": "code",
      "metadata": {
        "colab": {
          "base_uri": "https://localhost:8080/",
          "height": 38
        },
        "id": "PYP2inGAf-pu",
        "outputId": "121b761a-029b-47f2-9ea4-9392caadb5a4"
      },
      "source": [
        "C1 = symbols(\"C_1\")\n",
        "SC1 = Fr11 - η4 * Fr4b1\n",
        "SC1"
      ],
      "execution_count": null,
      "outputs": [
        {
          "output_type": "execute_result",
          "data": {
            "text/latex": "$\\displaystyle - \\eta_{4} \\mathrm{Fr}_{4b1} + \\mathrm{Fr}_{11}$",
            "text/plain": [
              "-\\eta_4*\\mathrm{Fr}_{4b1} + \\mathrm{Fr}_{11}"
            ]
          },
          "metadata": {
            "tags": []
          },
          "execution_count": 25
        }
      ]
    },
    {
      "cell_type": "code",
      "metadata": {
        "colab": {
          "base_uri": "https://localhost:8080/",
          "height": 38
        },
        "id": "3xwoFwvWlmsy",
        "outputId": "14aa1f20-bafc-488e-c34d-99173ed221db"
      },
      "source": [
        "C2 = symbols(\"C_2\")\n",
        "SC2 = B**2 * Fr4b1**2 + B*(η4**2+2*Fr11*(-Fr11+Fr4b1)-1)+C1**2\n",
        "SC2"
      ],
      "execution_count": null,
      "outputs": [
        {
          "output_type": "execute_result",
          "data": {
            "text/latex": "$\\displaystyle B^{2} \\mathrm{Fr}_{4b1}^{2} + B \\left(\\eta_{4}^{2} + 2 \\mathrm{Fr}_{11} \\left(- \\mathrm{Fr}_{11} + \\mathrm{Fr}_{4b1}\\right) - 1\\right) + C_{1}^{2}$",
            "text/plain": [
              "B**2*\\mathrm{Fr}_{4b1}**2 + B*(\\eta_4**2 + 2*\\mathrm{Fr}_{11}*(-\\mathrm{Fr}_{11} + \\mathrm{Fr}_{4b1}) - 1) + C_1**2"
            ]
          },
          "metadata": {
            "tags": []
          },
          "execution_count": 26
        }
      ]
    },
    {
      "cell_type": "code",
      "metadata": {
        "colab": {
          "base_uri": "https://localhost:8080/",
          "height": 54
        },
        "id": "u2jMMO0aKYwZ",
        "outputId": "60b62f2f-8ade-4074-a100-3e00a64b8882"
      },
      "source": [
        "collect(collect(solFr4t1[0][0],2*B*Fr11).subs(SC1,C1)\\\n",
        "          .subs(expand(SC1**2),C1**2),B).subs(SC2,C2)"
      ],
      "execution_count": null,
      "outputs": [
        {
          "output_type": "execute_result",
          "data": {
            "text/latex": "$\\displaystyle \\frac{C_{1} - \\sqrt{C_{2}}}{B}$",
            "text/plain": [
              "(C_1 - sqrt(C_2))/B"
            ]
          },
          "metadata": {
            "tags": []
          },
          "execution_count": 27
        }
      ]
    },
    {
      "cell_type": "code",
      "metadata": {
        "colab": {
          "base_uri": "https://localhost:8080/",
          "height": 54
        },
        "id": "hweJbZDbb8Mg",
        "outputId": "7d6f00e2-70c9-4b38-9e72-1280bfb61ebb"
      },
      "source": [
        "collect(collect(solFr4t1[1][0],2*B*Fr11).subs(SC1,C1)\\\n",
        "          .subs(expand(SC1**2),C1**2),B).subs(SC2,C2)"
      ],
      "execution_count": null,
      "outputs": [
        {
          "output_type": "execute_result",
          "data": {
            "text/latex": "$\\displaystyle \\frac{C_{1} + \\sqrt{C_{2}}}{B}$",
            "text/plain": [
              "(C_1 + sqrt(C_2))/B"
            ]
          },
          "metadata": {
            "tags": []
          },
          "execution_count": 28
        }
      ]
    },
    {
      "cell_type": "code",
      "metadata": {
        "colab": {
          "base_uri": "https://localhost:8080/",
          "height": 57
        },
        "id": "u3j5c_Doe87Z",
        "outputId": "a88564d6-69d9-4f2b-fc01-a3310348fe29"
      },
      "source": [
        "simplify(solve( [ eqH2, eqJ1 ], [η4b,η4t]))"
      ],
      "execution_count": null,
      "outputs": [
        {
          "output_type": "execute_result",
          "data": {
            "text/latex": "$\\displaystyle \\left\\{ \\eta_{4b} : \\frac{- \\eta_{4} \\mathrm{Fr}_{4t1} + \\mathrm{Fr}_{11}}{\\mathrm{Fr}_{4b1} - \\mathrm{Fr}_{4t1}}, \\  \\eta_{4t} : \\frac{\\eta_{4} \\mathrm{Fr}_{4b1} - \\mathrm{Fr}_{11}}{\\mathrm{Fr}_{4b1} - \\mathrm{Fr}_{4t1}}\\right\\}$",
            "text/plain": [
              "{\\eta_{4b}: (-\\eta_4*\\mathrm{Fr}_{4t1} + \\mathrm{Fr}_{11})/(\\mathrm{Fr}_{4b1} - \\mathrm{Fr}_{4t1}), \\eta_{4t}: (\\eta_4*\\mathrm{Fr}_{4b1} - \\mathrm{Fr}_{11})/(\\mathrm{Fr}_{4b1} - \\mathrm{Fr}_{4t1})}"
            ]
          },
          "metadata": {
            "tags": []
          },
          "execution_count": 29
        }
      ]
    },
    {
      "cell_type": "markdown",
      "metadata": {
        "id": "zSPiASXUJ4fZ"
      },
      "source": [
        "# Selecting the solution with physical meaning\n",
        "\n",
        "Let us show that $C_1$ is always negative which implies that the solution \n",
        "\n",
        "$$\\mathrm{Fr}_{4t1}=\\dfrac{C_1-\\sqrt{C_2}}{B}, \\tag{1}$$ \n",
        "\n",
        "is always invalid.\n",
        "\n",
        "From the mass balance we get\n",
        "\n",
        "$$ u_1 h_1 = u_{4b} h_{4b} + u_{4t} h_{4t}.$$\n",
        "\n",
        "Since $u_{4t} < u_{4b}$ we found that\n",
        "\n",
        "$$ u_1 h_1 = u_{4b} h_{4b} + u_{4t} h_{4t} \\lt u_{4b} h_4.$$\n",
        "\n",
        "Divinding by $\\sqrt{gh_1} h_1$ results\n",
        "\n",
        "$$ \\dfrac{u_1}{\\sqrt{g h_1}} - \\dfrac{u_{4b}}{\\sqrt{g h_1}} \\dfrac{h_4}{h_1} \\lt 0,$$\n",
        "\n",
        "giving \n",
        "\n",
        "$$\\mathrm{Fr}_{11} - \\mathrm{Fr}_{4b1} \\eta_{4} \\lt 0,$$ \n",
        "\n",
        "or equivalently\n",
        "\n",
        "$$C_1 \\lt 0.$$ \n",
        "\n",
        "This implies that the solution given by Eq. (1) is always negative\n",
        "\n",
        "$$\\mathrm{Fr}_{4t1} \\lt 0.$$ "
      ]
    },
    {
      "cell_type": "code",
      "metadata": {
        "id": "9qBVjdFAKWui"
      },
      "source": [
        ""
      ],
      "execution_count": null,
      "outputs": []
    }
  ]
}