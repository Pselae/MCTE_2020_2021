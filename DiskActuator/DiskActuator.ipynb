{
  "nbformat": 4,
  "nbformat_minor": 0,
  "metadata": {
    "colab": {
      "name": "DiskActuator.ipynb",
      "provenance": [],
      "include_colab_link": true
    },
    "kernelspec": {
      "name": "python3",
      "display_name": "Python 3"
    },
    "language_info": {
      "name": "python"
    }
  },
  "cells": [
    {
      "cell_type": "markdown",
      "metadata": {
        "id": "view-in-github",
        "colab_type": "text"
      },
      "source": [
        "<a href=\"https://colab.research.google.com/github/joaochenriques/MCTE_2020_2021/blob/main/DiskActuator/DiskActuator.ipynb\" target=\"_parent\"><img src=\"https://colab.research.google.com/assets/colab-badge.svg\" alt=\"Open In Colab\"/></a>"
      ]
    },
    {
      "cell_type": "code",
      "metadata": {
        "id": "BmAkVzVmeipL"
      },
      "source": [
        "from sympy import *"
      ],
      "execution_count": 1,
      "outputs": []
    },
    {
      "cell_type": "code",
      "metadata": {
        "id": "XKLQk-_egk-f"
      },
      "source": [
        "h1, h2t, h3t, h4, h4t, h4b = symbols( r\"h_1, h_\\mathrm{2t}, h_\\mathrm{3t}, h_4, h_\\mathrm{4t}, h_\\mathrm{4b}\" )"
      ],
      "execution_count": 2,
      "outputs": []
    },
    {
      "cell_type": "code",
      "metadata": {
        "id": "DwHmqFqWhihr"
      },
      "source": [
        "u1, u2t, u3t, u4b, u4t = symbols( r\"u_1, u_\\mathrm{2t}, u_\\mathrm{3t}, u_\\mathrm{4b}, u_\\mathrm{4t}\" )"
      ],
      "execution_count": 3,
      "outputs": []
    },
    {
      "cell_type": "markdown",
      "metadata": {
        "id": "tZUEU50ahL-r"
      },
      "source": [
        "The dimensionless depth $\\zeta_i$ is defined has\n",
        "\n",
        "$$\\zeta_i=\\dfrac{h_i}{h_1}.$$"
      ]
    },
    {
      "cell_type": "code",
      "metadata": {
        "id": "q-PTIecNnqxa"
      },
      "source": [
        "ζ1, ζ2t, ζ3t, ζ4, ζ4t, ζ4b = symbols( r\"\\zeta_1, \\zeta_\\mathrm{2t}, \\zeta_\\mathrm{3t}, \\zeta_4, \\zeta_\\mathrm{4t}, \\zeta_\\mathrm{4b}\")"
      ],
      "execution_count": 4,
      "outputs": []
    },
    {
      "cell_type": "markdown",
      "metadata": {
        "id": "4QSX6BHrgeAh"
      },
      "source": [
        "Froude numbers are based on the depth of the undisturbed flow $h_1$, i.e.,\n",
        "\n",
        "$$\\mathrm{Fr}_{u_i}=\\dfrac{u_i}{\\sqrt{gh_1}}.$$"
      ]
    },
    {
      "cell_type": "code",
      "metadata": {
        "id": "5uO0Dv8cmlUN"
      },
      "source": [
        "Fr1 = symbols( r\"\\mathrm{Fr}_{1}\")\n",
        "Fr2t, Fr3t = symbols( r\"\\mathrm{Fr}_\\mathrm{2t}, \\mathrm{Fr}_\\mathrm{3t}\")\n",
        "Fr4b, Fr4t = symbols( r\"\\mathrm{Fr}_\\mathrm{4b}, \\mathrm{Fr}_\\mathrm{4t}\")"
      ],
      "execution_count": 5,
      "outputs": []
    },
    {
      "cell_type": "code",
      "metadata": {
        "id": "9Xfv1EsAvVLg"
      },
      "source": [
        "ρ, g, T, At, C_T, C_P = symbols( r\"\\rho, g, T, A_\\mathrm{t}, C_\\mathrm{T}, C_\\mathrm{P}\" )"
      ],
      "execution_count": 6,
      "outputs": []
    },
    {
      "cell_type": "markdown",
      "metadata": {
        "id": "VnMCLPv_o-OP"
      },
      "source": [
        "Generic definitions used in substitutions"
      ]
    },
    {
      "cell_type": "code",
      "metadata": {
        "id": "frtwFIbzlfIz"
      },
      "source": [
        "zetas = { h2t/h1: ζ2t, h3t/h1: ζ3t, h4/h1: ζ4, h4t/h1: ζ4t, h4b/h1: ζ4b }\n",
        "\n",
        "Froudes = { ( u1  / sqrt(g*h1) ): Fr1,\n",
        "            ( u4t / sqrt(g*h1) ): Fr4t, \n",
        "            ( u4b / sqrt(g*h1) ): Fr4b }\n",
        "\n",
        "Sqr_Froudes = { ( u1 **2 / (g*h1) ): Fr1 **2, \n",
        "                ( u2t**2 / (g*h1) ): Fr2t**2,\n",
        "                ( u3t**2 / (g*h1) ): Fr3t**2,\n",
        "                ( u4b**2 / (g*h1) ): Fr4b**2,\n",
        "                ( u4t**2 / (g*h1) ): Fr4t**2 }"
      ],
      "execution_count": 7,
      "outputs": []
    },
    {
      "cell_type": "markdown",
      "metadata": {
        "id": "PbcO62IIoPFs"
      },
      "source": [
        "# Bernoulli equations \n",
        "\n",
        "<img src=\"https://raw.githubusercontent.com/joaochenriques/MCTE_2020_2021/main/DiskActuator/figs/domain_V2.svg\" width=\"500px\" style=\"display:inline\">"
      ]
    },
    {
      "cell_type": "code",
      "metadata": {
        "id": "eVIEUqJbkjrn",
        "colab": {
          "base_uri": "https://localhost:8080/",
          "height": 57
        },
        "outputId": "5d507d60-e968-403e-b365-3538ae59db6d"
      },
      "source": [
        "eqA1 = Eq( h1 + u1**2/(2*g), h4 + u4b**2/(2*g) )\n",
        "eqA1"
      ],
      "execution_count": 8,
      "outputs": [
        {
          "output_type": "execute_result",
          "data": {
            "text/latex": "$\\displaystyle h_{1} + \\frac{u_{1}^{2}}{2 g} = h_{4} + \\frac{u_\\mathrm{4b}^{2}}{2 g}$",
            "text/plain": [
              "Eq(h_1 + u_1**2/(2*g), h_4 + u_\\mathrm{4b}**2/(2*g))"
            ]
          },
          "metadata": {
            "tags": []
          },
          "execution_count": 8
        }
      ]
    },
    {
      "cell_type": "code",
      "metadata": {
        "colab": {
          "base_uri": "https://localhost:8080/",
          "height": 55
        },
        "id": "nw_aIxVBhz4C",
        "outputId": "c3181562-6f80-477e-f020-d7971687cd92"
      },
      "source": [
        "eqA2 = expand(Eq( eqA1.lhs / h1, eqA1.rhs / h1  ) )\\\n",
        "          .subs( zetas )\\\n",
        "          .subs( Sqr_Froudes )\n",
        "eqA2"
      ],
      "execution_count": 9,
      "outputs": [
        {
          "output_type": "execute_result",
          "data": {
            "text/latex": "$\\displaystyle \\frac{\\mathrm{Fr}_{1}^{2}}{2} + 1 = \\frac{\\mathrm{Fr}_\\mathrm{4b}^{2}}{2} + \\zeta_{4}$",
            "text/plain": [
              "Eq(\\mathrm{Fr}_{1}**2/2 + 1, \\mathrm{Fr}_\\mathrm{4b}**2/2 + \\zeta_4)"
            ]
          },
          "metadata": {
            "tags": []
          },
          "execution_count": 9
        }
      ]
    },
    {
      "cell_type": "code",
      "metadata": {
        "id": "CtOFm53Kkw62",
        "colab": {
          "base_uri": "https://localhost:8080/",
          "height": 57
        },
        "outputId": "b53acd12-1fea-474f-9c7a-b577fce299b6"
      },
      "source": [
        "eqB1 = Eq( h1 + u1**2/(2*g), h2t + u2t**2/(2*g) )\n",
        "eqB1"
      ],
      "execution_count": 10,
      "outputs": [
        {
          "output_type": "execute_result",
          "data": {
            "text/latex": "$\\displaystyle h_{1} + \\frac{u_{1}^{2}}{2 g} = h_\\mathrm{2t} + \\frac{u_\\mathrm{2t}^{2}}{2 g}$",
            "text/plain": [
              "Eq(h_1 + u_1**2/(2*g), h_\\mathrm{2t} + u_\\mathrm{2t}**2/(2*g))"
            ]
          },
          "metadata": {
            "tags": []
          },
          "execution_count": 10
        }
      ]
    },
    {
      "cell_type": "code",
      "metadata": {
        "id": "BLZhgtwklESG",
        "colab": {
          "base_uri": "https://localhost:8080/",
          "height": 55
        },
        "outputId": "db24f3d1-481f-4f9b-b46f-8cd58e69402e"
      },
      "source": [
        "eqB2 = expand(Eq( eqB1.lhs / h1, eqB1.rhs / h1  ) )\\\n",
        "          .subs( zetas )\\\n",
        "          .subs( Sqr_Froudes )\n",
        "eqB2"
      ],
      "execution_count": 11,
      "outputs": [
        {
          "output_type": "execute_result",
          "data": {
            "text/latex": "$\\displaystyle \\frac{\\mathrm{Fr}_{1}^{2}}{2} + 1 = \\frac{\\mathrm{Fr}_\\mathrm{2t}^{2}}{2} + \\zeta_\\mathrm{2t}$",
            "text/plain": [
              "Eq(\\mathrm{Fr}_{1}**2/2 + 1, \\mathrm{Fr}_\\mathrm{2t}**2/2 + \\zeta_\\mathrm{2t})"
            ]
          },
          "metadata": {
            "tags": []
          },
          "execution_count": 11
        }
      ]
    },
    {
      "cell_type": "code",
      "metadata": {
        "id": "nCgu5IFZk26N",
        "colab": {
          "base_uri": "https://localhost:8080/",
          "height": 57
        },
        "outputId": "168d5b2c-d744-4023-868d-84964ddf7b34"
      },
      "source": [
        "eqC1 = Eq( h3t + u3t**2/(2*g), h4 + u4t**2/(2*g) )\n",
        "eqC1"
      ],
      "execution_count": 12,
      "outputs": [
        {
          "output_type": "execute_result",
          "data": {
            "text/latex": "$\\displaystyle h_\\mathrm{3t} + \\frac{u_\\mathrm{3t}^{2}}{2 g} = h_{4} + \\frac{u_\\mathrm{4t}^{2}}{2 g}$",
            "text/plain": [
              "Eq(h_\\mathrm{3t} + u_\\mathrm{3t}**2/(2*g), h_4 + u_\\mathrm{4t}**2/(2*g))"
            ]
          },
          "metadata": {
            "tags": []
          },
          "execution_count": 12
        }
      ]
    },
    {
      "cell_type": "code",
      "metadata": {
        "colab": {
          "base_uri": "https://localhost:8080/",
          "height": 55
        },
        "id": "KFAswnKO6bno",
        "outputId": "3b70d0f3-f299-48ae-a2d5-93a80ad53816"
      },
      "source": [
        "eqC2 = expand(Eq( eqC1.lhs / h1, eqC1.rhs / h1  ) )\\\n",
        "          .subs( zetas )\\\n",
        "          .subs( Sqr_Froudes )\n",
        "eqC2"
      ],
      "execution_count": 13,
      "outputs": [
        {
          "output_type": "execute_result",
          "data": {
            "text/latex": "$\\displaystyle \\frac{\\mathrm{Fr}_\\mathrm{3t}^{2}}{2} + \\zeta_\\mathrm{3t} = \\frac{\\mathrm{Fr}_\\mathrm{4t}^{2}}{2} + \\zeta_{4}$",
            "text/plain": [
              "Eq(\\mathrm{Fr}_\\mathrm{3t}**2/2 + \\zeta_\\mathrm{3t}, \\mathrm{Fr}_\\mathrm{4t}**2/2 + \\zeta_4)"
            ]
          },
          "metadata": {
            "tags": []
          },
          "execution_count": 13
        }
      ]
    },
    {
      "cell_type": "markdown",
      "metadata": {
        "id": "xQEdKu1Owra8"
      },
      "source": [
        "# Force on the turbine\n",
        "\n",
        "<img src=\"https://raw.githubusercontent.com/joaochenriques/MCTE_2020_2021/main/DiskActuator/figs/Turbine.svg\" width=\"200px\" style=\"display:inline\">"
      ]
    },
    {
      "cell_type": "code",
      "metadata": {
        "id": "oYkbo3Udk8dd",
        "colab": {
          "base_uri": "https://localhost:8080/",
          "height": 38
        },
        "outputId": "b08db987-5cac-4bdc-da62-c58d244cbba7"
      },
      "source": [
        "eqD1 = Eq( T, ρ*g*(h2t-h3t)*At )\n",
        "eqD1"
      ],
      "execution_count": 14,
      "outputs": [
        {
          "output_type": "execute_result",
          "data": {
            "text/latex": "$\\displaystyle T = A_\\mathrm{t} \\rho g \\left(h_\\mathrm{2t} - h_\\mathrm{3t}\\right)$",
            "text/plain": [
              "Eq(T, A_\\mathrm{t}*\\rho*g*(h_\\mathrm{2t} - h_\\mathrm{3t}))"
            ]
          },
          "metadata": {
            "tags": []
          },
          "execution_count": 14
        }
      ]
    },
    {
      "cell_type": "code",
      "metadata": {
        "id": "06vuDtdilvXm",
        "colab": {
          "base_uri": "https://localhost:8080/",
          "height": 55
        },
        "outputId": "7e239896-c285-4fc6-aa93-7a86cf5d54b7"
      },
      "source": [
        "eqD2 = expand( Eq( eqD1.lhs / ( ρ*g*At*h1 ), eqD1.rhs / ( ρ*g*At*h1 ) ) ).subs( zetas )\n",
        "eqD3 = eqD2.subs( T, ρ*u1**2*At/2 * C_T )\n",
        "eqD4 = eqD3.subs( Sqr_Froudes )\n",
        "eqD4"
      ],
      "execution_count": 15,
      "outputs": [
        {
          "output_type": "execute_result",
          "data": {
            "text/latex": "$\\displaystyle \\frac{C_\\mathrm{T} \\mathrm{Fr}_{1}^{2}}{2} = \\zeta_\\mathrm{2t} - \\zeta_\\mathrm{3t}$",
            "text/plain": [
              "Eq(C_\\mathrm{T}*\\mathrm{Fr}_{1}**2/2, \\zeta_\\mathrm{2t} - \\zeta_\\mathrm{3t})"
            ]
          },
          "metadata": {
            "tags": []
          },
          "execution_count": 15
        }
      ]
    },
    {
      "cell_type": "code",
      "metadata": {
        "colab": {
          "base_uri": "https://localhost:8080/",
          "height": 54
        },
        "id": "hPtYNYJUNNA2",
        "outputId": "ae83c268-63f8-4c1d-cfeb-dfe4a3f2316e"
      },
      "source": [
        "eqE1 = Eq( C_P, C_T * u2t / u1 ).subs( u2t/u1, Fr2t/Fr1 )\n",
        "eqE1"
      ],
      "execution_count": 16,
      "outputs": [
        {
          "output_type": "execute_result",
          "data": {
            "text/latex": "$\\displaystyle C_\\mathrm{P} = \\frac{C_\\mathrm{T} \\mathrm{Fr}_\\mathrm{2t}}{\\mathrm{Fr}_{1}}$",
            "text/plain": [
              "Eq(C_\\mathrm{P}, C_\\mathrm{T}*\\mathrm{Fr}_\\mathrm{2t}/\\mathrm{Fr}_{1})"
            ]
          },
          "metadata": {
            "tags": []
          },
          "execution_count": 16
        }
      ]
    },
    {
      "cell_type": "markdown",
      "metadata": {
        "id": "CqGZfXE-aZK0"
      },
      "source": [
        "Since $u_\\mathrm{2t}=u_\\mathrm{3t}$ the\n",
        "\n",
        "$$\\mathrm{Fr}_\\mathrm{2t}=\\mathrm{Fr}_\\mathrm{3t}$$"
      ]
    },
    {
      "cell_type": "code",
      "metadata": {
        "colab": {
          "base_uri": "https://localhost:8080/",
          "height": 55
        },
        "id": "fXR-jNqDNtfI",
        "outputId": "52954439-5a37-4526-e180-c5f29c49be53"
      },
      "source": [
        "eqF1 = Eq( eqA2.rhs - eqC2.rhs, eqB2.rhs - eqC2.lhs ).subs( Fr2t, Fr3t )\n",
        "eqF1 "
      ],
      "execution_count": 17,
      "outputs": [
        {
          "output_type": "execute_result",
          "data": {
            "text/latex": "$\\displaystyle \\frac{\\mathrm{Fr}_\\mathrm{4b}^{2}}{2} - \\frac{\\mathrm{Fr}_\\mathrm{4t}^{2}}{2} = \\zeta_\\mathrm{2t} - \\zeta_\\mathrm{3t}$",
            "text/plain": [
              "Eq(\\mathrm{Fr}_\\mathrm{4b}**2/2 - \\mathrm{Fr}_\\mathrm{4t}**2/2, \\zeta_\\mathrm{2t} - \\zeta_\\mathrm{3t})"
            ]
          },
          "metadata": {
            "tags": []
          },
          "execution_count": 17
        }
      ]
    },
    {
      "cell_type": "code",
      "metadata": {
        "colab": {
          "base_uri": "https://localhost:8080/",
          "height": 38
        },
        "id": "7mzwlbgNbP1R",
        "outputId": "1bcd1e1b-d33c-41fe-f3f2-e2a2d1da0169"
      },
      "source": [
        "eqG1 = Eq( eqD4.lhs * 2, eqF1.lhs * 2 )\n",
        "eqG1"
      ],
      "execution_count": 18,
      "outputs": [
        {
          "output_type": "execute_result",
          "data": {
            "text/latex": "$\\displaystyle C_\\mathrm{T} \\mathrm{Fr}_{1}^{2} = \\mathrm{Fr}_\\mathrm{4b}^{2} - \\mathrm{Fr}_\\mathrm{4t}^{2}$",
            "text/plain": [
              "Eq(C_\\mathrm{T}*\\mathrm{Fr}_{1}**2, \\mathrm{Fr}_\\mathrm{4b}**2 - \\mathrm{Fr}_\\mathrm{4t}**2)"
            ]
          },
          "metadata": {
            "tags": []
          },
          "execution_count": 18
        }
      ]
    },
    {
      "cell_type": "markdown",
      "metadata": {
        "id": "ED6VuDFkwibl"
      },
      "source": [
        "# Mass balance"
      ]
    },
    {
      "cell_type": "code",
      "metadata": {
        "colab": {
          "base_uri": "https://localhost:8080/",
          "height": 38
        },
        "id": "YeLktTPENkkH",
        "outputId": "f5b8775b-cd49-4084-8029-e170209c8d5e"
      },
      "source": [
        "eqH1 = Eq( u4b * h4b + u4t * h4t, u1*h1 )\n",
        "eqH1"
      ],
      "execution_count": 19,
      "outputs": [
        {
          "output_type": "execute_result",
          "data": {
            "text/latex": "$\\displaystyle h_\\mathrm{4b} u_\\mathrm{4b} + h_\\mathrm{4t} u_\\mathrm{4t} = h_{1} u_{1}$",
            "text/plain": [
              "Eq(h_\\mathrm{4b}*u_\\mathrm{4b} + h_\\mathrm{4t}*u_\\mathrm{4t}, h_1*u_1)"
            ]
          },
          "metadata": {
            "tags": []
          },
          "execution_count": 19
        }
      ]
    },
    {
      "cell_type": "code",
      "metadata": {
        "colab": {
          "base_uri": "https://localhost:8080/",
          "height": 38
        },
        "id": "Rv82tY9wcodd",
        "outputId": "9527840a-8733-4a29-f83a-cdca72ebd747"
      },
      "source": [
        "eqH2 = expand( Eq( eqH1.lhs / ( h1*sqrt(g*h1) ), eqH1.rhs / ( h1*sqrt(g*h1) ) ) )\\\n",
        "          .subs( zetas )\\\n",
        "          .subs( Froudes )\n",
        "eqH2"
      ],
      "execution_count": 20,
      "outputs": [
        {
          "output_type": "execute_result",
          "data": {
            "text/latex": "$\\displaystyle \\mathrm{Fr}_\\mathrm{4b} \\zeta_\\mathrm{4b} + \\mathrm{Fr}_\\mathrm{4t} \\zeta_\\mathrm{4t} = \\mathrm{Fr}_{1}$",
            "text/plain": [
              "Eq(\\mathrm{Fr}_\\mathrm{4b}*\\zeta_\\mathrm{4b} + \\mathrm{Fr}_\\mathrm{4t}*\\zeta_\\mathrm{4t}, \\mathrm{Fr}_{1})"
            ]
          },
          "metadata": {
            "tags": []
          },
          "execution_count": 20
        }
      ]
    },
    {
      "cell_type": "markdown",
      "metadata": {
        "id": "dh2m4JXLoqxx"
      },
      "source": [
        "# Momentum balance"
      ]
    },
    {
      "cell_type": "code",
      "metadata": {
        "id": "Lb1Giyebo6Af"
      },
      "source": [
        "b, B = symbols( \"b, B\" )\n",
        "M4t, M4b, M1, Fp4, Fp1 = symbols( \"M_\\mathrm{4t}, M_\\mathrm{4b}, M_{1}, F_\\mathrm{p4}, F_\\mathrm{p1}\")"
      ],
      "execution_count": 21,
      "outputs": []
    },
    {
      "cell_type": "code",
      "metadata": {
        "colab": {
          "base_uri": "https://localhost:8080/",
          "height": 38
        },
        "id": "RKX8dqxHNvp3",
        "outputId": "d168a52a-c63a-44e3-aab3-dcecf4d97d15"
      },
      "source": [
        "eqI1 = Eq( M4b + M4t - M1, -(Fp4-Fp1) - T )\n",
        "eqI1"
      ],
      "execution_count": 22,
      "outputs": [
        {
          "output_type": "execute_result",
          "data": {
            "text/latex": "$\\displaystyle M_\\mathrm{4b} + M_\\mathrm{4t} - M_{1} = F_\\mathrm{p1} - F_\\mathrm{p4} - T$",
            "text/plain": [
              "Eq(M_\\mathrm{4b} + M_\\mathrm{4t} - M_{1}, F_\\mathrm{p1} - F_\\mathrm{p4} - T)"
            ]
          },
          "metadata": {
            "tags": []
          },
          "execution_count": 22
        }
      ]
    },
    {
      "cell_type": "code",
      "metadata": {
        "colab": {
          "base_uri": "https://localhost:8080/",
          "height": 54
        },
        "id": "mf90DKLa69wd",
        "outputId": "9e34c5b9-0823-4988-fc4a-c22087a60395"
      },
      "source": [
        "eqI2 = eqI1.subs( M4b, ρ*u4b**2*h4b*b).subs( M4t, ρ*u4t**2*h4t*b)\\\n",
        "          .subs( M1, ρ*u1**2*h1*b ).subs( Fp1, ρ*g*b*h1**2/2 )\\\n",
        "          .subs( Fp4, ρ*g*b*h4**2/2 ).subs( T, C_T*ρ*u1**2*At/2)\n",
        "eqI2"
      ],
      "execution_count": 23,
      "outputs": [
        {
          "output_type": "execute_result",
          "data": {
            "text/latex": "$\\displaystyle - \\rho b h_{1} u_{1}^{2} + \\rho b h_\\mathrm{4b} u_\\mathrm{4b}^{2} + \\rho b h_\\mathrm{4t} u_\\mathrm{4t}^{2} = - \\frac{A_\\mathrm{t} C_\\mathrm{T} \\rho u_{1}^{2}}{2} + \\frac{\\rho b g h_{1}^{2}}{2} - \\frac{\\rho b g h_{4}^{2}}{2}$",
            "text/plain": [
              "Eq(-\\rho*b*h_1*u_1**2 + \\rho*b*h_\\mathrm{4b}*u_\\mathrm{4b}**2 + \\rho*b*h_\\mathrm{4t}*u_\\mathrm{4t}**2, -A_\\mathrm{t}*C_\\mathrm{T}*\\rho*u_1**2/2 + \\rho*b*g*h_1**2/2 - \\rho*b*g*h_4**2/2)"
            ]
          },
          "metadata": {
            "tags": []
          },
          "execution_count": 23
        }
      ]
    },
    {
      "cell_type": "markdown",
      "metadata": {
        "id": "MNMSI3AqoQSQ"
      },
      "source": [
        "Knowing that Blockage factor  $A_\\mathrm{t}=B\\,bh_1$"
      ]
    },
    {
      "cell_type": "code",
      "metadata": {
        "colab": {
          "base_uri": "https://localhost:8080/",
          "height": 55
        },
        "id": "bYrt4jHH9Tpg",
        "outputId": "97b400b1-20bc-4be9-cab3-61f4f679d249"
      },
      "source": [
        "eqI3 = expand( Eq( eqI2.lhs / ( ρ*g*h1**2*b ), eqI2.rhs / ( ρ*g*h1**2*b ) ) )\n",
        "eqI4 = eqI3.subs( zetas ).subs( Sqr_Froudes ).subs( b*h1, At/B)\n",
        "eqI4"
      ],
      "execution_count": 24,
      "outputs": [
        {
          "output_type": "execute_result",
          "data": {
            "text/latex": "$\\displaystyle \\mathrm{Fr}_\\mathrm{4b}^{2} \\zeta_\\mathrm{4b} + \\mathrm{Fr}_\\mathrm{4t}^{2} \\zeta_\\mathrm{4t} - \\mathrm{Fr}_{1}^{2} = - \\frac{B C_\\mathrm{T} \\mathrm{Fr}_{1}^{2}}{2} - \\frac{\\zeta_{4}^{2}}{2} + \\frac{1}{2}$",
            "text/plain": [
              "Eq(\\mathrm{Fr}_\\mathrm{4b}**2*\\zeta_\\mathrm{4b} + \\mathrm{Fr}_\\mathrm{4t}**2*\\zeta_\\mathrm{4t} - \\mathrm{Fr}_{1}**2, -B*C_\\mathrm{T}*\\mathrm{Fr}_{1}**2/2 - \\zeta_4**2/2 + 1/2)"
            ]
          },
          "metadata": {
            "tags": []
          },
          "execution_count": 24
        }
      ]
    },
    {
      "cell_type": "code",
      "metadata": {
        "colab": {
          "base_uri": "https://localhost:8080/",
          "height": 56
        },
        "id": "AExf6ouj_L1n",
        "outputId": "0671ba23-dcfb-4756-bdfc-067989f0ed2e"
      },
      "source": [
        "eqI5 = eqI4.subs( eqG1.lhs, eqG1.rhs )\n",
        "eqI5"
      ],
      "execution_count": 25,
      "outputs": [
        {
          "output_type": "execute_result",
          "data": {
            "text/latex": "$\\displaystyle \\mathrm{Fr}_\\mathrm{4b}^{2} \\zeta_\\mathrm{4b} + \\mathrm{Fr}_\\mathrm{4t}^{2} \\zeta_\\mathrm{4t} - \\mathrm{Fr}_{1}^{2} = - \\frac{B \\left(\\mathrm{Fr}_\\mathrm{4b}^{2} - \\mathrm{Fr}_\\mathrm{4t}^{2}\\right)}{2} - \\frac{\\zeta_{4}^{2}}{2} + \\frac{1}{2}$",
            "text/plain": [
              "Eq(\\mathrm{Fr}_\\mathrm{4b}**2*\\zeta_\\mathrm{4b} + \\mathrm{Fr}_\\mathrm{4t}**2*\\zeta_\\mathrm{4t} - \\mathrm{Fr}_{1}**2, -B*(\\mathrm{Fr}_\\mathrm{4b}**2 - \\mathrm{Fr}_\\mathrm{4t}**2)/2 - \\zeta_4**2/2 + 1/2)"
            ]
          },
          "metadata": {
            "tags": []
          },
          "execution_count": 25
        }
      ]
    },
    {
      "cell_type": "markdown",
      "metadata": {
        "id": "Qf5ZZ9xcDZvC"
      },
      "source": [
        "Specifying:\n",
        "\n",
        "* Blockage factor $0 \\le B \\lt 1$\n",
        "* Upstream Froude number $\\mathrm{Fr}_1$\n",
        "* Bypass Froude number $\\mathrm{Fr}_\\mathrm{4b}$\n",
        "* $\\eta_4$ is computed from\n",
        "\n",
        "$$ \\eta_4 = \\frac{\\mathrm{Fr}_{1}^2}{2}-\\frac{\\mathrm{Fr}_\\mathrm{4b}^2}{2} + 1$$"
      ]
    },
    {
      "cell_type": "code",
      "metadata": {
        "colab": {
          "base_uri": "https://localhost:8080/",
          "height": 55
        },
        "id": "BG-to7QfCGo1",
        "outputId": "d66e7963-74a8-43cd-e1e4-511b36c2f01e"
      },
      "source": [
        "solζ4 = solve( eqA2, ζ4 )\n",
        "solζ4[0]"
      ],
      "execution_count": 26,
      "outputs": [
        {
          "output_type": "execute_result",
          "data": {
            "text/latex": "$\\displaystyle - \\frac{\\mathrm{Fr}_\\mathrm{4b}^{2}}{2} + \\frac{\\mathrm{Fr}_{1}^{2}}{2} + 1$",
            "text/plain": [
              "-\\mathrm{Fr}_\\mathrm{4b}**2/2 + \\mathrm{Fr}_{1}**2/2 + 1"
            ]
          },
          "metadata": {
            "tags": []
          },
          "execution_count": 26
        }
      ]
    },
    {
      "cell_type": "code",
      "metadata": {
        "colab": {
          "base_uri": "https://localhost:8080/",
          "height": 38
        },
        "id": "pB_qL7WLGydk",
        "outputId": "5612f2dd-47fc-4e8f-de14-2658483edddb"
      },
      "source": [
        "eqJ1 = Eq( ζ4, ζ4b+ζ4t )\n",
        "eqJ1"
      ],
      "execution_count": 27,
      "outputs": [
        {
          "output_type": "execute_result",
          "data": {
            "text/latex": "$\\displaystyle \\zeta_{4} = \\zeta_\\mathrm{4b} + \\zeta_\\mathrm{4t}$",
            "text/plain": [
              "Eq(\\zeta_4, \\zeta_\\mathrm{4b} + \\zeta_\\mathrm{4t})"
            ]
          },
          "metadata": {
            "tags": []
          },
          "execution_count": 27
        }
      ]
    },
    {
      "cell_type": "markdown",
      "metadata": {
        "id": "G6oOt6aKOG5W"
      },
      "source": [
        "# Summary of the system of equations to solve"
      ]
    },
    {
      "cell_type": "code",
      "metadata": {
        "colab": {
          "base_uri": "https://localhost:8080/",
          "height": 56
        },
        "id": "qjRGEZGEEBzp",
        "outputId": "cdf14754-9155-40fc-e15e-746ac528bab2"
      },
      "source": [
        "eqI5"
      ],
      "execution_count": 28,
      "outputs": [
        {
          "output_type": "execute_result",
          "data": {
            "text/latex": "$\\displaystyle \\mathrm{Fr}_\\mathrm{4b}^{2} \\zeta_\\mathrm{4b} + \\mathrm{Fr}_\\mathrm{4t}^{2} \\zeta_\\mathrm{4t} - \\mathrm{Fr}_{1}^{2} = - \\frac{B \\left(\\mathrm{Fr}_\\mathrm{4b}^{2} - \\mathrm{Fr}_\\mathrm{4t}^{2}\\right)}{2} - \\frac{\\zeta_{4}^{2}}{2} + \\frac{1}{2}$",
            "text/plain": [
              "Eq(\\mathrm{Fr}_\\mathrm{4b}**2*\\zeta_\\mathrm{4b} + \\mathrm{Fr}_\\mathrm{4t}**2*\\zeta_\\mathrm{4t} - \\mathrm{Fr}_{1}**2, -B*(\\mathrm{Fr}_\\mathrm{4b}**2 - \\mathrm{Fr}_\\mathrm{4t}**2)/2 - \\zeta_4**2/2 + 1/2)"
            ]
          },
          "metadata": {
            "tags": []
          },
          "execution_count": 28
        }
      ]
    },
    {
      "cell_type": "code",
      "metadata": {
        "colab": {
          "base_uri": "https://localhost:8080/",
          "height": 38
        },
        "id": "3MqlS8ZKHRsJ",
        "outputId": "05f8587f-5952-42ef-a066-f5a8a1b01042"
      },
      "source": [
        "eqH2"
      ],
      "execution_count": 29,
      "outputs": [
        {
          "output_type": "execute_result",
          "data": {
            "text/latex": "$\\displaystyle \\mathrm{Fr}_\\mathrm{4b} \\zeta_\\mathrm{4b} + \\mathrm{Fr}_\\mathrm{4t} \\zeta_\\mathrm{4t} = \\mathrm{Fr}_{1}$",
            "text/plain": [
              "Eq(\\mathrm{Fr}_\\mathrm{4b}*\\zeta_\\mathrm{4b} + \\mathrm{Fr}_\\mathrm{4t}*\\zeta_\\mathrm{4t}, \\mathrm{Fr}_{1})"
            ]
          },
          "metadata": {
            "tags": []
          },
          "execution_count": 29
        }
      ]
    },
    {
      "cell_type": "code",
      "metadata": {
        "colab": {
          "base_uri": "https://localhost:8080/",
          "height": 38
        },
        "id": "OlmByzuiHfgq",
        "outputId": "b3551ab7-eb65-4551-c4fd-c71d2b507897"
      },
      "source": [
        "eqJ1"
      ],
      "execution_count": 30,
      "outputs": [
        {
          "output_type": "execute_result",
          "data": {
            "text/latex": "$\\displaystyle \\zeta_{4} = \\zeta_\\mathrm{4b} + \\zeta_\\mathrm{4t}$",
            "text/plain": [
              "Eq(\\zeta_4, \\zeta_\\mathrm{4b} + \\zeta_\\mathrm{4t})"
            ]
          },
          "metadata": {
            "tags": []
          },
          "execution_count": 30
        }
      ]
    },
    {
      "cell_type": "markdown",
      "metadata": {
        "id": "GOro_98AOMHR"
      },
      "source": [
        "# Solution of the system of equations for $\\mathrm{Fr}_{4t1}$"
      ]
    },
    {
      "cell_type": "code",
      "metadata": {
        "id": "Um8bFmc_HiV8"
      },
      "source": [
        "solFr4t = solve( [ eqI5, eqH2, eqJ1 ], [Fr4t,ζ4b,ζ4t])"
      ],
      "execution_count": 31,
      "outputs": []
    },
    {
      "cell_type": "code",
      "metadata": {
        "colab": {
          "base_uri": "https://localhost:8080/",
          "height": 38
        },
        "id": "PYP2inGAf-pu",
        "outputId": "67922fa7-057d-4a25-d4b0-b3b3989a25dc"
      },
      "source": [
        "C1 = symbols(\"C_1\")\n",
        "SC1 = Fr1 - ζ4 * Fr4b\n",
        "SC1"
      ],
      "execution_count": 32,
      "outputs": [
        {
          "output_type": "execute_result",
          "data": {
            "text/latex": "$\\displaystyle - \\mathrm{Fr}_\\mathrm{4b} \\zeta_{4} + \\mathrm{Fr}_{1}$",
            "text/plain": [
              "-\\mathrm{Fr}_\\mathrm{4b}*\\zeta_4 + \\mathrm{Fr}_{1}"
            ]
          },
          "metadata": {
            "tags": []
          },
          "execution_count": 32
        }
      ]
    },
    {
      "cell_type": "code",
      "metadata": {
        "colab": {
          "base_uri": "https://localhost:8080/",
          "height": 38
        },
        "id": "3xwoFwvWlmsy",
        "outputId": "78768330-7528-418e-8948-2c9fb92a9b9d"
      },
      "source": [
        "C2 = symbols(\"C_2\")\n",
        "SC2 = B**2 * Fr4b**2 + B*(ζ4**2+2*Fr1*(-Fr1+Fr4b)-1)+C1**2\n",
        "SC2"
      ],
      "execution_count": 33,
      "outputs": [
        {
          "output_type": "execute_result",
          "data": {
            "text/latex": "$\\displaystyle B^{2} \\mathrm{Fr}_\\mathrm{4b}^{2} + B \\left(2 \\mathrm{Fr}_{1} \\left(\\mathrm{Fr}_\\mathrm{4b} - \\mathrm{Fr}_{1}\\right) + \\zeta_{4}^{2} - 1\\right) + C_{1}^{2}$",
            "text/plain": [
              "B**2*\\mathrm{Fr}_\\mathrm{4b}**2 + B*(2*\\mathrm{Fr}_{1}*(\\mathrm{Fr}_\\mathrm{4b} - \\mathrm{Fr}_{1}) + \\zeta_4**2 - 1) + C_1**2"
            ]
          },
          "metadata": {
            "tags": []
          },
          "execution_count": 33
        }
      ]
    },
    {
      "cell_type": "code",
      "metadata": {
        "colab": {
          "base_uri": "https://localhost:8080/",
          "height": 54
        },
        "id": "u2jMMO0aKYwZ",
        "outputId": "ccc3b8d5-6f82-4e03-996d-a81aa13803f5"
      },
      "source": [
        "collect(collect(solFr4t[0][0],2*B*Fr1).subs(SC1,C1)\\\n",
        "          .subs(expand(SC1**2),C1**2),B).subs(SC2,C2)"
      ],
      "execution_count": 34,
      "outputs": [
        {
          "output_type": "execute_result",
          "data": {
            "text/latex": "$\\displaystyle \\frac{C_{1} - \\sqrt{C_{2}}}{B}$",
            "text/plain": [
              "(C_1 - sqrt(C_2))/B"
            ]
          },
          "metadata": {
            "tags": []
          },
          "execution_count": 34
        }
      ]
    },
    {
      "cell_type": "code",
      "metadata": {
        "colab": {
          "base_uri": "https://localhost:8080/",
          "height": 54
        },
        "id": "hweJbZDbb8Mg",
        "outputId": "b0e22041-58d0-4380-d2f5-f08327d7d162"
      },
      "source": [
        "collect(collect(solFr4t[1][0],2*B*Fr1).subs(SC1,C1)\\\n",
        "          .subs(expand(SC1**2),C1**2),B).subs(SC2,C2)"
      ],
      "execution_count": 35,
      "outputs": [
        {
          "output_type": "execute_result",
          "data": {
            "text/latex": "$\\displaystyle \\frac{C_{1} + \\sqrt{C_{2}}}{B}$",
            "text/plain": [
              "(C_1 + sqrt(C_2))/B"
            ]
          },
          "metadata": {
            "tags": []
          },
          "execution_count": 35
        }
      ]
    },
    {
      "cell_type": "markdown",
      "metadata": {
        "id": "DH19jaqyORp3"
      },
      "source": [
        "# Computing $\\eta_{4b}$ and $\\eta_{4t}$\n",
        "\n",
        "After computing $\\mathrm{Fr}_{4t1}$ it is easier to compute $\\eta_{4b}$ and $\\eta_{4t}$ from ```eqH2``` and ```eqJ1``` than using the solutions above.\n"
      ]
    },
    {
      "cell_type": "code",
      "metadata": {
        "colab": {
          "base_uri": "https://localhost:8080/",
          "height": 57
        },
        "id": "u3j5c_Doe87Z",
        "outputId": "41a3aded-6486-4b2d-9b93-63952777b1ad"
      },
      "source": [
        "simplify(solve( [ eqH2, eqJ1 ], [ζ4b,ζ4t]))"
      ],
      "execution_count": 36,
      "outputs": [
        {
          "output_type": "execute_result",
          "data": {
            "text/latex": "$\\displaystyle \\left\\{ \\zeta_\\mathrm{4b} : \\frac{- \\mathrm{Fr}_\\mathrm{4t} \\zeta_{4} + \\mathrm{Fr}_{1}}{\\mathrm{Fr}_\\mathrm{4b} - \\mathrm{Fr}_\\mathrm{4t}}, \\  \\zeta_\\mathrm{4t} : \\frac{\\mathrm{Fr}_\\mathrm{4b} \\zeta_{4} - \\mathrm{Fr}_{1}}{\\mathrm{Fr}_\\mathrm{4b} - \\mathrm{Fr}_\\mathrm{4t}}\\right\\}$",
            "text/plain": [
              "{\\zeta_\\mathrm{4b}: (-\\mathrm{Fr}_\\mathrm{4t}*\\zeta_4 + \\mathrm{Fr}_{1})/(\\mathrm{Fr}_\\mathrm{4b} - \\mathrm{Fr}_\\mathrm{4t}), \\zeta_\\mathrm{4t}: (\\mathrm{Fr}_\\mathrm{4b}*\\zeta_4 - \\mathrm{Fr}_{1})/(\\mathrm{Fr}_\\mathrm{4b} - \\mathrm{Fr}_\\mathrm{4t})}"
            ]
          },
          "metadata": {
            "tags": []
          },
          "execution_count": 36
        }
      ]
    },
    {
      "cell_type": "markdown",
      "metadata": {
        "id": "zSPiASXUJ4fZ"
      },
      "source": [
        "# Selecting the solution with physical meaning\n",
        "\n",
        "Let us show that $C_1$ is always negative which implies that the solution \n",
        "\n",
        "$$\\mathrm{Fr}_\\mathrm{4t}=\\dfrac{C_1-\\sqrt{C_2}}{B}, \\tag{1}$$ \n",
        "\n",
        "is **always negative** (invalid).\n",
        "\n",
        "From the mass balance we get\n",
        "\n",
        "$$ u_1 h_1 = u_{4b} h_\\mathrm{4b} + u_\\mathrm{4t} h_\\mathrm{4t}.$$\n",
        "\n",
        "Since $u_\\mathrm{4t} < u_\\mathrm{4b}$ we found that\n",
        "\n",
        "$$ u_1 h_1 = u_\\mathrm{4b} h_\\mathrm{4b} + u_\\mathrm{4t} h_\\mathrm{4t} \\lt u_\\mathrm{4b} h_4.$$\n",
        "\n",
        "Divinding by $\\sqrt{gh_1} h_1$ results\n",
        "\n",
        "$$ \\dfrac{u_1}{\\sqrt{g h_1}} - \\dfrac{u_\\mathrm{4b}}{\\sqrt{g h_1}} \\dfrac{h_4}{h_1} \\lt 0,$$\n",
        "\n",
        "giving \n",
        "\n",
        "$$\\mathrm{Fr}_{1} - \\mathrm{Fr}_\\mathrm{4b} \\zeta_{4} \\lt 0,$$ \n",
        "\n",
        "or equivalently\n",
        "\n",
        "$$C_1 \\lt 0.$$ \n",
        "\n",
        "This implies that the solution given by Eq. (1) is always negative\n",
        "\n",
        "$$\\mathrm{Fr}_\\mathrm{4t} \\lt 0.$$ "
      ]
    },
    {
      "cell_type": "code",
      "metadata": {
        "id": "3QZEMvxnNKWv"
      },
      "source": [
        ""
      ],
      "execution_count": null,
      "outputs": []
    }
  ]
}