{
  "nbformat": 4,
  "nbformat_minor": 0,
  "metadata": {
    "colab": {
      "name": "DiskActuator_Examples.ipynb",
      "provenance": [],
      "authorship_tag": "ABX9TyOZTec2w7l9X80tYBu1VXHZ",
      "include_colab_link": true
    },
    "kernelspec": {
      "name": "python3",
      "display_name": "Python 3"
    },
    "language_info": {
      "name": "python"
    }
  },
  "cells": [
    {
      "cell_type": "markdown",
      "metadata": {
        "id": "view-in-github",
        "colab_type": "text"
      },
      "source": [
        "<a href=\"https://colab.research.google.com/github/joaochenriques/MCTE_2020_2021/blob/main/DiskActuator/DiskActuator_Examples.ipynb\" target=\"_parent\"><img src=\"https://colab.research.google.com/assets/colab-badge.svg\" alt=\"Open In Colab\"/></a>"
      ]
    },
    {
      "cell_type": "code",
      "metadata": {
        "id": "QTeLN4C7QsSU"
      },
      "source": [
        "import numpy as np\n",
        "from pylab import *"
      ],
      "execution_count": 103,
      "outputs": []
    },
    {
      "cell_type": "code",
      "metadata": {
        "id": "j1WK7OO4QF4a"
      },
      "source": [
        "Fr1 = 0.05\n",
        "B = 0.2"
      ],
      "execution_count": 107,
      "outputs": []
    },
    {
      "cell_type": "code",
      "metadata": {
        "colab": {
          "base_uri": "https://localhost:8080/",
          "height": 267
        },
        "id": "iczMHC2UQNUO",
        "outputId": "336d8851-a43e-4d6f-93e1-f5ac7c60f028"
      },
      "source": [
        "Fr4b_lst = np.linspace( Fr1*1.01, Fr1*2 )\n",
        "C_T_lst = []\n",
        "C_P_lst = []\n",
        "\n",
        "for Fr4b in Fr4b_lst:\n",
        "  ζ4 = (1/2.)*Fr1**2 - 1/2.*Fr4b**2 + 1\n",
        "  Fr4t = (Fr1 - Fr4b*ζ4 + sqrt(B**2*Fr4b**2 - 2*B*Fr1**2 + 2*B*Fr1*Fr4b + B*ζ4**2 - B + Fr1**2 - 2*Fr1*Fr4b*ζ4 + Fr4b**2*ζ4**2))/B\n",
        "  ζ4b = (Fr1 - Fr4t*ζ4)/(Fr4b - Fr4t)\n",
        "  ζ4t = (-Fr1 + Fr4b*ζ4)/(Fr4b - Fr4t)\n",
        "  Fr2t = Fr4t*ζ4t/B\n",
        "  C_T = (Fr4b**2 - Fr4t**2)/Fr1**2\n",
        "  C_P = C_T*Fr2t/Fr1\n",
        "\n",
        "  C_P_lst.append( C_P )\n",
        "  C_T_lst.append( C_T )\n",
        "\n",
        "plot( C_T_lst, C_P_lst );"
      ],
      "execution_count": 108,
      "outputs": [
        {
          "output_type": "display_data",
          "data": {
            "image/png": "[encoded data removed]",
            "text/plain": [
              "<Figure size 432x288 with 1 Axes>"
            ]
          },
          "metadata": {
            "tags": [],
            "needs_background": "light"
          }
        }
      ]
    },
    {
      "cell_type": "code",
      "metadata": {
        "colab": {
          "base_uri": "https://localhost:8080/"
        },
        "id": "8a1WeoCnYEmu",
        "outputId": "75462193-fb75-41c2-96e7-d2f0b9fcea16"
      },
      "source": [
        "Fr2t = 0.02\n",
        "ζ2t = 0.99\n",
        "\n",
        "(Fr1**2/2+1) - (Fr2t**2/2+ζ2t), Fr4t*ζ4t - Fr2t*ζ2t"
      ],
      "execution_count": 96,
      "outputs": [
        {
          "output_type": "execute_result",
          "data": {
            "text/plain": [
              "(0.010829499999999936, -0.016614953022712296)"
            ]
          },
          "metadata": {
            "tags": []
          },
          "execution_count": 96
        }
      ]
    },
    {
      "cell_type": "code",
      "metadata": {
        "colab": {
          "base_uri": "https://localhost:8080/",
          "height": 200
        },
        "id": "5gj1PVlwQl0X",
        "outputId": "f36fddf7-cf0b-47ff-a5f8-2edeee072966"
      },
      "source": [
        "ζ2t = (1/6)*Fr1**2 - 1/3*(-1/2*Fr1**2 - 1)**2/((27/4)*Fr4t**2*ζ4t**2 + (-1/2*Fr1**2 - 1)**3 + (1/2)*sqrt(-4*(-1/2*Fr1**2 - 1)**6 + ((27/2)*Fr4t**2*ζ4t**2 + 2*(-1/2*Fr1**2 - 1)**3)**2))**(1/3) - 1/3*((27/4)*Fr4t**2*ζ4t**2 + (-1/2*Fr1**2 - 1)**3 + (1/2)*sqrt(-4*(-1/2*Fr1**2 - 1)**6 + ((27/2)*Fr4t**2*ζ4t**2 + 2*(-1/2*Fr1**2 - 1)**3)**2))**(1/3) + 1/3\n",
        "C_P == C_T*Fr2t/Fr1"
      ],
      "execution_count": 82,
      "outputs": [
        {
          "output_type": "error",
          "ename": "ValueError",
          "evalue": "ignored",
          "traceback": [
            "\u001b[0;31m---------------------------------------------------------------------------\u001b[0m",
            "\u001b[0;31mValueError\u001b[0m                                Traceback (most recent call last)",
            "\u001b[0;32m<ipython-input-82-6cc0a3de8ac5>\u001b[0m in \u001b[0;36m<module>\u001b[0;34m()\u001b[0m\n\u001b[0;32m----> 1\u001b[0;31m \u001b[0mζ2t\u001b[0m \u001b[0;34m=\u001b[0m \u001b[0;34m(\u001b[0m\u001b[0;36m1\u001b[0m\u001b[0;34m/\u001b[0m\u001b[0;36m6\u001b[0m\u001b[0;34m)\u001b[0m\u001b[0;34m*\u001b[0m\u001b[0mFr1\u001b[0m\u001b[0;34m**\u001b[0m\u001b[0;36m2\u001b[0m \u001b[0;34m-\u001b[0m \u001b[0;36m1\u001b[0m\u001b[0;34m/\u001b[0m\u001b[0;36m3\u001b[0m\u001b[0;34m*\u001b[0m\u001b[0;34m(\u001b[0m\u001b[0;34m-\u001b[0m\u001b[0;36m1\u001b[0m\u001b[0;34m/\u001b[0m\u001b[0;36m2\u001b[0m\u001b[0;34m*\u001b[0m\u001b[0mFr1\u001b[0m\u001b[0;34m**\u001b[0m\u001b[0;36m2\u001b[0m \u001b[0;34m-\u001b[0m \u001b[0;36m1\u001b[0m\u001b[0;34m)\u001b[0m\u001b[0;34m**\u001b[0m\u001b[0;36m2\u001b[0m\u001b[0;34m/\u001b[0m\u001b[0;34m(\u001b[0m\u001b[0;34m(\u001b[0m\u001b[0;36m27\u001b[0m\u001b[0;34m/\u001b[0m\u001b[0;36m4\u001b[0m\u001b[0;34m)\u001b[0m\u001b[0;34m*\u001b[0m\u001b[0mFr4t\u001b[0m\u001b[0;34m**\u001b[0m\u001b[0;36m2\u001b[0m\u001b[0;34m*\u001b[0m\u001b[0mζ4t\u001b[0m\u001b[0;34m**\u001b[0m\u001b[0;36m2\u001b[0m \u001b[0;34m+\u001b[0m \u001b[0;34m(\u001b[0m\u001b[0;34m-\u001b[0m\u001b[0;36m1\u001b[0m\u001b[0;34m/\u001b[0m\u001b[0;36m2\u001b[0m\u001b[0;34m*\u001b[0m\u001b[0mFr1\u001b[0m\u001b[0;34m**\u001b[0m\u001b[0;36m2\u001b[0m \u001b[0;34m-\u001b[0m \u001b[0;36m1\u001b[0m\u001b[0;34m)\u001b[0m\u001b[0;34m**\u001b[0m\u001b[0;36m3\u001b[0m \u001b[0;34m+\u001b[0m \u001b[0;34m(\u001b[0m\u001b[0;36m1\u001b[0m\u001b[0;34m/\u001b[0m\u001b[0;36m2\u001b[0m\u001b[0;34m)\u001b[0m\u001b[0;34m*\u001b[0m\u001b[0msqrt\u001b[0m\u001b[0;34m(\u001b[0m\u001b[0;34m-\u001b[0m\u001b[0;36m4\u001b[0m\u001b[0;34m*\u001b[0m\u001b[0;34m(\u001b[0m\u001b[0;34m-\u001b[0m\u001b[0;36m1\u001b[0m\u001b[0;34m/\u001b[0m\u001b[0;36m2\u001b[0m\u001b[0;34m*\u001b[0m\u001b[0mFr1\u001b[0m\u001b[0;34m**\u001b[0m\u001b[0;36m2\u001b[0m \u001b[0;34m-\u001b[0m \u001b[0;36m1\u001b[0m\u001b[0;34m)\u001b[0m\u001b[0;34m**\u001b[0m\u001b[0;36m6\u001b[0m \u001b[0;34m+\u001b[0m \u001b[0;34m(\u001b[0m\u001b[0;34m(\u001b[0m\u001b[0;36m27\u001b[0m\u001b[0;34m/\u001b[0m\u001b[0;36m2\u001b[0m\u001b[0;34m)\u001b[0m\u001b[0;34m*\u001b[0m\u001b[0mFr4t\u001b[0m\u001b[0;34m**\u001b[0m\u001b[0;36m2\u001b[0m\u001b[0;34m*\u001b[0m\u001b[0mζ4t\u001b[0m\u001b[0;34m**\u001b[0m\u001b[0;36m2\u001b[0m \u001b[0;34m+\u001b[0m \u001b[0;36m2\u001b[0m\u001b[0;34m*\u001b[0m\u001b[0;34m(\u001b[0m\u001b[0;34m-\u001b[0m\u001b[0;36m1\u001b[0m\u001b[0;34m/\u001b[0m\u001b[0;36m2\u001b[0m\u001b[0;34m*\u001b[0m\u001b[0mFr1\u001b[0m\u001b[0;34m**\u001b[0m\u001b[0;36m2\u001b[0m \u001b[0;34m-\u001b[0m \u001b[0;36m1\u001b[0m\u001b[0;34m)\u001b[0m\u001b[0;34m**\u001b[0m\u001b[0;36m3\u001b[0m\u001b[0;34m)\u001b[0m\u001b[0;34m**\u001b[0m\u001b[0;36m...\n\u001b[0m\u001b[1;32m      2\u001b[0m \u001b[0mC_P\u001b[0m \u001b[0;34m==\u001b[0m \u001b[0mC_T\u001b[0m\u001b[0;34m*\u001b[0m\u001b[0mFr2t\u001b[0m\u001b[0;34m/\u001b[0m\u001b[0mFr1\u001b[0m\u001b[0;34m\u001b[0m\u001b[0;34m\u001b[0m\u001b[0m\n",
            "\u001b[0;31mValueError\u001b[0m: math domain error"
          ]
        }
      ]
    },
    {
      "cell_type": "code",
      "metadata": {
        "colab": {
          "base_uri": "https://localhost:8080/"
        },
        "id": "-pRo5jKSSEW0",
        "outputId": "95b79d0c-5d2d-45d3-c04c-9bcf305a3dab"
      },
      "source": [
        "-4*(-1/2*Fr1**2 - 1)**6 + ((27/2)*Fr4t**2*ζ4t**2 + 2*(-1/2*Fr1**2 - 1)**3)**2"
      ],
      "execution_count": 69,
      "outputs": [
        {
          "output_type": "execute_result",
          "data": {
            "text/plain": [
              "-0.015640307643447038"
            ]
          },
          "metadata": {
            "tags": []
          },
          "execution_count": 69
        }
      ]
    },
    {
      "cell_type": "code",
      "metadata": {
        "id": "4kuf1z8tVMmX"
      },
      "source": [
        ""
      ],
      "execution_count": null,
      "outputs": []
    }
  ]
}