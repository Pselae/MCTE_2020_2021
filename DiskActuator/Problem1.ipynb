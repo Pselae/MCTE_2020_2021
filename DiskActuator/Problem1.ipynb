{
  "nbformat": 4,
  "nbformat_minor": 0,
  "metadata": {
    "colab": {
      "name": "Problem1.ipynb",
      "provenance": [],
      "authorship_tag": "ABX9TyM5Hdg3eBl85LiPya/5oWvy",
      "include_colab_link": true
    },
    "kernelspec": {
      "name": "python3",
      "display_name": "Python 3"
    },
    "language_info": {
      "name": "python"
    }
  },
  "cells": [
    {
      "cell_type": "markdown",
      "metadata": {
        "id": "view-in-github",
        "colab_type": "text"
      },
      "source": [
        "<a href=\"https://colab.research.google.com/github/joaochenriques/MCTE_2020_2021/blob/main/DiskActuator/Problem1.ipynb\" target=\"_parent\"><img src=\"https://colab.research.google.com/assets/colab-badge.svg\" alt=\"Open In Colab\"/></a>"
      ]
    },
    {
      "cell_type": "code",
      "metadata": {
        "id": "ngYrhzaf411H"
      },
      "source": [
        "from sympy import *\n",
        "#init_printing()\n",
        "init_printing(use_latex='mathjax', use_unicode=True)\n",
        "from IPython.display import Math"
      ],
      "execution_count": 71,
      "outputs": []
    },
    {
      "cell_type": "code",
      "metadata": {
        "id": "YIOlbupnaX1y"
      },
      "source": [
        "Eq.__getitem__ = lambda self, i: self.args[i]\n",
        "# To allow equation.subs( [Eq(x,y)] )"
      ],
      "execution_count": 72,
      "outputs": []
    },
    {
      "cell_type": "markdown",
      "metadata": {
        "id": "BLEhN2HIcIGl"
      },
      "source": [
        "# Define the variables of the problem"
      ]
    },
    {
      "cell_type": "code",
      "metadata": {
        "id": "u_i1_X0z43-S"
      },
      "source": [
        "ζ4, ζ4t, ζ4b, ζ5 = symbols( r\"\\zeta_4, \\zeta_{4b}, \\zeta_{4t}, \\zeta_5\")"
      ],
      "execution_count": 73,
      "outputs": []
    },
    {
      "cell_type": "code",
      "metadata": {
        "id": "l9cFNTch5M3x"
      },
      "source": [
        "Fr1, Fr4, Fr4t, Fr4b, Fr5 = symbols( r\"\\mathrm{Fr}_1, \\mathrm{Fr}_4, \\mathrm{Fr}_{4b}, \\mathrm{Fr}_{4t}, \\mathrm{Fr}_5\" )"
      ],
      "execution_count": 74,
      "outputs": []
    },
    {
      "cell_type": "code",
      "metadata": {
        "id": "Agy3LvBn5U3H"
      },
      "source": [
        "B = symbols( \"B\")"
      ],
      "execution_count": 5,
      "outputs": []
    },
    {
      "cell_type": "markdown",
      "metadata": {
        "id": "GaegaKvwcM6W"
      },
      "source": [
        "# Define the equations required to compute the conditions at (4)"
      ]
    },
    {
      "cell_type": "code",
      "metadata": {
        "colab": {
          "base_uri": "https://localhost:8080/",
          "height": 55
        },
        "id": "He0Abd6p5tdX",
        "outputId": "4d242461-2436-4709-9cfa-57bada1e2b94"
      },
      "source": [
        "EqA1 = Eq( ζ4, 1 + Fr1**2/2 - Fr4b**2/2 )\n",
        "EqA1"
      ],
      "execution_count": 6,
      "outputs": [
        {
          "output_type": "execute_result",
          "data": {
            "image/png": "[encoded data removed]",
            "text/latex": "$\\displaystyle \\zeta_{4} = \\frac{\\mathrm{Fr}_1^{2}}{2} - \\frac{\\mathrm{Fr}_{4t}^{2}}{2} + 1$",
            "text/plain": [
              "                     2                   2    \n",
              "         \\mathrm{Fr}₁    \\mathrm{Fr}_{4t}     \n",
              "\\zeta₄ = ───────────── - ───────────────── + 1\n",
              "               2                 2            "
            ]
          },
          "metadata": {
            "tags": []
          },
          "execution_count": 6
        }
      ]
    },
    {
      "cell_type": "code",
      "metadata": {
        "colab": {
          "base_uri": "https://localhost:8080/",
          "height": 38
        },
        "id": "5G3pGvnt52Ci",
        "outputId": "bcfdf363-6c7a-42da-fad7-8fe1749cd2c6"
      },
      "source": [
        "EqA2 = Eq( Fr4t * ζ4t + Fr4b * ζ4b, Fr1 )\n",
        "EqA2"
      ],
      "execution_count": 7,
      "outputs": [
        {
          "output_type": "execute_result",
          "data": {
            "image/png": "[encoded data removed]",
            "text/latex": "$\\displaystyle \\mathrm{Fr}_{4b} \\zeta_{4b} + \\mathrm{Fr}_{4t} \\zeta_{4t} = \\mathrm{Fr}_1$",
            "text/plain": [
              "\\mathrm{Fr}_{4b}⋅\\zeta_{4b} + \\mathrm{Fr}_{4t}⋅\\zeta_{4t} = \\mathrm{Fr}₁"
            ]
          },
          "metadata": {
            "tags": []
          },
          "execution_count": 7
        }
      ]
    },
    {
      "cell_type": "code",
      "metadata": {
        "colab": {
          "base_uri": "https://localhost:8080/",
          "height": 38
        },
        "id": "ichr8GK56CVB",
        "outputId": "8776f16f-66dc-47b6-f558-9e9cb19ff6df"
      },
      "source": [
        "EqA3 = Eq( ζ4, ζ4t + ζ4b )\n",
        "EqA3"
      ],
      "execution_count": 8,
      "outputs": [
        {
          "output_type": "execute_result",
          "data": {
            "image/png": "[encoded data removed]",
            "text/latex": "$\\displaystyle \\zeta_{4} = \\zeta_{4b} + \\zeta_{4t}$",
            "text/plain": [
              "\\zeta₄ = \\zeta_{4b} + \\zeta_{4t}"
            ]
          },
          "metadata": {
            "tags": []
          },
          "execution_count": 8
        }
      ]
    },
    {
      "cell_type": "code",
      "metadata": {
        "colab": {
          "base_uri": "https://localhost:8080/",
          "height": 56
        },
        "id": "mp-vbSH96P8K",
        "outputId": "c826cd1e-b1f3-4e94-ce74-7fadd9eed385"
      },
      "source": [
        "EqA4 = Eq( Fr4t**2 * ζ4t + Fr4b**2 * ζ4b - Fr1**2, -(ζ4**2-1)/2 - B/2*(Fr4b**2 - Fr4t**2) )\n",
        "EqA4"
      ],
      "execution_count": 9,
      "outputs": [
        {
          "output_type": "execute_result",
          "data": {
            "image/png": "[encoded data removed]",
            "text/latex": "$\\displaystyle - \\mathrm{Fr}_1^{2} + \\mathrm{Fr}_{4b}^{2} \\zeta_{4b} + \\mathrm{Fr}_{4t}^{2} \\zeta_{4t} = - \\frac{B \\left(- \\mathrm{Fr}_{4b}^{2} + \\mathrm{Fr}_{4t}^{2}\\right)}{2} - \\frac{\\zeta_{4}^{2}}{2} + \\frac{1}{2}$",
            "text/plain": [
              "                                                                              \n",
              "              2                   2                              2            \n",
              "- \\mathrm{Fr}₁  + \\mathrm{Fr}_{4b} ⋅\\zeta_{4b} + \\mathrm{Fr}_{4t} ⋅\\zeta_{4t} \n",
              "                                                                              \n",
              "\n",
              "      ⎛                  2                   2⎞         2    \n",
              "    B⋅⎝- \\mathrm{Fr}_{4b}  + \\mathrm{Fr}_{4t} ⎠   \\zeta₄    1\n",
              "= - ─────────────────────────────────────────── - ─────── + ─\n",
              "                         2                           2      2"
            ]
          },
          "metadata": {
            "tags": []
          },
          "execution_count": 9
        }
      ]
    },
    {
      "cell_type": "code",
      "metadata": {
        "colab": {
          "base_uri": "https://localhost:8080/",
          "height": 58
        },
        "id": "MKj7PsXq6jn8",
        "outputId": "50610ec0-5c60-44f4-c59c-9ec2fdcd8029"
      },
      "source": [
        "data = { Fr1: 0.2, B: 0.2, Fr4b: 0.3 }\n",
        "sys1 = [ Eq1.subs(data), Eq2.subs(data), Eq3.subs(data), Eq4.subs(data) ]\n",
        "sys1"
      ],
      "execution_count": 10,
      "outputs": [
        {
          "output_type": "execute_result",
          "data": {
            "image/png": "[encoded data removed]",
            "text/latex": "$\\displaystyle \\left[ \\zeta_{4} = 0.975, \\  \\mathrm{Fr}_{4b} \\zeta_{4b} + 0.3 \\zeta_{4t} = 0.2, \\  \\zeta_{4} = \\zeta_{4b} + \\zeta_{4t}, \\  \\mathrm{Fr}_{4b}^{2} \\zeta_{4b} + 0.09 \\zeta_{4t} - 0.04 = 0.1 \\mathrm{Fr}_{4b}^{2} - \\frac{\\zeta_{4}^{2}}{2} + 0.491\\right]$",
            "text/plain": [
              "⎡                                                                             \n",
              "⎢                                                                             \n",
              "⎢\\zeta₄ = 0.975, \\mathrm{Fr}_{4b}⋅\\zeta_{4b} + 0.3⋅\\zeta_{4t} = 0.2, \\zeta₄ = \n",
              "⎣                                                                             \n",
              "\n",
              "                                                                              \n",
              "                                         2                                    \n",
              "\\zeta_{4b} + \\zeta_{4t}, \\mathrm{Fr}_{4b} ⋅\\zeta_{4b} + 0.09⋅\\zeta_{4t} - 0.04\n",
              "                                                                              \n",
              "\n",
              "                                 2        ⎤\n",
              "                       2   \\zeta₄         ⎥\n",
              " = 0.1⋅\\mathrm{Fr}_{4b}  - ─────── + 0.491⎥\n",
              "                              2           ⎦"
            ]
          },
          "metadata": {
            "tags": []
          },
          "execution_count": 10
        }
      ]
    },
    {
      "cell_type": "code",
      "metadata": {
        "id": "x07TpcTr6zjg"
      },
      "source": [
        "sol1 = solve( sys1, [ ζ4b, ζ4t, ζ4, Fr4t ], dict=True )"
      ],
      "execution_count": 66,
      "outputs": []
    },
    {
      "cell_type": "code",
      "metadata": {
        "id": "QvQvGjgSgoxK",
        "outputId": "33c744ba-fc54-4ac2-b248-05448565a8dc",
        "colab": {
          "base_uri": "https://localhost:8080/"
        }
      },
      "source": [
        "print( \"Number of sets of solutions: \", len( sol1 ) )"
      ],
      "execution_count": 67,
      "outputs": [
        {
          "output_type": "stream",
          "text": [
            "Number of sets of solutions:  2\n"
          ],
          "name": "stdout"
        }
      ]
    },
    {
      "cell_type": "code",
      "metadata": {
        "colab": {
          "base_uri": "https://localhost:8080/",
          "height": 55
        },
        "id": "tnshDJtO8WaN",
        "outputId": "ca75a48c-0604-4926-fd05-f6a3d24f0467"
      },
      "source": [
        "print( \"Invalid volution\" )\n",
        "sol[0]"
      ],
      "execution_count": 83,
      "outputs": [
        {
          "output_type": "stream",
          "text": [
            "Invalid volution\n"
          ],
          "name": "stdout"
        },
        {
          "output_type": "execute_result",
          "data": {
            "text/latex": "$\\displaystyle \\left\\{ \\mathrm{Fr}_{4b} : -0.969482494766831, \\  \\zeta_{4} : 0.975, \\  \\zeta_{4b} : 0.0728643367524258, \\  \\zeta_{4t} : 0.902135663247574\\right\\}$",
            "text/plain": [
              "{\\mathrm{Fr}_{4b}: -0.969482494766831, \\zeta₄: 0.975, \\zeta_{4b}: 0.0728643367\n",
              "524258, \\zeta_{4t}: 0.902135663247574}"
            ]
          },
          "metadata": {
            "tags": []
          },
          "execution_count": 83
        }
      ]
    },
    {
      "cell_type": "code",
      "metadata": {
        "colab": {
          "base_uri": "https://localhost:8080/",
          "height": 55
        },
        "id": "El4TiPUa9_K-",
        "outputId": "44ea7cdf-50fc-4c28-f134-1c84563fabcf"
      },
      "source": [
        "print( \"Valid volution\" )\n",
        "sol[1]"
      ],
      "execution_count": 78,
      "outputs": [
        {
          "output_type": "stream",
          "text": [
            "Valid volution\n"
          ],
          "name": "stdout"
        },
        {
          "output_type": "execute_result",
          "data": {
            "text/latex": "$\\displaystyle \\left\\{ \\mathrm{Fr}_{4b} : 0.0444824947668312, \\  \\zeta_{4} : 0.975, \\  \\zeta_{4b} : 0.36201042239979, \\  \\zeta_{4t} : 0.61298957760021\\right\\}$",
            "text/plain": [
              "{\\mathrm{Fr}_{4b}: 0.0444824947668312, \\zeta₄: 0.975, \\zeta_{4b}: 0.3620104223\n",
              "9979, \\zeta_{4t}: 0.61298957760021}"
            ]
          },
          "metadata": {
            "tags": []
          },
          "execution_count": 78
        }
      ]
    },
    {
      "cell_type": "code",
      "metadata": {
        "id": "Y1wh9VO3-EAR"
      },
      "source": [
        "C_T, C_P = symbols( \"C_\\mathrm{T}, C_\\mathrm{P}\")\n",
        "Fr2t = symbols( \"\\mathrm{Fr}_{2t}\")"
      ],
      "execution_count": 14,
      "outputs": []
    },
    {
      "cell_type": "code",
      "metadata": {
        "id": "BH-9E6OP-118"
      },
      "source": [
        "EqCT = Eq( C_T, ( Fr4b**2-Fr4t**2 )/Fr1**2 ) \n",
        "EqCP = Eq( C_P, C_T * Fr2t / Fr1 )\n",
        "EqFr2t = Eq( Fr2t, Fr4t * ζ4t / B )"
      ],
      "execution_count": 15,
      "outputs": []
    },
    {
      "cell_type": "code",
      "metadata": {
        "colab": {
          "base_uri": "https://localhost:8080/",
          "height": 38
        },
        "id": "vk5Q8vI8-_13",
        "outputId": "116385ea-f9be-4124-b9fd-2997da96dcf8"
      },
      "source": [
        "EqCT.subs( sol[1] ).subs( data )"
      ],
      "execution_count": 16,
      "outputs": [
        {
          "output_type": "execute_result",
          "data": {
            "image/png": "[encoded data removed]",
            "text/latex": "$\\displaystyle C_\\mathrm{T} = 2.20053269148297$",
            "text/plain": [
              "C_\\mathrm{T} = 2.20053269148297"
            ]
          },
          "metadata": {
            "tags": []
          },
          "execution_count": 16
        }
      ]
    },
    {
      "cell_type": "code",
      "metadata": {
        "colab": {
          "base_uri": "https://localhost:8080/",
          "height": 37
        },
        "id": "tLTTIhPMAbYW",
        "outputId": "7c7a8916-5a96-4048-ee5a-2633654e119b"
      },
      "source": [
        "EqFr2t.subs( data ).subs( sol[1] )"
      ],
      "execution_count": 17,
      "outputs": [
        {
          "output_type": "execute_result",
          "data": {
            "image/png": "[encoded data removed]",
            "text/latex": "$\\displaystyle \\mathrm{Fr}_{2t} = 0.080515633599685$",
            "text/plain": [
              "\\mathrm{Fr}_{2t} = 0.080515633599685"
            ]
          },
          "metadata": {
            "tags": []
          },
          "execution_count": 17
        }
      ]
    },
    {
      "cell_type": "code",
      "metadata": {
        "colab": {
          "base_uri": "https://localhost:8080/",
          "height": 38
        },
        "id": "3KHOWAkJAnNc",
        "outputId": "faadc4b7-bbcc-43c0-b9f3-37b7ade37163"
      },
      "source": [
        "EqCP.subs( [EqFr2t] ).subs( [EqCT] ).subs( data ).subs( sol[1] )"
      ],
      "execution_count": 18,
      "outputs": [
        {
          "output_type": "execute_result",
          "data": {
            "image/png": "[encoded data removed]",
            "text/latex": "$\\displaystyle C_\\mathrm{P} = 0.885886419557858$",
            "text/plain": [
              "C_\\mathrm{P} = 0.885886419557858"
            ]
          },
          "metadata": {
            "tags": []
          },
          "execution_count": 18
        }
      ]
    },
    {
      "cell_type": "markdown",
      "metadata": {
        "id": "muCCXgPxFChb"
      },
      "source": [
        "# Compute conditions at section (5)"
      ]
    },
    {
      "cell_type": "markdown",
      "metadata": {
        "id": "n0tji70gFNW5"
      },
      "source": [
        "Mass balance"
      ]
    },
    {
      "cell_type": "code",
      "metadata": {
        "id": "BTag4dqeWfaE",
        "colab": {
          "base_uri": "https://localhost:8080/",
          "height": 38
        },
        "outputId": "6b7da48e-1fac-4938-b63b-4b953f82a62a"
      },
      "source": [
        "eqB1 = Eq( Fr1, Fr5 * ζ5 )\n",
        "eqB1"
      ],
      "execution_count": 58,
      "outputs": [
        {
          "output_type": "execute_result",
          "data": {
            "image/png": "[encoded data removed]",
            "text/latex": "$\\displaystyle \\mathrm{Fr}_1 = \\mathrm{Fr}_5 \\zeta_{5}$",
            "text/plain": [
              "\\mathrm{Fr}₁ = \\mathrm{Fr}₅⋅\\zeta₅"
            ]
          },
          "metadata": {
            "tags": []
          },
          "execution_count": 58
        }
      ]
    },
    {
      "cell_type": "markdown",
      "metadata": {
        "id": "_v3qUX3QFczY"
      },
      "source": [
        "Momentum balance"
      ]
    },
    {
      "cell_type": "code",
      "metadata": {
        "colab": {
          "base_uri": "https://localhost:8080/",
          "height": 53
        },
        "id": "MpV9RnYmFYRb",
        "outputId": "802e8092-0cc6-40f1-aeda-2ac1b02529d8"
      },
      "source": [
        "eqB2 = Eq( Fr5**2 * ζ5 - ( Fr4b**2 * ζ4b + Fr4t**2 * ζ4t ), -( ζ5**2 - ζ4**2 )/2 )\n",
        "eqB2"
      ],
      "execution_count": 84,
      "outputs": [
        {
          "output_type": "execute_result",
          "data": {
            "text/latex": "$\\displaystyle \\mathrm{Fr}_5^{2} \\zeta_{5} - \\mathrm{Fr}_{4b}^{2} \\zeta_{4b} - \\mathrm{Fr}_{4t}^{2} \\zeta_{4t} = \\frac{\\zeta_{4}^{2}}{2} - \\frac{\\zeta_{5}^{2}}{2}$",
            "text/plain": [
              "                                                                              \n",
              "            2                          2                              2       \n",
              "\\mathrm{Fr}₅ ⋅\\zeta₅ - \\mathrm{Fr}_{4b} ⋅\\zeta_{4b} - \\mathrm{Fr}_{4t} ⋅\\zeta_\n",
              "                                                                              \n",
              "\n",
              "             2         2\n",
              "       \\zeta₄    \\zeta₅ \n",
              "{4t} = ─────── - ───────\n",
              "          2         2   "
            ]
          },
          "metadata": {
            "tags": []
          },
          "execution_count": 84
        }
      ]
    },
    {
      "cell_type": "code",
      "metadata": {
        "colab": {
          "base_uri": "https://localhost:8080/",
          "height": 58
        },
        "id": "1cTst5H0GEYL",
        "outputId": "8bf4e4f9-6a57-4edd-fad2-3b29e21b2d7d"
      },
      "source": [
        "sys2 = [ eqB1.subs(data).subs( (sol[1]) ), eqB2.subs(data).subs( (sol[1]) ) ]\n",
        "sys2"
      ],
      "execution_count": 85,
      "outputs": [
        {
          "output_type": "execute_result",
          "data": {
            "text/latex": "$\\displaystyle \\left[ 0.2 = \\mathrm{Fr}_5 \\zeta_{5}, \\  \\mathrm{Fr}_5^{2} \\zeta_{5} - 0.0558853692340681 = 0.4753125 - \\frac{\\zeta_{5}^{2}}{2}\\right]$",
            "text/plain": [
              "⎡                                                                             \n",
              "⎢                                       2                                     \n",
              "⎢0.2 = \\mathrm{Fr}₅⋅\\zeta₅, \\mathrm{Fr}₅ ⋅\\zeta₅ - 0.0558853692340681 = 0.4753\n",
              "⎣                                                                             \n",
              "\n",
              "            2⎤\n",
              "      \\zeta₅ ⎥\n",
              "125 - ───────⎥\n",
              "         2   ⎦"
            ]
          },
          "metadata": {
            "tags": []
          },
          "execution_count": 85
        }
      ]
    },
    {
      "cell_type": "code",
      "metadata": {
        "id": "cXseFScaGNQw"
      },
      "source": [
        "sol2 = solve( sys2, [ ζ5, Fr5 ], dict=True )"
      ],
      "execution_count": 87,
      "outputs": []
    },
    {
      "cell_type": "code",
      "metadata": {
        "id": "S3vqXsa9h-04",
        "outputId": "bcdf1359-92b2-4177-f475-c92aae5a1b2e",
        "colab": {
          "base_uri": "https://localhost:8080/"
        }
      },
      "source": [
        "print( \"Number of sets of solutions: \", len( sol2 ) )"
      ],
      "execution_count": 88,
      "outputs": [
        {
          "output_type": "stream",
          "text": [
            "Number of sets of solutions:  3\n"
          ],
          "name": "stdout"
        }
      ]
    },
    {
      "cell_type": "code",
      "metadata": {
        "colab": {
          "base_uri": "https://localhost:8080/",
          "height": 38
        },
        "id": "P5Odo-8vGcsj",
        "outputId": "a96fe03a-d46a-460e-aa53-716d099e2d19"
      },
      "source": [
        "sol2[0]"
      ],
      "execution_count": 89,
      "outputs": [
        {
          "output_type": "execute_result",
          "data": {
            "text/latex": "$\\displaystyle \\left\\{ \\mathrm{Fr}_5 : -0.187530481849815 + 3.0 \\cdot 10^{-23} i, \\  \\zeta_{5} : -1.06649328699625 - 5.44363275493285 \\cdot 10^{-25} i\\right\\}$",
            "text/plain": [
              "{\\mathrm{Fr}₅: -0.187530481849815 + 0.e-23⋅ⅈ, \\zeta₅: -1.06649328699625 - 5.44\n",
              "363275493285e-25⋅ⅈ}"
            ]
          },
          "metadata": {
            "tags": []
          },
          "execution_count": 89
        }
      ]
    },
    {
      "cell_type": "code",
      "metadata": {
        "colab": {
          "base_uri": "https://localhost:8080/",
          "height": 38
        },
        "id": "5aLZ-jKZGfxB",
        "outputId": "082d8e01-4237-4e37-9e80-aabd03cf2642"
      },
      "source": [
        "sol2[1]"
      ],
      "execution_count": 90,
      "outputs": [
        {
          "output_type": "execute_result",
          "data": {
            "text/latex": "$\\displaystyle \\left\\{ \\mathrm{Fr}_5 : 0.201860487996679 - 5.0 \\cdot 10^{-23} i, \\  \\zeta_{5} : 0.990783297835336 + 1.30061497902087 \\cdot 10^{-22} i\\right\\}$",
            "text/plain": [
              "{\\mathrm{Fr}₅: 0.201860487996679 - 0.e-22⋅ⅈ, \\zeta₅: 0.990783297835336 + 1.300\n",
              "61497902087e-22⋅ⅈ}"
            ]
          },
          "metadata": {
            "tags": []
          },
          "execution_count": 90
        }
      ]
    },
    {
      "cell_type": "code",
      "metadata": {
        "colab": {
          "base_uri": "https://localhost:8080/",
          "height": 38
        },
        "id": "diDkQy-rUxzS",
        "outputId": "1f505c0e-7663-440d-c850-b158c09654e5"
      },
      "source": [
        "sol2[2]"
      ],
      "execution_count": 91,
      "outputs": [
        {
          "output_type": "execute_result",
          "data": {
            "text/latex": "$\\displaystyle \\left\\{ \\mathrm{Fr}_5 : 2.64165934002348 - 8.0 \\cdot 10^{-22} i, \\  \\zeta_{5} : 0.0757099891609122 - 2.38221021857946 \\cdot 10^{-25} i\\right\\}$",
            "text/plain": [
              "{\\mathrm{Fr}₅: 2.64165934002348 - 0.e-21⋅ⅈ, \\zeta₅: 0.0757099891609122 - 2.382\n",
              "21021857946e-25⋅ⅈ}"
            ]
          },
          "metadata": {
            "tags": []
          },
          "execution_count": 91
        }
      ]
    },
    {
      "cell_type": "code",
      "metadata": {
        "colab": {
          "base_uri": "https://localhost:8080/",
          "height": 38
        },
        "id": "o24Cv51WGiiv",
        "outputId": "e561ac33-3d33-4527-f773-d52a622450e3"
      },
      "source": [
        "Δζ15 = symbols( r\"\\Delta\\zeta_{15}\" )\n",
        "eqC1 = Eq( Δζ15, 1 - re( sol2[1][ζ5] ) )\n",
        "eqC1"
      ],
      "execution_count": 65,
      "outputs": [
        {
          "output_type": "execute_result",
          "data": {
            "image/png": "[encoded data removed]",
            "text/latex": "$\\displaystyle \\Delta\\zeta_{15} = 0.00921670216466375$",
            "text/plain": [
              "\\Delta\\zeta_{15} = 0.00921670216466375"
            ]
          },
          "metadata": {
            "tags": []
          },
          "execution_count": 65
        }
      ]
    },
    {
      "cell_type": "code",
      "metadata": {
        "id": "W7KgqRZfV_5_"
      },
      "source": [
        ""
      ],
      "execution_count": null,
      "outputs": []
    }
  ]
}