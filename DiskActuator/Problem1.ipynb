{
  "nbformat": 4,
  "nbformat_minor": 0,
  "metadata": {
    "colab": {
      "name": "Problem1.ipynb",
      "provenance": [],
      "authorship_tag": "ABX9TyO7akJOhQIb2AbHKwImKCYR",
      "include_colab_link": true
    },
    "kernelspec": {
      "name": "python3",
      "display_name": "Python 3"
    },
    "language_info": {
      "name": "python"
    }
  },
  "cells": [
    {
      "cell_type": "markdown",
      "metadata": {
        "id": "view-in-github",
        "colab_type": "text"
      },
      "source": [
        "<a href=\"https://colab.research.google.com/github/joaochenriques/MCTE_2020_2021/blob/main/DiskActuator/Problem1.ipynb\" target=\"_parent\"><img src=\"https://colab.research.google.com/assets/colab-badge.svg\" alt=\"Open In Colab\"/></a>"
      ]
    },
    {
      "cell_type": "code",
      "metadata": {
        "id": "ngYrhzaf411H"
      },
      "source": [
        "from sympy import *\n",
        "init_printing()"
      ],
      "execution_count": 1,
      "outputs": []
    },
    {
      "cell_type": "code",
      "metadata": {
        "id": "YIOlbupnaX1y"
      },
      "source": [
        "Eq.__getitem__ = lambda self, i: self.args[i]\n",
        "# To allow equation.subs( [Eq(x,y)] )"
      ],
      "execution_count": 2,
      "outputs": []
    },
    {
      "cell_type": "markdown",
      "metadata": {
        "id": "BLEhN2HIcIGl"
      },
      "source": [
        "# Define the variables of the problem"
      ]
    },
    {
      "cell_type": "code",
      "metadata": {
        "id": "u_i1_X0z43-S"
      },
      "source": [
        "ζ4, ζ4t, ζ4b, ζ5 = symbols( r\"\\zeta_4, \\zeta_{4b}, \\zeta_{4t}, \\zeta_5\")"
      ],
      "execution_count": 3,
      "outputs": []
    },
    {
      "cell_type": "code",
      "metadata": {
        "id": "l9cFNTch5M3x"
      },
      "source": [
        "Fr1, Fr4, Fr4t, Fr4b, Fr5 = symbols( r\"\\mathrm{Fr}_1, \\mathrm{Fr}_4, \\mathrm{Fr}_{4b}, \\mathrm{Fr}_{4t}, \\mathrm{Fr}_5\" )"
      ],
      "execution_count": 4,
      "outputs": []
    },
    {
      "cell_type": "code",
      "metadata": {
        "id": "Agy3LvBn5U3H"
      },
      "source": [
        "B = symbols( \"B\")"
      ],
      "execution_count": 5,
      "outputs": []
    },
    {
      "cell_type": "markdown",
      "metadata": {
        "id": "GaegaKvwcM6W"
      },
      "source": [
        "# Define the equations required to compute the conditions at (4)"
      ]
    },
    {
      "cell_type": "code",
      "metadata": {
        "colab": {
          "base_uri": "https://localhost:8080/",
          "height": 55
        },
        "id": "He0Abd6p5tdX",
        "outputId": "4d242461-2436-4709-9cfa-57bada1e2b94"
      },
      "source": [
        "Eq1 = Eq( ζ4, 1 + Fr1**2/2 - Fr4b**2/2 )\n",
        "Eq1"
      ],
      "execution_count": 6,
      "outputs": [
        {
          "output_type": "execute_result",
          "data": {
            "image/png": "[encoded data removed]",
            "text/latex": "$\\displaystyle \\zeta_{4} = \\frac{\\mathrm{Fr}_1^{2}}{2} - \\frac{\\mathrm{Fr}_{4t}^{2}}{2} + 1$",
            "text/plain": [
              "                     2                   2    \n",
              "         \\mathrm{Fr}₁    \\mathrm{Fr}_{4t}     \n",
              "\\zeta₄ = ───────────── - ───────────────── + 1\n",
              "               2                 2            "
            ]
          },
          "metadata": {
            "tags": []
          },
          "execution_count": 6
        }
      ]
    },
    {
      "cell_type": "code",
      "metadata": {
        "colab": {
          "base_uri": "https://localhost:8080/",
          "height": 38
        },
        "id": "5G3pGvnt52Ci",
        "outputId": "bcfdf363-6c7a-42da-fad7-8fe1749cd2c6"
      },
      "source": [
        "Eq2 = Eq( Fr4t * ζ4t + Fr4b * ζ4b, Fr1 )\n",
        "Eq2"
      ],
      "execution_count": 7,
      "outputs": [
        {
          "output_type": "execute_result",
          "data": {
            "image/png": "[encoded data removed]",
            "text/latex": "$\\displaystyle \\mathrm{Fr}_{4b} \\zeta_{4b} + \\mathrm{Fr}_{4t} \\zeta_{4t} = \\mathrm{Fr}_1$",
            "text/plain": [
              "\\mathrm{Fr}_{4b}⋅\\zeta_{4b} + \\mathrm{Fr}_{4t}⋅\\zeta_{4t} = \\mathrm{Fr}₁"
            ]
          },
          "metadata": {
            "tags": []
          },
          "execution_count": 7
        }
      ]
    },
    {
      "cell_type": "code",
      "metadata": {
        "colab": {
          "base_uri": "https://localhost:8080/",
          "height": 38
        },
        "id": "ichr8GK56CVB",
        "outputId": "8776f16f-66dc-47b6-f558-9e9cb19ff6df"
      },
      "source": [
        "Eq3 = Eq( ζ4, ζ4t + ζ4b )\n",
        "Eq3"
      ],
      "execution_count": 8,
      "outputs": [
        {
          "output_type": "execute_result",
          "data": {
            "image/png": "[encoded data removed]",
            "text/latex": "$\\displaystyle \\zeta_{4} = \\zeta_{4b} + \\zeta_{4t}$",
            "text/plain": [
              "\\zeta₄ = \\zeta_{4b} + \\zeta_{4t}"
            ]
          },
          "metadata": {
            "tags": []
          },
          "execution_count": 8
        }
      ]
    },
    {
      "cell_type": "code",
      "metadata": {
        "colab": {
          "base_uri": "https://localhost:8080/",
          "height": 56
        },
        "id": "mp-vbSH96P8K",
        "outputId": "c826cd1e-b1f3-4e94-ce74-7fadd9eed385"
      },
      "source": [
        "Eq4 = Eq( Fr4t**2 * ζ4t + Fr4b**2 * ζ4b - Fr1**2, -(ζ4**2-1)/2 - B/2*(Fr4b**2 - Fr4t**2) )\n",
        "Eq4"
      ],
      "execution_count": 9,
      "outputs": [
        {
          "output_type": "execute_result",
          "data": {
            "image/png": "[encoded data removed]",
            "text/latex": "$\\displaystyle - \\mathrm{Fr}_1^{2} + \\mathrm{Fr}_{4b}^{2} \\zeta_{4b} + \\mathrm{Fr}_{4t}^{2} \\zeta_{4t} = - \\frac{B \\left(- \\mathrm{Fr}_{4b}^{2} + \\mathrm{Fr}_{4t}^{2}\\right)}{2} - \\frac{\\zeta_{4}^{2}}{2} + \\frac{1}{2}$",
            "text/plain": [
              "                                                                              \n",
              "              2                   2                              2            \n",
              "- \\mathrm{Fr}₁  + \\mathrm{Fr}_{4b} ⋅\\zeta_{4b} + \\mathrm{Fr}_{4t} ⋅\\zeta_{4t} \n",
              "                                                                              \n",
              "\n",
              "      ⎛                  2                   2⎞         2    \n",
              "    B⋅⎝- \\mathrm{Fr}_{4b}  + \\mathrm{Fr}_{4t} ⎠   \\zeta₄    1\n",
              "= - ─────────────────────────────────────────── - ─────── + ─\n",
              "                         2                           2      2"
            ]
          },
          "metadata": {
            "tags": []
          },
          "execution_count": 9
        }
      ]
    },
    {
      "cell_type": "code",
      "metadata": {
        "colab": {
          "base_uri": "https://localhost:8080/",
          "height": 58
        },
        "id": "MKj7PsXq6jn8",
        "outputId": "50610ec0-5c60-44f4-c59c-9ec2fdcd8029"
      },
      "source": [
        "data = { Fr1: 0.2, B: 0.2, Fr4b: 0.3 }\n",
        "sys1 = [ Eq1.subs(data), Eq2.subs(data), Eq3.subs(data), Eq4.subs(data) ]\n",
        "sys1"
      ],
      "execution_count": 10,
      "outputs": [
        {
          "output_type": "execute_result",
          "data": {
            "image/png": "[encoded data removed]",
            "text/latex": "$\\displaystyle \\left[ \\zeta_{4} = 0.975, \\  \\mathrm{Fr}_{4b} \\zeta_{4b} + 0.3 \\zeta_{4t} = 0.2, \\  \\zeta_{4} = \\zeta_{4b} + \\zeta_{4t}, \\  \\mathrm{Fr}_{4b}^{2} \\zeta_{4b} + 0.09 \\zeta_{4t} - 0.04 = 0.1 \\mathrm{Fr}_{4b}^{2} - \\frac{\\zeta_{4}^{2}}{2} + 0.491\\right]$",
            "text/plain": [
              "⎡                                                                             \n",
              "⎢                                                                             \n",
              "⎢\\zeta₄ = 0.975, \\mathrm{Fr}_{4b}⋅\\zeta_{4b} + 0.3⋅\\zeta_{4t} = 0.2, \\zeta₄ = \n",
              "⎣                                                                             \n",
              "\n",
              "                                                                              \n",
              "                                         2                                    \n",
              "\\zeta_{4b} + \\zeta_{4t}, \\mathrm{Fr}_{4b} ⋅\\zeta_{4b} + 0.09⋅\\zeta_{4t} - 0.04\n",
              "                                                                              \n",
              "\n",
              "                                 2        ⎤\n",
              "                       2   \\zeta₄         ⎥\n",
              " = 0.1⋅\\mathrm{Fr}_{4b}  - ─────── + 0.491⎥\n",
              "                              2           ⎦"
            ]
          },
          "metadata": {
            "tags": []
          },
          "execution_count": 10
        }
      ]
    },
    {
      "cell_type": "code",
      "metadata": {
        "colab": {
          "base_uri": "https://localhost:8080/",
          "height": 37
        },
        "id": "x07TpcTr6zjg",
        "outputId": "da0f9f4d-5cd7-4757-82d7-aef7b531bd18"
      },
      "source": [
        "sol = solve( sys1, [ ζ4b, ζ4t, ζ4, Fr4t ], dict=True )\n",
        "len( sol )"
      ],
      "execution_count": 11,
      "outputs": [
        {
          "output_type": "execute_result",
          "data": {
            "image/png": "[encoded data removed]",
            "text/latex": "$\\displaystyle 2$",
            "text/plain": [
              "2"
            ]
          },
          "metadata": {
            "tags": []
          },
          "execution_count": 11
        }
      ]
    },
    {
      "cell_type": "code",
      "metadata": {
        "colab": {
          "base_uri": "https://localhost:8080/",
          "height": 38
        },
        "id": "tnshDJtO8WaN",
        "outputId": "4cf1015e-4ba2-4eca-b02a-e7004191e551"
      },
      "source": [
        "sol[0]"
      ],
      "execution_count": 12,
      "outputs": [
        {
          "output_type": "execute_result",
          "data": {
            "image/png": "[encoded data removed]",
            "text/latex": "$\\displaystyle \\left\\{ \\mathrm{Fr}_{4b} : -0.969482494766831, \\  \\zeta_{4} : 0.975, \\  \\zeta_{4b} : 0.0728643367524258, \\  \\zeta_{4t} : 0.902135663247574\\right\\}$",
            "text/plain": [
              "{\\mathrm{Fr}_{4b}: -0.969482494766831, \\zeta₄: 0.975, \\zeta_{4b}: 0.0728643367\n",
              "524258, \\zeta_{4t}: 0.902135663247574}"
            ]
          },
          "metadata": {
            "tags": []
          },
          "execution_count": 12
        }
      ]
    },
    {
      "cell_type": "code",
      "metadata": {
        "colab": {
          "base_uri": "https://localhost:8080/",
          "height": 38
        },
        "id": "El4TiPUa9_K-",
        "outputId": "bd7f5ad1-c3e9-4b95-ad2f-063d889e4a1c"
      },
      "source": [
        "sol[1]"
      ],
      "execution_count": 13,
      "outputs": [
        {
          "output_type": "execute_result",
          "data": {
            "image/png": "[encoded data removed]",
            "text/latex": "$\\displaystyle \\left\\{ \\mathrm{Fr}_{4b} : 0.0444824947668312, \\  \\zeta_{4} : 0.975, \\  \\zeta_{4b} : 0.36201042239979, \\  \\zeta_{4t} : 0.61298957760021\\right\\}$",
            "text/plain": [
              "{\\mathrm{Fr}_{4b}: 0.0444824947668312, \\zeta₄: 0.975, \\zeta_{4b}: 0.3620104223\n",
              "9979, \\zeta_{4t}: 0.61298957760021}"
            ]
          },
          "metadata": {
            "tags": []
          },
          "execution_count": 13
        }
      ]
    },
    {
      "cell_type": "code",
      "metadata": {
        "id": "Y1wh9VO3-EAR"
      },
      "source": [
        "C_T, C_P = symbols( \"C_\\mathrm{T}, C_\\mathrm{P}\")\n",
        "Fr2t = symbols( \"\\mathrm{Fr}_{2t}\")"
      ],
      "execution_count": 14,
      "outputs": []
    },
    {
      "cell_type": "code",
      "metadata": {
        "id": "BH-9E6OP-118"
      },
      "source": [
        "EqCT = Eq( C_T, ( Fr4b**2-Fr4t**2 )/Fr1**2 ) \n",
        "EqCP = Eq( C_P, C_T * Fr2t / Fr1 )\n",
        "EqFr2t = Eq( Fr2t, Fr4t * ζ4t / B )"
      ],
      "execution_count": 15,
      "outputs": []
    },
    {
      "cell_type": "code",
      "metadata": {
        "colab": {
          "base_uri": "https://localhost:8080/",
          "height": 38
        },
        "id": "vk5Q8vI8-_13",
        "outputId": "116385ea-f9be-4124-b9fd-2997da96dcf8"
      },
      "source": [
        "EqCT.subs( sol[1] ).subs( data )"
      ],
      "execution_count": 16,
      "outputs": [
        {
          "output_type": "execute_result",
          "data": {
            "image/png": "[encoded data removed]",
            "text/latex": "$\\displaystyle C_\\mathrm{T} = 2.20053269148297$",
            "text/plain": [
              "C_\\mathrm{T} = 2.20053269148297"
            ]
          },
          "metadata": {
            "tags": []
          },
          "execution_count": 16
        }
      ]
    },
    {
      "cell_type": "code",
      "metadata": {
        "colab": {
          "base_uri": "https://localhost:8080/",
          "height": 37
        },
        "id": "tLTTIhPMAbYW",
        "outputId": "7c7a8916-5a96-4048-ee5a-2633654e119b"
      },
      "source": [
        "EqFr2t.subs( data ).subs( sol[1] )"
      ],
      "execution_count": 17,
      "outputs": [
        {
          "output_type": "execute_result",
          "data": {
            "image/png": "[encoded data removed]",
            "text/latex": "$\\displaystyle \\mathrm{Fr}_{2t} = 0.080515633599685$",
            "text/plain": [
              "\\mathrm{Fr}_{2t} = 0.080515633599685"
            ]
          },
          "metadata": {
            "tags": []
          },
          "execution_count": 17
        }
      ]
    },
    {
      "cell_type": "code",
      "metadata": {
        "colab": {
          "base_uri": "https://localhost:8080/",
          "height": 38
        },
        "id": "3KHOWAkJAnNc",
        "outputId": "faadc4b7-bbcc-43c0-b9f3-37b7ade37163"
      },
      "source": [
        "EqCP.subs( [EqFr2t] ).subs( [EqCT] ).subs( data ).subs( sol[1] )"
      ],
      "execution_count": 18,
      "outputs": [
        {
          "output_type": "execute_result",
          "data": {
            "image/png": "[encoded data removed]",
            "text/latex": "$\\displaystyle C_\\mathrm{P} = 0.885886419557858$",
            "text/plain": [
              "C_\\mathrm{P} = 0.885886419557858"
            ]
          },
          "metadata": {
            "tags": []
          },
          "execution_count": 18
        }
      ]
    },
    {
      "cell_type": "markdown",
      "metadata": {
        "id": "muCCXgPxFChb"
      },
      "source": [
        "# Compute conditions at section (5)"
      ]
    },
    {
      "cell_type": "markdown",
      "metadata": {
        "id": "n0tji70gFNW5"
      },
      "source": [
        "Mass balance"
      ]
    },
    {
      "cell_type": "code",
      "metadata": {
        "id": "BTag4dqeWfaE",
        "outputId": "c980bd39-8463-40a4-b8aa-baba7e08b15c",
        "colab": {
          "base_uri": "https://localhost:8080/",
          "height": 38
        }
      },
      "source": [
        "eqB1 = Eq( Fr4b * ζ4b + Fr4t * ζ4t, Fr5 * ζ5 )\n",
        "eqB1"
      ],
      "execution_count": 27,
      "outputs": [
        {
          "output_type": "execute_result",
          "data": {
            "image/png": "[encoded data removed]",
            "text/latex": "$\\displaystyle \\mathrm{Fr}_{4b} \\zeta_{4b} + \\mathrm{Fr}_{4t} \\zeta_{4t} = \\mathrm{Fr}_5 \\zeta_{5}$",
            "text/plain": [
              "\\mathrm{Fr}_{4b}⋅\\zeta_{4b} + \\mathrm{Fr}_{4t}⋅\\zeta_{4t} = \\mathrm{Fr}₅⋅\\zeta\n",
              "₅"
            ]
          },
          "metadata": {
            "tags": []
          },
          "execution_count": 27
        }
      ]
    },
    {
      "cell_type": "markdown",
      "metadata": {
        "id": "_v3qUX3QFczY"
      },
      "source": [
        "Momentum balance"
      ]
    },
    {
      "cell_type": "code",
      "metadata": {
        "id": "MpV9RnYmFYRb",
        "outputId": "372e1003-3366-476c-ffc6-b15d5cc330e8",
        "colab": {
          "base_uri": "https://localhost:8080/",
          "height": 38
        }
      },
      "source": [
        "eqB2 = Eq( Fr5**2 * ζ5 - Fr4b**2 * ζ4b - Fr4t**2 * ζ4t, -(ζ5**2 - ζ4**2) )\n",
        "eqB2"
      ],
      "execution_count": 28,
      "outputs": [
        {
          "output_type": "execute_result",
          "data": {
            "image/png": "[encoded data removed]",
            "text/latex": "$\\displaystyle \\mathrm{Fr}_5^{2} \\zeta_{5} - \\mathrm{Fr}_{4b}^{2} \\zeta_{4b} - \\mathrm{Fr}_{4t}^{2} \\zeta_{4t} = \\zeta_{4}^{2} - \\zeta_{5}^{2}$",
            "text/plain": [
              "            2                          2                              2       \n",
              "\\mathrm{Fr}₅ ⋅\\zeta₅ - \\mathrm{Fr}_{4b} ⋅\\zeta_{4b} - \\mathrm{Fr}_{4t} ⋅\\zeta_\n",
              "\n",
              "             2         2\n",
              "{4t} = \\zeta₄  - \\zeta₅ "
            ]
          },
          "metadata": {
            "tags": []
          },
          "execution_count": 28
        }
      ]
    },
    {
      "cell_type": "code",
      "metadata": {
        "id": "1cTst5H0GEYL",
        "outputId": "1de9994e-61d7-477a-b12f-922587785521",
        "colab": {
          "base_uri": "https://localhost:8080/",
          "height": 38
        }
      },
      "source": [
        "sys2 = [ eqB1.subs(data).subs( (sol[1]) ), eqB2.subs(data).subs( (sol[1]) ) ]\n",
        "sys2"
      ],
      "execution_count": 29,
      "outputs": [
        {
          "output_type": "execute_result",
          "data": {
            "image/png": "[encoded data removed]",
            "text/latex": "$\\displaystyle \\left[ 0.2 = \\mathrm{Fr}_5 \\zeta_{5}, \\  \\mathrm{Fr}_5^{2} \\zeta_{5} - 0.0558853692340681 = 0.950625 - \\zeta_{5}^{2}\\right]$",
            "text/plain": [
              "⎡                                       2                                     \n",
              "⎣0.2 = \\mathrm{Fr}₅⋅\\zeta₅, \\mathrm{Fr}₅ ⋅\\zeta₅ - 0.0558853692340681 = 0.9506\n",
              "\n",
              "           2⎤\n",
              "25 - \\zeta₅ ⎦"
            ]
          },
          "metadata": {
            "tags": []
          },
          "execution_count": 29
        }
      ]
    },
    {
      "cell_type": "code",
      "metadata": {
        "id": "cXseFScaGNQw",
        "outputId": "fd1fe922-5635-4b7e-db7e-8b34209a9971",
        "colab": {
          "base_uri": "https://localhost:8080/",
          "height": 37
        }
      },
      "source": [
        "sol2 = solve( sys2, [ ζ5, Fr5 ], dict=True )\n",
        "len( sol2 )"
      ],
      "execution_count": 30,
      "outputs": [
        {
          "output_type": "execute_result",
          "data": {
            "image/png": "[encoded data removed]",
            "text/latex": "$\\displaystyle 3$",
            "text/plain": [
              "3"
            ]
          },
          "metadata": {
            "tags": []
          },
          "execution_count": 30
        }
      ]
    },
    {
      "cell_type": "code",
      "metadata": {
        "id": "P5Odo-8vGcsj",
        "outputId": "f4e873a0-770d-428a-9f5f-05efe0002035",
        "colab": {
          "base_uri": "https://localhost:8080/",
          "height": 38
        }
      },
      "source": [
        "sol2[0]"
      ],
      "execution_count": 31,
      "outputs": [
        {
          "output_type": "execute_result",
          "data": {
            "image/png": "[encoded data removed]",
            "text/latex": "$\\displaystyle \\left\\{ \\mathrm{Fr}_5 : -0.195587643713706 - 5.0 \\cdot 10^{-23} i, \\  \\zeta_{5} : -1.022559483833 + 1.27390859324499 \\cdot 10^{-23} i\\right\\}$",
            "text/plain": [
              "{\\mathrm{Fr}₅: -0.195587643713706 - 0.e-22⋅ⅈ, \\zeta₅: -1.022559483833 + 1.2739\n",
              "0859324499e-23⋅ⅈ}"
            ]
          },
          "metadata": {
            "tags": []
          },
          "execution_count": 31
        }
      ]
    },
    {
      "cell_type": "code",
      "metadata": {
        "id": "5aLZ-jKZGfxB",
        "outputId": "37817969-cee7-4087-af0e-015017eaaf32",
        "colab": {
          "base_uri": "https://localhost:8080/",
          "height": 38
        }
      },
      "source": [
        "sol2[1]"
      ],
      "execution_count": 38,
      "outputs": [
        {
          "output_type": "execute_result",
          "data": {
            "image/png": "[encoded data removed]",
            "text/latex": "$\\displaystyle \\left\\{ \\mathrm{Fr}_5 : 0.203509406019088 + 1.0 \\cdot 10^{-20} i, \\  \\zeta_{5} : 0.98275555863615 - 1.41273509960629 \\cdot 10^{-23} i\\right\\}$",
            "text/plain": [
              "{\\mathrm{Fr}₅: 0.203509406019088 + 0.e-20⋅ⅈ, \\zeta₅: 0.98275555863615 - 1.4127\n",
              "3509960629e-23⋅ⅈ}"
            ]
          },
          "metadata": {
            "tags": []
          },
          "execution_count": 38
        }
      ]
    },
    {
      "cell_type": "code",
      "metadata": {
        "id": "diDkQy-rUxzS",
        "outputId": "400611b8-5ef2-44d5-9a08-7a06a95ff75a",
        "colab": {
          "base_uri": "https://localhost:8080/",
          "height": 38
        }
      },
      "source": [
        "sol2[2]"
      ],
      "execution_count": 35,
      "outputs": [
        {
          "output_type": "execute_result",
          "data": {
            "image/png": "[encoded data removed]",
            "text/latex": "$\\displaystyle \\left\\{ \\mathrm{Fr}_5 : 5.02463008386496 - 2.0 \\cdot 10^{-22} i, \\  \\zeta_{5} : 0.0398039251968494 - 1.60979620510206 \\cdot 10^{-25} i\\right\\}$",
            "text/plain": [
              "{\\mathrm{Fr}₅: 5.02463008386496 - 0.e-22⋅ⅈ, \\zeta₅: 0.0398039251968494 - 1.609\n",
              "79620510206e-25⋅ⅈ}"
            ]
          },
          "metadata": {
            "tags": []
          },
          "execution_count": 35
        }
      ]
    },
    {
      "cell_type": "code",
      "metadata": {
        "id": "o24Cv51WGiiv",
        "outputId": "0bc4082b-45a6-47b5-fcf5-7cac2cac80b1",
        "colab": {
          "base_uri": "https://localhost:8080/",
          "height": 38
        }
      },
      "source": [
        "Δζ15 = symbols( r\"\\Delta\\zeta_{15}\" )\n",
        "eqC1 = Eq( Δζ15, 1 - re( sol2[1][ζ5] ) )\n",
        "eqC1"
      ],
      "execution_count": 47,
      "outputs": [
        {
          "output_type": "execute_result",
          "data": {
            "image/png": "[encoded data removed]",
            "text/latex": "$\\displaystyle \\Delta\\zeta_{15} = 0.0172444413638504$",
            "text/plain": [
              "\\Delta\\zeta_{15} = 0.0172444413638504"
            ]
          },
          "metadata": {
            "tags": []
          },
          "execution_count": 47
        }
      ]
    },
    {
      "cell_type": "code",
      "metadata": {
        "id": "W7KgqRZfV_5_"
      },
      "source": [
        ""
      ],
      "execution_count": null,
      "outputs": []
    }
  ]
}