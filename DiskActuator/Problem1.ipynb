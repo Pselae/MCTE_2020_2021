{
  "nbformat": 4,
  "nbformat_minor": 0,
  "metadata": {
    "colab": {
      "name": "Problem1.ipynb",
      "provenance": [],
      "authorship_tag": "ABX9TyMVULSxqfgIN46B9fnQDdZ9",
      "include_colab_link": true
    },
    "kernelspec": {
      "name": "python3",
      "display_name": "Python 3"
    },
    "language_info": {
      "name": "python"
    }
  },
  "cells": [
    {
      "cell_type": "markdown",
      "metadata": {
        "id": "view-in-github",
        "colab_type": "text"
      },
      "source": [
        "<a href=\"https://colab.research.google.com/github/joaochenriques/MCTE_2020_2021/blob/main/DiskActuator/Problem1.ipynb\" target=\"_parent\"><img src=\"https://colab.research.google.com/assets/colab-badge.svg\" alt=\"Open In Colab\"/></a>"
      ]
    },
    {
      "cell_type": "code",
      "metadata": {
        "id": "ngYrhzaf411H"
      },
      "source": [
        "from sympy import *\n",
        "#init_printing()\n",
        "init_printing(use_latex='mathjax', use_unicode=True)\n",
        "from IPython.display import Math"
      ],
      "execution_count": 1,
      "outputs": []
    },
    {
      "cell_type": "code",
      "metadata": {
        "id": "YIOlbupnaX1y"
      },
      "source": [
        "Eq.__getitem__ = lambda self, i: self.args[i]\n",
        "# To allow equation.subs( [Eq(x,y)] )"
      ],
      "execution_count": 2,
      "outputs": []
    },
    {
      "cell_type": "markdown",
      "metadata": {
        "id": "BLEhN2HIcIGl"
      },
      "source": [
        "# Define the variables of the problem"
      ]
    },
    {
      "cell_type": "code",
      "metadata": {
        "id": "u_i1_X0z43-S"
      },
      "source": [
        "ζ4, ζ4t, ζ4b, ζ5 = symbols( r\"\\zeta_4, \\zeta_{4b}, \\zeta_{4t}, \\zeta_5\")"
      ],
      "execution_count": 3,
      "outputs": []
    },
    {
      "cell_type": "code",
      "metadata": {
        "id": "l9cFNTch5M3x"
      },
      "source": [
        "Fr1, Fr4, Fr4t, Fr4b, Fr5 = symbols( r\"\\mathrm{Fr}_1, \\mathrm{Fr}_4, \\mathrm{Fr}_{4t}, \\mathrm{Fr}_{4b}, \\mathrm{Fr}_5\" )"
      ],
      "execution_count": 4,
      "outputs": []
    },
    {
      "cell_type": "code",
      "metadata": {
        "id": "Agy3LvBn5U3H"
      },
      "source": [
        "B = symbols( \"B\")"
      ],
      "execution_count": 5,
      "outputs": []
    },
    {
      "cell_type": "markdown",
      "metadata": {
        "id": "wcyxTaTpi-UE"
      },
      "source": [
        "# Data of the problem"
      ]
    },
    {
      "cell_type": "code",
      "metadata": {
        "colab": {
          "base_uri": "https://localhost:8080/",
          "height": 38
        },
        "id": "MypfMhM6i9eV",
        "outputId": "8fbecf4f-ede6-46e6-9ab4-343c350f3c81"
      },
      "source": [
        "data = { B: 0.8, Fr1: 0.2, Fr4b: 0.3 }\n",
        "data"
      ],
      "execution_count": 6,
      "outputs": [
        {
          "output_type": "execute_result",
          "data": {
            "text/latex": "$\\displaystyle \\left\\{ B : 0.8, \\  \\mathrm{Fr}_1 : 0.2, \\  \\mathrm{Fr}_{4b} : 0.3\\right\\}$",
            "text/plain": [
              "{B: 0.8, \\mathrm{Fr}₁: 0.2, \\mathrm{Fr}_{4b}: 0.3}"
            ]
          },
          "metadata": {
            "tags": []
          },
          "execution_count": 6
        }
      ]
    },
    {
      "cell_type": "markdown",
      "metadata": {
        "id": "GaegaKvwcM6W"
      },
      "source": [
        "# Define the equations required to compute the conditions at (4)"
      ]
    },
    {
      "cell_type": "code",
      "metadata": {
        "colab": {
          "base_uri": "https://localhost:8080/",
          "height": 55
        },
        "id": "He0Abd6p5tdX",
        "outputId": "f1f5c1b0-4ae1-4cf5-ce05-6ed9cd1c7475"
      },
      "source": [
        "EqA1 = Eq( ζ4, 1 + Fr1**2/2 - Fr4b**2/2 )\n",
        "EqA1"
      ],
      "execution_count": 7,
      "outputs": [
        {
          "output_type": "execute_result",
          "data": {
            "text/latex": "$\\displaystyle \\zeta_{4} = \\frac{\\mathrm{Fr}_1^{2}}{2} - \\frac{\\mathrm{Fr}_{4b}^{2}}{2} + 1$",
            "text/plain": [
              "                     2                   2    \n",
              "         \\mathrm{Fr}₁    \\mathrm{Fr}_{4b}     \n",
              "\\zeta₄ = ───────────── - ───────────────── + 1\n",
              "               2                 2            "
            ]
          },
          "metadata": {
            "tags": []
          },
          "execution_count": 7
        }
      ]
    },
    {
      "cell_type": "code",
      "metadata": {
        "colab": {
          "base_uri": "https://localhost:8080/",
          "height": 38
        },
        "id": "5G3pGvnt52Ci",
        "outputId": "7e9b67ab-acc4-4820-d4ed-86ed4da8febe"
      },
      "source": [
        "EqA2 = Eq( Fr4t * ζ4t + Fr4b * ζ4b, Fr1 )\n",
        "EqA2"
      ],
      "execution_count": 8,
      "outputs": [
        {
          "output_type": "execute_result",
          "data": {
            "text/latex": "$\\displaystyle \\mathrm{Fr}_{4b} \\zeta_{4t} + \\mathrm{Fr}_{4t} \\zeta_{4b} = \\mathrm{Fr}_1$",
            "text/plain": [
              "\\mathrm{Fr}_{4b}⋅\\zeta_{4t} + \\mathrm{Fr}_{4t}⋅\\zeta_{4b} = \\mathrm{Fr}₁"
            ]
          },
          "metadata": {
            "tags": []
          },
          "execution_count": 8
        }
      ]
    },
    {
      "cell_type": "code",
      "metadata": {
        "colab": {
          "base_uri": "https://localhost:8080/",
          "height": 38
        },
        "id": "ichr8GK56CVB",
        "outputId": "40227583-5d5f-42ee-92e5-4b5d81dc07ad"
      },
      "source": [
        "EqA3 = Eq( ζ4, ζ4t + ζ4b )\n",
        "EqA3"
      ],
      "execution_count": 9,
      "outputs": [
        {
          "output_type": "execute_result",
          "data": {
            "text/latex": "$\\displaystyle \\zeta_{4} = \\zeta_{4b} + \\zeta_{4t}$",
            "text/plain": [
              "\\zeta₄ = \\zeta_{4b} + \\zeta_{4t}"
            ]
          },
          "metadata": {
            "tags": []
          },
          "execution_count": 9
        }
      ]
    },
    {
      "cell_type": "code",
      "metadata": {
        "colab": {
          "base_uri": "https://localhost:8080/",
          "height": 56
        },
        "id": "mp-vbSH96P8K",
        "outputId": "f93832a2-71d7-4d34-feb6-5707522b850f"
      },
      "source": [
        "EqA4 = Eq( Fr4t**2 * ζ4t + Fr4b**2 * ζ4b - Fr1**2, -(ζ4**2-1)/2 - B/2*(Fr4b**2 - Fr4t**2) )\n",
        "EqA4"
      ],
      "execution_count": 10,
      "outputs": [
        {
          "output_type": "execute_result",
          "data": {
            "text/latex": "$\\displaystyle - \\mathrm{Fr}_1^{2} + \\mathrm{Fr}_{4b}^{2} \\zeta_{4t} + \\mathrm{Fr}_{4t}^{2} \\zeta_{4b} = - \\frac{B \\left(\\mathrm{Fr}_{4b}^{2} - \\mathrm{Fr}_{4t}^{2}\\right)}{2} - \\frac{\\zeta_{4}^{2}}{2} + \\frac{1}{2}$",
            "text/plain": [
              "                                                                              \n",
              "              2                   2                              2            \n",
              "- \\mathrm{Fr}₁  + \\mathrm{Fr}_{4b} ⋅\\zeta_{4t} + \\mathrm{Fr}_{4t} ⋅\\zeta_{4b} \n",
              "                                                                              \n",
              "\n",
              "      ⎛                2                   2⎞         2    \n",
              "    B⋅⎝\\mathrm{Fr}_{4b}  - \\mathrm{Fr}_{4t} ⎠   \\zeta₄    1\n",
              "= - ───────────────────────────────────────── - ─────── + ─\n",
              "                        2                          2      2"
            ]
          },
          "metadata": {
            "tags": []
          },
          "execution_count": 10
        }
      ]
    },
    {
      "cell_type": "code",
      "metadata": {
        "colab": {
          "base_uri": "https://localhost:8080/",
          "height": 58
        },
        "id": "MKj7PsXq6jn8",
        "outputId": "84bf47d8-562a-4918-eac5-967ffb92e5cc"
      },
      "source": [
        "sys1 = [ EqA1.subs(data), EqA2.subs(data), EqA3.subs(data), EqA4.subs(data) ]\n",
        "sys1"
      ],
      "execution_count": 11,
      "outputs": [
        {
          "output_type": "execute_result",
          "data": {
            "text/latex": "$\\displaystyle \\left[ \\zeta_{4} = 0.975, \\  \\mathrm{Fr}_{4t} \\zeta_{4b} + 0.3 \\zeta_{4t} = 0.2, \\  \\zeta_{4} = \\zeta_{4b} + \\zeta_{4t}, \\  \\mathrm{Fr}_{4t}^{2} \\zeta_{4b} + 0.09 \\zeta_{4t} - 0.04 = 0.4 \\mathrm{Fr}_{4t}^{2} - \\frac{\\zeta_{4}^{2}}{2} + 0.464\\right]$",
            "text/plain": [
              "⎡                                                                             \n",
              "⎢                                                                             \n",
              "⎢\\zeta₄ = 0.975, \\mathrm{Fr}_{4t}⋅\\zeta_{4b} + 0.3⋅\\zeta_{4t} = 0.2, \\zeta₄ = \n",
              "⎣                                                                             \n",
              "\n",
              "                                                                              \n",
              "                                         2                                    \n",
              "\\zeta_{4b} + \\zeta_{4t}, \\mathrm{Fr}_{4t} ⋅\\zeta_{4b} + 0.09⋅\\zeta_{4t} - 0.04\n",
              "                                                                              \n",
              "\n",
              "                                 2        ⎤\n",
              "                       2   \\zeta₄         ⎥\n",
              " = 0.4⋅\\mathrm{Fr}_{4t}  - ─────── + 0.464⎥\n",
              "                              2           ⎦"
            ]
          },
          "metadata": {
            "tags": []
          },
          "execution_count": 11
        }
      ]
    },
    {
      "cell_type": "code",
      "metadata": {
        "id": "x07TpcTr6zjg"
      },
      "source": [
        "sol1 = solve( sys1, [ ζ4b, ζ4t, ζ4, Fr4t ], dict=True )"
      ],
      "execution_count": 12,
      "outputs": []
    },
    {
      "cell_type": "code",
      "metadata": {
        "colab": {
          "base_uri": "https://localhost:8080/"
        },
        "id": "QvQvGjgSgoxK",
        "outputId": "1b6f1b85-2df3-46c3-a2a3-3175c6f75fdb"
      },
      "source": [
        "print( \"Number of sets of solutions: \", len( sol1 ) )"
      ],
      "execution_count": 13,
      "outputs": [
        {
          "output_type": "stream",
          "text": [
            "Number of sets of solutions:  2\n"
          ],
          "name": "stdout"
        }
      ]
    },
    {
      "cell_type": "code",
      "metadata": {
        "colab": {
          "base_uri": "https://localhost:8080/",
          "height": 55
        },
        "id": "tnshDJtO8WaN",
        "outputId": "062498a5-7d74-4c4f-af07-0f7d1bd8ce8e"
      },
      "source": [
        "print( \"Invalid volution\" )\n",
        "sol1[0]"
      ],
      "execution_count": 14,
      "outputs": [
        {
          "output_type": "stream",
          "text": [
            "Invalid volution\n"
          ],
          "name": "stdout"
        },
        {
          "output_type": "execute_result",
          "data": {
            "text/latex": "$\\displaystyle \\left\\{ \\mathrm{Fr}_{4t} : -0.418363155218334, \\  \\zeta_{4} : 0.975, \\  \\zeta_{4b} : 0.128764955897392, \\  \\zeta_{4t} : 0.846235044102608\\right\\}$",
            "text/plain": [
              "{\\mathrm{Fr}_{4t}: -0.418363155218334, \\zeta₄: 0.975, \\zeta_{4b}: 0.1287649558\n",
              "97392, \\zeta_{4t}: 0.846235044102608}"
            ]
          },
          "metadata": {
            "tags": []
          },
          "execution_count": 14
        }
      ]
    },
    {
      "cell_type": "code",
      "metadata": {
        "colab": {
          "base_uri": "https://localhost:8080/",
          "height": 55
        },
        "id": "El4TiPUa9_K-",
        "outputId": "b5181895-12f4-4409-f747-a5fc7fc065df"
      },
      "source": [
        "print( \"Valid volution\" )\n",
        "sol1[1]"
      ],
      "execution_count": 15,
      "outputs": [
        {
          "output_type": "stream",
          "text": [
            "Valid volution\n"
          ],
          "name": "stdout"
        },
        {
          "output_type": "execute_result",
          "data": {
            "text/latex": "$\\displaystyle \\left\\{ \\mathrm{Fr}_{4t} : 0.187113155218334, \\  \\zeta_{4} : 0.975, \\  \\zeta_{4b} : 0.819404600942685, \\  \\zeta_{4t} : 0.155595399057315\\right\\}$",
            "text/plain": [
              "{\\mathrm{Fr}_{4t}: 0.187113155218334, \\zeta₄: 0.975, \\zeta_{4b}: 0.81940460094\n",
              "2685, \\zeta_{4t}: 0.155595399057315}"
            ]
          },
          "metadata": {
            "tags": []
          },
          "execution_count": 15
        }
      ]
    },
    {
      "cell_type": "markdown",
      "metadata": {
        "id": "X7m3cmz7jSJQ"
      },
      "source": [
        "# Compute coefficients"
      ]
    },
    {
      "cell_type": "code",
      "metadata": {
        "id": "Y1wh9VO3-EAR"
      },
      "source": [
        "C_T, C_P = symbols( \"C_\\mathrm{T}, C_\\mathrm{P}\")\n",
        "Fr2t = symbols( \"\\mathrm{Fr}_{2t}\")"
      ],
      "execution_count": 16,
      "outputs": []
    },
    {
      "cell_type": "code",
      "metadata": {
        "id": "BH-9E6OP-118"
      },
      "source": [
        "EqCT = Eq( C_T, ( Fr4b**2-Fr4t**2 )/Fr1**2 ) \n",
        "EqCP = Eq( C_P, C_T * Fr2t / Fr1 )\n",
        "EqFr2t = Eq( Fr2t, Fr4t * ζ4t / B )"
      ],
      "execution_count": 17,
      "outputs": []
    },
    {
      "cell_type": "code",
      "metadata": {
        "colab": {
          "base_uri": "https://localhost:8080/",
          "height": 38
        },
        "id": "vk5Q8vI8-_13",
        "outputId": "9e127173-4789-4a34-d0a1-a27e2e31f36a"
      },
      "source": [
        "EqCT.subs( sol1[1] ).subs( data )"
      ],
      "execution_count": 18,
      "outputs": [
        {
          "output_type": "execute_result",
          "data": {
            "text/latex": "$\\displaystyle C_\\mathrm{T} = 1.37471667860599$",
            "text/plain": [
              "C_\\mathrm{T} = 1.37471667860599"
            ]
          },
          "metadata": {
            "tags": []
          },
          "execution_count": 18
        }
      ]
    },
    {
      "cell_type": "code",
      "metadata": {
        "colab": {
          "base_uri": "https://localhost:8080/",
          "height": 37
        },
        "id": "tLTTIhPMAbYW",
        "outputId": "1dfbdf92-1f7c-4d10-a362-7ec360dbec3c"
      },
      "source": [
        "EqFr2t.subs( data ).subs( sol1[1] )"
      ],
      "execution_count": 19,
      "outputs": [
        {
          "output_type": "execute_result",
          "data": {
            "text/latex": "$\\displaystyle \\mathrm{Fr}_{2t} = 0.191651725353507$",
            "text/plain": [
              "\\mathrm{Fr}_{2t} = 0.191651725353507"
            ]
          },
          "metadata": {
            "tags": []
          },
          "execution_count": 19
        }
      ]
    },
    {
      "cell_type": "code",
      "metadata": {
        "colab": {
          "base_uri": "https://localhost:8080/",
          "height": 38
        },
        "id": "3KHOWAkJAnNc",
        "outputId": "e392c8bf-32e9-4945-bd22-4f10405846a2"
      },
      "source": [
        "EqCP.subs( [EqFr2t] ).subs( [EqCT] ).subs( data ).subs( sol1[1] )"
      ],
      "execution_count": 20,
      "outputs": [
        {
          "output_type": "execute_result",
          "data": {
            "text/latex": "$\\displaystyle C_\\mathrm{P} = 1.3173341166354$",
            "text/plain": [
              "C_\\mathrm{P} = 1.3173341166354"
            ]
          },
          "metadata": {
            "tags": []
          },
          "execution_count": 20
        }
      ]
    },
    {
      "cell_type": "markdown",
      "metadata": {
        "id": "muCCXgPxFChb"
      },
      "source": [
        "# Compute conditions at section (5)"
      ]
    },
    {
      "cell_type": "markdown",
      "metadata": {
        "id": "n0tji70gFNW5"
      },
      "source": [
        "Mass balance"
      ]
    },
    {
      "cell_type": "code",
      "metadata": {
        "id": "BTag4dqeWfaE",
        "colab": {
          "base_uri": "https://localhost:8080/",
          "height": 38
        },
        "outputId": "889e18e9-039b-44b0-e3fb-d3900280f06d"
      },
      "source": [
        "eqB1 = Eq( Fr1, Fr5 * ζ5 )\n",
        "eqB1"
      ],
      "execution_count": 21,
      "outputs": [
        {
          "output_type": "execute_result",
          "data": {
            "text/latex": "$\\displaystyle \\mathrm{Fr}_1 = \\mathrm{Fr}_5 \\zeta_{5}$",
            "text/plain": [
              "\\mathrm{Fr}₁ = \\mathrm{Fr}₅⋅\\zeta₅"
            ]
          },
          "metadata": {
            "tags": []
          },
          "execution_count": 21
        }
      ]
    },
    {
      "cell_type": "markdown",
      "metadata": {
        "id": "_v3qUX3QFczY"
      },
      "source": [
        "Momentum balance"
      ]
    },
    {
      "cell_type": "code",
      "metadata": {
        "colab": {
          "base_uri": "https://localhost:8080/",
          "height": 53
        },
        "id": "MpV9RnYmFYRb",
        "outputId": "a51f8b24-c359-4dcb-9d03-e31405216606"
      },
      "source": [
        "eqB2 = Eq( Fr5**2 * ζ5 - ( Fr4b**2 * ζ4b + Fr4t**2 * ζ4t ), -( ζ5**2 - ζ4**2 )/2 )\n",
        "eqB2"
      ],
      "execution_count": 22,
      "outputs": [
        {
          "output_type": "execute_result",
          "data": {
            "text/latex": "$\\displaystyle \\mathrm{Fr}_5^{2} \\zeta_{5} - \\mathrm{Fr}_{4b}^{2} \\zeta_{4t} - \\mathrm{Fr}_{4t}^{2} \\zeta_{4b} = \\frac{\\zeta_{4}^{2}}{2} - \\frac{\\zeta_{5}^{2}}{2}$",
            "text/plain": [
              "                                                                              \n",
              "            2                          2                              2       \n",
              "\\mathrm{Fr}₅ ⋅\\zeta₅ - \\mathrm{Fr}_{4b} ⋅\\zeta_{4t} - \\mathrm{Fr}_{4t} ⋅\\zeta_\n",
              "                                                                              \n",
              "\n",
              "             2         2\n",
              "       \\zeta₄    \\zeta₅ \n",
              "{4b} = ─────── - ───────\n",
              "          2         2   "
            ]
          },
          "metadata": {
            "tags": []
          },
          "execution_count": 22
        }
      ]
    },
    {
      "cell_type": "code",
      "metadata": {
        "colab": {
          "base_uri": "https://localhost:8080/",
          "height": 58
        },
        "id": "1cTst5H0GEYL",
        "outputId": "ae24a151-addc-4156-a181-d496fafe18fc"
      },
      "source": [
        "sys2 = [ eqB1.subs(data).subs( (sol1[1]) ), eqB2.subs(data).subs( (sol1[1]) ) ]\n",
        "sys2"
      ],
      "execution_count": 23,
      "outputs": [
        {
          "output_type": "execute_result",
          "data": {
            "text/latex": "$\\displaystyle \\left[ 0.2 = \\mathrm{Fr}_5 \\zeta_{5}, \\  \\mathrm{Fr}_5^{2} \\zeta_{5} - 0.0426920331423041 = 0.4753125 - \\frac{\\zeta_{5}^{2}}{2}\\right]$",
            "text/plain": [
              "⎡                                                                             \n",
              "⎢                                       2                                     \n",
              "⎢0.2 = \\mathrm{Fr}₅⋅\\zeta₅, \\mathrm{Fr}₅ ⋅\\zeta₅ - 0.0426920331423041 = 0.4753\n",
              "⎣                                                                             \n",
              "\n",
              "            2⎤\n",
              "      \\zeta₅ ⎥\n",
              "125 - ───────⎥\n",
              "         2   ⎦"
            ]
          },
          "metadata": {
            "tags": []
          },
          "execution_count": 23
        }
      ]
    },
    {
      "cell_type": "code",
      "metadata": {
        "id": "cXseFScaGNQw"
      },
      "source": [
        "sol2 = solve( sys2, [ ζ5, Fr5 ], dict=True )"
      ],
      "execution_count": 24,
      "outputs": []
    },
    {
      "cell_type": "code",
      "metadata": {
        "colab": {
          "base_uri": "https://localhost:8080/"
        },
        "id": "S3vqXsa9h-04",
        "outputId": "21037cd3-4779-4367-eef8-ae3d198ef7fe"
      },
      "source": [
        "print( \"Number of sets of solutions: \", len( sol2 ) )"
      ],
      "execution_count": 25,
      "outputs": [
        {
          "output_type": "stream",
          "text": [
            "Number of sets of solutions:  3\n"
          ],
          "name": "stdout"
        }
      ]
    },
    {
      "cell_type": "code",
      "metadata": {
        "colab": {
          "base_uri": "https://localhost:8080/",
          "height": 38
        },
        "id": "P5Odo-8vGcsj",
        "outputId": "67f976b2-21af-4355-b53d-97131ef1a4d9"
      },
      "source": [
        "sol2[0] "
      ],
      "execution_count": 34,
      "outputs": [
        {
          "output_type": "execute_result",
          "data": {
            "text/latex": "$\\displaystyle \\left\\{ \\mathrm{Fr}_5 : -0.189671252279347 - 5.0 \\cdot 10^{-23} i, \\  \\zeta_{5} : -1.05445605275722 + 1.47199932018542 \\cdot 10^{-22} i\\right\\}$",
            "text/plain": [
              "{\\mathrm{Fr}₅: -0.189671252279347 - 0.e-22⋅ⅈ, \\zeta₅: -1.05445605275722 + 1.47\n",
              "199932018542e-22⋅ⅈ}"
            ]
          },
          "metadata": {
            "tags": []
          },
          "execution_count": 34
        }
      ]
    },
    {
      "cell_type": "code",
      "metadata": {
        "colab": {
          "base_uri": "https://localhost:8080/",
          "height": 38
        },
        "id": "5aLZ-jKZGfxB",
        "outputId": "b991a5c9-b624-4269-a12f-05650e23b6a8"
      },
      "source": [
        "sol2[1]"
      ],
      "execution_count": 27,
      "outputs": [
        {
          "output_type": "execute_result",
          "data": {
            "text/latex": "$\\displaystyle \\left\\{ \\mathrm{Fr}_5 : 0.204753484601856 + 3.0 \\cdot 10^{-23} i, \\  \\zeta_{5} : 0.976784353091237 - 4.45589219973315 \\cdot 10^{-25} i\\right\\}$",
            "text/plain": [
              "{\\mathrm{Fr}₅: 0.204753484601856 + 0.e-23⋅ⅈ, \\zeta₅: 0.976784353091237 - 4.455\n",
              "89219973315e-25⋅ⅈ}"
            ]
          },
          "metadata": {
            "tags": []
          },
          "execution_count": 27
        }
      ]
    },
    {
      "cell_type": "code",
      "metadata": {
        "colab": {
          "base_uri": "https://localhost:8080/",
          "height": 38
        },
        "id": "diDkQy-rUxzS",
        "outputId": "a0c8b807-c1d8-4038-a83e-2c26cfecc463"
      },
      "source": [
        "sol2[2]"
      ],
      "execution_count": 28,
      "outputs": [
        {
          "output_type": "execute_result",
          "data": {
            "text/latex": "$\\displaystyle \\left\\{ \\mathrm{Fr}_5 : 2.57494043338901 - 8.0 \\cdot 10^{-22} i, \\  \\zeta_{5} : 0.0776716996659879 - 3.40308642294568 \\cdot 10^{-25} i\\right\\}$",
            "text/plain": [
              "{\\mathrm{Fr}₅: 2.57494043338901 - 0.e-21⋅ⅈ, \\zeta₅: 0.0776716996659879 - 3.403\n",
              "08642294568e-25⋅ⅈ}"
            ]
          },
          "metadata": {
            "tags": []
          },
          "execution_count": 28
        }
      ]
    },
    {
      "cell_type": "code",
      "metadata": {
        "colab": {
          "base_uri": "https://localhost:8080/",
          "height": 38
        },
        "id": "o24Cv51WGiiv",
        "outputId": "7329bcc3-18a7-415c-e2c5-c4b66e2d6705"
      },
      "source": [
        "Δζ15 = symbols( r\"\\Delta\\zeta_{15}\" )\n",
        "eqC1 = Eq( Δζ15, round( 1 - re( sol2[1][ζ5] ), 4 ) )\n",
        "eqC1"
      ],
      "execution_count": 31,
      "outputs": [
        {
          "output_type": "execute_result",
          "data": {
            "text/latex": "$\\displaystyle \\Delta\\zeta_{15} = 0.0232$",
            "text/plain": [
              "\\Delta\\zeta_{15} = 0.0232"
            ]
          },
          "metadata": {
            "tags": []
          },
          "execution_count": 31
        }
      ]
    },
    {
      "cell_type": "code",
      "metadata": {
        "colab": {
          "base_uri": "https://localhost:8080/",
          "height": 38
        },
        "id": "W7KgqRZfV_5_",
        "outputId": "9133badf-e3a6-4af6-ae57-da4e696669a3"
      },
      "source": [
        "Δζ45 = symbols( r\"\\Delta\\zeta_{45}\" )\n",
        "eqD1 = Eq( Δζ45, round( sol1[1][ζ4] - re( sol2[1][ζ5] ), 4 ) )\n",
        "eqD1"
      ],
      "execution_count": 32,
      "outputs": [
        {
          "output_type": "execute_result",
          "data": {
            "text/latex": "$\\displaystyle \\Delta\\zeta_{45} = -0.0018$",
            "text/plain": [
              "\\Delta\\zeta_{45} = -0.0018"
            ]
          },
          "metadata": {
            "tags": []
          },
          "execution_count": 32
        }
      ]
    }
  ]
}