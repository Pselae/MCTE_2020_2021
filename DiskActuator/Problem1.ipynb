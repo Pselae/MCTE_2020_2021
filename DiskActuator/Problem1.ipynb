{
  "nbformat": 4,
  "nbformat_minor": 0,
  "metadata": {
    "colab": {
      "name": "Problem1.ipynb",
      "provenance": [],
      "authorship_tag": "ABX9TyNw14nqBDqF74pCwwD/cIXw",
      "include_colab_link": true
    },
    "kernelspec": {
      "name": "python3",
      "display_name": "Python 3"
    },
    "language_info": {
      "name": "python"
    }
  },
  "cells": [
    {
      "cell_type": "markdown",
      "metadata": {
        "id": "view-in-github",
        "colab_type": "text"
      },
      "source": [
        "<a href=\"https://colab.research.google.com/github/joaochenriques/MCTE_2020_2021/blob/main/DiskActuator/Problem1.ipynb\" target=\"_parent\"><img src=\"https://colab.research.google.com/assets/colab-badge.svg\" alt=\"Open In Colab\"/></a>"
      ]
    },
    {
      "cell_type": "code",
      "metadata": {
        "id": "ngYrhzaf411H"
      },
      "source": [
        "from sympy import *\n",
        "#init_printing()\n",
        "init_printing(use_latex='mathjax', use_unicode=True)\n",
        "from IPython.display import Math"
      ],
      "execution_count": 1,
      "outputs": []
    },
    {
      "cell_type": "code",
      "metadata": {
        "id": "YIOlbupnaX1y"
      },
      "source": [
        "Eq.__getitem__ = lambda self, i: self.args[i]\n",
        "# To allow equation.subs( [Eq(x,y)] )"
      ],
      "execution_count": 2,
      "outputs": []
    },
    {
      "cell_type": "markdown",
      "metadata": {
        "id": "BLEhN2HIcIGl"
      },
      "source": [
        "# Define the variables of the problem"
      ]
    },
    {
      "cell_type": "code",
      "metadata": {
        "id": "u_i1_X0z43-S"
      },
      "source": [
        "ζ4, ζ4t, ζ4b, ζ5 = symbols( r\"\\zeta_4, \\zeta_{4b}, \\zeta_{4t}, \\zeta_5\")"
      ],
      "execution_count": 3,
      "outputs": []
    },
    {
      "cell_type": "code",
      "metadata": {
        "id": "l9cFNTch5M3x"
      },
      "source": [
        "Fr1, Fr4, Fr4t, Fr4b, Fr5 = symbols( r\"\\mathrm{Fr}_1, \\mathrm{Fr}_4, \\mathrm{Fr}_{4t}, \\mathrm{Fr}_{4b}, \\mathrm{Fr}_5\" )"
      ],
      "execution_count": 4,
      "outputs": []
    },
    {
      "cell_type": "code",
      "metadata": {
        "id": "Agy3LvBn5U3H"
      },
      "source": [
        "B = symbols( \"B\")"
      ],
      "execution_count": 5,
      "outputs": []
    },
    {
      "cell_type": "markdown",
      "metadata": {
        "id": "wcyxTaTpi-UE"
      },
      "source": [
        "# Data of the problem"
      ]
    },
    {
      "cell_type": "code",
      "metadata": {
        "id": "MypfMhM6i9eV",
        "outputId": "f98eaaf6-d00a-4ce9-a59c-93d092630d06",
        "colab": {
          "base_uri": "https://localhost:8080/",
          "height": 38
        }
      },
      "source": [
        "data = { B: 0.4, Fr1: 0.2, Fr4b: 0.3 }\n",
        "data"
      ],
      "execution_count": 6,
      "outputs": [
        {
          "output_type": "execute_result",
          "data": {
            "text/latex": "$\\displaystyle \\left\\{ B : 0.4, \\  \\mathrm{Fr}_1 : 0.2, \\  \\mathrm{Fr}_{4b} : 0.3\\right\\}$",
            "text/plain": [
              "{B: 0.4, \\mathrm{Fr}₁: 0.2, \\mathrm{Fr}_{4b}: 0.3}"
            ]
          },
          "metadata": {
            "tags": []
          },
          "execution_count": 6
        }
      ]
    },
    {
      "cell_type": "markdown",
      "metadata": {
        "id": "GaegaKvwcM6W"
      },
      "source": [
        "# Define the equations required to compute the conditions at (4)"
      ]
    },
    {
      "cell_type": "code",
      "metadata": {
        "colab": {
          "base_uri": "https://localhost:8080/",
          "height": 55
        },
        "id": "He0Abd6p5tdX",
        "outputId": "3bb5bfd3-8934-4dbb-9663-a954e2eabb25"
      },
      "source": [
        "EqA1 = Eq( ζ4, 1 + Fr1**2/2 - Fr4b**2/2 )\n",
        "EqA1"
      ],
      "execution_count": 7,
      "outputs": [
        {
          "output_type": "execute_result",
          "data": {
            "text/latex": "$\\displaystyle \\zeta_{4} = \\frac{\\mathrm{Fr}_1^{2}}{2} - \\frac{\\mathrm{Fr}_{4b}^{2}}{2} + 1$",
            "text/plain": [
              "                     2                   2    \n",
              "         \\mathrm{Fr}₁    \\mathrm{Fr}_{4b}     \n",
              "\\zeta₄ = ───────────── - ───────────────── + 1\n",
              "               2                 2            "
            ]
          },
          "metadata": {
            "tags": []
          },
          "execution_count": 7
        }
      ]
    },
    {
      "cell_type": "code",
      "metadata": {
        "colab": {
          "base_uri": "https://localhost:8080/",
          "height": 38
        },
        "id": "5G3pGvnt52Ci",
        "outputId": "5f690b18-7b13-4765-9ba0-e33578313d2a"
      },
      "source": [
        "EqA2 = Eq( Fr4t * ζ4t + Fr4b * ζ4b, Fr1 )\n",
        "EqA2"
      ],
      "execution_count": 8,
      "outputs": [
        {
          "output_type": "execute_result",
          "data": {
            "text/latex": "$\\displaystyle \\mathrm{Fr}_{4b} \\zeta_{4t} + \\mathrm{Fr}_{4t} \\zeta_{4b} = \\mathrm{Fr}_1$",
            "text/plain": [
              "\\mathrm{Fr}_{4b}⋅\\zeta_{4t} + \\mathrm{Fr}_{4t}⋅\\zeta_{4b} = \\mathrm{Fr}₁"
            ]
          },
          "metadata": {
            "tags": []
          },
          "execution_count": 8
        }
      ]
    },
    {
      "cell_type": "code",
      "metadata": {
        "colab": {
          "base_uri": "https://localhost:8080/",
          "height": 38
        },
        "id": "ichr8GK56CVB",
        "outputId": "74f8abf8-e365-43d5-a8b2-fb8b305afa98"
      },
      "source": [
        "EqA3 = Eq( ζ4, ζ4t + ζ4b )\n",
        "EqA3"
      ],
      "execution_count": 9,
      "outputs": [
        {
          "output_type": "execute_result",
          "data": {
            "text/latex": "$\\displaystyle \\zeta_{4} = \\zeta_{4b} + \\zeta_{4t}$",
            "text/plain": [
              "\\zeta₄ = \\zeta_{4b} + \\zeta_{4t}"
            ]
          },
          "metadata": {
            "tags": []
          },
          "execution_count": 9
        }
      ]
    },
    {
      "cell_type": "code",
      "metadata": {
        "colab": {
          "base_uri": "https://localhost:8080/",
          "height": 56
        },
        "id": "mp-vbSH96P8K",
        "outputId": "e1b89f39-ef82-4e07-a22a-0bda137a3430"
      },
      "source": [
        "EqA4 = Eq( Fr4t**2 * ζ4t + Fr4b**2 * ζ4b - Fr1**2, -(ζ4**2-1)/2 - B/2*(Fr4b**2 - Fr4t**2) )\n",
        "EqA4"
      ],
      "execution_count": 10,
      "outputs": [
        {
          "output_type": "execute_result",
          "data": {
            "text/latex": "$\\displaystyle - \\mathrm{Fr}_1^{2} + \\mathrm{Fr}_{4b}^{2} \\zeta_{4t} + \\mathrm{Fr}_{4t}^{2} \\zeta_{4b} = - \\frac{B \\left(\\mathrm{Fr}_{4b}^{2} - \\mathrm{Fr}_{4t}^{2}\\right)}{2} - \\frac{\\zeta_{4}^{2}}{2} + \\frac{1}{2}$",
            "text/plain": [
              "                                                                              \n",
              "              2                   2                              2            \n",
              "- \\mathrm{Fr}₁  + \\mathrm{Fr}_{4b} ⋅\\zeta_{4t} + \\mathrm{Fr}_{4t} ⋅\\zeta_{4b} \n",
              "                                                                              \n",
              "\n",
              "      ⎛                2                   2⎞         2    \n",
              "    B⋅⎝\\mathrm{Fr}_{4b}  - \\mathrm{Fr}_{4t} ⎠   \\zeta₄    1\n",
              "= - ───────────────────────────────────────── - ─────── + ─\n",
              "                        2                          2      2"
            ]
          },
          "metadata": {
            "tags": []
          },
          "execution_count": 10
        }
      ]
    },
    {
      "cell_type": "code",
      "metadata": {
        "colab": {
          "base_uri": "https://localhost:8080/",
          "height": 58
        },
        "id": "MKj7PsXq6jn8",
        "outputId": "a06c7591-1dcc-446b-f4f6-f1d125b5f447"
      },
      "source": [
        "sys1 = [ EqA1.subs(data), EqA2.subs(data), EqA3.subs(data), EqA4.subs(data) ]\n",
        "sys1"
      ],
      "execution_count": 11,
      "outputs": [
        {
          "output_type": "execute_result",
          "data": {
            "text/latex": "$\\displaystyle \\left[ \\zeta_{4} = 0.975, \\  \\mathrm{Fr}_{4t} \\zeta_{4b} + 0.3 \\zeta_{4t} = 0.2, \\  \\zeta_{4} = \\zeta_{4b} + \\zeta_{4t}, \\  \\mathrm{Fr}_{4t}^{2} \\zeta_{4b} + 0.09 \\zeta_{4t} - 0.04 = 0.2 \\mathrm{Fr}_{4t}^{2} - \\frac{\\zeta_{4}^{2}}{2} + 0.482\\right]$",
            "text/plain": [
              "⎡                                                                             \n",
              "⎢                                                                             \n",
              "⎢\\zeta₄ = 0.975, \\mathrm{Fr}_{4t}⋅\\zeta_{4b} + 0.3⋅\\zeta_{4t} = 0.2, \\zeta₄ = \n",
              "⎣                                                                             \n",
              "\n",
              "                                                                              \n",
              "                                         2                                    \n",
              "\\zeta_{4b} + \\zeta_{4t}, \\mathrm{Fr}_{4t} ⋅\\zeta_{4b} + 0.09⋅\\zeta_{4t} - 0.04\n",
              "                                                                              \n",
              "\n",
              "                                 2        ⎤\n",
              "                       2   \\zeta₄         ⎥\n",
              " = 0.2⋅\\mathrm{Fr}_{4t}  - ─────── + 0.482⎥\n",
              "                              2           ⎦"
            ]
          },
          "metadata": {
            "tags": []
          },
          "execution_count": 11
        }
      ]
    },
    {
      "cell_type": "code",
      "metadata": {
        "id": "x07TpcTr6zjg"
      },
      "source": [
        "sol1 = solve( sys1, [ ζ4b, ζ4t, ζ4, Fr4t ], dict=True )"
      ],
      "execution_count": 12,
      "outputs": []
    },
    {
      "cell_type": "code",
      "metadata": {
        "colab": {
          "base_uri": "https://localhost:8080/"
        },
        "id": "QvQvGjgSgoxK",
        "outputId": "d9c62e15-873f-4b2a-e600-a59a6075738e"
      },
      "source": [
        "print( \"Number of sets of solutions: \", len( sol1 ) )"
      ],
      "execution_count": 13,
      "outputs": [
        {
          "output_type": "stream",
          "text": [
            "Number of sets of solutions:  2\n"
          ],
          "name": "stdout"
        }
      ]
    },
    {
      "cell_type": "code",
      "metadata": {
        "colab": {
          "base_uri": "https://localhost:8080/",
          "height": 55
        },
        "id": "tnshDJtO8WaN",
        "outputId": "bee22821-e391-4fb2-b53f-d22643ff561b"
      },
      "source": [
        "print( \"Invalid volution\" )\n",
        "sol1[0]"
      ],
      "execution_count": 14,
      "outputs": [
        {
          "output_type": "stream",
          "text": [
            "Invalid volution\n"
          ],
          "name": "stdout"
        },
        {
          "output_type": "execute_result",
          "data": {
            "text/latex": "$\\displaystyle \\left\\{ \\mathrm{Fr}_{4t} : -0.57771653878838, \\  \\zeta_{4} : 0.975, \\  \\zeta_{4b} : 0.105387099265201, \\  \\zeta_{4t} : 0.869612900734799\\right\\}$",
            "text/plain": [
              "{\\mathrm{Fr}_{4t}: -0.57771653878838, \\zeta₄: 0.975, \\zeta_{4b}: 0.10538709926\n",
              "5201, \\zeta_{4t}: 0.869612900734799}"
            ]
          },
          "metadata": {
            "tags": []
          },
          "execution_count": 14
        }
      ]
    },
    {
      "cell_type": "code",
      "metadata": {
        "colab": {
          "base_uri": "https://localhost:8080/",
          "height": 55
        },
        "id": "El4TiPUa9_K-",
        "outputId": "fb9089ac-8e4b-4a17-a607-fa23db7e4a9c"
      },
      "source": [
        "print( \"Valid volution\" )\n",
        "sol1[1]"
      ],
      "execution_count": 15,
      "outputs": [
        {
          "output_type": "stream",
          "text": [
            "Valid volution\n"
          ],
          "name": "stdout"
        },
        {
          "output_type": "execute_result",
          "data": {
            "text/latex": "$\\displaystyle \\left\\{ \\mathrm{Fr}_{4t} : 0.11521653878838, \\  \\zeta_{4} : 0.975, \\  \\zeta_{4b} : 0.500585925782968, \\  \\zeta_{4t} : 0.474414074217032\\right\\}$",
            "text/plain": [
              "{\\mathrm{Fr}_{4t}: 0.11521653878838, \\zeta₄: 0.975, \\zeta_{4b}: 0.500585925782\n",
              "968, \\zeta_{4t}: 0.474414074217032}"
            ]
          },
          "metadata": {
            "tags": []
          },
          "execution_count": 15
        }
      ]
    },
    {
      "cell_type": "markdown",
      "metadata": {
        "id": "Jww5HVEslZI4"
      },
      "source": [
        "Check that $B < \\zeta_{4t}$ $\\Rightarrow$ the wake expands\n"
      ]
    },
    {
      "cell_type": "markdown",
      "metadata": {
        "id": "X7m3cmz7jSJQ"
      },
      "source": [
        "# Compute coefficients"
      ]
    },
    {
      "cell_type": "code",
      "metadata": {
        "id": "Y1wh9VO3-EAR"
      },
      "source": [
        "C_T, C_P = symbols( \"C_\\mathrm{T}, C_\\mathrm{P}\")\n",
        "Fr2t = symbols( \"\\mathrm{Fr}_{2t}\")"
      ],
      "execution_count": 16,
      "outputs": []
    },
    {
      "cell_type": "code",
      "metadata": {
        "id": "BH-9E6OP-118"
      },
      "source": [
        "EqCT = Eq( C_T, ( Fr4b**2-Fr4t**2 )/Fr1**2 ) \n",
        "EqCP = Eq( C_P, C_T * Fr2t / Fr1 )\n",
        "EqFr2t = Eq( Fr2t, Fr4t * ζ4t / B )"
      ],
      "execution_count": 17,
      "outputs": []
    },
    {
      "cell_type": "code",
      "metadata": {
        "colab": {
          "base_uri": "https://localhost:8080/",
          "height": 38
        },
        "id": "vk5Q8vI8-_13",
        "outputId": "2992ebd1-bcad-4c4b-87e5-586c48e39337"
      },
      "source": [
        "EqCT.subs( sol1[1] ).subs( data )"
      ],
      "execution_count": 18,
      "outputs": [
        {
          "output_type": "execute_result",
          "data": {
            "text/latex": "$\\displaystyle C_\\mathrm{T} = 1.91812872974064$",
            "text/plain": [
              "C_\\mathrm{T} = 1.91812872974064"
            ]
          },
          "metadata": {
            "tags": []
          },
          "execution_count": 18
        }
      ]
    },
    {
      "cell_type": "code",
      "metadata": {
        "colab": {
          "base_uri": "https://localhost:8080/",
          "height": 37
        },
        "id": "tLTTIhPMAbYW",
        "outputId": "1f300901-d75d-4619-97bd-66b86041a162"
      },
      "source": [
        "EqFr2t.subs( data ).subs( sol1[1] )"
      ],
      "execution_count": 19,
      "outputs": [
        {
          "output_type": "execute_result",
          "data": {
            "text/latex": "$\\displaystyle \\mathrm{Fr}_{2t} = 0.144189444337226$",
            "text/plain": [
              "\\mathrm{Fr}_{2t} = 0.144189444337226"
            ]
          },
          "metadata": {
            "tags": []
          },
          "execution_count": 19
        }
      ]
    },
    {
      "cell_type": "code",
      "metadata": {
        "colab": {
          "base_uri": "https://localhost:8080/",
          "height": 38
        },
        "id": "3KHOWAkJAnNc",
        "outputId": "fffd5b79-60c7-4601-d630-d07f2460b171"
      },
      "source": [
        "EqCP.subs( [EqFr2t] ).subs( [EqCT] ).subs( data ).subs( sol1[1] )"
      ],
      "execution_count": 20,
      "outputs": [
        {
          "output_type": "execute_result",
          "data": {
            "text/latex": "$\\displaystyle C_\\mathrm{P} = 1.38286957854286$",
            "text/plain": [
              "C_\\mathrm{P} = 1.38286957854286"
            ]
          },
          "metadata": {
            "tags": []
          },
          "execution_count": 20
        }
      ]
    },
    {
      "cell_type": "markdown",
      "metadata": {
        "id": "muCCXgPxFChb"
      },
      "source": [
        "# Compute conditions at section (5)"
      ]
    },
    {
      "cell_type": "markdown",
      "metadata": {
        "id": "n0tji70gFNW5"
      },
      "source": [
        "Mass balance"
      ]
    },
    {
      "cell_type": "code",
      "metadata": {
        "id": "BTag4dqeWfaE",
        "colab": {
          "base_uri": "https://localhost:8080/",
          "height": 38
        },
        "outputId": "78fb249c-6e07-4e9b-83dd-2c82b3124a41"
      },
      "source": [
        "eqB1 = Eq( Fr1, Fr5 * ζ5 )\n",
        "eqB1"
      ],
      "execution_count": 21,
      "outputs": [
        {
          "output_type": "execute_result",
          "data": {
            "text/latex": "$\\displaystyle \\mathrm{Fr}_1 = \\mathrm{Fr}_5 \\zeta_{5}$",
            "text/plain": [
              "\\mathrm{Fr}₁ = \\mathrm{Fr}₅⋅\\zeta₅"
            ]
          },
          "metadata": {
            "tags": []
          },
          "execution_count": 21
        }
      ]
    },
    {
      "cell_type": "markdown",
      "metadata": {
        "id": "_v3qUX3QFczY"
      },
      "source": [
        "Momentum balance"
      ]
    },
    {
      "cell_type": "code",
      "metadata": {
        "colab": {
          "base_uri": "https://localhost:8080/",
          "height": 53
        },
        "id": "MpV9RnYmFYRb",
        "outputId": "c404c115-9500-4443-a772-53b53523fb03"
      },
      "source": [
        "eqB2 = Eq( Fr5**2 * ζ5 - ( Fr4b**2 * ζ4b + Fr4t**2 * ζ4t ), -( ζ5**2 - ζ4**2 )/2 )\n",
        "eqB2"
      ],
      "execution_count": 22,
      "outputs": [
        {
          "output_type": "execute_result",
          "data": {
            "text/latex": "$\\displaystyle \\mathrm{Fr}_5^{2} \\zeta_{5} - \\mathrm{Fr}_{4b}^{2} \\zeta_{4t} - \\mathrm{Fr}_{4t}^{2} \\zeta_{4b} = \\frac{\\zeta_{4}^{2}}{2} - \\frac{\\zeta_{5}^{2}}{2}$",
            "text/plain": [
              "                                                                              \n",
              "            2                          2                              2       \n",
              "\\mathrm{Fr}₅ ⋅\\zeta₅ - \\mathrm{Fr}_{4b} ⋅\\zeta_{4t} - \\mathrm{Fr}_{4t} ⋅\\zeta_\n",
              "                                                                              \n",
              "\n",
              "             2         2\n",
              "       \\zeta₄    \\zeta₅ \n",
              "{4b} = ─────── - ───────\n",
              "          2         2   "
            ]
          },
          "metadata": {
            "tags": []
          },
          "execution_count": 22
        }
      ]
    },
    {
      "cell_type": "code",
      "metadata": {
        "colab": {
          "base_uri": "https://localhost:8080/",
          "height": 58
        },
        "id": "1cTst5H0GEYL",
        "outputId": "87656f98-6f1d-4c08-b7a2-a9ffbd92e03f"
      },
      "source": [
        "sys2 = [ eqB1.subs(data).subs( (sol1[1]) ), eqB2.subs(data).subs( (sol1[1]) ) ]\n",
        "sys2"
      ],
      "execution_count": 23,
      "outputs": [
        {
          "output_type": "execute_result",
          "data": {
            "text/latex": "$\\displaystyle \\left[ 0.2 = \\mathrm{Fr}_5 \\zeta_{5}, \\  \\mathrm{Fr}_5^{2} \\zeta_{5} - 0.0493424701620749 = 0.4753125 - \\frac{\\zeta_{5}^{2}}{2}\\right]$",
            "text/plain": [
              "⎡                                                                             \n",
              "⎢                                       2                                     \n",
              "⎢0.2 = \\mathrm{Fr}₅⋅\\zeta₅, \\mathrm{Fr}₅ ⋅\\zeta₅ - 0.0493424701620749 = 0.4753\n",
              "⎣                                                                             \n",
              "\n",
              "            2⎤\n",
              "      \\zeta₅ ⎥\n",
              "125 - ───────⎥\n",
              "         2   ⎦"
            ]
          },
          "metadata": {
            "tags": []
          },
          "execution_count": 23
        }
      ]
    },
    {
      "cell_type": "code",
      "metadata": {
        "id": "cXseFScaGNQw"
      },
      "source": [
        "sol2 = solve( sys2, [ ζ5, Fr5 ], dict=True )"
      ],
      "execution_count": 24,
      "outputs": []
    },
    {
      "cell_type": "code",
      "metadata": {
        "colab": {
          "base_uri": "https://localhost:8080/"
        },
        "id": "S3vqXsa9h-04",
        "outputId": "9170f33b-86a4-4be1-c8ce-ffa2cae0f7f6"
      },
      "source": [
        "print( \"Number of sets of solutions: \", len( sol2 ) )"
      ],
      "execution_count": 25,
      "outputs": [
        {
          "output_type": "stream",
          "text": [
            "Number of sets of solutions:  3\n"
          ],
          "name": "stdout"
        }
      ]
    },
    {
      "cell_type": "code",
      "metadata": {
        "colab": {
          "base_uri": "https://localhost:8080/",
          "height": 38
        },
        "id": "P5Odo-8vGcsj",
        "outputId": "0d8e567c-a1f7-4a13-c7a6-3503641426a7"
      },
      "source": [
        "sol2[0]"
      ],
      "execution_count": 26,
      "outputs": [
        {
          "output_type": "execute_result",
          "data": {
            "text/latex": "$\\displaystyle \\left\\{ \\mathrm{Fr}_5 : -0.188583327219292 - 3.0 \\cdot 10^{-23} i, \\  \\zeta_{5} : -1.06053914176322 + 1.48902440464807 \\cdot 10^{-22} i\\right\\}$",
            "text/plain": [
              "{\\mathrm{Fr}₅: -0.188583327219292 - 0.e-23⋅ⅈ, \\zeta₅: -1.06053914176322 + 1.48\n",
              "902440464807e-22⋅ⅈ}"
            ]
          },
          "metadata": {
            "tags": []
          },
          "execution_count": 26
        }
      ]
    },
    {
      "cell_type": "code",
      "metadata": {
        "colab": {
          "base_uri": "https://localhost:8080/",
          "height": 38
        },
        "id": "5aLZ-jKZGfxB",
        "outputId": "7054c7eb-5121-4d49-c6cb-778d668bcfc3"
      },
      "source": [
        "sol2[1]"
      ],
      "execution_count": 27,
      "outputs": [
        {
          "output_type": "execute_result",
          "data": {
            "text/latex": "$\\displaystyle \\left\\{ \\mathrm{Fr}_5 : 0.203279084875446 + 5.0 \\cdot 10^{-23} i, \\  \\zeta_{5} : 0.983869049403411 + 5.47772995183367 \\cdot 10^{-25} i\\right\\}$",
            "text/plain": [
              "{\\mathrm{Fr}₅: 0.203279084875446 + 0.e-22⋅ⅈ, \\zeta₅: 0.983869049403411 + 5.477\n",
              "72995183367e-25⋅ⅈ}"
            ]
          },
          "metadata": {
            "tags": []
          },
          "execution_count": 27
        }
      ]
    },
    {
      "cell_type": "code",
      "metadata": {
        "colab": {
          "base_uri": "https://localhost:8080/",
          "height": 38
        },
        "id": "diDkQy-rUxzS",
        "outputId": "99dc1e25-a326-46dd-ed6d-5c7724df39e0"
      },
      "source": [
        "sol2[2]"
      ],
      "execution_count": 28,
      "outputs": [
        {
          "output_type": "execute_result",
          "data": {
            "text/latex": "$\\displaystyle \\left\\{ \\mathrm{Fr}_5 : 2.60857909315422 - 8.0 \\cdot 10^{-22} i, \\  \\zeta_{5} : 0.0766700923598087 - 2.55925429653588 \\cdot 10^{-25} i\\right\\}$",
            "text/plain": [
              "{\\mathrm{Fr}₅: 2.60857909315422 - 0.e-21⋅ⅈ, \\zeta₅: 0.0766700923598087 - 2.559\n",
              "25429653588e-25⋅ⅈ}"
            ]
          },
          "metadata": {
            "tags": []
          },
          "execution_count": 28
        }
      ]
    },
    {
      "cell_type": "code",
      "metadata": {
        "colab": {
          "base_uri": "https://localhost:8080/",
          "height": 38
        },
        "id": "o24Cv51WGiiv",
        "outputId": "54186880-7a10-4b9e-ce31-a42ed32225d5"
      },
      "source": [
        "Δζ15 = symbols( r\"\\Delta\\zeta_{15}\" )\n",
        "eqC1 = Eq( Δζ15, 1 - re( sol2[1][ζ5] ) )\n",
        "eqC1"
      ],
      "execution_count": 29,
      "outputs": [
        {
          "output_type": "execute_result",
          "data": {
            "text/latex": "$\\displaystyle \\Delta\\zeta_{15} = 0.016130950596589$",
            "text/plain": [
              "\\Delta\\zeta_{15} = 0.016130950596589"
            ]
          },
          "metadata": {
            "tags": []
          },
          "execution_count": 29
        }
      ]
    },
    {
      "cell_type": "code",
      "metadata": {
        "colab": {
          "base_uri": "https://localhost:8080/",
          "height": 38
        },
        "id": "W7KgqRZfV_5_",
        "outputId": "20e427df-070a-44cf-dbcd-1348a8b28339"
      },
      "source": [
        "Δζ45 = symbols( r\"\\Delta\\zeta_{45}\" )\n",
        "eqD1 = Eq( Δζ45, sol1[1][ζ4] - re( sol2[1][ζ5] ) )\n",
        "eqD1"
      ],
      "execution_count": 30,
      "outputs": [
        {
          "output_type": "execute_result",
          "data": {
            "text/latex": "$\\displaystyle \\Delta\\zeta_{45} = -0.00886904940341104$",
            "text/plain": [
              "\\Delta\\zeta_{45} = -0.00886904940341104"
            ]
          },
          "metadata": {
            "tags": []
          },
          "execution_count": 30
        }
      ]
    },
    {
      "cell_type": "code",
      "metadata": {
        "id": "FxrO-VCLj0WU"
      },
      "source": [
        ""
      ],
      "execution_count": 30,
      "outputs": []
    }
  ]
}