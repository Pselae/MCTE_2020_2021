{
  "nbformat": 4,
  "nbformat_minor": 0,
  "metadata": {
    "colab": {
      "name": "Problem1.ipynb",
      "provenance": [],
      "authorship_tag": "ABX9TyPYeH5L5ywulBugeA0DZmOL",
      "include_colab_link": true
    },
    "kernelspec": {
      "name": "python3",
      "display_name": "Python 3"
    },
    "language_info": {
      "name": "python"
    }
  },
  "cells": [
    {
      "cell_type": "markdown",
      "metadata": {
        "id": "view-in-github",
        "colab_type": "text"
      },
      "source": [
        "<a href=\"https://colab.research.google.com/github/joaochenriques/MCTE_2020_2021/blob/main/DiskActuator/Problem1.ipynb\" target=\"_parent\"><img src=\"https://colab.research.google.com/assets/colab-badge.svg\" alt=\"Open In Colab\"/></a>"
      ]
    },
    {
      "cell_type": "code",
      "metadata": {
        "id": "ngYrhzaf411H"
      },
      "source": [
        "from sympy import *\n",
        "init_printing()"
      ],
      "execution_count": 2,
      "outputs": []
    },
    {
      "cell_type": "code",
      "metadata": {
        "id": "YIOlbupnaX1y"
      },
      "source": [
        "Eq.__getitem__ = lambda self, i: self.args[i]\n",
        "# To allow equation.subs( [Eq(x,y)] )"
      ],
      "execution_count": 3,
      "outputs": []
    },
    {
      "cell_type": "markdown",
      "metadata": {
        "id": "BLEhN2HIcIGl"
      },
      "source": [
        "# Define the variables of the problem"
      ]
    },
    {
      "cell_type": "code",
      "metadata": {
        "id": "u_i1_X0z43-S"
      },
      "source": [
        "ζ1, ζ4, ζ4t, ζ4b, ζ5 = symbols( r\"\\zeta_1, \\zeta_4, \\zeta_{4b}, \\zeta_{4t}, \\zeta_5\")"
      ],
      "execution_count": 4,
      "outputs": []
    },
    {
      "cell_type": "code",
      "metadata": {
        "id": "l9cFNTch5M3x"
      },
      "source": [
        "Fr1, Fr4, Fr4t, Fr4b, Fr5 = symbols( r\"\\mathrm{Fr}_1, \\mathrm{Fr}_4, \\mathrm{Fr}_{4t}, \\mathrm{Fr}_{4b}, \\mathrm{Fr}_5\" )"
      ],
      "execution_count": 5,
      "outputs": []
    },
    {
      "cell_type": "code",
      "metadata": {
        "id": "Agy3LvBn5U3H"
      },
      "source": [
        "B = symbols( \"B\")"
      ],
      "execution_count": 6,
      "outputs": []
    },
    {
      "cell_type": "markdown",
      "metadata": {
        "id": "wcyxTaTpi-UE"
      },
      "source": [
        "# Data of the problem"
      ]
    },
    {
      "cell_type": "code",
      "metadata": {
        "colab": {
          "base_uri": "https://localhost:8080/",
          "height": 38
        },
        "id": "MypfMhM6i9eV",
        "outputId": "c6ee530a-81e9-45b6-baf9-0776ab7c6e7b"
      },
      "source": [
        "data = { B: 0.8, ζ1: 1, Fr1: 0.2, Fr4b: 0.3 }\n",
        "data"
      ],
      "execution_count": 7,
      "outputs": [
        {
          "output_type": "execute_result",
          "data": {
            "image/png": "[encoded data removed]",
            "text/latex": "$\\displaystyle \\left\\{ B : 0.8, \\  \\mathrm{Fr}_1 : 0.2, \\  \\mathrm{Fr}_{4b} : 0.3, \\  \\zeta_{1} : 1\\right\\}$",
            "text/plain": [
              "{B: 0.8, \\mathrm{Fr}₁: 0.2, \\mathrm{Fr}_{4b}: 0.3, \\zeta₁: 1}"
            ]
          },
          "metadata": {
            "tags": []
          },
          "execution_count": 7
        }
      ]
    },
    {
      "cell_type": "markdown",
      "metadata": {
        "id": "GaegaKvwcM6W"
      },
      "source": [
        "# Define the equations required to compute the conditions at (4)"
      ]
    },
    {
      "cell_type": "code",
      "metadata": {
        "colab": {
          "base_uri": "https://localhost:8080/",
          "height": 55
        },
        "id": "He0Abd6p5tdX",
        "outputId": "0eeac927-f57c-4a16-c13c-e66bf78b13d0"
      },
      "source": [
        "EqA1 = Eq( ζ4, ζ1 + Fr1**2/2 - Fr4b**2/2 )\n",
        "EqA1"
      ],
      "execution_count": 8,
      "outputs": [
        {
          "output_type": "execute_result",
          "data": {
            "image/png": "[encoded data removed]",
            "text/latex": "$\\displaystyle \\zeta_{4} = \\frac{\\mathrm{Fr}_1^{2}}{2} - \\frac{\\mathrm{Fr}_{4b}^{2}}{2} + \\zeta_{1}$",
            "text/plain": [
              "                     2                   2         \n",
              "         \\mathrm{Fr}₁    \\mathrm{Fr}_{4b}          \n",
              "\\zeta₄ = ───────────── - ───────────────── + \\zeta₁\n",
              "               2                 2                 "
            ]
          },
          "metadata": {
            "tags": []
          },
          "execution_count": 8
        }
      ]
    },
    {
      "cell_type": "code",
      "metadata": {
        "colab": {
          "base_uri": "https://localhost:8080/",
          "height": 38
        },
        "id": "5G3pGvnt52Ci",
        "outputId": "9410e1e0-a154-4545-c5cc-f3225cb9fa6a"
      },
      "source": [
        "EqA2 = Eq( Fr4t * ζ4t + Fr4b * ζ4b, Fr1 * ζ1 )\n",
        "EqA2"
      ],
      "execution_count": 9,
      "outputs": [
        {
          "output_type": "execute_result",
          "data": {
            "image/png": "[encoded data removed]",
            "text/latex": "$\\displaystyle \\mathrm{Fr}_{4b} \\zeta_{4t} + \\mathrm{Fr}_{4t} \\zeta_{4b} = \\mathrm{Fr}_1 \\zeta_{1}$",
            "text/plain": [
              "\\mathrm{Fr}_{4b}⋅\\zeta_{4t} + \\mathrm{Fr}_{4t}⋅\\zeta_{4b} = \\mathrm{Fr}₁⋅\\zeta\n",
              "₁"
            ]
          },
          "metadata": {
            "tags": []
          },
          "execution_count": 9
        }
      ]
    },
    {
      "cell_type": "code",
      "metadata": {
        "colab": {
          "base_uri": "https://localhost:8080/",
          "height": 38
        },
        "id": "ichr8GK56CVB",
        "outputId": "44b557bc-4815-4271-8b71-4a131eb49b13"
      },
      "source": [
        "EqA3 = Eq( ζ4, ζ4t + ζ4b )\n",
        "EqA3"
      ],
      "execution_count": 10,
      "outputs": [
        {
          "output_type": "execute_result",
          "data": {
            "image/png": "[encoded data removed]",
            "text/latex": "$\\displaystyle \\zeta_{4} = \\zeta_{4b} + \\zeta_{4t}$",
            "text/plain": [
              "\\zeta₄ = \\zeta_{4b} + \\zeta_{4t}"
            ]
          },
          "metadata": {
            "tags": []
          },
          "execution_count": 10
        }
      ]
    },
    {
      "cell_type": "code",
      "metadata": {
        "colab": {
          "base_uri": "https://localhost:8080/",
          "height": 56
        },
        "id": "mp-vbSH96P8K",
        "outputId": "6e03209b-1894-404b-fdde-3730954d3fb3"
      },
      "source": [
        "EqA4 = Eq( Fr4t**2 * ζ4t + Fr4b**2 * ζ4b - Fr1**2 * ζ1, -( ζ4**2 - ζ1**2 )/2 - B/2*(Fr4b**2 - Fr4t**2) )\n",
        "EqA4"
      ],
      "execution_count": 11,
      "outputs": [
        {
          "output_type": "execute_result",
          "data": {
            "image/png": "[encoded data removed]",
            "text/latex": "$\\displaystyle - \\mathrm{Fr}_1^{2} \\zeta_{1} + \\mathrm{Fr}_{4b}^{2} \\zeta_{4t} + \\mathrm{Fr}_{4t}^{2} \\zeta_{4b} = - \\frac{B \\left(\\mathrm{Fr}_{4b}^{2} - \\mathrm{Fr}_{4t}^{2}\\right)}{2} + \\frac{\\zeta_{1}^{2}}{2} - \\frac{\\zeta_{4}^{2}}{2}$",
            "text/plain": [
              "                                                                              \n",
              "              2                          2                              2     \n",
              "- \\mathrm{Fr}₁ ⋅\\zeta₁ + \\mathrm{Fr}_{4b} ⋅\\zeta_{4t} + \\mathrm{Fr}_{4t} ⋅\\zet\n",
              "                                                                              \n",
              "\n",
              "             ⎛                2                   2⎞         2         2\n",
              "           B⋅⎝\\mathrm{Fr}_{4b}  - \\mathrm{Fr}_{4t} ⎠   \\zeta₁    \\zeta₄ \n",
              "a_{4b} = - ───────────────────────────────────────── + ─────── - ───────\n",
              "                               2                          2         2   "
            ]
          },
          "metadata": {
            "tags": []
          },
          "execution_count": 11
        }
      ]
    },
    {
      "cell_type": "code",
      "metadata": {
        "colab": {
          "base_uri": "https://localhost:8080/",
          "height": 58
        },
        "id": "MKj7PsXq6jn8",
        "outputId": "c7a4a19b-dd43-4aa7-b3f7-847ba383363c"
      },
      "source": [
        "sys1 = [ EqA1.subs(data), EqA2.subs(data), EqA3.subs(data), EqA4.subs(data) ]\n",
        "sys1"
      ],
      "execution_count": 12,
      "outputs": [
        {
          "output_type": "execute_result",
          "data": {
            "image/png": "[encoded data removed]",
            "text/latex": "$\\displaystyle \\left[ \\zeta_{4} = 0.975, \\  \\mathrm{Fr}_{4t} \\zeta_{4b} + 0.3 \\zeta_{4t} = 0.2, \\  \\zeta_{4} = \\zeta_{4b} + \\zeta_{4t}, \\  \\mathrm{Fr}_{4t}^{2} \\zeta_{4b} + 0.09 \\zeta_{4t} - 0.04 = 0.4 \\mathrm{Fr}_{4t}^{2} - \\frac{\\zeta_{4}^{2}}{2} + 0.464\\right]$",
            "text/plain": [
              "⎡                                                                             \n",
              "⎢                                                                             \n",
              "⎢\\zeta₄ = 0.975, \\mathrm{Fr}_{4t}⋅\\zeta_{4b} + 0.3⋅\\zeta_{4t} = 0.2, \\zeta₄ = \n",
              "⎣                                                                             \n",
              "\n",
              "                                                                              \n",
              "                                         2                                    \n",
              "\\zeta_{4b} + \\zeta_{4t}, \\mathrm{Fr}_{4t} ⋅\\zeta_{4b} + 0.09⋅\\zeta_{4t} - 0.04\n",
              "                                                                              \n",
              "\n",
              "                                 2        ⎤\n",
              "                       2   \\zeta₄         ⎥\n",
              " = 0.4⋅\\mathrm{Fr}_{4t}  - ─────── + 0.464⎥\n",
              "                              2           ⎦"
            ]
          },
          "metadata": {
            "tags": []
          },
          "execution_count": 12
        }
      ]
    },
    {
      "cell_type": "code",
      "metadata": {
        "id": "x07TpcTr6zjg"
      },
      "source": [
        "sol1 = solve( sys1, [ ζ4b, ζ4t, ζ4, Fr4t ], dict=True )"
      ],
      "execution_count": 13,
      "outputs": []
    },
    {
      "cell_type": "code",
      "metadata": {
        "colab": {
          "base_uri": "https://localhost:8080/"
        },
        "id": "QvQvGjgSgoxK",
        "outputId": "3c080f78-7baa-4927-cdee-7e2256403591"
      },
      "source": [
        "print( \"Number of sets of solutions: \", len( sol1 ) )"
      ],
      "execution_count": 14,
      "outputs": [
        {
          "output_type": "stream",
          "text": [
            "Number of sets of solutions:  2\n"
          ],
          "name": "stdout"
        }
      ]
    },
    {
      "cell_type": "code",
      "metadata": {
        "colab": {
          "base_uri": "https://localhost:8080/",
          "height": 55
        },
        "id": "tnshDJtO8WaN",
        "outputId": "c7899bb3-00d2-4ad5-c250-6baca99cddf0"
      },
      "source": [
        "print( \"Invalid volution\" )\n",
        "sol1[0]"
      ],
      "execution_count": 15,
      "outputs": [
        {
          "output_type": "stream",
          "text": [
            "Invalid volution\n"
          ],
          "name": "stdout"
        },
        {
          "output_type": "execute_result",
          "data": {
            "image/png": "[encoded data removed]",
            "text/latex": "$\\displaystyle \\left\\{ \\mathrm{Fr}_{4t} : -0.418363155218334, \\  \\zeta_{4} : 0.975, \\  \\zeta_{4b} : 0.128764955897392, \\  \\zeta_{4t} : 0.846235044102608\\right\\}$",
            "text/plain": [
              "{\\mathrm{Fr}_{4t}: -0.418363155218334, \\zeta₄: 0.975, \\zeta_{4b}: 0.1287649558\n",
              "97392, \\zeta_{4t}: 0.846235044102608}"
            ]
          },
          "metadata": {
            "tags": []
          },
          "execution_count": 15
        }
      ]
    },
    {
      "cell_type": "code",
      "metadata": {
        "colab": {
          "base_uri": "https://localhost:8080/",
          "height": 55
        },
        "id": "El4TiPUa9_K-",
        "outputId": "278aa3c4-44b2-4faf-c102-b71585c5fead"
      },
      "source": [
        "print( \"Valid volution\" )\n",
        "sol1[1]"
      ],
      "execution_count": 16,
      "outputs": [
        {
          "output_type": "stream",
          "text": [
            "Valid volution\n"
          ],
          "name": "stdout"
        },
        {
          "output_type": "execute_result",
          "data": {
            "image/png": "[encoded data removed]",
            "text/latex": "$\\displaystyle \\left\\{ \\mathrm{Fr}_{4t} : 0.187113155218334, \\  \\zeta_{4} : 0.975, \\  \\zeta_{4b} : 0.819404600942685, \\  \\zeta_{4t} : 0.155595399057315\\right\\}$",
            "text/plain": [
              "{\\mathrm{Fr}_{4t}: 0.187113155218334, \\zeta₄: 0.975, \\zeta_{4b}: 0.81940460094\n",
              "2685, \\zeta_{4t}: 0.155595399057315}"
            ]
          },
          "metadata": {
            "tags": []
          },
          "execution_count": 16
        }
      ]
    },
    {
      "cell_type": "markdown",
      "metadata": {
        "id": "X7m3cmz7jSJQ"
      },
      "source": [
        "# Compute coefficients"
      ]
    },
    {
      "cell_type": "code",
      "metadata": {
        "id": "Y1wh9VO3-EAR"
      },
      "source": [
        "C_T, C_P = symbols( \"C_\\mathrm{T}, C_\\mathrm{P}\")\n",
        "Fr2t = symbols( \"\\mathrm{Fr}_{2t}\")"
      ],
      "execution_count": 17,
      "outputs": []
    },
    {
      "cell_type": "code",
      "metadata": {
        "id": "BH-9E6OP-118"
      },
      "source": [
        "EqCT = Eq( C_T, ( Fr4b**2-Fr4t**2 )/Fr1**2 ) \n",
        "EqCP = Eq( C_P, C_T * Fr2t / Fr1 )\n",
        "EqFr2t = Eq( Fr2t, Fr4t * ζ4t / B )"
      ],
      "execution_count": 18,
      "outputs": []
    },
    {
      "cell_type": "code",
      "metadata": {
        "colab": {
          "base_uri": "https://localhost:8080/",
          "height": 38
        },
        "id": "vk5Q8vI8-_13",
        "outputId": "2496894c-5bd6-4d48-b4ab-eeeaef664636"
      },
      "source": [
        "EqCT.subs( sol1[1] ).subs( data )"
      ],
      "execution_count": 19,
      "outputs": [
        {
          "output_type": "execute_result",
          "data": {
            "image/png": "[encoded data removed]",
            "text/latex": "$\\displaystyle C_\\mathrm{T} = 1.37471667860599$",
            "text/plain": [
              "C_\\mathrm{T} = 1.37471667860599"
            ]
          },
          "metadata": {
            "tags": []
          },
          "execution_count": 19
        }
      ]
    },
    {
      "cell_type": "code",
      "metadata": {
        "colab": {
          "base_uri": "https://localhost:8080/",
          "height": 37
        },
        "id": "tLTTIhPMAbYW",
        "outputId": "22f4a4e5-19a1-4f99-d4b0-3e4a13c4be4e"
      },
      "source": [
        "EqFr2t.subs( data ).subs( sol1[1] )"
      ],
      "execution_count": 20,
      "outputs": [
        {
          "output_type": "execute_result",
          "data": {
            "image/png": "[encoded data removed]",
            "text/latex": "$\\displaystyle \\mathrm{Fr}_{2t} = 0.191651725353507$",
            "text/plain": [
              "\\mathrm{Fr}_{2t} = 0.191651725353507"
            ]
          },
          "metadata": {
            "tags": []
          },
          "execution_count": 20
        }
      ]
    },
    {
      "cell_type": "code",
      "metadata": {
        "colab": {
          "base_uri": "https://localhost:8080/",
          "height": 38
        },
        "id": "3KHOWAkJAnNc",
        "outputId": "2333b6e0-2eb7-4faf-9b97-09186a2a8ad7"
      },
      "source": [
        "EqCP.subs( [EqFr2t] ).subs( [EqCT] ).subs( data ).subs( sol1[1] )"
      ],
      "execution_count": 21,
      "outputs": [
        {
          "output_type": "execute_result",
          "data": {
            "image/png": "[encoded data removed]",
            "text/latex": "$\\displaystyle C_\\mathrm{P} = 1.3173341166354$",
            "text/plain": [
              "C_\\mathrm{P} = 1.3173341166354"
            ]
          },
          "metadata": {
            "tags": []
          },
          "execution_count": 21
        }
      ]
    },
    {
      "cell_type": "markdown",
      "metadata": {
        "id": "muCCXgPxFChb"
      },
      "source": [
        "# Compute conditions at section (5)"
      ]
    },
    {
      "cell_type": "markdown",
      "metadata": {
        "id": "n0tji70gFNW5"
      },
      "source": [
        "Mass balance"
      ]
    },
    {
      "cell_type": "code",
      "metadata": {
        "id": "BTag4dqeWfaE",
        "colab": {
          "base_uri": "https://localhost:8080/",
          "height": 38
        },
        "outputId": "75d9b1aa-13c4-4782-d677-e78dd7648379"
      },
      "source": [
        "eqB1 = Eq( Fr1 * ζ1, Fr5 * ζ5 )\n",
        "eqB1"
      ],
      "execution_count": 22,
      "outputs": [
        {
          "output_type": "execute_result",
          "data": {
            "image/png": "[encoded data removed]",
            "text/latex": "$\\displaystyle \\mathrm{Fr}_1 \\zeta_{1} = \\mathrm{Fr}_5 \\zeta_{5}$",
            "text/plain": [
              "\\mathrm{Fr}₁⋅\\zeta₁ = \\mathrm{Fr}₅⋅\\zeta₅"
            ]
          },
          "metadata": {
            "tags": []
          },
          "execution_count": 22
        }
      ]
    },
    {
      "cell_type": "markdown",
      "metadata": {
        "id": "_v3qUX3QFczY"
      },
      "source": [
        "Momentum balance"
      ]
    },
    {
      "cell_type": "code",
      "metadata": {
        "colab": {
          "base_uri": "https://localhost:8080/",
          "height": 53
        },
        "id": "MpV9RnYmFYRb",
        "outputId": "06e8d969-a007-4fd4-895d-255e3c37052d"
      },
      "source": [
        "eqB2 = Eq( Fr5**2 * ζ5 - ( Fr4b**2 * ζ4b + Fr4t**2 * ζ4t ), -( ζ5**2 - ζ4**2 )/2 )\n",
        "eqB2"
      ],
      "execution_count": 23,
      "outputs": [
        {
          "output_type": "execute_result",
          "data": {
            "image/png": "[encoded data removed]",
            "text/latex": "$\\displaystyle \\mathrm{Fr}_5^{2} \\zeta_{5} - \\mathrm{Fr}_{4b}^{2} \\zeta_{4t} - \\mathrm{Fr}_{4t}^{2} \\zeta_{4b} = \\frac{\\zeta_{4}^{2}}{2} - \\frac{\\zeta_{5}^{2}}{2}$",
            "text/plain": [
              "                                                                              \n",
              "            2                          2                              2       \n",
              "\\mathrm{Fr}₅ ⋅\\zeta₅ - \\mathrm{Fr}_{4b} ⋅\\zeta_{4t} - \\mathrm{Fr}_{4t} ⋅\\zeta_\n",
              "                                                                              \n",
              "\n",
              "             2         2\n",
              "       \\zeta₄    \\zeta₅ \n",
              "{4b} = ─────── - ───────\n",
              "          2         2   "
            ]
          },
          "metadata": {
            "tags": []
          },
          "execution_count": 23
        }
      ]
    },
    {
      "cell_type": "code",
      "metadata": {
        "colab": {
          "base_uri": "https://localhost:8080/",
          "height": 58
        },
        "id": "1cTst5H0GEYL",
        "outputId": "3a8a2d48-10ad-4481-8695-8a0e3102d950"
      },
      "source": [
        "sys2 = [ eqB1.subs(data).subs( (sol1[1]) ), eqB2.subs(data).subs( (sol1[1]) ) ]\n",
        "sys2"
      ],
      "execution_count": 24,
      "outputs": [
        {
          "output_type": "execute_result",
          "data": {
            "image/png": "[encoded data removed]",
            "text/latex": "$\\displaystyle \\left[ 0.2 = \\mathrm{Fr}_5 \\zeta_{5}, \\  \\mathrm{Fr}_5^{2} \\zeta_{5} - 0.0426920331423041 = 0.4753125 - \\frac{\\zeta_{5}^{2}}{2}\\right]$",
            "text/plain": [
              "⎡                                                                             \n",
              "⎢                                       2                                     \n",
              "⎢0.2 = \\mathrm{Fr}₅⋅\\zeta₅, \\mathrm{Fr}₅ ⋅\\zeta₅ - 0.0426920331423041 = 0.4753\n",
              "⎣                                                                             \n",
              "\n",
              "            2⎤\n",
              "      \\zeta₅ ⎥\n",
              "125 - ───────⎥\n",
              "         2   ⎦"
            ]
          },
          "metadata": {
            "tags": []
          },
          "execution_count": 24
        }
      ]
    },
    {
      "cell_type": "code",
      "metadata": {
        "id": "cXseFScaGNQw"
      },
      "source": [
        "sol2 = solve( sys2, [ ζ5, Fr5 ], dict=True )"
      ],
      "execution_count": 25,
      "outputs": []
    },
    {
      "cell_type": "code",
      "metadata": {
        "colab": {
          "base_uri": "https://localhost:8080/"
        },
        "id": "S3vqXsa9h-04",
        "outputId": "08672915-4d78-4505-9d00-f9eb7d973366"
      },
      "source": [
        "print( \"Number of sets of solutions: \", len( sol2 ) )"
      ],
      "execution_count": 26,
      "outputs": [
        {
          "output_type": "stream",
          "text": [
            "Number of sets of solutions:  3\n"
          ],
          "name": "stdout"
        }
      ]
    },
    {
      "cell_type": "code",
      "metadata": {
        "colab": {
          "base_uri": "https://localhost:8080/",
          "height": 38
        },
        "id": "P5Odo-8vGcsj",
        "outputId": "b7aa39f3-0ec9-4893-bdd6-0861a9d622e0"
      },
      "source": [
        "sol2[0] "
      ],
      "execution_count": 27,
      "outputs": [
        {
          "output_type": "execute_result",
          "data": {
            "image/png": "[encoded data removed]",
            "text/latex": "$\\displaystyle \\left\\{ \\mathrm{Fr}_5 : -0.189671252279347 - 5.0 \\cdot 10^{-23} i, \\  \\zeta_{5} : -1.05445605275722 + 1.47199932018542 \\cdot 10^{-22} i\\right\\}$",
            "text/plain": [
              "{\\mathrm{Fr}₅: -0.189671252279347 - 0.e-22⋅ⅈ, \\zeta₅: -1.05445605275722 + 1.47\n",
              "199932018542e-22⋅ⅈ}"
            ]
          },
          "metadata": {
            "tags": []
          },
          "execution_count": 27
        }
      ]
    },
    {
      "cell_type": "code",
      "metadata": {
        "colab": {
          "base_uri": "https://localhost:8080/",
          "height": 38
        },
        "id": "5aLZ-jKZGfxB",
        "outputId": "828015cc-25ea-4d2f-9399-6525cdd1a487"
      },
      "source": [
        "sol2[1]"
      ],
      "execution_count": 28,
      "outputs": [
        {
          "output_type": "execute_result",
          "data": {
            "image/png": "[encoded data removed]",
            "text/latex": "$\\displaystyle \\left\\{ \\mathrm{Fr}_5 : 0.204753484601856 + 3.0 \\cdot 10^{-23} i, \\  \\zeta_{5} : 0.976784353091237 - 4.45589219973315 \\cdot 10^{-25} i\\right\\}$",
            "text/plain": [
              "{\\mathrm{Fr}₅: 0.204753484601856 + 0.e-23⋅ⅈ, \\zeta₅: 0.976784353091237 - 4.455\n",
              "89219973315e-25⋅ⅈ}"
            ]
          },
          "metadata": {
            "tags": []
          },
          "execution_count": 28
        }
      ]
    },
    {
      "cell_type": "code",
      "metadata": {
        "colab": {
          "base_uri": "https://localhost:8080/",
          "height": 38
        },
        "id": "diDkQy-rUxzS",
        "outputId": "d31b3df3-cfbf-4c6b-c893-3f5c17a00a09"
      },
      "source": [
        "sol2[2]"
      ],
      "execution_count": 29,
      "outputs": [
        {
          "output_type": "execute_result",
          "data": {
            "image/png": "[encoded data removed]",
            "text/latex": "$\\displaystyle \\left\\{ \\mathrm{Fr}_5 : 2.57494043338901 - 8.0 \\cdot 10^{-22} i, \\  \\zeta_{5} : 0.0776716996659879 - 3.40308642294568 \\cdot 10^{-25} i\\right\\}$",
            "text/plain": [
              "{\\mathrm{Fr}₅: 2.57494043338901 - 0.e-21⋅ⅈ, \\zeta₅: 0.0776716996659879 - 3.403\n",
              "08642294568e-25⋅ⅈ}"
            ]
          },
          "metadata": {
            "tags": []
          },
          "execution_count": 29
        }
      ]
    },
    {
      "cell_type": "code",
      "metadata": {
        "colab": {
          "base_uri": "https://localhost:8080/",
          "height": 38
        },
        "id": "o24Cv51WGiiv",
        "outputId": "528f984c-9587-4f05-dbbb-333cb2880788"
      },
      "source": [
        "Δζ15 = symbols( r\"\\Delta\\zeta_{15}\" )\n",
        "eqC1 = Eq( Δζ15, round( 1 - re( sol2[1][ζ5] ), 4 ) )\n",
        "eqC1"
      ],
      "execution_count": 30,
      "outputs": [
        {
          "output_type": "execute_result",
          "data": {
            "image/png": "[encoded data removed]",
            "text/latex": "$\\displaystyle \\Delta\\zeta_{15} = 0.0232$",
            "text/plain": [
              "\\Delta\\zeta_{15} = 0.0232"
            ]
          },
          "metadata": {
            "tags": []
          },
          "execution_count": 30
        }
      ]
    },
    {
      "cell_type": "code",
      "metadata": {
        "colab": {
          "base_uri": "https://localhost:8080/",
          "height": 38
        },
        "id": "W7KgqRZfV_5_",
        "outputId": "4ae9a928-07de-463f-c1fc-f12606d91923"
      },
      "source": [
        "Δζ45 = symbols( r\"\\Delta\\zeta_{45}\" )\n",
        "eqD1 = Eq( Δζ45, round( sol1[1][ζ4] - re( sol2[1][ζ5] ), 4 ) )\n",
        "eqD1"
      ],
      "execution_count": 31,
      "outputs": [
        {
          "output_type": "execute_result",
          "data": {
            "image/png": "[encoded data removed]",
            "text/latex": "$\\displaystyle \\Delta\\zeta_{45} = -0.0018$",
            "text/plain": [
              "\\Delta\\zeta_{45} = -0.0018"
            ]
          },
          "metadata": {
            "tags": []
          },
          "execution_count": 31
        }
      ]
    },
    {
      "cell_type": "code",
      "metadata": {
        "id": "8MPVISG8nlyU"
      },
      "source": [
        ""
      ],
      "execution_count": null,
      "outputs": []
    }
  ]
}