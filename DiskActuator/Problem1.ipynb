{
  "nbformat": 4,
  "nbformat_minor": 0,
  "metadata": {
    "colab": {
      "name": "Untitled8.ipynb",
      "provenance": [],
      "authorship_tag": "ABX9TyOpJXoh3tevmP8b6sqOgJrX",
      "include_colab_link": true
    },
    "kernelspec": {
      "name": "python3",
      "display_name": "Python 3"
    },
    "language_info": {
      "name": "python"
    }
  },
  "cells": [
    {
      "cell_type": "markdown",
      "metadata": {
        "id": "view-in-github",
        "colab_type": "text"
      },
      "source": [
        "<a href=\"https://colab.research.google.com/github/joaochenriques/MCTE_2020_2021/blob/main/DiskActuator/Problem1.ipynb\" target=\"_parent\"><img src=\"https://colab.research.google.com/assets/colab-badge.svg\" alt=\"Open In Colab\"/></a>"
      ]
    },
    {
      "cell_type": "code",
      "metadata": {
        "id": "ngYrhzaf411H"
      },
      "source": [
        "from sympy import *\n",
        "init_printing()"
      ],
      "execution_count": 25,
      "outputs": []
    },
    {
      "cell_type": "code",
      "metadata": {
        "id": "u_i1_X0z43-S"
      },
      "source": [
        "ζ4, ζ4t, ζ4b = symbols( r\"\\zeta_4, \\zeta_{4b}, \\zeta_{4t}\")"
      ],
      "execution_count": 2,
      "outputs": []
    },
    {
      "cell_type": "code",
      "metadata": {
        "id": "l9cFNTch5M3x"
      },
      "source": [
        "Fr1, Fr4, Fr4t, Fr4b = symbols( r\"\\mathrm{Fr}_1, \\mathrm{Fr}_4, \\mathrm{Fr}_{4b}, \\mathrm{Fr}_{4t}\" )"
      ],
      "execution_count": 3,
      "outputs": []
    },
    {
      "cell_type": "code",
      "metadata": {
        "id": "Agy3LvBn5U3H"
      },
      "source": [
        "B = symbols( \"B\")"
      ],
      "execution_count": 4,
      "outputs": []
    },
    {
      "cell_type": "code",
      "metadata": {
        "colab": {
          "base_uri": "https://localhost:8080/",
          "height": 55
        },
        "id": "He0Abd6p5tdX",
        "outputId": "fb542426-3954-4f33-d7e1-0f4d4a8f1023"
      },
      "source": [
        "Eq1 = Eq( ζ4, 1 + Fr1**2/2 - Fr4b**2/2 )\n",
        "Eq1"
      ],
      "execution_count": 5,
      "outputs": [
        {
          "output_type": "execute_result",
          "data": {
            "image/png": "[encoded data removed]",
            "text/latex": "$\\displaystyle \\zeta_{4} = \\frac{\\mathrm{Fr}_1^{2}}{2} - \\frac{\\mathrm{Fr}_{4t}^{2}}{2} + 1$",
            "text/plain": [
              "                     2                   2    \n",
              "         \\mathrm{Fr}₁    \\mathrm{Fr}_{4t}     \n",
              "\\zeta₄ = ───────────── - ───────────────── + 1\n",
              "               2                 2            "
            ]
          },
          "metadata": {
            "tags": []
          },
          "execution_count": 5
        }
      ]
    },
    {
      "cell_type": "code",
      "metadata": {
        "colab": {
          "base_uri": "https://localhost:8080/",
          "height": 38
        },
        "id": "5G3pGvnt52Ci",
        "outputId": "c48137c6-4187-4b67-fd5f-a50faf7d7d4a"
      },
      "source": [
        "Eq2 = Eq( Fr4t * ζ4t + Fr4b * ζ4b, Fr1 )\n",
        "Eq2"
      ],
      "execution_count": 6,
      "outputs": [
        {
          "output_type": "execute_result",
          "data": {
            "image/png": "[encoded data removed]",
            "text/latex": "$\\displaystyle \\mathrm{Fr}_{4b} \\zeta_{4b} + \\mathrm{Fr}_{4t} \\zeta_{4t} = \\mathrm{Fr}_1$",
            "text/plain": [
              "\\mathrm{Fr}_{4b}⋅\\zeta_{4b} + \\mathrm{Fr}_{4t}⋅\\zeta_{4t} = \\mathrm{Fr}₁"
            ]
          },
          "metadata": {
            "tags": []
          },
          "execution_count": 6
        }
      ]
    },
    {
      "cell_type": "code",
      "metadata": {
        "colab": {
          "base_uri": "https://localhost:8080/",
          "height": 38
        },
        "id": "ichr8GK56CVB",
        "outputId": "c3681327-7c72-42eb-bcd1-883f4721cd0f"
      },
      "source": [
        "Eq3 = Eq( ζ4, ζ4t + ζ4b )\n",
        "Eq3"
      ],
      "execution_count": 7,
      "outputs": [
        {
          "output_type": "execute_result",
          "data": {
            "image/png": "[encoded data removed]",
            "text/latex": "$\\displaystyle \\zeta_{4} = \\zeta_{4b} + \\zeta_{4t}$",
            "text/plain": [
              "\\zeta₄ = \\zeta_{4b} + \\zeta_{4t}"
            ]
          },
          "metadata": {
            "tags": []
          },
          "execution_count": 7
        }
      ]
    },
    {
      "cell_type": "code",
      "metadata": {
        "colab": {
          "base_uri": "https://localhost:8080/",
          "height": 56
        },
        "id": "mp-vbSH96P8K",
        "outputId": "7b0bc466-0deb-43ae-f6db-d586b303ca96"
      },
      "source": [
        "Eq4 = Eq( Fr4t**2 * ζ4t + Fr4b**2 * ζ4b - Fr1**2, -(ζ4**2-1)/2 - B/2*(Fr4b**2 - Fr4t**2) )\n",
        "Eq4"
      ],
      "execution_count": 8,
      "outputs": [
        {
          "output_type": "execute_result",
          "data": {
            "image/png": "[encoded data removed]",
            "text/latex": "$\\displaystyle - \\mathrm{Fr}_1^{2} + \\mathrm{Fr}_{4b}^{2} \\zeta_{4b} + \\mathrm{Fr}_{4t}^{2} \\zeta_{4t} = - \\frac{B \\left(- \\mathrm{Fr}_{4b}^{2} + \\mathrm{Fr}_{4t}^{2}\\right)}{2} - \\frac{\\zeta_{4}^{2}}{2} + \\frac{1}{2}$",
            "text/plain": [
              "                                                                              \n",
              "              2                   2                              2            \n",
              "- \\mathrm{Fr}₁  + \\mathrm{Fr}_{4b} ⋅\\zeta_{4b} + \\mathrm{Fr}_{4t} ⋅\\zeta_{4t} \n",
              "                                                                              \n",
              "\n",
              "      ⎛                  2                   2⎞         2    \n",
              "    B⋅⎝- \\mathrm{Fr}_{4b}  + \\mathrm{Fr}_{4t} ⎠   \\zeta₄    1\n",
              "= - ─────────────────────────────────────────── - ─────── + ─\n",
              "                         2                           2      2"
            ]
          },
          "metadata": {
            "tags": []
          },
          "execution_count": 8
        }
      ]
    },
    {
      "cell_type": "code",
      "metadata": {
        "colab": {
          "base_uri": "https://localhost:8080/",
          "height": 58
        },
        "id": "MKj7PsXq6jn8",
        "outputId": "f8284277-12f4-494d-a586-072c16274864"
      },
      "source": [
        "data = { Fr1: 0.2, B: 0.2, Fr4b: 0.3 }\n",
        "sys1 = [ Eq1.subs(data), Eq2.subs(data), Eq3.subs(data), Eq4.subs(data) ]\n",
        "sys1"
      ],
      "execution_count": 32,
      "outputs": [
        {
          "output_type": "execute_result",
          "data": {
            "image/png": "[encoded data removed]",
            "text/latex": "$\\displaystyle \\left[ \\zeta_{4} = 0.975, \\  \\mathrm{Fr}_{4b} \\zeta_{4b} + 0.3 \\zeta_{4t} = 0.2, \\  \\zeta_{4} = \\zeta_{4b} + \\zeta_{4t}, \\  \\mathrm{Fr}_{4b}^{2} \\zeta_{4b} + 0.09 \\zeta_{4t} - 0.04 = 0.1 \\mathrm{Fr}_{4b}^{2} - \\frac{\\zeta_{4}^{2}}{2} + 0.491\\right]$",
            "text/plain": [
              "⎡                                                                             \n",
              "⎢                                                                             \n",
              "⎢\\zeta₄ = 0.975, \\mathrm{Fr}_{4b}⋅\\zeta_{4b} + 0.3⋅\\zeta_{4t} = 0.2, \\zeta₄ = \n",
              "⎣                                                                             \n",
              "\n",
              "                                                                              \n",
              "                                         2                                    \n",
              "\\zeta_{4b} + \\zeta_{4t}, \\mathrm{Fr}_{4b} ⋅\\zeta_{4b} + 0.09⋅\\zeta_{4t} - 0.04\n",
              "                                                                              \n",
              "\n",
              "                                 2        ⎤\n",
              "                       2   \\zeta₄         ⎥\n",
              " = 0.1⋅\\mathrm{Fr}_{4b}  - ─────── + 0.491⎥\n",
              "                              2           ⎦"
            ]
          },
          "metadata": {
            "tags": []
          },
          "execution_count": 32
        }
      ]
    },
    {
      "cell_type": "code",
      "metadata": {
        "colab": {
          "base_uri": "https://localhost:8080/",
          "height": 37
        },
        "id": "x07TpcTr6zjg",
        "outputId": "80a8472e-91a5-465d-e4fb-50d5641203a9"
      },
      "source": [
        "sol = solve( sys1, [ ζ4b, ζ4t, ζ4, Fr4t ], dict=True )\n",
        "len( sol )"
      ],
      "execution_count": 20,
      "outputs": [
        {
          "output_type": "execute_result",
          "data": {
            "image/png": "[encoded data removed]",
            "text/latex": "$\\displaystyle 2$",
            "text/plain": [
              "2"
            ]
          },
          "metadata": {
            "tags": []
          },
          "execution_count": 20
        }
      ]
    },
    {
      "cell_type": "code",
      "metadata": {
        "colab": {
          "base_uri": "https://localhost:8080/",
          "height": 38
        },
        "id": "tnshDJtO8WaN",
        "outputId": "64cb0dbc-8788-498a-aa29-4f1ed19b672b"
      },
      "source": [
        "sol[0]"
      ],
      "execution_count": 16,
      "outputs": [
        {
          "output_type": "execute_result",
          "data": {
            "image/png": "[encoded data removed]",
            "text/latex": "$\\displaystyle \\left\\{ \\mathrm{Fr}_{4b} : -0.969482494766831, \\  \\zeta_{4} : 0.975, \\  \\zeta_{4b} : 0.0728643367524258, \\  \\zeta_{4t} : 0.902135663247574\\right\\}$",
            "text/plain": [
              "{\\mathrm{Fr}_{4b}: -0.969482494766831, \\zeta₄: 0.975, \\zeta_{4b}: 0.0728643367\n",
              "524258, \\zeta_{4t}: 0.902135663247574}"
            ]
          },
          "metadata": {
            "tags": []
          },
          "execution_count": 16
        }
      ]
    },
    {
      "cell_type": "code",
      "metadata": {
        "colab": {
          "base_uri": "https://localhost:8080/",
          "height": 38
        },
        "id": "El4TiPUa9_K-",
        "outputId": "71a17310-fa21-4060-e5bf-525875f06ea2"
      },
      "source": [
        "sol[1]"
      ],
      "execution_count": 17,
      "outputs": [
        {
          "output_type": "execute_result",
          "data": {
            "image/png": "[encoded data removed]",
            "text/latex": "$\\displaystyle \\left\\{ \\mathrm{Fr}_{4b} : 0.0444824947668312, \\  \\zeta_{4} : 0.975, \\  \\zeta_{4b} : 0.36201042239979, \\  \\zeta_{4t} : 0.61298957760021\\right\\}$",
            "text/plain": [
              "{\\mathrm{Fr}_{4b}: 0.0444824947668312, \\zeta₄: 0.975, \\zeta_{4b}: 0.3620104223\n",
              "9979, \\zeta_{4t}: 0.61298957760021}"
            ]
          },
          "metadata": {
            "tags": []
          },
          "execution_count": 17
        }
      ]
    },
    {
      "cell_type": "code",
      "metadata": {
        "id": "Y1wh9VO3-EAR"
      },
      "source": [
        "C_T, C_P = symbols( \"C_\\mathrm{T}, C_\\mathrm{P}\")\n",
        "Fr2t = symbols( \"\\mathrm{Fr}_{2t}\")"
      ],
      "execution_count": 34,
      "outputs": []
    },
    {
      "cell_type": "code",
      "metadata": {
        "id": "BH-9E6OP-118"
      },
      "source": [
        "EqCT = Eq( C_T, ( Fr4b**2-Fr4t**2 )/Fr1**2 ) \n",
        "EqCP = Eq( C_P, C_T * Fr2t / Fr1 )\n",
        "EqFr2t = Eq( Fr2t, Fr4t * ζ4t / B )"
      ],
      "execution_count": 43,
      "outputs": []
    },
    {
      "cell_type": "code",
      "metadata": {
        "colab": {
          "base_uri": "https://localhost:8080/",
          "height": 38
        },
        "id": "vk5Q8vI8-_13",
        "outputId": "51da88f5-faf9-496d-9659-e08519192d4f"
      },
      "source": [
        "EqCT.subs( sol[1] ).subs( data )"
      ],
      "execution_count": 44,
      "outputs": [
        {
          "output_type": "execute_result",
          "data": {
            "image/png": "[encoded data removed]",
            "text/latex": "$\\displaystyle C_\\mathrm{T} = 2.20053269148297$",
            "text/plain": [
              "C_\\mathrm{T} = 2.20053269148297"
            ]
          },
          "metadata": {
            "tags": []
          },
          "execution_count": 44
        }
      ]
    },
    {
      "cell_type": "code",
      "metadata": {
        "colab": {
          "base_uri": "https://localhost:8080/",
          "height": 37
        },
        "id": "tLTTIhPMAbYW",
        "outputId": "a358dbb8-844d-4450-b298-dddfbdbd64f5"
      },
      "source": [
        "EqFr2t.subs( data ).subs( sol[1] )"
      ],
      "execution_count": 46,
      "outputs": [
        {
          "output_type": "execute_result",
          "data": {
            "image/png": "[encoded data removed]",
            "text/latex": "$\\displaystyle \\mathrm{Fr}_{2t} = 0.080515633599685$",
            "text/plain": [
              "\\mathrm{Fr}_{2t} = 0.080515633599685"
            ]
          },
          "metadata": {
            "tags": []
          },
          "execution_count": 46
        }
      ]
    },
    {
      "cell_type": "code",
      "metadata": {
        "id": "nHkZqkS4AdwL"
      },
      "source": [
        ""
      ],
      "execution_count": 38,
      "outputs": []
    },
    {
      "cell_type": "code",
      "metadata": {
        "colab": {
          "base_uri": "https://localhost:8080/",
          "height": 38
        },
        "id": "3KHOWAkJAnNc",
        "outputId": "7704d7e3-ddd3-4fdc-b815-e411043a0c13"
      },
      "source": [
        "EqCP.subs( data ).subs( sol[1] )"
      ],
      "execution_count": 42,
      "outputs": [
        {
          "output_type": "execute_result",
          "data": {
            "image/png": "[encoded data removed]",
            "text/latex": "$\\displaystyle C_\\mathrm{P} = 5.0 C_\\mathrm{T} \\mathrm{Fr}_{2t}$",
            "text/plain": [
              "C_\\mathrm{P} = 5.0⋅C_\\mathrm{T}⋅\\mathrm{Fr}_{2t}"
            ]
          },
          "metadata": {
            "tags": []
          },
          "execution_count": 42
        }
      ]
    },
    {
      "cell_type": "code",
      "metadata": {
        "id": "70WnxSJyAqsK"
      },
      "source": [
        ""
      ],
      "execution_count": null,
      "outputs": []
    }
  ]
}