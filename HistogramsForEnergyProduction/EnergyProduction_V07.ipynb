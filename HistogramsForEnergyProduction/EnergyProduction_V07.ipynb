{
  "nbformat": 4,
  "nbformat_minor": 0,
  "metadata": {
    "kernelspec": {
      "display_name": "Python 3",
      "language": "python",
      "name": "python3"
    },
    "language_info": {
      "codemirror_mode": {
        "name": "ipython",
        "version": 3
      },
      "file_extension": ".py",
      "mimetype": "text/x-python",
      "name": "python",
      "nbconvert_exporter": "python",
      "pygments_lexer": "ipython3",
      "version": "3.7.6"
    },
    "colab": {
      "name": "EnergyProduction_V07.ipynb",
      "provenance": [],
      "include_colab_link": true
    }
  },
  "cells": [
    {
      "cell_type": "markdown",
      "metadata": {
        "id": "view-in-github",
        "colab_type": "text"
      },
      "source": [
        "<a href=\"https://colab.research.google.com/github/joaochenriques/MCTE_2020_2021/blob/main/HistogramsForEnergyProduction/EnergyProduction_V07.ipynb\" target=\"_parent\"><img src=\"https://colab.research.google.com/assets/colab-badge.svg\" alt=\"Open In Colab\"/></a>"
      ]
    },
    {
      "cell_type": "code",
      "metadata": {
        "id": "Z__imhv4TPrW"
      },
      "source": [
        "import pandas as pd\n",
        "import numpy as np\n",
        "import matplotlib.pyplot as mpl\n",
        "%config InlineBackend.figure_formats = ['svg']"
      ],
      "execution_count": 19,
      "outputs": []
    },
    {
      "cell_type": "code",
      "metadata": {
        "id": "I9Jeeeh3TPrc"
      },
      "source": [
        "import pathlib\n",
        "if not pathlib.Path(\"Data.xlsx\").exists():\n",
        "  !curl -O https://raw.githubusercontent.com/joaochenriques/MCTE_2020_2021/main/HistogramsForEnergyProduction/Data.xlsx"
      ],
      "execution_count": 28,
      "outputs": []
    },
    {
      "cell_type": "markdown",
      "metadata": {
        "id": "PVeS_bfVTPrd"
      },
      "source": [
        "## Energy produced\n",
        "\n",
        "Energy produced during time $T$ for a single unit \n",
        "$$E(T) = \\int_0^T P_u(t) dt$$\n",
        "where $P_u$ is instantaneous power \n",
        "\n",
        "The energy produce during one year $T=8760\\,$h is the energy yield of the unit.\n",
        "\n",
        "The unit power is given by\n",
        "$$P_u(t) = \\eta_T P(T)$$\n",
        "where\n",
        "\n",
        "* $\\eta_T$: total efficiency of the power train and electrical generator\n",
        "* $\\displaystyle P(t) = \\frac{1}{2} \\rho U(t)^3 A \\, C_p(t)$: instantaneous power at turbine shaft\n",
        "* $C_p(t)$: is the instantaneous power coefficient \n",
        "* $U(t)$: instantaneous stream velocity\n",
        "* $\\rho$: water density \n",
        "* $A$: capture area"
      ]
    },
    {
      "cell_type": "markdown",
      "metadata": {
        "id": "XuaFgL6TTPrd"
      },
      "source": [
        "## Capacity factor\n",
        "\n",
        "If the unit operates at the rated power $P_\\text{rated}$ during time $T$ the energy produced is \n",
        "$$E_\\text{rated} = P_\\text{rated} T$$\n",
        "\n",
        "The capacity factor is defined as annual energy yield over the energy yield at 100% rated power\n",
        "$$\\frac{E}{E_\\text{rated}} = \\frac{1}{T} \\int_0^{T} \\frac{P_u(t)}{P_\\text{rated}} dt $$\n",
        "\n",
        "In **general** the instantaneous power is less than the rated power \n",
        "$$P(t) < P_\\text{rated}$$\n",
        "and the capacity factor is less than 1\n",
        "\n",
        "\n",
        "The **annual energy yield** = number of hours/year $\\times$ installed power $\\times$ capacity factor\n",
        "\n",
        "e.g. \n",
        "$$E = 8760\\text{h}\\times 10\\text{MW} \\times 0.35\\approx 30\\text{GWh/y}$$  "
      ]
    },
    {
      "cell_type": "markdown",
      "metadata": {
        "id": "SMcgeU62TPre"
      },
      "source": [
        "## Computing the annual energy yield\n",
        "\n",
        "If we know\n",
        "* $P_{u}(U)$ - the Turbine Power Curve as function of velocity \n",
        "* $f(U)$ - the frequency distribution of Current Speed classes \n",
        "\n",
        "\n",
        "then the energy produce is computed from\n",
        "$$\n",
        "E=\\int_{U_\\text{cut-in}}^{U_\\text{cut-out}} P_u(U) f(U) d U \\cong \\sum P_{u}(U) f(U) \\Delta U\n",
        "$$\n",
        "where\n",
        "* $U_\\text{cut-in}$: Turbine cut-in speed\n",
        "* $U_\\text{cut-out}$: Turbine cut-out speed"
      ]
    },
    {
      "cell_type": "markdown",
      "metadata": {
        "id": "-cWktMTcTPrf"
      },
      "source": [
        "## Maximum energy production vs real\n",
        "\n",
        "Theoretical conditions for maximum energy production\n",
        "\n",
        "<img src=\"https://github.com/joaochenriques/MCTE_2020_2021/blob/main/HistogramsForEnergyProduction/figs/PowerCurve_cin_cout.svg?raw=1\" width=\"300px\" style=\"display:inline\">\n",
        "\n",
        "**'Ideal turbine'**\n",
        "- $U_\\text{cut-in}=0$\n",
        "- $U_\\text{cut-out}=\\infty$\n",
        "- always $C_{P,\\text{max}}$ \n",
        "\n",
        "**Real Turbine**\n",
        "- $U_\\text{cut-in}>0$\n",
        "- $U_\\text{cut-out}$ finite\n",
        "- Close to $C_{P,\\text{max}}$ until $U_\\text{rated}$\n",
        "- $P=P_\\text{rated}$  for  $\\mathrm{U}>U_\\text{rated}$\n",
        "- $P=0$  for  $U>U_\\text{cut-out}$\n",
        "- Typical values: \n",
        "  - $C_{P,\\text{max}} \\approx 0.35-0.50$\n",
        "  - $\\eta_{\\text{drivetrain}} \\approx 0.92-0.95$"
      ]
    },
    {
      "cell_type": "markdown",
      "metadata": {
        "id": "aNuybMWqTPrf"
      },
      "source": [
        "## The annual energy yield considering the turbine curve \n",
        "\n",
        "If the Turbine Power Curve is known as function of velocity: $P_{U}(U)$\n",
        "If the Current Speed is known as function of time:\n",
        "$$\n",
        "E=\\int_{0}^\\text{1 year} P_{u}(U(t)) d t \\approx \\sum P_{u}(U(t)) \\Delta t\n",
        "$$\n",
        "where\n",
        "$$\n",
        "\\begin{array}{ll}\n",
        "P_{u}(U)=0 & \\text { if } U(t)<U_{\\text{cut-in}} \\\\\n",
        "P_{u}(U)=\\eta_{T} C_{P} \\, \\frac{1}{2} \\rho U(t)^{3} A & \\text { if } U_{\\text{cut-in}}<U(t)<U_{\\text {rated }} \\\\\n",
        "P_{u}(U)=P_{\\text {rated }} & \\text { if } U_{\\text {rated }}<U(t)<U_{\\text{cut-out }} \\\\\n",
        "P_{u}(U)=0 & \\text { if } U_{\\text {cut-out }}<U(t)\n",
        "\\end{array}\n",
        "$$\n",
        "$\\Delta t$ May be taken at $1 \\mathrm{~h}$"
      ]
    },
    {
      "cell_type": "markdown",
      "metadata": {
        "id": "f5RHIR50TPrg"
      },
      "source": [
        "## Annual energy yield based on histograms\n",
        "\n",
        "<img src=\"https://github.com/joaochenriques/MCTE_2020_2021/blob/main/HistogramsForEnergyProduction/figs/AnnualEnergy.svg?raw=1\" width=\"600px\" style=\"display:inline\">\n"
      ]
    },
    {
      "cell_type": "markdown",
      "metadata": {
        "id": "kohQZLDxTPrg"
      },
      "source": [
        "## Create an histogram\n",
        "\n",
        "We start by reading an excel file with a time series of velocities at a given location"
      ]
    },
    {
      "cell_type": "code",
      "metadata": {
        "colab": {
          "base_uri": "https://localhost:8080/"
        },
        "id": "MVH0pom8TPrh",
        "outputId": "f617ffb0-e6ee-4718-dc10-3bc9feaf2d85"
      },
      "source": [
        "df = pd.read_excel( 'Data.xlsx', \"Sheet1\")\n",
        "list(df.keys())"
      ],
      "execution_count": 27,
      "outputs": [
        {
          "output_type": "execute_result",
          "data": {
            "text/plain": [
              "['hrs', 'days', 'U', 'abs_U', 'U^3']"
            ]
          },
          "metadata": {
            "tags": []
          },
          "execution_count": 27
        }
      ]
    },
    {
      "cell_type": "markdown",
      "metadata": {
        "id": "zoQsnuExTPri"
      },
      "source": [
        "Assign excel columns to vectors"
      ]
    },
    {
      "cell_type": "code",
      "metadata": {
        "id": "zmsf3FBETPri"
      },
      "source": [
        "hrs = np.array( df['hrs'])\n",
        "U = np.array( df['U'])\n",
        "abs_U = np.array( df['abs_U'])\n",
        "U3 = np.array( df['U^3'])"
      ],
      "execution_count": null,
      "outputs": []
    },
    {
      "cell_type": "markdown",
      "metadata": {
        "id": "JNJ-r0_ATPri"
      },
      "source": [
        "Plot an interval of the time series "
      ]
    },
    {
      "cell_type": "code",
      "metadata": {
        "id": "qHjyhwmWTPrj"
      },
      "source": [
        "fig = mpl.figure(figsize=(6,4))\n",
        "mpl.plot( hrs, U, 'o-' )\n",
        "mpl.grid()\n",
        "mpl.xlabel('Time [h]')\n",
        "mpl.ylabel('$U$ [m/s]')\n",
        "mpl.xlim( 1000,1300 );"
      ],
      "execution_count": null,
      "outputs": []
    },
    {
      "cell_type": "markdown",
      "metadata": {
        "id": "3XIYY-PsTPrj"
      },
      "source": [
        "Plot the time series of absolute value of the velocity (note that there is no zero crossing) "
      ]
    },
    {
      "cell_type": "code",
      "metadata": {
        "id": "RTeBne4iTPrk"
      },
      "source": [
        "mpl.figure(figsize=(6,4))\n",
        "mpl.plot( hrs, abs_U )\n",
        "mpl.xlabel('Time [h]')\n",
        "mpl.ylabel('$|U|$ [m/s]');"
      ],
      "execution_count": null,
      "outputs": []
    },
    {
      "cell_type": "markdown",
      "metadata": {
        "id": "tYdd8nCETPrk"
      },
      "source": [
        "Let us compute the number of bins. "
      ]
    },
    {
      "cell_type": "code",
      "metadata": {
        "id": "VdpGsIuoTPrl"
      },
      "source": [
        "U_bin_size = 0.2\n",
        "U_max = np.max( abs_U )\n",
        "U_max_bins = int( U_max / U_bin_size )+1\n",
        "U_max, U_max_bins"
      ],
      "execution_count": null,
      "outputs": []
    },
    {
      "cell_type": "markdown",
      "metadata": {
        "id": "HO_Lj8klTPrl"
      },
      "source": [
        "Compute the number of hours in each bin"
      ]
    },
    {
      "cell_type": "code",
      "metadata": {
        "id": "rGtyT-leTPrm"
      },
      "source": [
        "U_bins_cnt = np.zeros( U_max_bins )\n",
        "\n",
        "for u in abs_U:\n",
        "  n = int( u / U_bin_size )\n",
        "  U_bins_cnt[n] += 1"
      ],
      "execution_count": null,
      "outputs": []
    },
    {
      "cell_type": "markdown",
      "metadata": {
        "id": "1FN0fbwBTPro"
      },
      "source": [
        "Define the labels of the x-axis for plotting"
      ]
    },
    {
      "cell_type": "code",
      "metadata": {
        "id": "QvjQNzEiTPrq"
      },
      "source": [
        "U_bins_cls = np.linspace( 0.0, (U_max_bins-1)*U_bin_size, U_max_bins )\n",
        "U_bins_cls += U_bin_size*0.5\n",
        "U_bins_id = [ ( \"%.1f\" % n) for n in U_bins_cls ]"
      ],
      "execution_count": null,
      "outputs": []
    },
    {
      "cell_type": "code",
      "metadata": {
        "id": "Xk9OYZupTPrr"
      },
      "source": [
        "fig = mpl.figure(figsize=(4,3))\n",
        "ax = fig.add_axes([0,0,1,1])\n",
        "ax.bar(U_bins_id,U_bins_cnt,width=0.8)\n",
        "mpl.xlabel('$U$ [m/s]')\n",
        "mpl.ylabel('Time [h]')\n",
        "mpl.ylim( 0, 500 );"
      ],
      "execution_count": null,
      "outputs": []
    },
    {
      "cell_type": "code",
      "metadata": {
        "id": "4hAwEGxtTPrs"
      },
      "source": [
        "U3_bin_size = 1\n",
        "U3_max = np.max( U3 )\n",
        "U3_max_bins = int( U3_max / U3_bin_size )+1"
      ],
      "execution_count": null,
      "outputs": []
    },
    {
      "cell_type": "code",
      "metadata": {
        "id": "IB-KSDaOTPrt"
      },
      "source": [
        "U3_bins_cnt = np.zeros( U3_max_bins )\n",
        "\n",
        "for u3 in U3:\n",
        "  n = int( u3 / U3_bin_size )\n",
        "  U3_bins_cnt[n] += 1"
      ],
      "execution_count": null,
      "outputs": []
    },
    {
      "cell_type": "code",
      "metadata": {
        "id": "HNFpWpoXTPrt"
      },
      "source": [
        "U3_bins_cls = np.linspace( 0.0, (U3_max_bins-1)*U3_bin_size, U3_max_bins )\n",
        "U3_bins_cls += 0.5\n",
        "U3_bins_id = [ ( \"%.1f\" % n) for n in U3_bins_cls ]"
      ],
      "execution_count": null,
      "outputs": []
    },
    {
      "cell_type": "code",
      "metadata": {
        "id": "x1Zs9MyBTPru"
      },
      "source": [
        "fig = mpl.figure(figsize=(5,3))\n",
        "ax = fig.add_axes([0,0,1,1])\n",
        "ax.bar(U3_bins_id,U3_bins_cnt,width=0.8)\n",
        "mpl.xlabel('$U^3$ [(m/s)$^3$]')\n",
        "mpl.ylabel('Time [h]')\n",
        "mpl.ylim( 0, 2000 );\n",
        "mpl.xticks(U3_bins_id,U3_bins_cls,rotation=60);"
      ],
      "execution_count": null,
      "outputs": []
    },
    {
      "cell_type": "markdown",
      "metadata": {
        "id": "3FKNJAknTPrv"
      },
      "source": [
        "Simulation data for a turbine rotor radius of 4.0m and a rated power of 120kW"
      ]
    },
    {
      "cell_type": "code",
      "metadata": {
        "id": "Dupy2ge3TPrv"
      },
      "source": [
        "At = np.pi*4.0**2\n",
        "Prated = 50E3\n",
        "\n",
        "CP = 0.48 # at optimal TSR (best efficiency point)\n",
        "rho_w = 1000"
      ],
      "execution_count": null,
      "outputs": []
    },
    {
      "cell_type": "markdown",
      "metadata": {
        "id": "z_uhNh4BTPrv"
      },
      "source": [
        "Cut-in values"
      ]
    },
    {
      "cell_type": "code",
      "metadata": {
        "id": "PoW_CsaoTPrw"
      },
      "source": [
        "U_cut_in = 0.4\n",
        "P_cut_in = 0.5*rho_w*U_cut_in**3*At * CP"
      ],
      "execution_count": null,
      "outputs": []
    },
    {
      "cell_type": "markdown",
      "metadata": {
        "id": "QSTyd5ARTPrw"
      },
      "source": [
        "Compute the turbine curve "
      ]
    },
    {
      "cell_type": "code",
      "metadata": {
        "id": "CRXDGqX1TPrw"
      },
      "source": [
        "Ucur = U_bins_cls\n",
        "\n",
        "Pwr = 0.5 * rho_w * Ucur**3 * At * CP\n",
        "Pwr_kW = Pwr / 1000.0\n",
        "Pwr_lim = np.where( Pwr <= P_cut_in, 0.0, np.where( Pwr <= Prated, Pwr, Prated ) )\n",
        "Pwr_lim_kW = Pwr_lim / 1000.0"
      ],
      "execution_count": null,
      "outputs": []
    },
    {
      "cell_type": "markdown",
      "metadata": {
        "id": "AMVviPHbTPrx"
      },
      "source": [
        "Plot the ideal and the 'real' curve"
      ]
    },
    {
      "cell_type": "code",
      "metadata": {
        "id": "boBBdGTrTPrx"
      },
      "source": [
        "mpl.figure(figsize=(6,4))\n",
        "mpl.plot( Ucur, Pwr_kW, '-' )\n",
        "mpl.plot( Ucur, Pwr_lim_kW, 'o-' )\n",
        "mpl.xlabel('$U_\\mathrm{cur}$ [m/s]')\n",
        "mpl.ylabel('$P_\\mathrm{turb}$ [kW]' )\n",
        "mpl.ylim( -5,200 )\n",
        "mpl.grid()"
      ],
      "execution_count": null,
      "outputs": []
    },
    {
      "cell_type": "markdown",
      "metadata": {
        "id": "xV4TnhSGTPry"
      },
      "source": [
        "Plot the impose $C_P$ curve"
      ]
    },
    {
      "cell_type": "code",
      "metadata": {
        "id": "tejax3zZTPry"
      },
      "source": [
        "Pwr[0] = 1E-6 # avoid division by zero\n",
        "CP_lim = ( Pwr_lim / Pwr ) * CP \n",
        "mpl.figure(figsize=(6,4))\n",
        "mpl.plot( Ucur,  CP_lim, 'o-' )\n",
        "mpl.xlabel('$U_\\mathrm{cur}$ [m/s]')\n",
        "mpl.ylabel('$C_P$ [-]' )\n",
        "mpl.ylim( 0, 0.50 )\n",
        "mpl.grid()"
      ],
      "execution_count": null,
      "outputs": []
    },
    {
      "cell_type": "markdown",
      "metadata": {
        "id": "8xjQ3fFmXADO"
      },
      "source": [
        "create pretty table just for displaying"
      ]
    },
    {
      "cell_type": "code",
      "metadata": {
        "id": "JJD1kPhbUUsL"
      },
      "source": [
        "dfdic = { \"Ucur [m/s]\":Ucur, \"bins [h]\":U_bins_cnt, \"PowerCurve[kW]\":Pwr_lim_kW }\n",
        "df = pd.DataFrame( dfdic )\n",
        "df"
      ],
      "execution_count": null,
      "outputs": []
    },
    {
      "cell_type": "markdown",
      "metadata": {
        "id": "jW7x8O76XGKT"
      },
      "source": [
        "Annual Power production is the dot product of two columns above"
      ]
    },
    {
      "cell_type": "code",
      "metadata": {
        "id": "5VMN9nagV1Y8"
      },
      "source": [
        "Annual_Power = np.dot( U_bins_cnt, Pwr_lim_kW )\n",
        "print( \"Annual Power production = %.1fkWh\" % Annual_Power )"
      ],
      "execution_count": null,
      "outputs": []
    },
    {
      "cell_type": "markdown",
      "metadata": {
        "id": "MUJlh5coTPrz"
      },
      "source": [
        "## Power density\n",
        "\n",
        "<img src=\"https://github.com/joaochenriques/MCTE_2020_2021/blob/main/HistogramsForEnergyProduction/figs/PowerDensity.svg?raw=1\" width=\"600px\" style=\"display:inline\">"
      ]
    },
    {
      "cell_type": "markdown",
      "metadata": {
        "id": "RIXrKxR0TPrz"
      },
      "source": [
        "## Turbine matching\n",
        "\n",
        "<img src=\"https://github.com/joaochenriques/MCTE_2020_2021/blob/main/HistogramsForEnergyProduction/figs/TurbineMatching.svg?raw=1\" width=\"500px\" style=\"display:inline\">"
      ]
    },
    {
      "cell_type": "markdown",
      "metadata": {
        "id": "BSwixw1HTPr0"
      },
      "source": [
        "## The Thrust\n",
        "\n",
        "Comparing Tidal to Wind:\n",
        "\n",
        "For the same power and the same operational conditions\n",
        "* $P_{\\text{wind}}=P_{\\text{tidal}}$\n",
        "* $C_{T_{\\text{wind}}}=C_{T_{\\text{tidal}}}$\n",
        "* $C_{P_{\\text{wind}}}=C_{P_{\\text{tidal}}}$\n",
        "\n",
        "we get\n",
        "\n",
        "$\\quad\\displaystyle \\frac{C_{T_\\text{tidal}}}{C_{P_\\text{tidal}}}=\\frac{C_{T_\\text{wind}}}{C_{P_\\text{wind}}}$\n",
        "\n",
        "giving after simplification\n",
        "\n",
        "$\\quad T_{\\text{tidal}} U_{\\text{tidal}} = T_{\\text{wind}} U_{\\text{wind}}$\n",
        "\n",
        "Due to wind/tidal speed ratio\n",
        "\n",
        "$\\quad\\displaystyle\\frac{T_{\\text{tidal}}}{T_{\\text{wind}}}=\\frac{U_{\\text{wind}}}{U_{\\text{tidal}}} \\approx 4\\text{ to }8$\n",
        "\n",
        "**Need to include maximum thrust in design considerations**"
      ]
    }
  ]
}