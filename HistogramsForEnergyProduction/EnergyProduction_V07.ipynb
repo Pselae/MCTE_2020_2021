{
  "nbformat": 4,
  "nbformat_minor": 0,
  "metadata": {
    "kernelspec": {
      "display_name": "Python 3",
      "language": "python",
      "name": "python3"
    },
    "language_info": {
      "codemirror_mode": {
        "name": "ipython",
        "version": 3
      },
      "file_extension": ".py",
      "mimetype": "text/x-python",
      "name": "python",
      "nbconvert_exporter": "python",
      "pygments_lexer": "ipython3",
      "version": "3.7.6"
    },
    "colab": {
      "name": "EnergyProduction_V07.ipynb",
      "provenance": [],
      "include_colab_link": true
    }
  },
  "cells": [
    {
      "cell_type": "markdown",
      "metadata": {
        "id": "view-in-github",
        "colab_type": "text"
      },
      "source": [
        "<a href=\"https://colab.research.google.com/github/joaochenriques/MCTE_2020_2021/blob/main/HistogramsForEnergyProduction/EnergyProduction_V07.ipynb\" target=\"_parent\"><img src=\"https://colab.research.google.com/assets/colab-badge.svg\" alt=\"Open In Colab\"/></a>"
      ]
    },
    {
      "cell_type": "code",
      "metadata": {
        "id": "Z__imhv4TPrW"
      },
      "source": [
        "import pandas as pd\n",
        "import numpy as np\n",
        "import matplotlib.pyplot as mpl\n",
        "%config InlineBackend.figure_formats = ['svg']"
      ],
      "execution_count": 3,
      "outputs": []
    },
    {
      "cell_type": "code",
      "metadata": {
        "id": "I9Jeeeh3TPrc"
      },
      "source": [
        "import pathlib\n",
        "if not pathlib.Path(\"Data.xlsx\").exists():\n",
        "  !curl -O https://raw.githubusercontent.com/joaochenriques/MCTE_2020_2021/main/HistogramsForEnergyProduction/Data.xlsx"
      ],
      "execution_count": 10,
      "outputs": []
    },
    {
      "cell_type": "markdown",
      "metadata": {
        "id": "PVeS_bfVTPrd"
      },
      "source": [
        "## Energy produced\n",
        "\n",
        "Energy produced during time $T$ for a single unit \n",
        "$$E(T) = \\int_0^T P_u(t) dt$$\n",
        "where $P_u$ is instantaneous power \n",
        "\n",
        "The energy produce during one year $T=8760\\,$h is the energy yield of the unit.\n",
        "\n",
        "The unit power is given by\n",
        "$$P_u(t) = \\eta_T P(T)$$\n",
        "where\n",
        "\n",
        "* $\\eta_T$: total efficiency of the power train and electrical generator\n",
        "* $\\displaystyle P(t) = \\frac{1}{2} \\rho U(t)^3 A \\, C_p(t)$: instantaneous power at turbine shaft\n",
        "* $C_p(t)$: is the instantaneous power coefficient \n",
        "* $U(t)$: instantaneous stream velocity\n",
        "* $\\rho$: water density \n",
        "* $A$: capture area"
      ]
    },
    {
      "cell_type": "markdown",
      "metadata": {
        "id": "XuaFgL6TTPrd"
      },
      "source": [
        "## Capacity factor\n",
        "\n",
        "If the unit operates at the rated power $P_\\text{rated}$ during time $T$ the energy produced is \n",
        "$$E_\\text{rated} = P_\\text{rated} T$$\n",
        "\n",
        "The capacity factor is defined as annual energy yield over the energy yield at 100% rated power\n",
        "$$\\frac{E}{E_\\text{rated}} = \\frac{1}{T} \\int_0^{T} \\frac{P_u(t)}{P_\\text{rated}} dt $$\n",
        "\n",
        "In **general** the instantaneous power is less than the rated power \n",
        "$$P(t) < P_\\text{rated}$$\n",
        "and the capacity factor is less than 1\n",
        "\n",
        "\n",
        "The **annual energy yield** = number of hours/year $\\times$ installed power $\\times$ capacity factor\n",
        "\n",
        "e.g. \n",
        "$$E = 8760\\text{h}\\times 10\\text{MW} \\times 0.35\\approx 30\\text{GWh/y}$$  "
      ]
    },
    {
      "cell_type": "markdown",
      "metadata": {
        "id": "SMcgeU62TPre"
      },
      "source": [
        "## Computing the annual energy yield\n",
        "\n",
        "If we know\n",
        "* $P_{u}(U)$ - the Turbine Power Curve as function of velocity \n",
        "* $f(U)$ - the frequency distribution of Current Speed classes \n",
        "\n",
        "\n",
        "then the energy produce is computed from\n",
        "$$\n",
        "E=\\int_{U_\\text{cut-in}}^{U_\\text{cut-out}} P_u(U) f(U) d U \\cong \\sum P_{u}(U) f(U) \\Delta U\n",
        "$$\n",
        "where\n",
        "* $U_\\text{cut-in}$: Turbine cut-in speed\n",
        "* $U_\\text{cut-out}$: Turbine cut-out speed"
      ]
    },
    {
      "cell_type": "markdown",
      "metadata": {
        "id": "-cWktMTcTPrf"
      },
      "source": [
        "## Maximum energy production vs real\n",
        "\n",
        "Theoretical conditions for maximum energy production\n",
        "\n",
        "<img src=\"https://github.com/joaochenriques/MCTE_2020_2021/blob/main/HistogramsForEnergyProduction/figs/PowerCurve_cin_cout.svg?raw=1\" width=\"300px\" style=\"display:inline\">\n",
        "\n",
        "**'Ideal turbine'**\n",
        "- $U_\\text{cut-in}=0$\n",
        "- $U_\\text{cut-out}=\\infty$\n",
        "- always $C_{P,\\text{max}}$ \n",
        "\n",
        "**Real Turbine**\n",
        "- $U_\\text{cut-in}>0$\n",
        "- $U_\\text{cut-out}$ finite\n",
        "- Close to $C_{P,\\text{max}}$ until $U_\\text{rated}$\n",
        "- $P=P_\\text{rated}$  for  $\\mathrm{U}>U_\\text{rated}$\n",
        "- $P=0$  for  $U>U_\\text{cut-out}$\n",
        "- Typical values: \n",
        "  - $C_{P,\\text{max}} \\approx 0.35-0.50$\n",
        "  - $\\eta_{\\text{drivetrain}} \\approx 0.92-0.95$"
      ]
    },
    {
      "cell_type": "markdown",
      "metadata": {
        "id": "aNuybMWqTPrf"
      },
      "source": [
        "## The annual energy yield considering the turbine curve \n",
        "\n",
        "If the Turbine Power Curve is known as function of velocity: $P_{U}(U)$\n",
        "If the Current Speed is known as function of time:\n",
        "$$\n",
        "E=\\int_{0}^\\text{1 year} P_{u}(U(t)) d t \\approx \\sum P_{u}(U(t)) \\Delta t\n",
        "$$\n",
        "where\n",
        "$$\n",
        "\\begin{array}{ll}\n",
        "P_{u}(U)=0 & \\text { if } U(t)<U_{\\text{cut-in}} \\\\\n",
        "P_{u}(U)=\\eta_{T} C_{P} \\, \\frac{1}{2} \\rho U(t)^{3} A & \\text { if } U_{\\text{cut-in}}<U(t)<U_{\\text {rated }} \\\\\n",
        "P_{u}(U)=P_{\\text {rated }} & \\text { if } U_{\\text {rated }}<U(t)<U_{\\text{cut-out }} \\\\\n",
        "P_{u}(U)=0 & \\text { if } U_{\\text {cut-out }}<U(t)\n",
        "\\end{array}\n",
        "$$\n",
        "$\\Delta t$ May be taken at $1 \\mathrm{~h}$"
      ]
    },
    {
      "cell_type": "markdown",
      "metadata": {
        "id": "f5RHIR50TPrg"
      },
      "source": [
        "## Annual energy yield based on histograms\n",
        "\n",
        "<img src=\"https://github.com/joaochenriques/MCTE_2020_2021/blob/main/HistogramsForEnergyProduction/figs/AnnualEnergy.svg?raw=1\" width=\"600px\" style=\"display:inline\">\n"
      ]
    },
    {
      "cell_type": "markdown",
      "metadata": {
        "id": "kohQZLDxTPrg"
      },
      "source": [
        "## Create an histogram\n",
        "\n",
        "We start by reading an excel file with a time series of velocities at a given location"
      ]
    },
    {
      "cell_type": "code",
      "metadata": {
        "colab": {
          "base_uri": "https://localhost:8080/",
          "height": 324
        },
        "id": "MVH0pom8TPrh",
        "outputId": "cf2278be-5b26-4ce3-c0f0-b2ef6f048cc3"
      },
      "source": [
        "df = pd.read_excel( 'Data.xlsx', \"Sheet1\")\n",
        "list(df.keys())"
      ],
      "execution_count": 11,
      "outputs": [
        {
          "output_type": "error",
          "ename": "XLRDError",
          "evalue": "ignored",
          "traceback": [
            "\u001b[0;31m---------------------------------------------------------------------------\u001b[0m",
            "\u001b[0;31mXLRDError\u001b[0m                                 Traceback (most recent call last)",
            "\u001b[0;32m<ipython-input-11-c7207942b1b0>\u001b[0m in \u001b[0;36m<module>\u001b[0;34m()\u001b[0m\n\u001b[0;32m----> 1\u001b[0;31m \u001b[0mdf\u001b[0m \u001b[0;34m=\u001b[0m \u001b[0mpd\u001b[0m\u001b[0;34m.\u001b[0m\u001b[0mread_excel\u001b[0m\u001b[0;34m(\u001b[0m \u001b[0;34m'Data.xlsx'\u001b[0m\u001b[0;34m,\u001b[0m \u001b[0;34m\"Sheet1\"\u001b[0m\u001b[0;34m)\u001b[0m\u001b[0;34m\u001b[0m\u001b[0;34m\u001b[0m\u001b[0m\n\u001b[0m\u001b[1;32m      2\u001b[0m \u001b[0mlist\u001b[0m\u001b[0;34m(\u001b[0m\u001b[0mdf\u001b[0m\u001b[0;34m.\u001b[0m\u001b[0mkeys\u001b[0m\u001b[0;34m(\u001b[0m\u001b[0;34m)\u001b[0m\u001b[0;34m)\u001b[0m\u001b[0;34m\u001b[0m\u001b[0;34m\u001b[0m\u001b[0m\n",
            "\u001b[0;32m/usr/local/lib/python3.7/dist-packages/pandas/util/_decorators.py\u001b[0m in \u001b[0;36mwrapper\u001b[0;34m(*args, **kwargs)\u001b[0m\n\u001b[1;32m    294\u001b[0m                 )\n\u001b[1;32m    295\u001b[0m                 \u001b[0mwarnings\u001b[0m\u001b[0;34m.\u001b[0m\u001b[0mwarn\u001b[0m\u001b[0;34m(\u001b[0m\u001b[0mmsg\u001b[0m\u001b[0;34m,\u001b[0m \u001b[0mFutureWarning\u001b[0m\u001b[0;34m,\u001b[0m \u001b[0mstacklevel\u001b[0m\u001b[0;34m=\u001b[0m\u001b[0mstacklevel\u001b[0m\u001b[0;34m)\u001b[0m\u001b[0;34m\u001b[0m\u001b[0;34m\u001b[0m\u001b[0m\n\u001b[0;32m--> 296\u001b[0;31m             \u001b[0;32mreturn\u001b[0m \u001b[0mfunc\u001b[0m\u001b[0;34m(\u001b[0m\u001b[0;34m*\u001b[0m\u001b[0margs\u001b[0m\u001b[0;34m,\u001b[0m \u001b[0;34m**\u001b[0m\u001b[0mkwargs\u001b[0m\u001b[0;34m)\u001b[0m\u001b[0;34m\u001b[0m\u001b[0;34m\u001b[0m\u001b[0m\n\u001b[0m\u001b[1;32m    297\u001b[0m \u001b[0;34m\u001b[0m\u001b[0m\n\u001b[1;32m    298\u001b[0m         \u001b[0;32mreturn\u001b[0m \u001b[0mwrapper\u001b[0m\u001b[0;34m\u001b[0m\u001b[0;34m\u001b[0m\u001b[0m\n",
            "\u001b[0;32m/usr/local/lib/python3.7/dist-packages/pandas/io/excel/_base.py\u001b[0m in \u001b[0;36mread_excel\u001b[0;34m(io, sheet_name, header, names, index_col, usecols, squeeze, dtype, engine, converters, true_values, false_values, skiprows, nrows, na_values, keep_default_na, na_filter, verbose, parse_dates, date_parser, thousands, comment, skipfooter, convert_float, mangle_dupe_cols)\u001b[0m\n\u001b[1;32m    302\u001b[0m \u001b[0;34m\u001b[0m\u001b[0m\n\u001b[1;32m    303\u001b[0m     \u001b[0;32mif\u001b[0m \u001b[0;32mnot\u001b[0m \u001b[0misinstance\u001b[0m\u001b[0;34m(\u001b[0m\u001b[0mio\u001b[0m\u001b[0;34m,\u001b[0m \u001b[0mExcelFile\u001b[0m\u001b[0;34m)\u001b[0m\u001b[0;34m:\u001b[0m\u001b[0;34m\u001b[0m\u001b[0;34m\u001b[0m\u001b[0m\n\u001b[0;32m--> 304\u001b[0;31m         \u001b[0mio\u001b[0m \u001b[0;34m=\u001b[0m \u001b[0mExcelFile\u001b[0m\u001b[0;34m(\u001b[0m\u001b[0mio\u001b[0m\u001b[0;34m,\u001b[0m \u001b[0mengine\u001b[0m\u001b[0;34m=\u001b[0m\u001b[0mengine\u001b[0m\u001b[0;34m)\u001b[0m\u001b[0;34m\u001b[0m\u001b[0;34m\u001b[0m\u001b[0m\n\u001b[0m\u001b[1;32m    305\u001b[0m     \u001b[0;32melif\u001b[0m \u001b[0mengine\u001b[0m \u001b[0;32mand\u001b[0m \u001b[0mengine\u001b[0m \u001b[0;34m!=\u001b[0m \u001b[0mio\u001b[0m\u001b[0;34m.\u001b[0m\u001b[0mengine\u001b[0m\u001b[0;34m:\u001b[0m\u001b[0;34m\u001b[0m\u001b[0;34m\u001b[0m\u001b[0m\n\u001b[1;32m    306\u001b[0m         raise ValueError(\n",
            "\u001b[0;32m/usr/local/lib/python3.7/dist-packages/pandas/io/excel/_base.py\u001b[0m in \u001b[0;36m__init__\u001b[0;34m(self, path_or_buffer, engine)\u001b[0m\n\u001b[1;32m    865\u001b[0m         \u001b[0mself\u001b[0m\u001b[0;34m.\u001b[0m\u001b[0m_io\u001b[0m \u001b[0;34m=\u001b[0m \u001b[0mstringify_path\u001b[0m\u001b[0;34m(\u001b[0m\u001b[0mpath_or_buffer\u001b[0m\u001b[0;34m)\u001b[0m\u001b[0;34m\u001b[0m\u001b[0;34m\u001b[0m\u001b[0m\n\u001b[1;32m    866\u001b[0m \u001b[0;34m\u001b[0m\u001b[0m\n\u001b[0;32m--> 867\u001b[0;31m         \u001b[0mself\u001b[0m\u001b[0;34m.\u001b[0m\u001b[0m_reader\u001b[0m \u001b[0;34m=\u001b[0m \u001b[0mself\u001b[0m\u001b[0;34m.\u001b[0m\u001b[0m_engines\u001b[0m\u001b[0;34m[\u001b[0m\u001b[0mengine\u001b[0m\u001b[0;34m]\u001b[0m\u001b[0;34m(\u001b[0m\u001b[0mself\u001b[0m\u001b[0;34m.\u001b[0m\u001b[0m_io\u001b[0m\u001b[0;34m)\u001b[0m\u001b[0;34m\u001b[0m\u001b[0;34m\u001b[0m\u001b[0m\n\u001b[0m\u001b[1;32m    868\u001b[0m \u001b[0;34m\u001b[0m\u001b[0m\n\u001b[1;32m    869\u001b[0m     \u001b[0;32mdef\u001b[0m \u001b[0m__fspath__\u001b[0m\u001b[0;34m(\u001b[0m\u001b[0mself\u001b[0m\u001b[0;34m)\u001b[0m\u001b[0;34m:\u001b[0m\u001b[0;34m\u001b[0m\u001b[0;34m\u001b[0m\u001b[0m\n",
            "\u001b[0;32m/usr/local/lib/python3.7/dist-packages/pandas/io/excel/_xlrd.py\u001b[0m in \u001b[0;36m__init__\u001b[0;34m(self, filepath_or_buffer)\u001b[0m\n\u001b[1;32m     20\u001b[0m         \u001b[0merr_msg\u001b[0m \u001b[0;34m=\u001b[0m \u001b[0;34m\"Install xlrd >= 1.0.0 for Excel support\"\u001b[0m\u001b[0;34m\u001b[0m\u001b[0;34m\u001b[0m\u001b[0m\n\u001b[1;32m     21\u001b[0m         \u001b[0mimport_optional_dependency\u001b[0m\u001b[0;34m(\u001b[0m\u001b[0;34m\"xlrd\"\u001b[0m\u001b[0;34m,\u001b[0m \u001b[0mextra\u001b[0m\u001b[0;34m=\u001b[0m\u001b[0merr_msg\u001b[0m\u001b[0;34m)\u001b[0m\u001b[0;34m\u001b[0m\u001b[0;34m\u001b[0m\u001b[0m\n\u001b[0;32m---> 22\u001b[0;31m         \u001b[0msuper\u001b[0m\u001b[0;34m(\u001b[0m\u001b[0;34m)\u001b[0m\u001b[0;34m.\u001b[0m\u001b[0m__init__\u001b[0m\u001b[0;34m(\u001b[0m\u001b[0mfilepath_or_buffer\u001b[0m\u001b[0;34m)\u001b[0m\u001b[0;34m\u001b[0m\u001b[0;34m\u001b[0m\u001b[0m\n\u001b[0m\u001b[1;32m     23\u001b[0m \u001b[0;34m\u001b[0m\u001b[0m\n\u001b[1;32m     24\u001b[0m     \u001b[0;34m@\u001b[0m\u001b[0mproperty\u001b[0m\u001b[0;34m\u001b[0m\u001b[0;34m\u001b[0m\u001b[0m\n",
            "\u001b[0;32m/usr/local/lib/python3.7/dist-packages/pandas/io/excel/_base.py\u001b[0m in \u001b[0;36m__init__\u001b[0;34m(self, filepath_or_buffer)\u001b[0m\n\u001b[1;32m    351\u001b[0m             \u001b[0mself\u001b[0m\u001b[0;34m.\u001b[0m\u001b[0mbook\u001b[0m \u001b[0;34m=\u001b[0m \u001b[0mself\u001b[0m\u001b[0;34m.\u001b[0m\u001b[0mload_workbook\u001b[0m\u001b[0;34m(\u001b[0m\u001b[0mfilepath_or_buffer\u001b[0m\u001b[0;34m)\u001b[0m\u001b[0;34m\u001b[0m\u001b[0;34m\u001b[0m\u001b[0m\n\u001b[1;32m    352\u001b[0m         \u001b[0;32melif\u001b[0m \u001b[0misinstance\u001b[0m\u001b[0;34m(\u001b[0m\u001b[0mfilepath_or_buffer\u001b[0m\u001b[0;34m,\u001b[0m \u001b[0mstr\u001b[0m\u001b[0;34m)\u001b[0m\u001b[0;34m:\u001b[0m\u001b[0;34m\u001b[0m\u001b[0;34m\u001b[0m\u001b[0m\n\u001b[0;32m--> 353\u001b[0;31m             \u001b[0mself\u001b[0m\u001b[0;34m.\u001b[0m\u001b[0mbook\u001b[0m \u001b[0;34m=\u001b[0m \u001b[0mself\u001b[0m\u001b[0;34m.\u001b[0m\u001b[0mload_workbook\u001b[0m\u001b[0;34m(\u001b[0m\u001b[0mfilepath_or_buffer\u001b[0m\u001b[0;34m)\u001b[0m\u001b[0;34m\u001b[0m\u001b[0;34m\u001b[0m\u001b[0m\n\u001b[0m\u001b[1;32m    354\u001b[0m         \u001b[0;32melif\u001b[0m \u001b[0misinstance\u001b[0m\u001b[0;34m(\u001b[0m\u001b[0mfilepath_or_buffer\u001b[0m\u001b[0;34m,\u001b[0m \u001b[0mbytes\u001b[0m\u001b[0;34m)\u001b[0m\u001b[0;34m:\u001b[0m\u001b[0;34m\u001b[0m\u001b[0;34m\u001b[0m\u001b[0m\n\u001b[1;32m    355\u001b[0m             \u001b[0mself\u001b[0m\u001b[0;34m.\u001b[0m\u001b[0mbook\u001b[0m \u001b[0;34m=\u001b[0m \u001b[0mself\u001b[0m\u001b[0;34m.\u001b[0m\u001b[0mload_workbook\u001b[0m\u001b[0;34m(\u001b[0m\u001b[0mBytesIO\u001b[0m\u001b[0;34m(\u001b[0m\u001b[0mfilepath_or_buffer\u001b[0m\u001b[0;34m)\u001b[0m\u001b[0;34m)\u001b[0m\u001b[0;34m\u001b[0m\u001b[0;34m\u001b[0m\u001b[0m\n",
            "\u001b[0;32m/usr/local/lib/python3.7/dist-packages/pandas/io/excel/_xlrd.py\u001b[0m in \u001b[0;36mload_workbook\u001b[0;34m(self, filepath_or_buffer)\u001b[0m\n\u001b[1;32m     35\u001b[0m             \u001b[0;32mreturn\u001b[0m \u001b[0mopen_workbook\u001b[0m\u001b[0;34m(\u001b[0m\u001b[0mfile_contents\u001b[0m\u001b[0;34m=\u001b[0m\u001b[0mdata\u001b[0m\u001b[0;34m)\u001b[0m\u001b[0;34m\u001b[0m\u001b[0;34m\u001b[0m\u001b[0m\n\u001b[1;32m     36\u001b[0m         \u001b[0;32melse\u001b[0m\u001b[0;34m:\u001b[0m\u001b[0;34m\u001b[0m\u001b[0;34m\u001b[0m\u001b[0m\n\u001b[0;32m---> 37\u001b[0;31m             \u001b[0;32mreturn\u001b[0m \u001b[0mopen_workbook\u001b[0m\u001b[0;34m(\u001b[0m\u001b[0mfilepath_or_buffer\u001b[0m\u001b[0;34m)\u001b[0m\u001b[0;34m\u001b[0m\u001b[0;34m\u001b[0m\u001b[0m\n\u001b[0m\u001b[1;32m     38\u001b[0m \u001b[0;34m\u001b[0m\u001b[0m\n\u001b[1;32m     39\u001b[0m     \u001b[0;34m@\u001b[0m\u001b[0mproperty\u001b[0m\u001b[0;34m\u001b[0m\u001b[0;34m\u001b[0m\u001b[0m\n",
            "\u001b[0;32m/usr/local/lib/python3.7/dist-packages/xlrd/__init__.py\u001b[0m in \u001b[0;36mopen_workbook\u001b[0;34m(filename, logfile, verbosity, use_mmap, file_contents, encoding_override, formatting_info, on_demand, ragged_rows)\u001b[0m\n\u001b[1;32m    160\u001b[0m         \u001b[0mformatting_info\u001b[0m\u001b[0;34m=\u001b[0m\u001b[0mformatting_info\u001b[0m\u001b[0;34m,\u001b[0m\u001b[0;34m\u001b[0m\u001b[0;34m\u001b[0m\u001b[0m\n\u001b[1;32m    161\u001b[0m         \u001b[0mon_demand\u001b[0m\u001b[0;34m=\u001b[0m\u001b[0mon_demand\u001b[0m\u001b[0;34m,\u001b[0m\u001b[0;34m\u001b[0m\u001b[0;34m\u001b[0m\u001b[0m\n\u001b[0;32m--> 162\u001b[0;31m         \u001b[0mragged_rows\u001b[0m\u001b[0;34m=\u001b[0m\u001b[0mragged_rows\u001b[0m\u001b[0;34m,\u001b[0m\u001b[0;34m\u001b[0m\u001b[0;34m\u001b[0m\u001b[0m\n\u001b[0m\u001b[1;32m    163\u001b[0m         )\n\u001b[1;32m    164\u001b[0m     \u001b[0;32mreturn\u001b[0m \u001b[0mbk\u001b[0m\u001b[0;34m\u001b[0m\u001b[0;34m\u001b[0m\u001b[0m\n",
            "\u001b[0;32m/usr/local/lib/python3.7/dist-packages/xlrd/book.py\u001b[0m in \u001b[0;36mopen_workbook_xls\u001b[0;34m(filename, logfile, verbosity, use_mmap, file_contents, encoding_override, formatting_info, on_demand, ragged_rows)\u001b[0m\n\u001b[1;32m     89\u001b[0m         \u001b[0mt1\u001b[0m \u001b[0;34m=\u001b[0m \u001b[0mtime\u001b[0m\u001b[0;34m.\u001b[0m\u001b[0mclock\u001b[0m\u001b[0;34m(\u001b[0m\u001b[0;34m)\u001b[0m\u001b[0;34m\u001b[0m\u001b[0;34m\u001b[0m\u001b[0m\n\u001b[1;32m     90\u001b[0m         \u001b[0mbk\u001b[0m\u001b[0;34m.\u001b[0m\u001b[0mload_time_stage_1\u001b[0m \u001b[0;34m=\u001b[0m \u001b[0mt1\u001b[0m \u001b[0;34m-\u001b[0m \u001b[0mt0\u001b[0m\u001b[0;34m\u001b[0m\u001b[0;34m\u001b[0m\u001b[0m\n\u001b[0;32m---> 91\u001b[0;31m         \u001b[0mbiff_version\u001b[0m \u001b[0;34m=\u001b[0m \u001b[0mbk\u001b[0m\u001b[0;34m.\u001b[0m\u001b[0mgetbof\u001b[0m\u001b[0;34m(\u001b[0m\u001b[0mXL_WORKBOOK_GLOBALS\u001b[0m\u001b[0;34m)\u001b[0m\u001b[0;34m\u001b[0m\u001b[0;34m\u001b[0m\u001b[0m\n\u001b[0m\u001b[1;32m     92\u001b[0m         \u001b[0;32mif\u001b[0m \u001b[0;32mnot\u001b[0m \u001b[0mbiff_version\u001b[0m\u001b[0;34m:\u001b[0m\u001b[0;34m\u001b[0m\u001b[0;34m\u001b[0m\u001b[0m\n\u001b[1;32m     93\u001b[0m             \u001b[0;32mraise\u001b[0m \u001b[0mXLRDError\u001b[0m\u001b[0;34m(\u001b[0m\u001b[0;34m\"Can't determine file's BIFF version\"\u001b[0m\u001b[0;34m)\u001b[0m\u001b[0;34m\u001b[0m\u001b[0;34m\u001b[0m\u001b[0m\n",
            "\u001b[0;32m/usr/local/lib/python3.7/dist-packages/xlrd/book.py\u001b[0m in \u001b[0;36mgetbof\u001b[0;34m(self, rqd_stream)\u001b[0m\n\u001b[1;32m   1269\u001b[0m             \u001b[0mbof_error\u001b[0m\u001b[0;34m(\u001b[0m\u001b[0;34m'Expected BOF record; met end of file'\u001b[0m\u001b[0;34m)\u001b[0m\u001b[0;34m\u001b[0m\u001b[0;34m\u001b[0m\u001b[0m\n\u001b[1;32m   1270\u001b[0m         \u001b[0;32mif\u001b[0m \u001b[0mopcode\u001b[0m \u001b[0;32mnot\u001b[0m \u001b[0;32min\u001b[0m \u001b[0mbofcodes\u001b[0m\u001b[0;34m:\u001b[0m\u001b[0;34m\u001b[0m\u001b[0;34m\u001b[0m\u001b[0m\n\u001b[0;32m-> 1271\u001b[0;31m             \u001b[0mbof_error\u001b[0m\u001b[0;34m(\u001b[0m\u001b[0;34m'Expected BOF record; found %r'\u001b[0m \u001b[0;34m%\u001b[0m \u001b[0mself\u001b[0m\u001b[0;34m.\u001b[0m\u001b[0mmem\u001b[0m\u001b[0;34m[\u001b[0m\u001b[0msavpos\u001b[0m\u001b[0;34m:\u001b[0m\u001b[0msavpos\u001b[0m\u001b[0;34m+\u001b[0m\u001b[0;36m8\u001b[0m\u001b[0;34m]\u001b[0m\u001b[0;34m)\u001b[0m\u001b[0;34m\u001b[0m\u001b[0;34m\u001b[0m\u001b[0m\n\u001b[0m\u001b[1;32m   1272\u001b[0m         \u001b[0mlength\u001b[0m \u001b[0;34m=\u001b[0m \u001b[0mself\u001b[0m\u001b[0;34m.\u001b[0m\u001b[0mget2bytes\u001b[0m\u001b[0;34m(\u001b[0m\u001b[0;34m)\u001b[0m\u001b[0;34m\u001b[0m\u001b[0;34m\u001b[0m\u001b[0m\n\u001b[1;32m   1273\u001b[0m         \u001b[0;32mif\u001b[0m \u001b[0mlength\u001b[0m \u001b[0;34m==\u001b[0m \u001b[0mMY_EOF\u001b[0m\u001b[0;34m:\u001b[0m\u001b[0;34m\u001b[0m\u001b[0;34m\u001b[0m\u001b[0m\n",
            "\u001b[0;32m/usr/local/lib/python3.7/dist-packages/xlrd/book.py\u001b[0m in \u001b[0;36mbof_error\u001b[0;34m(msg)\u001b[0m\n\u001b[1;32m   1263\u001b[0m         \u001b[0;32mif\u001b[0m \u001b[0mDEBUG\u001b[0m\u001b[0;34m:\u001b[0m \u001b[0mprint\u001b[0m\u001b[0;34m(\u001b[0m\u001b[0;34m\"reqd: 0x%04x\"\u001b[0m \u001b[0;34m%\u001b[0m \u001b[0mrqd_stream\u001b[0m\u001b[0;34m,\u001b[0m \u001b[0mfile\u001b[0m\u001b[0;34m=\u001b[0m\u001b[0mself\u001b[0m\u001b[0;34m.\u001b[0m\u001b[0mlogfile\u001b[0m\u001b[0;34m)\u001b[0m\u001b[0;34m\u001b[0m\u001b[0;34m\u001b[0m\u001b[0m\n\u001b[1;32m   1264\u001b[0m         \u001b[0;32mdef\u001b[0m \u001b[0mbof_error\u001b[0m\u001b[0;34m(\u001b[0m\u001b[0mmsg\u001b[0m\u001b[0;34m)\u001b[0m\u001b[0;34m:\u001b[0m\u001b[0;34m\u001b[0m\u001b[0;34m\u001b[0m\u001b[0m\n\u001b[0;32m-> 1265\u001b[0;31m             \u001b[0;32mraise\u001b[0m \u001b[0mXLRDError\u001b[0m\u001b[0;34m(\u001b[0m\u001b[0;34m'Unsupported format, or corrupt file: '\u001b[0m \u001b[0;34m+\u001b[0m \u001b[0mmsg\u001b[0m\u001b[0;34m)\u001b[0m\u001b[0;34m\u001b[0m\u001b[0;34m\u001b[0m\u001b[0m\n\u001b[0m\u001b[1;32m   1266\u001b[0m         \u001b[0msavpos\u001b[0m \u001b[0;34m=\u001b[0m \u001b[0mself\u001b[0m\u001b[0;34m.\u001b[0m\u001b[0m_position\u001b[0m\u001b[0;34m\u001b[0m\u001b[0;34m\u001b[0m\u001b[0m\n\u001b[1;32m   1267\u001b[0m         \u001b[0mopcode\u001b[0m \u001b[0;34m=\u001b[0m \u001b[0mself\u001b[0m\u001b[0;34m.\u001b[0m\u001b[0mget2bytes\u001b[0m\u001b[0;34m(\u001b[0m\u001b[0;34m)\u001b[0m\u001b[0;34m\u001b[0m\u001b[0;34m\u001b[0m\u001b[0m\n",
            "\u001b[0;31mXLRDError\u001b[0m: Unsupported format, or corrupt file: Expected BOF record; found b'404: Not'"
          ]
        }
      ]
    },
    {
      "cell_type": "markdown",
      "metadata": {
        "id": "zoQsnuExTPri"
      },
      "source": [
        "Assign excel columns to vectors"
      ]
    },
    {
      "cell_type": "code",
      "metadata": {
        "id": "zmsf3FBETPri"
      },
      "source": [
        "hrs = np.array( df['hrs'])\n",
        "U = np.array( df['U'])\n",
        "abs_U = np.array( df['abs_U'])\n",
        "U3 = np.array( df['U^3'])"
      ],
      "execution_count": null,
      "outputs": []
    },
    {
      "cell_type": "markdown",
      "metadata": {
        "id": "JNJ-r0_ATPri"
      },
      "source": [
        "Plot an interval of the time series "
      ]
    },
    {
      "cell_type": "code",
      "metadata": {
        "id": "qHjyhwmWTPrj"
      },
      "source": [
        "fig = mpl.figure(figsize=(6,4))\n",
        "mpl.plot( hrs, U, 'o-' )\n",
        "mpl.grid()\n",
        "mpl.xlabel('Time [h]')\n",
        "mpl.ylabel('$U$ [m/s]')\n",
        "mpl.xlim( 1000,1300 );"
      ],
      "execution_count": null,
      "outputs": []
    },
    {
      "cell_type": "markdown",
      "metadata": {
        "id": "3XIYY-PsTPrj"
      },
      "source": [
        "Plot the time series of absolute value of the velocity (note that there is no zero crossing) "
      ]
    },
    {
      "cell_type": "code",
      "metadata": {
        "id": "RTeBne4iTPrk"
      },
      "source": [
        "mpl.figure(figsize=(6,4))\n",
        "mpl.plot( hrs, abs_U )\n",
        "mpl.xlabel('Time [h]')\n",
        "mpl.ylabel('$|U|$ [m/s]');"
      ],
      "execution_count": null,
      "outputs": []
    },
    {
      "cell_type": "markdown",
      "metadata": {
        "id": "tYdd8nCETPrk"
      },
      "source": [
        "Let us compute the number of bins. "
      ]
    },
    {
      "cell_type": "code",
      "metadata": {
        "id": "VdpGsIuoTPrl"
      },
      "source": [
        "U_bin_size = 0.2\n",
        "U_max = np.max( abs_U )\n",
        "U_max_bins = int( U_max / U_bin_size )+1\n",
        "U_max, U_max_bins"
      ],
      "execution_count": null,
      "outputs": []
    },
    {
      "cell_type": "markdown",
      "metadata": {
        "id": "HO_Lj8klTPrl"
      },
      "source": [
        "Compute the number of hours in each bin"
      ]
    },
    {
      "cell_type": "code",
      "metadata": {
        "id": "rGtyT-leTPrm"
      },
      "source": [
        "U_bins_cnt = np.zeros( U_max_bins )\n",
        "\n",
        "for u in abs_U:\n",
        "  n = int( u / U_bin_size )\n",
        "  U_bins_cnt[n] += 1"
      ],
      "execution_count": null,
      "outputs": []
    },
    {
      "cell_type": "markdown",
      "metadata": {
        "id": "1FN0fbwBTPro"
      },
      "source": [
        "Define the labels of the x-axis for plotting"
      ]
    },
    {
      "cell_type": "code",
      "metadata": {
        "id": "QvjQNzEiTPrq"
      },
      "source": [
        "U_bins_cls = np.linspace( 0.0, (U_max_bins-1)*U_bin_size, U_max_bins )\n",
        "U_bins_cls += U_bin_size*0.5\n",
        "U_bins_id = [ ( \"%.1f\" % n) for n in U_bins_cls ]"
      ],
      "execution_count": null,
      "outputs": []
    },
    {
      "cell_type": "code",
      "metadata": {
        "id": "Xk9OYZupTPrr"
      },
      "source": [
        "fig = mpl.figure(figsize=(4,3))\n",
        "ax = fig.add_axes([0,0,1,1])\n",
        "ax.bar(U_bins_id,U_bins_cnt,width=0.8)\n",
        "mpl.xlabel('$U$ [m/s]')\n",
        "mpl.ylabel('Time [h]')\n",
        "mpl.ylim( 0, 500 );"
      ],
      "execution_count": null,
      "outputs": []
    },
    {
      "cell_type": "code",
      "metadata": {
        "id": "4hAwEGxtTPrs"
      },
      "source": [
        "U3_bin_size = 1\n",
        "U3_max = np.max( U3 )\n",
        "U3_max_bins = int( U3_max / U3_bin_size )+1"
      ],
      "execution_count": null,
      "outputs": []
    },
    {
      "cell_type": "code",
      "metadata": {
        "id": "IB-KSDaOTPrt"
      },
      "source": [
        "U3_bins_cnt = np.zeros( U3_max_bins )\n",
        "\n",
        "for u3 in U3:\n",
        "  n = int( u3 / U3_bin_size )\n",
        "  U3_bins_cnt[n] += 1"
      ],
      "execution_count": null,
      "outputs": []
    },
    {
      "cell_type": "code",
      "metadata": {
        "id": "HNFpWpoXTPrt"
      },
      "source": [
        "U3_bins_cls = np.linspace( 0.0, (U3_max_bins-1)*U3_bin_size, U3_max_bins )\n",
        "U3_bins_cls += 0.5\n",
        "U3_bins_id = [ ( \"%.1f\" % n) for n in U3_bins_cls ]"
      ],
      "execution_count": null,
      "outputs": []
    },
    {
      "cell_type": "code",
      "metadata": {
        "id": "x1Zs9MyBTPru"
      },
      "source": [
        "fig = mpl.figure(figsize=(5,3))\n",
        "ax = fig.add_axes([0,0,1,1])\n",
        "ax.bar(U3_bins_id,U3_bins_cnt,width=0.8)\n",
        "mpl.xlabel('$U^3$ [(m/s)$^3$]')\n",
        "mpl.ylabel('Time [h]')\n",
        "mpl.ylim( 0, 2000 );\n",
        "mpl.xticks(U3_bins_id,U3_bins_cls,rotation=60);"
      ],
      "execution_count": null,
      "outputs": []
    },
    {
      "cell_type": "markdown",
      "metadata": {
        "id": "3FKNJAknTPrv"
      },
      "source": [
        "Simulation data for a turbine rotor radius of 4.0m and a rated power of 120kW"
      ]
    },
    {
      "cell_type": "code",
      "metadata": {
        "id": "Dupy2ge3TPrv"
      },
      "source": [
        "At = np.pi*4.0**2\n",
        "Prated = 50E3\n",
        "\n",
        "CP = 0.48 # at optimal TSR (best efficiency point)\n",
        "rho_w = 1000"
      ],
      "execution_count": null,
      "outputs": []
    },
    {
      "cell_type": "markdown",
      "metadata": {
        "id": "z_uhNh4BTPrv"
      },
      "source": [
        "Cut-in values"
      ]
    },
    {
      "cell_type": "code",
      "metadata": {
        "id": "PoW_CsaoTPrw"
      },
      "source": [
        "U_cut_in = 0.4\n",
        "P_cut_in = 0.5*rho_w*U_cut_in**3*At * CP"
      ],
      "execution_count": null,
      "outputs": []
    },
    {
      "cell_type": "markdown",
      "metadata": {
        "id": "QSTyd5ARTPrw"
      },
      "source": [
        "Compute the turbine curve "
      ]
    },
    {
      "cell_type": "code",
      "metadata": {
        "id": "CRXDGqX1TPrw"
      },
      "source": [
        "Ucur = U_bins_cls\n",
        "\n",
        "Pwr = 0.5 * rho_w * Ucur**3 * At * CP\n",
        "Pwr_kW = Pwr / 1000.0\n",
        "Pwr_lim = np.where( Pwr <= P_cut_in, 0.0, np.where( Pwr <= Prated, Pwr, Prated ) )\n",
        "Pwr_lim_kW = Pwr_lim / 1000.0"
      ],
      "execution_count": null,
      "outputs": []
    },
    {
      "cell_type": "markdown",
      "metadata": {
        "id": "AMVviPHbTPrx"
      },
      "source": [
        "Plot the ideal and the 'real' curve"
      ]
    },
    {
      "cell_type": "code",
      "metadata": {
        "id": "boBBdGTrTPrx"
      },
      "source": [
        "mpl.figure(figsize=(6,4))\n",
        "mpl.plot( Ucur, Pwr_kW, '-' )\n",
        "mpl.plot( Ucur, Pwr_lim_kW, 'o-' )\n",
        "mpl.xlabel('$U_\\mathrm{cur}$ [m/s]')\n",
        "mpl.ylabel('$P_\\mathrm{turb}$ [kW]' )\n",
        "mpl.ylim( -5,200 )\n",
        "mpl.grid()"
      ],
      "execution_count": null,
      "outputs": []
    },
    {
      "cell_type": "markdown",
      "metadata": {
        "id": "xV4TnhSGTPry"
      },
      "source": [
        "Plot the impose $C_P$ curve"
      ]
    },
    {
      "cell_type": "code",
      "metadata": {
        "id": "tejax3zZTPry"
      },
      "source": [
        "Pwr[0] = 1E-6 # avoid division by zero\n",
        "CP_lim = ( Pwr_lim / Pwr ) * CP \n",
        "mpl.figure(figsize=(6,4))\n",
        "mpl.plot( Ucur,  CP_lim, 'o-' )\n",
        "mpl.xlabel('$U_\\mathrm{cur}$ [m/s]')\n",
        "mpl.ylabel('$C_P$ [-]' )\n",
        "mpl.ylim( 0, 0.50 )\n",
        "mpl.grid()"
      ],
      "execution_count": null,
      "outputs": []
    },
    {
      "cell_type": "markdown",
      "metadata": {
        "id": "8xjQ3fFmXADO"
      },
      "source": [
        "create pretty table just for displaying"
      ]
    },
    {
      "cell_type": "code",
      "metadata": {
        "id": "JJD1kPhbUUsL"
      },
      "source": [
        "dfdic = { \"Ucur [m/s]\":Ucur, \"bins [h]\":U_bins_cnt, \"PowerCurve[kW]\":Pwr_lim_kW }\n",
        "df = pd.DataFrame( dfdic )\n",
        "df"
      ],
      "execution_count": null,
      "outputs": []
    },
    {
      "cell_type": "markdown",
      "metadata": {
        "id": "jW7x8O76XGKT"
      },
      "source": [
        "Annual Power production is the dot product of two columns above"
      ]
    },
    {
      "cell_type": "code",
      "metadata": {
        "id": "5VMN9nagV1Y8"
      },
      "source": [
        "Annual_Power = np.dot( U_bins_cnt, Pwr_lim_kW )\n",
        "print( \"Annual Power production = %.1fkWh\" % Annual_Power )"
      ],
      "execution_count": null,
      "outputs": []
    },
    {
      "cell_type": "markdown",
      "metadata": {
        "id": "MUJlh5coTPrz"
      },
      "source": [
        "## Power density\n",
        "\n",
        "<img src=\"https://github.com/joaochenriques/MCTE_2020_2021/blob/main/HistogramsForEnergyProduction/figs/PowerDensity.svg?raw=1\" width=\"600px\" style=\"display:inline\">"
      ]
    },
    {
      "cell_type": "markdown",
      "metadata": {
        "id": "RIXrKxR0TPrz"
      },
      "source": [
        "## Turbine matching\n",
        "\n",
        "<img src=\"https://github.com/joaochenriques/MCTE_2020_2021/blob/main/HistogramsForEnergyProduction/figs/TurbineMatching.svg?raw=1\" width=\"500px\" style=\"display:inline\">"
      ]
    },
    {
      "cell_type": "markdown",
      "metadata": {
        "id": "BSwixw1HTPr0"
      },
      "source": [
        "## The Thrust\n",
        "\n",
        "Comparing Tidal to Wind:\n",
        "\n",
        "For the same power and the same operational conditions\n",
        "* $P_{\\text{wind}}=P_{\\text{tidal}}$\n",
        "* $C_{T_{\\text{wind}}}=C_{T_{\\text{tidal}}}$\n",
        "* $C_{P_{\\text{wind}}}=C_{P_{\\text{tidal}}}$\n",
        "\n",
        "we get\n",
        "\n",
        "$\\quad\\displaystyle \\frac{C_{T_\\text{tidal}}}{C_{P_\\text{tidal}}}=\\frac{C_{T_\\text{wind}}}{C_{P_\\text{wind}}}$\n",
        "\n",
        "giving after simplification\n",
        "\n",
        "$\\quad T_{\\text{tidal}} U_{\\text{tidal}} = T_{\\text{wind}} U_{\\text{wind}}$\n",
        "\n",
        "Due to wind/tidal speed ratio\n",
        "\n",
        "$\\quad\\displaystyle\\frac{T_{\\text{tidal}}}{T_{\\text{wind}}}=\\frac{U_{\\text{wind}}}{U_{\\text{tidal}}} \\approx 4\\text{ to }8$\n",
        "\n",
        "**Need to include maximum thrust in design considerations**"
      ]
    }
  ]
}
