{
  "nbformat": 4,
  "nbformat_minor": 0,
  "metadata": {
    "kernelspec": {
      "display_name": "Python 3",
      "language": "python",
      "name": "python3"
    },
    "language_info": {
      "codemirror_mode": {
        "name": "ipython",
        "version": 3
      },
      "file_extension": ".py",
      "mimetype": "text/x-python",
      "name": "python",
      "nbconvert_exporter": "python",
      "pygments_lexer": "ipython3",
      "version": "3.7.6"
    },
    "colab": {
      "name": "LaRance_ebb_TurbineGeneratorControl_V06.ipynb",
      "provenance": [],
      "include_colab_link": true
    }
  },
  "cells": [
    {
      "cell_type": "markdown",
      "metadata": {
        "id": "view-in-github",
        "colab_type": "text"
      },
      "source": [
        "<a href=\"https://colab.research.google.com/github/joaochenriques/MCTE_2020_2021/blob/main/LaRanceExample/LaRance_ebb_TurbineGeneratorControl_V06.ipynb\" target=\"_parent\"><img src=\"https://colab.research.google.com/assets/colab-badge.svg\" alt=\"Open In Colab\"/></a>"
      ]
    },
    {
      "cell_type": "code",
      "metadata": {
        "id": "y0PSNQCFH9QU"
      },
      "source": [
        "import matplotlib.pyplot as mpl\n",
        "import numpy as np"
      ],
      "execution_count": 1,
      "outputs": []
    },
    {
      "cell_type": "code",
      "metadata": {
        "id": "Vwc2EpKvzDwk"
      },
      "source": [
        "%config InlineBackend.figure_formats = ['svg']\n",
        "mpl.rcParams[\"figure.figsize\"] = (12, 3)"
      ],
      "execution_count": 2,
      "outputs": []
    },
    {
      "cell_type": "markdown",
      "metadata": {
        "id": "6nPHWWjmqNWx"
      },
      "source": [
        "## Turbine hill map and turbine operating curve\n",
        " \n",
        "<img src=\"https://raw.githubusercontent.com/joaochenriques/MCTE_2020_2021/main/Barrages_Turbine_Generator_Maps/TurbineHill_Plot.svg\" width=\"400px\" style=\"display:inline\">"
      ]
    },
    {
      "cell_type": "code",
      "metadata": {
        "id": "AShbPG_eqPVq"
      },
      "source": [
        "class TurbineModel:\n",
        "\n",
        "  def __init__( self, D_turb, Omega ):\n",
        "    self.n11_min = 4.38\n",
        "    self.n11_max = 17.17\n",
        "\n",
        "    self.ga = 9.8 # gravity aceleration\n",
        "    self.ρw = 1025.0 # water density\n",
        "    self.CD_sluice = 1.0\n",
        "\n",
        "    self.Omega = Omega\n",
        "    self.D_turb = D_turb\n",
        "    self.CT0 = Omega * D_turb / np.sqrt( self.ga )\n",
        "    self.CT1 = D_turb**2 * np.sqrt( self.ga )\n",
        "    self.A_turb = np.pi*(D_turb/2.0)**2\n",
        "\n",
        "    # red line of the map\n",
        "    self.poly_CQ1 = np.poly1d( np.array([0.16928201, 0.08989368]) )\n",
        "    # green line of the map\n",
        "    self.poly_CQ2 = np.poly1d( np.array([-3.63920467e-04,  9.37677378e-03, \n",
        "                                         -9.25873626e-02,  1.75687197e+00]) )\n",
        "\n",
        "    # red line of the map\n",
        "    self.poly_CE1 = np.poly1d( np.array([-0.02076456, 0.20238444, 0.48984553]) )\n",
        "    # green line of the map\n",
        "    self.poly_CE2 = np.poly1d( np.array([-2.75685709e-04,  2.04822984e-03,  \n",
        "                                         6.86081825e-04,  7.93083108e-01]) )\n",
        "\n",
        "  def n11_range( self ):\n",
        "    return self.n11_min, self.n11_max\n",
        "\n",
        "  def n11( self, h ):\n",
        "    return self.CT0 / np.sqrt( h )\n",
        "\n",
        "  def Q11( self, n11 ):\n",
        "    assert( n11 >= self.n11_min and n11 <= self.n11_max )\n",
        "    if n11 < 7.92193025936073:\n",
        "      return self.poly_CQ1( n11 ) \n",
        "    else:\n",
        "      return self.poly_CQ2( n11 )\n",
        "\n",
        "  def eta( self, n11 ):\n",
        "    assert( n11 >= self.n11_min and n11 <= self.n11_max )\n",
        "    if n11 < 7.92193025936073:\n",
        "      return self.poly_CE1( n11 ) * 0.912\n",
        "    else:\n",
        "      return self.poly_CE2( n11 ) * 0.912\n",
        "\n",
        "  def operation( h ):\n",
        "    n11 = self.n11( h )\n",
        "    QT = self.CT1 * self.Q11( n11 ) * np.sqrt( h )\n",
        "    PH = self.ρw * self.ga * h * Q\n",
        "    ηT = Turb.eta( n11 )\n",
        "    return QT, PH, ηT  \n",
        "  \n",
        "  def sluicing( self, h ):\n",
        "    QS = -self.CD_sluice * self.A_turb * np.sqrt( 2.0 * self.ga * np.max( (-h, 0.0) ) )\n",
        "    return QS"
      ],
      "execution_count": 28,
      "outputs": []
    },
    {
      "cell_type": "markdown",
      "metadata": {
        "id": "Ua-NyvCooaRt"
      },
      "source": [
        "## Generator efficiency curve\n",
        "\n",
        "<img src=\"https://raw.githubusercontent.com/joaochenriques/MCTE_2020_2021/main/Barrages_Turbine_Generator_Maps/GeneratorEff_plot.svg\" width=\"400px\" style=\"display:inline\">\n"
      ]
    },
    {
      "cell_type": "code",
      "metadata": {
        "id": "4eesXVcLBZfw"
      },
      "source": [
        "class GeneratorModel:\n",
        "\n",
        "  def __init__( self, Pgen_rated ):\n",
        "    self.Pgen_rated = Pgen_rated\n",
        "\n",
        "    self.poly_C1 = np.poly1d( np.array([-6.71448631e+03,  2.59159775e+03, \n",
        "                                        -3.80834059e+02,  2.70423225e+01, \n",
        "                                        3.29394948e-03]) )\n",
        "    self.poly_C2 = np.poly1d( np.array([-1.16856952,  3.31172525, -3.44296217,  \n",
        "                                        1.5416029 ,  0.71040716]) )\n",
        "      \n",
        "  def eta( self, shaft_power ):\n",
        "    load = shaft_power / Pgen_rated\n",
        "    assert( load >= 0 and load <= 1.0 )\n",
        "    if load < 0.125423729:\n",
        "      return self.poly_C1( load ) \n",
        "    else:\n",
        "      return self.poly_C2( load ) "
      ],
      "execution_count": 29,
      "outputs": []
    },
    {
      "cell_type": "code",
      "metadata": {
        "id": "U5xkPKiOXGU_"
      },
      "source": [
        "class GateModel:\n",
        "\n",
        "  def __init__( self, Area ):\n",
        "    self.ga = 9.8\n",
        "    self.Area = Area\n",
        "    self.CD_sluice = 1.0\n",
        "\n",
        "  def sluicing( self, h ):\n",
        "    QS = -self.CD_sluice * self.Area * np.sqrt( 2.0 * self.ga * np.max( (-h, 0.0) ) )\n",
        "    return QS"
      ],
      "execution_count": 36,
      "outputs": []
    },
    {
      "cell_type": "markdown",
      "metadata": {
        "id": "QcC2zNRLWnvP"
      },
      "source": [
        "## Power plant operation finite state machine\n",
        " \n",
        "<img src=\"https://raw.githubusercontent.com/joaochenriques/MCTE_2020_2021/main/LaRanceExample/EbbOperation.svg\" width=\"700px\" style=\"display:inline\">"
      ]
    },
    {
      "cell_type": "code",
      "metadata": {
        "id": "i9r0kiD4D2KP"
      },
      "source": [
        "class BasinModel:\n",
        "\n",
        "  def __init__( self, Area, h0 ):\n",
        "    self.Area = Area\n",
        "    self.V0 = Area * h0\n",
        "    self.V = None\n",
        "\n",
        "  def start( self ):\n",
        "    self.V = self.V0\n",
        "    return self.level()\n",
        "\n",
        "  def integrate( self, delta_t, Q ):\n",
        "    self.V = self.V - delta_t * Q\n",
        "    return self.level()\n",
        "\n",
        "  def level( self ):\n",
        "      return self.V / self.Area"
      ],
      "execution_count": 46,
      "outputs": []
    },
    {
      "cell_type": "code",
      "metadata": {
        "id": "N3tqN9T5x5O_"
      },
      "source": [
        "class TideModel:\n",
        "\n",
        "  def __init__( self, ζ_tide, period ):\n",
        "      self.ζ_tide = ζ_tide # tide amplitude\n",
        "      self.period = period # tide period\n",
        "      self.omega = 2.0 * np.pi / period \n",
        "\n",
        "  def level( self, t ):    \n",
        "      self.tide_vec = ζ_tide * np.cos( omega * t )"
      ],
      "execution_count": 47,
      "outputs": []
    },
    {
      "cell_type": "code",
      "metadata": {
        "id": "ijXuuVpj6eOR"
      },
      "source": [
        "class EbbOperations_FSM:\n",
        "\n",
        "    #===================================================\n",
        "    def __init__( self ):\n",
        "        self.transitions = { 0:self.__transition_0_1, \n",
        "                             1:self.__transition_1_2,\n",
        "                             2:self.__transition_2_3,\n",
        "                             3:self.__transition_3_4,\n",
        "                             4:self.__transition_4_1 }\n",
        "\n",
        "        self.states = { 0:self.__run_state_hold,\n",
        "                        1:self.__run_state_generate,\n",
        "                        2:self.__run_state_hold,\n",
        "                        3:self.__run_state_fill,\n",
        "                        4:self.__run_state_hold }         \n",
        "\n",
        "        self.cur_state = 0\n",
        "\n",
        "    #== TRANSITIONS ====================================\n",
        "    def __transition_0_1( self, h, h_min, n11, n11_max ):\n",
        "        if ( h - h_min ) > 0.0:\n",
        "            self.cur_state = 1\n",
        "\n",
        "    def __transition_1_2( self, h, h_min, n11, n11_max ):\n",
        "        if ( n11 - n11_max ) >  0.0:\n",
        "            self.cur_state = 2\n",
        "\n",
        "    def __transition_2_3( self, h, h_min, n11, n11_max ):\n",
        "        if h < 0.0:\n",
        "            self.cur_state = 3\n",
        "\n",
        "    def __transition_3_4( self, h, h_min, n11, n11_max ):\n",
        "        if h > 0.0:\n",
        "            self.cur_state = 4\n",
        "\n",
        "    def __transition_4_1( self, h, h_min, n11, n11_max ):\n",
        "        if ( h - h_min ) > 0.0:\n",
        "            self.cur_state = 1\n",
        "\n",
        "    #== STATES =========================================\n",
        "    def __run_state_hold( self, h ):\n",
        "        QS = QT = PH = ηT = ηG = 0\n",
        "        return QS, QT, PH, ηT, ηG\n",
        "\n",
        "    def __run_state_generate( self, h ):\n",
        "        QS = 0\n",
        "        QT, PH, ηT = turbine.operation( h )\n",
        "        ηG = generator.efficiency( PT )\n",
        "        return QS, QT, PH, ηT, ηG\n",
        "\n",
        "    def __run_state_fill( self, h ):\n",
        "        QS = gate.sluicing( h )\n",
        "        QT = turbine.sluicing( h )\n",
        "        PH = ηT = ηG = 0\n",
        "        return QS, QT, PH, ηT, ηG\n",
        "\n",
        "    #===================================================\n",
        "    def transition( self, h, h_min, n11, n11_max ):\n",
        "        self.transitions[ self.cur_state ]( h, h_min, n11, n11_max )\n",
        "        return self.cur_state\n",
        "\n",
        "    def run_state( self, h ):\n",
        "        return self.states[ self.cur_state ]( h )\n",
        "\n",
        "    #===================================================\n",
        "    def run_model( self, delta_t, t_final, basin, turbines, generators, sluicing, h_min, n_turbs, n_gates ):\n",
        "\n",
        "        #==============================================\n",
        "        t = delta_t\n",
        "        n = int( t_final / delta_t ) \n",
        "\n",
        "        #==============================================\n",
        "        time_vec = np.zeros( n )\n",
        "        tide_vec = np.zeros( n )\n",
        "\n",
        "        s_vec  = np.zeros( n )  # control stages\n",
        "        h_vec  = np.zeros( n )  # basin level\n",
        "        QS_vec = np.zeros( n )  # sluice gates + turbine flow rate on sluicing\n",
        "        QT_vec = np.zeros( n )  # turbine flow rate\n",
        "        PH_vec = np.zeros( n )  # hydraulic power\n",
        "        ηT_vec = np.zeros( n )  # turbine efficiency\n",
        "        ηG_vec = np.zeros( n )  # generator efficiency\n",
        "\n",
        "        n11_min, n11_max = turbines.n11_range()\n",
        "        h = basin.start()\n",
        "\n",
        "        for i in range( 1, n ):\n",
        "\n",
        "            t = i * delta_t\n",
        "            n11 = turbines.n11( h )\n",
        "\n",
        "            state = transition( h, h_min, n11, n11_max )\n",
        "            QS, QT, PH, ηT, ηG = self.run_state( h )\n",
        "            z = basin.integrate( delta_t, n_turbs*QT + n_gates*QS )\n",
        "            ζ = tide.level( t )\n",
        "            h = z - ζ\n",
        " \n",
        "            time_vec[i] = t\n",
        "            tide_vec[i] = ζ\n",
        "\n",
        "            s_vec[i]  = state\n",
        "            h_vec[i]  = h\n",
        "            QS_vec[i] = QS\n",
        "            QT_vec[i] = QT\n",
        "            PH_vec[i] = PH\n",
        "            ηT_vec[i] = ηT\n",
        "            ηG_vec[i] = ηG\n",
        "      \n",
        "        return time_vec, tide_vec, s_vec, h_vec, QS_vec, \\\n",
        "                QT_vec, PH_vec, ηT_vec, ηG_vec\n"
      ],
      "execution_count": 48,
      "outputs": []
    },
    {
      "cell_type": "code",
      "metadata": {
        "colab": {
          "base_uri": "https://localhost:8080/",
          "height": 392
        },
        "id": "18snnDcZH9Qb",
        "outputId": "408b91bc-1c7d-4ba6-bfc2-ecc97207dff9"
      },
      "source": [
        "n_turbs = 24 # number of turbines\n",
        "n_gates = 6  # number of sluice gates\n",
        "h_min = 8 # minimum h for turbine starting\n",
        "\n",
        "tide_period = 12.0*3600.0 + 25.2*60.0\n",
        "\n",
        "turbine = TurbineModel( D_turb = 5.35, Omega = 93.75*np.pi/30.0 )\n",
        "generator = GeneratorModel( Pgen_rated = 60E6 )\n",
        "gate = GateModel( Area = 10*15 )\n",
        "\n",
        "tide = TideModel( ζ_tide = 4.75, period = tide_period )\n",
        "basin = BasinModel( Area = 22E6, h0 = 5 )\n",
        "\n",
        "simulator = EbbOperations_FSM()\n",
        "time_vec, tide_vec, s_vec, h_vec, QS_vec, QT_vec, PH_vec, ηT_vec, ηG_vec = \\\n",
        "    simulator.run_model( 1200.0, 5*tide_period, basin, turbine, generator, gate, h_min, n_turbs, n_gates )\n",
        "\n",
        "PH_vec /= 1E6 # convert to MW\n",
        "PT_vec = PH_vec * ηT_vec\n",
        "\n",
        "PT_avg = np.mean( PT_vec )\n",
        "PT_max = np.max( PT_vec )\n",
        "C_fac = PT_avg / PT_max\n",
        "\n",
        "print( \"Power = %.2f MW\" % P_avg ) \n",
        "print( \"Max P(t) = %.2f MW\" % P_max ) \n",
        "print( \"Cap factor = %.2f\" % C_fac ) "
      ],
      "execution_count": 50,
      "outputs": [
        {
          "output_type": "error",
          "ename": "NameError",
          "evalue": "ignored",
          "traceback": [
            "\u001b[0;31m---------------------------------------------------------------------------\u001b[0m",
            "\u001b[0;31mNameError\u001b[0m                                 Traceback (most recent call last)",
            "\u001b[0;32m<ipython-input-50-ee4e15ac03e5>\u001b[0m in \u001b[0;36m<module>\u001b[0;34m()\u001b[0m\n\u001b[1;32m     13\u001b[0m \u001b[0;34m\u001b[0m\u001b[0m\n\u001b[1;32m     14\u001b[0m \u001b[0msimulator\u001b[0m \u001b[0;34m=\u001b[0m \u001b[0mEbbOperations_FSM\u001b[0m\u001b[0;34m(\u001b[0m\u001b[0;34m)\u001b[0m\u001b[0;34m\u001b[0m\u001b[0;34m\u001b[0m\u001b[0m\n\u001b[0;32m---> 15\u001b[0;31m \u001b[0mtime_vec\u001b[0m\u001b[0;34m,\u001b[0m \u001b[0mtide_vec\u001b[0m\u001b[0;34m,\u001b[0m \u001b[0ms_vec\u001b[0m\u001b[0;34m,\u001b[0m \u001b[0mh_vec\u001b[0m\u001b[0;34m,\u001b[0m \u001b[0mQS_vec\u001b[0m\u001b[0;34m,\u001b[0m \u001b[0mQT_vec\u001b[0m\u001b[0;34m,\u001b[0m \u001b[0mPH_vec\u001b[0m\u001b[0;34m,\u001b[0m \u001b[0mηT_vec\u001b[0m\u001b[0;34m,\u001b[0m \u001b[0mηG_vec\u001b[0m \u001b[0;34m=\u001b[0m     \u001b[0msimulator\u001b[0m\u001b[0;34m.\u001b[0m\u001b[0mrun_model\u001b[0m\u001b[0;34m(\u001b[0m \u001b[0;36m1200.0\u001b[0m\u001b[0;34m,\u001b[0m \u001b[0;36m5\u001b[0m\u001b[0;34m*\u001b[0m\u001b[0mtide_period\u001b[0m\u001b[0;34m,\u001b[0m \u001b[0mbasin\u001b[0m\u001b[0;34m,\u001b[0m \u001b[0mturbine\u001b[0m\u001b[0;34m,\u001b[0m \u001b[0mgenerator\u001b[0m\u001b[0;34m,\u001b[0m \u001b[0mgate\u001b[0m\u001b[0;34m,\u001b[0m \u001b[0mh_min\u001b[0m\u001b[0;34m,\u001b[0m \u001b[0mn_turbs\u001b[0m\u001b[0;34m,\u001b[0m \u001b[0mn_gates\u001b[0m \u001b[0;34m)\u001b[0m\u001b[0;34m\u001b[0m\u001b[0;34m\u001b[0m\u001b[0m\n\u001b[0m\u001b[1;32m     16\u001b[0m \u001b[0;34m\u001b[0m\u001b[0m\n\u001b[1;32m     17\u001b[0m \u001b[0mPH_vec\u001b[0m \u001b[0;34m/=\u001b[0m \u001b[0;36m1E6\u001b[0m \u001b[0;31m# convert to MW\u001b[0m\u001b[0;34m\u001b[0m\u001b[0;34m\u001b[0m\u001b[0m\n",
            "\u001b[0;32m<ipython-input-48-13c31ecd611d>\u001b[0m in \u001b[0;36mrun_model\u001b[0;34m(self, delta_t, t_final, basin, turbines, generators, sluicing, h_min, n_turbs, n_gates)\u001b[0m\n\u001b[1;32m     88\u001b[0m \u001b[0;34m\u001b[0m\u001b[0m\n\u001b[1;32m     89\u001b[0m             \u001b[0mt\u001b[0m \u001b[0;34m=\u001b[0m \u001b[0mi\u001b[0m \u001b[0;34m*\u001b[0m \u001b[0mdelta_t\u001b[0m\u001b[0;34m\u001b[0m\u001b[0;34m\u001b[0m\u001b[0m\n\u001b[0;32m---> 90\u001b[0;31m             \u001b[0mn11\u001b[0m \u001b[0;34m=\u001b[0m \u001b[0mturbines\u001b[0m\u001b[0;34m.\u001b[0m\u001b[0mn11\u001b[0m\u001b[0;34m(\u001b[0m \u001b[0mh\u001b[0m \u001b[0;34m)\u001b[0m\u001b[0;34m\u001b[0m\u001b[0;34m\u001b[0m\u001b[0m\n\u001b[0m\u001b[1;32m     91\u001b[0m \u001b[0;34m\u001b[0m\u001b[0m\n\u001b[1;32m     92\u001b[0m             \u001b[0mstate\u001b[0m \u001b[0;34m=\u001b[0m \u001b[0mtransition\u001b[0m\u001b[0;34m(\u001b[0m \u001b[0mh\u001b[0m\u001b[0;34m,\u001b[0m \u001b[0mh_min\u001b[0m\u001b[0;34m,\u001b[0m \u001b[0mn11\u001b[0m\u001b[0;34m,\u001b[0m \u001b[0mn11_max\u001b[0m \u001b[0;34m)\u001b[0m\u001b[0;34m\u001b[0m\u001b[0;34m\u001b[0m\u001b[0m\n",
            "\u001b[0;32m<ipython-input-28-5c7e712009bf>\u001b[0m in \u001b[0;36mn11\u001b[0;34m(self, h)\u001b[0m\n\u001b[1;32m     31\u001b[0m \u001b[0;34m\u001b[0m\u001b[0m\n\u001b[1;32m     32\u001b[0m   \u001b[0;32mdef\u001b[0m \u001b[0mn11\u001b[0m\u001b[0;34m(\u001b[0m \u001b[0mself\u001b[0m\u001b[0;34m,\u001b[0m \u001b[0mh\u001b[0m \u001b[0;34m)\u001b[0m\u001b[0;34m:\u001b[0m\u001b[0;34m\u001b[0m\u001b[0;34m\u001b[0m\u001b[0m\n\u001b[0;32m---> 33\u001b[0;31m     \u001b[0;32mreturn\u001b[0m \u001b[0mCT0\u001b[0m \u001b[0;34m/\u001b[0m \u001b[0mnp\u001b[0m\u001b[0;34m.\u001b[0m\u001b[0msqrt\u001b[0m\u001b[0;34m(\u001b[0m \u001b[0mh\u001b[0m \u001b[0;34m)\u001b[0m\u001b[0;34m\u001b[0m\u001b[0;34m\u001b[0m\u001b[0m\n\u001b[0m\u001b[1;32m     34\u001b[0m \u001b[0;34m\u001b[0m\u001b[0m\n\u001b[1;32m     35\u001b[0m   \u001b[0;32mdef\u001b[0m \u001b[0mQ11\u001b[0m\u001b[0;34m(\u001b[0m \u001b[0mself\u001b[0m\u001b[0;34m,\u001b[0m \u001b[0mn11\u001b[0m \u001b[0;34m)\u001b[0m\u001b[0;34m:\u001b[0m\u001b[0;34m\u001b[0m\u001b[0;34m\u001b[0m\u001b[0m\n",
            "\u001b[0;31mNameError\u001b[0m: name 'CT0' is not defined"
          ]
        }
      ]
    },
    {
      "cell_type": "code",
      "metadata": {
        "colab": {
          "base_uri": "https://localhost:8080/",
          "height": 232
        },
        "id": "7f3qIaGquAZN",
        "outputId": "a4d2e6bb-6913-4348-b5fd-82abcb09f46b"
      },
      "source": [
        "mpl.plot( hours_vec, h_vec, label='basin level [m]' )\n",
        "mpl.plot( hours_vec, tide_vec, label='Tide [m]' )\n",
        "mpl.plot( hours_vec, s_vec, label='control [-]', dashes=(9,1) )\n",
        "mpl.xlim( 3*period_hours, 5*period_hours )\n",
        "mpl.ylim( -6, 6 )\n",
        "mpl.xlabel( 'time [hours]' )\n",
        "mpl.legend()\n",
        "mpl.grid();"
      ],
      "execution_count": 35,
      "outputs": [
        {
          "output_type": "error",
          "ename": "NameError",
          "evalue": "ignored",
          "traceback": [
            "\u001b[0;31m---------------------------------------------------------------------------\u001b[0m",
            "\u001b[0;31mNameError\u001b[0m                                 Traceback (most recent call last)",
            "\u001b[0;32m<ipython-input-35-8601ee3be0e6>\u001b[0m in \u001b[0;36m<module>\u001b[0;34m()\u001b[0m\n\u001b[0;32m----> 1\u001b[0;31m \u001b[0mmpl\u001b[0m\u001b[0;34m.\u001b[0m\u001b[0mplot\u001b[0m\u001b[0;34m(\u001b[0m \u001b[0mhours_vec\u001b[0m\u001b[0;34m,\u001b[0m \u001b[0mh_vec\u001b[0m\u001b[0;34m,\u001b[0m \u001b[0mlabel\u001b[0m\u001b[0;34m=\u001b[0m\u001b[0;34m'basin level [m]'\u001b[0m \u001b[0;34m)\u001b[0m\u001b[0;34m\u001b[0m\u001b[0;34m\u001b[0m\u001b[0m\n\u001b[0m\u001b[1;32m      2\u001b[0m \u001b[0mmpl\u001b[0m\u001b[0;34m.\u001b[0m\u001b[0mplot\u001b[0m\u001b[0;34m(\u001b[0m \u001b[0mhours_vec\u001b[0m\u001b[0;34m,\u001b[0m \u001b[0mtide_vec\u001b[0m\u001b[0;34m,\u001b[0m \u001b[0mlabel\u001b[0m\u001b[0;34m=\u001b[0m\u001b[0;34m'Tide [m]'\u001b[0m \u001b[0;34m)\u001b[0m\u001b[0;34m\u001b[0m\u001b[0;34m\u001b[0m\u001b[0m\n\u001b[1;32m      3\u001b[0m \u001b[0mmpl\u001b[0m\u001b[0;34m.\u001b[0m\u001b[0mplot\u001b[0m\u001b[0;34m(\u001b[0m \u001b[0mhours_vec\u001b[0m\u001b[0;34m,\u001b[0m \u001b[0ms_vec\u001b[0m\u001b[0;34m,\u001b[0m \u001b[0mlabel\u001b[0m\u001b[0;34m=\u001b[0m\u001b[0;34m'control [-]'\u001b[0m\u001b[0;34m,\u001b[0m \u001b[0mdashes\u001b[0m\u001b[0;34m=\u001b[0m\u001b[0;34m(\u001b[0m\u001b[0;36m9\u001b[0m\u001b[0;34m,\u001b[0m\u001b[0;36m1\u001b[0m\u001b[0;34m)\u001b[0m \u001b[0;34m)\u001b[0m\u001b[0;34m\u001b[0m\u001b[0;34m\u001b[0m\u001b[0m\n\u001b[1;32m      4\u001b[0m \u001b[0mmpl\u001b[0m\u001b[0;34m.\u001b[0m\u001b[0mxlim\u001b[0m\u001b[0;34m(\u001b[0m \u001b[0;36m3\u001b[0m\u001b[0;34m*\u001b[0m\u001b[0mperiod_hours\u001b[0m\u001b[0;34m,\u001b[0m \u001b[0;36m5\u001b[0m\u001b[0;34m*\u001b[0m\u001b[0mperiod_hours\u001b[0m \u001b[0;34m)\u001b[0m\u001b[0;34m\u001b[0m\u001b[0;34m\u001b[0m\u001b[0m\n\u001b[1;32m      5\u001b[0m \u001b[0mmpl\u001b[0m\u001b[0;34m.\u001b[0m\u001b[0mylim\u001b[0m\u001b[0;34m(\u001b[0m \u001b[0;34m-\u001b[0m\u001b[0;36m6\u001b[0m\u001b[0;34m,\u001b[0m \u001b[0;36m6\u001b[0m \u001b[0;34m)\u001b[0m\u001b[0;34m\u001b[0m\u001b[0;34m\u001b[0m\u001b[0m\n",
            "\u001b[0;31mNameError\u001b[0m: name 'hours_vec' is not defined"
          ]
        }
      ]
    },
    {
      "cell_type": "code",
      "metadata": {
        "colab": {
          "base_uri": "https://localhost:8080/",
          "height": 232
        },
        "id": "S7746p9HH9Qc",
        "outputId": "1edf0979-2920-44f4-dc8f-a39ac8e366d6"
      },
      "source": [
        "mpl.plot( time_vec, P_vec/n_turbs, label='Power per turbine [MW]'  )\n",
        "mpl.xlim( 3*period_hours, 5*period_hours )\n",
        "mpl.ylim( 0, 30 )\n",
        "mpl.xlabel( 'time [hours]' )\n",
        "mpl.legend()\n",
        "mpl.grid();"
      ],
      "execution_count": 26,
      "outputs": [
        {
          "output_type": "error",
          "ename": "NameError",
          "evalue": "ignored",
          "traceback": [
            "\u001b[0;31m---------------------------------------------------------------------------\u001b[0m",
            "\u001b[0;31mNameError\u001b[0m                                 Traceback (most recent call last)",
            "\u001b[0;32m<ipython-input-26-6fd3d8e9ea3b>\u001b[0m in \u001b[0;36m<module>\u001b[0;34m()\u001b[0m\n\u001b[0;32m----> 1\u001b[0;31m \u001b[0mmpl\u001b[0m\u001b[0;34m.\u001b[0m\u001b[0mplot\u001b[0m\u001b[0;34m(\u001b[0m \u001b[0mtime_vec\u001b[0m\u001b[0;34m,\u001b[0m \u001b[0mP_vec\u001b[0m\u001b[0;34m/\u001b[0m\u001b[0mn_turbs\u001b[0m\u001b[0;34m,\u001b[0m \u001b[0mlabel\u001b[0m\u001b[0;34m=\u001b[0m\u001b[0;34m'Power per turbine [MW]'\u001b[0m  \u001b[0;34m)\u001b[0m\u001b[0;34m\u001b[0m\u001b[0;34m\u001b[0m\u001b[0m\n\u001b[0m\u001b[1;32m      2\u001b[0m \u001b[0mmpl\u001b[0m\u001b[0;34m.\u001b[0m\u001b[0mxlim\u001b[0m\u001b[0;34m(\u001b[0m \u001b[0;36m3\u001b[0m\u001b[0;34m*\u001b[0m\u001b[0mperiod_hours\u001b[0m\u001b[0;34m,\u001b[0m \u001b[0;36m5\u001b[0m\u001b[0;34m*\u001b[0m\u001b[0mperiod_hours\u001b[0m \u001b[0;34m)\u001b[0m\u001b[0;34m\u001b[0m\u001b[0;34m\u001b[0m\u001b[0m\n\u001b[1;32m      3\u001b[0m \u001b[0mmpl\u001b[0m\u001b[0;34m.\u001b[0m\u001b[0mylim\u001b[0m\u001b[0;34m(\u001b[0m \u001b[0;36m0\u001b[0m\u001b[0;34m,\u001b[0m \u001b[0;36m30\u001b[0m \u001b[0;34m)\u001b[0m\u001b[0;34m\u001b[0m\u001b[0;34m\u001b[0m\u001b[0m\n\u001b[1;32m      4\u001b[0m \u001b[0mmpl\u001b[0m\u001b[0;34m.\u001b[0m\u001b[0mxlabel\u001b[0m\u001b[0;34m(\u001b[0m \u001b[0;34m'time [hours]'\u001b[0m \u001b[0;34m)\u001b[0m\u001b[0;34m\u001b[0m\u001b[0;34m\u001b[0m\u001b[0m\n\u001b[1;32m      5\u001b[0m \u001b[0mmpl\u001b[0m\u001b[0;34m.\u001b[0m\u001b[0mlegend\u001b[0m\u001b[0;34m(\u001b[0m\u001b[0;34m)\u001b[0m\u001b[0;34m\u001b[0m\u001b[0;34m\u001b[0m\u001b[0m\n",
            "\u001b[0;31mNameError\u001b[0m: name 'time_vec' is not defined"
          ]
        }
      ]
    },
    {
      "cell_type": "code",
      "metadata": {
        "id": "kDF3b5JjH9Qe",
        "colab": {
          "base_uri": "https://localhost:8080/",
          "height": 232
        },
        "outputId": "cc942d03-b319-4d7f-b431-df9f98b1f186"
      },
      "source": [
        "\n",
        "mpl.plot( time_vec, QT_vec, label='Turbine flow rate [m$^3$/s]' )\n",
        "mpl.plot( time_vec, QS_vec, label='Sluicing flow rate [m$^3$/s]' )\n",
        "mpl.xlim( 3*period_hours, 5*period_hours )\n",
        "mpl.xlabel( 'time [hours]' )\n",
        "mpl.legend()\n",
        "mpl.grid();"
      ],
      "execution_count": 27,
      "outputs": [
        {
          "output_type": "error",
          "ename": "NameError",
          "evalue": "ignored",
          "traceback": [
            "\u001b[0;31m---------------------------------------------------------------------------\u001b[0m",
            "\u001b[0;31mNameError\u001b[0m                                 Traceback (most recent call last)",
            "\u001b[0;32m<ipython-input-27-be98bd56df13>\u001b[0m in \u001b[0;36m<module>\u001b[0;34m()\u001b[0m\n\u001b[1;32m      1\u001b[0m \u001b[0;34m\u001b[0m\u001b[0m\n\u001b[0;32m----> 2\u001b[0;31m \u001b[0mmpl\u001b[0m\u001b[0;34m.\u001b[0m\u001b[0mplot\u001b[0m\u001b[0;34m(\u001b[0m \u001b[0mtime_vec\u001b[0m\u001b[0;34m,\u001b[0m \u001b[0mQT_vec\u001b[0m\u001b[0;34m,\u001b[0m \u001b[0mlabel\u001b[0m\u001b[0;34m=\u001b[0m\u001b[0;34m'Turbine flow rate [m$^3$/s]'\u001b[0m \u001b[0;34m)\u001b[0m\u001b[0;34m\u001b[0m\u001b[0;34m\u001b[0m\u001b[0m\n\u001b[0m\u001b[1;32m      3\u001b[0m \u001b[0mmpl\u001b[0m\u001b[0;34m.\u001b[0m\u001b[0mplot\u001b[0m\u001b[0;34m(\u001b[0m \u001b[0mtime_vec\u001b[0m\u001b[0;34m,\u001b[0m \u001b[0mQS_vec\u001b[0m\u001b[0;34m,\u001b[0m \u001b[0mlabel\u001b[0m\u001b[0;34m=\u001b[0m\u001b[0;34m'Sluicing flow rate [m$^3$/s]'\u001b[0m \u001b[0;34m)\u001b[0m\u001b[0;34m\u001b[0m\u001b[0;34m\u001b[0m\u001b[0m\n\u001b[1;32m      4\u001b[0m \u001b[0mmpl\u001b[0m\u001b[0;34m.\u001b[0m\u001b[0mxlim\u001b[0m\u001b[0;34m(\u001b[0m \u001b[0;36m3\u001b[0m\u001b[0;34m*\u001b[0m\u001b[0mperiod_hours\u001b[0m\u001b[0;34m,\u001b[0m \u001b[0;36m5\u001b[0m\u001b[0;34m*\u001b[0m\u001b[0mperiod_hours\u001b[0m \u001b[0;34m)\u001b[0m\u001b[0;34m\u001b[0m\u001b[0;34m\u001b[0m\u001b[0m\n\u001b[1;32m      5\u001b[0m \u001b[0mmpl\u001b[0m\u001b[0;34m.\u001b[0m\u001b[0mxlabel\u001b[0m\u001b[0;34m(\u001b[0m \u001b[0;34m'time [hours]'\u001b[0m \u001b[0;34m)\u001b[0m\u001b[0;34m\u001b[0m\u001b[0;34m\u001b[0m\u001b[0m\n",
            "\u001b[0;31mNameError\u001b[0m: name 'time_vec' is not defined"
          ]
        }
      ]
    },
    {
      "cell_type": "code",
      "metadata": {
        "id": "ZwGxcDeQH9Qg",
        "colab": {
          "base_uri": "https://localhost:8080/",
          "height": 303
        },
        "outputId": "c8fa5564-829e-44f7-eaf6-c16fe2b6fd90"
      },
      "source": [
        "mpl.plot( time_vec, ηT_vec, label='$\\eta_\\mathrm{turb}$' )\n",
        "mpl.plot( time_vec, ηG_vec, label='$\\eta_\\mathrm{gen}$' )\n",
        "mpl.plot( time_vec, ηT_vec*ηG_vec, label='$\\eta_\\mathrm{turb}\\,\\eta_\\mathrm{gen}$' )\n",
        "mpl.xlim( 3*period_hours, 5*period_hours )\n",
        "mpl.xlabel( 'time [hours]' )\n",
        "mpl.legend()\n",
        "mpl.gca().set_yticks(np.arange( 0, 1.01, 0.1) )\n",
        "mpl.grid();"
      ],
      "execution_count": null,
      "outputs": [
        {
          "output_type": "display_data",
          "data": {
            "text/plain": [
              "<Figure size 864x216 with 1 Axes>"
            ],
            "image/svg+xml": "<?xml version=\"1.0\" encoding=\"utf-8\" standalone=\"no\"?>\n<!DOCTYPE svg PUBLIC \"-//W3C//DTD SVG 1.1//EN\"\n  \"http://www.w3.org/Graphics/SVG/1.1/DTD/svg11.dtd\">\n<!-- Created with matplotlib (https://matplotlib.org/) -->\n<svg height=\"211.635469pt\" version=\"1.1\" viewBox=\"0 0 706.903125 211.635469\" width=\"706.903125pt\" xmlns=\"http://www.w3.org/2000/svg\" xmlns:xlink=\"http://www.w3.org/1999/xlink\">\n <defs>\n  <style type=\"text/css\">\n*{stroke-linecap:butt;stroke-linejoin:round;}\n  </style>\n </defs>\n <g id=\"figure_1\">\n  <g id=\"patch_1\">\n   <path d=\"M 0 211.635469 \nL 706.903125 211.635469 \nL 706.903125 0 \nL 0 0 \nz\n\" style=\"fill:none;\"/>\n  </g>\n  <g id=\"axes_1\">\n   <g id=\"patch_2\">\n    <path d=\"M 30.103125 174.079219 \nL 699.703125 174.079219 \nL 699.703125 10.999219 \nL 30.103125 10.999219 \nz\n\" style=\"fill:#ffffff;\"/>\n   </g>\n   <g id=\"matplotlib.axis_1\">\n    <g id=\"xtick_1\">\n     <g id=\"line2d_1\">\n      <path clip-path=\"url(#p3a3537bf4f)\" d=\"M 103.963995 174.079219 \nL 103.963995 10.999219 \n\" style=\"fill:none;stroke:#b0b0b0;stroke-linecap:square;stroke-width:0.8;\"/>\n     </g>\n     <g id=\"line2d_2\">\n      <defs>\n       <path d=\"M 0 0 \nL 0 3.5 \n\" id=\"m7193f97db5\" style=\"stroke:#000000;stroke-width:0.8;\"/>\n      </defs>\n      <g>\n       <use style=\"stroke:#000000;stroke-width:0.8;\" x=\"103.963995\" xlink:href=\"#m7193f97db5\" y=\"174.079219\"/>\n      </g>\n     </g>\n     <g id=\"text_1\">\n      <!-- 40 -->\n      <defs>\n       <path d=\"M 37.796875 64.3125 \nL 12.890625 25.390625 \nL 37.796875 25.390625 \nz\nM 35.203125 72.90625 \nL 47.609375 72.90625 \nL 47.609375 25.390625 \nL 58.015625 25.390625 \nL 58.015625 17.1875 \nL 47.609375 17.1875 \nL 47.609375 0 \nL 37.796875 0 \nL 37.796875 17.1875 \nL 4.890625 17.1875 \nL 4.890625 26.703125 \nz\n\" id=\"DejaVuSans-52\"/>\n       <path d=\"M 31.78125 66.40625 \nQ 24.171875 66.40625 20.328125 58.90625 \nQ 16.5 51.421875 16.5 36.375 \nQ 16.5 21.390625 20.328125 13.890625 \nQ 24.171875 6.390625 31.78125 6.390625 \nQ 39.453125 6.390625 43.28125 13.890625 \nQ 47.125 21.390625 47.125 36.375 \nQ 47.125 51.421875 43.28125 58.90625 \nQ 39.453125 66.40625 31.78125 66.40625 \nz\nM 31.78125 74.21875 \nQ 44.046875 74.21875 50.515625 64.515625 \nQ 56.984375 54.828125 56.984375 36.375 \nQ 56.984375 17.96875 50.515625 8.265625 \nQ 44.046875 -1.421875 31.78125 -1.421875 \nQ 19.53125 -1.421875 13.0625 8.265625 \nQ 6.59375 17.96875 6.59375 36.375 \nQ 6.59375 54.828125 13.0625 64.515625 \nQ 19.53125 74.21875 31.78125 74.21875 \nz\n\" id=\"DejaVuSans-48\"/>\n      </defs>\n      <g transform=\"translate(97.601495 188.677656)scale(0.1 -0.1)\">\n       <use xlink:href=\"#DejaVuSans-52\"/>\n       <use x=\"63.623047\" xlink:href=\"#DejaVuSans-48\"/>\n      </g>\n     </g>\n    </g>\n    <g id=\"xtick_2\">\n     <g id=\"line2d_3\">\n      <path clip-path=\"url(#p3a3537bf4f)\" d=\"M 238.746603 174.079219 \nL 238.746603 10.999219 \n\" style=\"fill:none;stroke:#b0b0b0;stroke-linecap:square;stroke-width:0.8;\"/>\n     </g>\n     <g id=\"line2d_4\">\n      <g>\n       <use style=\"stroke:#000000;stroke-width:0.8;\" x=\"238.746603\" xlink:href=\"#m7193f97db5\" y=\"174.079219\"/>\n      </g>\n     </g>\n     <g id=\"text_2\">\n      <!-- 45 -->\n      <defs>\n       <path d=\"M 10.796875 72.90625 \nL 49.515625 72.90625 \nL 49.515625 64.59375 \nL 19.828125 64.59375 \nL 19.828125 46.734375 \nQ 21.96875 47.46875 24.109375 47.828125 \nQ 26.265625 48.1875 28.421875 48.1875 \nQ 40.625 48.1875 47.75 41.5 \nQ 54.890625 34.8125 54.890625 23.390625 \nQ 54.890625 11.625 47.5625 5.09375 \nQ 40.234375 -1.421875 26.90625 -1.421875 \nQ 22.3125 -1.421875 17.546875 -0.640625 \nQ 12.796875 0.140625 7.71875 1.703125 \nL 7.71875 11.625 \nQ 12.109375 9.234375 16.796875 8.0625 \nQ 21.484375 6.890625 26.703125 6.890625 \nQ 35.15625 6.890625 40.078125 11.328125 \nQ 45.015625 15.765625 45.015625 23.390625 \nQ 45.015625 31 40.078125 35.4375 \nQ 35.15625 39.890625 26.703125 39.890625 \nQ 22.75 39.890625 18.8125 39.015625 \nQ 14.890625 38.140625 10.796875 36.28125 \nz\n\" id=\"DejaVuSans-53\"/>\n      </defs>\n      <g transform=\"translate(232.384103 188.677656)scale(0.1 -0.1)\">\n       <use xlink:href=\"#DejaVuSans-52\"/>\n       <use x=\"63.623047\" xlink:href=\"#DejaVuSans-53\"/>\n      </g>\n     </g>\n    </g>\n    <g id=\"xtick_3\">\n     <g id=\"line2d_5\">\n      <path clip-path=\"url(#p3a3537bf4f)\" d=\"M 373.529212 174.079219 \nL 373.529212 10.999219 \n\" style=\"fill:none;stroke:#b0b0b0;stroke-linecap:square;stroke-width:0.8;\"/>\n     </g>\n     <g id=\"line2d_6\">\n      <g>\n       <use style=\"stroke:#000000;stroke-width:0.8;\" x=\"373.529212\" xlink:href=\"#m7193f97db5\" y=\"174.079219\"/>\n      </g>\n     </g>\n     <g id=\"text_3\">\n      <!-- 50 -->\n      <g transform=\"translate(367.166712 188.677656)scale(0.1 -0.1)\">\n       <use xlink:href=\"#DejaVuSans-53\"/>\n       <use x=\"63.623047\" xlink:href=\"#DejaVuSans-48\"/>\n      </g>\n     </g>\n    </g>\n    <g id=\"xtick_4\">\n     <g id=\"line2d_7\">\n      <path clip-path=\"url(#p3a3537bf4f)\" d=\"M 508.311821 174.079219 \nL 508.311821 10.999219 \n\" style=\"fill:none;stroke:#b0b0b0;stroke-linecap:square;stroke-width:0.8;\"/>\n     </g>\n     <g id=\"line2d_8\">\n      <g>\n       <use style=\"stroke:#000000;stroke-width:0.8;\" x=\"508.311821\" xlink:href=\"#m7193f97db5\" y=\"174.079219\"/>\n      </g>\n     </g>\n     <g id=\"text_4\">\n      <!-- 55 -->\n      <g transform=\"translate(501.949321 188.677656)scale(0.1 -0.1)\">\n       <use xlink:href=\"#DejaVuSans-53\"/>\n       <use x=\"63.623047\" xlink:href=\"#DejaVuSans-53\"/>\n      </g>\n     </g>\n    </g>\n    <g id=\"xtick_5\">\n     <g id=\"line2d_9\">\n      <path clip-path=\"url(#p3a3537bf4f)\" d=\"M 643.094429 174.079219 \nL 643.094429 10.999219 \n\" style=\"fill:none;stroke:#b0b0b0;stroke-linecap:square;stroke-width:0.8;\"/>\n     </g>\n     <g id=\"line2d_10\">\n      <g>\n       <use style=\"stroke:#000000;stroke-width:0.8;\" x=\"643.094429\" xlink:href=\"#m7193f97db5\" y=\"174.079219\"/>\n      </g>\n     </g>\n     <g id=\"text_5\">\n      <!-- 60 -->\n      <defs>\n       <path d=\"M 33.015625 40.375 \nQ 26.375 40.375 22.484375 35.828125 \nQ 18.609375 31.296875 18.609375 23.390625 \nQ 18.609375 15.53125 22.484375 10.953125 \nQ 26.375 6.390625 33.015625 6.390625 \nQ 39.65625 6.390625 43.53125 10.953125 \nQ 47.40625 15.53125 47.40625 23.390625 \nQ 47.40625 31.296875 43.53125 35.828125 \nQ 39.65625 40.375 33.015625 40.375 \nz\nM 52.59375 71.296875 \nL 52.59375 62.3125 \nQ 48.875 64.0625 45.09375 64.984375 \nQ 41.3125 65.921875 37.59375 65.921875 \nQ 27.828125 65.921875 22.671875 59.328125 \nQ 17.53125 52.734375 16.796875 39.40625 \nQ 19.671875 43.65625 24.015625 45.921875 \nQ 28.375 48.1875 33.59375 48.1875 \nQ 44.578125 48.1875 50.953125 41.515625 \nQ 57.328125 34.859375 57.328125 23.390625 \nQ 57.328125 12.15625 50.6875 5.359375 \nQ 44.046875 -1.421875 33.015625 -1.421875 \nQ 20.359375 -1.421875 13.671875 8.265625 \nQ 6.984375 17.96875 6.984375 36.375 \nQ 6.984375 53.65625 15.1875 63.9375 \nQ 23.390625 74.21875 37.203125 74.21875 \nQ 40.921875 74.21875 44.703125 73.484375 \nQ 48.484375 72.75 52.59375 71.296875 \nz\n\" id=\"DejaVuSans-54\"/>\n      </defs>\n      <g transform=\"translate(636.731929 188.677656)scale(0.1 -0.1)\">\n       <use xlink:href=\"#DejaVuSans-54\"/>\n       <use x=\"63.623047\" xlink:href=\"#DejaVuSans-48\"/>\n      </g>\n     </g>\n    </g>\n    <g id=\"text_6\">\n     <!-- time [hours] -->\n     <defs>\n      <path d=\"M 18.3125 70.21875 \nL 18.3125 54.6875 \nL 36.8125 54.6875 \nL 36.8125 47.703125 \nL 18.3125 47.703125 \nL 18.3125 18.015625 \nQ 18.3125 11.328125 20.140625 9.421875 \nQ 21.96875 7.515625 27.59375 7.515625 \nL 36.8125 7.515625 \nL 36.8125 0 \nL 27.59375 0 \nQ 17.1875 0 13.234375 3.875 \nQ 9.28125 7.765625 9.28125 18.015625 \nL 9.28125 47.703125 \nL 2.6875 47.703125 \nL 2.6875 54.6875 \nL 9.28125 54.6875 \nL 9.28125 70.21875 \nz\n\" id=\"DejaVuSans-116\"/>\n      <path d=\"M 9.421875 54.6875 \nL 18.40625 54.6875 \nL 18.40625 0 \nL 9.421875 0 \nz\nM 9.421875 75.984375 \nL 18.40625 75.984375 \nL 18.40625 64.59375 \nL 9.421875 64.59375 \nz\n\" id=\"DejaVuSans-105\"/>\n      <path d=\"M 52 44.1875 \nQ 55.375 50.25 60.0625 53.125 \nQ 64.75 56 71.09375 56 \nQ 79.640625 56 84.28125 50.015625 \nQ 88.921875 44.046875 88.921875 33.015625 \nL 88.921875 0 \nL 79.890625 0 \nL 79.890625 32.71875 \nQ 79.890625 40.578125 77.09375 44.375 \nQ 74.3125 48.1875 68.609375 48.1875 \nQ 61.625 48.1875 57.5625 43.546875 \nQ 53.515625 38.921875 53.515625 30.90625 \nL 53.515625 0 \nL 44.484375 0 \nL 44.484375 32.71875 \nQ 44.484375 40.625 41.703125 44.40625 \nQ 38.921875 48.1875 33.109375 48.1875 \nQ 26.21875 48.1875 22.15625 43.53125 \nQ 18.109375 38.875 18.109375 30.90625 \nL 18.109375 0 \nL 9.078125 0 \nL 9.078125 54.6875 \nL 18.109375 54.6875 \nL 18.109375 46.1875 \nQ 21.1875 51.21875 25.484375 53.609375 \nQ 29.78125 56 35.6875 56 \nQ 41.65625 56 45.828125 52.96875 \nQ 50 49.953125 52 44.1875 \nz\n\" id=\"DejaVuSans-109\"/>\n      <path d=\"M 56.203125 29.59375 \nL 56.203125 25.203125 \nL 14.890625 25.203125 \nQ 15.484375 15.921875 20.484375 11.0625 \nQ 25.484375 6.203125 34.421875 6.203125 \nQ 39.59375 6.203125 44.453125 7.46875 \nQ 49.3125 8.734375 54.109375 11.28125 \nL 54.109375 2.78125 \nQ 49.265625 0.734375 44.1875 -0.34375 \nQ 39.109375 -1.421875 33.890625 -1.421875 \nQ 20.796875 -1.421875 13.15625 6.1875 \nQ 5.515625 13.8125 5.515625 26.8125 \nQ 5.515625 40.234375 12.765625 48.109375 \nQ 20.015625 56 32.328125 56 \nQ 43.359375 56 49.78125 48.890625 \nQ 56.203125 41.796875 56.203125 29.59375 \nz\nM 47.21875 32.234375 \nQ 47.125 39.59375 43.09375 43.984375 \nQ 39.0625 48.390625 32.421875 48.390625 \nQ 24.90625 48.390625 20.390625 44.140625 \nQ 15.875 39.890625 15.1875 32.171875 \nz\n\" id=\"DejaVuSans-101\"/>\n      <path id=\"DejaVuSans-32\"/>\n      <path d=\"M 8.59375 75.984375 \nL 29.296875 75.984375 \nL 29.296875 69 \nL 17.578125 69 \nL 17.578125 -6.203125 \nL 29.296875 -6.203125 \nL 29.296875 -13.1875 \nL 8.59375 -13.1875 \nz\n\" id=\"DejaVuSans-91\"/>\n      <path d=\"M 54.890625 33.015625 \nL 54.890625 0 \nL 45.90625 0 \nL 45.90625 32.71875 \nQ 45.90625 40.484375 42.875 44.328125 \nQ 39.84375 48.1875 33.796875 48.1875 \nQ 26.515625 48.1875 22.3125 43.546875 \nQ 18.109375 38.921875 18.109375 30.90625 \nL 18.109375 0 \nL 9.078125 0 \nL 9.078125 75.984375 \nL 18.109375 75.984375 \nL 18.109375 46.1875 \nQ 21.34375 51.125 25.703125 53.5625 \nQ 30.078125 56 35.796875 56 \nQ 45.21875 56 50.046875 50.171875 \nQ 54.890625 44.34375 54.890625 33.015625 \nz\n\" id=\"DejaVuSans-104\"/>\n      <path d=\"M 30.609375 48.390625 \nQ 23.390625 48.390625 19.1875 42.75 \nQ 14.984375 37.109375 14.984375 27.296875 \nQ 14.984375 17.484375 19.15625 11.84375 \nQ 23.34375 6.203125 30.609375 6.203125 \nQ 37.796875 6.203125 41.984375 11.859375 \nQ 46.1875 17.53125 46.1875 27.296875 \nQ 46.1875 37.015625 41.984375 42.703125 \nQ 37.796875 48.390625 30.609375 48.390625 \nz\nM 30.609375 56 \nQ 42.328125 56 49.015625 48.375 \nQ 55.71875 40.765625 55.71875 27.296875 \nQ 55.71875 13.875 49.015625 6.21875 \nQ 42.328125 -1.421875 30.609375 -1.421875 \nQ 18.84375 -1.421875 12.171875 6.21875 \nQ 5.515625 13.875 5.515625 27.296875 \nQ 5.515625 40.765625 12.171875 48.375 \nQ 18.84375 56 30.609375 56 \nz\n\" id=\"DejaVuSans-111\"/>\n      <path d=\"M 8.5 21.578125 \nL 8.5 54.6875 \nL 17.484375 54.6875 \nL 17.484375 21.921875 \nQ 17.484375 14.15625 20.5 10.265625 \nQ 23.53125 6.390625 29.59375 6.390625 \nQ 36.859375 6.390625 41.078125 11.03125 \nQ 45.3125 15.671875 45.3125 23.6875 \nL 45.3125 54.6875 \nL 54.296875 54.6875 \nL 54.296875 0 \nL 45.3125 0 \nL 45.3125 8.40625 \nQ 42.046875 3.421875 37.71875 1 \nQ 33.40625 -1.421875 27.6875 -1.421875 \nQ 18.265625 -1.421875 13.375 4.4375 \nQ 8.5 10.296875 8.5 21.578125 \nz\nM 31.109375 56 \nz\n\" id=\"DejaVuSans-117\"/>\n      <path d=\"M 41.109375 46.296875 \nQ 39.59375 47.171875 37.8125 47.578125 \nQ 36.03125 48 33.890625 48 \nQ 26.265625 48 22.1875 43.046875 \nQ 18.109375 38.09375 18.109375 28.8125 \nL 18.109375 0 \nL 9.078125 0 \nL 9.078125 54.6875 \nL 18.109375 54.6875 \nL 18.109375 46.1875 \nQ 20.953125 51.171875 25.484375 53.578125 \nQ 30.03125 56 36.53125 56 \nQ 37.453125 56 38.578125 55.875 \nQ 39.703125 55.765625 41.0625 55.515625 \nz\n\" id=\"DejaVuSans-114\"/>\n      <path d=\"M 44.28125 53.078125 \nL 44.28125 44.578125 \nQ 40.484375 46.53125 36.375 47.5 \nQ 32.28125 48.484375 27.875 48.484375 \nQ 21.1875 48.484375 17.84375 46.4375 \nQ 14.5 44.390625 14.5 40.28125 \nQ 14.5 37.15625 16.890625 35.375 \nQ 19.28125 33.59375 26.515625 31.984375 \nL 29.59375 31.296875 \nQ 39.15625 29.25 43.1875 25.515625 \nQ 47.21875 21.78125 47.21875 15.09375 \nQ 47.21875 7.46875 41.1875 3.015625 \nQ 35.15625 -1.421875 24.609375 -1.421875 \nQ 20.21875 -1.421875 15.453125 -0.5625 \nQ 10.6875 0.296875 5.421875 2 \nL 5.421875 11.28125 \nQ 10.40625 8.6875 15.234375 7.390625 \nQ 20.0625 6.109375 24.8125 6.109375 \nQ 31.15625 6.109375 34.5625 8.28125 \nQ 37.984375 10.453125 37.984375 14.40625 \nQ 37.984375 18.0625 35.515625 20.015625 \nQ 33.0625 21.96875 24.703125 23.78125 \nL 21.578125 24.515625 \nQ 13.234375 26.265625 9.515625 29.90625 \nQ 5.8125 33.546875 5.8125 39.890625 \nQ 5.8125 47.609375 11.28125 51.796875 \nQ 16.75 56 26.8125 56 \nQ 31.78125 56 36.171875 55.265625 \nQ 40.578125 54.546875 44.28125 53.078125 \nz\n\" id=\"DejaVuSans-115\"/>\n      <path d=\"M 30.421875 75.984375 \nL 30.421875 -13.1875 \nL 9.71875 -13.1875 \nL 9.71875 -6.203125 \nL 21.390625 -6.203125 \nL 21.390625 69 \nL 9.71875 69 \nL 9.71875 75.984375 \nz\n\" id=\"DejaVuSans-93\"/>\n     </defs>\n     <g transform=\"translate(334.059375 202.355781)scale(0.1 -0.1)\">\n      <use xlink:href=\"#DejaVuSans-116\"/>\n      <use x=\"39.208984\" xlink:href=\"#DejaVuSans-105\"/>\n      <use x=\"66.992188\" xlink:href=\"#DejaVuSans-109\"/>\n      <use x=\"164.404297\" xlink:href=\"#DejaVuSans-101\"/>\n      <use x=\"225.927734\" xlink:href=\"#DejaVuSans-32\"/>\n      <use x=\"257.714844\" xlink:href=\"#DejaVuSans-91\"/>\n      <use x=\"296.728516\" xlink:href=\"#DejaVuSans-104\"/>\n      <use x=\"360.107422\" xlink:href=\"#DejaVuSans-111\"/>\n      <use x=\"421.289062\" xlink:href=\"#DejaVuSans-117\"/>\n      <use x=\"484.667969\" xlink:href=\"#DejaVuSans-114\"/>\n      <use x=\"525.78125\" xlink:href=\"#DejaVuSans-115\"/>\n      <use x=\"577.880859\" xlink:href=\"#DejaVuSans-93\"/>\n     </g>\n    </g>\n   </g>\n   <g id=\"matplotlib.axis_2\">\n    <g id=\"ytick_1\">\n     <g id=\"line2d_11\">\n      <path clip-path=\"url(#p3a3537bf4f)\" d=\"M 30.103125 166.673688 \nL 699.703125 166.673688 \n\" style=\"fill:none;stroke:#b0b0b0;stroke-linecap:square;stroke-width:0.8;\"/>\n     </g>\n     <g id=\"line2d_12\">\n      <defs>\n       <path d=\"M 0 0 \nL -3.5 0 \n\" id=\"m36ef23099d\" style=\"stroke:#000000;stroke-width:0.8;\"/>\n      </defs>\n      <g>\n       <use style=\"stroke:#000000;stroke-width:0.8;\" x=\"30.103125\" xlink:href=\"#m36ef23099d\" y=\"166.673688\"/>\n      </g>\n     </g>\n     <g id=\"text_7\">\n      <!-- 0.0 -->\n      <defs>\n       <path d=\"M 10.6875 12.40625 \nL 21 12.40625 \nL 21 0 \nL 10.6875 0 \nz\n\" id=\"DejaVuSans-46\"/>\n      </defs>\n      <g transform=\"translate(7.2 170.472906)scale(0.1 -0.1)\">\n       <use xlink:href=\"#DejaVuSans-48\"/>\n       <use x=\"63.623047\" xlink:href=\"#DejaVuSans-46\"/>\n       <use x=\"95.410156\" xlink:href=\"#DejaVuSans-48\"/>\n      </g>\n     </g>\n    </g>\n    <g id=\"ytick_2\">\n     <g id=\"line2d_13\">\n      <path clip-path=\"url(#p3a3537bf4f)\" d=\"M 30.103125 151.106241 \nL 699.703125 151.106241 \n\" style=\"fill:none;stroke:#b0b0b0;stroke-linecap:square;stroke-width:0.8;\"/>\n     </g>\n     <g id=\"line2d_14\">\n      <g>\n       <use style=\"stroke:#000000;stroke-width:0.8;\" x=\"30.103125\" xlink:href=\"#m36ef23099d\" y=\"151.106241\"/>\n      </g>\n     </g>\n     <g id=\"text_8\">\n      <!-- 0.1 -->\n      <defs>\n       <path d=\"M 12.40625 8.296875 \nL 28.515625 8.296875 \nL 28.515625 63.921875 \nL 10.984375 60.40625 \nL 10.984375 69.390625 \nL 28.421875 72.90625 \nL 38.28125 72.90625 \nL 38.28125 8.296875 \nL 54.390625 8.296875 \nL 54.390625 0 \nL 12.40625 0 \nz\n\" id=\"DejaVuSans-49\"/>\n      </defs>\n      <g transform=\"translate(7.2 154.905459)scale(0.1 -0.1)\">\n       <use xlink:href=\"#DejaVuSans-48\"/>\n       <use x=\"63.623047\" xlink:href=\"#DejaVuSans-46\"/>\n       <use x=\"95.410156\" xlink:href=\"#DejaVuSans-49\"/>\n      </g>\n     </g>\n    </g>\n    <g id=\"ytick_3\">\n     <g id=\"line2d_15\">\n      <path clip-path=\"url(#p3a3537bf4f)\" d=\"M 30.103125 135.538794 \nL 699.703125 135.538794 \n\" style=\"fill:none;stroke:#b0b0b0;stroke-linecap:square;stroke-width:0.8;\"/>\n     </g>\n     <g id=\"line2d_16\">\n      <g>\n       <use style=\"stroke:#000000;stroke-width:0.8;\" x=\"30.103125\" xlink:href=\"#m36ef23099d\" y=\"135.538794\"/>\n      </g>\n     </g>\n     <g id=\"text_9\">\n      <!-- 0.2 -->\n      <defs>\n       <path d=\"M 19.1875 8.296875 \nL 53.609375 8.296875 \nL 53.609375 0 \nL 7.328125 0 \nL 7.328125 8.296875 \nQ 12.9375 14.109375 22.625 23.890625 \nQ 32.328125 33.6875 34.8125 36.53125 \nQ 39.546875 41.84375 41.421875 45.53125 \nQ 43.3125 49.21875 43.3125 52.78125 \nQ 43.3125 58.59375 39.234375 62.25 \nQ 35.15625 65.921875 28.609375 65.921875 \nQ 23.96875 65.921875 18.8125 64.3125 \nQ 13.671875 62.703125 7.8125 59.421875 \nL 7.8125 69.390625 \nQ 13.765625 71.78125 18.9375 73 \nQ 24.125 74.21875 28.421875 74.21875 \nQ 39.75 74.21875 46.484375 68.546875 \nQ 53.21875 62.890625 53.21875 53.421875 \nQ 53.21875 48.921875 51.53125 44.890625 \nQ 49.859375 40.875 45.40625 35.40625 \nQ 44.1875 33.984375 37.640625 27.21875 \nQ 31.109375 20.453125 19.1875 8.296875 \nz\n\" id=\"DejaVuSans-50\"/>\n      </defs>\n      <g transform=\"translate(7.2 139.338013)scale(0.1 -0.1)\">\n       <use xlink:href=\"#DejaVuSans-48\"/>\n       <use x=\"63.623047\" xlink:href=\"#DejaVuSans-46\"/>\n       <use x=\"95.410156\" xlink:href=\"#DejaVuSans-50\"/>\n      </g>\n     </g>\n    </g>\n    <g id=\"ytick_4\">\n     <g id=\"line2d_17\">\n      <path clip-path=\"url(#p3a3537bf4f)\" d=\"M 30.103125 119.971347 \nL 699.703125 119.971347 \n\" style=\"fill:none;stroke:#b0b0b0;stroke-linecap:square;stroke-width:0.8;\"/>\n     </g>\n     <g id=\"line2d_18\">\n      <g>\n       <use style=\"stroke:#000000;stroke-width:0.8;\" x=\"30.103125\" xlink:href=\"#m36ef23099d\" y=\"119.971347\"/>\n      </g>\n     </g>\n     <g id=\"text_10\">\n      <!-- 0.3 -->\n      <defs>\n       <path d=\"M 40.578125 39.3125 \nQ 47.65625 37.796875 51.625 33 \nQ 55.609375 28.21875 55.609375 21.1875 \nQ 55.609375 10.40625 48.1875 4.484375 \nQ 40.765625 -1.421875 27.09375 -1.421875 \nQ 22.515625 -1.421875 17.65625 -0.515625 \nQ 12.796875 0.390625 7.625 2.203125 \nL 7.625 11.71875 \nQ 11.71875 9.328125 16.59375 8.109375 \nQ 21.484375 6.890625 26.8125 6.890625 \nQ 36.078125 6.890625 40.9375 10.546875 \nQ 45.796875 14.203125 45.796875 21.1875 \nQ 45.796875 27.640625 41.28125 31.265625 \nQ 36.765625 34.90625 28.71875 34.90625 \nL 20.21875 34.90625 \nL 20.21875 43.015625 \nL 29.109375 43.015625 \nQ 36.375 43.015625 40.234375 45.921875 \nQ 44.09375 48.828125 44.09375 54.296875 \nQ 44.09375 59.90625 40.109375 62.90625 \nQ 36.140625 65.921875 28.71875 65.921875 \nQ 24.65625 65.921875 20.015625 65.03125 \nQ 15.375 64.15625 9.8125 62.3125 \nL 9.8125 71.09375 \nQ 15.4375 72.65625 20.34375 73.4375 \nQ 25.25 74.21875 29.59375 74.21875 \nQ 40.828125 74.21875 47.359375 69.109375 \nQ 53.90625 64.015625 53.90625 55.328125 \nQ 53.90625 49.265625 50.4375 45.09375 \nQ 46.96875 40.921875 40.578125 39.3125 \nz\n\" id=\"DejaVuSans-51\"/>\n      </defs>\n      <g transform=\"translate(7.2 123.770566)scale(0.1 -0.1)\">\n       <use xlink:href=\"#DejaVuSans-48\"/>\n       <use x=\"63.623047\" xlink:href=\"#DejaVuSans-46\"/>\n       <use x=\"95.410156\" xlink:href=\"#DejaVuSans-51\"/>\n      </g>\n     </g>\n    </g>\n    <g id=\"ytick_5\">\n     <g id=\"line2d_19\">\n      <path clip-path=\"url(#p3a3537bf4f)\" d=\"M 30.103125 104.4039 \nL 699.703125 104.4039 \n\" style=\"fill:none;stroke:#b0b0b0;stroke-linecap:square;stroke-width:0.8;\"/>\n     </g>\n     <g id=\"line2d_20\">\n      <g>\n       <use style=\"stroke:#000000;stroke-width:0.8;\" x=\"30.103125\" xlink:href=\"#m36ef23099d\" y=\"104.4039\"/>\n      </g>\n     </g>\n     <g id=\"text_11\">\n      <!-- 0.4 -->\n      <g transform=\"translate(7.2 108.203119)scale(0.1 -0.1)\">\n       <use xlink:href=\"#DejaVuSans-48\"/>\n       <use x=\"63.623047\" xlink:href=\"#DejaVuSans-46\"/>\n       <use x=\"95.410156\" xlink:href=\"#DejaVuSans-52\"/>\n      </g>\n     </g>\n    </g>\n    <g id=\"ytick_6\">\n     <g id=\"line2d_21\">\n      <path clip-path=\"url(#p3a3537bf4f)\" d=\"M 30.103125 88.836453 \nL 699.703125 88.836453 \n\" style=\"fill:none;stroke:#b0b0b0;stroke-linecap:square;stroke-width:0.8;\"/>\n     </g>\n     <g id=\"line2d_22\">\n      <g>\n       <use style=\"stroke:#000000;stroke-width:0.8;\" x=\"30.103125\" xlink:href=\"#m36ef23099d\" y=\"88.836453\"/>\n      </g>\n     </g>\n     <g id=\"text_12\">\n      <!-- 0.5 -->\n      <g transform=\"translate(7.2 92.635672)scale(0.1 -0.1)\">\n       <use xlink:href=\"#DejaVuSans-48\"/>\n       <use x=\"63.623047\" xlink:href=\"#DejaVuSans-46\"/>\n       <use x=\"95.410156\" xlink:href=\"#DejaVuSans-53\"/>\n      </g>\n     </g>\n    </g>\n    <g id=\"ytick_7\">\n     <g id=\"line2d_23\">\n      <path clip-path=\"url(#p3a3537bf4f)\" d=\"M 30.103125 73.269006 \nL 699.703125 73.269006 \n\" style=\"fill:none;stroke:#b0b0b0;stroke-linecap:square;stroke-width:0.8;\"/>\n     </g>\n     <g id=\"line2d_24\">\n      <g>\n       <use style=\"stroke:#000000;stroke-width:0.8;\" x=\"30.103125\" xlink:href=\"#m36ef23099d\" y=\"73.269006\"/>\n      </g>\n     </g>\n     <g id=\"text_13\">\n      <!-- 0.6 -->\n      <g transform=\"translate(7.2 77.068225)scale(0.1 -0.1)\">\n       <use xlink:href=\"#DejaVuSans-48\"/>\n       <use x=\"63.623047\" xlink:href=\"#DejaVuSans-46\"/>\n       <use x=\"95.410156\" xlink:href=\"#DejaVuSans-54\"/>\n      </g>\n     </g>\n    </g>\n    <g id=\"ytick_8\">\n     <g id=\"line2d_25\">\n      <path clip-path=\"url(#p3a3537bf4f)\" d=\"M 30.103125 57.701559 \nL 699.703125 57.701559 \n\" style=\"fill:none;stroke:#b0b0b0;stroke-linecap:square;stroke-width:0.8;\"/>\n     </g>\n     <g id=\"line2d_26\">\n      <g>\n       <use style=\"stroke:#000000;stroke-width:0.8;\" x=\"30.103125\" xlink:href=\"#m36ef23099d\" y=\"57.701559\"/>\n      </g>\n     </g>\n     <g id=\"text_14\">\n      <!-- 0.7 -->\n      <defs>\n       <path d=\"M 8.203125 72.90625 \nL 55.078125 72.90625 \nL 55.078125 68.703125 \nL 28.609375 0 \nL 18.3125 0 \nL 43.21875 64.59375 \nL 8.203125 64.59375 \nz\n\" id=\"DejaVuSans-55\"/>\n      </defs>\n      <g transform=\"translate(7.2 61.500778)scale(0.1 -0.1)\">\n       <use xlink:href=\"#DejaVuSans-48\"/>\n       <use x=\"63.623047\" xlink:href=\"#DejaVuSans-46\"/>\n       <use x=\"95.410156\" xlink:href=\"#DejaVuSans-55\"/>\n      </g>\n     </g>\n    </g>\n    <g id=\"ytick_9\">\n     <g id=\"line2d_27\">\n      <path clip-path=\"url(#p3a3537bf4f)\" d=\"M 30.103125 42.134113 \nL 699.703125 42.134113 \n\" style=\"fill:none;stroke:#b0b0b0;stroke-linecap:square;stroke-width:0.8;\"/>\n     </g>\n     <g id=\"line2d_28\">\n      <g>\n       <use style=\"stroke:#000000;stroke-width:0.8;\" x=\"30.103125\" xlink:href=\"#m36ef23099d\" y=\"42.134113\"/>\n      </g>\n     </g>\n     <g id=\"text_15\">\n      <!-- 0.8 -->\n      <defs>\n       <path d=\"M 31.78125 34.625 \nQ 24.75 34.625 20.71875 30.859375 \nQ 16.703125 27.09375 16.703125 20.515625 \nQ 16.703125 13.921875 20.71875 10.15625 \nQ 24.75 6.390625 31.78125 6.390625 \nQ 38.8125 6.390625 42.859375 10.171875 \nQ 46.921875 13.96875 46.921875 20.515625 \nQ 46.921875 27.09375 42.890625 30.859375 \nQ 38.875 34.625 31.78125 34.625 \nz\nM 21.921875 38.8125 \nQ 15.578125 40.375 12.03125 44.71875 \nQ 8.5 49.078125 8.5 55.328125 \nQ 8.5 64.0625 14.71875 69.140625 \nQ 20.953125 74.21875 31.78125 74.21875 \nQ 42.671875 74.21875 48.875 69.140625 \nQ 55.078125 64.0625 55.078125 55.328125 \nQ 55.078125 49.078125 51.53125 44.71875 \nQ 48 40.375 41.703125 38.8125 \nQ 48.828125 37.15625 52.796875 32.3125 \nQ 56.78125 27.484375 56.78125 20.515625 \nQ 56.78125 9.90625 50.3125 4.234375 \nQ 43.84375 -1.421875 31.78125 -1.421875 \nQ 19.734375 -1.421875 13.25 4.234375 \nQ 6.78125 9.90625 6.78125 20.515625 \nQ 6.78125 27.484375 10.78125 32.3125 \nQ 14.796875 37.15625 21.921875 38.8125 \nz\nM 18.3125 54.390625 \nQ 18.3125 48.734375 21.84375 45.5625 \nQ 25.390625 42.390625 31.78125 42.390625 \nQ 38.140625 42.390625 41.71875 45.5625 \nQ 45.3125 48.734375 45.3125 54.390625 \nQ 45.3125 60.0625 41.71875 63.234375 \nQ 38.140625 66.40625 31.78125 66.40625 \nQ 25.390625 66.40625 21.84375 63.234375 \nQ 18.3125 60.0625 18.3125 54.390625 \nz\n\" id=\"DejaVuSans-56\"/>\n      </defs>\n      <g transform=\"translate(7.2 45.933331)scale(0.1 -0.1)\">\n       <use xlink:href=\"#DejaVuSans-48\"/>\n       <use x=\"63.623047\" xlink:href=\"#DejaVuSans-46\"/>\n       <use x=\"95.410156\" xlink:href=\"#DejaVuSans-56\"/>\n      </g>\n     </g>\n    </g>\n    <g id=\"ytick_10\">\n     <g id=\"line2d_29\">\n      <path clip-path=\"url(#p3a3537bf4f)\" d=\"M 30.103125 26.566666 \nL 699.703125 26.566666 \n\" style=\"fill:none;stroke:#b0b0b0;stroke-linecap:square;stroke-width:0.8;\"/>\n     </g>\n     <g id=\"line2d_30\">\n      <g>\n       <use style=\"stroke:#000000;stroke-width:0.8;\" x=\"30.103125\" xlink:href=\"#m36ef23099d\" y=\"26.566666\"/>\n      </g>\n     </g>\n     <g id=\"text_16\">\n      <!-- 0.9 -->\n      <defs>\n       <path d=\"M 10.984375 1.515625 \nL 10.984375 10.5 \nQ 14.703125 8.734375 18.5 7.8125 \nQ 22.3125 6.890625 25.984375 6.890625 \nQ 35.75 6.890625 40.890625 13.453125 \nQ 46.046875 20.015625 46.78125 33.40625 \nQ 43.953125 29.203125 39.59375 26.953125 \nQ 35.25 24.703125 29.984375 24.703125 \nQ 19.046875 24.703125 12.671875 31.3125 \nQ 6.296875 37.9375 6.296875 49.421875 \nQ 6.296875 60.640625 12.9375 67.421875 \nQ 19.578125 74.21875 30.609375 74.21875 \nQ 43.265625 74.21875 49.921875 64.515625 \nQ 56.59375 54.828125 56.59375 36.375 \nQ 56.59375 19.140625 48.40625 8.859375 \nQ 40.234375 -1.421875 26.421875 -1.421875 \nQ 22.703125 -1.421875 18.890625 -0.6875 \nQ 15.09375 0.046875 10.984375 1.515625 \nz\nM 30.609375 32.421875 \nQ 37.25 32.421875 41.125 36.953125 \nQ 45.015625 41.5 45.015625 49.421875 \nQ 45.015625 57.28125 41.125 61.84375 \nQ 37.25 66.40625 30.609375 66.40625 \nQ 23.96875 66.40625 20.09375 61.84375 \nQ 16.21875 57.28125 16.21875 49.421875 \nQ 16.21875 41.5 20.09375 36.953125 \nQ 23.96875 32.421875 30.609375 32.421875 \nz\n\" id=\"DejaVuSans-57\"/>\n      </defs>\n      <g transform=\"translate(7.2 30.365884)scale(0.1 -0.1)\">\n       <use xlink:href=\"#DejaVuSans-48\"/>\n       <use x=\"63.623047\" xlink:href=\"#DejaVuSans-46\"/>\n       <use x=\"95.410156\" xlink:href=\"#DejaVuSans-57\"/>\n      </g>\n     </g>\n    </g>\n    <g id=\"ytick_11\">\n     <g id=\"line2d_31\">\n      <path clip-path=\"url(#p3a3537bf4f)\" d=\"M 30.103125 10.999219 \nL 699.703125 10.999219 \n\" style=\"fill:none;stroke:#b0b0b0;stroke-linecap:square;stroke-width:0.8;\"/>\n     </g>\n     <g id=\"line2d_32\">\n      <g>\n       <use style=\"stroke:#000000;stroke-width:0.8;\" x=\"30.103125\" xlink:href=\"#m36ef23099d\" y=\"10.999219\"/>\n      </g>\n     </g>\n     <g id=\"text_17\">\n      <!-- 1.0 -->\n      <g transform=\"translate(7.2 14.798437)scale(0.1 -0.1)\">\n       <use xlink:href=\"#DejaVuSans-49\"/>\n       <use x=\"63.623047\" xlink:href=\"#DejaVuSans-46\"/>\n       <use x=\"95.410156\" xlink:href=\"#DejaVuSans-48\"/>\n      </g>\n     </g>\n    </g>\n   </g>\n   <g id=\"line2d_33\">\n    <path clip-path=\"url(#p3a3537bf4f)\" d=\"M 29.656427 166.673688 \nL 155.848555 166.673688 \nL 156.9653 30.408587 \nL 164.782511 30.103484 \nL 173.716467 29.986512 \nL 181.533679 30.08941 \nL 189.35089 30.41287 \nL 196.051357 30.912153 \nL 201.63508 31.534994 \nL 206.102058 32.21034 \nL 210.569036 33.088998 \nL 215.036014 34.229586 \nL 218.386247 35.304216 \nL 221.736481 36.615644 \nL 225.086714 38.221807 \nL 227.320203 39.492773 \nL 229.553692 40.95596 \nL 231.787181 42.645445 \nL 234.02067 44.602861 \nL 236.254159 46.879495 \nL 238.487648 49.539102 \nL 240.721137 52.661736 \nL 241.837882 54.427429 \nL 247.421604 56.267462 \nL 249.655093 57.272855 \nL 251.888582 58.526095 \nL 254.122071 60.10597 \nL 256.35556 62.123824 \nL 257.472304 63.344737 \nL 258.589049 64.740836 \nL 259.705793 66.344762 \nL 260.822538 68.196926 \nL 261.939282 70.347813 \nL 263.056027 72.861113 \nL 264.172771 75.818062 \nL 265.289516 79.3235 \nL 266.40626 83.514532 \nL 267.523005 88.573082 \nL 268.639749 94.744498 \nL 269.756494 102.365726 \nL 270.873238 111.909089 \nL 271.989983 124.052188 \nL 273.106727 139.793112 \nL 274.223472 160.647084 \nL 275.340216 166.673688 \nL 490.871904 166.673688 \nL 491.988649 30.383083 \nL 499.80586 30.084571 \nL 508.739816 29.974083 \nL 516.557028 30.082412 \nL 524.374239 30.411845 \nL 531.074706 30.917422 \nL 536.658429 31.547001 \nL 541.125407 32.229228 \nL 545.592385 33.116651 \nL 550.059362 34.268615 \nL 553.409596 35.354094 \nL 556.759829 36.679003 \nL 560.110063 38.302082 \nL 562.343552 39.586758 \nL 564.577041 41.066084 \nL 566.81053 42.774667 \nL 569.044019 44.75482 \nL 571.277508 47.0587 \nL 573.510997 49.75119 \nL 575.744486 52.913836 \nL 576.86123 54.541448 \nL 580.211464 55.508567 \nL 582.444953 56.336272 \nL 584.678442 57.358767 \nL 586.911931 58.634425 \nL 589.14542 60.24416 \nL 591.378909 62.302527 \nL 592.495653 63.549151 \nL 593.612398 64.975691 \nL 594.729142 66.615894 \nL 595.845887 68.511599 \nL 596.962631 70.715151 \nL 598.079376 73.292702 \nL 599.19612 76.328774 \nL 600.312865 79.932676 \nL 601.429609 84.247668 \nL 602.546354 89.464313 \nL 603.663098 95.840316 \nL 604.779843 103.730696 \nL 605.896587 113.634846 \nL 607.013332 126.272056 \nL 608.130076 142.70663 \nL 609.246821 164.562738 \nL 610.363565 166.673688 \nL 699.703125 166.673688 \nL 699.703125 166.673688 \n\" style=\"fill:none;stroke:#1f77b4;stroke-linecap:square;stroke-width:1.5;\"/>\n   </g>\n   <g id=\"line2d_34\">\n    <path clip-path=\"url(#p3a3537bf4f)\" d=\"M 29.656427 166.673688 \nL 155.848555 166.673688 \nL 156.9653 19.023145 \nL 168.132745 18.788622 \nL 179.30019 18.793698 \nL 189.35089 19.025798 \nL 197.168102 19.399823 \nL 203.868569 19.904622 \nL 210.569036 20.641696 \nL 216.152758 21.494152 \nL 220.619736 22.379271 \nL 225.086714 23.492199 \nL 228.436948 24.508989 \nL 231.787181 25.712604 \nL 235.137415 27.136159 \nL 238.487648 28.818906 \nL 241.837882 30.80764 \nL 245.188115 33.023663 \nL 246.304859 33.846643 \nL 247.421604 34.977556 \nL 249.655093 37.854256 \nL 253.005326 42.741691 \nL 255.238815 46.340887 \nL 256.35556 48.3773 \nL 257.472304 50.671909 \nL 258.589049 53.313773 \nL 259.705793 56.398211 \nL 260.822538 60.022834 \nL 261.939282 64.283583 \nL 263.056027 69.270763 \nL 264.172771 75.064972 \nL 265.289516 81.732752 \nL 266.40626 89.32165 \nL 267.523005 97.854121 \nL 269.756494 117.660878 \nL 271.989983 140.395128 \nL 274.223472 163.585941 \nL 275.340216 166.673688 \nL 490.871904 166.673688 \nL 491.988649 19.007342 \nL 503.156094 18.778407 \nL 514.323539 18.788358 \nL 524.374239 19.025163 \nL 532.191451 19.403797 \nL 538.891918 19.913812 \nL 545.592385 20.657928 \nL 551.176107 21.518237 \nL 555.643085 22.411382 \nL 560.110063 23.534316 \nL 563.460296 24.560205 \nL 566.81053 25.774564 \nL 570.160763 27.210812 \nL 573.510997 28.90857 \nL 576.86123 30.913352 \nL 580.211464 33.13963 \nL 581.328208 33.997073 \nL 582.444953 35.17233 \nL 584.678442 38.091815 \nL 588.028675 43.004055 \nL 590.262164 46.641892 \nL 591.378909 48.713537 \nL 592.495653 51.056753 \nL 593.612398 53.761905 \nL 594.729142 56.925007 \nL 595.845887 60.643735 \nL 596.962631 65.013472 \nL 598.079376 70.123322 \nL 599.19612 76.052006 \nL 600.312865 82.863447 \nL 601.429609 90.601687 \nL 602.546354 99.284529 \nL 604.779843 119.367582 \nL 609.246821 165.290851 \nL 610.363565 166.673688 \nL 699.703125 166.673688 \nL 699.703125 166.673688 \n\" style=\"fill:none;stroke:#ff7f0e;stroke-linecap:square;stroke-width:1.5;\"/>\n   </g>\n   <g id=\"line2d_35\">\n    <path clip-path=\"url(#p3a3537bf4f)\" d=\"M 29.656427 166.673688 \nL 155.848555 166.673688 \nL 156.9653 37.432096 \nL 163.665767 37.02398 \nL 170.366234 36.824448 \nL 177.066701 36.830743 \nL 183.767168 37.056997 \nL 189.35089 37.438481 \nL 194.934613 38.032136 \nL 199.401591 38.694431 \nL 203.868569 39.562868 \nL 208.335547 40.686428 \nL 211.68578 41.734456 \nL 215.036014 42.995869 \nL 218.386247 44.51256 \nL 221.736481 46.336075 \nL 223.96997 47.753089 \nL 226.203459 49.35705 \nL 228.436948 51.17417 \nL 230.670437 53.235027 \nL 232.903926 55.575473 \nL 235.137415 58.237787 \nL 237.370904 61.272175 \nL 239.604393 64.738713 \nL 241.837882 68.709933 \nL 246.304859 72.105782 \nL 247.421604 73.27319 \nL 249.655093 76.145336 \nL 251.888582 79.414961 \nL 254.122071 83.028052 \nL 256.35556 87.226676 \nL 257.472304 89.677491 \nL 258.589049 92.447647 \nL 259.705793 95.603459 \nL 260.822538 99.208349 \nL 261.939282 103.318299 \nL 263.056027 107.976721 \nL 264.172771 113.208484 \nL 266.40626 125.353295 \nL 268.639749 139.249065 \nL 270.873238 153.33544 \nL 271.989983 159.478984 \nL 273.106727 164.175621 \nL 274.223472 166.554152 \nL 275.340216 166.673688 \nL 490.871904 166.673688 \nL 491.988649 37.394072 \nL 498.689116 36.99439 \nL 505.389583 36.802318 \nL 512.09005 36.815595 \nL 518.790517 37.048947 \nL 524.374239 37.436952 \nL 529.957962 38.038231 \nL 534.42494 38.707863 \nL 538.891918 39.585202 \nL 543.358896 40.71978 \nL 546.709129 41.777875 \nL 550.059362 43.051315 \nL 553.409596 44.582459 \nL 556.759829 46.423433 \nL 558.993318 47.854114 \nL 561.226807 49.473672 \nL 563.460296 51.308639 \nL 565.693785 53.389978 \nL 567.927274 55.754007 \nL 570.160763 58.443578 \nL 572.394252 61.509602 \nL 574.627741 65.013041 \nL 576.86123 68.885588 \nL 580.211464 71.318747 \nL 581.328208 72.265539 \nL 582.444953 73.469451 \nL 584.678442 76.383241 \nL 586.911931 79.678177 \nL 589.14542 83.326046 \nL 591.378909 87.587901 \nL 592.495653 90.084746 \nL 593.612398 92.911419 \nL 594.729142 96.134113 \nL 595.845887 99.815444 \nL 596.962631 104.009812 \nL 598.079376 108.758164 \nL 599.19612 114.08184 \nL 601.429609 126.395328 \nL 607.013332 160.338937 \nL 608.130076 164.731393 \nL 609.246821 166.654936 \nL 615.947288 166.673688 \nL 699.703125 166.673688 \nL 699.703125 166.673688 \n\" style=\"fill:none;stroke:#2ca02c;stroke-linecap:square;stroke-width:1.5;\"/>\n   </g>\n   <g id=\"patch_3\">\n    <path d=\"M 30.103125 174.079219 \nL 30.103125 10.999219 \n\" style=\"fill:none;stroke:#000000;stroke-linecap:square;stroke-linejoin:miter;stroke-width:0.8;\"/>\n   </g>\n   <g id=\"patch_4\">\n    <path d=\"M 699.703125 174.079219 \nL 699.703125 10.999219 \n\" style=\"fill:none;stroke:#000000;stroke-linecap:square;stroke-linejoin:miter;stroke-width:0.8;\"/>\n   </g>\n   <g id=\"patch_5\">\n    <path d=\"M 30.103125 174.079219 \nL 699.703125 174.079219 \n\" style=\"fill:none;stroke:#000000;stroke-linecap:square;stroke-linejoin:miter;stroke-width:0.8;\"/>\n   </g>\n   <g id=\"patch_6\">\n    <path d=\"M 30.103125 10.999219 \nL 699.703125 10.999219 \n\" style=\"fill:none;stroke:#000000;stroke-linecap:square;stroke-linejoin:miter;stroke-width:0.8;\"/>\n   </g>\n   <g id=\"legend_1\">\n    <g id=\"patch_7\">\n     <path d=\"M 618.103125 65.094531 \nL 692.703125 65.094531 \nQ 694.703125 65.094531 694.703125 63.094531 \nL 694.703125 17.999219 \nQ 694.703125 15.999219 692.703125 15.999219 \nL 618.103125 15.999219 \nQ 616.103125 15.999219 616.103125 17.999219 \nL 616.103125 63.094531 \nQ 616.103125 65.094531 618.103125 65.094531 \nz\n\" style=\"fill:#ffffff;opacity:0.8;stroke:#cccccc;stroke-linejoin:miter;\"/>\n    </g>\n    <g id=\"line2d_36\">\n     <path d=\"M 620.103125 24.097656 \nL 640.103125 24.097656 \n\" style=\"fill:none;stroke:#1f77b4;stroke-linecap:square;stroke-width:1.5;\"/>\n    </g>\n    <g id=\"line2d_37\"/>\n    <g id=\"text_18\">\n     <!-- $\\eta_\\mathrm{turb}$ -->\n     <defs>\n      <path d=\"M 57.859375 33.015625 \nL 47.40625 -20.796875 \nL 38.421875 -20.796875 \nL 48.828125 32.71875 \nQ 50.34375 40.484375 48.046875 44.34375 \nQ 45.796875 48.1875 39.75 48.1875 \nQ 32.46875 48.1875 27.34375 43.5625 \nQ 22.265625 38.921875 20.703125 30.90625 \nL 14.703125 0 \nL 5.671875 0 \nL 16.3125 54.6875 \nL 25.34375 54.6875 \nL 23.6875 46.1875 \nQ 27.828125 51.125 32.71875 53.5625 \nQ 37.546875 56 43.265625 56 \nQ 52.6875 56 56.390625 50.203125 \nQ 60.0625 44.34375 57.859375 33.015625 \nz\n\" id=\"DejaVuSans-Oblique-951\"/>\n      <path d=\"M 48.6875 27.296875 \nQ 48.6875 37.203125 44.609375 42.84375 \nQ 40.53125 48.484375 33.40625 48.484375 \nQ 26.265625 48.484375 22.1875 42.84375 \nQ 18.109375 37.203125 18.109375 27.296875 \nQ 18.109375 17.390625 22.1875 11.75 \nQ 26.265625 6.109375 33.40625 6.109375 \nQ 40.53125 6.109375 44.609375 11.75 \nQ 48.6875 17.390625 48.6875 27.296875 \nz\nM 18.109375 46.390625 \nQ 20.953125 51.265625 25.265625 53.625 \nQ 29.59375 56 35.59375 56 \nQ 45.5625 56 51.78125 48.09375 \nQ 58.015625 40.1875 58.015625 27.296875 \nQ 58.015625 14.40625 51.78125 6.484375 \nQ 45.5625 -1.421875 35.59375 -1.421875 \nQ 29.59375 -1.421875 25.265625 0.953125 \nQ 20.953125 3.328125 18.109375 8.203125 \nL 18.109375 0 \nL 9.078125 0 \nL 9.078125 75.984375 \nL 18.109375 75.984375 \nz\n\" id=\"DejaVuSans-98\"/>\n     </defs>\n     <g transform=\"translate(648.103125 27.597656)scale(0.1 -0.1)\">\n      <use xlink:href=\"#DejaVuSans-Oblique-951\"/>\n      <use transform=\"translate(63.378906 -16.40625)scale(0.7)\" xlink:href=\"#DejaVuSans-116\"/>\n      <use transform=\"translate(90.825195 -16.40625)scale(0.7)\" xlink:href=\"#DejaVuSans-117\"/>\n      <use transform=\"translate(135.19043 -16.40625)scale(0.7)\" xlink:href=\"#DejaVuSans-114\"/>\n      <use transform=\"translate(163.969727 -16.40625)scale(0.7)\" xlink:href=\"#DejaVuSans-98\"/>\n     </g>\n    </g>\n    <g id=\"line2d_38\">\n     <path d=\"M 620.103125 38.796094 \nL 640.103125 38.796094 \n\" style=\"fill:none;stroke:#ff7f0e;stroke-linecap:square;stroke-width:1.5;\"/>\n    </g>\n    <g id=\"line2d_39\"/>\n    <g id=\"text_19\">\n     <!-- $\\eta_\\mathrm{gen}$ -->\n     <defs>\n      <path d=\"M 45.40625 27.984375 \nQ 45.40625 37.75 41.375 43.109375 \nQ 37.359375 48.484375 30.078125 48.484375 \nQ 22.859375 48.484375 18.828125 43.109375 \nQ 14.796875 37.75 14.796875 27.984375 \nQ 14.796875 18.265625 18.828125 12.890625 \nQ 22.859375 7.515625 30.078125 7.515625 \nQ 37.359375 7.515625 41.375 12.890625 \nQ 45.40625 18.265625 45.40625 27.984375 \nz\nM 54.390625 6.78125 \nQ 54.390625 -7.171875 48.1875 -13.984375 \nQ 42 -20.796875 29.203125 -20.796875 \nQ 24.46875 -20.796875 20.265625 -20.09375 \nQ 16.0625 -19.390625 12.109375 -17.921875 \nL 12.109375 -9.1875 \nQ 16.0625 -11.328125 19.921875 -12.34375 \nQ 23.78125 -13.375 27.78125 -13.375 \nQ 36.625 -13.375 41.015625 -8.765625 \nQ 45.40625 -4.15625 45.40625 5.171875 \nL 45.40625 9.625 \nQ 42.625 4.78125 38.28125 2.390625 \nQ 33.9375 0 27.875 0 \nQ 17.828125 0 11.671875 7.65625 \nQ 5.515625 15.328125 5.515625 27.984375 \nQ 5.515625 40.671875 11.671875 48.328125 \nQ 17.828125 56 27.875 56 \nQ 33.9375 56 38.28125 53.609375 \nQ 42.625 51.21875 45.40625 46.390625 \nL 45.40625 54.6875 \nL 54.390625 54.6875 \nz\n\" id=\"DejaVuSans-103\"/>\n      <path d=\"M 54.890625 33.015625 \nL 54.890625 0 \nL 45.90625 0 \nL 45.90625 32.71875 \nQ 45.90625 40.484375 42.875 44.328125 \nQ 39.84375 48.1875 33.796875 48.1875 \nQ 26.515625 48.1875 22.3125 43.546875 \nQ 18.109375 38.921875 18.109375 30.90625 \nL 18.109375 0 \nL 9.078125 0 \nL 9.078125 54.6875 \nL 18.109375 54.6875 \nL 18.109375 46.1875 \nQ 21.34375 51.125 25.703125 53.5625 \nQ 30.078125 56 35.796875 56 \nQ 45.21875 56 50.046875 50.171875 \nQ 54.890625 44.34375 54.890625 33.015625 \nz\n\" id=\"DejaVuSans-110\"/>\n     </defs>\n     <g transform=\"translate(648.103125 42.296094)scale(0.1 -0.1)\">\n      <use xlink:href=\"#DejaVuSans-Oblique-951\"/>\n      <use transform=\"translate(63.378906 -16.40625)scale(0.7)\" xlink:href=\"#DejaVuSans-103\"/>\n      <use transform=\"translate(107.8125 -16.40625)scale(0.7)\" xlink:href=\"#DejaVuSans-101\"/>\n      <use transform=\"translate(150.878906 -16.40625)scale(0.7)\" xlink:href=\"#DejaVuSans-110\"/>\n     </g>\n    </g>\n    <g id=\"line2d_40\">\n     <path d=\"M 620.103125 54.494531 \nL 640.103125 54.494531 \n\" style=\"fill:none;stroke:#2ca02c;stroke-linecap:square;stroke-width:1.5;\"/>\n    </g>\n    <g id=\"line2d_41\"/>\n    <g id=\"text_20\">\n     <!-- $\\eta_\\mathrm{turb}\\,\\eta_\\mathrm{gen}$ -->\n     <g transform=\"translate(648.103125 57.994531)scale(0.1 -0.1)\">\n      <use xlink:href=\"#DejaVuSans-Oblique-951\"/>\n      <use transform=\"translate(63.378906 -16.40625)scale(0.7)\" xlink:href=\"#DejaVuSans-116\"/>\n      <use transform=\"translate(90.825195 -16.40625)scale(0.7)\" xlink:href=\"#DejaVuSans-117\"/>\n      <use transform=\"translate(135.19043 -16.40625)scale(0.7)\" xlink:href=\"#DejaVuSans-114\"/>\n      <use transform=\"translate(163.969727 -16.40625)scale(0.7)\" xlink:href=\"#DejaVuSans-98\"/>\n      <use transform=\"translate(227.373372 0)\" xlink:href=\"#DejaVuSans-Oblique-951\"/>\n      <use transform=\"translate(290.752278 -16.40625)scale(0.7)\" xlink:href=\"#DejaVuSans-103\"/>\n      <use transform=\"translate(335.185872 -16.40625)scale(0.7)\" xlink:href=\"#DejaVuSans-101\"/>\n      <use transform=\"translate(378.252278 -16.40625)scale(0.7)\" xlink:href=\"#DejaVuSans-110\"/>\n     </g>\n    </g>\n   </g>\n  </g>\n </g>\n <defs>\n  <clipPath id=\"p3a3537bf4f\">\n   <rect height=\"163.08\" width=\"669.6\" x=\"30.103125\" y=\"10.999219\"/>\n  </clipPath>\n </defs>\n</svg>\n"
          },
          "metadata": {
            "tags": [],
            "needs_background": "light"
          }
        }
      ]
    },
    {
      "cell_type": "code",
      "metadata": {
        "id": "VmlbEm_JF7Q5"
      },
      "source": [
        ""
      ],
      "execution_count": null,
      "outputs": []
    }
  ]
}
