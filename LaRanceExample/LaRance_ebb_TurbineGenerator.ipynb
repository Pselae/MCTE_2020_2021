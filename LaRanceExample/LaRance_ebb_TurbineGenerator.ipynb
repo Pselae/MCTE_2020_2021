{
  "nbformat": 4,
  "nbformat_minor": 0,
  "metadata": {
    "kernelspec": {
      "display_name": "Python 3",
      "language": "python",
      "name": "python3"
    },
    "language_info": {
      "codemirror_mode": {
        "name": "ipython",
        "version": 3
      },
      "file_extension": ".py",
      "mimetype": "text/x-python",
      "name": "python",
      "nbconvert_exporter": "python",
      "pygments_lexer": "ipython3",
      "version": "3.7.6"
    },
    "colab": {
      "name": "LaRance_ebb_const_Q.ipynb",
      "provenance": [],
      "include_colab_link": true
    }
  },
  "cells": [
    {
      "cell_type": "markdown",
      "metadata": {
        "id": "view-in-github",
        "colab_type": "text"
      },
      "source": [
        "<a href=\"https://colab.research.google.com/github/joaochenriques/MCTE_2020_2021/blob/main/LaRanceExample/LaRance_ebb_TurbineGenerator.ipynb\" target=\"_parent\"><img src=\"https://colab.research.google.com/assets/colab-badge.svg\" alt=\"Open In Colab\"/></a>"
      ]
    },
    {
      "cell_type": "code",
      "metadata": {
        "id": "y0PSNQCFH9QU"
      },
      "source": [
        "import matplotlib.pyplot as mpl\n",
        "import numpy as np\n",
        "%config InlineBackend.figure_formats = ['svg']\n",
        "mpl.rcParams[\"figure.figsize\"] = (12, 3)"
      ],
      "execution_count": 1,
      "outputs": []
    },
    {
      "cell_type": "code",
      "metadata": {
        "id": "4eesXVcLBZfw"
      },
      "source": [
        "class Generator:\n",
        "\n",
        "  def __init__( self ):\n",
        "    self.poly_C1 = np.poly1d( np.array([-6.71448631e+03,  2.59159775e+03, \n",
        "                                        -3.80834059e+02,  2.70423225e+01, \n",
        "                                        3.29394948e-03]) )\n",
        "    self.poly_C2 = np.poly1d( np.array([-1.16856952,  3.31172525, -3.44296217,  \n",
        "                                        1.5416029 ,  0.71040716]) )\n",
        "      \n",
        "  def eta( self, load ):\n",
        "    assert( load >= 0 and load <= 1.0 )\n",
        "    if load < 0.125423729:\n",
        "      return self.poly_C1( load ) \n",
        "    else:\n",
        "      return self.poly_C2( load ) "
      ],
      "execution_count": 2,
      "outputs": []
    },
    {
      "cell_type": "code",
      "metadata": {
        "id": "rQdDsgXYB7n3"
      },
      "source": [
        "class Turbine:\n",
        "\n",
        "  def __init__( self ):\n",
        "    self.poly_CQ1 = np.poly1d( np.array([0.16928201, 0.08989368]) )\n",
        "    self.poly_CQ2 = np.poly1d( np.array([-3.63920467e-04,  9.37677378e-03, \n",
        "                                         -9.25873626e-02,  1.75687197e+00]) )\n",
        "\n",
        "    self.poly_CE1 = np.poly1d( np.array([-0.02076456, 0.20238444, 0.48984553]) )\n",
        "    self.poly_CE2 = np.poly1d( np.array([-2.75685709e-04,  2.04822984e-03,  \n",
        "                                         6.86081825e-04,  7.93083108e-01]) )\n",
        "\n",
        "  def Q11( self, n11 ):\n",
        "    assert( n11 >= 4.38 and n11 <= 17.17 )\n",
        "    if n11 < 7.92193025936073:\n",
        "      return self.poly_CQ1( n11 ) \n",
        "    else:\n",
        "      return self.poly_CQ2( n11 )\n",
        "\n",
        "  def eta( self, n11 ):\n",
        "    assert( n11 >= 4.38 and n11 <= 17.17 )\n",
        "    if n11 < 7.92193025936073:\n",
        "      return self.poly_CE1( n11 ) \n",
        "    else:\n",
        "      return self.poly_CE2( n11 )"
      ],
      "execution_count": 3,
      "outputs": []
    },
    {
      "cell_type": "code",
      "metadata": {
        "id": "mzMGi_OAH9QY"
      },
      "source": [
        "π = np.pi\n",
        "two_π = 2.0 * π\n",
        "ga = 9.8 # gravity aceleration\n",
        "ρw = 1025.0 # water density"
      ],
      "execution_count": 4,
      "outputs": []
    },
    {
      "cell_type": "markdown",
      "metadata": {
        "id": "mvfPkPOgVh-_"
      },
      "source": [
        "\"La Rance\" data"
      ]
    },
    {
      "cell_type": "code",
      "metadata": {
        "id": "YJ1ZDGdcH9QZ"
      },
      "source": [
        "S_bas = 22.0 * 1000.0**2 # basin area [m^2]\n",
        "n_turbs = 24 # number of turbines\n",
        "n_gates = 6  # number of sluice gates\n",
        "G_ε = 2025.0 # ( n_gates * Q_sluices + n_turbs * Q_turb ) / sqrt( 2g H_rated)\n",
        "D_turb = 5.35\n",
        "CT1 = D_turb**2 * np.sqrt( ga )\n",
        "CT2 = ρw * D_turb**2 * ga**1.5"
      ],
      "execution_count": 47,
      "outputs": []
    },
    {
      "cell_type": "markdown",
      "metadata": {
        "id": "GNoYeTAiTZcG"
      },
      "source": [
        ""
      ]
    },
    {
      "cell_type": "code",
      "metadata": {
        "id": "VplKeigIRmXx"
      },
      "source": [
        "ζ_tid = 4.75 # tide amplitude"
      ],
      "execution_count": 48,
      "outputs": []
    },
    {
      "cell_type": "code",
      "metadata": {
        "id": "4w3MMRYoH9Qa"
      },
      "source": [
        "A_gates = 10*15 * n_gates # Sluice gates area\n",
        "A_turbs = π*(D_turb/2)**2 * n_turbs # Turbines area"
      ],
      "execution_count": 49,
      "outputs": []
    },
    {
      "cell_type": "code",
      "metadata": {
        "id": "-j4hVs4ROfnQ",
        "colab": {
          "base_uri": "https://localhost:8080/",
          "height": 352
        },
        "outputId": "ee1fafda-5ba6-4ae3-f334-e8be2de5c5fd"
      },
      "source": [
        "Per = 12.0*3600.0 + 25.2*60.0\n",
        "kp = 5 # number of periods\n",
        "\n",
        "# time points\n",
        "t_vec  = np.linspace( 0.0, kp*Per, kp*300 )\n",
        "delta_t = t_vec[1]\n",
        "\n",
        "# the tidel level\n",
        "y_vec = ζ_tid * np.cos( two_π * t_vec / Per )\n",
        "\n",
        "mpl.plot( t_vec, y_vec );"
      ],
      "execution_count": 50,
      "outputs": [
        {
          "output_type": "display_data",
          "data": {
            "text/plain": [
              "<Figure size 432x288 with 1 Axes>"
            ],
            "image/svg+xml": "<?xml version=\"1.0\" encoding=\"utf-8\" standalone=\"no\"?>\n<!DOCTYPE svg PUBLIC \"-//W3C//DTD SVG 1.1//EN\"\n  \"http://www.w3.org/Graphics/SVG/1.1/DTD/svg11.dtd\">\n<!-- Created with matplotlib (https://matplotlib.org/) -->\n<svg height=\"248.518125pt\" version=\"1.1\" viewBox=\"0 0 370.942187 248.518125\" width=\"370.942187pt\" xmlns=\"http://www.w3.org/2000/svg\" xmlns:xlink=\"http://www.w3.org/1999/xlink\">\n <defs>\n  <style type=\"text/css\">\n*{stroke-linecap:butt;stroke-linejoin:round;}\n  </style>\n </defs>\n <g id=\"figure_1\">\n  <g id=\"patch_1\">\n   <path d=\"M 0 248.518125 \nL 370.942187 248.518125 \nL 370.942187 0 \nL 0 0 \nz\n\" style=\"fill:none;\"/>\n  </g>\n  <g id=\"axes_1\">\n   <g id=\"patch_2\">\n    <path d=\"M 28.942188 224.64 \nL 363.742188 224.64 \nL 363.742188 7.2 \nL 28.942188 7.2 \nz\n\" style=\"fill:#ffffff;\"/>\n   </g>\n   <g id=\"matplotlib.axis_1\">\n    <g id=\"xtick_1\">\n     <g id=\"line2d_1\">\n      <defs>\n       <path d=\"M 0 0 \nL 0 3.5 \n\" id=\"m8cce4e174d\" style=\"stroke:#000000;stroke-width:0.8;\"/>\n      </defs>\n      <g>\n       <use style=\"stroke:#000000;stroke-width:0.8;\" x=\"44.160369\" xlink:href=\"#m8cce4e174d\" y=\"224.64\"/>\n      </g>\n     </g>\n     <g id=\"text_1\">\n      <!-- 0 -->\n      <defs>\n       <path d=\"M 31.78125 66.40625 \nQ 24.171875 66.40625 20.328125 58.90625 \nQ 16.5 51.421875 16.5 36.375 \nQ 16.5 21.390625 20.328125 13.890625 \nQ 24.171875 6.390625 31.78125 6.390625 \nQ 39.453125 6.390625 43.28125 13.890625 \nQ 47.125 21.390625 47.125 36.375 \nQ 47.125 51.421875 43.28125 58.90625 \nQ 39.453125 66.40625 31.78125 66.40625 \nz\nM 31.78125 74.21875 \nQ 44.046875 74.21875 50.515625 64.515625 \nQ 56.984375 54.828125 56.984375 36.375 \nQ 56.984375 17.96875 50.515625 8.265625 \nQ 44.046875 -1.421875 31.78125 -1.421875 \nQ 19.53125 -1.421875 13.0625 8.265625 \nQ 6.59375 17.96875 6.59375 36.375 \nQ 6.59375 54.828125 13.0625 64.515625 \nQ 19.53125 74.21875 31.78125 74.21875 \nz\n\" id=\"DejaVuSans-48\"/>\n      </defs>\n      <g transform=\"translate(40.979119 239.238437)scale(0.1 -0.1)\">\n       <use xlink:href=\"#DejaVuSans-48\"/>\n      </g>\n     </g>\n    </g>\n    <g id=\"xtick_2\">\n     <g id=\"line2d_2\">\n      <g>\n       <use style=\"stroke:#000000;stroke-width:0.8;\" x=\"112.232394\" xlink:href=\"#m8cce4e174d\" y=\"224.64\"/>\n      </g>\n     </g>\n     <g id=\"text_2\">\n      <!-- 50000 -->\n      <defs>\n       <path d=\"M 10.796875 72.90625 \nL 49.515625 72.90625 \nL 49.515625 64.59375 \nL 19.828125 64.59375 \nL 19.828125 46.734375 \nQ 21.96875 47.46875 24.109375 47.828125 \nQ 26.265625 48.1875 28.421875 48.1875 \nQ 40.625 48.1875 47.75 41.5 \nQ 54.890625 34.8125 54.890625 23.390625 \nQ 54.890625 11.625 47.5625 5.09375 \nQ 40.234375 -1.421875 26.90625 -1.421875 \nQ 22.3125 -1.421875 17.546875 -0.640625 \nQ 12.796875 0.140625 7.71875 1.703125 \nL 7.71875 11.625 \nQ 12.109375 9.234375 16.796875 8.0625 \nQ 21.484375 6.890625 26.703125 6.890625 \nQ 35.15625 6.890625 40.078125 11.328125 \nQ 45.015625 15.765625 45.015625 23.390625 \nQ 45.015625 31 40.078125 35.4375 \nQ 35.15625 39.890625 26.703125 39.890625 \nQ 22.75 39.890625 18.8125 39.015625 \nQ 14.890625 38.140625 10.796875 36.28125 \nz\n\" id=\"DejaVuSans-53\"/>\n      </defs>\n      <g transform=\"translate(96.326144 239.238437)scale(0.1 -0.1)\">\n       <use xlink:href=\"#DejaVuSans-53\"/>\n       <use x=\"63.623047\" xlink:href=\"#DejaVuSans-48\"/>\n       <use x=\"127.246094\" xlink:href=\"#DejaVuSans-48\"/>\n       <use x=\"190.869141\" xlink:href=\"#DejaVuSans-48\"/>\n       <use x=\"254.492188\" xlink:href=\"#DejaVuSans-48\"/>\n      </g>\n     </g>\n    </g>\n    <g id=\"xtick_3\">\n     <g id=\"line2d_3\">\n      <g>\n       <use style=\"stroke:#000000;stroke-width:0.8;\" x=\"180.304419\" xlink:href=\"#m8cce4e174d\" y=\"224.64\"/>\n      </g>\n     </g>\n     <g id=\"text_3\">\n      <!-- 100000 -->\n      <defs>\n       <path d=\"M 12.40625 8.296875 \nL 28.515625 8.296875 \nL 28.515625 63.921875 \nL 10.984375 60.40625 \nL 10.984375 69.390625 \nL 28.421875 72.90625 \nL 38.28125 72.90625 \nL 38.28125 8.296875 \nL 54.390625 8.296875 \nL 54.390625 0 \nL 12.40625 0 \nz\n\" id=\"DejaVuSans-49\"/>\n      </defs>\n      <g transform=\"translate(161.216919 239.238437)scale(0.1 -0.1)\">\n       <use xlink:href=\"#DejaVuSans-49\"/>\n       <use x=\"63.623047\" xlink:href=\"#DejaVuSans-48\"/>\n       <use x=\"127.246094\" xlink:href=\"#DejaVuSans-48\"/>\n       <use x=\"190.869141\" xlink:href=\"#DejaVuSans-48\"/>\n       <use x=\"254.492188\" xlink:href=\"#DejaVuSans-48\"/>\n       <use x=\"318.115234\" xlink:href=\"#DejaVuSans-48\"/>\n      </g>\n     </g>\n    </g>\n    <g id=\"xtick_4\">\n     <g id=\"line2d_4\">\n      <g>\n       <use style=\"stroke:#000000;stroke-width:0.8;\" x=\"248.376443\" xlink:href=\"#m8cce4e174d\" y=\"224.64\"/>\n      </g>\n     </g>\n     <g id=\"text_4\">\n      <!-- 150000 -->\n      <g transform=\"translate(229.288943 239.238437)scale(0.1 -0.1)\">\n       <use xlink:href=\"#DejaVuSans-49\"/>\n       <use x=\"63.623047\" xlink:href=\"#DejaVuSans-53\"/>\n       <use x=\"127.246094\" xlink:href=\"#DejaVuSans-48\"/>\n       <use x=\"190.869141\" xlink:href=\"#DejaVuSans-48\"/>\n       <use x=\"254.492188\" xlink:href=\"#DejaVuSans-48\"/>\n       <use x=\"318.115234\" xlink:href=\"#DejaVuSans-48\"/>\n      </g>\n     </g>\n    </g>\n    <g id=\"xtick_5\">\n     <g id=\"line2d_5\">\n      <g>\n       <use style=\"stroke:#000000;stroke-width:0.8;\" x=\"316.448468\" xlink:href=\"#m8cce4e174d\" y=\"224.64\"/>\n      </g>\n     </g>\n     <g id=\"text_5\">\n      <!-- 200000 -->\n      <defs>\n       <path d=\"M 19.1875 8.296875 \nL 53.609375 8.296875 \nL 53.609375 0 \nL 7.328125 0 \nL 7.328125 8.296875 \nQ 12.9375 14.109375 22.625 23.890625 \nQ 32.328125 33.6875 34.8125 36.53125 \nQ 39.546875 41.84375 41.421875 45.53125 \nQ 43.3125 49.21875 43.3125 52.78125 \nQ 43.3125 58.59375 39.234375 62.25 \nQ 35.15625 65.921875 28.609375 65.921875 \nQ 23.96875 65.921875 18.8125 64.3125 \nQ 13.671875 62.703125 7.8125 59.421875 \nL 7.8125 69.390625 \nQ 13.765625 71.78125 18.9375 73 \nQ 24.125 74.21875 28.421875 74.21875 \nQ 39.75 74.21875 46.484375 68.546875 \nQ 53.21875 62.890625 53.21875 53.421875 \nQ 53.21875 48.921875 51.53125 44.890625 \nQ 49.859375 40.875 45.40625 35.40625 \nQ 44.1875 33.984375 37.640625 27.21875 \nQ 31.109375 20.453125 19.1875 8.296875 \nz\n\" id=\"DejaVuSans-50\"/>\n      </defs>\n      <g transform=\"translate(297.360968 239.238437)scale(0.1 -0.1)\">\n       <use xlink:href=\"#DejaVuSans-50\"/>\n       <use x=\"63.623047\" xlink:href=\"#DejaVuSans-48\"/>\n       <use x=\"127.246094\" xlink:href=\"#DejaVuSans-48\"/>\n       <use x=\"190.869141\" xlink:href=\"#DejaVuSans-48\"/>\n       <use x=\"254.492188\" xlink:href=\"#DejaVuSans-48\"/>\n       <use x=\"318.115234\" xlink:href=\"#DejaVuSans-48\"/>\n      </g>\n     </g>\n    </g>\n   </g>\n   <g id=\"matplotlib.axis_2\">\n    <g id=\"ytick_1\">\n     <g id=\"line2d_6\">\n      <defs>\n       <path d=\"M 0 0 \nL -3.5 0 \n\" id=\"m97fd33fd76\" style=\"stroke:#000000;stroke-width:0.8;\"/>\n      </defs>\n      <g>\n       <use style=\"stroke:#000000;stroke-width:0.8;\" x=\"28.942188\" xlink:href=\"#m97fd33fd76\" y=\"199.150822\"/>\n      </g>\n     </g>\n     <g id=\"text_6\">\n      <!-- −4 -->\n      <defs>\n       <path d=\"M 10.59375 35.5 \nL 73.1875 35.5 \nL 73.1875 27.203125 \nL 10.59375 27.203125 \nz\n\" id=\"DejaVuSans-8722\"/>\n       <path d=\"M 37.796875 64.3125 \nL 12.890625 25.390625 \nL 37.796875 25.390625 \nz\nM 35.203125 72.90625 \nL 47.609375 72.90625 \nL 47.609375 25.390625 \nL 58.015625 25.390625 \nL 58.015625 17.1875 \nL 47.609375 17.1875 \nL 47.609375 0 \nL 37.796875 0 \nL 37.796875 17.1875 \nL 4.890625 17.1875 \nL 4.890625 26.703125 \nz\n\" id=\"DejaVuSans-52\"/>\n      </defs>\n      <g transform=\"translate(7.2 202.950041)scale(0.1 -0.1)\">\n       <use xlink:href=\"#DejaVuSans-8722\"/>\n       <use x=\"83.789062\" xlink:href=\"#DejaVuSans-52\"/>\n      </g>\n     </g>\n    </g>\n    <g id=\"ytick_2\">\n     <g id=\"line2d_7\">\n      <g>\n       <use style=\"stroke:#000000;stroke-width:0.8;\" x=\"28.942188\" xlink:href=\"#m97fd33fd76\" y=\"157.535465\"/>\n      </g>\n     </g>\n     <g id=\"text_7\">\n      <!-- −2 -->\n      <g transform=\"translate(7.2 161.334684)scale(0.1 -0.1)\">\n       <use xlink:href=\"#DejaVuSans-8722\"/>\n       <use x=\"83.789062\" xlink:href=\"#DejaVuSans-50\"/>\n      </g>\n     </g>\n    </g>\n    <g id=\"ytick_3\">\n     <g id=\"line2d_8\">\n      <g>\n       <use style=\"stroke:#000000;stroke-width:0.8;\" x=\"28.942188\" xlink:href=\"#m97fd33fd76\" y=\"115.920109\"/>\n      </g>\n     </g>\n     <g id=\"text_8\">\n      <!-- 0 -->\n      <g transform=\"translate(15.579688 119.719327)scale(0.1 -0.1)\">\n       <use xlink:href=\"#DejaVuSans-48\"/>\n      </g>\n     </g>\n    </g>\n    <g id=\"ytick_4\">\n     <g id=\"line2d_9\">\n      <g>\n       <use style=\"stroke:#000000;stroke-width:0.8;\" x=\"28.942188\" xlink:href=\"#m97fd33fd76\" y=\"74.304752\"/>\n      </g>\n     </g>\n     <g id=\"text_9\">\n      <!-- 2 -->\n      <g transform=\"translate(15.579688 78.103971)scale(0.1 -0.1)\">\n       <use xlink:href=\"#DejaVuSans-50\"/>\n      </g>\n     </g>\n    </g>\n    <g id=\"ytick_5\">\n     <g id=\"line2d_10\">\n      <g>\n       <use style=\"stroke:#000000;stroke-width:0.8;\" x=\"28.942188\" xlink:href=\"#m97fd33fd76\" y=\"32.689395\"/>\n      </g>\n     </g>\n     <g id=\"text_10\">\n      <!-- 4 -->\n      <g transform=\"translate(15.579688 36.488614)scale(0.1 -0.1)\">\n       <use xlink:href=\"#DejaVuSans-52\"/>\n      </g>\n     </g>\n    </g>\n   </g>\n   <g id=\"line2d_11\">\n    <path clip-path=\"url(#pbc4a169790)\" d=\"M 44.160369 17.083636 \nL 44.566458 17.170448 \nL 44.972547 17.430732 \nL 45.58168 18.145334 \nL 46.190814 19.246322 \nL 47.002992 21.307616 \nL 47.815169 24.033434 \nL 48.830392 28.345593 \nL 49.845614 33.618515 \nL 51.063881 41.132076 \nL 52.485192 51.381192 \nL 54.109548 64.778037 \nL 56.139992 83.493044 \nL 59.185659 113.952402 \nL 63.246548 154.340414 \nL 65.276993 172.445296 \nL 66.901348 185.182784 \nL 68.322659 194.745562 \nL 69.540926 201.601182 \nL 70.556148 206.284588 \nL 71.571371 209.976621 \nL 72.383548 212.188863 \nL 73.195726 213.724948 \nL 73.80486 214.426613 \nL 74.413993 214.738999 \nL 74.820082 214.730317 \nL 75.226171 214.548058 \nL 75.835304 213.949993 \nL 76.444437 212.964532 \nL 77.053571 211.595571 \nL 77.865749 209.183298 \nL 78.677926 206.115979 \nL 79.693149 201.393916 \nL 80.911415 194.494945 \nL 82.332727 184.886638 \nL 83.957082 172.104958 \nL 85.784482 155.861741 \nL 88.221016 132.107401 \nL 94.312349 71.668678 \nL 96.342794 54.250316 \nL 97.96715 42.225932 \nL 99.388461 33.389844 \nL 100.606727 27.221091 \nL 101.62195 23.146964 \nL 102.434128 20.618703 \nL 103.246305 18.759805 \nL 103.855439 17.812934 \nL 104.464572 17.253764 \nL 104.870661 17.097528 \nL 105.27675 17.114892 \nL 105.682839 17.305825 \nL 106.291972 17.916849 \nL 106.901106 18.915164 \nL 107.713283 20.841664 \nL 108.525461 23.435961 \nL 109.540683 27.589726 \nL 110.555906 32.712547 \nL 111.774172 40.059242 \nL 113.195484 50.135265 \nL 114.819839 63.367259 \nL 116.850284 81.932276 \nL 119.692906 110.226892 \nL 124.159884 154.721775 \nL 126.190329 172.784641 \nL 127.814684 185.477714 \nL 129.235995 194.994793 \nL 130.454262 201.806943 \nL 131.469484 206.451609 \nL 132.484707 210.103071 \nL 133.296885 212.281835 \nL 134.109062 213.78379 \nL 134.718196 214.459572 \nL 135.327329 214.745945 \nL 135.733418 214.719899 \nL 136.139507 214.520294 \nL 136.74864 213.896313 \nL 137.357774 212.885148 \nL 138.169951 210.941768 \nL 138.982129 208.33099 \nL 139.997352 204.157362 \nL 141.012574 199.015698 \nL 142.230841 191.648031 \nL 143.652152 181.550215 \nL 145.276507 168.297411 \nL 147.306952 149.713359 \nL 150.352619 119.337249 \nL 154.616552 76.928016 \nL 156.646997 58.886277 \nL 158.271352 46.215497 \nL 159.692664 36.721328 \nL 160.91093 29.93096 \nL 161.926153 25.305693 \nL 162.941375 21.674541 \nL 163.753553 19.512531 \nL 164.56573 18.027652 \nL 165.174864 17.364815 \nL 165.783997 17.09145 \nL 166.190086 17.126177 \nL 166.596175 17.334454 \nL 167.205308 17.97139 \nL 167.814442 18.995401 \nL 168.62662 20.955652 \nL 169.438797 23.582899 \nL 170.45402 27.776373 \nL 171.469242 32.936856 \nL 172.687509 40.325463 \nL 174.10882 50.445027 \nL 175.733175 63.718584 \nL 177.76362 82.321589 \nL 180.809287 112.709992 \nL 185.07322 155.102455 \nL 187.103665 173.122988 \nL 188.72802 185.771421 \nL 190.149332 195.242636 \nL 191.367598 202.011194 \nL 192.382821 206.61704 \nL 193.398043 210.227866 \nL 194.210221 212.373114 \nL 195.022399 213.840911 \nL 195.631532 214.490799 \nL 196.240665 214.751154 \nL 196.646754 214.707746 \nL 197.052843 214.490799 \nL 197.661976 213.840911 \nL 198.27111 212.804059 \nL 199.083288 210.826946 \nL 199.895465 208.183241 \nL 200.910688 203.96994 \nL 201.92591 198.79066 \nL 203.144177 191.381145 \nL 204.565488 181.239878 \nL 206.189844 167.945626 \nL 208.220288 149.323749 \nL 211.265955 118.923187 \nL 215.529888 76.547681 \nL 217.560333 58.548433 \nL 219.184689 45.922402 \nL 220.606 36.474182 \nL 221.824266 29.727464 \nL 222.839489 25.141059 \nL 223.854711 21.550574 \nL 224.666889 19.422099 \nL 225.479067 17.97139 \nL 226.0882 17.334454 \nL 226.697333 17.087109 \nL 227.103422 17.139199 \nL 227.509511 17.364815 \nL 228.118645 18.027652 \nL 228.727778 19.07734 \nL 229.539956 21.071308 \nL 230.352134 23.731458 \nL 231.367356 27.964569 \nL 232.382578 33.162623 \nL 233.600845 40.593012 \nL 235.022156 50.755939 \nL 236.646512 64.070826 \nL 238.676956 82.711493 \nL 241.722623 113.124082 \nL 245.986556 155.482445 \nL 248.017001 173.460329 \nL 249.641357 186.063901 \nL 251.062668 195.489085 \nL 252.280935 202.213933 \nL 253.296157 206.780878 \nL 254.311379 210.351005 \nL 255.123557 212.462699 \nL 255.935735 213.896313 \nL 256.544868 214.520294 \nL 256.950957 214.719899 \nL 257.357046 214.745945 \nL 257.763135 214.598385 \nL 258.372268 214.052185 \nL 258.981402 213.118185 \nL 259.590535 211.800078 \nL 260.402713 209.454319 \nL 261.214891 206.451609 \nL 262.230113 201.806943 \nL 263.44838 194.994793 \nL 264.869691 185.477714 \nL 266.494046 172.784641 \nL 268.321446 156.618221 \nL 270.75798 132.924197 \nL 277.052358 70.56089 \nL 278.879758 54.899962 \nL 280.504114 42.780648 \nL 281.925425 33.848633 \nL 283.143692 27.589726 \nL 284.158914 23.435961 \nL 284.971092 20.841664 \nL 285.783269 18.915164 \nL 286.392403 17.916849 \nL 287.001536 17.305825 \nL 287.407625 17.114892 \nL 287.813714 17.097528 \nL 288.219803 17.253764 \nL 288.828936 17.812934 \nL 289.43807 18.759805 \nL 290.047203 20.090635 \nL 290.859381 22.453038 \nL 291.671559 25.47192 \nL 292.686781 30.135966 \nL 293.905048 36.969866 \nL 295.326359 46.509816 \nL 296.950714 59.225124 \nL 298.778114 75.41085 \nL 301.214648 99.120109 \nL 307.509026 161.463266 \nL 309.336426 177.10307 \nL 310.960782 189.198731 \nL 312.382093 198.106824 \nL 313.60036 204.343233 \nL 314.615582 208.477115 \nL 315.42776 211.05492 \nL 316.239938 212.964532 \nL 316.849071 213.949993 \nL 317.458204 214.548058 \nL 317.864293 214.730317 \nL 318.270382 214.738999 \nL 318.676471 214.574088 \nL 319.285604 214.00195 \nL 319.894738 213.042212 \nL 320.503871 211.698666 \nL 321.316049 209.319629 \nL 322.128227 206.284588 \nL 323.143449 201.601182 \nL 324.361716 194.745562 \nL 325.783027 185.182784 \nL 327.407382 172.445296 \nL 329.234783 156.240335 \nL 331.671316 132.515945 \nL 337.965694 70.193212 \nL 339.793094 54.5746 \nL 341.41745 42.502645 \nL 342.838761 33.618515 \nL 344.057028 27.404631 \nL 345.07225 23.290649 \nL 345.884428 20.729348 \nL 346.696606 18.836632 \nL 347.305739 17.86403 \nL 347.914872 17.278928 \nL 348.320961 17.105342 \nL 348.524006 17.083636 \nL 348.524006 17.083636 \n\" style=\"fill:none;stroke:#1f77b4;stroke-linecap:square;stroke-width:1.5;\"/>\n   </g>\n   <g id=\"patch_3\">\n    <path d=\"M 28.942188 224.64 \nL 28.942188 7.2 \n\" style=\"fill:none;stroke:#000000;stroke-linecap:square;stroke-linejoin:miter;stroke-width:0.8;\"/>\n   </g>\n   <g id=\"patch_4\">\n    <path d=\"M 363.742188 224.64 \nL 363.742188 7.2 \n\" style=\"fill:none;stroke:#000000;stroke-linecap:square;stroke-linejoin:miter;stroke-width:0.8;\"/>\n   </g>\n   <g id=\"patch_5\">\n    <path d=\"M 28.942188 224.64 \nL 363.742188 224.64 \n\" style=\"fill:none;stroke:#000000;stroke-linecap:square;stroke-linejoin:miter;stroke-width:0.8;\"/>\n   </g>\n   <g id=\"patch_6\">\n    <path d=\"M 28.942188 7.2 \nL 363.742188 7.2 \n\" style=\"fill:none;stroke:#000000;stroke-linecap:square;stroke-linejoin:miter;stroke-width:0.8;\"/>\n   </g>\n  </g>\n </g>\n <defs>\n  <clipPath id=\"pbc4a169790\">\n   <rect height=\"217.44\" width=\"334.8\" x=\"28.942188\" y=\"7.2\"/>\n  </clipPath>\n </defs>\n</svg>\n"
          },
          "metadata": {
            "tags": [],
            "needs_background": "light"
          }
        }
      ]
    },
    {
      "cell_type": "code",
      "metadata": {
        "colab": {
          "base_uri": "https://localhost:8080/",
          "height": 403
        },
        "id": "18snnDcZH9Qb",
        "outputId": "23de0db8-2ada-4b67-f767-c3bdef1d090d"
      },
      "source": [
        "Turb = Turbine()\n",
        "Omega = 93.75 * π / 30.0\n",
        "\n",
        "# initial control stage\n",
        "u = 0 \n",
        "u_vec = np.zeros( t_vec.size ) # stores the control stage\n",
        "\n",
        "# instantaneous power\n",
        "P_vec = np.zeros( t_vec.size )\n",
        "\n",
        "# volume vector\n",
        "V_vec = np.zeros( t_vec.size )\n",
        "\n",
        "# flow rate vector\n",
        "Q_vec = np.zeros( t_vec.size )\n",
        "\n",
        "# initial condition\n",
        "V_vec[0] = S_bas * 5.0#y_vec[0]\n",
        "\n",
        "# minimum h for turbine starting\n",
        "h_min = 7\n",
        "\n",
        "for i, t in enumerate( t_vec[:-1] ): \n",
        "  z0 = V_vec[i] / S_bas \n",
        "  h = z0 - y_vec[i]\n",
        "  \n",
        "  #__STAGE 0_________________________\n",
        "  if u == 0:\n",
        "    if h > 0.0 and h > h_min: \n",
        "      u = 1\n",
        "      n11 = Omega * D_turb / np.sqrt( ga * h )\n",
        "      Q = n_turbs * CT1 * Turb.Q11( n11 ) * np.sqrt( h )\n",
        "      E = 0.0\n",
        "    else:\n",
        "      Q = 0.0\n",
        "  \n",
        "  #__STAGE 1_________________________\n",
        "  elif u == 1:\n",
        "    if h <= 0.0:\n",
        "      Q = 0.0\n",
        "      u = 2\n",
        "    else:\n",
        "      n11 = Omega * D_turb / np.sqrt( ga * h )\n",
        "      if n11 <= 17.17:\n",
        "        Q = n_turbs * CT1 * Turb.Q11( n11 ) * np.sqrt( h )\n",
        "      else:\n",
        "        Q = 0.0\n",
        "  #__STAGE 2_________________________\n",
        "  elif u == 2:\n",
        "    if h >= 0.0:\n",
        "      Q = 0.0\n",
        "      u = 0\n",
        "    else:\n",
        "      Q = -G_ε*np.sqrt( 2.0*ga*np.abs(h) )\n",
        "      \n",
        "  #__________________________________\n",
        "  if u == 1:\n",
        "    n11 = Omega * D_turb / np.sqrt( ga * h )\n",
        "    if n11 <= 17.17:\n",
        "        Q = n_turbs * CT1 * Turb.Q11( n11 ) * np.sqrt( h )\n",
        "        η = Turb.eta( n11 )\n",
        "        P_vec[i+1] = η * ρw * ga * h * Q\n",
        "      \n",
        "  u_vec[i+1] = u\n",
        "  V_vec[i+1] = V_vec[i] - delta_t * Q\n",
        "\n",
        "P_avg = np.mean(P_vec) / 1E6\n",
        "P_max = np.max( P_vec) / 1E6\n",
        "C_fac = P_avg / P_max\n",
        "\n",
        "print( \"Power = %.2f MW\" % P_avg ) \n",
        "print( \"Max P(t) = %.2f MW\" % P_max ) \n",
        "print( \"Cap factor = %.2f\" % C_fac ) \n",
        "\n",
        "mpl.plot( t_vec/3600, V_vec/S_bas )\n",
        "mpl.plot( t_vec/3600, y_vec, label='Tide' )\n",
        "mpl.plot( t_vec/3600, u_vec, dashes=(9,1) )\n",
        "mpl.legend()\n",
        "mpl.grid()\n",
        "mpl.xlim( 3*Per/3600, 5*Per/3600 );"
      ],
      "execution_count": 51,
      "outputs": [
        {
          "output_type": "stream",
          "text": [
            "Power = 4.66 MW\n",
            "Max P(t) = 18.82 MW\n",
            "Cap factor = 0.25\n"
          ],
          "name": "stdout"
        },
        {
          "output_type": "display_data",
          "data": {
            "text/plain": [
              "<Figure size 432x288 with 1 Axes>"
            ],
            "image/svg+xml": "<?xml version=\"1.0\" encoding=\"utf-8\" standalone=\"no\"?>\n<!DOCTYPE svg PUBLIC \"-//W3C//DTD SVG 1.1//EN\"\n  \"http://www.w3.org/Graphics/SVG/1.1/DTD/svg11.dtd\">\n<!-- Created with matplotlib (https://matplotlib.org/) -->\n<svg height=\"248.518125pt\" version=\"1.1\" viewBox=\"0 0 370.942187 248.518125\" width=\"370.942187pt\" xmlns=\"http://www.w3.org/2000/svg\" xmlns:xlink=\"http://www.w3.org/1999/xlink\">\n <defs>\n  <style type=\"text/css\">\n*{stroke-linecap:butt;stroke-linejoin:round;}\n  </style>\n </defs>\n <g id=\"figure_1\">\n  <g id=\"patch_1\">\n   <path d=\"M 0 248.518125 \nL 370.942187 248.518125 \nL 370.942187 0 \nL 0 0 \nz\n\" style=\"fill:none;\"/>\n  </g>\n  <g id=\"axes_1\">\n   <g id=\"patch_2\">\n    <path d=\"M 28.942188 224.64 \nL 363.742188 224.64 \nL 363.742188 7.2 \nL 28.942188 7.2 \nz\n\" style=\"fill:#ffffff;\"/>\n   </g>\n   <g id=\"matplotlib.axis_1\">\n    <g id=\"xtick_1\">\n     <g id=\"line2d_1\">\n      <path clip-path=\"url(#p56397b880e)\" d=\"M 65.872622 224.64 \nL 65.872622 7.2 \n\" style=\"fill:none;stroke:#b0b0b0;stroke-linecap:square;stroke-width:0.8;\"/>\n     </g>\n     <g id=\"line2d_2\">\n      <defs>\n       <path d=\"M 0 0 \nL 0 3.5 \n\" id=\"m42e074e936\" style=\"stroke:#000000;stroke-width:0.8;\"/>\n      </defs>\n      <g>\n       <use style=\"stroke:#000000;stroke-width:0.8;\" x=\"65.872622\" xlink:href=\"#m42e074e936\" y=\"224.64\"/>\n      </g>\n     </g>\n     <g id=\"text_1\">\n      <!-- 40 -->\n      <defs>\n       <path d=\"M 37.796875 64.3125 \nL 12.890625 25.390625 \nL 37.796875 25.390625 \nz\nM 35.203125 72.90625 \nL 47.609375 72.90625 \nL 47.609375 25.390625 \nL 58.015625 25.390625 \nL 58.015625 17.1875 \nL 47.609375 17.1875 \nL 47.609375 0 \nL 37.796875 0 \nL 37.796875 17.1875 \nL 4.890625 17.1875 \nL 4.890625 26.703125 \nz\n\" id=\"DejaVuSans-52\"/>\n       <path d=\"M 31.78125 66.40625 \nQ 24.171875 66.40625 20.328125 58.90625 \nQ 16.5 51.421875 16.5 36.375 \nQ 16.5 21.390625 20.328125 13.890625 \nQ 24.171875 6.390625 31.78125 6.390625 \nQ 39.453125 6.390625 43.28125 13.890625 \nQ 47.125 21.390625 47.125 36.375 \nQ 47.125 51.421875 43.28125 58.90625 \nQ 39.453125 66.40625 31.78125 66.40625 \nz\nM 31.78125 74.21875 \nQ 44.046875 74.21875 50.515625 64.515625 \nQ 56.984375 54.828125 56.984375 36.375 \nQ 56.984375 17.96875 50.515625 8.265625 \nQ 44.046875 -1.421875 31.78125 -1.421875 \nQ 19.53125 -1.421875 13.0625 8.265625 \nQ 6.59375 17.96875 6.59375 36.375 \nQ 6.59375 54.828125 13.0625 64.515625 \nQ 19.53125 74.21875 31.78125 74.21875 \nz\n\" id=\"DejaVuSans-48\"/>\n      </defs>\n      <g transform=\"translate(59.510122 239.238437)scale(0.1 -0.1)\">\n       <use xlink:href=\"#DejaVuSans-52\"/>\n       <use x=\"63.623047\" xlink:href=\"#DejaVuSans-48\"/>\n      </g>\n     </g>\n    </g>\n    <g id=\"xtick_2\">\n     <g id=\"line2d_3\">\n      <path clip-path=\"url(#p56397b880e)\" d=\"M 133.263927 224.64 \nL 133.263927 7.2 \n\" style=\"fill:none;stroke:#b0b0b0;stroke-linecap:square;stroke-width:0.8;\"/>\n     </g>\n     <g id=\"line2d_4\">\n      <g>\n       <use style=\"stroke:#000000;stroke-width:0.8;\" x=\"133.263927\" xlink:href=\"#m42e074e936\" y=\"224.64\"/>\n      </g>\n     </g>\n     <g id=\"text_2\">\n      <!-- 45 -->\n      <defs>\n       <path d=\"M 10.796875 72.90625 \nL 49.515625 72.90625 \nL 49.515625 64.59375 \nL 19.828125 64.59375 \nL 19.828125 46.734375 \nQ 21.96875 47.46875 24.109375 47.828125 \nQ 26.265625 48.1875 28.421875 48.1875 \nQ 40.625 48.1875 47.75 41.5 \nQ 54.890625 34.8125 54.890625 23.390625 \nQ 54.890625 11.625 47.5625 5.09375 \nQ 40.234375 -1.421875 26.90625 -1.421875 \nQ 22.3125 -1.421875 17.546875 -0.640625 \nQ 12.796875 0.140625 7.71875 1.703125 \nL 7.71875 11.625 \nQ 12.109375 9.234375 16.796875 8.0625 \nQ 21.484375 6.890625 26.703125 6.890625 \nQ 35.15625 6.890625 40.078125 11.328125 \nQ 45.015625 15.765625 45.015625 23.390625 \nQ 45.015625 31 40.078125 35.4375 \nQ 35.15625 39.890625 26.703125 39.890625 \nQ 22.75 39.890625 18.8125 39.015625 \nQ 14.890625 38.140625 10.796875 36.28125 \nz\n\" id=\"DejaVuSans-53\"/>\n      </defs>\n      <g transform=\"translate(126.901427 239.238437)scale(0.1 -0.1)\">\n       <use xlink:href=\"#DejaVuSans-52\"/>\n       <use x=\"63.623047\" xlink:href=\"#DejaVuSans-53\"/>\n      </g>\n     </g>\n    </g>\n    <g id=\"xtick_3\">\n     <g id=\"line2d_5\">\n      <path clip-path=\"url(#p56397b880e)\" d=\"M 200.655231 224.64 \nL 200.655231 7.2 \n\" style=\"fill:none;stroke:#b0b0b0;stroke-linecap:square;stroke-width:0.8;\"/>\n     </g>\n     <g id=\"line2d_6\">\n      <g>\n       <use style=\"stroke:#000000;stroke-width:0.8;\" x=\"200.655231\" xlink:href=\"#m42e074e936\" y=\"224.64\"/>\n      </g>\n     </g>\n     <g id=\"text_3\">\n      <!-- 50 -->\n      <g transform=\"translate(194.292731 239.238437)scale(0.1 -0.1)\">\n       <use xlink:href=\"#DejaVuSans-53\"/>\n       <use x=\"63.623047\" xlink:href=\"#DejaVuSans-48\"/>\n      </g>\n     </g>\n    </g>\n    <g id=\"xtick_4\">\n     <g id=\"line2d_7\">\n      <path clip-path=\"url(#p56397b880e)\" d=\"M 268.046535 224.64 \nL 268.046535 7.2 \n\" style=\"fill:none;stroke:#b0b0b0;stroke-linecap:square;stroke-width:0.8;\"/>\n     </g>\n     <g id=\"line2d_8\">\n      <g>\n       <use style=\"stroke:#000000;stroke-width:0.8;\" x=\"268.046535\" xlink:href=\"#m42e074e936\" y=\"224.64\"/>\n      </g>\n     </g>\n     <g id=\"text_4\">\n      <!-- 55 -->\n      <g transform=\"translate(261.684035 239.238437)scale(0.1 -0.1)\">\n       <use xlink:href=\"#DejaVuSans-53\"/>\n       <use x=\"63.623047\" xlink:href=\"#DejaVuSans-53\"/>\n      </g>\n     </g>\n    </g>\n    <g id=\"xtick_5\">\n     <g id=\"line2d_9\">\n      <path clip-path=\"url(#p56397b880e)\" d=\"M 335.43784 224.64 \nL 335.43784 7.2 \n\" style=\"fill:none;stroke:#b0b0b0;stroke-linecap:square;stroke-width:0.8;\"/>\n     </g>\n     <g id=\"line2d_10\">\n      <g>\n       <use style=\"stroke:#000000;stroke-width:0.8;\" x=\"335.43784\" xlink:href=\"#m42e074e936\" y=\"224.64\"/>\n      </g>\n     </g>\n     <g id=\"text_5\">\n      <!-- 60 -->\n      <defs>\n       <path d=\"M 33.015625 40.375 \nQ 26.375 40.375 22.484375 35.828125 \nQ 18.609375 31.296875 18.609375 23.390625 \nQ 18.609375 15.53125 22.484375 10.953125 \nQ 26.375 6.390625 33.015625 6.390625 \nQ 39.65625 6.390625 43.53125 10.953125 \nQ 47.40625 15.53125 47.40625 23.390625 \nQ 47.40625 31.296875 43.53125 35.828125 \nQ 39.65625 40.375 33.015625 40.375 \nz\nM 52.59375 71.296875 \nL 52.59375 62.3125 \nQ 48.875 64.0625 45.09375 64.984375 \nQ 41.3125 65.921875 37.59375 65.921875 \nQ 27.828125 65.921875 22.671875 59.328125 \nQ 17.53125 52.734375 16.796875 39.40625 \nQ 19.671875 43.65625 24.015625 45.921875 \nQ 28.375 48.1875 33.59375 48.1875 \nQ 44.578125 48.1875 50.953125 41.515625 \nQ 57.328125 34.859375 57.328125 23.390625 \nQ 57.328125 12.15625 50.6875 5.359375 \nQ 44.046875 -1.421875 33.015625 -1.421875 \nQ 20.359375 -1.421875 13.671875 8.265625 \nQ 6.984375 17.96875 6.984375 36.375 \nQ 6.984375 53.65625 15.1875 63.9375 \nQ 23.390625 74.21875 37.203125 74.21875 \nQ 40.921875 74.21875 44.703125 73.484375 \nQ 48.484375 72.75 52.59375 71.296875 \nz\n\" id=\"DejaVuSans-54\"/>\n      </defs>\n      <g transform=\"translate(329.07534 239.238437)scale(0.1 -0.1)\">\n       <use xlink:href=\"#DejaVuSans-54\"/>\n       <use x=\"63.623047\" xlink:href=\"#DejaVuSans-48\"/>\n      </g>\n     </g>\n    </g>\n   </g>\n   <g id=\"matplotlib.axis_2\">\n    <g id=\"ytick_1\">\n     <g id=\"line2d_11\">\n      <path clip-path=\"url(#p56397b880e)\" d=\"M 28.942188 199.550964 \nL 363.742188 199.550964 \n\" style=\"fill:none;stroke:#b0b0b0;stroke-linecap:square;stroke-width:0.8;\"/>\n     </g>\n     <g id=\"line2d_12\">\n      <defs>\n       <path d=\"M 0 0 \nL -3.5 0 \n\" id=\"mf984c8641f\" style=\"stroke:#000000;stroke-width:0.8;\"/>\n      </defs>\n      <g>\n       <use style=\"stroke:#000000;stroke-width:0.8;\" x=\"28.942188\" xlink:href=\"#mf984c8641f\" y=\"199.550964\"/>\n      </g>\n     </g>\n     <g id=\"text_6\">\n      <!-- −4 -->\n      <defs>\n       <path d=\"M 10.59375 35.5 \nL 73.1875 35.5 \nL 73.1875 27.203125 \nL 10.59375 27.203125 \nz\n\" id=\"DejaVuSans-8722\"/>\n      </defs>\n      <g transform=\"translate(7.2 203.350183)scale(0.1 -0.1)\">\n       <use xlink:href=\"#DejaVuSans-8722\"/>\n       <use x=\"83.789062\" xlink:href=\"#DejaVuSans-52\"/>\n      </g>\n     </g>\n    </g>\n    <g id=\"ytick_2\">\n     <g id=\"line2d_13\">\n      <path clip-path=\"url(#p56397b880e)\" d=\"M 28.942188 159.002669 \nL 363.742188 159.002669 \n\" style=\"fill:none;stroke:#b0b0b0;stroke-linecap:square;stroke-width:0.8;\"/>\n     </g>\n     <g id=\"line2d_14\">\n      <g>\n       <use style=\"stroke:#000000;stroke-width:0.8;\" x=\"28.942188\" xlink:href=\"#mf984c8641f\" y=\"159.002669\"/>\n      </g>\n     </g>\n     <g id=\"text_7\">\n      <!-- −2 -->\n      <defs>\n       <path d=\"M 19.1875 8.296875 \nL 53.609375 8.296875 \nL 53.609375 0 \nL 7.328125 0 \nL 7.328125 8.296875 \nQ 12.9375 14.109375 22.625 23.890625 \nQ 32.328125 33.6875 34.8125 36.53125 \nQ 39.546875 41.84375 41.421875 45.53125 \nQ 43.3125 49.21875 43.3125 52.78125 \nQ 43.3125 58.59375 39.234375 62.25 \nQ 35.15625 65.921875 28.609375 65.921875 \nQ 23.96875 65.921875 18.8125 64.3125 \nQ 13.671875 62.703125 7.8125 59.421875 \nL 7.8125 69.390625 \nQ 13.765625 71.78125 18.9375 73 \nQ 24.125 74.21875 28.421875 74.21875 \nQ 39.75 74.21875 46.484375 68.546875 \nQ 53.21875 62.890625 53.21875 53.421875 \nQ 53.21875 48.921875 51.53125 44.890625 \nQ 49.859375 40.875 45.40625 35.40625 \nQ 44.1875 33.984375 37.640625 27.21875 \nQ 31.109375 20.453125 19.1875 8.296875 \nz\n\" id=\"DejaVuSans-50\"/>\n      </defs>\n      <g transform=\"translate(7.2 162.801888)scale(0.1 -0.1)\">\n       <use xlink:href=\"#DejaVuSans-8722\"/>\n       <use x=\"83.789062\" xlink:href=\"#DejaVuSans-50\"/>\n      </g>\n     </g>\n    </g>\n    <g id=\"ytick_3\">\n     <g id=\"line2d_15\">\n      <path clip-path=\"url(#p56397b880e)\" d=\"M 28.942188 118.454374 \nL 363.742188 118.454374 \n\" style=\"fill:none;stroke:#b0b0b0;stroke-linecap:square;stroke-width:0.8;\"/>\n     </g>\n     <g id=\"line2d_16\">\n      <g>\n       <use style=\"stroke:#000000;stroke-width:0.8;\" x=\"28.942188\" xlink:href=\"#mf984c8641f\" y=\"118.454374\"/>\n      </g>\n     </g>\n     <g id=\"text_8\">\n      <!-- 0 -->\n      <g transform=\"translate(15.579688 122.253593)scale(0.1 -0.1)\">\n       <use xlink:href=\"#DejaVuSans-48\"/>\n      </g>\n     </g>\n    </g>\n    <g id=\"ytick_4\">\n     <g id=\"line2d_17\">\n      <path clip-path=\"url(#p56397b880e)\" d=\"M 28.942188 77.906079 \nL 363.742188 77.906079 \n\" style=\"fill:none;stroke:#b0b0b0;stroke-linecap:square;stroke-width:0.8;\"/>\n     </g>\n     <g id=\"line2d_18\">\n      <g>\n       <use style=\"stroke:#000000;stroke-width:0.8;\" x=\"28.942188\" xlink:href=\"#mf984c8641f\" y=\"77.906079\"/>\n      </g>\n     </g>\n     <g id=\"text_9\">\n      <!-- 2 -->\n      <g transform=\"translate(15.579688 81.705298)scale(0.1 -0.1)\">\n       <use xlink:href=\"#DejaVuSans-50\"/>\n      </g>\n     </g>\n    </g>\n    <g id=\"ytick_5\">\n     <g id=\"line2d_19\">\n      <path clip-path=\"url(#p56397b880e)\" d=\"M 28.942188 37.357784 \nL 363.742188 37.357784 \n\" style=\"fill:none;stroke:#b0b0b0;stroke-linecap:square;stroke-width:0.8;\"/>\n     </g>\n     <g id=\"line2d_20\">\n      <g>\n       <use style=\"stroke:#000000;stroke-width:0.8;\" x=\"28.942188\" xlink:href=\"#mf984c8641f\" y=\"37.357784\"/>\n      </g>\n     </g>\n     <g id=\"text_10\">\n      <!-- 4 -->\n      <g transform=\"translate(15.579688 41.157003)scale(0.1 -0.1)\">\n       <use xlink:href=\"#DejaVuSans-52\"/>\n      </g>\n     </g>\n    </g>\n   </g>\n   <g id=\"line2d_21\">\n    <path clip-path=\"url(#p56397b880e)\" d=\"M 28.718839 31.339364 \nL 30.393955 28.969247 \nL 32.069072 26.989195 \nL 33.185817 25.928619 \nL 34.302561 25.126027 \nL 35.419306 24.691089 \nL 85.114436 24.691089 \nL 133.692821 103.664638 \nL 137.043055 108.571005 \nL 139.834916 112.269799 \nL 142.626777 115.56324 \nL 144.860266 117.858256 \nL 146.535383 119.341191 \nL 148.2105 120.564731 \nL 148.768872 120.899069 \nL 154.910967 120.899069 \nL 156.027711 119.716873 \nL 157.144456 118.223511 \nL 158.819572 115.567077 \nL 161.053061 111.451058 \nL 163.28655 106.847951 \nL 166.078412 100.591576 \nL 169.987017 91.190212 \nL 176.129112 75.662189 \nL 182.829579 58.830967 \nL 186.738185 49.597747 \nL 190.088418 42.302184 \nL 192.88028 36.818158 \nL 195.113769 32.923649 \nL 196.788885 30.349323 \nL 198.464002 28.126778 \nL 200.139119 26.325392 \nL 201.255863 25.412169 \nL 202.372608 24.805432 \nL 202.93098 24.68401 \nL 252.62611 24.68401 \nL 301.204496 103.654309 \nL 304.554729 108.550791 \nL 307.34659 112.239887 \nL 310.138452 115.521871 \nL 312.371941 117.80578 \nL 314.047057 119.278402 \nL 315.722174 120.488271 \nL 316.280546 120.816699 \nL 321.864269 120.816699 \nL 322.981013 119.866989 \nL 324.097758 118.524295 \nL 325.772875 116.031518 \nL 327.447991 113.118874 \nL 329.68148 108.749976 \nL 332.473342 102.709198 \nL 335.823575 94.862063 \nL 340.290553 83.782762 \nL 351.457998 55.788075 \nL 354.808232 48.023649 \nL 357.600093 42.018343 \nL 360.391954 36.567655 \nL 362.625443 32.704137 \nL 363.742188 30.968914 \nL 363.742188 30.968914 \n\" style=\"fill:none;stroke:#1f77b4;stroke-linecap:square;stroke-width:1.5;\"/>\n   </g>\n   <g id=\"line2d_22\">\n    <path clip-path=\"url(#p56397b880e)\" d=\"M 28.718839 22.155557 \nL 29.835583 22.206311 \nL 30.952328 22.426142 \nL 32.069072 22.814665 \nL 33.185817 23.371195 \nL 34.860933 24.518788 \nL 36.53605 26.037596 \nL 38.211167 27.921618 \nL 39.886284 30.163408 \nL 41.5614 32.754107 \nL 43.236517 35.683477 \nL 45.470006 40.09593 \nL 47.703495 45.058744 \nL 49.936984 50.537062 \nL 52.728845 58.050946 \nL 55.520707 66.227506 \nL 58.87094 76.787351 \nL 62.779546 89.926485 \nL 67.804896 107.679112 \nL 79.530713 149.477381 \nL 83.439319 162.471118 \nL 86.789552 172.866011 \nL 89.581414 180.878627 \nL 92.373275 188.206398 \nL 94.606764 193.521228 \nL 96.840253 198.308816 \nL 99.073742 202.535534 \nL 100.748859 205.319491 \nL 102.423975 207.760173 \nL 104.099092 209.847935 \nL 105.774209 211.574528 \nL 107.449326 212.933128 \nL 109.124442 213.918365 \nL 110.241187 214.365783 \nL 111.357931 214.644715 \nL 112.474676 214.754672 \nL 113.59142 214.695459 \nL 114.708165 214.467182 \nL 115.824909 214.070241 \nL 116.941654 213.505333 \nL 118.616771 212.345285 \nL 120.291887 210.814198 \nL 121.967004 208.918123 \nL 123.642121 206.664552 \nL 125.317238 204.062392 \nL 126.992354 201.121925 \nL 129.225843 196.695319 \nL 131.459332 191.719176 \nL 133.692821 186.228449 \nL 136.484682 178.700477 \nL 139.276544 170.511557 \nL 142.626777 159.939346 \nL 146.535383 146.78943 \nL 151.560733 129.029051 \nL 163.28655 87.240365 \nL 167.195156 74.258214 \nL 170.54539 63.876331 \nL 173.337251 55.876573 \nL 176.129112 48.563346 \nL 178.362601 43.261257 \nL 180.59609 38.487297 \nL 182.829579 34.274997 \nL 184.504696 31.502314 \nL 186.179813 29.073248 \nL 187.854929 26.997399 \nL 189.530046 25.282971 \nL 191.205163 23.936739 \nL 192.88028 22.964022 \nL 193.997024 22.525012 \nL 195.113769 22.254519 \nL 196.230513 22.153019 \nL 197.347258 22.22069 \nL 198.464002 22.457412 \nL 199.580747 22.862771 \nL 200.697491 23.436054 \nL 202.372608 24.608552 \nL 204.047725 26.15191 \nL 205.722841 28.060031 \nL 207.397958 30.325372 \nL 209.073075 32.938983 \nL 210.748192 35.890534 \nL 212.98168 40.331274 \nL 215.215169 45.320722 \nL 217.448658 50.823834 \nL 220.24052 58.36586 \nL 223.032381 66.567106 \nL 226.382614 77.151636 \nL 230.29122 90.312276 \nL 235.31657 108.080329 \nL 247.042388 149.859248 \nL 250.950993 162.829757 \nL 254.301227 173.198584 \nL 257.093088 181.185448 \nL 259.884949 188.4841 \nL 262.118438 193.773425 \nL 264.351927 198.533735 \nL 266.585416 202.731598 \nL 268.260533 205.492997 \nL 269.93565 207.910435 \nL 271.610767 209.974361 \nL 273.285883 211.676617 \nL 274.961 213.010477 \nL 276.636117 213.970669 \nL 277.752861 214.401269 \nL 278.869606 214.66332 \nL 279.98635 214.756364 \nL 281.103095 214.680235 \nL 282.219839 214.435068 \nL 283.336584 214.021294 \nL 284.453328 213.439639 \nL 286.128445 212.254697 \nL 287.803562 210.699073 \nL 289.478678 208.778916 \nL 291.153795 206.501813 \nL 292.828912 203.876764 \nL 294.504029 200.914142 \nL 296.737518 196.459288 \nL 298.971007 191.456555 \nL 301.204496 185.941082 \nL 303.996357 178.385035 \nL 306.788218 170.1715 \nL 310.138452 159.574697 \nL 314.047057 146.403392 \nL 319.072408 128.627742 \nL 330.239853 88.772148 \nL 334.148458 75.698916 \nL 337.498692 65.214235 \nL 340.290553 57.112595 \nL 343.082414 49.683924 \nL 345.315903 44.280564 \nL 347.549392 39.398174 \nL 349.782881 35.071046 \nL 352.01637 31.329572 \nL 353.691487 28.923771 \nL 355.366604 26.871777 \nL 357.041721 25.181701 \nL 358.716837 23.86022 \nL 360.391954 22.912557 \nL 361.508699 22.490369 \nL 362.625443 22.236759 \nL 363.742188 22.152173 \nL 363.742188 22.152173 \n\" style=\"fill:none;stroke:#ff7f0e;stroke-linecap:square;stroke-width:1.5;\"/>\n   </g>\n   <g id=\"line2d_23\">\n    <path clip-path=\"url(#p56397b880e)\" d=\"M 28.718839 77.906079 \nL 35.419306 77.906079 \nL 35.977678 118.454374 \nL 85.114436 118.454374 \nL 85.672808 98.180227 \nL 154.352594 98.180227 \nL 154.910967 77.906079 \nL 202.93098 77.906079 \nL 203.489352 118.454374 \nL 252.62611 118.454374 \nL 253.184482 98.180227 \nL 321.305897 98.180227 \nL 321.864269 77.906079 \nL 363.742188 77.906079 \nL 363.742188 77.906079 \n\" style=\"fill:none;stroke:#2ca02c;stroke-dasharray:13.5,1.5;stroke-dashoffset:0;stroke-width:1.5;\"/>\n   </g>\n   <g id=\"patch_3\">\n    <path d=\"M 28.942188 224.64 \nL 28.942188 7.2 \n\" style=\"fill:none;stroke:#000000;stroke-linecap:square;stroke-linejoin:miter;stroke-width:0.8;\"/>\n   </g>\n   <g id=\"patch_4\">\n    <path d=\"M 363.742188 224.64 \nL 363.742188 7.2 \n\" style=\"fill:none;stroke:#000000;stroke-linecap:square;stroke-linejoin:miter;stroke-width:0.8;\"/>\n   </g>\n   <g id=\"patch_5\">\n    <path d=\"M 28.942187 224.64 \nL 363.742188 224.64 \n\" style=\"fill:none;stroke:#000000;stroke-linecap:square;stroke-linejoin:miter;stroke-width:0.8;\"/>\n   </g>\n   <g id=\"patch_6\">\n    <path d=\"M 28.942187 7.2 \nL 363.742188 7.2 \n\" style=\"fill:none;stroke:#000000;stroke-linecap:square;stroke-linejoin:miter;stroke-width:0.8;\"/>\n   </g>\n   <g id=\"legend_1\">\n    <g id=\"patch_7\">\n     <path d=\"M 35.942188 219.64 \nL 89.017188 219.64 \nQ 91.017188 219.64 91.017188 217.64 \nL 91.017188 203.961875 \nQ 91.017188 201.961875 89.017188 201.961875 \nL 35.942188 201.961875 \nQ 33.942188 201.961875 33.942188 203.961875 \nL 33.942188 217.64 \nQ 33.942188 219.64 35.942188 219.64 \nz\n\" style=\"fill:#ffffff;opacity:0.8;stroke:#cccccc;stroke-linejoin:miter;\"/>\n    </g>\n    <g id=\"line2d_24\">\n     <path d=\"M 37.942188 210.060312 \nL 57.942188 210.060312 \n\" style=\"fill:none;stroke:#ff7f0e;stroke-linecap:square;stroke-width:1.5;\"/>\n    </g>\n    <g id=\"line2d_25\"/>\n    <g id=\"text_11\">\n     <!-- Tide -->\n     <defs>\n      <path d=\"M -0.296875 72.90625 \nL 61.375 72.90625 \nL 61.375 64.59375 \nL 35.5 64.59375 \nL 35.5 0 \nL 25.59375 0 \nL 25.59375 64.59375 \nL -0.296875 64.59375 \nz\n\" id=\"DejaVuSans-84\"/>\n      <path d=\"M 9.421875 54.6875 \nL 18.40625 54.6875 \nL 18.40625 0 \nL 9.421875 0 \nz\nM 9.421875 75.984375 \nL 18.40625 75.984375 \nL 18.40625 64.59375 \nL 9.421875 64.59375 \nz\n\" id=\"DejaVuSans-105\"/>\n      <path d=\"M 45.40625 46.390625 \nL 45.40625 75.984375 \nL 54.390625 75.984375 \nL 54.390625 0 \nL 45.40625 0 \nL 45.40625 8.203125 \nQ 42.578125 3.328125 38.25 0.953125 \nQ 33.9375 -1.421875 27.875 -1.421875 \nQ 17.96875 -1.421875 11.734375 6.484375 \nQ 5.515625 14.40625 5.515625 27.296875 \nQ 5.515625 40.1875 11.734375 48.09375 \nQ 17.96875 56 27.875 56 \nQ 33.9375 56 38.25 53.625 \nQ 42.578125 51.265625 45.40625 46.390625 \nz\nM 14.796875 27.296875 \nQ 14.796875 17.390625 18.875 11.75 \nQ 22.953125 6.109375 30.078125 6.109375 \nQ 37.203125 6.109375 41.296875 11.75 \nQ 45.40625 17.390625 45.40625 27.296875 \nQ 45.40625 37.203125 41.296875 42.84375 \nQ 37.203125 48.484375 30.078125 48.484375 \nQ 22.953125 48.484375 18.875 42.84375 \nQ 14.796875 37.203125 14.796875 27.296875 \nz\n\" id=\"DejaVuSans-100\"/>\n      <path d=\"M 56.203125 29.59375 \nL 56.203125 25.203125 \nL 14.890625 25.203125 \nQ 15.484375 15.921875 20.484375 11.0625 \nQ 25.484375 6.203125 34.421875 6.203125 \nQ 39.59375 6.203125 44.453125 7.46875 \nQ 49.3125 8.734375 54.109375 11.28125 \nL 54.109375 2.78125 \nQ 49.265625 0.734375 44.1875 -0.34375 \nQ 39.109375 -1.421875 33.890625 -1.421875 \nQ 20.796875 -1.421875 13.15625 6.1875 \nQ 5.515625 13.8125 5.515625 26.8125 \nQ 5.515625 40.234375 12.765625 48.109375 \nQ 20.015625 56 32.328125 56 \nQ 43.359375 56 49.78125 48.890625 \nQ 56.203125 41.796875 56.203125 29.59375 \nz\nM 47.21875 32.234375 \nQ 47.125 39.59375 43.09375 43.984375 \nQ 39.0625 48.390625 32.421875 48.390625 \nQ 24.90625 48.390625 20.390625 44.140625 \nQ 15.875 39.890625 15.1875 32.171875 \nz\n\" id=\"DejaVuSans-101\"/>\n     </defs>\n     <g transform=\"translate(65.942188 213.560312)scale(0.1 -0.1)\">\n      <use xlink:href=\"#DejaVuSans-84\"/>\n      <use x=\"57.958984\" xlink:href=\"#DejaVuSans-105\"/>\n      <use x=\"85.742188\" xlink:href=\"#DejaVuSans-100\"/>\n      <use x=\"149.21875\" xlink:href=\"#DejaVuSans-101\"/>\n     </g>\n    </g>\n   </g>\n  </g>\n </g>\n <defs>\n  <clipPath id=\"p56397b880e\">\n   <rect height=\"217.44\" width=\"334.8\" x=\"28.942188\" y=\"7.2\"/>\n  </clipPath>\n </defs>\n</svg>\n"
          },
          "metadata": {
            "tags": [],
            "needs_background": "light"
          }
        }
      ]
    },
    {
      "cell_type": "code",
      "metadata": {
        "colab": {
          "base_uri": "https://localhost:8080/",
          "height": 352
        },
        "id": "S7746p9HH9Qc",
        "outputId": "4c1b90c2-2fd0-42c6-b334-3ef7816a7554"
      },
      "source": [
        "mpl.plot( t_vec/3600, P_vec/1e6 )\n",
        "mpl.xlim( 3*Per/3600, 5*Per/3600 );"
      ],
      "execution_count": 45,
      "outputs": [
        {
          "output_type": "display_data",
          "data": {
            "text/plain": [
              "<Figure size 432x288 with 1 Axes>"
            ],
            "image/svg+xml": "<?xml version=\"1.0\" encoding=\"utf-8\" standalone=\"no\"?>\n<!DOCTYPE svg PUBLIC \"-//W3C//DTD SVG 1.1//EN\"\n  \"http://www.w3.org/Graphics/SVG/1.1/DTD/svg11.dtd\">\n<!-- Created with matplotlib (https://matplotlib.org/) -->\n<svg height=\"248.518125pt\" version=\"1.1\" viewBox=\"0 0 375.2875 248.518125\" width=\"375.2875pt\" xmlns=\"http://www.w3.org/2000/svg\" xmlns:xlink=\"http://www.w3.org/1999/xlink\">\n <defs>\n  <style type=\"text/css\">\n*{stroke-linecap:butt;stroke-linejoin:round;}\n  </style>\n </defs>\n <g id=\"figure_1\">\n  <g id=\"patch_1\">\n   <path d=\"M 0 248.518125 \nL 375.2875 248.518125 \nL 375.2875 0 \nL 0 0 \nz\n\" style=\"fill:none;\"/>\n  </g>\n  <g id=\"axes_1\">\n   <g id=\"patch_2\">\n    <path d=\"M 33.2875 224.64 \nL 368.0875 224.64 \nL 368.0875 7.2 \nL 33.2875 7.2 \nz\n\" style=\"fill:#ffffff;\"/>\n   </g>\n   <g id=\"matplotlib.axis_1\">\n    <g id=\"xtick_1\">\n     <g id=\"line2d_1\">\n      <defs>\n       <path d=\"M 0 0 \nL 0 3.5 \n\" id=\"md0b7629b1b\" style=\"stroke:#000000;stroke-width:0.8;\"/>\n      </defs>\n      <g>\n       <use style=\"stroke:#000000;stroke-width:0.8;\" x=\"70.217935\" xlink:href=\"#md0b7629b1b\" y=\"224.64\"/>\n      </g>\n     </g>\n     <g id=\"text_1\">\n      <!-- 40 -->\n      <defs>\n       <path d=\"M 37.796875 64.3125 \nL 12.890625 25.390625 \nL 37.796875 25.390625 \nz\nM 35.203125 72.90625 \nL 47.609375 72.90625 \nL 47.609375 25.390625 \nL 58.015625 25.390625 \nL 58.015625 17.1875 \nL 47.609375 17.1875 \nL 47.609375 0 \nL 37.796875 0 \nL 37.796875 17.1875 \nL 4.890625 17.1875 \nL 4.890625 26.703125 \nz\n\" id=\"DejaVuSans-52\"/>\n       <path d=\"M 31.78125 66.40625 \nQ 24.171875 66.40625 20.328125 58.90625 \nQ 16.5 51.421875 16.5 36.375 \nQ 16.5 21.390625 20.328125 13.890625 \nQ 24.171875 6.390625 31.78125 6.390625 \nQ 39.453125 6.390625 43.28125 13.890625 \nQ 47.125 21.390625 47.125 36.375 \nQ 47.125 51.421875 43.28125 58.90625 \nQ 39.453125 66.40625 31.78125 66.40625 \nz\nM 31.78125 74.21875 \nQ 44.046875 74.21875 50.515625 64.515625 \nQ 56.984375 54.828125 56.984375 36.375 \nQ 56.984375 17.96875 50.515625 8.265625 \nQ 44.046875 -1.421875 31.78125 -1.421875 \nQ 19.53125 -1.421875 13.0625 8.265625 \nQ 6.59375 17.96875 6.59375 36.375 \nQ 6.59375 54.828125 13.0625 64.515625 \nQ 19.53125 74.21875 31.78125 74.21875 \nz\n\" id=\"DejaVuSans-48\"/>\n      </defs>\n      <g transform=\"translate(63.855435 239.238438)scale(0.1 -0.1)\">\n       <use xlink:href=\"#DejaVuSans-52\"/>\n       <use x=\"63.623047\" xlink:href=\"#DejaVuSans-48\"/>\n      </g>\n     </g>\n    </g>\n    <g id=\"xtick_2\">\n     <g id=\"line2d_2\">\n      <g>\n       <use style=\"stroke:#000000;stroke-width:0.8;\" x=\"137.609239\" xlink:href=\"#md0b7629b1b\" y=\"224.64\"/>\n      </g>\n     </g>\n     <g id=\"text_2\">\n      <!-- 45 -->\n      <defs>\n       <path d=\"M 10.796875 72.90625 \nL 49.515625 72.90625 \nL 49.515625 64.59375 \nL 19.828125 64.59375 \nL 19.828125 46.734375 \nQ 21.96875 47.46875 24.109375 47.828125 \nQ 26.265625 48.1875 28.421875 48.1875 \nQ 40.625 48.1875 47.75 41.5 \nQ 54.890625 34.8125 54.890625 23.390625 \nQ 54.890625 11.625 47.5625 5.09375 \nQ 40.234375 -1.421875 26.90625 -1.421875 \nQ 22.3125 -1.421875 17.546875 -0.640625 \nQ 12.796875 0.140625 7.71875 1.703125 \nL 7.71875 11.625 \nQ 12.109375 9.234375 16.796875 8.0625 \nQ 21.484375 6.890625 26.703125 6.890625 \nQ 35.15625 6.890625 40.078125 11.328125 \nQ 45.015625 15.765625 45.015625 23.390625 \nQ 45.015625 31 40.078125 35.4375 \nQ 35.15625 39.890625 26.703125 39.890625 \nQ 22.75 39.890625 18.8125 39.015625 \nQ 14.890625 38.140625 10.796875 36.28125 \nz\n\" id=\"DejaVuSans-53\"/>\n      </defs>\n      <g transform=\"translate(131.246739 239.238438)scale(0.1 -0.1)\">\n       <use xlink:href=\"#DejaVuSans-52\"/>\n       <use x=\"63.623047\" xlink:href=\"#DejaVuSans-53\"/>\n      </g>\n     </g>\n    </g>\n    <g id=\"xtick_3\">\n     <g id=\"line2d_3\">\n      <g>\n       <use style=\"stroke:#000000;stroke-width:0.8;\" x=\"205.000543\" xlink:href=\"#md0b7629b1b\" y=\"224.64\"/>\n      </g>\n     </g>\n     <g id=\"text_3\">\n      <!-- 50 -->\n      <g transform=\"translate(198.638043 239.238438)scale(0.1 -0.1)\">\n       <use xlink:href=\"#DejaVuSans-53\"/>\n       <use x=\"63.623047\" xlink:href=\"#DejaVuSans-48\"/>\n      </g>\n     </g>\n    </g>\n    <g id=\"xtick_4\">\n     <g id=\"line2d_4\">\n      <g>\n       <use style=\"stroke:#000000;stroke-width:0.8;\" x=\"272.391848\" xlink:href=\"#md0b7629b1b\" y=\"224.64\"/>\n      </g>\n     </g>\n     <g id=\"text_4\">\n      <!-- 55 -->\n      <g transform=\"translate(266.029348 239.238438)scale(0.1 -0.1)\">\n       <use xlink:href=\"#DejaVuSans-53\"/>\n       <use x=\"63.623047\" xlink:href=\"#DejaVuSans-53\"/>\n      </g>\n     </g>\n    </g>\n    <g id=\"xtick_5\">\n     <g id=\"line2d_5\">\n      <g>\n       <use style=\"stroke:#000000;stroke-width:0.8;\" x=\"339.783152\" xlink:href=\"#md0b7629b1b\" y=\"224.64\"/>\n      </g>\n     </g>\n     <g id=\"text_5\">\n      <!-- 60 -->\n      <defs>\n       <path d=\"M 33.015625 40.375 \nQ 26.375 40.375 22.484375 35.828125 \nQ 18.609375 31.296875 18.609375 23.390625 \nQ 18.609375 15.53125 22.484375 10.953125 \nQ 26.375 6.390625 33.015625 6.390625 \nQ 39.65625 6.390625 43.53125 10.953125 \nQ 47.40625 15.53125 47.40625 23.390625 \nQ 47.40625 31.296875 43.53125 35.828125 \nQ 39.65625 40.375 33.015625 40.375 \nz\nM 52.59375 71.296875 \nL 52.59375 62.3125 \nQ 48.875 64.0625 45.09375 64.984375 \nQ 41.3125 65.921875 37.59375 65.921875 \nQ 27.828125 65.921875 22.671875 59.328125 \nQ 17.53125 52.734375 16.796875 39.40625 \nQ 19.671875 43.65625 24.015625 45.921875 \nQ 28.375 48.1875 33.59375 48.1875 \nQ 44.578125 48.1875 50.953125 41.515625 \nQ 57.328125 34.859375 57.328125 23.390625 \nQ 57.328125 12.15625 50.6875 5.359375 \nQ 44.046875 -1.421875 33.015625 -1.421875 \nQ 20.359375 -1.421875 13.671875 8.265625 \nQ 6.984375 17.96875 6.984375 36.375 \nQ 6.984375 53.65625 15.1875 63.9375 \nQ 23.390625 74.21875 37.203125 74.21875 \nQ 40.921875 74.21875 44.703125 73.484375 \nQ 48.484375 72.75 52.59375 71.296875 \nz\n\" id=\"DejaVuSans-54\"/>\n      </defs>\n      <g transform=\"translate(333.420652 239.238438)scale(0.1 -0.1)\">\n       <use xlink:href=\"#DejaVuSans-54\"/>\n       <use x=\"63.623047\" xlink:href=\"#DejaVuSans-48\"/>\n      </g>\n     </g>\n    </g>\n   </g>\n   <g id=\"matplotlib.axis_2\">\n    <g id=\"ytick_1\">\n     <g id=\"line2d_6\">\n      <defs>\n       <path d=\"M 0 0 \nL -3.5 0 \n\" id=\"m868fc5b463\" style=\"stroke:#000000;stroke-width:0.8;\"/>\n      </defs>\n      <g>\n       <use style=\"stroke:#000000;stroke-width:0.8;\" x=\"33.2875\" xlink:href=\"#m868fc5b463\" y=\"214.756364\"/>\n      </g>\n     </g>\n     <g id=\"text_6\">\n      <!-- 0 -->\n      <g transform=\"translate(19.925 218.555582)scale(0.1 -0.1)\">\n       <use xlink:href=\"#DejaVuSans-48\"/>\n      </g>\n     </g>\n    </g>\n    <g id=\"ytick_2\">\n     <g id=\"line2d_7\">\n      <g>\n       <use style=\"stroke:#000000;stroke-width:0.8;\" x=\"33.2875\" xlink:href=\"#m868fc5b463\" y=\"175.180083\"/>\n      </g>\n     </g>\n     <g id=\"text_7\">\n      <!-- 100 -->\n      <defs>\n       <path d=\"M 12.40625 8.296875 \nL 28.515625 8.296875 \nL 28.515625 63.921875 \nL 10.984375 60.40625 \nL 10.984375 69.390625 \nL 28.421875 72.90625 \nL 38.28125 72.90625 \nL 38.28125 8.296875 \nL 54.390625 8.296875 \nL 54.390625 0 \nL 12.40625 0 \nz\n\" id=\"DejaVuSans-49\"/>\n      </defs>\n      <g transform=\"translate(7.2 178.979302)scale(0.1 -0.1)\">\n       <use xlink:href=\"#DejaVuSans-49\"/>\n       <use x=\"63.623047\" xlink:href=\"#DejaVuSans-48\"/>\n       <use x=\"127.246094\" xlink:href=\"#DejaVuSans-48\"/>\n      </g>\n     </g>\n    </g>\n    <g id=\"ytick_3\">\n     <g id=\"line2d_8\">\n      <g>\n       <use style=\"stroke:#000000;stroke-width:0.8;\" x=\"33.2875\" xlink:href=\"#m868fc5b463\" y=\"135.603802\"/>\n      </g>\n     </g>\n     <g id=\"text_8\">\n      <!-- 200 -->\n      <defs>\n       <path d=\"M 19.1875 8.296875 \nL 53.609375 8.296875 \nL 53.609375 0 \nL 7.328125 0 \nL 7.328125 8.296875 \nQ 12.9375 14.109375 22.625 23.890625 \nQ 32.328125 33.6875 34.8125 36.53125 \nQ 39.546875 41.84375 41.421875 45.53125 \nQ 43.3125 49.21875 43.3125 52.78125 \nQ 43.3125 58.59375 39.234375 62.25 \nQ 35.15625 65.921875 28.609375 65.921875 \nQ 23.96875 65.921875 18.8125 64.3125 \nQ 13.671875 62.703125 7.8125 59.421875 \nL 7.8125 69.390625 \nQ 13.765625 71.78125 18.9375 73 \nQ 24.125 74.21875 28.421875 74.21875 \nQ 39.75 74.21875 46.484375 68.546875 \nQ 53.21875 62.890625 53.21875 53.421875 \nQ 53.21875 48.921875 51.53125 44.890625 \nQ 49.859375 40.875 45.40625 35.40625 \nQ 44.1875 33.984375 37.640625 27.21875 \nQ 31.109375 20.453125 19.1875 8.296875 \nz\n\" id=\"DejaVuSans-50\"/>\n      </defs>\n      <g transform=\"translate(7.2 139.403021)scale(0.1 -0.1)\">\n       <use xlink:href=\"#DejaVuSans-50\"/>\n       <use x=\"63.623047\" xlink:href=\"#DejaVuSans-48\"/>\n       <use x=\"127.246094\" xlink:href=\"#DejaVuSans-48\"/>\n      </g>\n     </g>\n    </g>\n    <g id=\"ytick_4\">\n     <g id=\"line2d_9\">\n      <g>\n       <use style=\"stroke:#000000;stroke-width:0.8;\" x=\"33.2875\" xlink:href=\"#m868fc5b463\" y=\"96.027522\"/>\n      </g>\n     </g>\n     <g id=\"text_9\">\n      <!-- 300 -->\n      <defs>\n       <path d=\"M 40.578125 39.3125 \nQ 47.65625 37.796875 51.625 33 \nQ 55.609375 28.21875 55.609375 21.1875 \nQ 55.609375 10.40625 48.1875 4.484375 \nQ 40.765625 -1.421875 27.09375 -1.421875 \nQ 22.515625 -1.421875 17.65625 -0.515625 \nQ 12.796875 0.390625 7.625 2.203125 \nL 7.625 11.71875 \nQ 11.71875 9.328125 16.59375 8.109375 \nQ 21.484375 6.890625 26.8125 6.890625 \nQ 36.078125 6.890625 40.9375 10.546875 \nQ 45.796875 14.203125 45.796875 21.1875 \nQ 45.796875 27.640625 41.28125 31.265625 \nQ 36.765625 34.90625 28.71875 34.90625 \nL 20.21875 34.90625 \nL 20.21875 43.015625 \nL 29.109375 43.015625 \nQ 36.375 43.015625 40.234375 45.921875 \nQ 44.09375 48.828125 44.09375 54.296875 \nQ 44.09375 59.90625 40.109375 62.90625 \nQ 36.140625 65.921875 28.71875 65.921875 \nQ 24.65625 65.921875 20.015625 65.03125 \nQ 15.375 64.15625 9.8125 62.3125 \nL 9.8125 71.09375 \nQ 15.4375 72.65625 20.34375 73.4375 \nQ 25.25 74.21875 29.59375 74.21875 \nQ 40.828125 74.21875 47.359375 69.109375 \nQ 53.90625 64.015625 53.90625 55.328125 \nQ 53.90625 49.265625 50.4375 45.09375 \nQ 46.96875 40.921875 40.578125 39.3125 \nz\n\" id=\"DejaVuSans-51\"/>\n      </defs>\n      <g transform=\"translate(7.2 99.82674)scale(0.1 -0.1)\">\n       <use xlink:href=\"#DejaVuSans-51\"/>\n       <use x=\"63.623047\" xlink:href=\"#DejaVuSans-48\"/>\n       <use x=\"127.246094\" xlink:href=\"#DejaVuSans-48\"/>\n      </g>\n     </g>\n    </g>\n    <g id=\"ytick_5\">\n     <g id=\"line2d_10\">\n      <g>\n       <use style=\"stroke:#000000;stroke-width:0.8;\" x=\"33.2875\" xlink:href=\"#m868fc5b463\" y=\"56.451241\"/>\n      </g>\n     </g>\n     <g id=\"text_10\">\n      <!-- 400 -->\n      <g transform=\"translate(7.2 60.25046)scale(0.1 -0.1)\">\n       <use xlink:href=\"#DejaVuSans-52\"/>\n       <use x=\"63.623047\" xlink:href=\"#DejaVuSans-48\"/>\n       <use x=\"127.246094\" xlink:href=\"#DejaVuSans-48\"/>\n      </g>\n     </g>\n    </g>\n    <g id=\"ytick_6\">\n     <g id=\"line2d_11\">\n      <g>\n       <use style=\"stroke:#000000;stroke-width:0.8;\" x=\"33.2875\" xlink:href=\"#m868fc5b463\" y=\"16.87496\"/>\n      </g>\n     </g>\n     <g id=\"text_11\">\n      <!-- 500 -->\n      <g transform=\"translate(7.2 20.674179)scale(0.1 -0.1)\">\n       <use xlink:href=\"#DejaVuSans-53\"/>\n       <use x=\"63.623047\" xlink:href=\"#DejaVuSans-48\"/>\n       <use x=\"127.246094\" xlink:href=\"#DejaVuSans-48\"/>\n      </g>\n     </g>\n    </g>\n   </g>\n   <g id=\"line2d_12\">\n    <path clip-path=\"url(#p935be19745)\" d=\"M 33.064151 214.756364 \nL 89.459748 214.756364 \nL 90.01812 40.183837 \nL 92.251609 35.486148 \nL 94.485098 31.404659 \nL 96.160215 28.783371 \nL 97.835332 26.565093 \nL 99.510449 24.771862 \nL 100.627193 23.822813 \nL 101.743938 23.077748 \nL 102.860682 22.542235 \nL 103.977427 22.221578 \nL 105.094171 22.120825 \nL 106.210916 22.244757 \nL 107.32766 22.597899 \nL 108.444405 23.184515 \nL 109.561149 24.008614 \nL 110.677894 25.073951 \nL 111.794638 26.384033 \nL 112.911383 27.942122 \nL 114.586499 30.75083 \nL 116.261616 34.133574 \nL 117.936733 38.098537 \nL 119.61185 42.652926 \nL 121.286966 47.80309 \nL 122.962083 53.554679 \nL 125.195572 62.167867 \nL 127.429061 71.870984 \nL 129.66255 82.676187 \nL 131.896039 94.598045 \nL 134.129528 107.656171 \nL 136.921389 125.544511 \nL 141.388367 154.082579 \nL 144.738601 174.117547 \nL 147.530462 189.4208 \nL 149.763951 200.463888 \nL 151.439068 207.819799 \nL 152.555812 212.079498 \nL 153.114184 213.914438 \nL 153.672557 214.756364 \nL 256.971423 214.756364 \nL 257.529795 39.649302 \nL 259.763284 34.982551 \nL 261.438401 31.885452 \nL 263.113517 29.161511 \nL 264.788634 26.834369 \nL 266.463751 24.926405 \nL 268.138868 23.458712 \nL 269.255612 22.734673 \nL 270.372357 22.220674 \nL 271.489101 21.921993 \nL 272.605846 21.843649 \nL 273.72259 21.990398 \nL 274.839335 22.366737 \nL 275.956079 22.976904 \nL 277.072824 23.82488 \nL 278.189568 24.914393 \nL 279.306313 26.248924 \nL 280.423057 27.831709 \nL 282.098174 30.677866 \nL 283.773291 34.098471 \nL 285.448407 38.101627 \nL 287.123524 42.694463 \nL 288.798641 47.883261 \nL 290.473758 53.67361 \nL 292.707246 62.338585 \nL 294.940735 72.093538 \nL 297.174224 82.950596 \nL 299.407713 94.924378 \nL 301.641202 108.034657 \nL 304.433064 125.972987 \nL 308.900042 154.516544 \nL 312.250275 174.533025 \nL 315.042136 189.806061 \nL 317.275625 200.813046 \nL 318.950742 208.128155 \nL 320.067487 212.343523 \nL 320.625859 214.14449 \nL 321.184231 214.756364 \nL 368.0875 214.756364 \nL 368.0875 214.756364 \n\" style=\"fill:none;stroke:#1f77b4;stroke-linecap:square;stroke-width:1.5;\"/>\n   </g>\n   <g id=\"patch_3\">\n    <path d=\"M 33.2875 224.64 \nL 33.2875 7.2 \n\" style=\"fill:none;stroke:#000000;stroke-linecap:square;stroke-linejoin:miter;stroke-width:0.8;\"/>\n   </g>\n   <g id=\"patch_4\">\n    <path d=\"M 368.0875 224.64 \nL 368.0875 7.2 \n\" style=\"fill:none;stroke:#000000;stroke-linecap:square;stroke-linejoin:miter;stroke-width:0.8;\"/>\n   </g>\n   <g id=\"patch_5\">\n    <path d=\"M 33.2875 224.64 \nL 368.0875 224.64 \n\" style=\"fill:none;stroke:#000000;stroke-linecap:square;stroke-linejoin:miter;stroke-width:0.8;\"/>\n   </g>\n   <g id=\"patch_6\">\n    <path d=\"M 33.2875 7.2 \nL 368.0875 7.2 \n\" style=\"fill:none;stroke:#000000;stroke-linecap:square;stroke-linejoin:miter;stroke-width:0.8;\"/>\n   </g>\n  </g>\n </g>\n <defs>\n  <clipPath id=\"p935be19745\">\n   <rect height=\"217.44\" width=\"334.8\" x=\"33.2875\" y=\"7.2\"/>\n  </clipPath>\n </defs>\n</svg>\n"
          },
          "metadata": {
            "tags": [],
            "needs_background": "light"
          }
        }
      ]
    },
    {
      "cell_type": "code",
      "metadata": {
        "id": "kDF3b5JjH9Qe"
      },
      "source": [
        ""
      ],
      "execution_count": null,
      "outputs": []
    },
    {
      "cell_type": "code",
      "metadata": {
        "id": "ZwGxcDeQH9Qg"
      },
      "source": [
        ""
      ],
      "execution_count": null,
      "outputs": []
    }
  ]
}